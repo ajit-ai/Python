{
 "cells": [
  {
   "cell_type": "code",
   "execution_count": 1,
   "id": "b1180edf",
   "metadata": {},
   "outputs": [
    {
     "name": "stdout",
     "output_type": "stream",
     "text": [
      "Requirement already satisfied: mysql-connector-python in c:\\users\\ajitj\\appdata\\local\\programs\\python\\python312\\lib\\site-packages (9.0.0)\n",
      "Note: you may need to restart the kernel to use updated packages.\n",
      "Requirement already satisfied: mysqlclient in c:\\users\\ajitj\\appdata\\local\\programs\\python\\python312\\lib\\site-packages (2.2.7)\n",
      "Note: you may need to restart the kernel to use updated packages.\n"
     ]
    }
   ],
   "source": [
    "%pip install mysql-connector-python\n",
    "%pip install mysqlclient"
   ]
  },
  {
   "cell_type": "code",
   "execution_count": 4,
   "id": "d6a62e83",
   "metadata": {},
   "outputs": [
    {
     "name": "stdout",
     "output_type": "stream",
     "text": [
      "Column names: ['id', 'first_name', 'last_name', 'start_date', 'end_date', 'salary', 'city', 'description']\n",
      "\n",
      "Records:\n",
      "(1, 'Jason', 'Martin', datetime.date(1996, 7, 25), datetime.date(2006, 7, 25), 1234.56, 'Toronto', 'Programmer')\n",
      "(2, 'Alison', 'Mathews', datetime.date(1976, 3, 21), datetime.date(1986, 2, 21), 6661.78, 'Vancouver', 'Tester')\n",
      "(3, 'James', 'Smith', datetime.date(1978, 12, 12), datetime.date(1990, 3, 15), 6544.78, 'Vancouver', 'Tester')\n",
      "(4, 'Celia', 'Rice', datetime.date(1982, 10, 24), datetime.date(1999, 4, 21), 2344.78, 'Vancouver', 'Manager')\n",
      "(5, 'Robert', 'Black', datetime.date(1984, 1, 15), datetime.date(1998, 8, 8), 2334.78, 'Vancouver', 'Tester')\n",
      "(6, 'Linda', 'Green', datetime.date(1987, 7, 30), datetime.date(1996, 1, 4), 4322.78, 'New York', 'Tester')\n",
      "(7, 'David', 'Larry', datetime.date(1990, 12, 31), datetime.date(1998, 2, 12), 7897.78, 'New York', 'Manager')\n",
      "(8, 'James', 'Cat', datetime.date(1996, 9, 17), datetime.date(2002, 4, 15), 1232.78, 'Vancouver', 'Tester')\n",
      "\n",
      "MySQL connection is closed\n"
     ]
    }
   ],
   "source": [
    "# First, install the mysql-connector-python package if not already installed\n",
    "# !pip install mysql-connector-python\n",
    "\n",
    "import mysql.connector\n",
    "\n",
    "try:\n",
    "    # Connecting to MySQL 8 database\n",
    "    mydb = mysql.connector.connect(\n",
    "        host='localhost',\n",
    "        database='emp',  # Replace with your actual database name\n",
    "        user='root',                    # Replace with your MySQL username\n",
    "        password='mysql',       # Replace with your MySQL password\n",
    "        auth_plugin='mysql_native_password'  # Specific for MySQL 8  //mysql_native_password //caching_sha2_password\n",
    "    )\n",
    "    \n",
    "    # Create a cursor object\n",
    "    cursor = mydb.cursor()\n",
    "    \n",
    "    # Execute a simple SELECT query\n",
    "    query = \"SELECT * FROM employee\"  # Replace with your actual table name\n",
    "    cursor.execute(query)\n",
    "    \n",
    "    # Fetch and print all records\n",
    "    records = cursor.fetchall()\n",
    "    \n",
    "    # Print column names\n",
    "    column_names = [i[0] for i in cursor.description]\n",
    "    print(\"Column names:\", column_names)\n",
    "    \n",
    "    # Print each record\n",
    "    print(\"\\nRecords:\")\n",
    "    for record in records:\n",
    "        print(record)\n",
    "    \n",
    "except mysql.connector.Error as error:\n",
    "    print(f\"Error connecting to MySQL: {error}\")\n",
    "    \n",
    "finally:\n",
    "    # Close the connection\n",
    "    if 'mydb' in locals() and mydb.is_connected():\n",
    "        cursor.close()\n",
    "        mydb.close()\n",
    "        print(\"\\nMySQL connection is closed\")"
   ]
  }
 ],
 "metadata": {
  "kernelspec": {
   "display_name": "Python 3",
   "language": "python",
   "name": "python3"
  },
  "language_info": {
   "codemirror_mode": {
    "name": "ipython",
    "version": 3
   },
   "file_extension": ".py",
   "mimetype": "text/x-python",
   "name": "python",
   "nbconvert_exporter": "python",
   "pygments_lexer": "ipython3",
   "version": "3.12.4"
  }
 },
 "nbformat": 4,
 "nbformat_minor": 5
}
