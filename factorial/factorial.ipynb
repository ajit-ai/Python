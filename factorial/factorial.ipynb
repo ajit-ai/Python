{
 "cells": [
  {
   "cell_type": "code",
   "execution_count": 1,
   "id": "8b2b324c",
   "metadata": {},
   "outputs": [
    {
     "name": "stdout",
     "output_type": "stream",
     "text": [
      "120\n"
     ]
    }
   ],
   "source": [
    "#Using a loop into function to calculate factorial\n",
    "\n",
    "def factorial_for(n):\n",
    "    result = 1\n",
    "    for i in range(2, n + 1):\n",
    "        result *= i\n",
    "    return result\n",
    "\n",
    "print(factorial_for(5))  # Output: 120"
   ]
  },
  {
   "cell_type": "code",
   "execution_count": 2,
   "id": "fb328285",
   "metadata": {},
   "outputs": [],
   "source": [
    "#Using recursion to calculate factorial\n",
    "def factorial_recursive(n):\n",
    "    if n == 0 or n == 1:\n",
    "        return 1\n",
    "    else:\n",
    "        return n * factorial_recursive(n - 1)"
   ]
  },
  {
   "cell_type": "code",
   "execution_count": 3,
   "id": "28b7e61e",
   "metadata": {},
   "outputs": [
    {
     "name": "stdout",
     "output_type": "stream",
     "text": [
      "120\n"
     ]
    }
   ],
   "source": [
    "#Using math module to calculate factorial\n",
    "import math\n",
    "\n",
    "print(math.factorial(5))  # Output: 120\n"
   ]
  },
  {
   "cell_type": "code",
   "execution_count": 4,
   "id": "09b19373",
   "metadata": {},
   "outputs": [
    {
     "name": "stdout",
     "output_type": "stream",
     "text": [
      "120\n"
     ]
    }
   ],
   "source": [
    "#Using reduce and lambda to calculate factorial\n",
    "\n",
    "from functools import reduce\n",
    "\n",
    "def factorial_reduce(n):\n",
    "    return reduce(lambda x, y: x * y, range(1, n + 1), 1)\n",
    "\n",
    "print(factorial_reduce(5))  # Output: 120"
   ]
  },
  {
   "cell_type": "code",
   "execution_count": 5,
   "id": "51ed97c8",
   "metadata": {},
   "outputs": [
    {
     "name": "stdout",
     "output_type": "stream",
     "text": [
      "120\n",
      "120\n",
      "120\n",
      "120\n",
      "120\n",
      "120\n",
      "120\n",
      "120\n",
      "120\n",
      "120\n"
     ]
    }
   ],
   "source": [
    "# 1. Using a for loop\n",
    "def factorial_for(n):\n",
    "    result = 1\n",
    "    for i in range(2, n + 1):\n",
    "        result *= i\n",
    "    return result\n",
    "\n",
    "# 2. Using recursion\n",
    "def factorial_recursive(n):\n",
    "    if n == 0 or n == 1:\n",
    "        return 1\n",
    "    return n * factorial_recursive(n - 1)\n",
    "\n",
    "# 3. Using the math module\n",
    "import math\n",
    "def factorial_math(n):\n",
    "    return math.factorial(n)\n",
    "\n",
    "# 4. Using reduce and lambda\n",
    "from functools import reduce\n",
    "def factorial_reduce(n):\n",
    "    return reduce(lambda x, y: x * y, range(1, n + 1), 1)\n",
    "\n",
    "# 5. Using while loop\n",
    "def factorial_while(n):\n",
    "    result = 1\n",
    "    while n > 1:\n",
    "        result *= n\n",
    "        n -= 1\n",
    "    return result\n",
    "\n",
    "# 6. Using list comprehension and reduce\n",
    "def factorial_listcomp(n):\n",
    "    return reduce(lambda x, y: x * y, [i for i in range(1, n + 1)], 1)\n",
    "\n",
    "# 7. Using numpy.prod\n",
    "import numpy as np\n",
    "def factorial_numpy(n):\n",
    "    return np.prod(np.arange(1, n + 1))\n",
    "\n",
    "# 8. Using operator.mul and reduce\n",
    "import operator\n",
    "def factorial_operator(n):\n",
    "    return reduce(operator.mul, range(1, n + 1), 1)\n",
    "\n",
    "# 9. Using a generator function\n",
    "def factorial_generator(n):\n",
    "    def gen():\n",
    "        for i in range(1, n + 1):\n",
    "            yield i\n",
    "    result = 1\n",
    "    for num in gen():\n",
    "        result *= num\n",
    "    return result\n",
    "\n",
    "# 10. Using memoization (caching)\n",
    "from functools import lru_cache\n",
    "@lru_cache(maxsize=None)\n",
    "def factorial_memo(n):\n",
    "    if n == 0 or n == 1:\n",
    "        return 1\n",
    "    return n * factorial_memo(n - 1)\n",
    "\n",
    "# Example usage:\n",
    "n = 5\n",
    "print(factorial_for(n))\n",
    "print(factorial_recursive(n))\n",
    "print(factorial_math(n))\n",
    "print(factorial_reduce(n))\n",
    "print(factorial_while(n))\n",
    "print(factorial_listcomp(n))\n",
    "print(factorial_numpy(n))\n",
    "print(factorial_operator(n))\n",
    "print(factorial_generator(n))\n",
    "print(factorial_memo(n))"
   ]
  },
  {
   "cell_type": "code",
   "execution_count": 5,
   "id": "2e47f4a0",
   "metadata": {},
   "outputs": [
    {
     "name": "stdout",
     "output_type": "stream",
     "text": [
      "Not Weird\n"
     ]
    }
   ],
   "source": [
    "#!/bin/python3\n",
    "\n",
    "import math\n",
    "import os\n",
    "import random\n",
    "import re\n",
    "import sys\n",
    "\n",
    "if __name__ == '__main__':\n",
    "    n = int(input().strip())\n",
    "    \n",
    "    if n % 2 == 1:\n",
    "        print(\"Weird\")\n",
    "    elif n % 2 == 0 and 2 <= n <= 5:\n",
    "        print(\"Not Weird\")\n",
    "    elif n % 2 == 0 and 6 <= n <= 20:\n",
    "        print(\"Weird\")\n",
    "    elif n % 2 == 0 and n > 20:\n",
    "        print(\"Not Weird\")"
   ]
  }
 ],
 "metadata": {
  "kernelspec": {
   "display_name": "Python 3",
   "language": "python",
   "name": "python3"
  },
  "language_info": {
   "codemirror_mode": {
    "name": "ipython",
    "version": 3
   },
   "file_extension": ".py",
   "mimetype": "text/x-python",
   "name": "python",
   "nbconvert_exporter": "python",
   "pygments_lexer": "ipython3",
   "version": "3.12.4"
  }
 },
 "nbformat": 4,
 "nbformat_minor": 5
}
