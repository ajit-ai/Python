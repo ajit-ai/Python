{
 "cells": [
  {
   "cell_type": "code",
   "execution_count": 1,
   "id": "470f4f77",
   "metadata": {},
   "outputs": [],
   "source": [
    "# importing re module\n",
    "import re"
   ]
  },
  {
   "cell_type": "code",
   "execution_count": 2,
   "id": "a6994ed8",
   "metadata": {},
   "outputs": [
    {
     "name": "stdout",
     "output_type": "stream",
     "text": [
      "Start Index: 34\n",
      "End Index: 40\n"
     ]
    }
   ],
   "source": [
    "import re\n",
    "\n",
    "s = 'GeeksforGeeks: A computer science portal for geeks'\n",
    "\n",
    "match = re.search(r'portal', s)\n",
    "\n",
    "print('Start Index:', match.start())\n",
    "print('End Index:', match.end())"
   ]
  },
  {
   "cell_type": "code",
   "execution_count": 3,
   "id": "88a7b614",
   "metadata": {},
   "outputs": [
    {
     "name": "stdout",
     "output_type": "stream",
     "text": [
      "['123456789', '987654321']\n"
     ]
    },
    {
     "name": "stderr",
     "output_type": "stream",
     "text": [
      "<>:4: SyntaxWarning: invalid escape sequence '\\d'\n",
      "<>:4: SyntaxWarning: invalid escape sequence '\\d'\n",
      "C:\\Users\\ajitj\\AppData\\Local\\Temp\\ipykernel_12612\\1919262441.py:4: SyntaxWarning: invalid escape sequence '\\d'\n",
      "  regex = '\\d+'\n"
     ]
    }
   ],
   "source": [
    "import re\n",
    "string = \"\"\"Hello my Number is 123456789 and\n",
    "            my friend's number is 987654321\"\"\"\n",
    "regex = '\\d+'\n",
    "\n",
    "match = re.findall(regex, string)\n",
    "print(match)"
   ]
  },
  {
   "cell_type": "code",
   "execution_count": 4,
   "id": "e555f634",
   "metadata": {},
   "outputs": [
    {
     "name": "stdout",
     "output_type": "stream",
     "text": [
      "['e', 'a', 'd', 'b', 'e', 'a']\n"
     ]
    }
   ],
   "source": [
    "import re\n",
    "p = re.compile('[a-e]')\n",
    "\n",
    "print(p.findall(\"Aye, said Mr. Gibenson Stark\"))"
   ]
  },
  {
   "cell_type": "code",
   "execution_count": 5,
   "id": "f4fee526",
   "metadata": {},
   "outputs": [
    {
     "name": "stdout",
     "output_type": "stream",
     "text": [
      "['1', '1', '4', '1', '8', '8', '6']\n",
      "['11', '4', '1886']\n"
     ]
    },
    {
     "name": "stderr",
     "output_type": "stream",
     "text": [
      "<>:2: SyntaxWarning: invalid escape sequence '\\d'\n",
      "<>:5: SyntaxWarning: invalid escape sequence '\\d'\n",
      "<>:2: SyntaxWarning: invalid escape sequence '\\d'\n",
      "<>:5: SyntaxWarning: invalid escape sequence '\\d'\n",
      "C:\\Users\\ajitj\\AppData\\Local\\Temp\\ipykernel_12612\\2543978207.py:2: SyntaxWarning: invalid escape sequence '\\d'\n",
      "  p = re.compile('\\d')\n",
      "C:\\Users\\ajitj\\AppData\\Local\\Temp\\ipykernel_12612\\2543978207.py:5: SyntaxWarning: invalid escape sequence '\\d'\n",
      "  p = re.compile('\\d+')\n"
     ]
    }
   ],
   "source": [
    "import re\n",
    "p = re.compile('\\d')\n",
    "print(p.findall(\"I went to him at 11 A.M. on 4th July 1886\"))\n",
    "\n",
    "p = re.compile('\\d+')\n",
    "print(p.findall(\"I went to him at 11 A.M. on 4th July 1886\"))"
   ]
  },
  {
   "cell_type": "code",
   "execution_count": 6,
   "id": "aa164042",
   "metadata": {},
   "outputs": [
    {
     "name": "stdout",
     "output_type": "stream",
     "text": [
      "['H', 'e', 's', 'a', 'i', 'd', 'i', 'n', 's', 'o', 'm', 'e', '_', 'l', 'a', 'n', 'g']\n",
      "['I', 'went', 'to', 'him', 'at', '11', 'A', 'M', 'he', 'said', 'in', 'some_language']\n",
      "[' ', ' ', '*', '*', '*', ' ', ' ', '.']\n"
     ]
    },
    {
     "name": "stderr",
     "output_type": "stream",
     "text": [
      "<>:3: SyntaxWarning: invalid escape sequence '\\w'\n",
      "<>:6: SyntaxWarning: invalid escape sequence '\\w'\n",
      "<>:10: SyntaxWarning: invalid escape sequence '\\W'\n",
      "<>:3: SyntaxWarning: invalid escape sequence '\\w'\n",
      "<>:6: SyntaxWarning: invalid escape sequence '\\w'\n",
      "<>:10: SyntaxWarning: invalid escape sequence '\\W'\n",
      "C:\\Users\\ajitj\\AppData\\Local\\Temp\\ipykernel_12612\\928066281.py:3: SyntaxWarning: invalid escape sequence '\\w'\n",
      "  p = re.compile('\\w')\n",
      "C:\\Users\\ajitj\\AppData\\Local\\Temp\\ipykernel_12612\\928066281.py:6: SyntaxWarning: invalid escape sequence '\\w'\n",
      "  p = re.compile('\\w+')\n",
      "C:\\Users\\ajitj\\AppData\\Local\\Temp\\ipykernel_12612\\928066281.py:10: SyntaxWarning: invalid escape sequence '\\W'\n",
      "  p = re.compile('\\W')\n"
     ]
    }
   ],
   "source": [
    "import re\n",
    "\n",
    "p = re.compile('\\w')\n",
    "print(p.findall(\"He said * in some_lang.\"))\n",
    "\n",
    "p = re.compile('\\w+')\n",
    "print(p.findall(\"I went to him at 11 A.M., he \\\n",
    "said *** in some_language.\"))\n",
    "\n",
    "p = re.compile('\\W')\n",
    "print(p.findall(\"he said *** in some_language.\"))"
   ]
  },
  {
   "cell_type": "code",
   "execution_count": 7,
   "id": "d5f209a1",
   "metadata": {},
   "outputs": [
    {
     "name": "stdout",
     "output_type": "stream",
     "text": [
      "['ab', 'abb', 'a', 'abbb']\n"
     ]
    }
   ],
   "source": [
    "import re\n",
    "p = re.compile('ab*')\n",
    "print(p.findall(\"ababbaabbb\"))"
   ]
  },
  {
   "cell_type": "code",
   "execution_count": 8,
   "id": "46571211",
   "metadata": {},
   "outputs": [
    {
     "name": "stdout",
     "output_type": "stream",
     "text": [
      "['Words', 'words', 'Words']\n",
      "['Word', 's', 'words', 'Words']\n",
      "['On', '12th', 'Jan', '2016', 'at', '11', '02', 'AM']\n",
      "['On ', 'th Jan ', ', at ', ':', ' AM']\n"
     ]
    },
    {
     "name": "stderr",
     "output_type": "stream",
     "text": [
      "<>:3: SyntaxWarning: invalid escape sequence '\\W'\n",
      "<>:4: SyntaxWarning: invalid escape sequence '\\W'\n",
      "<>:5: SyntaxWarning: invalid escape sequence '\\W'\n",
      "<>:6: SyntaxWarning: invalid escape sequence '\\d'\n",
      "<>:3: SyntaxWarning: invalid escape sequence '\\W'\n",
      "<>:4: SyntaxWarning: invalid escape sequence '\\W'\n",
      "<>:5: SyntaxWarning: invalid escape sequence '\\W'\n",
      "<>:6: SyntaxWarning: invalid escape sequence '\\d'\n",
      "C:\\Users\\ajitj\\AppData\\Local\\Temp\\ipykernel_12612\\3103990465.py:3: SyntaxWarning: invalid escape sequence '\\W'\n",
      "  print(split('\\W+', 'Words, words , Words'))\n",
      "C:\\Users\\ajitj\\AppData\\Local\\Temp\\ipykernel_12612\\3103990465.py:4: SyntaxWarning: invalid escape sequence '\\W'\n",
      "  print(split('\\W+', \"Word's words Words\"))\n",
      "C:\\Users\\ajitj\\AppData\\Local\\Temp\\ipykernel_12612\\3103990465.py:5: SyntaxWarning: invalid escape sequence '\\W'\n",
      "  print(split('\\W+', 'On 12th Jan 2016, at 11:02 AM'))\n",
      "C:\\Users\\ajitj\\AppData\\Local\\Temp\\ipykernel_12612\\3103990465.py:6: SyntaxWarning: invalid escape sequence '\\d'\n",
      "  print(split('\\d+', 'On 12th Jan 2016, at 11:02 AM'))\n"
     ]
    }
   ],
   "source": [
    "from re import split\n",
    "\n",
    "print(split('\\W+', 'Words, words , Words'))\n",
    "print(split('\\W+', \"Word's words Words\"))\n",
    "print(split('\\W+', 'On 12th Jan 2016, at 11:02 AM'))\n",
    "print(split('\\d+', 'On 12th Jan 2016, at 11:02 AM'))"
   ]
  },
  {
   "cell_type": "code",
   "execution_count": 9,
   "id": "952adf87",
   "metadata": {},
   "outputs": [
    {
     "name": "stdout",
     "output_type": "stream",
     "text": [
      "['On ', 'th Jan 2016, at 11:02 AM']\n",
      "['', 'y, ', 'oy oh ', 'oy, ', 'om', ' h', 'r', '']\n",
      "['A', 'y, Boy oh ', 'oy, ', 'om', ' h', 'r', '']\n"
     ]
    },
    {
     "name": "stderr",
     "output_type": "stream",
     "text": [
      "<>:2: SyntaxWarning: invalid escape sequence '\\d'\n",
      "<>:2: SyntaxWarning: invalid escape sequence '\\d'\n",
      "C:\\Users\\ajitj\\AppData\\Local\\Temp\\ipykernel_12612\\3080395625.py:2: SyntaxWarning: invalid escape sequence '\\d'\n",
      "  print(re.split('\\d+', 'On 12th Jan 2016, at 11:02 AM', 1))\n"
     ]
    }
   ],
   "source": [
    "import re\n",
    "print(re.split('\\d+', 'On 12th Jan 2016, at 11:02 AM', 1))\n",
    "print(re.split('[a-f]+', 'Aey, Boy oh boy, come here', flags=re.IGNORECASE))\n",
    "print(re.split('[a-f]+', 'Aey, Boy oh boy, come here'))"
   ]
  },
  {
   "cell_type": "code",
   "execution_count": 10,
   "id": "c2798981",
   "metadata": {},
   "outputs": [
    {
     "name": "stdout",
     "output_type": "stream",
     "text": [
      "S~*ject has ~*er booked already\n",
      "S~*ject has Uber booked already\n",
      "S~*ject has Uber booked already\n",
      "Baked Beans & Spam\n"
     ]
    }
   ],
   "source": [
    "import re\n",
    "\n",
    "# Case-insensitive replacement of all 'ub'\n",
    "print(re.sub('ub', '~*', 'Subject has Uber booked already', flags=re.IGNORECASE))\n",
    "\n",
    "# Case-sensitive replacement of all 'ub'\n",
    "print(re.sub('ub', '~*', 'Subject has Uber booked already'))\n",
    "\n",
    "# Replace only the first 'ub', case-insensitive\n",
    "print(re.sub('ub', '~*', 'Subject has Uber booked already', count=1, flags=re.IGNORECASE))\n",
    "\n",
    "# Replace \"AND\" with \"&\", ignoring case\n",
    "print(re.sub(r'\\sAND\\s', ' & ', 'Baked Beans And Spam', flags=re.IGNORECASE))"
   ]
  },
  {
   "cell_type": "code",
   "execution_count": 11,
   "id": "9290f4cf",
   "metadata": {},
   "outputs": [
    {
     "name": "stdout",
     "output_type": "stream",
     "text": [
      "('S~*ject has Uber booked already', 1)\n",
      "('S~*ject has ~*er booked already', 2)\n",
      "2\n",
      "S~*ject has ~*er booked already\n"
     ]
    }
   ],
   "source": [
    "import re\n",
    "\n",
    "# Case-sensitive replacement\n",
    "print(re.subn('ub', '~*', 'Subject has Uber booked already'))\n",
    "\n",
    "# Case-insensitive replacement\n",
    "t = re.subn('ub', '~*', 'Subject has Uber booked already', flags=re.IGNORECASE)\n",
    "print(t)\n",
    "print(len(t))      # tuple length\n",
    "print(t[0])        # modified string"
   ]
  },
  {
   "cell_type": "code",
   "execution_count": 12,
   "id": "f406f388",
   "metadata": {},
   "outputs": [
    {
     "name": "stdout",
     "output_type": "stream",
     "text": [
      "This\\ is\\ Awesome\\ even\\ 1\\ AM\n",
      "I\\ Asked\\ what\\ is\\ this\\ \\[a\\-9\\],\\ he\\ said\\ \\\t\\ \\^WoW\n"
     ]
    }
   ],
   "source": [
    "import re\n",
    "\n",
    "print(re.escape(\"This is Awesome even 1 AM\"))\n",
    "print(re.escape(\"I Asked what is this [a-9], he said \\t ^WoW\"))"
   ]
  },
  {
   "cell_type": "code",
   "execution_count": 13,
   "id": "a865b0ae",
   "metadata": {},
   "outputs": [
    {
     "name": "stdout",
     "output_type": "stream",
     "text": [
      "Match at index 14, 21\n",
      "Full match: June 24\n",
      "Month: June\n",
      "Day: 24\n"
     ]
    }
   ],
   "source": [
    "import re\n",
    "\n",
    "regex = r\"([a-zA-Z]+) (\\d+)\"\n",
    "match = re.search(regex, \"I was born on June 24\")\n",
    "\n",
    "if match:\n",
    "    print(\"Match at index %s, %s\" % (match.start(), match.end()))\n",
    "    print(\"Full match:\", match.group(0))\n",
    "    print(\"Month:\", match.group(1))\n",
    "    print(\"Day:\", match.group(2))\n",
    "else:\n",
    "    print(\"The regex pattern does not match.\")"
   ]
  },
  {
   "cell_type": "code",
   "execution_count": 14,
   "id": "c1434437",
   "metadata": {},
   "outputs": [
    {
     "name": "stdout",
     "output_type": "stream",
     "text": [
      "Match at index 14, 21\n",
      "Full match: June 24\n",
      "Month: June\n",
      "Day: 24\n"
     ]
    }
   ],
   "source": [
    "import re\n",
    "\n",
    "regex = r\"([a-zA-Z]+) (\\d+)\"\n",
    "match = re.search(regex, \"I was born on June 24\")\n",
    "\n",
    "if match:\n",
    "    print(\"Match at index %s, %s\" % (match.start(), match.end()))\n",
    "    print(\"Full match:\", match.group(0))\n",
    "    print(\"Month:\", match.group(1))\n",
    "    print(\"Day:\", match.group(2))\n",
    "else:\n",
    "    print(\"The regex pattern does not match.\")"
   ]
  },
  {
   "cell_type": "code",
   "execution_count": 15,
   "id": "0b817e29",
   "metadata": {},
   "outputs": [
    {
     "name": "stdout",
     "output_type": "stream",
     "text": [
      "<re.Match object; span=(0, 1), match='g'>\n",
      "<re.Match object; span=(5, 6), match='.'>\n"
     ]
    }
   ],
   "source": [
    "import re\n",
    "\n",
    "s = 'geeks.forgeeks'\n",
    "\n",
    "# without using \\\n",
    "match = re.search(r'.', s)\n",
    "print(match)\n",
    "\n",
    "# using \\\n",
    "match = re.search(r'\\.', s)\n",
    "print(match)"
   ]
  },
  {
   "cell_type": "code",
   "execution_count": 16,
   "id": "fa423226",
   "metadata": {},
   "outputs": [
    {
     "name": "stdout",
     "output_type": "stream",
     "text": [
      "['h', 'e', 'i', 'c', 'k', 'b', 'f', 'j', 'm', 'e', 'h', 'e', 'l', 'a', 'd', 'g']\n"
     ]
    }
   ],
   "source": [
    "import re\n",
    "\n",
    "string = \"The quick brown fox jumps over the lazy dog\"\n",
    "pattern = \"[a-m]\"\n",
    "result = re.findall(pattern, string)\n",
    "\n",
    "print(result)"
   ]
  },
  {
   "cell_type": "code",
   "execution_count": 17,
   "id": "aeaddbff",
   "metadata": {},
   "outputs": [
    {
     "name": "stdout",
     "output_type": "stream",
     "text": [
      "Matched: The quick brown fox\n",
      "Matched: The lazy dog\n",
      "Not matched: A quick brown fox\n"
     ]
    }
   ],
   "source": [
    "import re\n",
    "regex = r'^The'\n",
    "strings = ['The quick brown fox', 'The lazy dog', 'A quick brown fox']\n",
    "for string in strings:\n",
    "    if re.match(regex, string):\n",
    "        print(f'Matched: {string}')\n",
    "    else:\n",
    "        print(f'Not matched: {string}')"
   ]
  },
  {
   "cell_type": "code",
   "execution_count": 18,
   "id": "d9e3da25",
   "metadata": {},
   "outputs": [
    {
     "name": "stdout",
     "output_type": "stream",
     "text": [
      "Match found!\n"
     ]
    }
   ],
   "source": [
    "import re\n",
    "\n",
    "string = \"Hello World!\"\n",
    "pattern = r\"World!$\"\n",
    "\n",
    "match = re.search(pattern, string)\n",
    "if match:\n",
    "    print(\"Match found!\")\n",
    "else:\n",
    "    print(\"Match not found.\")"
   ]
  },
  {
   "cell_type": "code",
   "execution_count": 19,
   "id": "fb43e656",
   "metadata": {},
   "outputs": [
    {
     "name": "stdout",
     "output_type": "stream",
     "text": [
      "Match found!\n"
     ]
    }
   ],
   "source": [
    "import re\n",
    "\n",
    "string = \"The quick brown fox jumps over the lazy dog.\"\n",
    "pattern = r\"brown.fox\"\n",
    "\n",
    "match = re.search(pattern, string)\n",
    "if match:\n",
    "    print(\"Match found!\")\n",
    "else:\n",
    "    print(\"Match not found.\")"
   ]
  },
  {
   "cell_type": "code",
   "execution_count": 20,
   "id": "86b71a0f",
   "metadata": {},
   "outputs": [
    {
     "name": "stdout",
     "output_type": "stream",
     "text": [
      "re.compile('\\\\bG')\n",
      "Welcome to GeeksForGeeks\n"
     ]
    }
   ],
   "source": [
    "import re\n",
    "s = \"Welcome to GeeksForGeeks\"\n",
    "res = re.search(r\"\\bG\", s)\n",
    "\n",
    "print(res.re)\n",
    "print(res.string)"
   ]
  },
  {
   "cell_type": "code",
   "execution_count": 21,
   "id": "94324746",
   "metadata": {},
   "outputs": [
    {
     "name": "stdout",
     "output_type": "stream",
     "text": [
      "11\n",
      "14\n",
      "(11, 14)\n"
     ]
    }
   ],
   "source": [
    "import re\n",
    "\n",
    "s = \"Welcome to GeeksForGeeks\"\n",
    "\n",
    "res = re.search(r\"\\bGee\", s)\n",
    "\n",
    "print(res.start())\n",
    "print(res.end())\n",
    "print(res.span())"
   ]
  },
  {
   "cell_type": "code",
   "execution_count": 22,
   "id": "1455dc7a",
   "metadata": {},
   "outputs": [
    {
     "name": "stdout",
     "output_type": "stream",
     "text": [
      "me t\n"
     ]
    }
   ],
   "source": [
    "import re\n",
    "s = \"Welcome to GeeksForGeeks\"\n",
    "res = re.search(r\"\\D{2} t\", s)\n",
    "print(res.group())"
   ]
  },
  {
   "cell_type": "code",
   "execution_count": 23,
   "id": "e499d9c7",
   "metadata": {},
   "outputs": [
    {
     "name": "stdout",
     "output_type": "stream",
     "text": [
      "['Geeks', 'Geeks', 'geeks']\n"
     ]
    }
   ],
   "source": [
    "import re\n",
    "print(re.findall(r'[Gg]eeks', 'GeeksforGeeks: \\\n",
    "                 A computer science portal for geeks'))"
   ]
  },
  {
   "cell_type": "code",
   "execution_count": 24,
   "id": "192b0bfb",
   "metadata": {},
   "outputs": [
    {
     "name": "stdout",
     "output_type": "stream",
     "text": [
      "Range <re.Match object; span=(0, 1), match='x'>\n"
     ]
    }
   ],
   "source": [
    "import re\n",
    "print('Range',re.search(r'[a-zA-Z]', 'x'))"
   ]
  },
  {
   "cell_type": "code",
   "execution_count": 25,
   "id": "d99df71a",
   "metadata": {},
   "outputs": [
    {
     "name": "stdout",
     "output_type": "stream",
     "text": [
      "None\n",
      "None\n"
     ]
    }
   ],
   "source": [
    "import re\n",
    "\n",
    "print(re.search(r'[^a-z]', 'c'))\n",
    "print(re.search(r'G[^e]', 'Geeks'))"
   ]
  },
  {
   "cell_type": "code",
   "execution_count": 26,
   "id": "f698d6ed",
   "metadata": {},
   "outputs": [
    {
     "name": "stdout",
     "output_type": "stream",
     "text": [
      "Geeks: <re.Match object; span=(0, 5), match='Geeks'>\n",
      "GeeksforGeeks: None\n"
     ]
    }
   ],
   "source": [
    "import re\n",
    "\n",
    "print('Geeks:', re.search(r'\\bGeeks\\b', 'Geeks'))\n",
    "print('GeeksforGeeks:', re.search(r'\\bGeeks\\b', 'GeeksforGeeks'))"
   ]
  },
  {
   "cell_type": "code",
   "execution_count": 27,
   "id": "4b9c2cb6",
   "metadata": {},
   "outputs": [
    {
     "name": "stdout",
     "output_type": "stream",
     "text": [
      "Beg. of String: None\n",
      "Beg. of String: <re.Match object; span=(0, 4), match='Geek'>\n",
      "End of String: <re.Match object; span=(31, 36), match='Geeks'>\n"
     ]
    }
   ],
   "source": [
    "import re\n",
    "\n",
    "\n",
    "# Beginning of String\n",
    "match = re.search(r'^Geek', 'Campus Geek of the month')\n",
    "print('Beg. of String:', match)\n",
    "\n",
    "match = re.search(r'^Geek', 'Geek of the month')\n",
    "print('Beg. of String:', match)\n",
    "\n",
    "# End of String\n",
    "match = re.search(r'Geeks$', 'Compute science portal-GeeksforGeeks')\n",
    "print('End of String:', match)"
   ]
  },
  {
   "cell_type": "code",
   "execution_count": 28,
   "id": "b18e2e98",
   "metadata": {},
   "outputs": [
    {
     "name": "stdout",
     "output_type": "stream",
     "text": [
      "Any Character <re.Match object; span=(0, 6), match='python'>\n"
     ]
    }
   ],
   "source": [
    "import re\n",
    "\n",
    "print('Any Character', re.search(r'p.th.n', 'python 3'))"
   ]
  },
  {
   "cell_type": "code",
   "execution_count": 29,
   "id": "d20322d2",
   "metadata": {},
   "outputs": [
    {
     "name": "stdout",
     "output_type": "stream",
     "text": [
      "Color <re.Match object; span=(0, 5), match='color'>\n",
      "Colour <re.Match object; span=(0, 6), match='colour'>\n"
     ]
    }
   ],
   "source": [
    "import re\n",
    "\n",
    "print('Color',re.search(r'colou?r', 'color')) \n",
    "print('Colour',re.search(r'colou?r', 'colour'))"
   ]
  },
  {
   "cell_type": "code",
   "execution_count": 30,
   "id": "e5e3b6c7",
   "metadata": {},
   "outputs": [
    {
     "name": "stdout",
     "output_type": "stream",
     "text": [
      "Date{mm-dd-yyyy}: <re.Match object; span=(0, 10), match='18-08-2020'>\n"
     ]
    }
   ],
   "source": [
    "import re\n",
    "\n",
    "\n",
    "print('Date{mm-dd-yyyy}:', re.search(r'[\\d]{2}-[\\d]{2}-[\\d]{4}',\n",
    "                                     '18-08-2020'))"
   ]
  },
  {
   "cell_type": "code",
   "execution_count": 31,
   "id": "4f2f5bf1",
   "metadata": {},
   "outputs": [
    {
     "name": "stdout",
     "output_type": "stream",
     "text": [
      "Three Digit: <re.Match object; span=(0, 3), match='189'>\n",
      "Four Digit: <re.Match object; span=(0, 4), match='2145'>\n"
     ]
    }
   ],
   "source": [
    "import re\n",
    "\n",
    "\n",
    "print('Three Digit:', re.search(r'[\\d]{3,4}', '189'))\n",
    "print('Four Digit:', re.search(r'[\\d]{3,4}', '2145'))"
   ]
  },
  {
   "cell_type": "code",
   "execution_count": 32,
   "id": "f32e11a5",
   "metadata": {},
   "outputs": [
    {
     "name": "stdout",
     "output_type": "stream",
     "text": [
      "<re.Match object; span=(0, 1), match='5'>\n"
     ]
    }
   ],
   "source": [
    "import re\n",
    "\n",
    "\n",
    "print(re.search(r'[\\d]{1,}','5th Floor, A-118,\\\n",
    "Sector-136, Noida, Uttar Pradesh - 201305'))"
   ]
  },
  {
   "cell_type": "code",
   "execution_count": 33,
   "id": "843b4407",
   "metadata": {},
   "outputs": [
    {
     "name": "stdout",
     "output_type": "stream",
     "text": [
      "<re.Match object; span=(0, 1), match='5'>\n"
     ]
    }
   ],
   "source": [
    "import re\n",
    "\n",
    "print(re.search(r'[\\d]+', '5th Floor, A-118,\\\n",
    "Sector-136, Noida, Uttar Pradesh - 201305'))"
   ]
  },
  {
   "cell_type": "code",
   "execution_count": 34,
   "id": "dd04133f",
   "metadata": {},
   "outputs": [
    {
     "name": "stdout",
     "output_type": "stream",
     "text": [
      "<re.Match object; span=(0, 10), match='26-08-2020'>\n"
     ]
    }
   ],
   "source": [
    "import re\n",
    "\n",
    "\n",
    "grp = re.search(r'([\\d]{2})-([\\d]{2})-([\\d]{4})', '26-08-2020')\n",
    "print(grp)"
   ]
  },
  {
   "cell_type": "code",
   "execution_count": 35,
   "id": "ce5dc86d",
   "metadata": {},
   "outputs": [
    {
     "name": "stdout",
     "output_type": "stream",
     "text": [
      "26-08-2020\n"
     ]
    }
   ],
   "source": [
    "import re\n",
    "\n",
    "\n",
    "grp = re.search(r'([\\d]{2})-([\\d]{2})-([\\d]{4})','26-08-2020')\n",
    "print(grp.group())"
   ]
  },
  {
   "cell_type": "code",
   "execution_count": 36,
   "id": "7212790e",
   "metadata": {},
   "outputs": [
    {
     "name": "stdout",
     "output_type": "stream",
     "text": [
      "26-08-2020\n"
     ]
    }
   ],
   "source": [
    "import re\n",
    "\n",
    "\n",
    "grp = re.search(r'([\\d]{2})-([\\d]{2})-([\\d]{4})','26-08-2020')\n",
    "print(grp.group())"
   ]
  },
  {
   "cell_type": "code",
   "execution_count": 37,
   "id": "40ea6078",
   "metadata": {},
   "outputs": [
    {
     "name": "stdout",
     "output_type": "stream",
     "text": [
      "08\n"
     ]
    }
   ],
   "source": [
    "import re\n",
    "\n",
    "\n",
    "match = re.search(r'(?P<dd>[\\d]{2})-(?P<mm>[\\d]{2})-(?P<yyyy>[\\d]{4})',\n",
    "                  '26-08-2020')\n",
    "print(match.group('mm'))"
   ]
  },
  {
   "cell_type": "code",
   "execution_count": 38,
   "id": "a7bfb1d3",
   "metadata": {},
   "outputs": [
    {
     "name": "stdout",
     "output_type": "stream",
     "text": [
      "{'dd': '26', 'mm': '08', 'yyyy': '2020'}\n"
     ]
    }
   ],
   "source": [
    "import re\n",
    "\n",
    "\n",
    "match = re.search(r'(?P<dd>[\\d]{2})-(?P<mm>[\\d]{2})-(?P<yyyy>[\\d]{4})',\n",
    "                  '26-08-2020')\n",
    "print(match.groupdict())"
   ]
  },
  {
   "cell_type": "code",
   "execution_count": 39,
   "id": "58fd8d9e",
   "metadata": {},
   "outputs": [
    {
     "name": "stdout",
     "output_type": "stream",
     "text": [
      "negation: None\n",
      "lookahead: <re.Match object; span=(5, 6), match='n'>\n"
     ]
    }
   ],
   "source": [
    "import re\n",
    "\n",
    "\n",
    "print('negation:', re.search(r'n[^e]', 'Python'))\n",
    "print('lookahead:', re.search(r'n(?!e)', 'Python'))"
   ]
  },
  {
   "cell_type": "code",
   "execution_count": 40,
   "id": "4818f29e",
   "metadata": {},
   "outputs": [
    {
     "name": "stdout",
     "output_type": "stream",
     "text": [
      "positive lookahead <re.Match object; span=(5, 6), match='n'>\n"
     ]
    }
   ],
   "source": [
    "import re\n",
    "\n",
    "print('positive lookahead', re.search(r'n(?=e)', 'jasmine'))"
   ]
  },
  {
   "cell_type": "code",
   "execution_count": 41,
   "id": "cbce85f3",
   "metadata": {},
   "outputs": [
    {
     "name": "stdout",
     "output_type": "stream",
     "text": [
      "1111222233334444\n"
     ]
    }
   ],
   "source": [
    "import re\n",
    "\n",
    "print(re.sub(r'([\\d]{4})-([\\d]{4})-([\\d]{4})-([\\d]{4})',r'\\1\\2\\3\\4',\n",
    "             '1111-2222-3333-4444'))"
   ]
  },
  {
   "cell_type": "code",
   "execution_count": 42,
   "id": "a19dfca2",
   "metadata": {},
   "outputs": [
    {
     "name": "stdout",
     "output_type": "stream",
     "text": [
      "Match at index 14, 21\n",
      "Full match: June 24\n",
      "Month: June\n",
      "Day: 24\n"
     ]
    }
   ],
   "source": [
    "# A Python program to demonstrate working of re.match().  \n",
    "import re  \n",
    "  \n",
    "# Lets use a regular expression to match a date string  \n",
    "# in the form of Month name followed by day number  \n",
    "regex = r\"([a-zA-Z]+) (\\d+)\"\n",
    "  \n",
    "match = re.search(regex, \"I was born on June 24\")  \n",
    "  \n",
    "if match != None:  \n",
    "  \n",
    "    # We reach here when the expression \"([a-zA-Z]+) (\\d+)\"  \n",
    "    # matches the date string.  \n",
    "  \n",
    "    # This will print [14, 21), since it matches at index 14  \n",
    "    # and ends at 21.  \n",
    "    print (\"Match at index %s, %s\" % (match.start(), match.end()))  \n",
    "  \n",
    "    # We us group() method to get all the matches and  \n",
    "    # captured groups. The groups contain the matched values.  \n",
    "    # In particular:  \n",
    "    # match.group(0) always returns the fully matched string  \n",
    "    # match.group(1) match.group(2), ... return the capture  \n",
    "    # groups in order from left to right in the input string  \n",
    "    # match.group() is equivalent to match.group(0)  \n",
    "  \n",
    "    # So this will print \"June 24\"  \n",
    "    print (\"Full match: %s\" % (match.group(0)))  \n",
    "  \n",
    "    # So this will print \"June\"  \n",
    "    print (\"Month: %s\" % (match.group(1)))  \n",
    "  \n",
    "    # So this will print \"24\"  \n",
    "    print (\"Day: %s\" % (match.group(2))) \n",
    "  \n",
    "else:  \n",
    "    print (\"The regex pattern does not match.\")"
   ]
  },
  {
   "cell_type": "code",
   "execution_count": 43,
   "id": "a3f6c89e",
   "metadata": {},
   "outputs": [
    {
     "name": "stdout",
     "output_type": "stream",
     "text": [
      "Given Data: Jun 24\n",
      "Month: Jun\n",
      "Day: 24\n",
      "\n",
      "Not a valid date\n"
     ]
    }
   ],
   "source": [
    "# A Python program to demonstrate working \n",
    "# of re.match(). \n",
    "import re \n",
    "   \n",
    "# a sample function that uses regular expressions \n",
    "# to find month and day of a date. \n",
    "def findMonthAndDate(string): \n",
    "       \n",
    "    regex = r\"([a-zA-Z]+) (\\d+)\"\n",
    "    match = re.match(regex, string) \n",
    "       \n",
    "    if match == None:  \n",
    "        print (\"Not a valid date\") \n",
    "        return\n",
    "   \n",
    "    print (\"Given Data: %s\" % (match.group())) \n",
    "    print (\"Month: %s\" % (match.group(1))) \n",
    "    print (\"Day: %s\" % (match.group(2))) \n",
    "   \n",
    "       \n",
    "# Driver Code \n",
    "findMonthAndDate(\"Jun 24\") \n",
    "print(\"\") \n",
    "findMonthAndDate(\"I was born on June 24\")"
   ]
  },
  {
   "cell_type": "code",
   "execution_count": 44,
   "id": "40644fef",
   "metadata": {},
   "outputs": [
    {
     "name": "stdout",
     "output_type": "stream",
     "text": [
      "['123456789', '987654321']\n"
     ]
    },
    {
     "name": "stderr",
     "output_type": "stream",
     "text": [
      "<>:11: SyntaxWarning: invalid escape sequence '\\d'\n",
      "<>:11: SyntaxWarning: invalid escape sequence '\\d'\n",
      "C:\\Users\\ajitj\\AppData\\Local\\Temp\\ipykernel_12612\\3299003654.py:11: SyntaxWarning: invalid escape sequence '\\d'\n",
      "  regex = '\\d+'\n"
     ]
    }
   ],
   "source": [
    "# A Python program to demonstrate working of \n",
    "# findall() \n",
    "import re \n",
    "  \n",
    "# A sample text string where regular expression  \n",
    "# is searched. \n",
    "string  = \"\"\"Hello my Number is 123456789 and \n",
    "             my friend's number is 987654321\"\"\"\n",
    "  \n",
    "# A sample regular expression to find digits. \n",
    "regex = '\\d+'             \n",
    "  \n",
    "match = re.findall(regex, string) \n",
    "print(match) \n",
    "  \n",
    "# This example is contributed by Ayush Saluja."
   ]
  }
 ],
 "metadata": {
  "kernelspec": {
   "display_name": "Python 3",
   "language": "python",
   "name": "python3"
  },
  "language_info": {
   "codemirror_mode": {
    "name": "ipython",
    "version": 3
   },
   "file_extension": ".py",
   "mimetype": "text/x-python",
   "name": "python",
   "nbconvert_exporter": "python",
   "pygments_lexer": "ipython3",
   "version": "3.12.4"
  }
 },
 "nbformat": 4,
 "nbformat_minor": 5
}
