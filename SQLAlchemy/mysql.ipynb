{
 "cells": [
  {
   "cell_type": "code",
   "execution_count": 1,
   "id": "c14f7375",
   "metadata": {},
   "outputs": [
    {
     "name": "stdout",
     "output_type": "stream",
     "text": [
      "   id   name\n",
      "0   1  geeks\n",
      "1   2    for\n",
      "2   3  geeks\n"
     ]
    },
    {
     "data": {
      "text/plain": [
       "3"
      ]
     },
     "execution_count": 1,
     "metadata": {},
     "output_type": "execute_result"
    }
   ],
   "source": [
    "from sqlalchemy import event\n",
    "import pandas as pd\n",
    "import sqlalchemy\n",
    "import pymysql\n",
    "\n",
    "from sqlalchemy import create_engine\n",
    "\n",
    "engine = create_engine(\"mysql+pymysql://\" + \\\n",
    "                       \"root\" + \":\" +\\\n",
    "                       \"mysql\" + \"@\" + \"localhost\" +\n",
    "                       \":\" + \"3306\" + \"/\" + \"company\" \\\n",
    "                       + \"?\" + \"charset=utf8mb4\")\n",
    "# Choose your configuration in the above code.\n",
    "# replace connection name, password ,database name by yours.\n",
    "\n",
    "conn = engine.connect()\n",
    "\n",
    "dict = {\n",
    "    # data to insert into data frame\n",
    "    'id': [1, 2, 3], 'name': [\"geeks\", \"for\", \"geeks\"]\n",
    "}\n",
    "# storing data in df variable, hence creating dataframe.\n",
    "df = pd.DataFrame(dict)\n",
    "print(df)\n",
    "# inserting data into database\n",
    "df.to_sql(\"table_gfg\", conn, if_exists=\"replace\")\n",
    "\n",
    "\n",
    "@event.listens_for(engine, \"before_cursor_execute\")\n",
    "def receive_before_cursor_execute(conn, \n",
    " cursor, statement, params, context, executemany):\n",
    "    if executemany:\n",
    "        cursor.fast_executemany = True\n",
    "\n",
    "\n",
    "df.to_sql(\"table_gfg\", conn, index=False, if_exists=\"append\")"
   ]
  },
  {
   "cell_type": "code",
   "execution_count": 2,
   "id": "065a4c4e",
   "metadata": {},
   "outputs": [
    {
     "name": "stdout",
     "output_type": "stream",
     "text": [
      "Defaulting to user installation because normal site-packages is not writeable\n",
      "Requirement already satisfied: sqlalchemy in c:\\users\\ajitj\\appdata\\local\\packages\\pythonsoftwarefoundation.python.3.12_qbz5n2kfra8p0\\localcache\\local-packages\\python312\\site-packages (2.0.41)\n",
      "Requirement already satisfied: greenlet>=1 in c:\\users\\ajitj\\appdata\\local\\packages\\pythonsoftwarefoundation.python.3.12_qbz5n2kfra8p0\\localcache\\local-packages\\python312\\site-packages (from sqlalchemy) (3.2.3)\n",
      "Requirement already satisfied: typing-extensions>=4.6.0 in c:\\users\\ajitj\\appdata\\local\\packages\\pythonsoftwarefoundation.python.3.12_qbz5n2kfra8p0\\localcache\\local-packages\\python312\\site-packages (from sqlalchemy) (4.12.2)\n"
     ]
    }
   ],
   "source": [
    "!pip install sqlalchemy"
   ]
  },
  {
   "cell_type": "code",
   "execution_count": 3,
   "id": "cbdfe6dc",
   "metadata": {},
   "outputs": [
    {
     "name": "stdout",
     "output_type": "stream",
     "text": [
      "Connection to the 127.0.0.1 for user root created successfully.\n"
     ]
    }
   ],
   "source": [
    "# IMPORT THE SQALCHEMY LIBRARY's CREATE_ENGINE METHOD\n",
    "from sqlalchemy import create_engine\n",
    "\n",
    "# DEFINE THE DATABASE CREDENTIALS\n",
    "user = 'root'\n",
    "password = 'password'\n",
    "host = '127.0.0.1'\n",
    "port = 3306\n",
    "database = 'GeeksForGeeks'\n",
    "\n",
    "# PYTHON FUNCTION TO CONNECT TO THE MYSQL DATABASE AND\n",
    "# RETURN THE SQLACHEMY ENGINE OBJECT\n",
    "def get_connection():\n",
    "    return create_engine(\n",
    "        url=\"mysql+pymysql://{0}:{1}@{2}:{3}/{4}\".format(\n",
    "            user, password, host, port, database\n",
    "        )\n",
    "    )\n",
    "\n",
    "\n",
    "if __name__ == '__main__':\n",
    "\n",
    "    try:\n",
    "      \n",
    "        # GET THE CONNECTION OBJECT (ENGINE) FOR THE DATABASE\n",
    "        engine = get_connection()\n",
    "        print(\n",
    "            f\"Connection to the {host} for user {user} created successfully.\")\n",
    "    except Exception as ex:\n",
    "        print(\"Connection could not be made due to the following error: \\n\", ex)"
   ]
  },
  {
   "cell_type": "code",
   "execution_count": 5,
   "id": "85505798",
   "metadata": {},
   "outputs": [
    {
     "name": "stdout",
     "output_type": "stream",
     "text": [
      "Collecting psycopg2\n",
      "  Downloading psycopg2-2.9.10-cp312-cp312-win_amd64.whl.metadata (5.0 kB)\n",
      "Downloading psycopg2-2.9.10-cp312-cp312-win_amd64.whl (1.2 MB)\n",
      "   ---------------------------------------- 0.0/1.2 MB ? eta -:--:--\n",
      "   ---------------------------------------- 0.0/1.2 MB ? eta -:--:--\n",
      "   ---------------------------------------- 0.0/1.2 MB ? eta -:--:--\n",
      "   ---------------------------------------- 0.0/1.2 MB ? eta -:--:--\n",
      "   --------- ------------------------------ 0.3/1.2 MB ? eta -:--:--\n",
      "   --------- ------------------------------ 0.3/1.2 MB ? eta -:--:--\n",
      "   --------- ------------------------------ 0.3/1.2 MB ? eta -:--:--\n",
      "   ------------------ --------------------- 0.5/1.2 MB 419.4 kB/s eta 0:00:02\n",
      "   ------------------ --------------------- 0.5/1.2 MB 419.4 kB/s eta 0:00:02\n",
      "   ------------------ --------------------- 0.5/1.2 MB 419.4 kB/s eta 0:00:02\n",
      "   ------------------ --------------------- 0.5/1.2 MB 419.4 kB/s eta 0:00:02\n",
      "   --------------------------- ------------ 0.8/1.2 MB 385.5 kB/s eta 0:00:01\n",
      "   ------------------------------------ --- 1.0/1.2 MB 474.6 kB/s eta 0:00:01\n",
      "   ---------------------------------------- 1.2/1.2 MB 515.3 kB/s eta 0:00:00\n",
      "Installing collected packages: psycopg2\n",
      "Successfully installed psycopg2-2.9.10\n",
      "Note: you may need to restart the kernel to use updated packages.\n"
     ]
    }
   ],
   "source": [
    "pip install psycopg2"
   ]
  },
  {
   "cell_type": "code",
   "execution_count": 6,
   "id": "c2bf8a1a",
   "metadata": {},
   "outputs": [
    {
     "name": "stdout",
     "output_type": "stream",
     "text": [
      "Connection to the 127.0.0.1 for user root created successfully.\n"
     ]
    }
   ],
   "source": [
    "# IMPORT THE SQALCHEMY LIBRARY's CREATE_ENGINE METHOD\n",
    "from sqlalchemy import create_engine\n",
    "\n",
    "# DEFINE THE DATABASE CREDENTIALS\n",
    "user = 'root'\n",
    "password = 'password'\n",
    "host = '127.0.0.1'\n",
    "port = 5432\n",
    "database = 'postgres'\n",
    "\n",
    "# PYTHON FUNCTION TO CONNECT TO THE POSTGRESQL DATABASE AND\n",
    "# RETURN THE SQLACHEMY ENGINE OBJECT\n",
    "def get_connection():\n",
    "    return create_engine(\n",
    "        url=\"postgresql://{0}:{1}@{2}:{3}/{4}\".format(\n",
    "            user, password, host, port, database\n",
    "        )\n",
    "    )\n",
    "\n",
    "\n",
    "if __name__ == '__main__':\n",
    "\n",
    "    try:\n",
    "        # GET THE CONNECTION OBJECT (ENGINE) FOR THE DATABASE\n",
    "        engine = get_connection()\n",
    "        print(\n",
    "            f\"Connection to the {host} for user {user} created successfully.\")\n",
    "    except Exception as ex:\n",
    "        print(\"Connection could not be made due to the following error: \\n\", ex)"
   ]
  },
  {
   "cell_type": "code",
   "execution_count": 8,
   "id": "25d44542",
   "metadata": {},
   "outputs": [
    {
     "name": "stdout",
     "output_type": "stream",
     "text": [
      "Requirement already satisfied: PyMySQL in c:\\users\\ajitj\\appdata\\local\\programs\\python\\python312\\lib\\site-packages (1.1.1)\n",
      "Note: you may need to restart the kernel to use updated packages.\n"
     ]
    }
   ],
   "source": [
    "pip install PyMySQL"
   ]
  },
  {
   "cell_type": "code",
   "execution_count": 11,
   "id": "7e991353",
   "metadata": {},
   "outputs": [
    {
     "name": "stdout",
     "output_type": "stream",
     "text": [
      "(('8.0.32',),)\n"
     ]
    }
   ],
   "source": [
    "import pymysql\n",
    "\n",
    "def mysqlconnect():\n",
    "    # To connect MySQL database\n",
    "    conn = pymysql.connect(\n",
    "        host='localhost',\n",
    "        user='root', \n",
    "        password = \"mysql\",\n",
    "        db='company',  \n",
    "        )\n",
    "    \n",
    "    cur = conn.cursor()\n",
    "    cur.execute(\"select @@version\")\n",
    "    output = cur.fetchall()\n",
    "    print(output)\n",
    "    \n",
    "    # To close the connection\n",
    "    conn.close()\n",
    "\n",
    "# Driver Code\n",
    "if __name__ == \"__main__\" :\n",
    "    mysqlconnect()"
   ]
  },
  {
   "cell_type": "code",
   "execution_count": 13,
   "id": "5014f4d5",
   "metadata": {},
   "outputs": [
    {
     "name": "stdout",
     "output_type": "stream",
     "text": [
      "(1, 'Alice', 22)\n",
      "(2, 'Bob', 23)\n"
     ]
    }
   ],
   "source": [
    "import pymysql\n",
    "\n",
    "def mysqlconnect():\n",
    "    # To connect MySQL database\n",
    "    conn = pymysql.connect(\n",
    "        host='localhost',\n",
    "        user='root', \n",
    "        password = \"mysql\",\n",
    "        db='company',\n",
    "        )\n",
    "    \n",
    "    cur = conn.cursor()\n",
    "    \n",
    "    # Create table if it does not exist\n",
    "    cur.execute(\"\"\"\n",
    "        CREATE TABLE IF NOT EXISTS STUDENT (\n",
    "            id INT PRIMARY KEY AUTO_INCREMENT,\n",
    "            name VARCHAR(100),\n",
    "            age INT\n",
    "        )\n",
    "    \"\"\")\n",
    "    # Optionally, insert sample data if table is empty\n",
    "    cur.execute(\"SELECT COUNT(*) FROM STUDENT\")\n",
    "    if cur.fetchone()[0] == 0:\n",
    "        cur.execute(\"INSERT INTO STUDENT (name, age) VALUES ('Alice', 22), ('Bob', 23)\")\n",
    "        conn.commit()\n",
    "    \n",
    "    # Select query\n",
    "    cur.execute(\"select * from STUDENT\")\n",
    "    output = cur.fetchall()\n",
    "    \n",
    "    for i in output:\n",
    "        print(i)\n",
    "    \n",
    "    # To close the connection\n",
    "    conn.close()\n",
    "\n",
    "# Driver Code\n",
    "if __name__ == \"__main__\" :\n",
    "    mysqlconnect()"
   ]
  },
  {
   "cell_type": "code",
   "execution_count": 17,
   "id": "39d12a5d",
   "metadata": {},
   "outputs": [
    {
     "name": "stdout",
     "output_type": "stream",
     "text": [
      "<mysql.connector.connection_cext.CMySQLConnection object at 0x0000029589225D60>\n"
     ]
    }
   ],
   "source": [
    "# Python program to connect\n",
    "# to mysql database\n",
    "\n",
    "\n",
    "import mysql.connector\n",
    "\n",
    "\n",
    "# Connecting from the server\n",
    "conn = mysql.connector.connect(user = 'root',\n",
    "                               host = 'localhost',\n",
    "                               password = 'mysql',\n",
    "                               database = 'company')\n",
    "\n",
    "print(conn)\n",
    "\n",
    "# Disconnecting from the server\n",
    "conn.close()"
   ]
  },
  {
   "cell_type": "code",
   "execution_count": 21,
   "id": "53dba9cb",
   "metadata": {},
   "outputs": [
    {
     "name": "stdout",
     "output_type": "stream",
     "text": [
      "Displaying NAME and ROLL columns from the STUDENT table:\n",
      "('Alice', 101)\n",
      "('Bob', 102)\n"
     ]
    }
   ],
   "source": [
    "# importing required library \n",
    "import mysql.connector \n",
    "  \n",
    "# connecting to the database \n",
    "dataBase = mysql.connector.connect(\n",
    "                     host = \"localhost\",\n",
    "                     user = \"root\",\n",
    "                     passwd = \"mysql\",\n",
    "                     database = \"geeks\" ) \n",
    "  \n",
    "# preparing a cursor object \n",
    "cursorObject = dataBase.cursor()\n",
    "  \n",
    "print(\"Displaying NAME and ROLL columns from the STUDENT table:\")\n",
    "\n",
    "# Create STUDENT table if it does not exist\n",
    "cursorObject.execute(\"\"\"\n",
    "    CREATE TABLE IF NOT EXISTS STUDENT (\n",
    "        ID INT PRIMARY KEY AUTO_INCREMENT,\n",
    "        NAME VARCHAR(100),\n",
    "        ROLL INT\n",
    "    )\n",
    "\"\"\")\n",
    "# Optionally, insert sample data if table is empty\n",
    "cursorObject.execute(\"SELECT COUNT(*) FROM STUDENT\")\n",
    "if cursorObject.fetchone()[0] == 0:\n",
    "    cursorObject.execute(\"INSERT INTO STUDENT (NAME, ROLL) VALUES ('Alice', 101), ('Bob', 102)\")\n",
    "    dataBase.commit()\n",
    "\n",
    "# selecting query\n",
    "query = \"SELECT NAME, ROLL FROM STUDENT\"\n",
    "cursorObject.execute(query)\n",
    "\n",
    "myresult = cursorObject.fetchall()\n",
    "\n",
    "for x in myresult:\n",
    "    print(x)\n",
    "\n",
    "# disconnecting from server\n",
    "dataBase.close()"
   ]
  },
  {
   "cell_type": "code",
   "execution_count": 22,
   "id": "bbd36908",
   "metadata": {},
   "outputs": [
    {
     "name": "stdout",
     "output_type": "stream",
     "text": [
      "Collecting mysql-connector-python-rf\n",
      "  Downloading mysql-connector-python-rf-2.2.2.tar.gz (11.9 MB)\n",
      "     ---------------------------------------- 0.0/11.9 MB ? eta -:--:--\n",
      "      --------------------------------------- 0.3/11.9 MB ? eta -:--:--\n",
      "     - -------------------------------------- 0.5/11.9 MB 2.1 MB/s eta 0:00:06\n",
      "     -- ------------------------------------- 0.8/11.9 MB 1.8 MB/s eta 0:00:07\n",
      "     ---- ----------------------------------- 1.3/11.9 MB 1.8 MB/s eta 0:00:06\n",
      "     ----- ---------------------------------- 1.6/11.9 MB 1.7 MB/s eta 0:00:07\n",
      "     ------ --------------------------------- 1.8/11.9 MB 1.6 MB/s eta 0:00:07\n",
      "     ------- -------------------------------- 2.4/11.9 MB 1.8 MB/s eta 0:00:06\n",
      "     --------- ------------------------------ 2.9/11.9 MB 1.8 MB/s eta 0:00:05\n",
      "     ---------- ----------------------------- 3.1/11.9 MB 1.8 MB/s eta 0:00:05\n",
      "     ------------ --------------------------- 3.7/11.9 MB 1.8 MB/s eta 0:00:05\n",
      "     ------------ --------------------------- 3.7/11.9 MB 1.8 MB/s eta 0:00:05\n",
      "     ------------ --------------------------- 3.7/11.9 MB 1.8 MB/s eta 0:00:05\n",
      "     -------------- ------------------------- 4.2/11.9 MB 1.6 MB/s eta 0:00:05\n",
      "     -------------- ------------------------- 4.5/11.9 MB 1.6 MB/s eta 0:00:05\n",
      "     --------------- ------------------------ 4.7/11.9 MB 1.6 MB/s eta 0:00:05\n",
      "     ----------------- ---------------------- 5.2/11.9 MB 1.6 MB/s eta 0:00:05\n",
      "     ------------------ --------------------- 5.5/11.9 MB 1.6 MB/s eta 0:00:05\n",
      "     ------------------ --------------------- 5.5/11.9 MB 1.6 MB/s eta 0:00:05\n",
      "     ------------------ --------------------- 5.5/11.9 MB 1.6 MB/s eta 0:00:05\n",
      "     ------------------- -------------------- 5.8/11.9 MB 1.4 MB/s eta 0:00:05\n",
      "     -------------------- ------------------- 6.0/11.9 MB 1.4 MB/s eta 0:00:05\n",
      "     --------------------- ------------------ 6.3/11.9 MB 1.4 MB/s eta 0:00:05\n",
      "     --------------------- ------------------ 6.6/11.9 MB 1.4 MB/s eta 0:00:04\n",
      "     --------------------- ------------------ 6.6/11.9 MB 1.4 MB/s eta 0:00:04\n",
      "     ---------------------- ----------------- 6.8/11.9 MB 1.4 MB/s eta 0:00:04\n",
      "     ---------------------- ----------------- 6.8/11.9 MB 1.4 MB/s eta 0:00:04\n",
      "     ----------------------- ---------------- 7.1/11.9 MB 1.3 MB/s eta 0:00:04\n",
      "     ------------------------ --------------- 7.3/11.9 MB 1.3 MB/s eta 0:00:04\n",
      "     ------------------------ --------------- 7.3/11.9 MB 1.3 MB/s eta 0:00:04\n",
      "     ------------------------- -------------- 7.6/11.9 MB 1.3 MB/s eta 0:00:04\n",
      "     -------------------------- ------------- 7.9/11.9 MB 1.3 MB/s eta 0:00:04\n",
      "     --------------------------- ------------ 8.1/11.9 MB 1.3 MB/s eta 0:00:04\n",
      "     ---------------------------- ----------- 8.4/11.9 MB 1.3 MB/s eta 0:00:03\n",
      "     ----------------------------- ---------- 8.9/11.9 MB 1.3 MB/s eta 0:00:03\n",
      "     ----------------------------- ---------- 8.9/11.9 MB 1.3 MB/s eta 0:00:03\n",
      "     ------------------------------ --------- 9.2/11.9 MB 1.2 MB/s eta 0:00:03\n",
      "     ------------------------------- -------- 9.4/11.9 MB 1.2 MB/s eta 0:00:02\n",
      "     -------------------------------- ------- 9.7/11.9 MB 1.3 MB/s eta 0:00:02\n",
      "     --------------------------------- ------ 10.0/11.9 MB 1.2 MB/s eta 0:00:02\n",
      "     ---------------------------------- ----- 10.2/11.9 MB 1.2 MB/s eta 0:00:02\n",
      "     ----------------------------------- ---- 10.5/11.9 MB 1.2 MB/s eta 0:00:02\n",
      "     ----------------------------------- ---- 10.5/11.9 MB 1.2 MB/s eta 0:00:02\n",
      "     ------------------------------------ --- 10.7/11.9 MB 1.2 MB/s eta 0:00:01\n",
      "     ------------------------------------ --- 11.0/11.9 MB 1.2 MB/s eta 0:00:01\n",
      "     ------------------------------------- -- 11.3/11.9 MB 1.2 MB/s eta 0:00:01\n",
      "     ------------------------------------- -- 11.3/11.9 MB 1.2 MB/s eta 0:00:01\n",
      "     -------------------------------------- - 11.5/11.9 MB 1.2 MB/s eta 0:00:01\n",
      "     ---------------------------------------  11.8/11.9 MB 1.2 MB/s eta 0:00:01\n",
      "     ---------------------------------------- 11.9/11.9 MB 1.2 MB/s eta 0:00:00\n",
      "  Preparing metadata (setup.py): started\n",
      "  Preparing metadata (setup.py): finished with status 'done'\n",
      "Building wheels for collected packages: mysql-connector-python-rf\n",
      "  Building wheel for mysql-connector-python-rf (setup.py): started\n",
      "  Building wheel for mysql-connector-python-rf (setup.py): finished with status 'done'\n",
      "  Created wheel for mysql-connector-python-rf: filename=mysql_connector_python_rf-2.2.2-cp312-cp312-win_amd64.whl size=249467 sha256=67eb6f12785c95f8b942b6fb9b38784ecc4bdceda45d4c4a8f302d9aa7ff6558\n",
      "  Stored in directory: c:\\users\\ajitj\\appdata\\local\\pip\\cache\\wheels\\a9\\2b\\d7\\d900eb4840457595b799a5ba31c39c5f2a18c47967acf44a84\n",
      "Successfully built mysql-connector-python-rf\n",
      "Installing collected packages: mysql-connector-python-rf\n",
      "Successfully installed mysql-connector-python-rf-2.2.2\n",
      "Note: you may need to restart the kernel to use updated packages.\n"
     ]
    },
    {
     "name": "stderr",
     "output_type": "stream",
     "text": [
      "  DEPRECATION: Building 'mysql-connector-python-rf' using the legacy setup.py bdist_wheel mechanism, which will be removed in a future version. pip 25.3 will enforce this behaviour change. A possible replacement is to use the standardized build interface by setting the `--use-pep517` option, (possibly combined with `--no-build-isolation`), or adding a `pyproject.toml` file to the source tree of 'mysql-connector-python-rf'. Discussion can be found at https://github.com/pypa/pip/issues/6334\n"
     ]
    }
   ],
   "source": [
    "pip install mysql-connector-python-rf"
   ]
  },
  {
   "cell_type": "code",
   "execution_count": 23,
   "id": "d7e6927b",
   "metadata": {},
   "outputs": [
    {
     "name": "stdout",
     "output_type": "stream",
     "text": [
      "('aiml',)\n",
      "('ajit',)\n",
      "('banking_core_service',)\n",
      "('book',)\n",
      "('bootdb',)\n",
      "('captchaapp',)\n",
      "('company',)\n",
      "('cyber_db',)\n",
      "('demo',)\n",
      "('electronichealthrecord',)\n",
      "('emp',)\n",
      "('employee_db',)\n",
      "('essentials_db',)\n",
      "('geeks',)\n",
      "('information_schema',)\n",
      "('java2s',)\n",
      "('java_to_dev_api_mysql',)\n",
      "('java_to_dev_app_db',)\n",
      "('jeejava',)\n",
      "('little_lemon',)\n",
      "('loizenaidb',)\n",
      "('market',)\n",
      "('mockito',)\n",
      "('my_company',)\n",
      "('mydatabase',)\n",
      "('mydb',)\n",
      "('mysql',)\n",
      "('notes_app',)\n",
      "('performance_schema',)\n",
      "('school',)\n",
      "('sparkdb',)\n",
      "('spring-boot-otp-app',)\n",
      "('springbatch',)\n",
      "('springboot_mysql_example',)\n",
      "('sys',)\n",
      "('test',)\n",
      "('test_db',)\n",
      "('testdb',)\n",
      "('testjwt',)\n",
      "('users_database',)\n",
      "('web_application',)\n",
      "('world',)\n",
      "('wv',)\n"
     ]
    }
   ],
   "source": [
    "# Python implementation to create a Database in MySQL\n",
    "import mysql.connector\n",
    "\n",
    "# connecting to the mysql server\n",
    "db = mysql.connector.connect(\n",
    "    host=\"localhost\",\n",
    "    user=\"root\",\n",
    "    passwd=\"mysql\"\n",
    ")\n",
    "\n",
    "# cursor object c\n",
    "c = db.cursor()\n",
    "\n",
    "# executing the create database statement\n",
    "c.execute(\"CREATE DATABASE employee_db\")\n",
    "\n",
    "# fetching all the databases\n",
    "c.execute(\"SHOW DATABASES\")\n",
    "\n",
    "# printing all the databases\n",
    "for i in c:\n",
    "    print(i)\n",
    "c = db.cursor()\n",
    "\n",
    "# finally closing the database connection\n",
    "db.close()"
   ]
  },
  {
   "cell_type": "code",
   "execution_count": 24,
   "id": "7237f973",
   "metadata": {},
   "outputs": [
    {
     "name": "stdout",
     "output_type": "stream",
     "text": [
      "('empid', 'int', 'NO', 'PRI', None, 'auto_increment')\n",
      "('empname', 'varchar(45)', 'YES', '', None, '')\n",
      "('department', 'varchar(45)', 'YES', '', None, '')\n",
      "('salary', 'int', 'YES', '', None, '')\n"
     ]
    }
   ],
   "source": [
    "# Python implementation to create a table in MySQL\n",
    "import mysql.connector\n",
    "\n",
    "# connecting to the mysql server\n",
    "\n",
    "db = mysql.connector.connect(\n",
    "    host=\"localhost\",\n",
    "    user=\"root\",\n",
    "    passwd=\"mysql\",\n",
    "    database=\"employee_db\"\n",
    ")\n",
    "\n",
    "# cursor object c\n",
    "c = db.cursor()\n",
    "\n",
    "# create statement for tblemployee\n",
    "employeetbl_create = \"\"\"CREATE TABLE `employee_db`.`tblemployee` (\n",
    "  `empid` INT NOT NULL AUTO_INCREMENT,\n",
    "  `empname` VARCHAR(45) NULL,\n",
    "  `department` VARCHAR(45) NULL,\n",
    "  `salary` INT NULL,\n",
    "   PRIMARY KEY (`empid`))\"\"\"\n",
    "\n",
    "c.execute(employeetbl_create)\n",
    "\n",
    "c = db.cursor()\n",
    "\n",
    "# fetch tblemployee details in the database\n",
    "c.execute(\"desc tblemployee\")\n",
    "\n",
    "# print the table details\n",
    "for i in c:\n",
    "    print(i)\n",
    "\n",
    "\n",
    "# finally closing the database connection\n",
    "db.close()"
   ]
  },
  {
   "cell_type": "code",
   "execution_count": 25,
   "id": "88a04d18",
   "metadata": {},
   "outputs": [],
   "source": [
    "# Python implementation to insert data into a table in MySQL\n",
    "import mysql.connector\n",
    "\n",
    "# connecting to the mysql server\n",
    "\n",
    "db = mysql.connector.connect(\n",
    "    host=\"localhost\",\n",
    "    user=\"root\",\n",
    "    passwd=\"mysql\",\n",
    "    database=\"employee_db\"\n",
    ")\n",
    "\n",
    "# cursor object c\n",
    "c = db.cursor()\n",
    "\n",
    "# insert statement for tblemployee\n",
    "# this statement will enable us to insert multiple rows at once.\n",
    "employeetbl_insert = \"\"\"INSERT INTO tblemployee (\n",
    "   empname,\n",
    "   department,\n",
    "   salary) \n",
    "   VALUES  (%s, %s, %s)\"\"\"\n",
    "\n",
    "# we save all the row data to be inserted in a data variable\n",
    "data = [(\"Vani\", \"HR\", \"100000\"),\n",
    "        (\"Krish\", \"Accounts\", \"60000\"),\n",
    "        (\"Aishwarya\", \"Sales\", \"25000\"),\n",
    "        (\"Govind\", \"Marketing\", \"40000\")]\n",
    "\n",
    "# execute the insert commands for all rows and commit to the database\n",
    "c.executemany(employeetbl_insert, data)\n",
    "db.commit()\n",
    "\n",
    "# finally closing the database connection\n",
    "db.close()"
   ]
  },
  {
   "cell_type": "code",
   "execution_count": 26,
   "id": "d3d20551",
   "metadata": {},
   "outputs": [
    {
     "name": "stdout",
     "output_type": "stream",
     "text": [
      "(1, 'Vani', 'HR', 100000)\n",
      "(2, 'Krish', 'Accounts', 60000)\n",
      "(3, 'Aishwarya', 'Sales', 25000)\n",
      "(4, 'Govind', 'Marketing', 40000)\n"
     ]
    }
   ],
   "source": [
    "# Python implementation to fetch data from a table in MySQL\n",
    "import mysql.connector\n",
    "\n",
    "# connecting to the mysql server\n",
    "\n",
    "db = mysql.connector.connect(\n",
    "    host=\"localhost\",\n",
    "    user=\"root\",\n",
    "    passwd=\"mysql\",\n",
    "    database=\"employee_db\"\n",
    ")\n",
    "\n",
    "# cursor object c\n",
    "c = db.cursor()\n",
    "\n",
    "# select statement for tblemployee which returns all columns\n",
    "employeetbl_select = \"\"\"SELECT * FROM tblemployee\"\"\"\n",
    "\n",
    "# execute the select query to fetch all rows\n",
    "c.execute(employeetbl_select)\n",
    "\n",
    "# fetch all the data returned by the database\n",
    "employee_data = c.fetchall()\n",
    "\n",
    "# print all the data returned by the database\n",
    "for e in employee_data:\n",
    "    print(e)\n",
    "\n",
    "# finally closing the database connection\n",
    "db.close()"
   ]
  },
  {
   "cell_type": "code",
   "execution_count": 28,
   "id": "9838334f",
   "metadata": {},
   "outputs": [],
   "source": [
    "# Python implementation to update data of a table in MySQL\n",
    "import mysql.connector\n",
    "\n",
    "# connecting to the mysql server\n",
    "\n",
    "db = mysql.connector.connect(\n",
    "    host=\"localhost\",\n",
    "    user=\"root\",\n",
    "    passwd=\"mysql\",\n",
    "    database=\"employee_db\"\n",
    ")\n",
    "\n",
    "# cursor object c\n",
    "c = db.cursor()\n",
    "\n",
    "# update statement for tblemployee\n",
    "# which modifies the salary of Vani\n",
    "employeetbl_update = \"UPDATE tblemployee SET salary = 115000 WHERE empid = 1\"\n",
    "\n",
    "# execute the update query to modify\n",
    "# the salary of employee with\n",
    "# employee id = 1 and commit to the database\n",
    "c.execute(employeetbl_update)\n",
    "db.commit()\n",
    "\n",
    "# finally closing the database connection\n",
    "db.close()"
   ]
  },
  {
   "cell_type": "code",
   "execution_count": 29,
   "id": "042114c3",
   "metadata": {},
   "outputs": [],
   "source": [
    "import mysql.connector\n",
    "\n",
    "# connecting to the mysql server\n",
    "\n",
    "db = mysql.connector.connect(\n",
    "    host=\"localhost\",\n",
    "    user=\"root\",\n",
    "    passwd=\"mysql\",\n",
    "    database=\"employee_db\"\n",
    ")\n",
    "\n",
    "# cursor object c\n",
    "c = db.cursor()\n",
    "\n",
    "# delete statement for tblemployee\n",
    "# which deletes employee Aishwarya having empid 3\n",
    "employeetbl_delete = \"DELETE FROM tblemployee WHERE empid=3\"\n",
    "\n",
    "# execute the delete statement and commit to the database\n",
    "c.execute(employeetbl_delete)\n",
    "db.commit()\n",
    "\n",
    "# finally closing the database connection\n",
    "db.close()"
   ]
  }
 ],
 "metadata": {
  "kernelspec": {
   "display_name": "Python 3",
   "language": "python",
   "name": "python3"
  },
  "language_info": {
   "codemirror_mode": {
    "name": "ipython",
    "version": 3
   },
   "file_extension": ".py",
   "mimetype": "text/x-python",
   "name": "python",
   "nbconvert_exporter": "python",
   "pygments_lexer": "ipython3",
   "version": "3.12.4"
  }
 },
 "nbformat": 4,
 "nbformat_minor": 5
}
