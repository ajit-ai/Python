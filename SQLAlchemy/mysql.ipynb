{
 "cells": [
  {
   "cell_type": "code",
   "execution_count": 1,
   "id": "c14f7375",
   "metadata": {},
   "outputs": [
    {
     "name": "stdout",
     "output_type": "stream",
     "text": [
      "   id   name\n",
      "0   1  geeks\n",
      "1   2    for\n",
      "2   3  geeks\n"
     ]
    },
    {
     "data": {
      "text/plain": [
       "3"
      ]
     },
     "execution_count": 1,
     "metadata": {},
     "output_type": "execute_result"
    }
   ],
   "source": [
    "from sqlalchemy import event\n",
    "import pandas as pd\n",
    "import sqlalchemy\n",
    "import pymysql\n",
    "\n",
    "from sqlalchemy import create_engine\n",
    "\n",
    "engine = create_engine(\"mysql+pymysql://\" + \\\n",
    "                       \"root\" + \":\" +\\\n",
    "                       \"mysql\" + \"@\" + \"localhost\" +\n",
    "                       \":\" + \"3306\" + \"/\" + \"company\" \\\n",
    "                       + \"?\" + \"charset=utf8mb4\")\n",
    "# Choose your configuration in the above code.\n",
    "# replace connection name, password ,database name by yours.\n",
    "\n",
    "conn = engine.connect()\n",
    "\n",
    "dict = {\n",
    "    # data to insert into data frame\n",
    "    'id': [1, 2, 3], 'name': [\"geeks\", \"for\", \"geeks\"]\n",
    "}\n",
    "# storing data in df variable, hence creating dataframe.\n",
    "df = pd.DataFrame(dict)\n",
    "print(df)\n",
    "# inserting data into database\n",
    "df.to_sql(\"table_gfg\", conn, if_exists=\"replace\")\n",
    "\n",
    "\n",
    "@event.listens_for(engine, \"before_cursor_execute\")\n",
    "def receive_before_cursor_execute(conn, \n",
    " cursor, statement, params, context, executemany):\n",
    "    if executemany:\n",
    "        cursor.fast_executemany = True\n",
    "\n",
    "\n",
    "df.to_sql(\"table_gfg\", conn, index=False, if_exists=\"append\")"
   ]
  },
  {
   "cell_type": "code",
   "execution_count": 2,
   "id": "065a4c4e",
   "metadata": {},
   "outputs": [
    {
     "name": "stdout",
     "output_type": "stream",
     "text": [
      "Defaulting to user installation because normal site-packages is not writeable\n",
      "Requirement already satisfied: sqlalchemy in c:\\users\\ajitj\\appdata\\local\\packages\\pythonsoftwarefoundation.python.3.12_qbz5n2kfra8p0\\localcache\\local-packages\\python312\\site-packages (2.0.41)\n",
      "Requirement already satisfied: greenlet>=1 in c:\\users\\ajitj\\appdata\\local\\packages\\pythonsoftwarefoundation.python.3.12_qbz5n2kfra8p0\\localcache\\local-packages\\python312\\site-packages (from sqlalchemy) (3.2.3)\n",
      "Requirement already satisfied: typing-extensions>=4.6.0 in c:\\users\\ajitj\\appdata\\local\\packages\\pythonsoftwarefoundation.python.3.12_qbz5n2kfra8p0\\localcache\\local-packages\\python312\\site-packages (from sqlalchemy) (4.12.2)\n"
     ]
    }
   ],
   "source": [
    "!pip install sqlalchemy"
   ]
  },
  {
   "cell_type": "code",
   "execution_count": 3,
   "id": "cbdfe6dc",
   "metadata": {},
   "outputs": [
    {
     "name": "stdout",
     "output_type": "stream",
     "text": [
      "Connection to the 127.0.0.1 for user root created successfully.\n"
     ]
    }
   ],
   "source": [
    "# IMPORT THE SQALCHEMY LIBRARY's CREATE_ENGINE METHOD\n",
    "from sqlalchemy import create_engine\n",
    "\n",
    "# DEFINE THE DATABASE CREDENTIALS\n",
    "user = 'root'\n",
    "password = 'password'\n",
    "host = '127.0.0.1'\n",
    "port = 3306\n",
    "database = 'GeeksForGeeks'\n",
    "\n",
    "# PYTHON FUNCTION TO CONNECT TO THE MYSQL DATABASE AND\n",
    "# RETURN THE SQLACHEMY ENGINE OBJECT\n",
    "def get_connection():\n",
    "    return create_engine(\n",
    "        url=\"mysql+pymysql://{0}:{1}@{2}:{3}/{4}\".format(\n",
    "            user, password, host, port, database\n",
    "        )\n",
    "    )\n",
    "\n",
    "\n",
    "if __name__ == '__main__':\n",
    "\n",
    "    try:\n",
    "      \n",
    "        # GET THE CONNECTION OBJECT (ENGINE) FOR THE DATABASE\n",
    "        engine = get_connection()\n",
    "        print(\n",
    "            f\"Connection to the {host} for user {user} created successfully.\")\n",
    "    except Exception as ex:\n",
    "        print(\"Connection could not be made due to the following error: \\n\", ex)"
   ]
  },
  {
   "cell_type": "code",
   "execution_count": 5,
   "id": "85505798",
   "metadata": {},
   "outputs": [
    {
     "name": "stdout",
     "output_type": "stream",
     "text": [
      "Collecting psycopg2\n",
      "  Downloading psycopg2-2.9.10-cp312-cp312-win_amd64.whl.metadata (5.0 kB)\n",
      "Downloading psycopg2-2.9.10-cp312-cp312-win_amd64.whl (1.2 MB)\n",
      "   ---------------------------------------- 0.0/1.2 MB ? eta -:--:--\n",
      "   ---------------------------------------- 0.0/1.2 MB ? eta -:--:--\n",
      "   ---------------------------------------- 0.0/1.2 MB ? eta -:--:--\n",
      "   ---------------------------------------- 0.0/1.2 MB ? eta -:--:--\n",
      "   --------- ------------------------------ 0.3/1.2 MB ? eta -:--:--\n",
      "   --------- ------------------------------ 0.3/1.2 MB ? eta -:--:--\n",
      "   --------- ------------------------------ 0.3/1.2 MB ? eta -:--:--\n",
      "   ------------------ --------------------- 0.5/1.2 MB 419.4 kB/s eta 0:00:02\n",
      "   ------------------ --------------------- 0.5/1.2 MB 419.4 kB/s eta 0:00:02\n",
      "   ------------------ --------------------- 0.5/1.2 MB 419.4 kB/s eta 0:00:02\n",
      "   ------------------ --------------------- 0.5/1.2 MB 419.4 kB/s eta 0:00:02\n",
      "   --------------------------- ------------ 0.8/1.2 MB 385.5 kB/s eta 0:00:01\n",
      "   ------------------------------------ --- 1.0/1.2 MB 474.6 kB/s eta 0:00:01\n",
      "   ---------------------------------------- 1.2/1.2 MB 515.3 kB/s eta 0:00:00\n",
      "Installing collected packages: psycopg2\n",
      "Successfully installed psycopg2-2.9.10\n",
      "Note: you may need to restart the kernel to use updated packages.\n"
     ]
    }
   ],
   "source": [
    "pip install psycopg2"
   ]
  },
  {
   "cell_type": "code",
   "execution_count": 6,
   "id": "c2bf8a1a",
   "metadata": {},
   "outputs": [
    {
     "name": "stdout",
     "output_type": "stream",
     "text": [
      "Connection to the 127.0.0.1 for user root created successfully.\n"
     ]
    }
   ],
   "source": [
    "# IMPORT THE SQALCHEMY LIBRARY's CREATE_ENGINE METHOD\n",
    "from sqlalchemy import create_engine\n",
    "\n",
    "# DEFINE THE DATABASE CREDENTIALS\n",
    "user = 'root'\n",
    "password = 'password'\n",
    "host = '127.0.0.1'\n",
    "port = 5432\n",
    "database = 'postgres'\n",
    "\n",
    "# PYTHON FUNCTION TO CONNECT TO THE POSTGRESQL DATABASE AND\n",
    "# RETURN THE SQLACHEMY ENGINE OBJECT\n",
    "def get_connection():\n",
    "    return create_engine(\n",
    "        url=\"postgresql://{0}:{1}@{2}:{3}/{4}\".format(\n",
    "            user, password, host, port, database\n",
    "        )\n",
    "    )\n",
    "\n",
    "\n",
    "if __name__ == '__main__':\n",
    "\n",
    "    try:\n",
    "        # GET THE CONNECTION OBJECT (ENGINE) FOR THE DATABASE\n",
    "        engine = get_connection()\n",
    "        print(\n",
    "            f\"Connection to the {host} for user {user} created successfully.\")\n",
    "    except Exception as ex:\n",
    "        print(\"Connection could not be made due to the following error: \\n\", ex)"
   ]
  },
  {
   "cell_type": "code",
   "execution_count": 8,
   "id": "25d44542",
   "metadata": {},
   "outputs": [
    {
     "name": "stdout",
     "output_type": "stream",
     "text": [
      "Requirement already satisfied: PyMySQL in c:\\users\\ajitj\\appdata\\local\\programs\\python\\python312\\lib\\site-packages (1.1.1)\n",
      "Note: you may need to restart the kernel to use updated packages.\n"
     ]
    }
   ],
   "source": [
    "pip install PyMySQL"
   ]
  },
  {
   "cell_type": "code",
   "execution_count": 11,
   "id": "7e991353",
   "metadata": {},
   "outputs": [
    {
     "name": "stdout",
     "output_type": "stream",
     "text": [
      "(('8.0.32',),)\n"
     ]
    }
   ],
   "source": [
    "import pymysql\n",
    "\n",
    "def mysqlconnect():\n",
    "    # To connect MySQL database\n",
    "    conn = pymysql.connect(\n",
    "        host='localhost',\n",
    "        user='root', \n",
    "        password = \"mysql\",\n",
    "        db='company',  \n",
    "        )\n",
    "    \n",
    "    cur = conn.cursor()\n",
    "    cur.execute(\"select @@version\")\n",
    "    output = cur.fetchall()\n",
    "    print(output)\n",
    "    \n",
    "    # To close the connection\n",
    "    conn.close()\n",
    "\n",
    "# Driver Code\n",
    "if __name__ == \"__main__\" :\n",
    "    mysqlconnect()"
   ]
  },
  {
   "cell_type": "code",
   "execution_count": 13,
   "id": "5014f4d5",
   "metadata": {},
   "outputs": [
    {
     "name": "stdout",
     "output_type": "stream",
     "text": [
      "(1, 'Alice', 22)\n",
      "(2, 'Bob', 23)\n"
     ]
    }
   ],
   "source": [
    "import pymysql\n",
    "\n",
    "def mysqlconnect():\n",
    "    # To connect MySQL database\n",
    "    conn = pymysql.connect(\n",
    "        host='localhost',\n",
    "        user='root', \n",
    "        password = \"mysql\",\n",
    "        db='company',\n",
    "        )\n",
    "    \n",
    "    cur = conn.cursor()\n",
    "    \n",
    "    # Create table if it does not exist\n",
    "    cur.execute(\"\"\"\n",
    "        CREATE TABLE IF NOT EXISTS STUDENT (\n",
    "            id INT PRIMARY KEY AUTO_INCREMENT,\n",
    "            name VARCHAR(100),\n",
    "            age INT\n",
    "        )\n",
    "    \"\"\")\n",
    "    # Optionally, insert sample data if table is empty\n",
    "    cur.execute(\"SELECT COUNT(*) FROM STUDENT\")\n",
    "    if cur.fetchone()[0] == 0:\n",
    "        cur.execute(\"INSERT INTO STUDENT (name, age) VALUES ('Alice', 22), ('Bob', 23)\")\n",
    "        conn.commit()\n",
    "    \n",
    "    # Select query\n",
    "    cur.execute(\"select * from STUDENT\")\n",
    "    output = cur.fetchall()\n",
    "    \n",
    "    for i in output:\n",
    "        print(i)\n",
    "    \n",
    "    # To close the connection\n",
    "    conn.close()\n",
    "\n",
    "# Driver Code\n",
    "if __name__ == \"__main__\" :\n",
    "    mysqlconnect()"
   ]
  },
  {
   "cell_type": "code",
   "execution_count": 15,
   "id": "39d12a5d",
   "metadata": {},
   "outputs": [
    {
     "name": "stdout",
     "output_type": "stream",
     "text": [
      "<mysql.connector.connection_cext.CMySQLConnection object at 0x00000295880EE5A0>\n"
     ]
    }
   ],
   "source": [
    "# Python program to connect\n",
    "# to mysql database\n",
    "\n",
    "\n",
    "import mysql.connector\n",
    "\n",
    "\n",
    "# Connecting from the server\n",
    "conn = mysql.connector.connect(user = 'root',\n",
    "                               host = 'localhost',\n",
    "                               password = 'mysql',\n",
    "                               database = 'company')\n",
    "\n",
    "print(conn)\n",
    "\n",
    "# Disconnecting from the server\n",
    "conn.close()"
   ]
  }
 ],
 "metadata": {
  "kernelspec": {
   "display_name": "Python 3",
   "language": "python",
   "name": "python3"
  },
  "language_info": {
   "codemirror_mode": {
    "name": "ipython",
    "version": 3
   },
   "file_extension": ".py",
   "mimetype": "text/x-python",
   "name": "python",
   "nbconvert_exporter": "python",
   "pygments_lexer": "ipython3",
   "version": "3.12.4"
  }
 },
 "nbformat": 4,
 "nbformat_minor": 5
}
