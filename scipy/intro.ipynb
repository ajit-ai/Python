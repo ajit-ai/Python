{
 "cells": [
  {
   "cell_type": "markdown",
   "id": "78b0a99c",
   "metadata": {},
   "source": [
    "Functions and modules of SciPy\n",
    "1. Optimization (scipy.optimize)\n",
    "minimize: Finds the minimum of scalar or multi variable functions using various algorithms.\n",
    "root: Solves equations or systems of nonlinear equations to find roots.\n",
    "curve_fit: Performs least squares fitting of a function to data.\n",
    "linprog: Solves linear programming problems.\n",
    "2. Integration (scipy.integrate)\n",
    "quad: Performs adaptive quadrature for definite integrals.\n",
    "dblquad and tplquad: Compute double and triple integrals.\n",
    "odeint: Solves ordinary differential equations (ODEs).\n",
    "solve_ivp: Another solver for initial value problems of ODEs with various methods.\n",
    "3. Interpolation (scipy.interpolate)\n",
    "interp1d: One dimensional interpolation with different methods.\n",
    "griddata: Interpolates scattered data points on a grid.\n",
    "BarycentricInterpolator: Efficient polynomial interpolation method.\n",
    "4. Linear Algebra (scipy.linalg)\n",
    "solve: Solves linear systems of equations.\n",
    "inv: Computes the inverse of a matrix.\n",
    "eigh: Computes eigenvalues and eigenvectors of Hermitian matrices.\n",
    "svd: Performs Singular Value Decomposition.\n",
    "5. Statistics (scipy.stats)\n",
    "norm: Normal (Gaussian) distribution functions.\n",
    "ttest_ind: Performs t tests on two independent samples.\n",
    "pearsonr: Computes Pearson correlation coefficient.\n",
    "describe: Summarizes data with descriptive statistics.\n",
    "6. Signal Processing (scipy.signal)\n",
    "convolve: Computes the convolution of two signals.\n",
    "butter: Designs Butterworth filters.\n",
    "find_peaks: Detects peaks in data.\n",
    "spectrogram: Computes the spectrogram of a signal.\n",
    "7. Fourier Transforms (scipy.fft)\n",
    "fft: Computes the one dimensional discrete Fourier Transform.\n",
    "ifft: Computes the inverse Fourier Transform.\n",
    "fft2: Computes the two-dimensional Fourier Transform.\n",
    "8. Sparse Matrices (scipy.sparse)\n",
    "csr_matrix: Compressed Sparse Row matrix format.\n",
    "csc_matrix: Compressed Sparse Column matrix format.\n",
    "spsolve: Solves sparse linear systems efficiently.\n",
    "Applications\n",
    "Scientific Research and Engineering: SciPy is used extensively to model physical systems, solve differential equations and perform numerical simulations in fields such as physics, chemistry, biology and engineering.\n",
    "Data Analysis and Statistics: With its rich statistical functions, SciPy aids in hypothesis testing, descriptive statistics and distribution fitting. Data scientists use it to process datasets, run statistical tests and generate probabilistic models.\n",
    "Signal and Image Processing: SciPy’s signal processing tools enable filtering, Fourier transforms and spectral analysis of audio, radar or biomedical signals. Its image processing module helps in tasks like image filtering, edge detection and feature extraction.\n",
    "Optimization Problems: Whether in machine learning, finance or operations research, SciPy’s optimization routines solve linear and nonlinear optimization problems enabling parameter tuning, resource allocation and risk management.\n",
    "Machine Learning and AI: SciPy serves as a foundational library supporting machine learning frameworks by providing functions for data preprocessing, feature extraction and mathematical operations that underpin many algorithms."
   ]
  },
  {
   "cell_type": "code",
   "execution_count": 1,
   "id": "80fd1125",
   "metadata": {},
   "outputs": [],
   "source": [
    "import numpy as np\n",
    "from scipy.linalg import det"
   ]
  },
  {
   "cell_type": "code",
   "execution_count": 2,
   "id": "54e0b8f1",
   "metadata": {},
   "outputs": [
    {
     "name": "stdout",
     "output_type": "stream",
     "text": [
      "Determinant of the matrix is: 0.9999999999999987\n"
     ]
    }
   ],
   "source": [
    "matrix = np.array([[1, 2, 3],\n",
    "                   [0, 1, 4],\n",
    "                   [5, 6, 0]])\n",
    "\n",
    "determinant = det(matrix)\n",
    "\n",
    "print(f\"Determinant of the matrix is: {determinant}\")"
   ]
  }
 ],
 "metadata": {
  "kernelspec": {
   "display_name": "base",
   "language": "python",
   "name": "python3"
  },
  "language_info": {
   "codemirror_mode": {
    "name": "ipython",
    "version": 3
   },
   "file_extension": ".py",
   "mimetype": "text/x-python",
   "name": "python",
   "nbconvert_exporter": "python",
   "pygments_lexer": "ipython3",
   "version": "3.12.4"
  }
 },
 "nbformat": 4,
 "nbformat_minor": 5
}
