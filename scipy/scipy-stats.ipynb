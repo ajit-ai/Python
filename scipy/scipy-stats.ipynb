{
 "cells": [
  {
   "cell_type": "code",
   "execution_count": 1,
   "id": "242696d0",
   "metadata": {},
   "outputs": [
    {
     "name": "stdout",
     "output_type": "stream",
     "text": [
      "[0.02275013 0.5        0.97724987]\n"
     ]
    }
   ],
   "source": [
    "# Importing the numpy module for numpy array\n",
    "import numpy as npy\n",
    "\n",
    "# Importing the scipy.stats.norm\n",
    "from scipy.stats import norm\n",
    "\n",
    "# calculating the cdf for the numpy array\n",
    "print(norm.cdf(npy.array([-2, 0, 2])))"
   ]
  },
  {
   "cell_type": "code",
   "execution_count": 2,
   "id": "13051bed",
   "metadata": {},
   "outputs": [
    {
     "name": "stdout",
     "output_type": "stream",
     "text": [
      "2.254068341376122\n"
     ]
    }
   ],
   "source": [
    "# importing the required package\n",
    "from scipy.stats import circmean\n",
    "\n",
    "# calculating the circular mean\n",
    "print(circmean([0.4, 2.4, 3.6], high=4, low=2))\n",
    "#                    |              |         |\n",
    "#               -------------  ------------  ------------\n",
    "#               sample array   higher bound  lower bound"
   ]
  },
  {
   "cell_type": "code",
   "execution_count": 3,
   "id": "b9d11b53",
   "metadata": {},
   "outputs": [
    {
     "name": "stdout",
     "output_type": "stream",
     "text": [
      "CrosstabResult(elements=(array(['A', 'B'], dtype='<U1'), array(['P', 'Q', 'R'], dtype='<U1')), count=array([[2, 3, 0],\n",
      "       [1, 0, 4]]))\n",
      "['A' 'B']\n",
      "['P' 'Q' 'R']\n",
      "[[2 3 0]\n",
      " [1 0 4]]\n"
     ]
    }
   ],
   "source": [
    "# importing the required package\n",
    "from scipy.stats.contingency import crosstab\n",
    "\n",
    "# list p\n",
    "a = ['A', 'B', 'A', 'A', 'B', 'B', 'A', 'A', 'B', 'B']\n",
    "\n",
    "# list q\n",
    "p = ['P', 'P', 'P', 'Q', 'R', 'R', 'Q', 'Q', 'R', 'R']\n",
    "\n",
    "# result ndarray\n",
    "print(crosstab(a, p))\n",
    "\n",
    "# using the crosstab function and extracting\n",
    "# the informations like - a's unique values,\n",
    "# b's unique values and the final count of the pairs.\n",
    "(auv, puv), cnt = crosstab(a,  p)\n",
    "\n",
    "# printing list a's unique values\n",
    "print(auv)\n",
    "\n",
    "# printing list p's unique values\n",
    "print(puv)\n",
    "\n",
    "# printing the count object which tells us\n",
    "# the pairs count for each unique values of a and p.\n",
    "print(cnt)"
   ]
  },
  {
   "cell_type": "code",
   "execution_count": 4,
   "id": "9b76c40d",
   "metadata": {},
   "outputs": [
    {
     "name": "stdout",
     "output_type": "stream",
     "text": [
      "DescribeResult(nobs=8, minmax=(10, 80), mean=45.0, variance=600.0, skewness=0.0, kurtosis=-1.2380952380952381)\n"
     ]
    }
   ],
   "source": [
    "# importing the stats and numpy module\n",
    "from scipy import stats as st\n",
    "import numpy as npy\n",
    "\n",
    "# ID input array\n",
    "array = npy.array([10, 20, 30, 40, 50, 60, 70, 80])\n",
    "\n",
    "# calling the describe function\n",
    "print(st.describe(array))"
   ]
  },
  {
   "cell_type": "code",
   "execution_count": 5,
   "id": "2c07fd75",
   "metadata": {},
   "outputs": [
    {
     "name": "stdout",
     "output_type": "stream",
     "text": [
      "DescribeResult(nobs=6, minmax=(array([2, 3]), array([9, 9])), mean=array([6.        , 6.33333333]), variance=array([6.4       , 4.66666667]), skewness=array([-0.40594941, -0.3380617 ]), kurtosis=array([-0.9140625, -0.96     ]))\n"
     ]
    }
   ],
   "source": [
    "# importing the stats and numpy module\n",
    "from scipy import stats as st\n",
    "import numpy as npy\n",
    "\n",
    "# 2D array\n",
    "nd = npy.array([[5, 6], [2, 3], [5, 5],\\\n",
    "                [7, 9], [9, 8], [8, 7]])\n",
    "\n",
    "# calling the describe function\n",
    "print(st.describe(nd))"
   ]
  },
  {
   "cell_type": "code",
   "execution_count": 6,
   "id": "c425ca49",
   "metadata": {},
   "outputs": [
    {
     "name": "stdout",
     "output_type": "stream",
     "text": [
      "0.2969789087334558\n"
     ]
    }
   ],
   "source": [
    "# importing the stats module\n",
    "from scipy import stats as st\n",
    "\n",
    "# the random dataset\n",
    "dataset = st.norm.rvs(size=88)\n",
    "\n",
    "# calling the kurtosis function\n",
    "print(st.kurtosis(dataset))"
   ]
  },
  {
   "cell_type": "code",
   "execution_count": 7,
   "id": "59a1a752",
   "metadata": {},
   "outputs": [
    {
     "name": "stdout",
     "output_type": "stream",
     "text": [
      "[-0.95649434  0.46555034 -0.98612027 -0.03809048  0.49517627  1.94684689\n",
      " -0.92686841]\n",
      "[[-0.4330127  -0.16903085]\n",
      " [-1.73205081 -1.69030851]\n",
      " [-0.4330127  -0.6761234 ]\n",
      " [ 0.4330127   1.35224681]\n",
      " [ 1.29903811  0.84515425]\n",
      " [ 0.8660254   0.3380617 ]]\n"
     ]
    }
   ],
   "source": [
    "# importing the stats module\n",
    "from scipy import stats as st\n",
    "\n",
    "# the random 1D ARRAY ( dataset )\n",
    "dataset = [0.02, 0.5, 0.01, 0.33, 0.51, 1.0, 0.03]\n",
    "\n",
    "# the random 2D ARRAY ( dataset )\n",
    "nd = [[5.1, 6.1], [2.1, 3.1], [5.1, 5.1],\\\n",
    "      [7.1, 9.1], [9.1, 8.1], [8.1, 7.1]]\n",
    "\n",
    "# calling the kurtosis function\n",
    "# 1D dataset\n",
    "print(st.zscore(dataset))\n",
    "\n",
    "# calling the kurtosis function\n",
    "# 2D dataset\n",
    "print(st.zscore(nd))"
   ]
  },
  {
   "cell_type": "code",
   "execution_count": 8,
   "id": "82a4bc5a",
   "metadata": {},
   "outputs": [
    {
     "name": "stdout",
     "output_type": "stream",
     "text": [
      "0.3260023450293658\n"
     ]
    }
   ],
   "source": [
    "# importing the stats module\n",
    "from scipy import stats as st\n",
    "\n",
    "# ID input array\n",
    "array = [99, 10, 30, 55, 50, 0, 90, 0]\n",
    "\n",
    "# calling the skew function\n",
    "print(st.skew(array))"
   ]
  },
  {
   "cell_type": "code",
   "execution_count": 9,
   "id": "0df3e30d",
   "metadata": {},
   "outputs": [
    {
     "name": "stdout",
     "output_type": "stream",
     "text": [
      "ModeResult(mode=array([1, 3], dtype=int64), count=array([2, 3], dtype=int64))\n"
     ]
    }
   ],
   "source": [
    "# importing the stats module\n",
    "from scipy import stats as st\n",
    "\n",
    "# sample input array\n",
    "array = [[2, 3], [3, 1], [1, 3],\\\n",
    "         [3, 3], [4, 2], [4, 4],\\\n",
    "         [1, 2], [5, 6]]\n",
    "\n",
    "# calling the mode function\n",
    "print(st.mode(array))"
   ]
  },
  {
   "cell_type": "code",
   "execution_count": 10,
   "id": "90277a46",
   "metadata": {},
   "outputs": [
    {
     "name": "stdout",
     "output_type": "stream",
     "text": [
      "[ 2.  3. 10.  1.  6.  8.  7.  4.  5.  9.]\n"
     ]
    }
   ],
   "source": [
    "# importing the stats module\n",
    "from scipy import stats as st\n",
    "\n",
    "# sample input array\n",
    "array = [2, 3, 15, 1, 6, 9, 8, 4, 5, 10]\n",
    "\n",
    "# calling the function\n",
    "print(st.rankdata(array))"
   ]
  }
 ],
 "metadata": {
  "kernelspec": {
   "display_name": "base",
   "language": "python",
   "name": "python3"
  },
  "language_info": {
   "codemirror_mode": {
    "name": "ipython",
    "version": 3
   },
   "file_extension": ".py",
   "mimetype": "text/x-python",
   "name": "python",
   "nbconvert_exporter": "python",
   "pygments_lexer": "ipython3",
   "version": "3.12.4"
  }
 },
 "nbformat": 4,
 "nbformat_minor": 5
}
