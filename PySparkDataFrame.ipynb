{
  "nbformat": 4,
  "nbformat_minor": 0,
  "metadata": {
    "colab": {
      "provenance": [],
      "authorship_tag": "ABX9TyMuyWC1g7lIDi+wbL/j9jHD",
      "include_colab_link": true
    },
    "kernelspec": {
      "name": "python3",
      "display_name": "Python 3"
    },
    "language_info": {
      "name": "python"
    }
  },
  "cells": [
    {
      "cell_type": "markdown",
      "metadata": {
        "id": "view-in-github",
        "colab_type": "text"
      },
      "source": [
        "<a href=\"https://colab.research.google.com/github/ajit-ai/Python/blob/main/PySparkDataFrame.ipynb\" target=\"_parent\"><img src=\"https://colab.research.google.com/assets/colab-badge.svg\" alt=\"Open In Colab\"/></a>"
      ]
    },
    {
      "cell_type": "code",
      "source": [
        "# importing module\n",
        "import pyspark\n",
        "\n",
        "# importing sparksession from pyspark.sql module\n",
        "from pyspark.sql import SparkSession\n",
        "\n",
        "# creating sparksession and giving an app name\n",
        "spark = SparkSession.builder.appName('sparkdf').getOrCreate()\n",
        "\n",
        "# list  of students  data\n",
        "data = [[\"1\", \"sravan\", \"vignan\"], [\"2\", \"ojaswi\", \"vvit\"],\n",
        "        [\"3\", \"rohith\", \"vvit\"], [\"4\", \"sridevi\", \"vignan\"],\n",
        "        [\"1\", \"sravan\", \"vignan\"], [\"5\", \"gnanesh\", \"iit\"]]\n",
        "\n",
        "# specify column names\n",
        "columns = ['student ID', 'student NAME', 'college']\n",
        "\n",
        "# creating a dataframe from the lists of data\n",
        "dataframe = spark.createDataFrame(data, columns)\n",
        "\n",
        "print(\"Actual data in dataframe\")\n",
        "# show dataframe\n",
        "dataframe.show()"
      ],
      "metadata": {
        "colab": {
          "base_uri": "https://localhost:8080/"
        },
        "id": "mZ-ZrPte2b1D",
        "outputId": "867feb2f-36b2-4ee3-d1e5-9a8a5cf90beb"
      },
      "execution_count": 1,
      "outputs": [
        {
          "output_type": "stream",
          "name": "stdout",
          "text": [
            "Actual data in dataframe\n",
            "+----------+------------+-------+\n",
            "|student ID|student NAME|college|\n",
            "+----------+------------+-------+\n",
            "|         1|      sravan| vignan|\n",
            "|         2|      ojaswi|   vvit|\n",
            "|         3|      rohith|   vvit|\n",
            "|         4|     sridevi| vignan|\n",
            "|         1|      sravan| vignan|\n",
            "|         5|     gnanesh|    iit|\n",
            "+----------+------------+-------+\n",
            "\n"
          ]
        }
      ]
    },
    {
      "cell_type": "code",
      "source": [
        "# select column with column name\n",
        "dataframe.select('student ID').show()"
      ],
      "metadata": {
        "colab": {
          "base_uri": "https://localhost:8080/"
        },
        "id": "wt_FZQiK58GK",
        "outputId": "1327ca19-c986-4814-b744-e93fb6cc8ad2"
      },
      "execution_count": 2,
      "outputs": [
        {
          "output_type": "stream",
          "name": "stdout",
          "text": [
            "+----------+\n",
            "|student ID|\n",
            "+----------+\n",
            "|         1|\n",
            "|         2|\n",
            "|         3|\n",
            "|         4|\n",
            "|         1|\n",
            "|         5|\n",
            "+----------+\n",
            "\n"
          ]
        }
      ]
    },
    {
      "cell_type": "code",
      "source": [
        "# select multiple column with column name\n",
        "dataframe.select(['student ID', 'student NAME', 'college']).show()"
      ],
      "metadata": {
        "colab": {
          "base_uri": "https://localhost:8080/"
        },
        "id": "qv1WWzj86H45",
        "outputId": "c5edd0ac-3db8-4e54-a1c2-147f5390a642"
      },
      "execution_count": 3,
      "outputs": [
        {
          "output_type": "stream",
          "name": "stdout",
          "text": [
            "+----------+------------+-------+\n",
            "|student ID|student NAME|college|\n",
            "+----------+------------+-------+\n",
            "|         1|      sravan| vignan|\n",
            "|         2|      ojaswi|   vvit|\n",
            "|         3|      rohith|   vvit|\n",
            "|         4|     sridevi| vignan|\n",
            "|         1|      sravan| vignan|\n",
            "|         5|     gnanesh|    iit|\n",
            "+----------+------------+-------+\n",
            "\n"
          ]
        }
      ]
    },
    {
      "cell_type": "code",
      "source": [
        "# select column with column number 1\n",
        "dataframe.select(dataframe.columns[1]).show()"
      ],
      "metadata": {
        "colab": {
          "base_uri": "https://localhost:8080/"
        },
        "id": "uX9pzcQv6wmp",
        "outputId": "72e5221a-11c7-4bab-e905-0f8813c53025"
      },
      "execution_count": 4,
      "outputs": [
        {
          "output_type": "stream",
          "name": "stdout",
          "text": [
            "+------------+\n",
            "|student NAME|\n",
            "+------------+\n",
            "|      sravan|\n",
            "|      ojaswi|\n",
            "|      rohith|\n",
            "|     sridevi|\n",
            "|      sravan|\n",
            "|     gnanesh|\n",
            "+------------+\n",
            "\n"
          ]
        }
      ]
    },
    {
      "cell_type": "code",
      "source": [
        "# prompt: select column all in  df\n",
        "\n",
        "dataframe.select(*dataframe.columns).show()"
      ],
      "metadata": {
        "colab": {
          "base_uri": "https://localhost:8080/"
        },
        "id": "BmE4cV3S7HBp",
        "outputId": "ce579690-daf0-49d7-c917-2479bdd268f9"
      },
      "execution_count": 5,
      "outputs": [
        {
          "output_type": "stream",
          "name": "stdout",
          "text": [
            "+----------+------------+-------+\n",
            "|student ID|student NAME|college|\n",
            "+----------+------------+-------+\n",
            "|         1|      sravan| vignan|\n",
            "|         2|      ojaswi|   vvit|\n",
            "|         3|      rohith|   vvit|\n",
            "|         4|     sridevi| vignan|\n",
            "|         1|      sravan| vignan|\n",
            "|         5|     gnanesh|    iit|\n",
            "+----------+------------+-------+\n",
            "\n"
          ]
        }
      ]
    },
    {
      "cell_type": "code",
      "source": [
        "# select column with column number slice\n",
        "# operator\n",
        "dataframe.select(dataframe.columns[0:3]).show()"
      ],
      "metadata": {
        "colab": {
          "base_uri": "https://localhost:8080/"
        },
        "id": "08eA9zJX7kd3",
        "outputId": "c8251a56-db67-4127-a082-407dc08ffaa0"
      },
      "execution_count": 6,
      "outputs": [
        {
          "output_type": "stream",
          "name": "stdout",
          "text": [
            "+----------+------------+-------+\n",
            "|student ID|student NAME|college|\n",
            "+----------+------------+-------+\n",
            "|         1|      sravan| vignan|\n",
            "|         2|      ojaswi|   vvit|\n",
            "|         3|      rohith|   vvit|\n",
            "|         4|     sridevi| vignan|\n",
            "|         1|      sravan| vignan|\n",
            "|         5|     gnanesh|    iit|\n",
            "+----------+------------+-------+\n",
            "\n"
          ]
        }
      ]
    },
    {
      "cell_type": "code",
      "source": [
        "from pyspark.sql import SparkSession\n",
        "from pyspark.sql.functions import trim, ltrim, rtrim, col\n",
        "\n",
        "# Create a Spark session\n",
        "spark = SparkSession.builder.appName(\"WhiteSpaceRemoval\").getOrCreate()\n",
        "\n",
        "# Define your data\n",
        "data = [(1, \"ABC    \"), (2, \"     DEF\"), (3, \"        GHI    \")]\n",
        "\n",
        "# Create a DataFrame\n",
        "df = spark.createDataFrame(data, [\"col1\", \"col2\"])\n",
        "\n",
        "# Show the initial DataFrame\n",
        "df.show()\n",
        "\n",
        "# Using withColumn to remove white spaces\n",
        "df = df.withColumn(\"col2\", rtrim(col(\"col2\")))\n",
        "df.show()\n",
        "\n",
        "# Stop the Spark session\n",
        "spark.stop()"
      ],
      "metadata": {
        "colab": {
          "base_uri": "https://localhost:8080/"
        },
        "id": "vN_oRcan8O1x",
        "outputId": "f66d6740-8f0c-4554-97f1-22c31394657c"
      },
      "execution_count": 7,
      "outputs": [
        {
          "output_type": "stream",
          "name": "stdout",
          "text": [
            "+----+---------------+\n",
            "|col1|           col2|\n",
            "+----+---------------+\n",
            "|   1|        ABC    |\n",
            "|   2|            DEF|\n",
            "|   3|        GHI    |\n",
            "+----+---------------+\n",
            "\n",
            "+----+-----------+\n",
            "|col1|       col2|\n",
            "+----+-----------+\n",
            "|   1|        ABC|\n",
            "|   2|        DEF|\n",
            "|   3|        GHI|\n",
            "+----+-----------+\n",
            "\n"
          ]
        }
      ]
    },
    {
      "cell_type": "code",
      "source": [
        "from pyspark.sql import SparkSession\n",
        "from pyspark.sql.functions import trim, ltrim, rtrim, col\n",
        "\n",
        "# Create a Spark session\n",
        "spark = SparkSession.builder.appName(\"WhiteSpaceRemoval\").getOrCreate()\n",
        "\n",
        "# Define your data\n",
        "data = [(1, \"ABC    \"), (2, \"     DEF\"), (3, \"        GHI    \")]\n",
        "\n",
        "# Create a DataFrame\n",
        "df = spark.createDataFrame(data, [\"col1\", \"col2\"])\n",
        "\n",
        "# Show the initial DataFrame\n",
        "df.show()\n",
        "\n",
        "# Using withColumn to remove white spaces\n",
        "df = df.withColumn(\"col2\", trim(col(\"col2\")))\n",
        "df.show()\n",
        "\n",
        "# Stop the Spark session\n",
        "spark.stop()"
      ],
      "metadata": {
        "colab": {
          "base_uri": "https://localhost:8080/"
        },
        "id": "Iq9P1GaW8Xhq",
        "outputId": "25a09a3c-a400-4e58-c3cb-452d4dd985ea"
      },
      "execution_count": 8,
      "outputs": [
        {
          "output_type": "stream",
          "name": "stdout",
          "text": [
            "+----+---------------+\n",
            "|col1|           col2|\n",
            "+----+---------------+\n",
            "|   1|        ABC    |\n",
            "|   2|            DEF|\n",
            "|   3|        GHI    |\n",
            "+----+---------------+\n",
            "\n",
            "+----+----+\n",
            "|col1|col2|\n",
            "+----+----+\n",
            "|   1| ABC|\n",
            "|   2| DEF|\n",
            "|   3| GHI|\n",
            "+----+----+\n",
            "\n"
          ]
        }
      ]
    },
    {
      "cell_type": "code",
      "source": [
        "from pyspark.sql import SparkSession\n",
        "from pyspark.sql.functions import trim, ltrim, rtrim, col\n",
        "\n",
        "# Create a Spark session\n",
        "spark = SparkSession.builder.appName(\"WhiteSpaceRemoval\").getOrCreate()\n",
        "\n",
        "# Define your data\n",
        "data = [(1, \"ABC    \"), (2, \"     DEF\"), (3, \"        GHI    \")]\n",
        "\n",
        "# Create a DataFrame\n",
        "df = spark.createDataFrame(data, [\"col1\", \"col2\"])\n",
        "\n",
        "# Show the initial DataFrame\n",
        "df.show()\n",
        "\n",
        "# Using select to remove white spaces\n",
        "df = df.select(col(\"col1\"), trim(col(\"col2\")).alias(\"col2\"))\n",
        "df.show()\n",
        "\n",
        "# Stop the Spark session\n",
        "spark.stop()"
      ],
      "metadata": {
        "colab": {
          "base_uri": "https://localhost:8080/"
        },
        "id": "7gPAhyhS9lcC",
        "outputId": "b1945398-82ca-43cd-8f70-049a8d22ac07"
      },
      "execution_count": 9,
      "outputs": [
        {
          "output_type": "stream",
          "name": "stdout",
          "text": [
            "+----+---------------+\n",
            "|col1|           col2|\n",
            "+----+---------------+\n",
            "|   1|        ABC    |\n",
            "|   2|            DEF|\n",
            "|   3|        GHI    |\n",
            "+----+---------------+\n",
            "\n",
            "+----+----+\n",
            "|col1|col2|\n",
            "+----+----+\n",
            "|   1| ABC|\n",
            "|   2| DEF|\n",
            "|   3| GHI|\n",
            "+----+----+\n",
            "\n"
          ]
        }
      ]
    },
    {
      "cell_type": "code",
      "source": [
        "from pyspark.sql import SparkSession\n",
        "from pyspark.sql.functions import trim, ltrim, rtrim, col\n",
        "\n",
        "# Create a Spark session\n",
        "spark = SparkSession.builder.appName(\"WhiteSpaceRemoval\").getOrCreate()\n",
        "\n",
        "# Define your data\n",
        "data = [(1, \"ABC    \"), (2, \"     DEF\"), (3, \"        GHI    \")]\n",
        "\n",
        "# Create a DataFrame\n",
        "df = spark.createDataFrame(data, [\"col1\", \"col2\"])\n",
        "\n",
        "# Show the initial DataFrame\n",
        "df.show()\n",
        "\n",
        "# Using SQL Expression to remove white spaces\n",
        "df.createOrReplaceTempView(\"TAB\")\n",
        "spark.sql(\"SELECT col1, TRIM(col2) AS col2 FROM TAB\").show()\n",
        "\n",
        "# Stop the Spark session\n",
        "spark.stop()"
      ],
      "metadata": {
        "colab": {
          "base_uri": "https://localhost:8080/"
        },
        "id": "E8J9NkZI9qIh",
        "outputId": "120a2458-e6d4-4787-f266-f7f9e09fd8de"
      },
      "execution_count": 10,
      "outputs": [
        {
          "output_type": "stream",
          "name": "stdout",
          "text": [
            "+----+---------------+\n",
            "|col1|           col2|\n",
            "+----+---------------+\n",
            "|   1|        ABC    |\n",
            "|   2|            DEF|\n",
            "|   3|        GHI    |\n",
            "+----+---------------+\n",
            "\n",
            "+----+----+\n",
            "|col1|col2|\n",
            "+----+----+\n",
            "|   1| ABC|\n",
            "|   2| DEF|\n",
            "|   3| GHI|\n",
            "+----+----+\n",
            "\n"
          ]
        }
      ]
    },
    {
      "cell_type": "code",
      "source": [
        "from pyspark.sql import SparkSession\n",
        "from pyspark.sql.functions import trim, ltrim, rtrim\n",
        "\n",
        "# Create a Spark session if one does not exist\n",
        "spark = SparkSession.builder.appName(\"WhiteSpaceRemoval\").getOrCreate()\n",
        "\n",
        "data = [(1, \"ABC    \"), (2, \"     DEF\"), (3, \"        GHI    \")]\n",
        "df = spark.createDataFrame(data=data, schema=[\"col1\", \"col2\"])\n",
        "df.show()\n",
        "\n",
        "\n",
        "# using withColumn and trim()\n",
        "df.withColumn(\"col2\", trim(\"col2\")).show()\n",
        "\n",
        "# using ltrim()\n",
        "df.withColumn(\"col2\", ltrim(\"col2\")).show()\n",
        "\n",
        "# using rtrim()\n",
        "df.withColumn(\"col2\", rtrim(\"col2\")).show()\n",
        "\n",
        "# Using select\n",
        "df.select(\"col1\", trim(\"col2\").alias('col2')).show()\n",
        "\n",
        "# Using SQL Expression\n",
        "df.createOrReplaceTempView(\"TAB\")\n",
        "spark.sql(\"select col1,trim(col2) as col2 from TAB\").show()"
      ],
      "metadata": {
        "colab": {
          "base_uri": "https://localhost:8080/"
        },
        "id": "l6GF7EOK9zoh",
        "outputId": "0fe06bf7-1f81-446a-b0d3-0cae090a362a"
      },
      "execution_count": 12,
      "outputs": [
        {
          "output_type": "stream",
          "name": "stdout",
          "text": [
            "+----+---------------+\n",
            "|col1|           col2|\n",
            "+----+---------------+\n",
            "|   1|        ABC    |\n",
            "|   2|            DEF|\n",
            "|   3|        GHI    |\n",
            "+----+---------------+\n",
            "\n",
            "+----+----+\n",
            "|col1|col2|\n",
            "+----+----+\n",
            "|   1| ABC|\n",
            "|   2| DEF|\n",
            "|   3| GHI|\n",
            "+----+----+\n",
            "\n",
            "+----+-------+\n",
            "|col1|   col2|\n",
            "+----+-------+\n",
            "|   1|ABC    |\n",
            "|   2|    DEF|\n",
            "|   3|GHI    |\n",
            "+----+-------+\n",
            "\n",
            "+----+-----------+\n",
            "|col1|       col2|\n",
            "+----+-----------+\n",
            "|   1|        ABC|\n",
            "|   2|        DEF|\n",
            "|   3|        GHI|\n",
            "+----+-----------+\n",
            "\n",
            "+----+----+\n",
            "|col1|col2|\n",
            "+----+----+\n",
            "|   1| ABC|\n",
            "|   2| DEF|\n",
            "|   3| GHI|\n",
            "+----+----+\n",
            "\n",
            "+----+----+\n",
            "|col1|col2|\n",
            "+----+----+\n",
            "|   1| ABC|\n",
            "|   2| DEF|\n",
            "|   3| GHI|\n",
            "+----+----+\n",
            "\n"
          ]
        }
      ]
    },
    {
      "cell_type": "code",
      "source": [
        "# importing necessary libraries\n",
        "from pyspark.sql import SparkSession\n",
        "from pyspark.sql.functions import col, substring\n",
        "\n",
        "\n",
        "# function to create new SparkSession\n",
        "def create_session():\n",
        "    spk = SparkSession.builder \\\n",
        "        .master(\"local\") \\\n",
        "        .appName(\"Substring.com\") \\\n",
        "        .getOrCreate()\n",
        "    return spk\n",
        "\n",
        "def create_df(spark, data, schema):\n",
        "\n",
        "    df1 = spark.createDataFrame(data, schema)\n",
        "    return df1\n",
        "\n",
        "if __name__ == \"__main__\":\n",
        "\n",
        "    input_data = [(\"India\", +91, 2701, 2020),\n",
        "                  (\"United States of America\", +1, 1301, 2020),\n",
        "                  (\"Israel\", +972, 3102, 2020),\n",
        "                  (\"Dubai\", +971, 2901, 2020),\n",
        "                  (\"Russia\", 7, 3101, 2020)]\n",
        "\n",
        "    # calling function to create SparkSession\n",
        "    spark = create_session()\n",
        "\n",
        "    schema = [\"Country\", \"Country Code\",\n",
        "              \"Data\", \"Year\"]\n",
        "\n",
        "    # calling function to create dataframe\n",
        "    df = create_df(spark, input_data, schema)\n",
        "    df.show()"
      ],
      "metadata": {
        "colab": {
          "base_uri": "https://localhost:8080/"
        },
        "id": "ayCPuCjP-LUo",
        "outputId": "5eb3127e-536b-4d6c-9850-997c1d3c730a"
      },
      "execution_count": 13,
      "outputs": [
        {
          "output_type": "stream",
          "name": "stdout",
          "text": [
            "+--------------------+------------+----+----+\n",
            "|             Country|Country Code|Data|Year|\n",
            "+--------------------+------------+----+----+\n",
            "|               India|          91|2701|2020|\n",
            "|United States of ...|           1|1301|2020|\n",
            "|              Israel|         972|3102|2020|\n",
            "|               Dubai|         971|2901|2020|\n",
            "|              Russia|           7|3101|2020|\n",
            "+--------------------+------------+----+----+\n",
            "\n"
          ]
        }
      ]
    },
    {
      "cell_type": "code",
      "source": [],
      "metadata": {
        "id": "OFDh_rFZFFtt"
      },
      "execution_count": null,
      "outputs": []
    }
  ]
}