{
 "cells": [
  {
   "cell_type": "code",
   "execution_count": 1,
   "id": "bf0479d9",
   "metadata": {},
   "outputs": [
    {
     "name": "stdout",
     "output_type": "stream",
     "text": [
      "Series([], dtype: object)\n",
      "0    a\n",
      "1    e\n",
      "2    i\n",
      "3    o\n",
      "4    u\n",
      "dtype: object\n"
     ]
    }
   ],
   "source": [
    "import pandas as pd\n",
    "import numpy as np\n",
    "\n",
    "ser = pd.Series(dtype=\"object\")\n",
    "\n",
    "print(ser)\n",
    "\n",
    "data = np.array(['a', 'e', 'i', 'o', 'u'])\n",
    "\n",
    "ser = pd.Series(data)\n",
    "print(ser)"
   ]
  },
  {
   "cell_type": "code",
   "execution_count": 2,
   "id": "ab49338c",
   "metadata": {},
   "outputs": [
    {
     "name": "stdout",
     "output_type": "stream",
     "text": [
      "Empty DataFrame\n",
      "Columns: []\n",
      "Index: []\n",
      "    Words\n",
      "0   Geeks\n",
      "1     For\n",
      "2   Geeks\n",
      "3      is\n",
      "4  portal\n",
      "5     for\n",
      "6   Geeks\n"
     ]
    }
   ],
   "source": [
    "import pandas as pd\n",
    "\n",
    "df = pd.DataFrame()\n",
    "print(df)\n",
    "\n",
    "lst = ['Geeks', 'For', 'Geeks', 'is', 'portal', 'for', 'Geeks']\n",
    "\n",
    "df = pd.DataFrame(lst, columns=['Words'])\n",
    "\n",
    "print(df)"
   ]
  },
  {
   "cell_type": "code",
   "execution_count": 7,
   "id": "733886a9",
   "metadata": {},
   "outputs": [
    {
     "data": {
      "text/html": [
       "<div>\n",
       "<style scoped>\n",
       "    .dataframe tbody tr th:only-of-type {\n",
       "        vertical-align: middle;\n",
       "    }\n",
       "\n",
       "    .dataframe tbody tr th {\n",
       "        vertical-align: top;\n",
       "    }\n",
       "\n",
       "    .dataframe thead th {\n",
       "        text-align: right;\n",
       "    }\n",
       "</style>\n",
       "<table border=\"1\" class=\"dataframe\">\n",
       "  <thead>\n",
       "    <tr style=\"text-align: right;\">\n",
       "      <th></th>\n",
       "      <th>First Name</th>\n",
       "      <th>Last Name</th>\n",
       "      <th>Sex</th>\n",
       "      <th>Email</th>\n",
       "      <th>Date of birth</th>\n",
       "      <th>Job Title</th>\n",
       "    </tr>\n",
       "  </thead>\n",
       "  <tbody>\n",
       "    <tr>\n",
       "      <th>0</th>\n",
       "      <td>Shelby</td>\n",
       "      <td>Terrell</td>\n",
       "      <td>Male</td>\n",
       "      <td>elijah57@example.net</td>\n",
       "      <td>1945-10-26</td>\n",
       "      <td>Games developer</td>\n",
       "    </tr>\n",
       "    <tr>\n",
       "      <th>1</th>\n",
       "      <td>Phillip</td>\n",
       "      <td>Summers</td>\n",
       "      <td>Female</td>\n",
       "      <td>bethany14@example.com</td>\n",
       "      <td>1910-03-24</td>\n",
       "      <td>Phytotherapist</td>\n",
       "    </tr>\n",
       "    <tr>\n",
       "      <th>2</th>\n",
       "      <td>Kristine</td>\n",
       "      <td>Travis</td>\n",
       "      <td>Male</td>\n",
       "      <td>bthompson@example.com</td>\n",
       "      <td>1992-07-02</td>\n",
       "      <td>Homeopath</td>\n",
       "    </tr>\n",
       "    <tr>\n",
       "      <th>3</th>\n",
       "      <td>Yesenia</td>\n",
       "      <td>Martinez</td>\n",
       "      <td>Male</td>\n",
       "      <td>kaitlinkaiser@example.com</td>\n",
       "      <td>2017-08-03</td>\n",
       "      <td>Market researcher</td>\n",
       "    </tr>\n",
       "    <tr>\n",
       "      <th>4</th>\n",
       "      <td>Lori</td>\n",
       "      <td>Todd</td>\n",
       "      <td>Male</td>\n",
       "      <td>buchananmanuel@example.net</td>\n",
       "      <td>1938-12-01</td>\n",
       "      <td>Veterinary surgeon</td>\n",
       "    </tr>\n",
       "  </tbody>\n",
       "</table>\n",
       "</div>"
      ],
      "text/plain": [
       "  First Name Last Name     Sex                       Email Date of birth  \\\n",
       "0     Shelby   Terrell    Male        elijah57@example.net    1945-10-26   \n",
       "1    Phillip   Summers  Female       bethany14@example.com    1910-03-24   \n",
       "2   Kristine    Travis    Male       bthompson@example.com    1992-07-02   \n",
       "3    Yesenia  Martinez    Male   kaitlinkaiser@example.com    2017-08-03   \n",
       "4       Lori      Todd    Male  buchananmanuel@example.net    1938-12-01   \n",
       "\n",
       "            Job Title  \n",
       "0     Games developer  \n",
       "1      Phytotherapist  \n",
       "2           Homeopath  \n",
       "3   Market researcher  \n",
       "4  Veterinary surgeon  "
      ]
     },
     "execution_count": 7,
     "metadata": {},
     "output_type": "execute_result"
    }
   ],
   "source": [
    "import pandas as pd\n",
    "\n",
    "# reading csv file \n",
    "df = pd.read_csv(\"people.csv\")\n",
    "df"
   ]
  },
  {
   "cell_type": "code",
   "execution_count": 9,
   "id": "8474a99a",
   "metadata": {},
   "outputs": [
    {
     "name": "stdout",
     "output_type": "stream",
     "text": [
      "Tables in the database: []\n"
     ]
    }
   ],
   "source": [
    "# List all tables in the SQLite database\n",
    "from sqlalchemy import inspect\n",
    "\n",
    "inspector = inspect(cnx)\n",
    "print(\"Tables in the database:\", inspector.get_table_names())"
   ]
  },
  {
   "cell_type": "code",
   "execution_count": 13,
   "id": "5234533e",
   "metadata": {},
   "outputs": [
    {
     "name": "stdout",
     "output_type": "stream",
     "text": [
      "  First Name Last Name     Sex                       Email Date of birth  \\\n",
      "0     Shelby   Terrell    Male        elijah57@example.net    1945-10-26   \n",
      "1    Phillip   Summers  Female       bethany14@example.com    1910-03-24   \n",
      "2   Kristine    Travis    Male       bthompson@example.com    1992-07-02   \n",
      "3    Yesenia  Martinez    Male   kaitlinkaiser@example.com    2017-08-03   \n",
      "4       Lori      Todd    Male  buchananmanuel@example.net    1938-12-01   \n",
      "\n",
      "            Job Title  \n",
      "0     Games developer  \n",
      "1      Phytotherapist  \n",
      "2           Homeopath  \n",
      "3   Market researcher  \n",
      "4  Veterinary surgeon  \n"
     ]
    }
   ],
   "source": [
    "# import the modules\n",
    "import pandas as pd \n",
    "from sqlalchemy import create_engine\n",
    "\n",
    "# SQLAlchemy connectable\n",
    "cnx = create_engine('sqlite:///employee.db').connect()\n",
    "\n",
    "# Write the DataFrame 'data' to the 'employee' table if it doesn't exist\n",
    "data.to_sql('employee', cnx, if_exists='replace', index=False)\n",
    "\n",
    "# table named 'employee' will be returned as a dataframe.\n",
    "df = pd.read_sql_table('employee', cnx)\n",
    "print(df)"
   ]
  },
  {
   "cell_type": "code",
   "execution_count": 15,
   "id": "81f28300",
   "metadata": {},
   "outputs": [
    {
     "name": "stdout",
     "output_type": "stream",
     "text": [
      "  First Name Last Name     Sex                       Email Date of birth  \\\n",
      "0     Shelby   Terrell    Male        elijah57@example.net    1945-10-26   \n",
      "1    Phillip   Summers  Female       bethany14@example.com    1910-03-24   \n",
      "2   Kristine    Travis    Male       bthompson@example.com    1992-07-02   \n",
      "3    Yesenia  Martinez    Male   kaitlinkaiser@example.com    2017-08-03   \n",
      "4       Lori      Todd    Male  buchananmanuel@example.net    1938-12-01   \n",
      "\n",
      "            Job Title  \n",
      "0     Games developer  \n",
      "1      Phytotherapist  \n",
      "2           Homeopath  \n",
      "3   Market researcher  \n",
      "4  Veterinary surgeon  \n"
     ]
    }
   ],
   "source": [
    "# Write the DataFrame 'data' to the 'students' table if it doesn't exist\n",
    "data.to_sql('students', cnx, if_exists='replace', index=False)\n",
    "\n",
    "# Read the 'students' table from the database into a DataFrame\n",
    "df = pd.read_sql_table('students', cnx)\n",
    "print(df)"
   ]
  },
  {
   "cell_type": "code",
   "execution_count": 16,
   "id": "0167f7c0",
   "metadata": {},
   "outputs": [
    {
     "name": "stdout",
     "output_type": "stream",
     "text": [
      "  First Name Last Name     Sex                       Email Date of birth  \\\n",
      "0     Shelby   Terrell    Male        elijah57@example.net    1945-10-26   \n",
      "1    Phillip   Summers  Female       bethany14@example.com    1910-03-24   \n",
      "2   Kristine    Travis    Male       bthompson@example.com    1992-07-02   \n",
      "3    Yesenia  Martinez    Male   kaitlinkaiser@example.com    2017-08-03   \n",
      "4       Lori      Todd    Male  buchananmanuel@example.net    1938-12-01   \n",
      "\n",
      "            Job Title  \n",
      "0     Games developer  \n",
      "1      Phytotherapist  \n",
      "2           Homeopath  \n",
      "3   Market researcher  \n",
      "4  Veterinary surgeon  \n"
     ]
    }
   ],
   "source": [
    "# import the modules\n",
    "import pandas as pd \n",
    "from sqlalchemy import create_engine\n",
    "\n",
    "# SQLAlchemy connectable\n",
    "cnx = create_engine('sqlite:///employee.db').connect()\n",
    "\n",
    "# table named 'employee' will be returned as a dataframe.\n",
    "df = pd.read_sql_table('employee', cnx)\n",
    "print(df)"
   ]
  },
  {
   "cell_type": "code",
   "execution_count": 20,
   "id": "fabc5123",
   "metadata": {},
   "outputs": [
    {
     "data": {
      "text/plain": [
       "5"
      ]
     },
     "execution_count": 20,
     "metadata": {},
     "output_type": "execute_result"
    }
   ],
   "source": [
    "# import the necessary packages\n",
    "import pandas\n",
    "from sqlalchemy import create_engine\n",
    "\n",
    "# Create the engine to connect to the inbuilt \n",
    "# sqllite database\n",
    "engine = create_engine(\"sqlite+pysqlite:///:memory:\")\n",
    "\n",
    "# Use the existing DataFrame 'data' defined earlier in the notebook\n",
    "\n",
    "# print the sample of a dataframe\n",
    "data.head()\n",
    "\n",
    "# Write data into the table in sqllite database\n",
    "data.to_sql('loan_data', engine)"
   ]
  }
 ],
 "metadata": {
  "kernelspec": {
   "display_name": "Python 3",
   "language": "python",
   "name": "python3"
  },
  "language_info": {
   "codemirror_mode": {
    "name": "ipython",
    "version": 3
   },
   "file_extension": ".py",
   "mimetype": "text/x-python",
   "name": "python",
   "nbconvert_exporter": "python",
   "pygments_lexer": "ipython3",
   "version": "3.12.4"
  }
 },
 "nbformat": 4,
 "nbformat_minor": 5
}
