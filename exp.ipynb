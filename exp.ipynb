{
 "cells": [
  {
   "cell_type": "code",
   "execution_count": 2,
   "id": "5ab810d5",
   "metadata": {},
   "outputs": [],
   "source": [
    "import numpy as np"
   ]
  },
  {
   "cell_type": "code",
   "execution_count": 5,
   "id": "ab8e67cb",
   "metadata": {},
   "outputs": [
    {
     "name": "stdout",
     "output_type": "stream",
     "text": [
      "A:\n",
      " [[0.1 0.2 0.3]\n",
      " [0.4 0.5 0.6]\n",
      " [0.7 0.8 0.9]]\n",
      "B:\n",
      " [2 1 0 1 2 0 2 0 1]\n",
      "C:\n",
      " [[0.7 0.8 0.9]\n",
      " [0.4 0.5 0.6]\n",
      " [0.1 0.2 0.3]\n",
      " [0.4 0.5 0.6]\n",
      " [0.7 0.8 0.9]\n",
      " [0.1 0.2 0.3]\n",
      " [0.7 0.8 0.9]\n",
      " [0.1 0.2 0.3]\n",
      " [0.4 0.5 0.6]]\n"
     ]
    }
   ],
   "source": [
    "\n",
    "A = np.array([[0.1, 0.2, 0.3],\n",
    "                    [0.4, 0.5, 0.6],\n",
    "                    [0.7,0.8,0.9]]) # Shape: (3,3)\n",
    "B = np.array([2,1,0,1,2,0,2,0,1]) # SHape (9,)\n",
    "C = A[B, :]\n",
    "\n",
    "print(\"A:\\n\", A)\n",
    "print(\"B:\\n\", B)\n",
    "print(\"C:\\n\", C)"
   ]
  },
  {
   "cell_type": "code",
   "execution_count": 8,
   "id": "c552c10f",
   "metadata": {},
   "outputs": [
    {
     "name": "stdout",
     "output_type": "stream",
     "text": [
      "[]\n",
      "(0, 3)\n",
      "int32\n",
      "<class 'numpy.ndarray'>\n"
     ]
    }
   ],
   "source": [
    "import numpy as np\n",
    "\n",
    "# Create a 2D array\n",
    "array = np.array([[1, 2, 3],\n",
    "                  [4, 5, 6],\n",
    "                  [7, 8, 9]])\n",
    "\n",
    "# Use the syntax array[[], :]\n",
    "result = array[[], :]\n",
    "\n",
    "print(result)  # Output: []\n",
    "print(result.shape)  # Output: (0, 3)\n",
    "print(result.dtype)  # Output: int64 (or int32, depending on your system)\n",
    "print(type(result))  # Output: <class 'numpy.ndarray'>"
   ]
  },
  {
   "cell_type": "code",
   "execution_count": null,
   "id": "a2f97642",
   "metadata": {},
   "outputs": [
    {
     "name": "stdout",
     "output_type": "stream",
     "text": [
      "[]\n",
      "(1,)\n"
     ]
    }
   ],
   "source": [
    "array_1d = np.array([1, 2, 3])\n",
    "print(array_1d[[]])  # Output: [], shape: (0,)\n",
    "# print(array_1d[[], :])  # Raises IndexError: too many indices for array\n",
    "print(array_1d[[0]].shape)  # Output: (0,)"
   ]
  }
 ],
 "metadata": {
  "kernelspec": {
   "display_name": "Python 3",
   "language": "python",
   "name": "python3"
  },
  "language_info": {
   "codemirror_mode": {
    "name": "ipython",
    "version": 3
   },
   "file_extension": ".py",
   "mimetype": "text/x-python",
   "name": "python",
   "nbconvert_exporter": "python",
   "pygments_lexer": "ipython3",
   "version": "3.12.4"
  }
 },
 "nbformat": 4,
 "nbformat_minor": 5
}
