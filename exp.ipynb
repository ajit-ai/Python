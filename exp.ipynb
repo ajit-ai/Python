{
 "cells": [
  {
   "cell_type": "code",
   "execution_count": 2,
   "id": "5ab810d5",
   "metadata": {},
   "outputs": [],
   "source": [
    "import numpy as np"
   ]
  },
  {
   "cell_type": "code",
   "execution_count": 5,
   "id": "ab8e67cb",
   "metadata": {},
   "outputs": [
    {
     "name": "stdout",
     "output_type": "stream",
     "text": [
      "A:\n",
      " [[0.1 0.2 0.3]\n",
      " [0.4 0.5 0.6]\n",
      " [0.7 0.8 0.9]]\n",
      "B:\n",
      " [2 1 0 1 2 0 2 0 1]\n",
      "C:\n",
      " [[0.7 0.8 0.9]\n",
      " [0.4 0.5 0.6]\n",
      " [0.1 0.2 0.3]\n",
      " [0.4 0.5 0.6]\n",
      " [0.7 0.8 0.9]\n",
      " [0.1 0.2 0.3]\n",
      " [0.7 0.8 0.9]\n",
      " [0.1 0.2 0.3]\n",
      " [0.4 0.5 0.6]]\n"
     ]
    }
   ],
   "source": [
    "\n",
    "A = np.array([[0.1, 0.2, 0.3],\n",
    "                    [0.4, 0.5, 0.6],\n",
    "                    [0.7,0.8,0.9]]) # Shape: (3,3)\n",
    "B = np.array([2,1,0,1,2,0,2,0,1]) # SHape (9,)\n",
    "C = A[B, :]\n",
    "\n",
    "print(\"A:\\n\", A)\n",
    "print(\"B:\\n\", B)\n",
    "print(\"C:\\n\", C)"
   ]
  },
  {
   "cell_type": "code",
   "execution_count": 8,
   "id": "c552c10f",
   "metadata": {},
   "outputs": [
    {
     "name": "stdout",
     "output_type": "stream",
     "text": [
      "[]\n",
      "(0, 3)\n",
      "int32\n",
      "<class 'numpy.ndarray'>\n"
     ]
    }
   ],
   "source": [
    "import numpy as np\n",
    "\n",
    "# Create a 2D array\n",
    "array = np.array([[1, 2, 3],\n",
    "                  [4, 5, 6],\n",
    "                  [7, 8, 9]])\n",
    "\n",
    "# Use the syntax array[[], :]\n",
    "result = array[[], :]\n",
    "\n",
    "print(result)  # Output: []\n",
    "print(result.shape)  # Output: (0, 3)\n",
    "print(result.dtype)  # Output: int64 (or int32, depending on your system)\n",
    "print(type(result))  # Output: <class 'numpy.ndarray'>"
   ]
  },
  {
   "cell_type": "code",
   "execution_count": 20,
   "id": "a2f97642",
   "metadata": {},
   "outputs": [
    {
     "name": "stdout",
     "output_type": "stream",
     "text": [
      "[]\n"
     ]
    }
   ],
   "source": [
    "array_1d = np.array([1, 2, 3])\n",
    "print(array_1d[[]])  # Output: [], shape: (0,)\n",
    "# print(array_1d[[], :])  # Raises IndexError: too many indices for array\n",
    "#print(array_1d[[]].shape)  # Output: (0,)"
   ]
  },
  {
   "cell_type": "code",
   "execution_count": 26,
   "id": "e6e5fb87",
   "metadata": {},
   "outputs": [
    {
     "name": "stdout",
     "output_type": "stream",
     "text": [
      "True\n",
      "False\n"
     ]
    }
   ],
   "source": [
    "#Create a function that checks if a given string is a palindrome (reads the same backward as forward, ignoring case and non-alphanumeric characters).\n",
    "def is_palindrome(s: str) -> bool:\n",
    "    s = ''.join(c.lower() for c in s if c.isalnum())\n",
    "    return s == s[::-1]\n",
    "print(is_palindrome(\"A man, a plan, a canal: Panama\"))  # True\n",
    "print(is_palindrome(\"race a car\"))  # False"
   ]
  },
  {
   "cell_type": "code",
   "execution_count": null,
   "id": "7b09efd5",
   "metadata": {},
   "outputs": [
    {
     "name": "stdout",
     "output_type": "stream",
     "text": [
      "1\n",
      "2\n",
      "Fizz\n",
      "4\n",
      "Buzz\n",
      "Fizz\n",
      "7\n",
      "8\n",
      "Fizz\n",
      "Buzz\n",
      "11\n",
      "Fizz\n",
      "13\n",
      "14\n",
      "FizzBuzz\n",
      "16\n",
      "17\n",
      "Fizz\n",
      "19\n",
      "Buzz\n",
      "Fizz\n",
      "22\n",
      "23\n",
      "Fizz\n",
      "Buzz\n",
      "26\n",
      "Fizz\n",
      "28\n",
      "29\n",
      "FizzBuzz\n",
      "31\n",
      "32\n",
      "Fizz\n",
      "34\n",
      "Buzz\n",
      "Fizz\n",
      "37\n",
      "38\n",
      "Fizz\n",
      "Buzz\n",
      "41\n",
      "Fizz\n",
      "43\n",
      "44\n",
      "FizzBuzz\n",
      "46\n",
      "47\n",
      "Fizz\n",
      "49\n",
      "Buzz\n",
      "Fizz\n",
      "52\n",
      "53\n",
      "Fizz\n",
      "Buzz\n",
      "56\n",
      "Fizz\n",
      "58\n",
      "59\n",
      "FizzBuzz\n",
      "61\n",
      "62\n",
      "Fizz\n",
      "64\n",
      "Buzz\n",
      "Fizz\n",
      "67\n",
      "68\n",
      "Fizz\n",
      "Buzz\n",
      "71\n",
      "Fizz\n",
      "73\n",
      "74\n",
      "FizzBuzz\n",
      "76\n",
      "77\n",
      "Fizz\n",
      "79\n",
      "Buzz\n",
      "Fizz\n",
      "82\n",
      "83\n",
      "Fizz\n",
      "Buzz\n",
      "86\n",
      "Fizz\n",
      "88\n",
      "89\n",
      "FizzBuzz\n",
      "91\n",
      "92\n",
      "Fizz\n",
      "94\n",
      "Buzz\n",
      "Fizz\n",
      "97\n",
      "98\n",
      "Fizz\n",
      "Buzz\n"
     ]
    }
   ],
   "source": [
    "#Write a program that prints numbers from 1 to 100. For multiples of 3, print \"Fizz\" instead of the number; for multiples of 5, print \"Buzz\"; for multiples of both, print \"FizzBuzz\".\n",
    "\n",
    "def fizzbuzz():\n",
    "    for i in range(1, 101):\n",
    "        if i % 3 == 0 and i % 5 == 0:\n",
    "            print(\"FizzBuzz\")\n",
    "        elif i % 3 == 0:\n",
    "            print(\"Fizz\")\n",
    "        elif i % 5 == 0:\n",
    "            print(\"Buzz\")\n",
    "        else:\n",
    "            print(i)\n",
    "fizzbuzz()"
   ]
  },
  {
   "cell_type": "code",
   "execution_count": null,
   "id": "12feb36f",
   "metadata": {},
   "outputs": [
    {
     "name": "stdout",
     "output_type": "stream",
     "text": [
      "10\n",
      "15\n"
     ]
    }
   ],
   "source": [
    "#Write a function that converts a binary number (given as an integer) to its decimal equivalent.\n",
    "\n",
    "def binary_to_decimal(binary: int) -> int:\n",
    "    decimal, i = 0, 0\n",
    "    while binary != 0:\n",
    "        digit = binary % 10\n",
    "        decimal += digit * (2 ** i)\n",
    "        binary //= 10\n",
    "        i += 1\n",
    "    return decimal\n",
    "print(binary_to_decimal(1010))  # 10\n",
    "print(binary_to_decimal(1111))  # 15"
   ]
  },
  {
   "cell_type": "code",
   "execution_count": null,
   "id": "18dae848",
   "metadata": {},
   "outputs": [
    {
     "name": "stdout",
     "output_type": "stream",
     "text": [
      "2\n",
      "-1\n"
     ]
    }
   ],
   "source": [
    "#Implement a binary search algorithm to find the index of a target element in a sorted list. Return -1 if not found.\n",
    "\n",
    "def binary_search(arr: list, target: int) -> int:\n",
    "    left, right = 0, len(arr) - 1\n",
    "    while left <= right:\n",
    "        mid = (left + right) // 2\n",
    "        if arr[mid] == target:\n",
    "            return mid\n",
    "        elif arr[mid] < target:\n",
    "            left = mid + 1\n",
    "        else:\n",
    "            right = mid - 1\n",
    "    return -1\n",
    "print(binary_search([1, 3, 5, 7, 9], 5))  # 2\n",
    "print(binary_search([1, 3, 5, 7, 9], 6))  # -1"
   ]
  },
  {
   "cell_type": "code",
   "execution_count": null,
   "id": "33098924",
   "metadata": {},
   "outputs": [
    {
     "name": "stdout",
     "output_type": "stream",
     "text": [
      "[0, 1]\n",
      "[1, 2]\n"
     ]
    }
   ],
   "source": [
    "#Given an array of integers and a target sum, find two numbers that add up to the target and return their indices.\n",
    "\n",
    "def two_sum(nums: list, target: int) -> list:\n",
    "    seen = {}\n",
    "    for i, num in enumerate(nums):\n",
    "        complement = target - num\n",
    "        if complement in seen:\n",
    "            return [seen[complement], i]\n",
    "        seen[num] = i\n",
    "    return []\n",
    "print(two_sum([2, 7, 11, 15], 9))  # [0, 1]\n",
    "print(two_sum([3, 2, 4], 6))  # [1, 2]"
   ]
  },
  {
   "cell_type": "code",
   "execution_count": 49,
   "id": "019b9b9c",
   "metadata": {},
   "outputs": [
    {
     "name": "stdout",
     "output_type": "stream",
     "text": [
      "13.2\n"
     ]
    }
   ],
   "source": [
    "#Find the contiguous sub array within a one-dimensional numeric array that has the largest sum.\n",
    "\n",
    "def max_subarray_sum(nums: list) -> int:\n",
    "    max_sum = current_sum = nums[0]\n",
    "    for num in nums[1:]:\n",
    "        current_sum = max(num, current_sum + num)\n",
    "        max_sum = max(max_sum, current_sum)\n",
    "    return max_sum\n",
    "#print(max_subarray_sum([-2, 1, -3, 4, -1, 2, 1, -5, 4]))  # 6\n",
    "print(max_subarray_sum([1.0,2.0,3.5,6.7]))  # 1\n",
    "#print(max_subarray_sum([5, 4, -1, 7, 8]))  # 23\n",
    "#print(max_subarray_sum([-1, -2, -3, -4]))  # -1 (the largest single element)\n",
    "#print(max_subarray_sum([1, 2, 3, 4, 5]))  # 15 (the entire array)"
   ]
  },
  {
   "cell_type": "code",
   "execution_count": 41,
   "id": "ed0e22cb",
   "metadata": {},
   "outputs": [
    {
     "name": "stdout",
     "output_type": "stream",
     "text": [
      "11\n"
     ]
    }
   ],
   "source": [
    "# Function to find the maximum subarray sum\n",
    "def maxSubarraySum(arr):\n",
    "    \n",
    "    # Stores the result (maximum sum found so far)\n",
    "    res = arr[0]\n",
    "    \n",
    "    # Maximum sum of subarray ending at current position\n",
    "    maxEnding = arr[0]\n",
    "\n",
    "    for i in range(1, len(arr)):\n",
    "        \n",
    "        # Either extend the previous subarray or start \n",
    "        # new from current element\n",
    "        maxEnding = max(maxEnding + arr[i], arr[i])\n",
    "        \n",
    "        # Update result if the new subarray sum is larger\n",
    "        res = max(res, maxEnding)\n",
    "    \n",
    "    return res\n",
    "\n",
    "if __name__ == \"__main__\":\n",
    "    arr = [2, 3, -8, 7, -1, 2, 3]\n",
    "    print(maxSubarraySum(arr))"
   ]
  },
  {
   "cell_type": "code",
   "execution_count": 86,
   "id": "2bc8f9d2",
   "metadata": {},
   "outputs": [
    {
     "name": "stdout",
     "output_type": "stream",
     "text": [
      "11\n"
     ]
    }
   ],
   "source": [
    "def maxSubarraySum(arr):\n",
    "    res = arr[0]\n",
    "  \n",
    "    # Outer loop for starting point of subarray\n",
    "    for i in range(len(arr)):\n",
    "        currSum = 0\n",
    "      \n",
    "        # Inner loop for ending point of subarray\n",
    "        for j in range(i, len(arr)):\n",
    "            currSum = currSum + arr[j]\n",
    "          \n",
    "            # Update res if currSum is greater than res\n",
    "            res = max(res, currSum)\n",
    "          \n",
    "    return res\n",
    "\n",
    "if __name__ == \"__main__\":\n",
    "    arr = [2, 3, -8, 7, -1, 2, 3]\n",
    "    print(maxSubarraySum(arr))"
   ]
  },
  {
   "cell_type": "code",
   "execution_count": 34,
   "id": "cc737990",
   "metadata": {},
   "outputs": [
    {
     "name": "stdout",
     "output_type": "stream",
     "text": [
      "[[1, 6], [8, 10], [15, 18]]\n"
     ]
    }
   ],
   "source": [
    "#Given a collection of intervals (e.g., [[1,3], [2,6], [8,10]]), merge overlapping intervals and return the result.\n",
    "\n",
    "def merge_intervals(intervals: list) -> list:\n",
    "    if not intervals:\n",
    "        return []\n",
    "    intervals.sort(key=lambda x: x[0])\n",
    "    merged = [intervals[0]]\n",
    "    for current in intervals[1:]:\n",
    "        if current[0] <= merged[-1][1]:\n",
    "            merged[-1][1] = max(merged[-1][1], current[1])\n",
    "        else:\n",
    "            merged.append(current)\n",
    "    return merged\n",
    "print(merge_intervals([[1,3], [2,6], [8,10], [15,18]]))  # [[1,6], [8,10], [15,18]]"
   ]
  },
  {
   "cell_type": "code",
   "execution_count": 35,
   "id": "458ca37c",
   "metadata": {},
   "outputs": [
    {
     "name": "stdout",
     "output_type": "stream",
     "text": [
      "['A', 'B', 'D', 'E', 'F', 'C']\n"
     ]
    }
   ],
   "source": [
    "#Implement DFS to traverse a graph (represented as an adjacency list) and return the order of visited nodes.\n",
    "\n",
    "def dfs(graph: dict, start: str) -> list:\n",
    "    visited = []\n",
    "    def dfs_recursive(node: str):\n",
    "        if node not in visited:\n",
    "            visited.append(node)\n",
    "            for neighbor in graph[node]:\n",
    "                dfs_recursive(neighbor)\n",
    "    dfs_recursive(start)\n",
    "    return visited\n",
    "graph = {'A': ['B', 'C'], 'B': ['A', 'D', 'E'], 'C': ['A', 'F'], 'D': ['B'], 'E': ['B', 'F'], 'F': ['C', 'E']}\n",
    "print(dfs(graph, 'A'))  # ['A', 'B', 'D', 'E', 'F', 'C']"
   ]
  },
  {
   "cell_type": "code",
   "execution_count": 36,
   "id": "9e6e1876",
   "metadata": {},
   "outputs": [
    {
     "name": "stdout",
     "output_type": "stream",
     "text": [
      "[[1, 3, 0, 2], [2, 0, 3, 1]]\n"
     ]
    }
   ],
   "source": [
    "#Place N queens on an N×N chessboard such that no two queens threaten each other (no two queens share the same row, column, or diagonal).\n",
    "\n",
    "\n",
    "\n",
    "def solve_n_queens(n: int) -> list:\n",
    "    def is_safe(board, row, col):\n",
    "        for i in range(row):\n",
    "            if board[i] == col or board[i] - i == col - row or board[i] + i == col + row:\n",
    "                return False\n",
    "        return True\n",
    "    def solve(board, row):\n",
    "        if row == n:\n",
    "            result.append(board[:])\n",
    "            return\n",
    "        for col in range(n):\n",
    "            if is_safe(board, row, col):\n",
    "                board[row] = col\n",
    "                solve(board, row + 1)\n",
    "    result = []\n",
    "    solve([0] * n, 0)\n",
    "    return result\n",
    "print(solve_n_queens(4))  # [[2, 0, 3, 1], [1, 3, 0, 2]]"
   ]
  },
  {
   "cell_type": "code",
   "execution_count": 37,
   "id": "7fbff832",
   "metadata": {},
   "outputs": [
    {
     "name": "stdout",
     "output_type": "stream",
     "text": [
      "[5, 3, 4, 6, 7, 8, 9, 1, 2]\n",
      "[6, 7, 2, 1, 9, 5, 3, 4, 8]\n",
      "[1, 9, 8, 3, 4, 2, 5, 6, 7]\n",
      "[8, 5, 9, 7, 6, 1, 4, 2, 3]\n",
      "[4, 2, 6, 8, 5, 3, 7, 9, 1]\n",
      "[7, 1, 3, 9, 2, 4, 8, 5, 6]\n",
      "[9, 6, 1, 5, 3, 7, 2, 8, 4]\n",
      "[2, 8, 7, 4, 1, 9, 6, 3, 5]\n",
      "[3, 4, 5, 2, 8, 6, 1, 7, 9]\n"
     ]
    }
   ],
   "source": [
    "#Write a function to solve a 9×9 Sudoku puzzle, represented as a 2D list where empty cells are 0, by filling in all cells according to Sudoku rules.\n",
    "\n",
    "\n",
    "def solve_sudoku(board: list) -> bool:\n",
    "    def is_valid(board, row, col, num):\n",
    "        for x in range(9):\n",
    "            if board[row][x] == num or board[x][col] == num:\n",
    "                return False\n",
    "        start_row, start_col = 3 * (row // 3), 3 * (col // 3)\n",
    "        for i in range(start_row, start_row + 3):\n",
    "            for j in range(start_col, start_col + 3):\n",
    "                if board[i][j] == num:\n",
    "                    return False\n",
    "        return True\n",
    "    for i in range(9):\n",
    "        for j in range(9):\n",
    "            if board[i][j] == 0:\n",
    "                for num in range(1, 10):\n",
    "                    if is_valid(board, i, j, num):\n",
    "                        board[i][j] = num\n",
    "                        if solve_sudoku(board):\n",
    "                            return True\n",
    "                        board[i][j] = 0\n",
    "                return False\n",
    "    return True\n",
    "board = [\n",
    "    [5,3,0,0,7,0,0,0,0],\n",
    "    [6,0,0,1,9,5,0,0,0],\n",
    "    [0,9,8,0,0,0,0,6,0],\n",
    "    [8,0,0,0,6,0,0,0,3],\n",
    "    [4,0,0,8,0,3,0,0,1],\n",
    "    [7,0,0,0,2,0,0,0,6],\n",
    "    [0,6,0,0,0,0,2,8,0],\n",
    "    [0,0,0,4,1,9,0,0,5],\n",
    "    [0,0,0,0,8,0,0,7,9]\n",
    "]\n",
    "solve_sudoku(board)\n",
    "for row in board:\n",
    "    print(row)"
   ]
  },
  {
   "cell_type": "code",
   "execution_count": 1,
   "id": "5da4da13",
   "metadata": {},
   "outputs": [
    {
     "name": "stdout",
     "output_type": "stream",
     "text": [
      "(2+0j) <class 'complex'>\n",
      "8 <class 'int'>\n",
      "11.4 <class 'float'>\n",
      "12.6 <class 'float'>\n",
      "(5.5+0j) <class 'complex'>\n",
      "(3.732050807568877+0j) <class 'complex'>\n",
      "0.4430379746835443 <class 'float'>\n",
      "0.0 <class 'float'>\n"
     ]
    }
   ],
   "source": [
    "import cmath\n",
    "x = cmath.sqrt(4)  # Output: 1j (complex)\n",
    "z = cmath.sqrt(3)  # Output: 2j (complex)\n",
    "\n",
    "print(x, type(x))  # Output: (2+0j) <class 'complex'>\n",
    "\n",
    "a, b = 5, 3\n",
    "print(a + b, type(a + b))  # Output: 8 <class 'int'>\n",
    "\n",
    "\n",
    "a, b = 3.5, 7.9\n",
    "print(a+b, type(a+b))  # Output: 11.4 <class 'float'>)\n",
    "\n",
    "a, b = 3.5, 7.9\n",
    "y = 3.6\n",
    "print(a * y, type(a * y))  # Output: 27.65 <class 'float'>\n",
    "\n",
    "print(a + x, type(a + x))\n",
    "\n",
    "print(x + z, type(x + z))  # Output: -4.4 <class 'float'>\n",
    "\n",
    "print(a / b, type(a / b))  # Output: 0.4430379746835443 <class 'float'>\n",
    "\n",
    "print(a // b, type(a // b))  # Output: 0.0 <class 'float'>\n"
   ]
  },
  {
   "cell_type": "code",
   "execution_count": 1,
   "id": "6a70e4c9",
   "metadata": {},
   "outputs": [
    {
     "name": "stdout",
     "output_type": "stream",
     "text": [
      "8 <class 'int'>\n"
     ]
    }
   ],
   "source": [
    "a, b = 5, 3\n",
    "print(a + b, type(a + b))  # Output: 8 <class 'int'>"
   ]
  },
  {
   "cell_type": "code",
   "execution_count": 2,
   "id": "a0f1fd61",
   "metadata": {},
   "outputs": [
    {
     "name": "stdout",
     "output_type": "stream",
     "text": [
      "[0, 1]\n",
      "[1, 2]\n",
      "[0, 1]\n",
      "[]\n",
      "[]\n"
     ]
    }
   ],
   "source": [
    "def two_sum(nums: list, target: int) -> list:\n",
    "    # Dictionary to store number-to-index mapping\n",
    "    seen = {}\n",
    "    # Iterate through the list with index\n",
    "    for i, num in enumerate(nums):\n",
    "        # Calculate the complement needed to reach the target\n",
    "        complement = target - num\n",
    "        # If complement exists in seen, we found a pair\n",
    "        if complement in seen:\n",
    "            return [seen[complement], i]\n",
    "        # Otherwise, add the current number and its index to seen\n",
    "        seen[num] = i\n",
    "    # Return empty list if no solution is found (handles edge cases)\n",
    "    return []\n",
    "\n",
    "# Test cases\n",
    "print(two_sum([2, 7, 11, 15], 9))  # Output: [0, 1]\n",
    "print(two_sum([3, 2, 4], 6))       # Output: [1, 2]\n",
    "print(two_sum([3, 3], 6))          # Output: [0, 1]\n",
    "print(two_sum([], 5))              # Output: [] (empty array case)\n",
    "print(two_sum([1], 2))             # Output: [] (no solution case)"
   ]
  },
  {
   "cell_type": "code",
   "execution_count": 3,
   "id": "b2281eb1",
   "metadata": {},
   "outputs": [
    {
     "name": "stdout",
     "output_type": "stream",
     "text": [
      "[]\n",
      "[]\n",
      "[1, 2]\n",
      "[0, 1]\n",
      "[]\n"
     ]
    }
   ],
   "source": [
    "import numpy as np\n",
    "array = np.array([[1, 2], [3, 4], [5, 6]])\n",
    "print(array[[], :])  # Output: [] (shape: (0, 2))\n",
    "print(two_sum([], 5))  # Output: [] (similar empty result)\n",
    "\n",
    "\n",
    "# Additional test cases\n",
    "print(two_sum([-1, -2, -3], -5))  # Output: [1, 2] (handles negative numbers)\n",
    "print(two_sum([0, 0], 0))         # Output: [0, 1] (handles zeros)\n",
    "print(two_sum([1, 2, 3], 10))     # Output: [] (no solution)"
   ]
  },
  {
   "cell_type": "code",
   "execution_count": 4,
   "id": "55650df8",
   "metadata": {},
   "outputs": [
    {
     "name": "stdout",
     "output_type": "stream",
     "text": [
      "Complex Array: [1.+2.j 3.-4.j 0.+1.j]\n",
      "Data Type: complex128\n",
      "Sum: (4-1j)\n",
      "Real Part: [1. 3. 0.]\n",
      "Imaginary Part: [ 2. -4.  1.]\n"
     ]
    }
   ],
   "source": [
    "import numpy as np\n",
    "\n",
    "# Create a 1D array with complex numbers\n",
    "complex_array = np.array([1 + 2j, 3 - 4j, 0 + 1j], dtype=complex)\n",
    "print(\"Complex Array:\", complex_array)\n",
    "print(\"Data Type:\", complex_array.dtype)\n",
    "print(\"Sum:\", np.sum(complex_array))  # Sum of complex numbers\n",
    "print(\"Real Part:\", complex_array.real)  # Extract real parts\n",
    "print(\"Imaginary Part:\", complex_array.imag)  # Extract imaginary parts"
   ]
  },
  {
   "cell_type": "code",
   "execution_count": 5,
   "id": "08151da1",
   "metadata": {},
   "outputs": [
    {
     "name": "stdout",
     "output_type": "stream",
     "text": [
      "Float Array: [1.5 2.7 3.2 0. ]\n",
      "Data Type: float64\n",
      "Sum: 7.4\n",
      "Rounded: [1.5 2.7 3.2 0. ]\n"
     ]
    }
   ],
   "source": [
    "import numpy as np\n",
    "\n",
    "# Create a 1D array with floating-point numbers\n",
    "float_array = np.array([1.5, 2.7, 3.2, 0.0], dtype=float)\n",
    "print(\"Float Array:\", float_array)\n",
    "print(\"Data Type:\", float_array.dtype)\n",
    "print(\"Sum:\", np.sum(float_array))  # Sum of floats\n",
    "print(\"Rounded:\", np.round(float_array, 1))  # Round to 1 decimal place"
   ]
  },
  {
   "cell_type": "code",
   "execution_count": 84,
   "id": "9d51eb87",
   "metadata": {},
   "outputs": [
    {
     "name": "stdout",
     "output_type": "stream",
     "text": [
      "Empty Complex Array: []\n",
      "Shape: (0,)\n",
      "Data Type: complex128\n",
      "Empty Float Array: []\n",
      "Shape: (0,)\n",
      "Data Type: float64\n"
     ]
    }
   ],
   "source": [
    "import numpy as np\n",
    "\n",
    "# Empty 1D array with complex dtype\n",
    "empty_complex = np.array([], dtype=complex)\n",
    "print(\"Empty Complex Array:\", empty_complex)\n",
    "print(\"Shape:\", empty_complex.shape)\n",
    "print(\"Data Type:\", empty_complex.dtype)\n",
    "\n",
    "# Empty 1D array with float dtype\n",
    "empty_float = np.array([], dtype=float)\n",
    "print(\"Empty Float Array:\", empty_float)\n",
    "print(\"Shape:\", empty_float.shape)\n",
    "print(\"Data Type:\", empty_float.dtype)"
   ]
  },
  {
   "cell_type": "code",
   "execution_count": 85,
   "id": "c607013e",
   "metadata": {},
   "outputs": [
    {
     "name": "stdout",
     "output_type": "stream",
     "text": [
      "[0, 1]\n",
      "[0, 1]\n"
     ]
    }
   ],
   "source": [
    "import numpy as np\n",
    "\n",
    "def two_sum_numpy(nums: np.ndarray, target):\n",
    "    seen = {}\n",
    "    for i, num in enumerate(nums):\n",
    "        complement = target - num\n",
    "        if complement in seen:\n",
    "            return [seen[complement], i]\n",
    "        seen[num] = i\n",
    "    return []\n",
    "\n",
    "# Complex numbers\n",
    "complex_nums = np.array([1 + 2j, 3 - 1j, 2 + 3j], dtype=complex)\n",
    "print(two_sum_numpy(complex_nums, 4 + 1j))  # Possible output: [0, 1] if 1+2j + 3-1j = 4+1j\n",
    "\n",
    "# Float numbers\n",
    "float_nums = np.array([1.5, 2.5, 3.0], dtype=float)\n",
    "print(two_sum_numpy(float_nums, 4.0))  # Possible output: [0, 1] if 1.5 + 2.5 = 4.0"
   ]
  },
  {
   "cell_type": "code",
   "execution_count": 90,
   "id": "2e9d6392",
   "metadata": {},
   "outputs": [
    {
     "name": "stdout",
     "output_type": "stream",
     "text": [
      "[2 2 2 2 2]\n",
      "[]\n",
      "25.0\n"
     ]
    }
   ],
   "source": [
    "#write an array with sum \n",
    "def array_with_sum(target_sum: int, n: int) -> np.ndarray:\n",
    "    \"\"\"\n",
    "    Create an array of n integers that sum up to target_sum.\n",
    "    The integers are chosen such that they are evenly distributed.\n",
    "    \"\"\"\n",
    "    \n",
    "    \n",
    "    if n <= 0:\n",
    "        return np.array([])  # Return an empty array if n is non-positive\n",
    "    \n",
    "    # Calculate the base value and the remainder\n",
    "    base_value = target_sum // n\n",
    "    remainder = target_sum % n\n",
    "    \n",
    "    # Create an array with base_value and distribute the remainder\n",
    "    array = np.full(n, base_value)\n",
    "    for i in range(remainder):\n",
    "        array[i] += 1  # Distribute the remainder evenly\n",
    "    \n",
    "    return array\n",
    "print(array_with_sum(10, 5))  # Output: [2 2 2 2 2]\n",
    "print(array_with_sum(10, 0))  # Output: []\n",
    "\n",
    "#calculate a area of traingle\n",
    "\n",
    "\n",
    "def triangle_area(base: float, height: float) -> float:\n",
    "    \"\"\"\n",
    "    Calculate the area of a triangle given its base and height.\n",
    "    \n",
    "    :param base: The length of the base of the triangle.\n",
    "    :param height: The height of the triangle.\n",
    "    :return: The area of the triangle.\n",
    "    \"\"\"\n",
    "    return 0.5 * base * height\n",
    "\n",
    "\n",
    "print(triangle_area(5, 10))  # Output: 25.0"
   ]
  },
  {
   "cell_type": "code",
   "execution_count": 91,
   "id": "b9a48723",
   "metadata": {},
   "outputs": [
    {
     "name": "stdout",
     "output_type": "stream",
     "text": [
      "Array: [1.+2.j 3.-1.j 2.+3.j 4.+0.j]\n",
      "Data Type: complex128\n",
      "Test 1: [0, 1]\n",
      "Test 2: []\n",
      "Test 3: []\n",
      "Test 4: []\n"
     ]
    }
   ],
   "source": [
    "import numpy as np\n",
    "\n",
    "def two_sum_complex(nums: np.ndarray, target: complex) -> list:\n",
    "    # Dictionary to store number-to-index mapping\n",
    "    seen = {}\n",
    "    # Iterate through the array with index\n",
    "    for i, num in enumerate(nums):\n",
    "        # Calculate the complement needed to reach the target\n",
    "        complement = target - num\n",
    "        # If complement exists in seen, we found a pair\n",
    "        if complement in seen:\n",
    "            return [seen[complement], i]\n",
    "        # Add the current number and its index to seen\n",
    "        seen[num] = i\n",
    "    # Return empty list if no solution is found\n",
    "    return []\n",
    "\n",
    "# Create a 1D NumPy array with complex numbers\n",
    "complex_array = np.array([1 + 2j, 3 - 1j, 2 + 3j, 4 + 0j], dtype=complex)\n",
    "\n",
    "# Test cases\n",
    "print(\"Array:\", complex_array)\n",
    "print(\"Data Type:\", complex_array.dtype)\n",
    "print(\"Test 1:\", two_sum_complex(complex_array, 4 + 1j))  # Should find 1+2j + 3-1j = 4+1j\n",
    "print(\"Test 2:\", two_sum_complex(complex_array, 5 + 3j))  # Should find 3-1j + 2+3j = 5+3j\n",
    "print(\"Test 3:\", two_sum_complex(np.array([], dtype=complex), 1 + 1j))  # Empty array\n",
    "print(\"Test 4:\", two_sum_complex(np.array([1 + 1j], dtype=complex), 2 + 2j))  # Single element"
   ]
  },
  {
   "cell_type": "code",
   "execution_count": 3,
   "id": "6f43b61b",
   "metadata": {},
   "outputs": [
    {
     "name": "stdout",
     "output_type": "stream",
     "text": [
      "('2',)\n"
     ]
    }
   ],
   "source": [
    "# Taking input\n",
    "a = input(\"Enter elements separated by spaces: \").split()\n",
    "\n",
    "# Converting list to tuple\n",
    "t = tuple(a)\n",
    "print(t)"
   ]
  },
  {
   "cell_type": "code",
   "execution_count": 5,
   "id": "a99f1388",
   "metadata": {},
   "outputs": [
    {
     "name": "stdout",
     "output_type": "stream",
     "text": [
      "-5029647727744300836\n"
     ]
    }
   ],
   "source": [
    "\n",
    "if __name__ == '__main__':\n",
    "    n = int(input())  # Read the number of elements\n",
    "    integer_list = map(int, input().split())  # Read and convert to integers\n",
    "    t = tuple(integer_list)  # Create tuple from integers\n",
    "    print(hash(t))  # Print hash of the tuple\n"
   ]
  },
  {
   "cell_type": "code",
   "execution_count": 1,
   "id": "ecb40fe7",
   "metadata": {},
   "outputs": [
    {
     "name": "stdout",
     "output_type": "stream",
     "text": [
      "    1     1     1     1\n",
      "    2     2     2    10\n",
      "    3     3     3    11\n",
      "    4     4     4   100\n",
      "    5     5     5   101\n",
      "    6     6     6   110\n",
      "    7     7     7   111\n",
      "    8    10     8  1000\n",
      "    9    11     9  1001\n",
      "   10    12     A  1010\n",
      "   11    13     B  1011\n",
      "   12    14     C  1100\n",
      "   13    15     D  1101\n",
      "   14    16     E  1110\n",
      "   15    17     F  1111\n",
      "   16    20    10 10000\n",
      "   17    21    11 10001\n",
      "   18    22    12 10010\n",
      "   19    23    13 10011\n",
      "   20    24    14 10100\n"
     ]
    }
   ],
   "source": [
    "def print_formatted(number):\n",
    "    # Width of binary representation of number (without '0b')\n",
    "    width = len(bin(number)[2:])\n",
    "    \n",
    "    # Print for each i from 1 to number\n",
    "    for i in range(1, number + 1):\n",
    "        # Decimal, octal, hexadecimal (capitalized), binary\n",
    "        dec = str(i).rjust(width)\n",
    "        octal = oct(i)[2:].rjust(width)\n",
    "        hex_cap = hex(i)[2:].upper().rjust(width)\n",
    "        binary = bin(i)[2:].rjust(width)\n",
    "        print(f\"{dec} {octal} {hex_cap} {binary}\")\n",
    "\n",
    "if __name__ == '__main__':\n",
    "    n = int(input())\n",
    "    print_formatted(n)"
   ]
  },
  {
   "cell_type": "code",
   "execution_count": 2,
   "id": "bdad294b",
   "metadata": {},
   "outputs": [
    {
     "name": "stdout",
     "output_type": "stream",
     "text": [
      "                                                                                                   H\n",
      "                                                                                                 HHH\n",
      "                                                                                               HHHHH\n",
      "                                                                                             HHHHHHH\n",
      "                                                                                           HHHHHHHHH\n",
      "                                                                                         HHHHHHHHHHH\n",
      "                                                                                       HHHHHHHHHHHHH\n",
      "                                                                                     HHHHHHHHHHHHHHH\n",
      "                                                                                   HHHHHHHHHHHHHHHHH\n",
      "                                                                                 HHHHHHHHHHHHHHHHHHH\n",
      "                                                                               HHHHHHHHHHHHHHHHHHHHH\n",
      "                                                                             HHHHHHHHHHHHHHHHHHHHHHH\n",
      "                                                                           HHHHHHHHHHHHHHHHHHHHHHHHH\n",
      "                                                                         HHHHHHHHHHHHHHHHHHHHHHHHHHH\n",
      "                                                                       HHHHHHHHHHHHHHHHHHHHHHHHHHHHH\n",
      "                                                                     HHHHHHHHHHHHHHHHHHHHHHHHHHHHHHH\n",
      "                                                                   HHHHHHHHHHHHHHHHHHHHHHHHHHHHHHHHH\n",
      "                                                                 HHHHHHHHHHHHHHHHHHHHHHHHHHHHHHHHHHH\n",
      "                                                               HHHHHHHHHHHHHHHHHHHHHHHHHHHHHHHHHHHHH\n",
      "                                                             HHHHHHHHHHHHHHHHHHHHHHHHHHHHHHHHHHHHHHH\n",
      "                                        HHHHHHHHHHHHHHHHHHHH                                                                                HHHHHHHHHHHHHHHHHHHH                                        \n",
      "                                        HHHHHHHHHHHHHHHHHHHH                                                                                HHHHHHHHHHHHHHHHHHHH                                        \n",
      "                                        HHHHHHHHHHHHHHHHHHHH                                                                                HHHHHHHHHHHHHHHHHHHH                                        \n",
      "                                        HHHHHHHHHHHHHHHHHHHH                                                                                HHHHHHHHHHHHHHHHHHHH                                        \n",
      "                                        HHHHHHHHHHHHHHHHHHHH                                                                                HHHHHHHHHHHHHHHHHHHH                                        \n",
      "                                        HHHHHHHHHHHHHHHHHHHH                                                                                HHHHHHHHHHHHHHHHHHHH                                        \n",
      "                                        HHHHHHHHHHHHHHHHHHHH                                                                                HHHHHHHHHHHHHHHHHHHH                                        \n",
      "                                        HHHHHHHHHHHHHHHHHHHH                                                                                HHHHHHHHHHHHHHHHHHHH                                        \n",
      "                                        HHHHHHHHHHHHHHHHHHHH                                                                                HHHHHHHHHHHHHHHHHHHH                                        \n",
      "                                        HHHHHHHHHHHHHHHHHHHH                                                                                HHHHHHHHHHHHHHHHHHHH                                        \n",
      "                                        HHHHHHHHHHHHHHHHHHHH                                                                                HHHHHHHHHHHHHHHHHHHH                                        \n",
      "                                        HHHHHHHHHHHHHHHHHHHH                                                                                HHHHHHHHHHHHHHHHHHHH                                        \n",
      "                                        HHHHHHHHHHHHHHHHHHHH                                                                                HHHHHHHHHHHHHHHHHHHH                                        \n",
      "                                        HHHHHHHHHHHHHHHHHHHH                                                                                HHHHHHHHHHHHHHHHHHHH                                        \n",
      "                                        HHHHHHHHHHHHHHHHHHHH                                                                                HHHHHHHHHHHHHHHHHHHH                                        \n",
      "                                        HHHHHHHHHHHHHHHHHHHH                                                                                HHHHHHHHHHHHHHHHHHHH                                        \n",
      "                                        HHHHHHHHHHHHHHHHHHHH                                                                                HHHHHHHHHHHHHHHHHHHH                                        \n",
      "                                        HHHHHHHHHHHHHHHHHHHH                                                                                HHHHHHHHHHHHHHHHHHHH                                        \n",
      "                                        HHHHHHHHHHHHHHHHHHHH                                                                                HHHHHHHHHHHHHHHHHHHH                                        \n",
      "                                        HHHHHHHHHHHHHHHHHHHH                                                                                HHHHHHHHHHHHHHHHHHHH                                        \n",
      "HHHHHHHHHHHHHHHHHHHHHHHHHHHHHHHHHHHHHHHHHHHHHHHHHHHHHHHHHHHHHHHHHHHHHHHHHHHHHHHHHHHHHHHHHHHHHHHHHHHH\n",
      "HHHHHHHHHHHHHHHHHHHHHHHHHHHHHHHHHHHHHHHHHHHHHHHHHHHHHHHHHHHHHHHHHHHHHHHHHHHHHHHHHHHHHHHHHHHHHHHHHHHH\n",
      "HHHHHHHHHHHHHHHHHHHHHHHHHHHHHHHHHHHHHHHHHHHHHHHHHHHHHHHHHHHHHHHHHHHHHHHHHHHHHHHHHHHHHHHHHHHHHHHHHHHH\n",
      "HHHHHHHHHHHHHHHHHHHHHHHHHHHHHHHHHHHHHHHHHHHHHHHHHHHHHHHHHHHHHHHHHHHHHHHHHHHHHHHHHHHHHHHHHHHHHHHHHHHH\n",
      "HHHHHHHHHHHHHHHHHHHHHHHHHHHHHHHHHHHHHHHHHHHHHHHHHHHHHHHHHHHHHHHHHHHHHHHHHHHHHHHHHHHHHHHHHHHHHHHHHHHH\n",
      "HHHHHHHHHHHHHHHHHHHHHHHHHHHHHHHHHHHHHHHHHHHHHHHHHHHHHHHHHHHHHHHHHHHHHHHHHHHHHHHHHHHHHHHHHHHHHHHHHHHH\n",
      "HHHHHHHHHHHHHHHHHHHHHHHHHHHHHHHHHHHHHHHHHHHHHHHHHHHHHHHHHHHHHHHHHHHHHHHHHHHHHHHHHHHHHHHHHHHHHHHHHHHH\n",
      "HHHHHHHHHHHHHHHHHHHHHHHHHHHHHHHHHHHHHHHHHHHHHHHHHHHHHHHHHHHHHHHHHHHHHHHHHHHHHHHHHHHHHHHHHHHHHHHHHHHH\n",
      "HHHHHHHHHHHHHHHHHHHHHHHHHHHHHHHHHHHHHHHHHHHHHHHHHHHHHHHHHHHHHHHHHHHHHHHHHHHHHHHHHHHHHHHHHHHHHHHHHHHH\n",
      "HHHHHHHHHHHHHHHHHHHHHHHHHHHHHHHHHHHHHHHHHHHHHHHHHHHHHHHHHHHHHHHHHHHHHHHHHHHHHHHHHHHHHHHHHHHHHHHHHHHH\n",
      "                                        HHHHHHHHHHHHHHHHHHHH                                                                                HHHHHHHHHHHHHHHHHHHH                                        \n",
      "                                        HHHHHHHHHHHHHHHHHHHH                                                                                HHHHHHHHHHHHHHHHHHHH                                        \n",
      "                                        HHHHHHHHHHHHHHHHHHHH                                                                                HHHHHHHHHHHHHHHHHHHH                                        \n",
      "                                        HHHHHHHHHHHHHHHHHHHH                                                                                HHHHHHHHHHHHHHHHHHHH                                        \n",
      "                                        HHHHHHHHHHHHHHHHHHHH                                                                                HHHHHHHHHHHHHHHHHHHH                                        \n",
      "                                        HHHHHHHHHHHHHHHHHHHH                                                                                HHHHHHHHHHHHHHHHHHHH                                        \n",
      "                                        HHHHHHHHHHHHHHHHHHHH                                                                                HHHHHHHHHHHHHHHHHHHH                                        \n",
      "                                        HHHHHHHHHHHHHHHHHHHH                                                                                HHHHHHHHHHHHHHHHHHHH                                        \n",
      "                                        HHHHHHHHHHHHHHHHHHHH                                                                                HHHHHHHHHHHHHHHHHHHH                                        \n",
      "                                        HHHHHHHHHHHHHHHHHHHH                                                                                HHHHHHHHHHHHHHHHHHHH                                        \n",
      "                                        HHHHHHHHHHHHHHHHHHHH                                                                                HHHHHHHHHHHHHHHHHHHH                                        \n",
      "                                        HHHHHHHHHHHHHHHHHHHH                                                                                HHHHHHHHHHHHHHHHHHHH                                        \n",
      "                                        HHHHHHHHHHHHHHHHHHHH                                                                                HHHHHHHHHHHHHHHHHHHH                                        \n",
      "                                        HHHHHHHHHHHHHHHHHHHH                                                                                HHHHHHHHHHHHHHHHHHHH                                        \n",
      "                                        HHHHHHHHHHHHHHHHHHHH                                                                                HHHHHHHHHHHHHHHHHHHH                                        \n",
      "                                        HHHHHHHHHHHHHHHHHHHH                                                                                HHHHHHHHHHHHHHHHHHHH                                        \n",
      "                                        HHHHHHHHHHHHHHHHHHHH                                                                                HHHHHHHHHHHHHHHHHHHH                                        \n",
      "                                        HHHHHHHHHHHHHHHHHHHH                                                                                HHHHHHHHHHHHHHHHHHHH                                        \n",
      "                                        HHHHHHHHHHHHHHHHHHHH                                                                                HHHHHHHHHHHHHHHHHHHH                                        \n",
      "                                        HHHHHHHHHHHHHHHHHHHH                                                                                HHHHHHHHHHHHHHHHHHHH                                        \n",
      "HHHHHHHHHHHHHHHHHHHHHHHHHHHHHHHHHHHHHHH                                                             \n",
      "HHHHHHHHHHHHHHHHHHHHHHHHHHHHHHHHHHHHH                                                               \n",
      "HHHHHHHHHHHHHHHHHHHHHHHHHHHHHHHHHHH                                                                 \n",
      "HHHHHHHHHHHHHHHHHHHHHHHHHHHHHHHHH                                                                   \n",
      "HHHHHHHHHHHHHHHHHHHHHHHHHHHHHHH                                                                     \n",
      "HHHHHHHHHHHHHHHHHHHHHHHHHHHHH                                                                       \n",
      "HHHHHHHHHHHHHHHHHHHHHHHHHHH                                                                         \n",
      "HHHHHHHHHHHHHHHHHHHHHHHHH                                                                           \n",
      "HHHHHHHHHHHHHHHHHHHHHHH                                                                             \n",
      "HHHHHHHHHHHHHHHHHHHHH                                                                               \n",
      "HHHHHHHHHHHHHHHHHHH                                                                                 \n",
      "HHHHHHHHHHHHHHHHH                                                                                   \n",
      "HHHHHHHHHHHHHHH                                                                                     \n",
      "HHHHHHHHHHHHH                                                                                       \n",
      "HHHHHHHHHHH                                                                                         \n",
      "HHHHHHHHH                                                                                           \n",
      "HHHHHHH                                                                                             \n",
      "HHHHH                                                                                               \n",
      "HHH                                                                                                 \n",
      "H                                                                                                   \n"
     ]
    }
   ],
   "source": [
    "\n",
    "if __name__ == '__main__':\n",
    "    thickness = int(input())  # Read thickness (odd number)\n",
    "    c = 'H'  # Character for the logo\n",
    "    \n",
    "    # Total width of the logo is 5 * thickness\n",
    "    width = 5 * thickness\n",
    "    \n",
    "    # Top Cone: Right-aligned triangle\n",
    "    for i in range(thickness):\n",
    "        print((c * (2 * i + 1)).rjust(width))  # ______ replaced with rjust\n",
    "    \n",
    "    # Top Pillars: Two bars of thickness rows, centered\n",
    "    for i in range(thickness):\n",
    "        print((c * thickness).center(width) + (c * thickness).center(width))\n",
    "    \n",
    "    # Middle Belt: Full width (5 * thickness) for thickness//2 + 1 rows\n",
    "    for i in range((thickness + 1) // 2):\n",
    "        print((c * width).center(width))\n",
    "    \n",
    "    # Bottom Pillars: Same as top pillars\n",
    "    for i in range(thickness):\n",
    "        print((c * thickness).center(width) + (c * thickness).center(width))\n",
    "    \n",
    "    # Bottom Cone: Left-aligned triangle\n",
    "    for i in range(thickness):\n",
    "        print((c * (2 * (thickness - i - 1) + 1)).ljust(width))"
   ]
  },
  {
   "cell_type": "code",
   "execution_count": 3,
   "id": "d0ec94ba",
   "metadata": {},
   "outputs": [
    {
     "name": "stdout",
     "output_type": "stream",
     "text": [
      "                                                                                                   H\n",
      "                                                                                                 HHH\n",
      "                                                                                               HHHHH\n",
      "                                                                                             HHHHHHH\n",
      "                                                                                           HHHHHHHHH\n",
      "                                                                                         HHHHHHHHHHH\n",
      "                                                                                       HHHHHHHHHHHHH\n",
      "                                                                                     HHHHHHHHHHHHHHH\n",
      "                                                                                   HHHHHHHHHHHHHHHHH\n",
      "                                                                                 HHHHHHHHHHHHHHHHHHH\n",
      "                                                                               HHHHHHHHHHHHHHHHHHHHH\n",
      "                                                                             HHHHHHHHHHHHHHHHHHHHHHH\n",
      "                                                                           HHHHHHHHHHHHHHHHHHHHHHHHH\n",
      "                                                                         HHHHHHHHHHHHHHHHHHHHHHHHHHH\n",
      "                                                                       HHHHHHHHHHHHHHHHHHHHHHHHHHHHH\n",
      "                                                                     HHHHHHHHHHHHHHHHHHHHHHHHHHHHHHH\n",
      "                                                                   HHHHHHHHHHHHHHHHHHHHHHHHHHHHHHHHH\n",
      "                                                                 HHHHHHHHHHHHHHHHHHHHHHHHHHHHHHHHHHH\n",
      "                                                               HHHHHHHHHHHHHHHHHHHHHHHHHHHHHHHHHHHHH\n",
      "                                                             HHHHHHHHHHHHHHHHHHHHHHHHHHHHHHHHHHHHHHH\n",
      "                                        HHHHHHHHHHHHHHHHHHHH                                                                                HHHHHHHHHHHHHHHHHHHH                                        \n",
      "                                        HHHHHHHHHHHHHHHHHHHH                                                                                HHHHHHHHHHHHHHHHHHHH                                        \n",
      "                                        HHHHHHHHHHHHHHHHHHHH                                                                                HHHHHHHHHHHHHHHHHHHH                                        \n",
      "                                        HHHHHHHHHHHHHHHHHHHH                                                                                HHHHHHHHHHHHHHHHHHHH                                        \n",
      "                                        HHHHHHHHHHHHHHHHHHHH                                                                                HHHHHHHHHHHHHHHHHHHH                                        \n",
      "                                        HHHHHHHHHHHHHHHHHHHH                                                                                HHHHHHHHHHHHHHHHHHHH                                        \n",
      "                                        HHHHHHHHHHHHHHHHHHHH                                                                                HHHHHHHHHHHHHHHHHHHH                                        \n",
      "                                        HHHHHHHHHHHHHHHHHHHH                                                                                HHHHHHHHHHHHHHHHHHHH                                        \n",
      "                                        HHHHHHHHHHHHHHHHHHHH                                                                                HHHHHHHHHHHHHHHHHHHH                                        \n",
      "                                        HHHHHHHHHHHHHHHHHHHH                                                                                HHHHHHHHHHHHHHHHHHHH                                        \n",
      "                                        HHHHHHHHHHHHHHHHHHHH                                                                                HHHHHHHHHHHHHHHHHHHH                                        \n",
      "                                        HHHHHHHHHHHHHHHHHHHH                                                                                HHHHHHHHHHHHHHHHHHHH                                        \n",
      "                                        HHHHHHHHHHHHHHHHHHHH                                                                                HHHHHHHHHHHHHHHHHHHH                                        \n",
      "                                        HHHHHHHHHHHHHHHHHHHH                                                                                HHHHHHHHHHHHHHHHHHHH                                        \n",
      "                                        HHHHHHHHHHHHHHHHHHHH                                                                                HHHHHHHHHHHHHHHHHHHH                                        \n",
      "                                        HHHHHHHHHHHHHHHHHHHH                                                                                HHHHHHHHHHHHHHHHHHHH                                        \n",
      "                                        HHHHHHHHHHHHHHHHHHHH                                                                                HHHHHHHHHHHHHHHHHHHH                                        \n",
      "                                        HHHHHHHHHHHHHHHHHHHH                                                                                HHHHHHHHHHHHHHHHHHHH                                        \n",
      "                                        HHHHHHHHHHHHHHHHHHHH                                                                                HHHHHHHHHHHHHHHHHHHH                                        \n",
      "                                        HHHHHHHHHHHHHHHHHHHH                                                                                HHHHHHHHHHHHHHHHHHHH                                        \n",
      "                                        HHHHHHHHHHHHHHHHHHHH                                                                                HHHHHHHHHHHHHHHHHHHH                                        \n",
      "HHHHHHHHHHHHHHHHHHHHHHHHHHHHHHHHHHHHHHHHHHHHHHHHHHHHHHHHHHHHHHHHHHHHHHHHHHHHHHHHHHHHHHHHHHHHHHHHHHHH\n",
      "HHHHHHHHHHHHHHHHHHHHHHHHHHHHHHHHHHHHHHHHHHHHHHHHHHHHHHHHHHHHHHHHHHHHHHHHHHHHHHHHHHHHHHHHHHHHHHHHHHHH\n",
      "HHHHHHHHHHHHHHHHHHHHHHHHHHHHHHHHHHHHHHHHHHHHHHHHHHHHHHHHHHHHHHHHHHHHHHHHHHHHHHHHHHHHHHHHHHHHHHHHHHHH\n",
      "HHHHHHHHHHHHHHHHHHHHHHHHHHHHHHHHHHHHHHHHHHHHHHHHHHHHHHHHHHHHHHHHHHHHHHHHHHHHHHHHHHHHHHHHHHHHHHHHHHHH\n",
      "HHHHHHHHHHHHHHHHHHHHHHHHHHHHHHHHHHHHHHHHHHHHHHHHHHHHHHHHHHHHHHHHHHHHHHHHHHHHHHHHHHHHHHHHHHHHHHHHHHHH\n",
      "HHHHHHHHHHHHHHHHHHHHHHHHHHHHHHHHHHHHHHHHHHHHHHHHHHHHHHHHHHHHHHHHHHHHHHHHHHHHHHHHHHHHHHHHHHHHHHHHHHHH\n",
      "HHHHHHHHHHHHHHHHHHHHHHHHHHHHHHHHHHHHHHHHHHHHHHHHHHHHHHHHHHHHHHHHHHHHHHHHHHHHHHHHHHHHHHHHHHHHHHHHHHHH\n",
      "HHHHHHHHHHHHHHHHHHHHHHHHHHHHHHHHHHHHHHHHHHHHHHHHHHHHHHHHHHHHHHHHHHHHHHHHHHHHHHHHHHHHHHHHHHHHHHHHHHHH\n",
      "HHHHHHHHHHHHHHHHHHHHHHHHHHHHHHHHHHHHHHHHHHHHHHHHHHHHHHHHHHHHHHHHHHHHHHHHHHHHHHHHHHHHHHHHHHHHHHHHHHHH\n",
      "HHHHHHHHHHHHHHHHHHHHHHHHHHHHHHHHHHHHHHHHHHHHHHHHHHHHHHHHHHHHHHHHHHHHHHHHHHHHHHHHHHHHHHHHHHHHHHHHHHHH\n",
      "                                        HHHHHHHHHHHHHHHHHHHH                                                                                HHHHHHHHHHHHHHHHHHHH                                        \n",
      "                                        HHHHHHHHHHHHHHHHHHHH                                                                                HHHHHHHHHHHHHHHHHHHH                                        \n",
      "                                        HHHHHHHHHHHHHHHHHHHH                                                                                HHHHHHHHHHHHHHHHHHHH                                        \n",
      "                                        HHHHHHHHHHHHHHHHHHHH                                                                                HHHHHHHHHHHHHHHHHHHH                                        \n",
      "                                        HHHHHHHHHHHHHHHHHHHH                                                                                HHHHHHHHHHHHHHHHHHHH                                        \n",
      "                                        HHHHHHHHHHHHHHHHHHHH                                                                                HHHHHHHHHHHHHHHHHHHH                                        \n",
      "                                        HHHHHHHHHHHHHHHHHHHH                                                                                HHHHHHHHHHHHHHHHHHHH                                        \n",
      "                                        HHHHHHHHHHHHHHHHHHHH                                                                                HHHHHHHHHHHHHHHHHHHH                                        \n",
      "                                        HHHHHHHHHHHHHHHHHHHH                                                                                HHHHHHHHHHHHHHHHHHHH                                        \n",
      "                                        HHHHHHHHHHHHHHHHHHHH                                                                                HHHHHHHHHHHHHHHHHHHH                                        \n",
      "                                        HHHHHHHHHHHHHHHHHHHH                                                                                HHHHHHHHHHHHHHHHHHHH                                        \n",
      "                                        HHHHHHHHHHHHHHHHHHHH                                                                                HHHHHHHHHHHHHHHHHHHH                                        \n",
      "                                        HHHHHHHHHHHHHHHHHHHH                                                                                HHHHHHHHHHHHHHHHHHHH                                        \n",
      "                                        HHHHHHHHHHHHHHHHHHHH                                                                                HHHHHHHHHHHHHHHHHHHH                                        \n",
      "                                        HHHHHHHHHHHHHHHHHHHH                                                                                HHHHHHHHHHHHHHHHHHHH                                        \n",
      "                                        HHHHHHHHHHHHHHHHHHHH                                                                                HHHHHHHHHHHHHHHHHHHH                                        \n",
      "                                        HHHHHHHHHHHHHHHHHHHH                                                                                HHHHHHHHHHHHHHHHHHHH                                        \n",
      "                                        HHHHHHHHHHHHHHHHHHHH                                                                                HHHHHHHHHHHHHHHHHHHH                                        \n",
      "                                        HHHHHHHHHHHHHHHHHHHH                                                                                HHHHHHHHHHHHHHHHHHHH                                        \n",
      "                                        HHHHHHHHHHHHHHHHHHHH                                                                                HHHHHHHHHHHHHHHHHHHH                                        \n",
      "                                        HHHHHHHHHHHHHHHHHHHH                                                                                HHHHHHHHHHHHHHHHHHHH                                        \n",
      "HHHHHHHHHHHHHHHHHHHHHHHHHHHHHHHHHHHHHHH                                                             \n",
      "HHHHHHHHHHHHHHHHHHHHHHHHHHHHHHHHHHHHH                                                               \n",
      "HHHHHHHHHHHHHHHHHHHHHHHHHHHHHHHHHHH                                                                 \n",
      "HHHHHHHHHHHHHHHHHHHHHHHHHHHHHHHHH                                                                   \n",
      "HHHHHHHHHHHHHHHHHHHHHHHHHHHHHHH                                                                     \n",
      "HHHHHHHHHHHHHHHHHHHHHHHHHHHHH                                                                       \n",
      "HHHHHHHHHHHHHHHHHHHHHHHHHHH                                                                         \n",
      "HHHHHHHHHHHHHHHHHHHHHHHHH                                                                           \n",
      "HHHHHHHHHHHHHHHHHHHHHHH                                                                             \n",
      "HHHHHHHHHHHHHHHHHHHHH                                                                               \n",
      "HHHHHHHHHHHHHHHHHHH                                                                                 \n",
      "HHHHHHHHHHHHHHHHH                                                                                   \n",
      "HHHHHHHHHHHHHHH                                                                                     \n",
      "HHHHHHHHHHHHH                                                                                       \n",
      "HHHHHHHHHHH                                                                                         \n",
      "HHHHHHHHH                                                                                           \n",
      "HHHHHHH                                                                                             \n",
      "HHHHH                                                                                               \n",
      "HHH                                                                                                 \n",
      "H                                                                                                   \n"
     ]
    }
   ],
   "source": [
    "\n",
    "\n",
    "if __name__ == '__main__':\n",
    "    thickness = int(input())  # Read thickness (odd number)\n",
    "    c = 'H'  # Character for the logo\n",
    "    \n",
    "    # Total width of the logo is 5 * thickness\n",
    "    width = 5 * thickness\n",
    "    \n",
    "    # Top Cone: Right-aligned triangle\n",
    "    for i in range(thickness):\n",
    "        print((c * (2 * i + 1)).rjust(width))\n",
    "    \n",
    "    # Top Pillars: Two bars of thickness//2 rows, centered\n",
    "    for i in range(thickness + 1):\n",
    "        print((c * thickness).center(width) + (c * thickness).center(width))\n",
    "    \n",
    "    # Middle Belt: Full width (5 * thickness) for thickness rows\n",
    "    for i in range(thickness // 2):\n",
    "        print((c * width).center(width))\n",
    "    \n",
    "    # Bottom Pillars: Same as top pillars\n",
    "    for i in range(thickness + 1):\n",
    "        print((c * thickness).center(width) + (c * thickness).center(width))\n",
    "    \n",
    "    # Bottom Cone: Left-aligned triangle\n",
    "    for i in range(thickness):\n",
    "        print((c * (2 * (thickness - i - 1) + 1)).ljust(width))"
   ]
  },
  {
   "cell_type": "code",
   "execution_count": 4,
   "id": "604c791b",
   "metadata": {},
   "outputs": [
    {
     "name": "stdout",
     "output_type": "stream",
     "text": [
      "True\n",
      "False\n",
      "True\n",
      "False\n",
      "False\n"
     ]
    }
   ],
   "source": [
    "if __name__ == '__main__':\n",
    "    s = input()\n",
    "    print(any(c.isalnum() for c in s))\n",
    "    print(any(c.isalpha() for c in s))\n",
    "    print(any(c.isdigit() for c in s))\n",
    "    print(any(c.islower() for c in s))\n",
    "    print(any(c.isupper() for c in s))\n"
   ]
  },
  {
   "cell_type": "code",
   "execution_count": 9,
   "id": "a06c439b",
   "metadata": {},
   "outputs": [
    {
     "name": "stdout",
     "output_type": "stream",
     "text": [
      "----c----\n",
      "--c-b-c--\n",
      "c-b-a-b-c\n",
      "--c-b-c--\n",
      "----c----\n"
     ]
    }
   ],
   "source": [
    "import numpy as np\n",
    "def rangoli(size):\n",
    "    width = 4 * size - 3\n",
    "    height = 2 * size - 1\n",
    "    arr = np.full((height, width), '-')\n",
    "    letters = [chr(97 + i) for i in range(size)]\n",
    "    for i in range(size):\n",
    "        row_letters = letters[size-1:size-1-i:-1] + letters[size-i-1:size]\n",
    "        row_width = len(row_letters) * 2 - 1\n",
    "        start = (width - row_width) // 2\n",
    "        for j, c in enumerate(row_letters):\n",
    "            arr[i, start + j*2] = c\n",
    "            arr[height-1-i, start + j*2] = c\n",
    "    return '\\n'.join(''.join(row) for row in arr)\n",
    "if __name__ == '__main__':\n",
    "    n = int(input())\n",
    "    print(rangoli(n))"
   ]
  },
  {
   "cell_type": "code",
   "execution_count": 14,
   "id": "60b70f15",
   "metadata": {},
   "outputs": [
    {
     "name": "stdout",
     "output_type": "stream",
     "text": [
      "------------------j------------------\n",
      "----------------j-i-j----------------\n",
      "--------------j-i-h-i-j--------------\n",
      "------------j-i-h-g-h-i-j------------\n",
      "----------j-i-h-g-f-g-h-i-j----------\n",
      "--------j-i-h-g-f-e-f-g-h-i-j--------\n",
      "------j-i-h-g-f-e-d-e-f-g-h-i-j------\n",
      "----j-i-h-g-f-e-d-c-d-e-f-g-h-i-j----\n",
      "--j-i-h-g-f-e-d-c-b-c-d-e-f-g-h-i-j--\n",
      "j-i-h-g-f-e-d-c-b-a-b-c-d-e-f-g-h-i-j\n",
      "--j-i-h-g-f-e-d-c-b-c-d-e-f-g-h-i-j--\n",
      "----j-i-h-g-f-e-d-c-d-e-f-g-h-i-j----\n",
      "------j-i-h-g-f-e-d-e-f-g-h-i-j------\n",
      "--------j-i-h-g-f-e-f-g-h-i-j--------\n",
      "----------j-i-h-g-f-g-h-i-j----------\n",
      "------------j-i-h-g-h-i-j------------\n",
      "--------------j-i-h-i-j--------------\n",
      "----------------j-i-j----------------\n",
      "------------------j------------------\n"
     ]
    }
   ],
   "source": [
    "\n",
    "def rangoli(size):\n",
    "    # Letters from a to the nth letter (e.g., n=5 -> 'a' to 'e')\n",
    "    letters = [chr(97 + i) for i in range(size)]  # 97 = ord('a')\n",
    "    # Width of the rangoli: 4n-3 (e.g., n=5 -> 17)\n",
    "    width = 4 * size - 3\n",
    "    lines = []\n",
    "    \n",
    "    # Generate rows (0 to size-1 for top half, then size-2 to 0 for bottom)\n",
    "    for i in range(size):\n",
    "        # Letters for this row: from index size-1 down to size-1-i, then back\n",
    "        row_letters = letters[size-1:size-1-i:-1] + letters[size-i-1:size]\n",
    "        # Join with hyphens and center with spaces\n",
    "        row = '-'.join(row_letters).center(width, '-')\n",
    "        lines.append(row)\n",
    "    \n",
    "    # Add bottom half (reverse of top half, excluding middle row)\n",
    "    lines += lines[-2::-1]\n",
    "    \n",
    "    # Join lines with newlines\n",
    "    return '\\n'.join(lines)\n",
    "\n",
    "if __name__ == '__main__':\n",
    "    n = int(input())\n",
    "    print(rangoli(n))\n"
   ]
  },
  {
   "cell_type": "code",
   "execution_count": 17,
   "id": "74d74c2e",
   "metadata": {},
   "outputs": [
    {
     "name": "stdout",
     "output_type": "stream",
     "text": [
      "--------e--------\n",
      "------e-d-e------\n",
      "----e-d-c-d-e----\n",
      "--e-d-c-b-c-d-e--\n",
      "e-d-c-b-a-b-c-d-e\n",
      "--e-d-c-b-c-d-e--\n",
      "----e-d-c-d-e----\n",
      "------e-d-e------\n",
      "--------e--------\n"
     ]
    }
   ],
   "source": [
    "def rangoli(size):\n",
    "    alphabet = [chr(ord('a') + i) for i in range(size)]\n",
    "    \n",
    "    lines = []\n",
    "    # Generate the upper part of the rangoli (including the middle line)\n",
    "    for i in range(size):\n",
    "        # Characters for the current line\n",
    "        # Example for size=5, i=0: ['e']\n",
    "        # Example for size=5, i=1: ['e', 'd', 'e']\n",
    "        # Example for size=5, i=4: ['e', 'd', 'c', 'b', 'a', 'b', 'c', 'd', 'e']\n",
    "        current_chars = alphabet[size-1:size-1-i:-1] + alphabet[size-i-1:size]\n",
    "        \n",
    "        # Join characters with hyphens\n",
    "        line_str = \"-\".join(current_chars)\n",
    "        \n",
    "        # Calculate total width of the rangoli\n",
    "        # The widest line (middle line) has (2*size - 1) characters and (2*size - 2) hyphens\n",
    "        # So, total width = (2*size - 1) + (2*size - 2) = 4*size - 3\n",
    "        total_width = (size * 4) - 3\n",
    "        \n",
    "        # Center the line with hyphens\n",
    "        centered_line = line_str.center(total_width, '-')\n",
    "        lines.append(centered_line)\n",
    "    \n",
    "    # The full rangoli is the upper part + the reverse of the upper part (excluding the middle line)\n",
    "    full_rangoli = lines[:-1] + lines[::-1]\n",
    "    \n",
    "    return \"\\n\".join(full_rangoli)\n",
    "\n",
    "if __name__ == '__main__':\n",
    "    n = int(input())\n",
    "    print(rangoli(n))"
   ]
  },
  {
   "cell_type": "code",
   "execution_count": 19,
   "id": "21ab67ba",
   "metadata": {},
   "outputs": [
    {
     "name": "stdout",
     "output_type": "stream",
     "text": [
      "-------------------------------------\n",
      "-----------------j-j-----------------\n",
      "---------------j-i-i-j---------------\n",
      "-------------j-i-h-h-i-j-------------\n",
      "-----------j-i-h-g-g-h-i-j-----------\n",
      "---------j-i-h-g-f-f-g-h-i-j---------\n",
      "-------j-i-h-g-f-e-e-f-g-h-i-j-------\n",
      "-----j-i-h-g-f-e-d-d-e-f-g-h-i-j-----\n",
      "---j-i-h-g-f-e-d-c-c-d-e-f-g-h-i-j---\n",
      "-j-i-h-g-f-e-d-c-b-b-c-d-e-f-g-h-i-j-\n",
      "---j-i-h-g-f-e-d-c-c-d-e-f-g-h-i-j---\n",
      "-----j-i-h-g-f-e-d-d-e-f-g-h-i-j-----\n",
      "-------j-i-h-g-f-e-e-f-g-h-i-j-------\n",
      "---------j-i-h-g-f-f-g-h-i-j---------\n",
      "-----------j-i-h-g-g-h-i-j-----------\n",
      "-------------j-i-h-h-i-j-------------\n",
      "---------------j-i-i-j---------------\n",
      "-----------------j-j-----------------\n",
      "-------------------------------------\n"
     ]
    }
   ],
   "source": [
    "def rangoli(size):\n",
    "    \"\"\"\n",
    "    Generates an alphabet rangoli pattern of a given size.\n",
    "\n",
    "    The rangoli pattern is centered with 'a' at its core,\n",
    "    and expands outwards to the 'size'-th alphabet character.\n",
    "\n",
    "    Args:\n",
    "        size (int): The size of the rangoli.\n",
    "\n",
    "    Returns:\n",
    "        str: A single string made up of each of the lines of the rangoli\n",
    "             separated by a newline character (\\n).\n",
    "    \"\"\"\n",
    "    # Create a list of alphabet characters from 'a' up to the character\n",
    "    # corresponding to the given size.\n",
    "    # For size=5, alphabet will be ['a', 'b', 'c', 'd', 'e']\n",
    "    alphabet = [chr(ord('a') + i) for i in range(size)]\n",
    "\n",
    "    lines = []\n",
    "    # Generate the upper part of the rangoli, including the middle line.\n",
    "    # The loop runs from i = 0 to size - 1.\n",
    "    for i in range(size):\n",
    "        # Construct the characters for the current line.\n",
    "        # This involves two parts:\n",
    "        # 1. Descending sequence: from alphabet[size-1] down to alphabet[size-1-i]\n",
    "        #    Example for size=5, i=1: alphabet[4:3:-1] -> ['e', 'd']\n",
    "        # 2. Ascending sequence: from alphabet[size-i-1] up to alphabet[size-1]\n",
    "        #    (excluding the first element to avoid duplication with the descending part)\n",
    "        #    Example for size=5, i=1: alphabet[3:5] -> ['d', 'e']\n",
    "        # Combined for size=5, i=1: ['e', 'd'] + ['e'] = ['e', 'd', 'e']\n",
    "        current_chars_desc = alphabet[size-1:size-1-i:-1]\n",
    "        current_chars_asc = alphabet[size-i:size] # Start from size-i to exclude the center char if i > 0\n",
    "\n",
    "        current_chars = current_chars_desc + current_chars_asc\n",
    "\n",
    "        # Join the characters with hyphens to form the raw line string.\n",
    "        line_str = \"-\".join(current_chars)\n",
    "\n",
    "        # Calculate the total width of the rangoli.\n",
    "        # The widest line (the middle line) has (2 * size - 1) characters\n",
    "        # and (2 * size - 2) hyphens.\n",
    "        # Total width = (2 * size - 1) + (2 * size - 2) = 4 * size - 3.\n",
    "        total_width = (size * 4) - 3\n",
    "\n",
    "        # Center the line string within the total width, padding with hyphens.\n",
    "        centered_line = line_str.center(total_width, '-')\n",
    "        lines.append(centered_line)\n",
    "\n",
    "    # The complete rangoli pattern is formed by:\n",
    "    # 1. The lines generated in the loop (upper half including the middle line).\n",
    "    # 2. The reverse of the lines generated in the loop (lower half),\n",
    "    #    excluding the first line (which is the middle line, already included).\n",
    "    #    lines[:-1] gets all lines except the last one (the middle line).\n",
    "    #    lines[::-1] reverses the entire list of lines.\n",
    "    full_rangoli = lines[:-1] + lines[::-1]\n",
    "\n",
    "    # Join all the lines with newline characters to form the final output string.\n",
    "    return \"\\n\".join(full_rangoli)\n",
    "\n",
    "# Example usage (as per sample input):\n",
    "size_input = 10\n",
    "print(rangoli(size_input))"
   ]
  },
  {
   "cell_type": "code",
   "execution_count": 20,
   "id": "d5060d39",
   "metadata": {},
   "outputs": [
    {
     "name": "stdout",
     "output_type": "stream",
     "text": [
      "--------e--------\n",
      "------e-d-e------\n",
      "----e-d-c-d-e----\n",
      "--e-d-c-b-c-d-e--\n",
      "e-d-c-b-a-b-c-d-e\n",
      "--e-d-c-b-c-d-e--\n",
      "----e-d-c-d-e----\n",
      "------e-d-e------\n",
      "--------e--------\n"
     ]
    }
   ],
   "source": [
    "\n",
    "def rangoli(size):\n",
    "    # Letters from a to the nth letter (e.g., n=5 -> 'a' to 'e')\n",
    "    letters = [chr(97 + i) for i in range(size)]  # 97 = ord('a')\n",
    "    # Width of the rangoli: 4n-3 (e.g., n=5 -> 17)\n",
    "    width = 4 * size - 3\n",
    "    lines = []\n",
    "    \n",
    "    # Generate rows (0 to size-1 for top half, then size-2 to 0 for bottom)\n",
    "    for i in range(size):\n",
    "        # Letters for this row: from index size-1 down to size-1-i, then back\n",
    "        row_letters = letters[size-1:size-1-i:-1] + letters[size-i-1:size]\n",
    "        # Join with hyphens and center with spaces\n",
    "        row = '-'.join(row_letters).center(width, '-')\n",
    "        lines.append(row)\n",
    "    \n",
    "    # Add bottom half (reverse of top half, excluding middle row)\n",
    "    lines += lines[-2::-1]\n",
    "    \n",
    "    # Join lines with newlines\n",
    "    return print('\\n'.join(lines))\n",
    "\n",
    "if __name__ == '__main__':\n",
    "    n = int(input())\n",
    "    rangoli(n)\n"
   ]
  },
  {
   "cell_type": "code",
   "execution_count": null,
   "id": "be910edb",
   "metadata": {},
   "outputs": [
    {
     "name": "stdout",
     "output_type": "stream",
     "text": [
      "Chris Alan\n"
     ]
    }
   ],
   "source": [
    "def solve(s):\n",
    "    \"\"\"\n",
    "    Capitalizes a full name according to specific rules:\n",
    "    - The first letter of each word (separated by spaces) is capitalized.\n",
    "    - If a word starts with a non-alphabetic character (e.g., number, symbol),\n",
    "      that word remains unchanged.\n",
    "\n",
    "    Args:\n",
    "        s (str): The full name string.\n",
    "\n",
    "    Returns:\n",
    "        str: The capitalized string.\n",
    "    \"\"\"\n",
    "    result_chars = []\n",
    "    # Flag to determine if the next character should be capitalized.\n",
    "    # It's True at the beginning of the string or after a space.\n",
    "    capitalize_next = True\n",
    "\n",
    "    for char in s:\n",
    "        if char == ' ':\n",
    "            # If the character is a space, append it and set the flag\n",
    "            # to True for the next character (start of a new word).\n",
    "            result_chars.append(char)\n",
    "            capitalize_next = True\n",
    "        else:\n",
    "            if capitalize_next and char.isalpha():\n",
    "                # If it's the start of a word and the character is an alphabet,\n",
    "                # capitalize it.\n",
    "                result_chars.append(char.upper())\n",
    "                capitalize_next = False # Reset flag as the first char of word is processed\n",
    "            else:\n",
    "                # Otherwise (not the start of a word, or not an alphabet),\n",
    "                # append the character as is.\n",
    "                result_chars.append(char)\n",
    "                capitalize_next = False # Reset flag as the first char of word is processed\n",
    "\n",
    "    return \"\".join(result_chars)\n",
    "\n",
    "# Sample Input:\n",
    "name = \"chris alan\"\n",
    "print(solve(name)) # Expected Output: Chris Alan\n",
    "\n",
    "# Another test case based on the problem description:\n",
    "# name_with_number = \"12abc\"\n",
    "# print(solve(name_with_number)) # Expected Output: 12abc\n",
    "\n",
    "# Test with mixed case and multiple spaces:\n",
    "# name_mixed = \"alison heck 123test #hello world\"\n",
    "# print(solve(name_mixed)) # Expected Output: Alison Heck 123test #hello World\n",
    "\n",
    "# Test with leading/trailing spaces:\n",
    "# name_spaces = \"  leading and trailing  \"\n",
    "# print(solve(name_spaces)) # Expected Output:   Leading And Trailing\n",
    "\n",
    "\n",
    "#if __name__ == '__main__':\n",
    "#    fptr = open(os.environ['OUTPUT_PATH'], 'w')\n",
    "\n",
    "#    s = input()\n",
    "\n",
    "#    result = solve(s)\n",
    "\n",
    "#    fptr.write(result + '\\n')\n",
    "\n",
    "#    fptr.close()\n"
   ]
  }
 ],
 "metadata": {
  "kernelspec": {
   "display_name": "Python 3",
   "language": "python",
   "name": "python3"
  },
  "language_info": {
   "codemirror_mode": {
    "name": "ipython",
    "version": 3
   },
   "file_extension": ".py",
   "mimetype": "text/x-python",
   "name": "python",
   "nbconvert_exporter": "python",
   "pygments_lexer": "ipython3",
   "version": "3.12.4"
  }
 },
 "nbformat": 4,
 "nbformat_minor": 5
}
