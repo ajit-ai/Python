{
 "cells": [
  {
   "cell_type": "code",
   "execution_count": 2,
   "id": "5ab810d5",
   "metadata": {},
   "outputs": [],
   "source": [
    "import numpy as np"
   ]
  },
  {
   "cell_type": "code",
   "execution_count": 5,
   "id": "ab8e67cb",
   "metadata": {},
   "outputs": [
    {
     "name": "stdout",
     "output_type": "stream",
     "text": [
      "A:\n",
      " [[0.1 0.2 0.3]\n",
      " [0.4 0.5 0.6]\n",
      " [0.7 0.8 0.9]]\n",
      "B:\n",
      " [2 1 0 1 2 0 2 0 1]\n",
      "C:\n",
      " [[0.7 0.8 0.9]\n",
      " [0.4 0.5 0.6]\n",
      " [0.1 0.2 0.3]\n",
      " [0.4 0.5 0.6]\n",
      " [0.7 0.8 0.9]\n",
      " [0.1 0.2 0.3]\n",
      " [0.7 0.8 0.9]\n",
      " [0.1 0.2 0.3]\n",
      " [0.4 0.5 0.6]]\n"
     ]
    }
   ],
   "source": [
    "\n",
    "A = np.array([[0.1, 0.2, 0.3],\n",
    "                    [0.4, 0.5, 0.6],\n",
    "                    [0.7,0.8,0.9]]) # Shape: (3,3)\n",
    "B = np.array([2,1,0,1,2,0,2,0,1]) # SHape (9,)\n",
    "C = A[B, :]\n",
    "\n",
    "print(\"A:\\n\", A)\n",
    "print(\"B:\\n\", B)\n",
    "print(\"C:\\n\", C)"
   ]
  },
  {
   "cell_type": "code",
   "execution_count": 8,
   "id": "c552c10f",
   "metadata": {},
   "outputs": [
    {
     "name": "stdout",
     "output_type": "stream",
     "text": [
      "[]\n",
      "(0, 3)\n",
      "int32\n",
      "<class 'numpy.ndarray'>\n"
     ]
    }
   ],
   "source": [
    "import numpy as np\n",
    "\n",
    "# Create a 2D array\n",
    "array = np.array([[1, 2, 3],\n",
    "                  [4, 5, 6],\n",
    "                  [7, 8, 9]])\n",
    "\n",
    "# Use the syntax array[[], :]\n",
    "result = array[[], :]\n",
    "\n",
    "print(result)  # Output: []\n",
    "print(result.shape)  # Output: (0, 3)\n",
    "print(result.dtype)  # Output: int64 (or int32, depending on your system)\n",
    "print(type(result))  # Output: <class 'numpy.ndarray'>"
   ]
  },
  {
   "cell_type": "code",
   "execution_count": 20,
   "id": "a2f97642",
   "metadata": {},
   "outputs": [
    {
     "name": "stdout",
     "output_type": "stream",
     "text": [
      "[]\n"
     ]
    }
   ],
   "source": [
    "array_1d = np.array([1, 2, 3])\n",
    "print(array_1d[[]])  # Output: [], shape: (0,)\n",
    "# print(array_1d[[], :])  # Raises IndexError: too many indices for array\n",
    "#print(array_1d[[]].shape)  # Output: (0,)"
   ]
  },
  {
   "cell_type": "code",
   "execution_count": 26,
   "id": "e6e5fb87",
   "metadata": {},
   "outputs": [
    {
     "name": "stdout",
     "output_type": "stream",
     "text": [
      "True\n",
      "False\n"
     ]
    }
   ],
   "source": [
    "#Create a function that checks if a given string is a palindrome (reads the same backward as forward, ignoring case and non-alphanumeric characters).\n",
    "def is_palindrome(s: str) -> bool:\n",
    "    s = ''.join(c.lower() for c in s if c.isalnum())\n",
    "    return s == s[::-1]\n",
    "print(is_palindrome(\"A man, a plan, a canal: Panama\"))  # True\n",
    "print(is_palindrome(\"race a car\"))  # False"
   ]
  },
  {
   "cell_type": "code",
   "execution_count": null,
   "id": "7b09efd5",
   "metadata": {},
   "outputs": [
    {
     "name": "stdout",
     "output_type": "stream",
     "text": [
      "1\n",
      "2\n",
      "Fizz\n",
      "4\n",
      "Buzz\n",
      "Fizz\n",
      "7\n",
      "8\n",
      "Fizz\n",
      "Buzz\n",
      "11\n",
      "Fizz\n",
      "13\n",
      "14\n",
      "FizzBuzz\n",
      "16\n",
      "17\n",
      "Fizz\n",
      "19\n",
      "Buzz\n",
      "Fizz\n",
      "22\n",
      "23\n",
      "Fizz\n",
      "Buzz\n",
      "26\n",
      "Fizz\n",
      "28\n",
      "29\n",
      "FizzBuzz\n",
      "31\n",
      "32\n",
      "Fizz\n",
      "34\n",
      "Buzz\n",
      "Fizz\n",
      "37\n",
      "38\n",
      "Fizz\n",
      "Buzz\n",
      "41\n",
      "Fizz\n",
      "43\n",
      "44\n",
      "FizzBuzz\n",
      "46\n",
      "47\n",
      "Fizz\n",
      "49\n",
      "Buzz\n",
      "Fizz\n",
      "52\n",
      "53\n",
      "Fizz\n",
      "Buzz\n",
      "56\n",
      "Fizz\n",
      "58\n",
      "59\n",
      "FizzBuzz\n",
      "61\n",
      "62\n",
      "Fizz\n",
      "64\n",
      "Buzz\n",
      "Fizz\n",
      "67\n",
      "68\n",
      "Fizz\n",
      "Buzz\n",
      "71\n",
      "Fizz\n",
      "73\n",
      "74\n",
      "FizzBuzz\n",
      "76\n",
      "77\n",
      "Fizz\n",
      "79\n",
      "Buzz\n",
      "Fizz\n",
      "82\n",
      "83\n",
      "Fizz\n",
      "Buzz\n",
      "86\n",
      "Fizz\n",
      "88\n",
      "89\n",
      "FizzBuzz\n",
      "91\n",
      "92\n",
      "Fizz\n",
      "94\n",
      "Buzz\n",
      "Fizz\n",
      "97\n",
      "98\n",
      "Fizz\n",
      "Buzz\n"
     ]
    }
   ],
   "source": [
    "#Write a program that prints numbers from 1 to 100. For multiples of 3, print \"Fizz\" instead of the number; for multiples of 5, print \"Buzz\"; for multiples of both, print \"FizzBuzz\".\n",
    "\n",
    "def fizzbuzz():\n",
    "    for i in range(1, 101):\n",
    "        if i % 3 == 0 and i % 5 == 0:\n",
    "            print(\"FizzBuzz\")\n",
    "        elif i % 3 == 0:\n",
    "            print(\"Fizz\")\n",
    "        elif i % 5 == 0:\n",
    "            print(\"Buzz\")\n",
    "        else:\n",
    "            print(i)\n",
    "fizzbuzz()"
   ]
  },
  {
   "cell_type": "code",
   "execution_count": null,
   "id": "12feb36f",
   "metadata": {},
   "outputs": [
    {
     "name": "stdout",
     "output_type": "stream",
     "text": [
      "10\n",
      "15\n"
     ]
    }
   ],
   "source": [
    "#Write a function that converts a binary number (given as an integer) to its decimal equivalent.\n",
    "\n",
    "def binary_to_decimal(binary: int) -> int:\n",
    "    decimal, i = 0, 0\n",
    "    while binary != 0:\n",
    "        digit = binary % 10\n",
    "        decimal += digit * (2 ** i)\n",
    "        binary //= 10\n",
    "        i += 1\n",
    "    return decimal\n",
    "print(binary_to_decimal(1010))  # 10\n",
    "print(binary_to_decimal(1111))  # 15"
   ]
  },
  {
   "cell_type": "code",
   "execution_count": null,
   "id": "18dae848",
   "metadata": {},
   "outputs": [
    {
     "name": "stdout",
     "output_type": "stream",
     "text": [
      "2\n",
      "-1\n"
     ]
    }
   ],
   "source": [
    "#Implement a binary search algorithm to find the index of a target element in a sorted list. Return -1 if not found.\n",
    "\n",
    "def binary_search(arr: list, target: int) -> int:\n",
    "    left, right = 0, len(arr) - 1\n",
    "    while left <= right:\n",
    "        mid = (left + right) // 2\n",
    "        if arr[mid] == target:\n",
    "            return mid\n",
    "        elif arr[mid] < target:\n",
    "            left = mid + 1\n",
    "        else:\n",
    "            right = mid - 1\n",
    "    return -1\n",
    "print(binary_search([1, 3, 5, 7, 9], 5))  # 2\n",
    "print(binary_search([1, 3, 5, 7, 9], 6))  # -1"
   ]
  },
  {
   "cell_type": "code",
   "execution_count": null,
   "id": "33098924",
   "metadata": {},
   "outputs": [
    {
     "name": "stdout",
     "output_type": "stream",
     "text": [
      "[0, 1]\n",
      "[1, 2]\n"
     ]
    }
   ],
   "source": [
    "#Given an array of integers and a target sum, find two numbers that add up to the target and return their indices.\n",
    "\n",
    "def two_sum(nums: list, target: int) -> list:\n",
    "    seen = {}\n",
    "    for i, num in enumerate(nums):\n",
    "        complement = target - num\n",
    "        if complement in seen:\n",
    "            return [seen[complement], i]\n",
    "        seen[num] = i\n",
    "    return []\n",
    "print(two_sum([2, 7, 11, 15], 9))  # [0, 1]\n",
    "print(two_sum([3, 2, 4], 6))  # [1, 2]"
   ]
  },
  {
   "cell_type": "code",
   "execution_count": 49,
   "id": "019b9b9c",
   "metadata": {},
   "outputs": [
    {
     "name": "stdout",
     "output_type": "stream",
     "text": [
      "13.2\n"
     ]
    }
   ],
   "source": [
    "#Find the contiguous sub array within a one-dimensional numeric array that has the largest sum.\n",
    "\n",
    "def max_subarray_sum(nums: list) -> int:\n",
    "    max_sum = current_sum = nums[0]\n",
    "    for num in nums[1:]:\n",
    "        current_sum = max(num, current_sum + num)\n",
    "        max_sum = max(max_sum, current_sum)\n",
    "    return max_sum\n",
    "#print(max_subarray_sum([-2, 1, -3, 4, -1, 2, 1, -5, 4]))  # 6\n",
    "print(max_subarray_sum([1.0,2.0,3.5,6.7]))  # 1\n",
    "#print(max_subarray_sum([5, 4, -1, 7, 8]))  # 23\n",
    "#print(max_subarray_sum([-1, -2, -3, -4]))  # -1 (the largest single element)\n",
    "#print(max_subarray_sum([1, 2, 3, 4, 5]))  # 15 (the entire array)"
   ]
  },
  {
   "cell_type": "code",
   "execution_count": 41,
   "id": "ed0e22cb",
   "metadata": {},
   "outputs": [
    {
     "name": "stdout",
     "output_type": "stream",
     "text": [
      "11\n"
     ]
    }
   ],
   "source": [
    "# Function to find the maximum subarray sum\n",
    "def maxSubarraySum(arr):\n",
    "    \n",
    "    # Stores the result (maximum sum found so far)\n",
    "    res = arr[0]\n",
    "    \n",
    "    # Maximum sum of subarray ending at current position\n",
    "    maxEnding = arr[0]\n",
    "\n",
    "    for i in range(1, len(arr)):\n",
    "        \n",
    "        # Either extend the previous subarray or start \n",
    "        # new from current element\n",
    "        maxEnding = max(maxEnding + arr[i], arr[i])\n",
    "        \n",
    "        # Update result if the new subarray sum is larger\n",
    "        res = max(res, maxEnding)\n",
    "    \n",
    "    return res\n",
    "\n",
    "if __name__ == \"__main__\":\n",
    "    arr = [2, 3, -8, 7, -1, 2, 3]\n",
    "    print(maxSubarraySum(arr))"
   ]
  },
  {
   "cell_type": "code",
   "execution_count": 40,
   "id": "2bc8f9d2",
   "metadata": {},
   "outputs": [
    {
     "name": "stdout",
     "output_type": "stream",
     "text": [
      "11\n"
     ]
    }
   ],
   "source": [
    "def maxSubarraySum(arr):\n",
    "    res = arr[0]\n",
    "  \n",
    "    # Outer loop for starting point of subarray\n",
    "    for i in range(len(arr)):\n",
    "        currSum = 0\n",
    "      \n",
    "        # Inner loop for ending point of subarray\n",
    "        for j in range(i, len(arr)):\n",
    "            currSum = currSum + arr[j]\n",
    "          \n",
    "            # Update res if currSum is greater than res\n",
    "            res = max(res, currSum)\n",
    "          \n",
    "    return res\n",
    "\n",
    "if __name__ == \"__main__\":\n",
    "    arr = [2, 3, -8, 7, -1, 2, 3]\n",
    "    print(maxSubarraySum(arr))"
   ]
  },
  {
   "cell_type": "code",
   "execution_count": 34,
   "id": "cc737990",
   "metadata": {},
   "outputs": [
    {
     "name": "stdout",
     "output_type": "stream",
     "text": [
      "[[1, 6], [8, 10], [15, 18]]\n"
     ]
    }
   ],
   "source": [
    "#Given a collection of intervals (e.g., [[1,3], [2,6], [8,10]]), merge overlapping intervals and return the result.\n",
    "\n",
    "def merge_intervals(intervals: list) -> list:\n",
    "    if not intervals:\n",
    "        return []\n",
    "    intervals.sort(key=lambda x: x[0])\n",
    "    merged = [intervals[0]]\n",
    "    for current in intervals[1:]:\n",
    "        if current[0] <= merged[-1][1]:\n",
    "            merged[-1][1] = max(merged[-1][1], current[1])\n",
    "        else:\n",
    "            merged.append(current)\n",
    "    return merged\n",
    "print(merge_intervals([[1,3], [2,6], [8,10], [15,18]]))  # [[1,6], [8,10], [15,18]]"
   ]
  },
  {
   "cell_type": "code",
   "execution_count": 35,
   "id": "458ca37c",
   "metadata": {},
   "outputs": [
    {
     "name": "stdout",
     "output_type": "stream",
     "text": [
      "['A', 'B', 'D', 'E', 'F', 'C']\n"
     ]
    }
   ],
   "source": [
    "#Implement DFS to traverse a graph (represented as an adjacency list) and return the order of visited nodes.\n",
    "\n",
    "def dfs(graph: dict, start: str) -> list:\n",
    "    visited = []\n",
    "    def dfs_recursive(node: str):\n",
    "        if node not in visited:\n",
    "            visited.append(node)\n",
    "            for neighbor in graph[node]:\n",
    "                dfs_recursive(neighbor)\n",
    "    dfs_recursive(start)\n",
    "    return visited\n",
    "graph = {'A': ['B', 'C'], 'B': ['A', 'D', 'E'], 'C': ['A', 'F'], 'D': ['B'], 'E': ['B', 'F'], 'F': ['C', 'E']}\n",
    "print(dfs(graph, 'A'))  # ['A', 'B', 'D', 'E', 'F', 'C']"
   ]
  },
  {
   "cell_type": "code",
   "execution_count": 36,
   "id": "9e6e1876",
   "metadata": {},
   "outputs": [
    {
     "name": "stdout",
     "output_type": "stream",
     "text": [
      "[[1, 3, 0, 2], [2, 0, 3, 1]]\n"
     ]
    }
   ],
   "source": [
    "#Place N queens on an N×N chessboard such that no two queens threaten each other (no two queens share the same row, column, or diagonal).\n",
    "\n",
    "\n",
    "\n",
    "def solve_n_queens(n: int) -> list:\n",
    "    def is_safe(board, row, col):\n",
    "        for i in range(row):\n",
    "            if board[i] == col or board[i] - i == col - row or board[i] + i == col + row:\n",
    "                return False\n",
    "        return True\n",
    "    def solve(board, row):\n",
    "        if row == n:\n",
    "            result.append(board[:])\n",
    "            return\n",
    "        for col in range(n):\n",
    "            if is_safe(board, row, col):\n",
    "                board[row] = col\n",
    "                solve(board, row + 1)\n",
    "    result = []\n",
    "    solve([0] * n, 0)\n",
    "    return result\n",
    "print(solve_n_queens(4))  # [[2, 0, 3, 1], [1, 3, 0, 2]]"
   ]
  },
  {
   "cell_type": "code",
   "execution_count": 37,
   "id": "7fbff832",
   "metadata": {},
   "outputs": [
    {
     "name": "stdout",
     "output_type": "stream",
     "text": [
      "[5, 3, 4, 6, 7, 8, 9, 1, 2]\n",
      "[6, 7, 2, 1, 9, 5, 3, 4, 8]\n",
      "[1, 9, 8, 3, 4, 2, 5, 6, 7]\n",
      "[8, 5, 9, 7, 6, 1, 4, 2, 3]\n",
      "[4, 2, 6, 8, 5, 3, 7, 9, 1]\n",
      "[7, 1, 3, 9, 2, 4, 8, 5, 6]\n",
      "[9, 6, 1, 5, 3, 7, 2, 8, 4]\n",
      "[2, 8, 7, 4, 1, 9, 6, 3, 5]\n",
      "[3, 4, 5, 2, 8, 6, 1, 7, 9]\n"
     ]
    }
   ],
   "source": [
    "#Write a function to solve a 9×9 Sudoku puzzle, represented as a 2D list where empty cells are 0, by filling in all cells according to Sudoku rules.\n",
    "\n",
    "\n",
    "def solve_sudoku(board: list) -> bool:\n",
    "    def is_valid(board, row, col, num):\n",
    "        for x in range(9):\n",
    "            if board[row][x] == num or board[x][col] == num:\n",
    "                return False\n",
    "        start_row, start_col = 3 * (row // 3), 3 * (col // 3)\n",
    "        for i in range(start_row, start_row + 3):\n",
    "            for j in range(start_col, start_col + 3):\n",
    "                if board[i][j] == num:\n",
    "                    return False\n",
    "        return True\n",
    "    for i in range(9):\n",
    "        for j in range(9):\n",
    "            if board[i][j] == 0:\n",
    "                for num in range(1, 10):\n",
    "                    if is_valid(board, i, j, num):\n",
    "                        board[i][j] = num\n",
    "                        if solve_sudoku(board):\n",
    "                            return True\n",
    "                        board[i][j] = 0\n",
    "                return False\n",
    "    return True\n",
    "board = [\n",
    "    [5,3,0,0,7,0,0,0,0],\n",
    "    [6,0,0,1,9,5,0,0,0],\n",
    "    [0,9,8,0,0,0,0,6,0],\n",
    "    [8,0,0,0,6,0,0,0,3],\n",
    "    [4,0,0,8,0,3,0,0,1],\n",
    "    [7,0,0,0,2,0,0,0,6],\n",
    "    [0,6,0,0,0,0,2,8,0],\n",
    "    [0,0,0,4,1,9,0,0,5],\n",
    "    [0,0,0,0,8,0,0,7,9]\n",
    "]\n",
    "solve_sudoku(board)\n",
    "for row in board:\n",
    "    print(row)"
   ]
  },
  {
   "cell_type": "code",
   "execution_count": 65,
   "id": "5da4da13",
   "metadata": {},
   "outputs": [
    {
     "name": "stdout",
     "output_type": "stream",
     "text": [
      "(2+0j) <class 'complex'>\n",
      "8 <class 'int'>\n",
      "11.4 <class 'float'>\n",
      "12.6 <class 'float'>\n",
      "(5.5+0j) <class 'complex'>\n",
      "0.4430379746835443 <class 'float'>\n",
      "0.0 <class 'float'>\n"
     ]
    }
   ],
   "source": [
    "import cmath\n",
    "x = cmath.sqrt(4)  # Output: 1j (complex)\n",
    "print(x, type(x))  # Output: (2+0j) <class 'complex'>\n",
    "\n",
    "a, b = 5, 3\n",
    "print(a + b, type(a + b))  # Output: 8 <class 'int'>\n",
    "\n",
    "\n",
    "a, b = 3.5, 7.9\n",
    "print(a+b, type(a+b))  # Output: 11.4 <class 'float'>)\n",
    "\n",
    "a, b = 3.5, 7.9\n",
    "y = 3.6\n",
    "print(a * y, type(a * y))  # Output: 27.65 <class 'float'>\n",
    "\n",
    "print(a + x, type(a + x))\n",
    "\n",
    "print(a / b, type(a / b))  # Output: 0.4430379746835443 <class 'float'>\n",
    "\n",
    "print(a // b, type(a // b))  # Output: 0.0 <class 'float'>\n"
   ]
  },
  {
   "cell_type": "code",
   "execution_count": null,
   "id": "2414c5a6",
   "metadata": {},
   "outputs": [
    {
     "name": "stdout",
     "output_type": "stream",
     "text": [
      "21.799999999999997\n"
     ]
    }
   ],
   "source": [
    "def max_subarray_sum(nums: list) -> float:\n",
    "\n",
    "\n",
    "    x = cmath.sqrt(4)\n",
    "    y = cmath.sqrt(9)\n",
    "    print(x, y, type(x), type(y))  # Output: (2+0j) (3+0j) <class 'complex'> <class 'complex'>\n",
    "    max_sum = current_sum = nums[0]\n",
    "    for num in nums[1:]:\n",
    "        current_sum = max(num, current_sum + num)\n",
    "        max_sum = max(max_sum, current_sum)\n",
    "    return max_sum\n",
    "\n",
    "print(max_subarray_sum([3.5,9.6,8.7]))  # 6"
   ]
  }
 ],
 "metadata": {
  "kernelspec": {
   "display_name": "Python 3",
   "language": "python",
   "name": "python3"
  },
  "language_info": {
   "codemirror_mode": {
    "name": "ipython",
    "version": 3
   },
   "file_extension": ".py",
   "mimetype": "text/x-python",
   "name": "python",
   "nbconvert_exporter": "python",
   "pygments_lexer": "ipython3",
   "version": "3.12.4"
  }
 },
 "nbformat": 4,
 "nbformat_minor": 5
}
