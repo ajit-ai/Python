{
 "cells": [
  {
   "cell_type": "code",
   "execution_count": 3,
   "id": "f8e35d69",
   "metadata": {},
   "outputs": [
    {
     "name": "stdout",
     "output_type": "stream",
     "text": [
      "True\n"
     ]
    }
   ],
   "source": [
    "### 1. Singleton Pattern\n",
    "#Ensures a class has only one instance and provides a global point of access to it.\n",
    "\n",
    "class Singleton:\n",
    "    _instance = None\n",
    "\n",
    "    def __new__(cls):\n",
    "        if cls._instance is None:\n",
    "            cls._instance = super(Singleton, cls).__new__(cls)\n",
    "        return cls._instance\n",
    "\n",
    "# Usage\n",
    "s1 = Singleton()\n",
    "s2 = Singleton()\n",
    "print(s1 is s2)  # True"
   ]
  },
  {
   "cell_type": "code",
   "execution_count": 2,
   "id": "ea9d4df8",
   "metadata": {},
   "outputs": [
    {
     "name": "stdout",
     "output_type": "stream",
     "text": [
      "Woof!\n"
     ]
    }
   ],
   "source": [
    "### 2. Factory Pattern\n",
    "#Defines an interface for creating an object, but lets subclasses alter the type of objects that will be created.\n",
    "\n",
    "\n",
    "class Dog:\n",
    "    def speak(self):\n",
    "        return \"Woof!\"\n",
    "\n",
    "class Cat:\n",
    "    def speak(self):\n",
    "        return \"Meow!\"\n",
    "\n",
    "class AnimalFactory:\n",
    "    @staticmethod\n",
    "    def create_animal(animal_type):\n",
    "        if animal_type == \"dog\":\n",
    "            return Dog()\n",
    "        elif animal_type == \"cat\":\n",
    "            return Cat()\n",
    "\n",
    "# Usage\n",
    "animal = AnimalFactory.create_animal(\"dog\")\n",
    "print(animal.speak())  # Woof!\n",
    "\n"
   ]
  }
 ],
 "metadata": {
  "kernelspec": {
   "display_name": "anaconda-toolbox",
   "language": "python",
   "name": "python3"
  },
  "language_info": {
   "codemirror_mode": {
    "name": "ipython",
    "version": 3
   },
   "file_extension": ".py",
   "mimetype": "text/x-python",
   "name": "python",
   "nbconvert_exporter": "python",
   "pygments_lexer": "ipython3",
   "version": "3.12.8"
  }
 },
 "nbformat": 4,
 "nbformat_minor": 5
}
