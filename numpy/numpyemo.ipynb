{
 "cells": [
  {
   "cell_type": "code",
   "execution_count": null,
   "metadata": {},
   "outputs": [
    {
     "name": "stdout",
     "output_type": "stream",
     "text": [
      "[1 2 3 4]\n"
     ]
    }
   ],
   "source": [
    "import numpy as np\n",
    "import pandas as pd\n",
    "\n",
    "list1 = [1,2,3,4]\n",
    "list2 = [1,2,3,4,5,6,7,8,9,10]\n",
    "\n",
    "array1 = np.array(list1)\n",
    "print(array1)\n",
    "\n"
   ]
  },
  {
   "cell_type": "code",
   "execution_count": 4,
   "metadata": {},
   "outputs": [
    {
     "name": "stdout",
     "output_type": "stream",
     "text": [
      "[[1 2 3]\n",
      " [4 5 6]]\n"
     ]
    }
   ],
   "source": [
    "list2 = [[1,2,3],[4,5,6]]\n",
    "array2 = np.array(list2)\n",
    "print(array2)"
   ]
  },
  {
   "cell_type": "code",
   "execution_count": 5,
   "metadata": {},
   "outputs": [
    {
     "name": "stdout",
     "output_type": "stream",
     "text": [
      "[1, 2, 3, 4, 5, 6, 7, 8, 9, 10]\n",
      "8\n"
     ]
    }
   ],
   "source": [
    "list3 = [1,2,3,4,5,6,7,8,9,10] \n",
    "print(list3)\n",
    "\n",
    "array3 = np.add(3,5)\n",
    "\n",
    "print(array3)"
   ]
  },
  {
   "cell_type": "code",
   "execution_count": 6,
   "metadata": {},
   "outputs": [
    {
     "name": "stdout",
     "output_type": "stream",
     "text": [
      "Initial Velocity: [100 200 300]\n",
      "New Velocity: [101.  200.5 300.2]\n",
      "Speed (m/s): 374.86169449544985\n",
      "Rotated Velocity: [-200.5  101.   300.2]\n"
     ]
    }
   ],
   "source": [
    "import numpy as np\n",
    "\n",
    "# Sample rocket velocity and acceleration vectors (m/s, m/s^2)\n",
    "velocity = np.array([100, 200, 300])  # x, y, z components\n",
    "acceleration = np.array([10, 5, 2])   # x, y, z components\n",
    "time_step = 0.1  # seconds\n",
    "\n",
    "# Calculate new velocity after time step: v_new = v + a * t\n",
    "new_velocity = velocity + acceleration * time_step\n",
    "\n",
    "# Compute magnitude of new velocity (speed)\n",
    "speed = np.linalg.norm(new_velocity)\n",
    "\n",
    "print(\"Initial Velocity:\", velocity)\n",
    "print(\"New Velocity:\", new_velocity)\n",
    "print(\"Speed (m/s):\", speed)\n",
    "\n",
    "# Matrix operation: rotation matrix to adjust trajectory (90-degree rotation around z-axis)\n",
    "rotation_matrix = np.array([[0, -1, 0],\n",
    "                           [1, 0, 0],\n",
    "                           [0, 0, 1]])\n",
    "rotated_velocity = np.dot(rotation_matrix, new_velocity)\n",
    "\n",
    "print(\"Rotated Velocity:\", rotated_velocity)"
   ]
  },
  {
   "cell_type": "code",
   "execution_count": 7,
   "metadata": {},
   "outputs": [
    {
     "name": "stdout",
     "output_type": "stream",
     "text": [
      "[1 2 3 4 5]\n"
     ]
    }
   ],
   "source": [
    "import numpy as np\n",
    "\n",
    "# Create a Python list\n",
    "my_list = [1, 2, 3, 4, 5]\n",
    "\n",
    "# Convert the Python list to a NumPy ndarray\n",
    "my_array = np.array(my_list)\n",
    "\n",
    "# Print the NumPy array\n",
    "print(my_array)"
   ]
  },
  {
   "cell_type": "code",
   "execution_count": 9,
   "metadata": {},
   "outputs": [
    {
     "name": "stdout",
     "output_type": "stream",
     "text": [
      "[[0. 0. 0. 0.]\n",
      " [0. 0. 0. 0.]\n",
      " [0. 0. 0. 0.]]\n"
     ]
    }
   ],
   "source": [
    "import numpy as np\n",
    "\n",
    "# Define the shape of the array\n",
    "shape = (3, 4)  # Example: 3 rows, 4 columns\n",
    "\n",
    "# Define the data type\n",
    "dtype = np.float64  # Example: 64-bit floating point\n",
    "\n",
    "# Initialize the array with zeros and set the data type\n",
    "array = np.zeros(shape, dtype=dtype)\n",
    "\n",
    "# You can also initialize with ones, random values, etc. as needed\n",
    "# For example:\n",
    "# array = np.ones(shape, dtype=dtype)\n",
    "# array = np.random.rand(*shape)  # Initialize with random values between 0 and 1\n",
    "\n",
    "print(array)"
   ]
  },
  {
   "cell_type": "code",
   "execution_count": 10,
   "metadata": {},
   "outputs": [
    {
     "name": "stdout",
     "output_type": "stream",
     "text": [
      "[1 2 3 4 5 6]\n",
      "[1. 2. 3. 4. 5. 6.]\n"
     ]
    }
   ],
   "source": [
    "a = np.array([1, 2, 3, 4, 5, 6])\n",
    "print(a)\n",
    "\n",
    "a = np.array([1, 2, 3, 4, 5, 6], dtype=np.float64)\n",
    "print(a)\n",
    "\n"
   ]
  },
  {
   "cell_type": "code",
   "execution_count": 11,
   "metadata": {},
   "outputs": [
    {
     "name": "stdout",
     "output_type": "stream",
     "text": [
      "[array([1, 2, 3, 4, 5, 6]) array([7, 8, 9])]\n"
     ]
    }
   ],
   "source": [
    "a = np.empty(2, dtype=object)\n",
    "a[0] = np.array([1, 2, 3, 4, 5, 6])\n",
    "a[1] = np.array([7, 8, 9])\n",
    "print(a)"
   ]
  },
  {
   "cell_type": "code",
   "execution_count": 12,
   "metadata": {},
   "outputs": [
    {
     "name": "stdout",
     "output_type": "stream",
     "text": [
      "[0 0 0 0 0 0 0 0 0 0]\n"
     ]
    }
   ],
   "source": [
    "import numpy as np\n",
    "\n",
    "# Define the length of the array\n",
    "length = 10\n",
    "\n",
    "# Create the array filled with zeros\n",
    "array = np.zeros(length, dtype=np.int32)\n",
    "\n",
    "print(array)"
   ]
  },
  {
   "cell_type": "code",
   "execution_count": 13,
   "metadata": {},
   "outputs": [
    {
     "name": "stdout",
     "output_type": "stream",
     "text": [
      "[[1. 1. 1. 1. 1.]\n",
      " [1. 1. 1. 1. 1.]\n",
      " [1. 1. 1. 1. 1.]]\n"
     ]
    }
   ],
   "source": [
    "import numpy as np\n",
    "\n",
    "# Define the shape of the array\n",
    "shape = (3, 5)\n",
    "\n",
    "# Create the array filled with ones\n",
    "array = np.ones(shape, dtype=np.float64)\n",
    "\n",
    "print(array)"
   ]
  },
  {
   "cell_type": "code",
   "execution_count": 14,
   "metadata": {},
   "outputs": [
    {
     "name": "stdout",
     "output_type": "stream",
     "text": [
      "[ 0  4  8 12 16 20 24 28 32 36 40 44 48 52]\n"
     ]
    }
   ],
   "source": [
    "import numpy as np\n",
    "\n",
    "# Create the array with the specified sequence\n",
    "array = np.arange(0, 56, 4)\n",
    "\n",
    "print(array)"
   ]
  },
  {
   "cell_type": "code",
   "execution_count": 15,
   "metadata": {},
   "outputs": [
    {
     "name": "stdout",
     "output_type": "stream",
     "text": [
      "[0.   0.25 0.5  0.75 1.  ]\n"
     ]
    }
   ],
   "source": [
    "import numpy as np\n",
    "\n",
    "# Create the array with five values evenly spaced between 0 and 1\n",
    "array = np.linspace(0, 1, 5)\n",
    "\n",
    "print(array)"
   ]
  },
  {
   "cell_type": "code",
   "execution_count": 16,
   "metadata": {},
   "outputs": [
    {
     "name": "stdout",
     "output_type": "stream",
     "text": [
      "[[0.53033038 0.71519493 0.93372484]\n",
      " [0.85805977 0.43139092 0.10448539]\n",
      " [0.5751927  0.18442394 0.31160029]]\n"
     ]
    }
   ],
   "source": [
    "import numpy as np\n",
    "\n",
    "# Define the shape of the array\n",
    "shape = (3, 3)\n",
    "\n",
    "# Define the range for the uniform distribution\n",
    "low = 0  # Lower bound\n",
    "high = 1  # Upper bound\n",
    "\n",
    "# Create the array with uniformly distributed random numbers\n",
    "array = np.random.uniform(low, high, shape)\n",
    "\n",
    "print(array)"
   ]
  },
  {
   "cell_type": "code",
   "execution_count": 17,
   "metadata": {},
   "outputs": [
    {
     "name": "stdout",
     "output_type": "stream",
     "text": [
      "[[ 0.56076565  0.55252021  0.24458798]\n",
      " [ 0.74199522  0.3505317  -0.66943545]\n",
      " [-0.71984147 -0.89418449 -0.32698031]]\n"
     ]
    }
   ],
   "source": [
    "import numpy as np\n",
    "\n",
    "# Define the shape of the array\n",
    "shape = (3, 3)\n",
    "\n",
    "# Define the mean and standard deviation\n",
    "mean = 0\n",
    "std_dev = 1\n",
    "\n",
    "# Create the array with normally distributed random numbers\n",
    "array = np.random.normal(mean, std_dev, shape)\n",
    "\n",
    "print(array)\n"
   ]
  },
  {
   "cell_type": "code",
   "execution_count": 18,
   "metadata": {},
   "outputs": [
    {
     "name": "stdout",
     "output_type": "stream",
     "text": [
      "[[3 4 9]\n",
      " [2 9 6]\n",
      " [4 6 6]]\n"
     ]
    }
   ],
   "source": [
    "import numpy as np\n",
    "\n",
    "# Define the shape of the array\n",
    "shape = (3, 3)\n",
    "\n",
    "# Define the interval [0, 10)\n",
    "low = 0\n",
    "high = 10\n",
    "\n",
    "# Create the array with pseudorandom integers\n",
    "array = np.random.randint(low, high, shape)\n",
    "\n",
    "print(array)"
   ]
  },
  {
   "cell_type": "code",
   "execution_count": 19,
   "metadata": {},
   "outputs": [
    {
     "name": "stdout",
     "output_type": "stream",
     "text": [
      "[[1. 0. 0.]\n",
      " [0. 1. 0.]\n",
      " [0. 0. 1.]]\n"
     ]
    }
   ],
   "source": [
    "import numpy as np\n",
    "\n",
    "# Create the 3x3 identity matrix\n",
    "identity_matrix = np.eye(3)\n",
    "\n",
    "print(identity_matrix)"
   ]
  },
  {
   "cell_type": "code",
   "execution_count": 20,
   "metadata": {},
   "outputs": [
    {
     "name": "stdout",
     "output_type": "stream",
     "text": [
      "[632976416       570         0]\n"
     ]
    }
   ],
   "source": [
    "import numpy as np\n",
    "\n",
    "# Create an uninitialized array of three integers\n",
    "array = np.empty(3, dtype=int)\n",
    "\n",
    "print(array)"
   ]
  },
  {
   "cell_type": "code",
   "execution_count": 21,
   "metadata": {},
   "outputs": [
    {
     "name": "stdout",
     "output_type": "stream",
     "text": [
      "Array of integers (dtype=np.int32):\n",
      "[1 2 3 4 5]\n",
      "\n",
      "Array of floating-point numbers (dtype=np.float64):\n",
      "[1.1 2.2 3.3 4.4 5.5]\n",
      "\n",
      "Array of complex numbers (dtype=np.complex128):\n",
      "[1.+2.j 3.+4.j 5.+6.j]\n"
     ]
    }
   ],
   "source": [
    "import numpy as np\n",
    "\n",
    "# Create an ndarray of integers with specified data type\n",
    "array_int = np.array([1, 2, 3, 4, 5], dtype=np.int32)\n",
    "\n",
    "# Create an ndarray of floating-point numbers with specified data type\n",
    "array_float = np.array([1.1, 2.2, 3.3, 4.4, 5.5], dtype=np.float64)\n",
    "\n",
    "# Create an ndarray of complex numbers with specified data type\n",
    "array_complex = np.array([1 + 2j, 3 + 4j, 5 + 6j], dtype=np.complex128)\n",
    "\n",
    "print(\"Array of integers (dtype=np.int32):\")\n",
    "print(array_int)\n",
    "print(\"\\nArray of floating-point numbers (dtype=np.float64):\")\n",
    "print(array_float)\n",
    "print(\"\\nArray of complex numbers (dtype=np.complex128):\")\n",
    "print(array_complex)"
   ]
  },
  {
   "cell_type": "code",
   "execution_count": 22,
   "metadata": {},
   "outputs": [
    {
     "name": "stdout",
     "output_type": "stream",
     "text": [
      "Number of dimensions: 2\n"
     ]
    }
   ],
   "source": [
    "import numpy as np\n",
    "\n",
    "# Create a NumPy ndarray\n",
    "array = np.array([[1, 2, 3], [4, 5, 6]])\n",
    "\n",
    "# Get the number of dimensions of the array\n",
    "num_dimensions = array.ndim\n",
    "\n",
    "print(\"Number of dimensions:\", num_dimensions)"
   ]
  },
  {
   "cell_type": "code",
   "execution_count": 23,
   "metadata": {},
   "outputs": [
    {
     "name": "stdout",
     "output_type": "stream",
     "text": [
      "Size of each dimension: (2, 3)\n"
     ]
    }
   ],
   "source": [
    "import numpy as np\n",
    "\n",
    "# Create a NumPy ndarray\n",
    "array = np.array([[1, 2, 3], [4, 5, 6]])\n",
    "\n",
    "# Get the shape of the array\n",
    "shape = array.shape\n",
    "\n",
    "# Get the size of each dimension\n",
    "size_of_dimensions = shape[0], shape[1]  # Assuming a 2-dimensional array\n",
    "\n",
    "print(\"Size of each dimension:\", size_of_dimensions)"
   ]
  },
  {
   "cell_type": "code",
   "execution_count": 24,
   "metadata": {},
   "outputs": [
    {
     "name": "stdout",
     "output_type": "stream",
     "text": [
      "Total size of the array: 6\n"
     ]
    }
   ],
   "source": [
    "import numpy as np\n",
    "\n",
    "# Create a NumPy ndarray\n",
    "array = np.array([[1, 2, 3], [4, 5, 6]])\n",
    "\n",
    "# Get the total size of the array\n",
    "total_size = array.size\n",
    "\n",
    "print(\"Total size of the array:\", total_size)"
   ]
  },
  {
   "cell_type": "code",
   "execution_count": 25,
   "metadata": {},
   "outputs": [
    {
     "name": "stdout",
     "output_type": "stream",
     "text": [
      "Data type of each element: int32\n"
     ]
    }
   ],
   "source": [
    "import numpy as np\n",
    "\n",
    "# Create a NumPy ndarray\n",
    "array = np.array([[1, 2, 3], [4, 5, 6]])\n",
    "\n",
    "# Get the data type of the elements in the array\n",
    "element_type = array.dtype\n",
    "\n",
    "print(\"Data type of each element:\", element_type)"
   ]
  },
  {
   "cell_type": "code",
   "execution_count": 26,
   "metadata": {},
   "outputs": [
    {
     "name": "stdout",
     "output_type": "stream",
     "text": [
      "Element at index 0: 1\n",
      "Element at index 2: 3\n",
      "Last element: 5\n"
     ]
    }
   ],
   "source": [
    "import numpy as np\n",
    "\n",
    "# Create a single-dimensional NumPy ndarray\n",
    "array = np.array([1, 2, 3, 4, 5])\n",
    "\n",
    "# Access single elements using indexing\n",
    "element_at_index_0 = array[0]\n",
    "element_at_index_2 = array[2]\n",
    "last_element = array[-1]  # Negative index counts from the end\n",
    "\n",
    "print(\"Element at index 0:\", element_at_index_0)\n",
    "print(\"Element at index 2:\", element_at_index_2)\n",
    "print(\"Last element:\", last_element)"
   ]
  },
  {
   "cell_type": "code",
   "execution_count": 27,
   "metadata": {},
   "outputs": [
    {
     "name": "stdout",
     "output_type": "stream",
     "text": [
      "Element at row 1, column 2: 6\n"
     ]
    }
   ],
   "source": [
    "import numpy as np\n",
    "\n",
    "# Create a multidimensional NumPy ndarray\n",
    "array = np.array([[1, 2, 3],\n",
    "                  [4, 5, 6],\n",
    "                  [7, 8, 9]])\n",
    "\n",
    "# Access a single element using comma-separated indices\n",
    "element = array[1, 2]  # Accesses the element at row 1, column 2\n",
    "\n",
    "print(\"Element at row 1, column 2:\", element)"
   ]
  },
  {
   "cell_type": "code",
   "execution_count": 28,
   "metadata": {},
   "outputs": [
    {
     "name": "stdout",
     "output_type": "stream",
     "text": [
      "Modified array:\n",
      "[[ 1  2  3]\n",
      " [ 4  5 10]\n",
      " [ 7  8  9]]\n"
     ]
    }
   ],
   "source": [
    "import numpy as np\n",
    "\n",
    "# Create a multidimensional NumPy ndarray\n",
    "array = np.array([[1, 2, 3],\n",
    "                  [4, 5, 6],\n",
    "                  [7, 8, 9]])\n",
    "\n",
    "# Access and modify a single element using comma-separated indices\n",
    "array[1, 2] = 10  # Modifying the element at row 1, column 2 to 10\n",
    "\n",
    "print(\"Modified array:\")\n",
    "print(array)"
   ]
  },
  {
   "cell_type": "code",
   "execution_count": 29,
   "metadata": {},
   "outputs": [
    {
     "name": "stdout",
     "output_type": "stream",
     "text": [
      "Subarray:\n",
      "[[2 3]\n",
      " [5 6]]\n"
     ]
    }
   ],
   "source": [
    "import numpy as np\n",
    "\n",
    "# Create a 2-dimensional NumPy ndarray\n",
    "array = np.array([[1, 2, 3],\n",
    "                  [4, 5, 6],\n",
    "                  [7, 8, 9]])\n",
    "\n",
    "# Access a subarray (slice) using slice notation\n",
    "subarray = array[0:2, 1:3]  # Rows 0 to 1, Columns 1 to 2\n",
    "\n",
    "print(\"Subarray:\")\n",
    "print(subarray)"
   ]
  },
  {
   "cell_type": "code",
   "execution_count": 30,
   "metadata": {},
   "outputs": [
    {
     "name": "stdout",
     "output_type": "stream",
     "text": [
      "Subarray of the first three elements:\n",
      "[4 5]\n"
     ]
    }
   ],
   "source": [
    "import numpy as np\n",
    "\n",
    "# Create a one-dimensional NumPy ndarray\n",
    "array = np.array([1, 2, 3, 4, 5])\n",
    "\n",
    "# Get the subarray of the first three elements using slicing\n",
    "subarray = array[3:]\n",
    "\n",
    "print(\"Subarray of the first three elements:\")\n",
    "print(subarray)"
   ]
  },
  {
   "cell_type": "code",
   "execution_count": 31,
   "metadata": {},
   "outputs": [
    {
     "name": "stdout",
     "output_type": "stream",
     "text": [
      "5780426\n"
     ]
    }
   ],
   "source": [
    "# Enter your code here. Read input from STDIN. Print output to STDOUT\n",
    "\n",
    "\n",
    "a = int(input())\n",
    "b = int(input())\n",
    "c = int(input())\n",
    "d = int(input())\n",
    "\n",
    "result = (a ** b) + (c ** d)\n",
    "print(result)"
   ]
  },
  {
   "cell_type": "code",
   "execution_count": 32,
   "metadata": {},
   "outputs": [
    {
     "name": "stdout",
     "output_type": "stream",
     "text": [
      "1\n",
      "22\n",
      "333\n",
      "4444\n",
      "55555\n"
     ]
    }
   ],
   "source": [
    "for i in range(1,int(input())): #More than 2 lines will result in 0 score. Do not leave a blank line also\n",
    "    print((10**i // 9) * i)\n",
    "       "
   ]
  },
  {
   "cell_type": "code",
   "execution_count": null,
   "metadata": {},
   "outputs": [],
   "source": [
    "import xml.etree.ElementTree as ET\n",
    "\n",
    "n = int(input())\n",
    "xml_lines = [input() for _ in range(n\n",
    "                                    )]\n",
    "xml_string = \"\\n\".join(xml_lines)\n",
    "\n",
    "root = ET.fromstring(xml_string)\n",
    "\n",
    "def max_depth(elem, depth=0):\n",
    "    if len(elem) == 0:\n",
    "        return depth\n",
    "    return max(max_depth(child, depth + 1) for child in elem)\n",
    "\n",
    "print(max_depth(root))"
   ]
  },
  {
   "cell_type": "code",
   "execution_count": 34,
   "metadata": {},
   "outputs": [
    {
     "ename": "ParseError",
     "evalue": "syntax error: line 1, column 0 (<string>)",
     "output_type": "error",
     "traceback": [
      "Traceback \u001b[1;36m(most recent call last)\u001b[0m:\n",
      "\u001b[0m  File \u001b[0;32m~\\AppData\\Roaming\\Python\\Python312\\site-packages\\IPython\\core\\interactiveshell.py:3577\u001b[0m in \u001b[0;35mrun_code\u001b[0m\n    exec(code_obj, self.user_global_ns, self.user_ns)\u001b[0m\n",
      "\u001b[0m  Cell \u001b[0;32mIn[34], line 19\u001b[0m\n    tree = etree.ElementTree(etree.fromstring(xml))\u001b[0m\n",
      "\u001b[1;36m  File \u001b[1;32mc:\\Users\\ajitj\\AppData\\Local\\Programs\\Python\\Python312\\Lib\\xml\\etree\\ElementTree.py:1335\u001b[1;36m in \u001b[1;35mXML\u001b[1;36m\n\u001b[1;33m    parser.feed(text)\u001b[1;36m\n",
      "\u001b[1;36m  File \u001b[1;32m<string>\u001b[1;36m\u001b[0m\n\u001b[1;31mParseError\u001b[0m\u001b[1;31m:\u001b[0m syntax error: line 1, column 0\n"
     ]
    }
   ],
   "source": [
    "import xml.etree.ElementTree as etree\n",
    "\n",
    "maxdepth = 0\n",
    "def depth(elem, level):\n",
    "    global maxdepth\n",
    "    # your code goes here\n",
    "    \n",
    "    maxdepth = max(maxdepth, level + 1)\n",
    "    \n",
    "    for child in elem:\n",
    "        depth(child, level + 1)\n",
    "  \n",
    "\n",
    "if __name__ == '__main__':\n",
    "    n = int(input())\n",
    "    xml = \"\"\n",
    "    for i in range(n):\n",
    "        xml =  xml + input() + \"\\n\"\n",
    "    tree = etree.ElementTree(etree.fromstring(xml))\n",
    "    depth(tree.getroot(), -1)\n",
    "    print(maxdepth)"
   ]
  }
 ],
 "metadata": {
  "kernelspec": {
   "display_name": "Python 3",
   "language": "python",
   "name": "python3"
  },
  "language_info": {
   "codemirror_mode": {
    "name": "ipython",
    "version": 3
   },
   "file_extension": ".py",
   "mimetype": "text/x-python",
   "name": "python",
   "nbconvert_exporter": "python",
   "pygments_lexer": "ipython3",
   "version": "3.12.4"
  }
 },
 "nbformat": 4,
 "nbformat_minor": 2
}
