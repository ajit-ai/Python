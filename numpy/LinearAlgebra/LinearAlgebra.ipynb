{
  "cells": [
    {
      "cell_type": "markdown",
      "metadata": {
        "id": "view-in-github",
        "colab_type": "text"
      },
      "source": [
        "<a href=\"https://colab.research.google.com/github/ajit-ai/Python/blob/main/numpy/LinearAlgebra/LinearAlgebra.ipynb\" target=\"_parent\"><img src=\"https://colab.research.google.com/assets/colab-badge.svg\" alt=\"Open In Colab\"/></a>"
      ]
    },
    {
      "cell_type": "code",
      "execution_count": 2,
      "id": "71ca2dd0",
      "metadata": {
        "id": "71ca2dd0",
        "outputId": "3e76ab26-5e94-4ab4-c12f-c7f3d3d7ce91",
        "colab": {
          "base_uri": "https://localhost:8080/"
        }
      },
      "outputs": [
        {
          "output_type": "stream",
          "name": "stdout",
          "text": [
            "Horizontal Vector\n",
            "[1 2 3]\n",
            "----------------\n",
            "Vertical Vector\n",
            "[[10]\n",
            " [20]\n",
            " [30]]\n"
          ]
        }
      ],
      "source": [
        "# importing numpy\n",
        "import numpy as np\n",
        "\n",
        "# creating a 1-D list (Horizontal)\n",
        "list1 = [1, 2, 3]\n",
        "\n",
        "# creating a 1-D list (Vertical)\n",
        "list2 = [[10],\n",
        "        [20],\n",
        "        [30]]\n",
        "\n",
        "# creating a vector1\n",
        "# vector as row\n",
        "vector1 = np.array(list1)\n",
        "\n",
        "# creating a vector 2\n",
        "# vector as column\n",
        "vector2 = np.array(list2)\n",
        "\n",
        "\n",
        "# showing horizontal vector\n",
        "print(\"Horizontal Vector\")\n",
        "print(vector1)\n",
        "\n",
        "print(\"----------------\")\n",
        "\n",
        "# showing vertical vector\n",
        "print(\"Vertical Vector\")\n",
        "print(vector2)"
      ]
    },
    {
      "cell_type": "code",
      "execution_count": null,
      "id": "df429709",
      "metadata": {
        "id": "df429709",
        "outputId": "5de8e444-1126-4335-a83e-013f80274346"
      },
      "outputs": [
        {
          "name": "stdout",
          "output_type": "stream",
          "text": [
            "First Vector          : [5 6 9]\n",
            "Second Vector         : [1 2 3]\n",
            "Vector Addition       : [ 6  8 12]\n",
            "Vector Subtraction   : [4 4 6]\n",
            "Vector Multiplication : [ 5 12 27]\n",
            "Vector Division       : [5. 3. 3.]\n"
          ]
        }
      ],
      "source": [
        "# importing numpy\n",
        "import numpy as np\n",
        "\n",
        "# creating a 1-D list (Horizontal)\n",
        "list1 = [5, 6, 9]\n",
        "\n",
        "# creating a 1-D list (Horizontal)\n",
        "list2 = [1, 2, 3]\n",
        "\n",
        "# creating first vector\n",
        "vector1 = np.array(list1)\n",
        "\n",
        "# printing vector1\n",
        "print(\"First Vector          : \" + str(vector1))\n",
        "\n",
        "# creating second vector\n",
        "vector2 = np.array(list2)\n",
        "\n",
        "# printing vector2\n",
        "print(\"Second Vector         : \" + str(vector2))\n",
        "\n",
        "# adding both the vector\n",
        "# a + b = (a1 + b1, a2 + b2, a3 + b3)\n",
        "addition = vector1 + vector2\n",
        "\n",
        "# printing addition vector\n",
        "print(\"Vector Addition       : \" + str(addition))\n",
        "\n",
        "# subtracting both the vector\n",
        "# a - b = (a1 - b1, a2 - b2, a3 - b3)\n",
        "subtraction = vector1 - vector2\n",
        "\n",
        "# printing addition vector\n",
        "print(\"Vector Subtraction   : \" + str(subtraction))\n",
        "\n",
        "# multiplying  both the vector\n",
        "# a * b = (a1 * b1, a2 * b2, a3 * b3)\n",
        "multiplication = vector1 * vector2\n",
        "\n",
        "# printing multiplication vector\n",
        "print(\"Vector Multiplication : \" + str(multiplication))\n",
        "\n",
        "# dividing  both the vector\n",
        "# a / b = (a1 / b1, a2 / b2, a3 / b3)\n",
        "division = vector1 / vector2\n",
        "\n",
        "# printing division vector\n",
        "print(\"Vector Division       : \" + str(division))"
      ]
    },
    {
      "cell_type": "code",
      "execution_count": null,
      "id": "d53eaec0",
      "metadata": {
        "id": "d53eaec0",
        "outputId": "367e2743-02e5-4e32-851f-8f63395382c8"
      },
      "outputs": [
        {
          "name": "stdout",
          "output_type": "stream",
          "text": [
            "First Vector  : [5 6 9]\n",
            "Second Vector : [1 2 3]\n",
            "Dot Product   : 44\n"
          ]
        }
      ],
      "source": [
        "# importing numpy\n",
        "import numpy as np\n",
        "\n",
        "# creating a 1-D list (Horizontal)\n",
        "list1 = [5, 6, 9]\n",
        "\n",
        "# creating a 1-D list (Horizontal)\n",
        "list2 = [1, 2, 3]\n",
        "\n",
        "# creating first vector\n",
        "vector1 = np.array(list1)\n",
        "\n",
        "# printing vector1\n",
        "print(\"First Vector  : \" + str(vector1))\n",
        "\n",
        "# creating second vector\n",
        "vector2 = np.array(list2)\n",
        "\n",
        "# printing vector2\n",
        "print(\"Second Vector : \" + str(vector2))\n",
        "\n",
        "# getting dot product of both the vectors\n",
        "# a . b = (a1 * b1 + a2 * b2 + a3 * b3)\n",
        "# a . b = (a1b1 + a2b2 + a3b3)\n",
        "dot_product = vector1.dot(vector2)\n",
        "\n",
        "# printing dot product\n",
        "print(\"Dot Product   : \" + str(dot_product))"
      ]
    },
    {
      "cell_type": "code",
      "execution_count": null,
      "id": "a4953783",
      "metadata": {
        "id": "a4953783",
        "outputId": "2951c1a6-9b8d-4a8e-bf0f-6395a54b27c3"
      },
      "outputs": [
        {
          "name": "stdout",
          "output_type": "stream",
          "text": [
            "Vector  : [1 2 3]\n",
            "Scalar  : 2\n",
            "Scalar Multiplication : [2 4 6]\n"
          ]
        }
      ],
      "source": [
        "# importing numpy\n",
        "import numpy as np\n",
        "\n",
        "# creating a 1-D list (Horizontal)\n",
        "list1 = [1, 2, 3]\n",
        "\n",
        "# creating first vector\n",
        "vector = np.array(list1)\n",
        "\n",
        "# printing vector1\n",
        "print(\"Vector  : \" + str(vector))\n",
        "\n",
        "# scalar value\n",
        "scalar = 2\n",
        "\n",
        "# printing scalar value\n",
        "print(\"Scalar  : \" + str(scalar))\n",
        "\n",
        "# getting scalar multiplication value\n",
        "# s * v = (s * v1, s * v2, s * v3)\n",
        "scalar_mul = vector * scalar\n",
        "\n",
        "# printing dot product\n",
        "print(\"Scalar Multiplication : \" + str(scalar_mul))"
      ]
    },
    {
      "cell_type": "code",
      "source": [
        "# importing numpy\n",
        "import numpy as np\n",
        "\n",
        "my_first_matrix = np.matrix([[3, 1, 4], [1, 5, 9], [2, 6, 5]])\n",
        "my_first_matrix\n",
        "\n",
        "\n"
      ],
      "metadata": {
        "id": "MAEZeF4_e7fZ",
        "outputId": "b4f8f903-68fc-4474-a774-a2ff32d9ea9d",
        "colab": {
          "base_uri": "https://localhost:8080/"
        }
      },
      "id": "MAEZeF4_e7fZ",
      "execution_count": 8,
      "outputs": [
        {
          "output_type": "execute_result",
          "data": {
            "text/plain": [
              "matrix([[3, 1, 4],\n",
              "        [1, 5, 9],\n",
              "        [2, 6, 5]])"
            ]
          },
          "metadata": {},
          "execution_count": 8
        }
      ]
    },
    {
      "cell_type": "code",
      "source": [
        "my_first_matrix.T"
      ],
      "metadata": {
        "id": "b_Rneu85fVTi",
        "outputId": "8ef2a875-b006-4b00-c9ae-c3159d828490",
        "colab": {
          "base_uri": "https://localhost:8080/"
        }
      },
      "id": "b_Rneu85fVTi",
      "execution_count": 7,
      "outputs": [
        {
          "output_type": "execute_result",
          "data": {
            "text/plain": [
              "matrix([[3, 1, 2],\n",
              "        [1, 5, 6],\n",
              "        [4, 9, 5]])"
            ]
          },
          "metadata": {},
          "execution_count": 7
        }
      ]
    },
    {
      "cell_type": "code",
      "source": [
        "my_first_matrix.I"
      ],
      "metadata": {
        "id": "kLW-i8G5fk8p",
        "outputId": "4d7da073-498b-4451-8a7e-f506bf978a1e",
        "colab": {
          "base_uri": "https://localhost:8080/"
        }
      },
      "id": "kLW-i8G5fk8p",
      "execution_count": 9,
      "outputs": [
        {
          "output_type": "execute_result",
          "data": {
            "text/plain": [
              "matrix([[ 0.32222222, -0.21111111,  0.12222222],\n",
              "        [-0.14444444, -0.07777778,  0.25555556],\n",
              "        [ 0.04444444,  0.17777778, -0.15555556]])"
            ]
          },
          "metadata": {},
          "execution_count": 9
        }
      ]
    },
    {
      "cell_type": "code",
      "source": [
        "my_first_matrix * my_first_matrix.I"
      ],
      "metadata": {
        "id": "Rsog3SL_fwvp",
        "outputId": "3f25fc4e-5872-40af-fb9a-a4197470039f",
        "colab": {
          "base_uri": "https://localhost:8080/"
        }
      },
      "id": "Rsog3SL_fwvp",
      "execution_count": 10,
      "outputs": [
        {
          "output_type": "execute_result",
          "data": {
            "text/plain": [
              "matrix([[ 1.00000000e+00,  1.11022302e-16,  0.00000000e+00],\n",
              "        [ 4.85722573e-17,  1.00000000e+00, -1.11022302e-16],\n",
              "        [ 2.08166817e-17,  8.32667268e-17,  1.00000000e+00]])"
            ]
          },
          "metadata": {},
          "execution_count": 10
        }
      ]
    },
    {
      "cell_type": "code",
      "source": [
        "np.eye(5)"
      ],
      "metadata": {
        "id": "miIrda1cf14h",
        "outputId": "4d3dabb7-71d5-466a-b999-80a51b201c3e",
        "colab": {
          "base_uri": "https://localhost:8080/"
        }
      },
      "id": "miIrda1cf14h",
      "execution_count": 11,
      "outputs": [
        {
          "output_type": "execute_result",
          "data": {
            "text/plain": [
              "array([[1., 0., 0., 0., 0.],\n",
              "       [0., 1., 0., 0., 0.],\n",
              "       [0., 0., 1., 0., 0.],\n",
              "       [0., 0., 0., 1., 0.],\n",
              "       [0., 0., 0., 0., 1.]])"
            ]
          },
          "metadata": {},
          "execution_count": 11
        }
      ]
    },
    {
      "cell_type": "code",
      "source": [
        "right_hand_side = np.matrix([[11],\n",
        "                             [22],\n",
        "                             [33]])"
      ],
      "metadata": {
        "id": "5zkA3Fhof-zJ"
      },
      "id": "5zkA3Fhof-zJ",
      "execution_count": 12,
      "outputs": []
    },
    {
      "cell_type": "code",
      "source": [
        "my_first_inverse = my_first_matrix.I"
      ],
      "metadata": {
        "id": "SdYU4UQNgCu4"
      },
      "id": "SdYU4UQNgCu4",
      "execution_count": 13,
      "outputs": []
    },
    {
      "cell_type": "code",
      "source": [
        "solution = my_first_inverse * right_hand_side\n",
        "solution"
      ],
      "metadata": {
        "id": "URLxmK4KgHwI",
        "outputId": "e7a17db7-63ee-4a98-fa6a-db88c7d3cbf9",
        "colab": {
          "base_uri": "https://localhost:8080/"
        }
      },
      "id": "URLxmK4KgHwI",
      "execution_count": 15,
      "outputs": [
        {
          "output_type": "execute_result",
          "data": {
            "text/plain": [
              "matrix([[ 2.93333333],\n",
              "        [ 5.13333333],\n",
              "        [-0.73333333]])"
            ]
          },
          "metadata": {},
          "execution_count": 15
        }
      ]
    },
    {
      "cell_type": "code",
      "source": [
        "my_first_matrix * solution - right_hand_side"
      ],
      "metadata": {
        "id": "dynROxWrgQ-B",
        "outputId": "9387dd9a-8c08-45ad-ed3e-1267f13133c0",
        "colab": {
          "base_uri": "https://localhost:8080/"
        }
      },
      "id": "dynROxWrgQ-B",
      "execution_count": 16,
      "outputs": [
        {
          "output_type": "execute_result",
          "data": {
            "text/plain": [
              "matrix([[1.77635684e-15],\n",
              "        [0.00000000e+00],\n",
              "        [0.00000000e+00]])"
            ]
          },
          "metadata": {},
          "execution_count": 16
        }
      ]
    },
    {
      "cell_type": "code",
      "source": [
        "# more efficient for large matrices\n",
        "from numpy.linalg import solve\n",
        "solve(my_first_matrix, right_hand_side)"
      ],
      "metadata": {
        "id": "jBqZSlt_gWY5",
        "outputId": "54e73d7f-bf1b-4ff9-979d-104607426e15",
        "colab": {
          "base_uri": "https://localhost:8080/"
        }
      },
      "id": "jBqZSlt_gWY5",
      "execution_count": 17,
      "outputs": [
        {
          "output_type": "execute_result",
          "data": {
            "text/plain": [
              "matrix([[ 2.93333333],\n",
              "        [ 5.13333333],\n",
              "        [-0.73333333]])"
            ]
          },
          "metadata": {},
          "execution_count": 17
        }
      ]
    },
    {
      "cell_type": "code",
      "source": [
        "# Compute the eigenvalues and right eigenvectors\n",
        "from numpy.linalg import eig\n",
        "eig(my_first_matrix)"
      ],
      "metadata": {
        "id": "fzsSJ9v3ganA",
        "outputId": "db9efc61-a1a2-48c2-b640-2072110017f1",
        "colab": {
          "base_uri": "https://localhost:8080/"
        }
      },
      "id": "fzsSJ9v3ganA",
      "execution_count": 18,
      "outputs": [
        {
          "output_type": "execute_result",
          "data": {
            "text/plain": [
              "EigResult(eigenvalues=array([13.08576474,  2.58000566, -2.66577041]), eigenvectors=matrix([[-0.31542644, -0.95117074, -0.32372474],\n",
              "        [-0.72306109,  0.30781323, -0.70222933],\n",
              "        [-0.61456393,  0.02291827,  0.63409484]]))"
            ]
          },
          "metadata": {},
          "execution_count": 18
        }
      ]
    }
  ],
  "metadata": {
    "kernelspec": {
      "display_name": "Python 3",
      "language": "python",
      "name": "python3"
    },
    "language_info": {
      "codemirror_mode": {
        "name": "ipython",
        "version": 3
      },
      "file_extension": ".py",
      "mimetype": "text/x-python",
      "name": "python",
      "nbconvert_exporter": "python",
      "pygments_lexer": "ipython3",
      "version": "3.12.4"
    },
    "colab": {
      "provenance": [],
      "include_colab_link": true
    }
  },
  "nbformat": 4,
  "nbformat_minor": 5
}