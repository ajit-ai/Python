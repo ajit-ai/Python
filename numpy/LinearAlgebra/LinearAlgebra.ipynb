{
 "cells": [
  {
   "cell_type": "code",
   "execution_count": 1,
   "id": "71ca2dd0",
   "metadata": {},
   "outputs": [
    {
     "name": "stdout",
     "output_type": "stream",
     "text": [
      "Horizontal Vector\n",
      "[1 2 3]\n",
      "----------------\n",
      "Vertical Vector\n",
      "[[10]\n",
      " [20]\n",
      " [30]]\n"
     ]
    }
   ],
   "source": [
    "# importing numpy\n",
    "import numpy as np\n",
    "\n",
    "# creating a 1-D list (Horizontal)\n",
    "list1 = [1, 2, 3]\n",
    "\n",
    "# creating a 1-D list (Vertical)\n",
    "list2 = [[10],\n",
    "        [20],\n",
    "        [30]]\n",
    "\n",
    "# creating a vector1\n",
    "# vector as row\n",
    "vector1 = np.array(list1)\n",
    "\n",
    "# creating a vector 2\n",
    "# vector as column\n",
    "vector2 = np.array(list2)\n",
    "\n",
    "\n",
    "# showing horizontal vector\n",
    "print(\"Horizontal Vector\")\n",
    "print(vector1)\n",
    "\n",
    "print(\"----------------\")\n",
    "\n",
    "# showing vertical vector\n",
    "print(\"Vertical Vector\")\n",
    "print(vector2)"
   ]
  },
  {
   "cell_type": "code",
   "execution_count": 2,
   "id": "df429709",
   "metadata": {},
   "outputs": [
    {
     "name": "stdout",
     "output_type": "stream",
     "text": [
      "First Vector          : [5 6 9]\n",
      "Second Vector         : [1 2 3]\n",
      "Vector Addition       : [ 6  8 12]\n",
      "Vector Subtraction   : [4 4 6]\n",
      "Vector Multiplication : [ 5 12 27]\n",
      "Vector Division       : [5. 3. 3.]\n"
     ]
    }
   ],
   "source": [
    "# importing numpy\n",
    "import numpy as np\n",
    "\n",
    "# creating a 1-D list (Horizontal)\n",
    "list1 = [5, 6, 9]\n",
    "\n",
    "# creating a 1-D list (Horizontal)\n",
    "list2 = [1, 2, 3]\n",
    "\n",
    "# creating first vector\n",
    "vector1 = np.array(list1)\n",
    "\n",
    "# printing vector1\n",
    "print(\"First Vector          : \" + str(vector1))\n",
    "\n",
    "# creating second vector\n",
    "vector2 = np.array(list2)\n",
    "\n",
    "# printing vector2\n",
    "print(\"Second Vector         : \" + str(vector2))\n",
    "\n",
    "# adding both the vector\n",
    "# a + b = (a1 + b1, a2 + b2, a3 + b3)\n",
    "addition = vector1 + vector2\n",
    "\n",
    "# printing addition vector\n",
    "print(\"Vector Addition       : \" + str(addition))\n",
    "\n",
    "# subtracting both the vector\n",
    "# a - b = (a1 - b1, a2 - b2, a3 - b3)\n",
    "subtraction = vector1 - vector2\n",
    "\n",
    "# printing addition vector\n",
    "print(\"Vector Subtraction   : \" + str(subtraction))\n",
    "\n",
    "# multiplying  both the vector\n",
    "# a * b = (a1 * b1, a2 * b2, a3 * b3)\n",
    "multiplication = vector1 * vector2\n",
    "\n",
    "# printing multiplication vector\n",
    "print(\"Vector Multiplication : \" + str(multiplication))\n",
    "\n",
    "# dividing  both the vector\n",
    "# a / b = (a1 / b1, a2 / b2, a3 / b3)\n",
    "division = vector1 / vector2\n",
    "\n",
    "# printing division vector\n",
    "print(\"Vector Division       : \" + str(division))"
   ]
  },
  {
   "cell_type": "code",
   "execution_count": 3,
   "id": "d53eaec0",
   "metadata": {},
   "outputs": [
    {
     "name": "stdout",
     "output_type": "stream",
     "text": [
      "First Vector  : [5 6 9]\n",
      "Second Vector : [1 2 3]\n",
      "Dot Product   : 44\n"
     ]
    }
   ],
   "source": [
    "# importing numpy\n",
    "import numpy as np\n",
    "\n",
    "# creating a 1-D list (Horizontal)\n",
    "list1 = [5, 6, 9]\n",
    "\n",
    "# creating a 1-D list (Horizontal)\n",
    "list2 = [1, 2, 3]\n",
    "\n",
    "# creating first vector \n",
    "vector1 = np.array(list1)\n",
    "\n",
    "# printing vector1\n",
    "print(\"First Vector  : \" + str(vector1))\n",
    "\n",
    "# creating second vector\n",
    "vector2 = np.array(list2)\n",
    "\n",
    "# printing vector2\n",
    "print(\"Second Vector : \" + str(vector2))\n",
    "\n",
    "# getting dot product of both the vectors\n",
    "# a . b = (a1 * b1 + a2 * b2 + a3 * b3)\n",
    "# a . b = (a1b1 + a2b2 + a3b3)\n",
    "dot_product = vector1.dot(vector2)\n",
    "\n",
    "# printing dot product\n",
    "print(\"Dot Product   : \" + str(dot_product))"
   ]
  },
  {
   "cell_type": "code",
   "execution_count": 6,
   "id": "a4953783",
   "metadata": {},
   "outputs": [
    {
     "name": "stdout",
     "output_type": "stream",
     "text": [
      "Vector  : [1 2 3]\n",
      "Scalar  : 2\n",
      "Scalar Multiplication : [2 4 6]\n"
     ]
    }
   ],
   "source": [
    "# importing numpy\n",
    "import numpy as np\n",
    "\n",
    "# creating a 1-D list (Horizontal)\n",
    "list1 = [1, 2, 3]\n",
    "\n",
    "# creating first vector \n",
    "vector = np.array(list1)\n",
    "\n",
    "# printing vector1\n",
    "print(\"Vector  : \" + str(vector))\n",
    "\n",
    "# scalar value \n",
    "scalar = 2\n",
    "\n",
    "# printing scalar value\n",
    "print(\"Scalar  : \" + str(scalar))\n",
    " \n",
    "# getting scalar multiplication value\n",
    "# s * v = (s * v1, s * v2, s * v3)\n",
    "scalar_mul = vector * scalar\n",
    "\n",
    "# printing dot product\n",
    "print(\"Scalar Multiplication : \" + str(scalar_mul))"
   ]
  }
 ],
 "metadata": {
  "kernelspec": {
   "display_name": "Python 3",
   "language": "python",
   "name": "python3"
  },
  "language_info": {
   "codemirror_mode": {
    "name": "ipython",
    "version": 3
   },
   "file_extension": ".py",
   "mimetype": "text/x-python",
   "name": "python",
   "nbconvert_exporter": "python",
   "pygments_lexer": "ipython3",
   "version": "3.12.4"
  }
 },
 "nbformat": 4,
 "nbformat_minor": 5
}
