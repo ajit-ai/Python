{
 "cells": [
  {
   "cell_type": "code",
   "execution_count": 2,
   "metadata": {},
   "outputs": [
    {
     "name": "stdout",
     "output_type": "stream",
     "text": [
      "[1 2 3 4]\n"
     ]
    }
   ],
   "source": [
    "import numpy as np\n",
    "import pandas as pd\n",
    "\n",
    "list1 = [1,2,3,4]\n",
    "list2 = [1,2,3,4,5,6,7,8,9,10]\n",
    "\n",
    "array1 = np.array(list1)\n",
    "print(array1)\n",
    "\n"
   ]
  },
  {
   "cell_type": "code",
   "execution_count": 3,
   "metadata": {},
   "outputs": [
    {
     "name": "stdout",
     "output_type": "stream",
     "text": [
      "[[1 2 3]\n",
      " [4 5 6]]\n"
     ]
    }
   ],
   "source": [
    "list2 = [[1,2,3],[4,5,6]]\n",
    "array2 = np.array(list2)\n",
    "print(array2)"
   ]
  },
  {
   "cell_type": "code",
   "execution_count": 4,
   "metadata": {},
   "outputs": [
    {
     "name": "stdout",
     "output_type": "stream",
     "text": [
      "[1, 2, 3, 4, 5, 6, 7, 8, 9, 10]\n",
      "8\n"
     ]
    }
   ],
   "source": [
    "list3 = [1,2,3,4,5,6,7,8,9,10] \n",
    "print(list3)\n",
    "\n",
    "array3 = np.add(3,5)\n",
    "\n",
    "print(array3)"
   ]
  },
  {
   "cell_type": "code",
   "execution_count": 5,
   "metadata": {},
   "outputs": [
    {
     "name": "stdout",
     "output_type": "stream",
     "text": [
      "Initial Velocity: [100 200 300]\n",
      "New Velocity: [101.  200.5 300.2]\n",
      "Speed (m/s): 374.86169449544985\n",
      "Rotated Velocity: [-200.5  101.   300.2]\n"
     ]
    }
   ],
   "source": [
    "import numpy as np\n",
    "\n",
    "# Sample rocket velocity and acceleration vectors (m/s, m/s^2)\n",
    "velocity = np.array([100, 200, 300])  # x, y, z components\n",
    "acceleration = np.array([10, 5, 2])   # x, y, z components\n",
    "time_step = 0.1  # seconds\n",
    "\n",
    "# Calculate new velocity after time step: v_new = v + a * t\n",
    "new_velocity = velocity + acceleration * time_step\n",
    "\n",
    "# Compute magnitude of new velocity (speed)\n",
    "speed = np.linalg.norm(new_velocity)\n",
    "\n",
    "print(\"Initial Velocity:\", velocity)\n",
    "print(\"New Velocity:\", new_velocity)\n",
    "print(\"Speed (m/s):\", speed)\n",
    "\n",
    "# Matrix operation: rotation matrix to adjust trajectory (90-degree rotation around z-axis)\n",
    "rotation_matrix = np.array([[0, -1, 0],\n",
    "                           [1, 0, 0],\n",
    "                           [0, 0, 1]])\n",
    "rotated_velocity = np.dot(rotation_matrix, new_velocity)\n",
    "\n",
    "print(\"Rotated Velocity:\", rotated_velocity)"
   ]
  }
 ],
 "metadata": {
  "kernelspec": {
   "display_name": "Python 3",
   "language": "python",
   "name": "python3"
  },
  "language_info": {
   "codemirror_mode": {
    "name": "ipython",
    "version": 3
   },
   "file_extension": ".py",
   "mimetype": "text/x-python",
   "name": "python",
   "nbconvert_exporter": "python",
   "pygments_lexer": "ipython3",
   "version": "3.12.4"
  }
 },
 "nbformat": 4,
 "nbformat_minor": 2
}
