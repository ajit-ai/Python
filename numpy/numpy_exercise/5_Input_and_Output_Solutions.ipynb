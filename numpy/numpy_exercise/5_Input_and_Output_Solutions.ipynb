{
  "cells": [
    {
      "cell_type": "markdown",
      "metadata": {
        "id": "view-in-github",
        "colab_type": "text"
      },
      "source": [
        "<a href=\"https://colab.research.google.com/github/ajit-ai/Python/blob/main/numpy/numpy_exercise/5_Input_and_Output_Solutions.ipynb\" target=\"_parent\"><img src=\"https://colab.research.google.com/assets/colab-badge.svg\" alt=\"Open In Colab\"/></a>"
      ]
    },
    {
      "cell_type": "markdown",
      "metadata": {
        "id": "bZWoPHx77O2B"
      },
      "source": [
        "# Input and Output"
      ]
    },
    {
      "cell_type": "code",
      "execution_count": 15,
      "metadata": {
        "collapsed": true,
        "id": "ZSnW3gQm7O2D"
      },
      "outputs": [],
      "source": [
        "from __future__ import print_function\n",
        "import numpy as np"
      ]
    },
    {
      "cell_type": "code",
      "execution_count": 16,
      "metadata": {
        "collapsed": true,
        "id": "vqdwZX-N7O2E"
      },
      "outputs": [],
      "source": [
        "author = \"kyubyong. https://github.com/Kyubyong/numpy_exercises\""
      ]
    },
    {
      "cell_type": "code",
      "execution_count": 17,
      "metadata": {
        "colab": {
          "base_uri": "https://localhost:8080/",
          "height": 35
        },
        "id": "swV3mx8n7O2E",
        "outputId": "f7aa362c-ff36-41f0-b42d-4a9d1487ddae"
      },
      "outputs": [
        {
          "output_type": "execute_result",
          "data": {
            "text/plain": [
              "'2.0.2'"
            ],
            "application/vnd.google.colaboratory.intrinsic+json": {
              "type": "string"
            }
          },
          "metadata": {},
          "execution_count": 17
        }
      ],
      "source": [
        "np.__version__"
      ]
    },
    {
      "cell_type": "code",
      "execution_count": 18,
      "metadata": {
        "colab": {
          "base_uri": "https://localhost:8080/"
        },
        "id": "W148lp8v7O2F",
        "outputId": "e04af2a2-d36f-46ec-b911-395c4564adf8"
      },
      "outputs": [
        {
          "output_type": "stream",
          "name": "stdout",
          "text": [
            "2025-07-02\n"
          ]
        }
      ],
      "source": [
        "from datetime import date\n",
        "print(date.today())"
      ]
    },
    {
      "cell_type": "markdown",
      "metadata": {
        "id": "Wee_jqcR7O2G"
      },
      "source": [
        "## NumPy binary files (NPY, NPZ)"
      ]
    },
    {
      "cell_type": "markdown",
      "metadata": {
        "id": "Z6AI0pXU7O2H"
      },
      "source": [
        "Q1. Save x into `temp.npy` and load it."
      ]
    },
    {
      "cell_type": "code",
      "execution_count": 19,
      "metadata": {
        "colab": {
          "base_uri": "https://localhost:8080/"
        },
        "id": "u1GTM4dO7O2H",
        "outputId": "c0431c47-a7d5-4abe-e91c-5d5d9a7f3d19"
      },
      "outputs": [
        {
          "output_type": "stream",
          "name": "stdout",
          "text": [
            "True\n"
          ]
        }
      ],
      "source": [
        "x = np.arange(10)\n",
        "np.save('temp.npy', x) # Actually you can omit the extension. If so, it will be added automatically.\n",
        "\n",
        "# Check if there exists the 'temp.npy' file.\n",
        "import os\n",
        "if os.path.exists('temp.npy'):\n",
        "    x2 = np.load('temp.npy')\n",
        "    print(np.array_equal(x, x2))\n"
      ]
    },
    {
      "cell_type": "markdown",
      "metadata": {
        "id": "fZ-0oulQ7O2I"
      },
      "source": [
        "Q2. Save x and y into a single file 'temp.npz' and load it."
      ]
    },
    {
      "cell_type": "code",
      "execution_count": 20,
      "metadata": {
        "colab": {
          "base_uri": "https://localhost:8080/"
        },
        "id": "oIGPdDNw7O2I",
        "outputId": "507b35b0-ca8c-46e6-b432-4b94aacb9ba1"
      },
      "outputs": [
        {
          "output_type": "stream",
          "name": "stdout",
          "text": [
            "True\n",
            "True\n"
          ]
        }
      ],
      "source": [
        "x = np.arange(10)\n",
        "y = np.arange(11, 20)\n",
        "np.savez('temp.npz', x=x, y=y)\n",
        "# np.savez_compressed('temp.npz', x=x, y=y) # If you want to save x and y into a single file in compressed .npz format.\n",
        "with np.load('temp.npz') as data:\n",
        "    x2 = data['x']\n",
        "    y2 = data['y']\n",
        "    print(np.array_equal(x, x2))\n",
        "    print(np.array_equal(y, y2))\n"
      ]
    },
    {
      "cell_type": "markdown",
      "metadata": {
        "id": "BR2CE9i37O2J"
      },
      "source": [
        "## Text files"
      ]
    },
    {
      "cell_type": "markdown",
      "metadata": {
        "id": "U2i_qug-7O2J"
      },
      "source": [
        "Q3. Save x to 'temp.txt' in string format and load it."
      ]
    },
    {
      "cell_type": "code",
      "execution_count": 21,
      "metadata": {
        "colab": {
          "base_uri": "https://localhost:8080/"
        },
        "id": "GovK5SHI7O2K",
        "outputId": "6114c353-8d9b-4ad9-c384-1d7dab779dcb"
      },
      "outputs": [
        {
          "output_type": "execute_result",
          "data": {
            "text/plain": [
              "array([[0., 1., 2., 3., 4.],\n",
              "       [5., 6., 7., 8., 9.]])"
            ]
          },
          "metadata": {},
          "execution_count": 21
        }
      ],
      "source": [
        "x = np.arange(10).reshape(2, 5)\n",
        "header = 'num1 num2 num3 num4 num5'\n",
        "np.savetxt('temp.txt', x, fmt=\"%d\", header=header)\n",
        "np.loadtxt('temp.txt')"
      ]
    },
    {
      "cell_type": "markdown",
      "metadata": {
        "id": "1M6WWJHy7O2K"
      },
      "source": [
        "Q4. Save `x`, `y`, and `z` to 'temp.txt' in string format line by line, then load it."
      ]
    },
    {
      "cell_type": "code",
      "execution_count": 22,
      "metadata": {
        "colab": {
          "base_uri": "https://localhost:8080/"
        },
        "id": "oTvhyPQU7O2K",
        "outputId": "eb40dae9-a1fe-4aec-c1c1-eee6432a28b1"
      },
      "outputs": [
        {
          "output_type": "execute_result",
          "data": {
            "text/plain": [
              "array([[ 0.,  1.,  2.,  3.,  4.,  5.,  6.,  7.,  8.,  9.],\n",
              "       [11., 12., 13., 14., 15., 16., 17., 18., 19., 20.],\n",
              "       [22., 23., 24., 25., 26., 27., 28., 29., 30., 31.]])"
            ]
          },
          "metadata": {},
          "execution_count": 22
        }
      ],
      "source": [
        "x = np.arange(10)\n",
        "y = np.arange(11, 21)\n",
        "z = np.arange(22, 32)\n",
        "np.savetxt('temp.txt', (x, y, z), fmt='%d')\n",
        "np.loadtxt('temp.txt')"
      ]
    },
    {
      "cell_type": "markdown",
      "metadata": {
        "id": "6mo_zh0k7O2L"
      },
      "source": [
        "Q5. Convert `x` into bytes, and load it as array."
      ]
    },
    {
      "cell_type": "code",
      "execution_count": 23,
      "metadata": {
        "colab": {
          "base_uri": "https://localhost:8080/"
        },
        "id": "4PX20xod7O2L",
        "outputId": "8eff6999-b2f9-4d67-b934-7a5d2bbf4d60"
      },
      "outputs": [
        {
          "output_type": "stream",
          "name": "stdout",
          "text": [
            "True\n"
          ]
        },
        {
          "output_type": "stream",
          "name": "stderr",
          "text": [
            "/tmp/ipython-input-23-3335010068.py:2: DeprecationWarning: tostring() is deprecated. Use tobytes() instead.\n",
            "  x_bytes = x.tostring() # Don't be misled by the function name. What it really does is it returns bytes.\n",
            "/tmp/ipython-input-23-3335010068.py:3: DeprecationWarning: The binary mode of fromstring is deprecated, as it behaves surprisingly on unicode inputs. Use frombuffer instead\n",
            "  x2 = np.fromstring(x_bytes, dtype=x.dtype) # returns a 1-D array even if x is not.\n"
          ]
        }
      ],
      "source": [
        "x = np.array([1, 2, 3, 4])\n",
        "x_bytes = x.tostring() # Don't be misled by the function name. What it really does is it returns bytes.\n",
        "x2 = np.fromstring(x_bytes, dtype=x.dtype) # returns a 1-D array even if x is not.\n",
        "print(np.array_equal(x, x2))\n"
      ]
    },
    {
      "cell_type": "markdown",
      "metadata": {
        "id": "hXBgLtYP7O2L"
      },
      "source": [
        "Q6. Convert `a` into an ndarray and then convert it into a list again."
      ]
    },
    {
      "cell_type": "code",
      "execution_count": 24,
      "metadata": {
        "colab": {
          "base_uri": "https://localhost:8080/"
        },
        "id": "lSKSCAC07O2L",
        "outputId": "c74cacb3-1d75-4188-afb4-71ac7340d4f9"
      },
      "outputs": [
        {
          "output_type": "stream",
          "name": "stdout",
          "text": [
            "True\n"
          ]
        }
      ],
      "source": [
        "a = [[1, 2], [3, 4]]\n",
        "x = np.array(a)\n",
        "a2 = x.tolist()\n",
        "print(a == a2)"
      ]
    },
    {
      "cell_type": "markdown",
      "metadata": {
        "id": "Y2BtEP7y7O2M"
      },
      "source": [
        "## String formatting¶"
      ]
    },
    {
      "cell_type": "markdown",
      "metadata": {
        "id": "AVHbjOgS7O2M"
      },
      "source": [
        "Q7. Convert `x` to a string, and revert it."
      ]
    },
    {
      "cell_type": "code",
      "execution_count": 25,
      "metadata": {
        "colab": {
          "base_uri": "https://localhost:8080/"
        },
        "id": "xVXB1lme7O2M",
        "outputId": "f51afb16-b3af-4d07-b51f-f2462ad0d04c"
      },
      "outputs": [
        {
          "output_type": "stream",
          "name": "stdout",
          "text": [
            "[[0 1 2 3 4]\n",
            " [5 6 7 8 9]] \n",
            " <class 'str'>\n"
          ]
        }
      ],
      "source": [
        "x = np.arange(10).reshape(2,5)\n",
        "x_str = np.array_str(x)\n",
        "print(x_str, \"\\n\", type(x_str))\n",
        "x_str = x_str.replace(\"[\", \"\") # [] must be stripped\n",
        "x_str = x_str.replace(\"]\", \"\")\n",
        "x2 = np.fromstring(x_str, dtype=x.dtype, sep=\" \").reshape(x.shape)\n",
        "assert np.array_equal(x, x2)\n",
        "\n"
      ]
    },
    {
      "cell_type": "markdown",
      "metadata": {
        "id": "7mEhQG1y7O2M"
      },
      "source": [
        "## Text formatting options"
      ]
    },
    {
      "cell_type": "markdown",
      "metadata": {
        "id": "gtZ29rcv7O2M"
      },
      "source": [
        "Q8. Print `x` such that all elements are displayed with precision=1, no suppress."
      ]
    },
    {
      "cell_type": "code",
      "execution_count": 26,
      "metadata": {
        "colab": {
          "base_uri": "https://localhost:8080/"
        },
        "id": "Bn3tZe727O2N",
        "outputId": "db2bcf7e-0928-4e2c-af87-a68c12e249f4"
      },
      "outputs": [
        {
          "output_type": "stream",
          "name": "stdout",
          "text": [
            "[[0.9 0.9 0.3 0.3 0.9 0.7 0.  1.  0.5 0.8 0.7 0.2 0.4 0.  0.2 0.2 0.9 0.6\n",
            "  1.  0.8 0.3 0.3 0.1 0.9 0.1 0.4 0.3 0.6 0.4 0.2 0.9 0.1 0.6 0.4 0.4 0.8\n",
            "  0.7 0.6 0.7 0.9 0.2 0.  0.8 1.  0.3 0.4 0.2 0.9 0.2 0.5 0.2 1.  0.1 0.\n",
            "  0.5 0.9 0.2 0.1 0.4 0.6 0.  0.7 0.3 0.1 0.9 0.8 0.6 0.2 0.3 0.5 0.7 0.6\n",
            "  0.7 0.5 0.9 0.3 0.8 0.1 0.  0.2 0.6 0.6 0.1 0.5 0.3 0.2 0.6 0.9 0.3 0.2\n",
            "  0.  0.5 1.  0.1 0.  0.6 0.2 0.6 0.1 0.2]\n",
            " [0.7 0.  0.9 0.2 0.7 0.3 0.3 0.  0.2 0.5 0.1 0.5 0.7 0.8 0.8 0.2 0.2 0.3\n",
            "  0.6 0.2 1.  0.9 0.3 0.9 0.2 0.5 0.8 0.5 0.8 0.5 0.6 0.1 0.5 0.5 0.9 0.2\n",
            "  0.9 0.5 0.6 0.1 0.6 0.5 0.3 0.3 0.4 0.2 0.8 0.8 0.3 0.4 0.8 0.6 0.3 0.4\n",
            "  0.8 0.2 0.7 0.3 0.9 0.  0.9 1.  0.1 0.6 0.7 0.3 0.5 0.8 0.9 0.6 0.  0.5\n",
            "  1.  0.7 0.8 0.2 0.3 0.4 0.4 0.7 0.3 0.2 0.  0.3 0.4 0.8 0.9 1.  0.5 0.5\n",
            "  0.  0.  0.2 0.1 0.1 0.2 0.4 0.2 0.8 0.8]\n",
            " [0.6 0.8 0.9 0.3 0.7 0.1 0.5 0.  0.8 0.9 0.4 0.1 0.6 0.6 0.7 1.  0.6 0.4\n",
            "  0.4 0.1 0.9 0.5 0.9 0.2 0.8 0.3 0.9 0.7 0.6 0.9 0.1 0.8 0.3 0.1 0.2 0.9\n",
            "  0.1 0.8 0.6 0.9 0.5 0.3 0.5 0.3 0.5 0.7 0.6 0.3 0.9 0.1 0.4 0.6 0.7 0.9\n",
            "  1.  0.1 0.7 0.5 0.6 0.7 0.9 0.3 0.1 0.3 0.7 0.9 0.6 0.7 0.2 0.  0.6 0.4\n",
            "  0.7 0.1 0.2 0.8 0.8 0.8 0.3 0.9 0.3 0.7 0.7 0.6 0.8 0.1 0.9 0.4 0.7 0.4\n",
            "  0.8 0.6 0.  1.  0.2 0.9 0.9 0.7 0.4 0.3]\n",
            " [0.5 0.1 0.9 0.5 0.3 0.1 0.8 0.2 0.3 0.2 0.6 0.5 0.8 0.8 0.2 0.9 0.  0.3\n",
            "  0.1 0.1 0.7 0.1 0.3 0.6 0.9 0.4 0.8 1.  0.2 0.8 0.4 0.7 0.8 1.  0.6 0.5\n",
            "  0.5 0.9 0.8 0.2 0.6 0.9 0.7 0.2 0.7 0.4 0.3 0.4 0.6 0.3 0.9 1.  0.6 0.7\n",
            "  0.2 0.4 0.7 0.1 0.8 0.9 1.  0.4 0.6 0.4 0.5 0.2 0.  0.  0.8 0.8 0.2 0.3\n",
            "  0.3 0.7 0.5 0.1 0.6 1.  0.3 0.5 0.4 0.9 0.8 0.6 0.7 0.1 0.5 0.8 1.  1.\n",
            "  0.4 0.  0.6 0.2 0.3 0.1 0.9 0.5 0.2 0. ]\n",
            " [0.4 0.7 0.3 0.8 0.1 0.  0.7 0.9 0.4 0.2 0.4 0.3 1.  0.8 0.7 0.3 0.8 0.9\n",
            "  0.6 0.6 0.8 0.6 0.3 0.8 1.  0.7 0.3 0.7 0.8 0.9 0.9 0.7 1.  0.9 0.3 0.9\n",
            "  0.5 0.3 0.8 0.8 0.7 0.8 0.2 0.7 0.4 0.1 0.9 0.8 0.3 0.7 0.6 0.5 0.3 0.4\n",
            "  0.9 0.9 0.5 0.2 0.4 1.  0.6 0.3 0.4 0.4 0.7 0.9 0.  0.2 0.9 0.7 0.8 0.3\n",
            "  0.1 0.5 0.7 0.5 0.2 0.6 0.9 0.3 0.5 0.8 0.5 0.4 0.5 0.8 0.2 0.4 0.4 0.\n",
            "  0.3 0.4 0.2 0.  0.5 0.8 0.7 0.8 0.5 0.1]\n",
            " [0.9 0.7 0.8 0.4 1.  0.2 0.5 0.5 0.5 0.6 0.3 0.3 0.7 1.  0.7 0.2 0.3 0.4\n",
            "  0.  0.7 0.5 0.1 0.6 0.5 0.3 0.4 0.3 0.1 0.4 0.2 0.6 0.2 0.6 0.5 0.3 0.6\n",
            "  0.8 0.8 0.  0.7 0.7 0.6 0.5 0.5 0.5 0.4 0.  0.4 0.5 0.4 0.7 0.9 0.4 0.5\n",
            "  0.1 0.8 0.1 0.3 0.8 0.8 0.5 1.  0.7 0.6 0.3 0.2 0.2 0.2 0.9 0.6 0.2 0.9\n",
            "  0.9 0.2 0.9 0.5 0.3 1.  0.1 0.5 1.  0.2 0.3 0.9 0.8 0.1 0.7 0.9 0.5 0.5\n",
            "  0.6 0.6 0.  0.1 0.1 0.5 0.6 0.4 0.8 0. ]\n",
            " [0.1 0.5 0.  0.9 0.2 0.4 0.3 0.7 0.1 0.4 0.6 0.4 0.7 0.8 0.5 0.5 0.7 0.4\n",
            "  0.7 0.6 0.  0.8 0.7 0.7 1.  0.6 0.1 0.9 0.5 0.9 1.  0.7 0.2 0.8 0.3 1.\n",
            "  0.  0.2 0.5 0.4 0.5 0.4 0.7 0.6 0.2 0.7 0.2 0.2 0.8 0.2 0.  0.5 0.9 0.8\n",
            "  0.3 1.  0.1 0.3 0.5 0.5 0.4 0.9 0.3 0.8 0.3 0.6 0.  0.2 0.3 0.  0.9 0.4\n",
            "  0.  0.8 0.3 0.3 0.8 0.  0.5 0.7 0.2 0.8 0.5 0.7 0.5 0.6 0.7 0.8 0.8 0.3\n",
            "  0.4 0.7 0.1 0.6 0.3 0.4 0.3 0.3 0.2 0.9]\n",
            " [0.5 0.5 0.2 0.3 0.6 0.  0.6 0.2 0.4 0.3 0.  0.6 0.2 0.6 0.4 0.2 0.  0.4\n",
            "  0.9 0.2 0.7 0.7 0.2 0.9 0.7 1.  0.2 0.3 0.9 0.6 0.5 0.7 0.8 0.7 0.3 0.\n",
            "  0.3 0.3 0.7 0.4 0.  0.6 0.8 0.7 0.7 0.1 0.6 0.9 0.2 0.2 0.5 0.8 0.4 0.1\n",
            "  0.5 0.4 0.7 0.8 0.7 0.3 0.8 0.4 0.8 0.1 0.8 0.7 0.6 0.5 0.3 0.4 0.8 0.1\n",
            "  0.4 0.1 0.9 0.9 0.1 0.4 0.9 0.5 0.3 1.  0.5 0.9 0.6 0.7 0.6 0.7 0.8 0.2\n",
            "  0.6 0.  0.7 0.3 0.1 0.6 0.7 1.  1.  0.8]\n",
            " [0.2 1.  0.9 0.9 0.6 0.3 0.4 0.1 0.3 0.9 0.8 0.7 0.1 0.5 0.3 1.  0.1 0.3\n",
            "  0.4 0.1 0.4 0.6 0.3 0.5 0.  0.  0.8 1.  0.9 0.2 0.7 0.2 0.7 0.1 0.4 1.\n",
            "  0.9 0.5 0.9 0.7 0.5 0.3 0.8 0.1 0.4 0.9 0.2 0.5 0.1 0.9 1.  0.3 0.3 0.4\n",
            "  0.4 0.8 0.2 0.4 0.3 0.9 0.7 0.5 0.6 0.5 0.5 0.6 0.6 0.8 0.1 0.3 0.5 0.6\n",
            "  0.  0.6 0.6 1.  1.  0.6 0.1 0.3 0.3 0.1 0.3 0.4 0.9 0.3 0.4 0.5 0.9 0.9\n",
            "  1.  0.2 0.7 0.6 0.6 0.7 0.  0.3 0.9 0.4]\n",
            " [0.9 0.3 0.5 1.  0.8 0.3 0.3 0.2 0.9 0.4 0.3 0.8 0.5 0.1 0.5 0.6 1.  0.2\n",
            "  1.  0.5 0.5 0.5 0.2 0.  0.4 0.  0.1 0.3 0.9 0.7 0.1 0.2 1.  0.4 0.4 0.5\n",
            "  0.5 0.8 0.2 0.1 0.3 0.9 0.8 0.6 0.3 0.1 0.5 0.6 0.  0.  0.9 0.5 0.9 1.\n",
            "  0.8 0.2 0.8 1.  0.  0.2 0.1 0.9 0.2 0.4 0.5 0.  0.1 0.4 0.5 0.1 0.3 0.2\n",
            "  0.4 0.1 0.8 0.5 0.4 0.5 0.5 0.8 0.  0.1 0.3 1.  0.8 0.3 0.3 0.  0.5 0.6\n",
            "  0.7 0.1 0.7 0.8 0.6 0.4 0.7 0.5 0.2 0.2]]\n"
          ]
        }
      ],
      "source": [
        "import sys\n",
        "x = np.random.uniform(size=[10,100])\n",
        "np.set_printoptions(precision=1, threshold=sys.maxsize, suppress=True)\n",
        "print(x)"
      ]
    },
    {
      "cell_type": "markdown",
      "metadata": {
        "id": "U9VM2_157O2N"
      },
      "source": [
        "## Base-n representations"
      ]
    },
    {
      "cell_type": "markdown",
      "metadata": {
        "id": "rWwTnUhX7O2N"
      },
      "source": [
        "Q9. Convert 12 into a binary number in string format."
      ]
    },
    {
      "cell_type": "code",
      "execution_count": 27,
      "metadata": {
        "colab": {
          "base_uri": "https://localhost:8080/"
        },
        "id": "198zRSiw7O2N",
        "outputId": "ba08aa95-4d75-4db1-809f-0165cbc2adae"
      },
      "outputs": [
        {
          "output_type": "stream",
          "name": "stdout",
          "text": [
            "1100\n"
          ]
        }
      ],
      "source": [
        "out1 = np.binary_repr(12)\n",
        "out2 = np.base_repr(12, base=2)\n",
        "assert out1 == out2 # But out1 is better because it's much faster.\n",
        "print(out1)"
      ]
    },
    {
      "cell_type": "markdown",
      "metadata": {
        "id": "K5a-cjrO7O2N"
      },
      "source": [
        "Q10. Convert 12 into a hexadecimal number in string format."
      ]
    },
    {
      "cell_type": "code",
      "execution_count": 28,
      "metadata": {
        "colab": {
          "base_uri": "https://localhost:8080/",
          "height": 35
        },
        "id": "iZw2QgHh7O2N",
        "outputId": "c0434061-e3d2-4861-b70e-833d3b8462c0"
      },
      "outputs": [
        {
          "output_type": "execute_result",
          "data": {
            "text/plain": [
              "'44C'"
            ],
            "application/vnd.google.colaboratory.intrinsic+json": {
              "type": "string"
            }
          },
          "metadata": {},
          "execution_count": 28
        }
      ],
      "source": [
        "np.base_repr(1100, base=16)"
      ]
    }
  ],
  "metadata": {
    "anaconda-cloud": {},
    "kernelspec": {
      "display_name": "Python 3",
      "name": "python3"
    },
    "language_info": {
      "name": "python"
    },
    "colab": {
      "provenance": [],
      "include_colab_link": true
    }
  },
  "nbformat": 4,
  "nbformat_minor": 0
}