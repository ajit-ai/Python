{
  "cells": [
    {
      "cell_type": "markdown",
      "metadata": {
        "id": "view-in-github",
        "colab_type": "text"
      },
      "source": [
        "<a href=\"https://colab.research.google.com/github/ajit-ai/Python/blob/main/numpy/numpy_exercise/12_Sorting_searching_and_counting_Solutions.ipynb\" target=\"_parent\"><img src=\"https://colab.research.google.com/assets/colab-badge.svg\" alt=\"Open In Colab\"/></a>"
      ]
    },
    {
      "cell_type": "markdown",
      "metadata": {
        "id": "Ij7kDNsoQIFf"
      },
      "source": [
        "# Soring, searching, and counting"
      ]
    },
    {
      "cell_type": "code",
      "execution_count": 52,
      "metadata": {
        "id": "yZYUTesTQIFi"
      },
      "outputs": [],
      "source": [
        "import numpy as np"
      ]
    },
    {
      "cell_type": "code",
      "execution_count": 53,
      "metadata": {
        "colab": {
          "base_uri": "https://localhost:8080/",
          "height": 35
        },
        "id": "xr4THTTUQIFj",
        "outputId": "e98fab02-c21a-4c51-8460-1e323afd54d7"
      },
      "outputs": [
        {
          "output_type": "execute_result",
          "data": {
            "text/plain": [
              "'2.0.2'"
            ],
            "application/vnd.google.colaboratory.intrinsic+json": {
              "type": "string"
            }
          },
          "metadata": {},
          "execution_count": 53
        }
      ],
      "source": [
        "np.__version__"
      ]
    },
    {
      "cell_type": "code",
      "execution_count": 54,
      "metadata": {
        "collapsed": true,
        "id": "UK94vEbaQIFk"
      },
      "outputs": [],
      "source": [
        "author = 'ajitjava2@gmail.com'"
      ]
    },
    {
      "cell_type": "markdown",
      "metadata": {
        "id": "Ag885p-0QIFl"
      },
      "source": [
        "## Sorting"
      ]
    },
    {
      "cell_type": "markdown",
      "metadata": {
        "id": "RXqh8BCbQIFm"
      },
      "source": [
        "Q1. Sort x along the second axis."
      ]
    },
    {
      "cell_type": "code",
      "execution_count": 55,
      "metadata": {
        "colab": {
          "base_uri": "https://localhost:8080/"
        },
        "id": "afvuACHBQIFm",
        "outputId": "f14811b5-8fa9-4793-9ebd-f300867ebbed"
      },
      "outputs": [
        {
          "output_type": "stream",
          "name": "stdout",
          "text": [
            "[[1 4]\n",
            " [1 3]]\n"
          ]
        }
      ],
      "source": [
        "x = np.array([[1,4],[3,1]])\n",
        "out = np.sort(x, axis=1)\n",
        "x.sort(axis=1)\n",
        "assert np.array_equal(out, x)\n",
        "print(out)"
      ]
    },
    {
      "cell_type": "markdown",
      "metadata": {
        "id": "gxrrDjCgQIFn"
      },
      "source": [
        "Q2. Sort pairs of surnames and first names and return their indices. (first by surname, then by name)."
      ]
    },
    {
      "cell_type": "code",
      "execution_count": 56,
      "metadata": {
        "colab": {
          "base_uri": "https://localhost:8080/"
        },
        "id": "pyi0k2tWQIFo",
        "outputId": "f92a5482-6b4a-4cc6-f255-60617c0ad720"
      },
      "outputs": [
        {
          "output_type": "stream",
          "name": "stdout",
          "text": [
            "[1 2 0]\n"
          ]
        }
      ],
      "source": [
        "surnames =    ('Hertz',    'Galilei', 'Hertz')\n",
        "first_names = ('Heinrich', 'Galileo', 'Gustav')\n",
        "print(np.lexsort((first_names, surnames)))"
      ]
    },
    {
      "cell_type": "markdown",
      "metadata": {
        "id": "UOfFEAsdQIFp"
      },
      "source": [
        "Q3. Get the indices that would sort x along the second axis."
      ]
    },
    {
      "cell_type": "code",
      "execution_count": 57,
      "metadata": {
        "colab": {
          "base_uri": "https://localhost:8080/"
        },
        "id": "4KBoejSCQIFr",
        "outputId": "d4c4e835-4e30-4cd1-cb4d-665cd71fe382"
      },
      "outputs": [
        {
          "output_type": "stream",
          "name": "stdout",
          "text": [
            "[[0 1]\n",
            " [1 0]]\n"
          ]
        }
      ],
      "source": [
        "x = np.array([[1,4],[3,1]])\n",
        "out = np.argsort(x, axis=1)\n",
        "print(out)"
      ]
    },
    {
      "cell_type": "markdown",
      "metadata": {
        "id": "ZFtZZ71YQIFs"
      },
      "source": [
        "Q4. Create an array such that its fifth element would be the same as the element of sorted x, and it divide other elements by their value."
      ]
    },
    {
      "cell_type": "code",
      "execution_count": 58,
      "metadata": {
        "colab": {
          "base_uri": "https://localhost:8080/"
        },
        "id": "yBFx2kqNQIFs",
        "outputId": "ed7d5ad6-ce4a-45bf-ceba-2ebe06f78c5d"
      },
      "outputs": [
        {
          "output_type": "stream",
          "name": "stdout",
          "text": [
            "x = [6 1 9 4 0 5 7 8 2 3]\n",
            "\n",
            "Check the fifth element of this new array is 5, the first four elements are all smaller than 5, and 6th through the end are bigger than 5\n",
            "\n",
            "[0 1 2 3 4 5 6 7 8 9]\n"
          ]
        }
      ],
      "source": [
        "x = np.random.permutation(10)\n",
        "print(\"x =\", x)\n",
        "print(\"\\nCheck the fifth element of this new array is 5, the first four elements are all smaller than 5, and 6th through the end are bigger than 5\\n\")\n",
        "out = np.partition(x, 5)\n",
        "x.partition(5) # in-place equivalent\n",
        "assert np.array_equal(x, out)\n",
        "print(out)"
      ]
    },
    {
      "cell_type": "markdown",
      "metadata": {
        "id": "GcJrqrAaQIFt"
      },
      "source": [
        "Q5. Create the indices of an array such that its third element would be the same as the element of sorted x, and it divide other elements by their value."
      ]
    },
    {
      "cell_type": "code",
      "execution_count": 59,
      "metadata": {
        "colab": {
          "base_uri": "https://localhost:8080/"
        },
        "id": "p_ISV1f9QIFu",
        "outputId": "2f2287fc-51b3-41ce-97d4-9237b56c964c"
      },
      "outputs": [
        {
          "output_type": "stream",
          "name": "stdout",
          "text": [
            "x = [1 2 6 0 7 3 9 5 4 8]\n",
            "partitioned = [0 1 2 3 4 5 6 7 8 9]\n",
            "indices = [0 1 2 3 4 5 6 7 8 9]\n"
          ]
        }
      ],
      "source": [
        "x = np.random.permutation(10)\n",
        "print(\"x =\", x)\n",
        "partitioned = np.partition(x, 3)\n",
        "indices = np.argpartition(x, 3)\n",
        "print(\"partitioned =\", partitioned)\n",
        "print(\"indices =\", partitioned)\n",
        "assert np.array_equiv(x[indices], partitioned)"
      ]
    },
    {
      "cell_type": "markdown",
      "metadata": {
        "id": "EMZ4FeFTQIFu"
      },
      "source": [
        "## Searching"
      ]
    },
    {
      "cell_type": "markdown",
      "metadata": {
        "id": "__x7TEquQIFv"
      },
      "source": [
        "Q6. Get the maximum and minimum values and their indices of x along the second axis."
      ]
    },
    {
      "cell_type": "code",
      "execution_count": 60,
      "metadata": {
        "colab": {
          "base_uri": "https://localhost:8080/"
        },
        "id": "RTxi13sZQIFv",
        "outputId": "9e201178-07c0-4272-da88-7c721c5719f9"
      },
      "outputs": [
        {
          "output_type": "stream",
          "name": "stdout",
          "text": [
            "x = [[4 0 8 2 6]\n",
            " [9 3 7 5 1]]\n",
            "maximum values = [8 9]\n",
            "max indices = [2 0]\n",
            "minimum values = [0 1]\n",
            "min indices = [1 4]\n"
          ]
        }
      ],
      "source": [
        "x = np.random.permutation(10).reshape(2, 5)\n",
        "print(\"x =\", x)\n",
        "print(\"maximum values =\", np.max(x, 1))\n",
        "print(\"max indices =\", np.argmax(x, 1))\n",
        "print(\"minimum values =\", np.min(x, 1))\n",
        "print(\"min indices =\", np.argmin(x, 1))"
      ]
    },
    {
      "cell_type": "markdown",
      "metadata": {
        "id": "YZBKHOYOQIFv"
      },
      "source": [
        "Q7. Get the maximum and minimum values and their indices of x along the second axis, ignoring NaNs."
      ]
    },
    {
      "cell_type": "code",
      "execution_count": 61,
      "metadata": {
        "colab": {
          "base_uri": "https://localhost:8080/"
        },
        "id": "x7e5ajYTQIFw",
        "outputId": "775da89d-b846-4a0e-ec58-e0c0e4c827a0"
      },
      "outputs": [
        {
          "output_type": "stream",
          "name": "stdout",
          "text": [
            "maximum values ignoring NaNs = [4. 3.]\n",
            "max indices = [1 0]\n",
            "minimum values ignoring NaNs = [4. 2.]\n",
            "min indices = [1 1]\n"
          ]
        }
      ],
      "source": [
        "x = np.array([[np.nan, 4], [3, 2]])\n",
        "print(\"maximum values ignoring NaNs =\", np.nanmax(x, 1))\n",
        "print(\"max indices =\", np.nanargmax(x, 1))\n",
        "print(\"minimum values ignoring NaNs =\", np.nanmin(x, 1))\n",
        "print(\"min indices =\", np.nanargmin(x, 1))"
      ]
    },
    {
      "cell_type": "markdown",
      "metadata": {
        "id": "91mXpH7qQIFx"
      },
      "source": [
        "Q8. Get the values and indices of the elements that are bigger than 2 in x.\n"
      ]
    },
    {
      "cell_type": "code",
      "execution_count": 62,
      "metadata": {
        "colab": {
          "base_uri": "https://localhost:8080/"
        },
        "id": "JyQWubmqQIFx",
        "outputId": "fe25d037-d4fa-42fc-ab1d-33136dd1a5ab"
      },
      "outputs": [
        {
          "output_type": "stream",
          "name": "stdout",
          "text": [
            "Values bigger than 2 = [3 3 5]\n",
            "Their indices are  (array([0, 1, 1]), array([2, 1, 2]))\n"
          ]
        }
      ],
      "source": [
        "x = np.array([[1, 2, 3], [1, 3, 5]])\n",
        "print(\"Values bigger than 2 =\", x[x>2])\n",
        "print(\"Their indices are \", np.nonzero(x > 2))\n",
        "assert np.array_equiv(x[x>2], x[np.nonzero(x > 2)])\n",
        "assert np.array_equiv(x[x>2], np.extract(x > 2, x))"
      ]
    },
    {
      "cell_type": "markdown",
      "metadata": {
        "id": "X11hvmxeQIFx"
      },
      "source": [
        "Q9. Get the indices of the elements that are bigger than 2 in the flattend x."
      ]
    },
    {
      "cell_type": "code",
      "execution_count": 63,
      "metadata": {
        "scrolled": true,
        "colab": {
          "base_uri": "https://localhost:8080/"
        },
        "id": "aLHunnk2QIFy",
        "outputId": "dd8d92fb-08c4-4c90-d0fc-12f90b27f58c"
      },
      "outputs": [
        {
          "output_type": "stream",
          "name": "stdout",
          "text": [
            "[2 4 5]\n"
          ]
        }
      ],
      "source": [
        "x = np.array([[1, 2, 3], [1, 3, 5]])\n",
        "print(np.flatnonzero(x>2))\n",
        "assert np.array_equiv(np.flatnonzero(x), x.ravel().nonzero())"
      ]
    },
    {
      "cell_type": "markdown",
      "metadata": {
        "id": "sZW-wAvgQIFy"
      },
      "source": [
        "Q10. Check the elements of x and return 0 if it is less than 0, otherwise the element itself."
      ]
    },
    {
      "cell_type": "code",
      "execution_count": 64,
      "metadata": {
        "colab": {
          "base_uri": "https://localhost:8080/"
        },
        "id": "HAGlnqkNQIFy",
        "outputId": "d7df2a35-372b-4076-dd00-c25f871e356e"
      },
      "outputs": [
        {
          "output_type": "stream",
          "name": "stdout",
          "text": [
            "[[0 0 0]\n",
            " [0 0 0]\n",
            " [1 2 3]]\n"
          ]
        }
      ],
      "source": [
        "x = np.arange(-5, 4).reshape(3, 3)\n",
        "print(np.where(x <0, 0, x))"
      ]
    },
    {
      "cell_type": "markdown",
      "metadata": {
        "id": "vrb_ELIxQIFy"
      },
      "source": [
        "Q11. Get the indices where elements of y should be inserted to x to maintain order."
      ]
    },
    {
      "cell_type": "code",
      "execution_count": 65,
      "metadata": {
        "colab": {
          "base_uri": "https://localhost:8080/"
        },
        "id": "jdEw3lVyQIFz",
        "outputId": "e748f40c-8e33-495f-e90d-8c4d08ee9d83"
      },
      "outputs": [
        {
          "output_type": "execute_result",
          "data": {
            "text/plain": [
              "array([0, 2, 1, 3])"
            ]
          },
          "metadata": {},
          "execution_count": 65
        }
      ],
      "source": [
        "x = [1, 3, 5, 7, 9]\n",
        "y = [0, 4, 2, 6]\n",
        "np.searchsorted(x, y)"
      ]
    },
    {
      "cell_type": "markdown",
      "metadata": {
        "id": "vSRTDGj3QIFz"
      },
      "source": [
        "## Counting"
      ]
    },
    {
      "cell_type": "markdown",
      "metadata": {
        "id": "AvezScE2QIF0"
      },
      "source": [
        "Q12. Get the number of nonzero elements in x."
      ]
    },
    {
      "cell_type": "code",
      "execution_count": 66,
      "metadata": {
        "colab": {
          "base_uri": "https://localhost:8080/"
        },
        "id": "NsXJFkJnQIF0",
        "outputId": "6b2aefa5-be48-4532-fcba-c0466f2c713e"
      },
      "outputs": [
        {
          "output_type": "stream",
          "name": "stdout",
          "text": [
            "5\n"
          ]
        }
      ],
      "source": [
        "x = [[0,1,7,0,0],[3,0,0,2,19]]\n",
        "print(np.count_nonzero(x))\n",
        "assert np.count_nonzero(x) == len(x[x!=0])"
      ]
    },
    {
      "cell_type": "code",
      "execution_count": 66,
      "metadata": {
        "collapsed": true,
        "id": "RsZFjz5gQIF1"
      },
      "outputs": [],
      "source": []
    }
  ],
  "metadata": {
    "kernelspec": {
      "display_name": "Python 3",
      "language": "python",
      "name": "python3"
    },
    "language_info": {
      "codemirror_mode": {
        "name": "ipython",
        "version": 3
      },
      "file_extension": ".py",
      "mimetype": "text/x-python",
      "name": "python",
      "nbconvert_exporter": "python",
      "pygments_lexer": "ipython3",
      "version": "3.5.2"
    },
    "colab": {
      "provenance": [],
      "include_colab_link": true
    }
  },
  "nbformat": 4,
  "nbformat_minor": 0
}