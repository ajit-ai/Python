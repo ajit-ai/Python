{
  "cells": [
    {
      "cell_type": "markdown",
      "metadata": {
        "id": "view-in-github",
        "colab_type": "text"
      },
      "source": [
        "<a href=\"https://colab.research.google.com/github/ajit-ai/Python/blob/main/numpy/numpy_exercise/11_Set_routines.ipynb\" target=\"_parent\"><img src=\"https://colab.research.google.com/assets/colab-badge.svg\" alt=\"Open In Colab\"/></a>"
      ]
    },
    {
      "cell_type": "markdown",
      "metadata": {
        "id": "UHhpuT-OMeGt"
      },
      "source": [
        "# Set routines"
      ]
    },
    {
      "cell_type": "code",
      "execution_count": 19,
      "metadata": {
        "collapsed": true,
        "id": "vc5KKeSEMeGv"
      },
      "outputs": [],
      "source": [
        "import numpy as np"
      ]
    },
    {
      "cell_type": "code",
      "execution_count": 20,
      "metadata": {
        "colab": {
          "base_uri": "https://localhost:8080/",
          "height": 35
        },
        "id": "rb2fLguZMeGw",
        "outputId": "5eafc165-1d5d-4fee-ccd0-93a19a848523"
      },
      "outputs": [
        {
          "output_type": "execute_result",
          "data": {
            "text/plain": [
              "'2.0.2'"
            ],
            "application/vnd.google.colaboratory.intrinsic+json": {
              "type": "string"
            }
          },
          "metadata": {},
          "execution_count": 20
        }
      ],
      "source": [
        "np.__version__"
      ]
    },
    {
      "cell_type": "code",
      "execution_count": 21,
      "metadata": {
        "id": "hjVqUYvHMeGw"
      },
      "outputs": [],
      "source": [
        "author = 'kyubyong. longinglove@nate.com'"
      ]
    },
    {
      "cell_type": "markdown",
      "metadata": {
        "id": "aFciGl1TMeGx"
      },
      "source": [
        "## Making proper sets"
      ]
    },
    {
      "cell_type": "markdown",
      "metadata": {
        "id": "_25pS41pMeGx"
      },
      "source": [
        "Q1. Get unique elements and reconstruction indices from x. And reconstruct x."
      ]
    },
    {
      "cell_type": "code",
      "execution_count": 22,
      "metadata": {
        "id": "CT7lL_zKMeGx"
      },
      "outputs": [],
      "source": [
        "x = np.array([1, 2, 6, 4, 2, 3, 2])\n",
        "\n"
      ]
    },
    {
      "cell_type": "markdown",
      "metadata": {
        "id": "LeXSM3vLMeGy"
      },
      "source": [
        "## Boolean operations"
      ]
    },
    {
      "cell_type": "markdown",
      "metadata": {
        "id": "wwuMzDuOMeGy"
      },
      "source": [
        "Q2. Create a boolean array of the same shape as x. If each element of x is present in y, the result will be True, otherwise False."
      ]
    },
    {
      "cell_type": "code",
      "execution_count": 23,
      "metadata": {
        "id": "wWrBdmdfMeGz"
      },
      "outputs": [],
      "source": [
        "x = np.array([0, 1, 2, 5, 0])\n",
        "y = np.array([0, 1])\n"
      ]
    },
    {
      "cell_type": "markdown",
      "metadata": {
        "id": "GeSrM7PtMeGz"
      },
      "source": [
        "Q3. Find the unique intersection of x and y."
      ]
    },
    {
      "cell_type": "code",
      "execution_count": 24,
      "metadata": {
        "id": "dGfraomiMeG0"
      },
      "outputs": [],
      "source": [
        "x = np.array([0, 1, 2, 5, 0])\n",
        "y = np.array([0, 1, 4])\n"
      ]
    },
    {
      "cell_type": "markdown",
      "metadata": {
        "id": "IpdR1CizMeG0"
      },
      "source": [
        "Q4. Find the unique elements of x that are not present in y."
      ]
    },
    {
      "cell_type": "code",
      "execution_count": 25,
      "metadata": {
        "id": "ifzPyn3mMeG1"
      },
      "outputs": [],
      "source": [
        "x = np.array([0, 1, 2, 5, 0])\n",
        "y = np.array([0, 1, 4])\n"
      ]
    },
    {
      "cell_type": "markdown",
      "metadata": {
        "id": "rUzeM2-1MeG1"
      },
      "source": [
        "Q5. Find the xor elements of x and y."
      ]
    },
    {
      "cell_type": "code",
      "execution_count": 26,
      "metadata": {
        "id": "_AtaM6M5MeG2"
      },
      "outputs": [],
      "source": [
        "x = np.array([0, 1, 2, 5, 0])\n",
        "y = np.array([0, 1, 4])\n"
      ]
    },
    {
      "cell_type": "markdown",
      "metadata": {
        "id": "3mlv95B8MeG2"
      },
      "source": [
        "Q6. Find the union of x and y."
      ]
    },
    {
      "cell_type": "code",
      "execution_count": 27,
      "metadata": {
        "id": "ofBBVYwcMeG2"
      },
      "outputs": [],
      "source": [
        "x = np.array([0, 1, 2, 5, 0])\n",
        "y = np.array([0, 1, 4])\n"
      ]
    },
    {
      "cell_type": "code",
      "execution_count": 27,
      "metadata": {
        "collapsed": true,
        "id": "o1aK1BGlMeG3"
      },
      "outputs": [],
      "source": []
    }
  ],
  "metadata": {
    "kernelspec": {
      "display_name": "Python 3",
      "language": "python",
      "name": "python3"
    },
    "language_info": {
      "codemirror_mode": {
        "name": "ipython",
        "version": 3
      },
      "file_extension": ".py",
      "mimetype": "text/x-python",
      "name": "python",
      "nbconvert_exporter": "python",
      "pygments_lexer": "ipython3",
      "version": "3.5.2"
    },
    "colab": {
      "provenance": [],
      "include_colab_link": true
    }
  },
  "nbformat": 4,
  "nbformat_minor": 0
}