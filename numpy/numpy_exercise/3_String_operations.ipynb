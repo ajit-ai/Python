{
  "cells": [
    {
      "cell_type": "markdown",
      "metadata": {
        "id": "view-in-github",
        "colab_type": "text"
      },
      "source": [
        "<a href=\"https://colab.research.google.com/github/ajit-ai/Python/blob/main/numpy/numpy_exercise/3_String_operations.ipynb\" target=\"_parent\"><img src=\"https://colab.research.google.com/assets/colab-badge.svg\" alt=\"Open In Colab\"/></a>"
      ]
    },
    {
      "cell_type": "markdown",
      "metadata": {
        "id": "dA3w3orp1J2n"
      },
      "source": [
        "## String operations"
      ]
    },
    {
      "cell_type": "code",
      "execution_count": 2,
      "metadata": {
        "collapsed": true,
        "id": "aNXFTVC91J2q"
      },
      "outputs": [],
      "source": [
        "from __future__ import print_function\n",
        "import numpy as np"
      ]
    },
    {
      "cell_type": "code",
      "execution_count": 3,
      "metadata": {
        "collapsed": true,
        "id": "FyJYrl3w1J2r"
      },
      "outputs": [],
      "source": [
        "author = \"kyubyong. https://github.com/Kyubyong/numpy_exercises\""
      ]
    },
    {
      "cell_type": "code",
      "execution_count": 4,
      "metadata": {
        "colab": {
          "base_uri": "https://localhost:8080/",
          "height": 35
        },
        "id": "C52yKivA1J2s",
        "outputId": "b52ac982-aada-4c4d-c62d-86009e0f564e"
      },
      "outputs": [
        {
          "output_type": "execute_result",
          "data": {
            "text/plain": [
              "'2.0.2'"
            ],
            "application/vnd.google.colaboratory.intrinsic+json": {
              "type": "string"
            }
          },
          "metadata": {},
          "execution_count": 4
        }
      ],
      "source": [
        "np.__version__"
      ]
    },
    {
      "cell_type": "markdown",
      "metadata": {
        "id": "jpyS8nIR1J2t"
      },
      "source": [
        "Q1. Concatenate x1 and x2."
      ]
    },
    {
      "cell_type": "code",
      "execution_count": 7,
      "metadata": {
        "colab": {
          "base_uri": "https://localhost:8080/"
        },
        "id": "D8avRTYD1J2u",
        "outputId": "6a1155ec-1ec5-46ad-86f0-57e3e0e6f617"
      },
      "outputs": [
        {
          "output_type": "stream",
          "name": "stdout",
          "text": [
            "['Hello world' 'Say something']\n"
          ]
        }
      ],
      "source": [
        "x1 = np.array(['Hello', 'Say'], dtype=str)\n",
        "x2 = np.array([' world', ' something'], dtype=str)\n",
        "\n",
        "concatenated = np.char.add(x1, x2)\n",
        "print(concatenated)"
      ]
    },
    {
      "cell_type": "markdown",
      "metadata": {
        "id": "m5h4_4wO1J2u"
      },
      "source": [
        "Q2. Repeat x three time element-wise."
      ]
    },
    {
      "cell_type": "code",
      "execution_count": 8,
      "metadata": {
        "colab": {
          "base_uri": "https://localhost:8080/"
        },
        "id": "oZBE6pUQ1J2v",
        "outputId": "a58a179a-64f5-4e02-ddb4-b504e0be891c"
      },
      "outputs": [
        {
          "output_type": "stream",
          "name": "stdout",
          "text": [
            "['Hello Hello Hello ' 'Say Say Say ']\n"
          ]
        }
      ],
      "source": [
        "x = np.array(['Hello ', 'Say '], dtype=str)\n",
        "\n",
        "repeated = np.char.multiply(x, 3)\n",
        "print(repeated)"
      ]
    },
    {
      "cell_type": "markdown",
      "metadata": {
        "id": "c6eylu6Z1J2w"
      },
      "source": [
        "Q3-1. Capitalize the first letter of x element-wise.<br/>\n",
        "Q3-2. Lowercase x element-wise.<br/>\n",
        "Q3-3. Uppercase x element-wise.<br/>\n",
        "Q3-4. Swapcase x element-wise.<br/>\n",
        "Q3-5. Title-case x element-wise.<br/>"
      ]
    },
    {
      "cell_type": "code",
      "execution_count": 9,
      "metadata": {
        "colab": {
          "base_uri": "https://localhost:8080/"
        },
        "id": "vguklHE11J2w",
        "outputId": "7ed0249a-411b-43af-8bb8-64985671e103"
      },
      "outputs": [
        {
          "output_type": "stream",
          "name": "stdout",
          "text": [
            "capitalized = ['Hello world' 'Say something']\n",
            "lowered = ['hello world' 'say something']\n",
            "uppered = ['HELLO WORLD' 'SAY SOMETHING']\n",
            "swapcased = ['HEllO WOrlD' 'sAY SoMETHING']\n",
            "titlecased = ['Hello World' 'Say Something']\n"
          ]
        }
      ],
      "source": [
        "x = np.array(['heLLo woRLd', 'Say sOmething'], dtype=str)\n",
        "capitalized = np.char.capitalize(x)\n",
        "lowered = np.char.lower(x)\n",
        "uppered = np.char.upper(x)\n",
        "swapcased = np.char.swapcase(x)\n",
        "titlecased = np.char.title(x)\n",
        "print(\"capitalized =\", capitalized)\n",
        "print(\"lowered =\", lowered)\n",
        "print(\"uppered =\", uppered)\n",
        "print(\"swapcased =\", swapcased)\n",
        "print(\"titlecased =\", titlecased)"
      ]
    },
    {
      "cell_type": "markdown",
      "metadata": {
        "id": "zR9b0U6q1J2x"
      },
      "source": [
        "Q4. Make the length of each element 20 and the string centered / left-justified / right-justified with paddings of `_`."
      ]
    },
    {
      "cell_type": "code",
      "execution_count": 10,
      "metadata": {
        "colab": {
          "base_uri": "https://localhost:8080/"
        },
        "id": "tNRhdyvD1J2x",
        "outputId": "8c070f24-24a9-455b-fe67-e2683526a33a"
      },
      "outputs": [
        {
          "output_type": "stream",
          "name": "stdout",
          "text": [
            "centered = ['____hello world_____' '___say something____']\n",
            "left = ['hello world_________' 'say something_______']\n",
            "right = ['_________hello world' '_______say something']\n"
          ]
        }
      ],
      "source": [
        "x = np.array(['hello world', 'say something'], dtype=str)\n",
        "centered = np.char.center(x, 20, fillchar='_')\n",
        "left = np.char.ljust(x, 20, fillchar='_')\n",
        "right = np.char.rjust(x, 20, fillchar='_')\n",
        "\n",
        "print(\"centered =\", centered)\n",
        "print(\"left =\", left)\n",
        "print(\"right =\", right)"
      ]
    },
    {
      "cell_type": "markdown",
      "metadata": {
        "id": "Rj6o_Pi41J2y"
      },
      "source": [
        "Q5. Encode x in cp500 and decode it again."
      ]
    },
    {
      "cell_type": "code",
      "execution_count": 11,
      "metadata": {
        "colab": {
          "base_uri": "https://localhost:8080/"
        },
        "id": "l1HiWQUu1J2y",
        "outputId": "f4d7fd2e-fda6-4545-b578-5441f59e58f6"
      },
      "outputs": [
        {
          "output_type": "stream",
          "name": "stdout",
          "text": [
            "encoded = [b'\\x88\\x85\\x93\\x93\\x96@\\xa6\\x96\\x99\\x93\\x84'\n",
            " b'\\xa2\\x81\\xa8@\\xa2\\x96\\x94\\x85\\xa3\\x88\\x89\\x95\\x87']\n",
            "decoded = ['hello world' 'say something']\n"
          ]
        }
      ],
      "source": [
        "x = np.array(['hello world', 'say something'], dtype=str)\n",
        "encoded = np.char.encode(x, encoding='cp500')\n",
        "decoded = np.char.decode(encoded, encoding='cp500')\n",
        "print(\"encoded =\", encoded)\n",
        "print(\"decoded =\", decoded)"
      ]
    },
    {
      "cell_type": "markdown",
      "metadata": {
        "id": "8Xbu9xml1J2z"
      },
      "source": [
        "Q6. Insert a space between characters of x."
      ]
    },
    {
      "cell_type": "code",
      "execution_count": 12,
      "metadata": {
        "colab": {
          "base_uri": "https://localhost:8080/"
        },
        "id": "BudXfGgg1J2z",
        "outputId": "13fcd692-6c3e-4e58-b67e-b4bf8f7390e6"
      },
      "outputs": [
        {
          "output_type": "stream",
          "name": "stdout",
          "text": [
            "['h e l l o   w o r l d' 's a y   s o m e t h i n g']\n"
          ]
        }
      ],
      "source": [
        "x = np.array(['hello world', 'say something'], dtype=str)\n",
        "spaced = np.char.join(' ', x)\n",
        "print(spaced)"
      ]
    },
    {
      "cell_type": "markdown",
      "metadata": {
        "id": "D9Hw3SYa1J2z"
      },
      "source": [
        "Q7-1. Remove the leading and trailing whitespaces of x element-wise.<br/>\n",
        "Q7-2. Remove the leading whitespaces of x element-wise.<br/>\n",
        "Q7-3. Remove the trailing whitespaces of x element-wise."
      ]
    },
    {
      "cell_type": "code",
      "execution_count": 13,
      "metadata": {
        "colab": {
          "base_uri": "https://localhost:8080/"
        },
        "id": "R274pYny1J2z",
        "outputId": "30237f57-a25b-437c-f30f-0756e79c56ea"
      },
      "outputs": [
        {
          "output_type": "stream",
          "name": "stdout",
          "text": [
            "stripped = ['hello world' 'say something']\n",
            "lstripped = ['hello world   ' 'say something\\n']\n",
            "rstripped = ['   hello world' '\\tsay something']\n"
          ]
        }
      ],
      "source": [
        "x = np.array(['   hello world   ', '\\tsay something\\n'], dtype=str)\n",
        "stripped = np.char.strip(x)\n",
        "lstripped = np.char.lstrip(x)\n",
        "rstripped = np.char.rstrip(x)\n",
        "print(\"stripped =\", stripped)\n",
        "print(\"lstripped =\", lstripped)\n",
        "print(\"rstripped =\", rstripped)"
      ]
    },
    {
      "cell_type": "markdown",
      "metadata": {
        "id": "yjjL1T-n1J20"
      },
      "source": [
        "Q8. Split the element of x with spaces."
      ]
    },
    {
      "cell_type": "code",
      "execution_count": 14,
      "metadata": {
        "colab": {
          "base_uri": "https://localhost:8080/"
        },
        "id": "7a_Ti2nn1J20",
        "outputId": "fae34fe5-46df-49db-951e-62f8cb885e9e"
      },
      "outputs": [
        {
          "output_type": "stream",
          "name": "stdout",
          "text": [
            "[list(['Hello', 'my', 'name', 'is', 'John'])]\n"
          ]
        }
      ],
      "source": [
        "x = np.array(['Hello my name is John'], dtype=str)\n",
        "split = np.char.split(x)\n",
        "print(split)"
      ]
    },
    {
      "cell_type": "markdown",
      "metadata": {
        "id": "GHhTgX3C1J20"
      },
      "source": [
        "Q9. Split the element of x to multiple lines."
      ]
    },
    {
      "cell_type": "code",
      "execution_count": 15,
      "metadata": {
        "colab": {
          "base_uri": "https://localhost:8080/"
        },
        "id": "jK4o_2RL1J20",
        "outputId": "e142a134-0e79-411d-9e62-deeb621755eb"
      },
      "outputs": [
        {
          "output_type": "stream",
          "name": "stdout",
          "text": [
            "[list(['Hello', 'my name is John'])]\n"
          ]
        }
      ],
      "source": [
        "x = np.array(['Hello\\nmy name is John'], dtype=str)\n",
        "splitlines = np.char.splitlines(x)\n",
        "print(splitlines)"
      ]
    },
    {
      "cell_type": "markdown",
      "metadata": {
        "id": "Re7dqthM1J21"
      },
      "source": [
        "Q10. Make x a numeric string of 4 digits with zeros on its left."
      ]
    },
    {
      "cell_type": "code",
      "execution_count": 16,
      "metadata": {
        "colab": {
          "base_uri": "https://localhost:8080/"
        },
        "id": "8-UZ2l301J21",
        "outputId": "74f9a5c1-3127-4c7a-c775-42cde73a9b54"
      },
      "outputs": [
        {
          "output_type": "stream",
          "name": "stdout",
          "text": [
            "['0034']\n"
          ]
        }
      ],
      "source": [
        "x = np.array(['34'], dtype=str)\n",
        "zeropadded = np.char.zfill(x, 4)\n",
        "print(zeropadded)"
      ]
    },
    {
      "cell_type": "markdown",
      "metadata": {
        "id": "4WBSadae1J21"
      },
      "source": [
        "Q11. Replace \"John\" with \"Jim\" in x."
      ]
    },
    {
      "cell_type": "code",
      "execution_count": 17,
      "metadata": {
        "colab": {
          "base_uri": "https://localhost:8080/"
        },
        "id": "4yqkdZ4F1J21",
        "outputId": "5233cffb-4cc7-46cc-a706-f0177ed74a52"
      },
      "outputs": [
        {
          "output_type": "stream",
          "name": "stdout",
          "text": [
            "['Hello nmy name is Jim']\n"
          ]
        }
      ],
      "source": [
        "x = np.array(['Hello nmy name is John'], dtype=str)\n",
        "replaced = np.char.replace(x, \"John\", \"Jim\")\n",
        "print(replaced)"
      ]
    },
    {
      "cell_type": "markdown",
      "metadata": {
        "id": "xQSROlOx1J22"
      },
      "source": [
        "## Comparison"
      ]
    },
    {
      "cell_type": "markdown",
      "metadata": {
        "id": "EOeG6MyW1J22"
      },
      "source": [
        "Q12. Return x1 == x2, element-wise."
      ]
    },
    {
      "cell_type": "code",
      "execution_count": 18,
      "metadata": {
        "colab": {
          "base_uri": "https://localhost:8080/"
        },
        "id": "GJWbHNVX1J22",
        "outputId": "70729f22-d1d4-4cbf-cce1-26e3eb1e406d"
      },
      "outputs": [
        {
          "output_type": "stream",
          "name": "stdout",
          "text": [
            "[ True  True  True  True False]\n"
          ]
        }
      ],
      "source": [
        "x1 = np.array(['Hello', 'my', 'name', 'is', 'John'], dtype=str)\n",
        "x2 = np.array(['Hello', 'my', 'name', 'is', 'Jim'], dtype=str)\n",
        "\n",
        "print(x1 == x2)"
      ]
    },
    {
      "cell_type": "markdown",
      "metadata": {
        "id": "jW3WLjSh1J22"
      },
      "source": [
        "Q13. Return x1 != x2, element-wise."
      ]
    },
    {
      "cell_type": "code",
      "execution_count": 19,
      "metadata": {
        "colab": {
          "base_uri": "https://localhost:8080/"
        },
        "id": "pvWLrK-Q1J22",
        "outputId": "64018c7f-3831-4f47-95bc-121aa54695d5"
      },
      "outputs": [
        {
          "output_type": "stream",
          "name": "stdout",
          "text": [
            "[False False False False  True]\n"
          ]
        }
      ],
      "source": [
        "x1 = np.array(['Hello', 'my', 'name', 'is', 'John'], dtype=str)\n",
        "x2 = np.array(['Hello', 'my', 'name', 'is', 'Jim'], dtype=str)\n",
        "\n",
        "print(x1 != x2)"
      ]
    },
    {
      "cell_type": "markdown",
      "metadata": {
        "id": "_88p9Nzj1J23"
      },
      "source": [
        "## String information"
      ]
    },
    {
      "cell_type": "markdown",
      "metadata": {
        "id": "cq_wnPQd1J23"
      },
      "source": [
        "Q14. Count the number of \"l\" in x, element-wise."
      ]
    },
    {
      "cell_type": "code",
      "execution_count": 20,
      "metadata": {
        "colab": {
          "base_uri": "https://localhost:8080/"
        },
        "id": "h2ABm2fI1J23",
        "outputId": "47c6a7a3-0063-4a8d-a8d5-1ea93c9eb947"
      },
      "outputs": [
        {
          "output_type": "stream",
          "name": "stdout",
          "text": [
            "[2 0 0 0 1]\n"
          ]
        }
      ],
      "source": [
        "x = np.array(['Hello', 'my', 'name', 'is', 'Lily'], dtype=str)\n",
        "count_l = np.char.count(x, 'l')\n",
        "print(count_l)"
      ]
    },
    {
      "cell_type": "markdown",
      "metadata": {
        "id": "OH30rqUC1J23"
      },
      "source": [
        "Q15. Count the lowest index of \"l\" in x, element-wise."
      ]
    },
    {
      "cell_type": "code",
      "execution_count": 21,
      "metadata": {
        "colab": {
          "base_uri": "https://localhost:8080/"
        },
        "id": "z6d7t2qY1J23",
        "outputId": "5839db50-974d-4fa8-c160-cf628e6f2ff4"
      },
      "outputs": [
        {
          "output_type": "stream",
          "name": "stdout",
          "text": [
            "[ 2 -1 -1 -1  2]\n"
          ]
        }
      ],
      "source": [
        "x = np.array(['Hello', 'my', 'name', 'is', 'Lily'], dtype=str)\n",
        "index_l = np.char.find(x, 'l')\n",
        "print(index_l)"
      ]
    },
    {
      "cell_type": "markdown",
      "metadata": {
        "id": "rXg4XEz-1J24"
      },
      "source": [
        "Q16-1. Check if each element of x is composed of digits only.<br/>\n",
        "Q16-2. Check if each element of x is composed of lower case letters only.<br/>\n",
        "Q16-3. Check if each element of x is composed of upper case letters only."
      ]
    },
    {
      "cell_type": "code",
      "execution_count": 22,
      "metadata": {
        "colab": {
          "base_uri": "https://localhost:8080/"
        },
        "id": "vgujscOh1J24",
        "outputId": "151a8dfe-47a4-4f0c-d772-14a3638a3967"
      },
      "outputs": [
        {
          "output_type": "stream",
          "name": "stdout",
          "text": [
            "Digits only = [False False False  True False False]\n",
            "Lower cases only = [False False  True False  True  True]\n",
            "Upper cases only = [False  True False False False False]\n"
          ]
        }
      ],
      "source": [
        "x = np.array(['Hello', 'I', 'am', '20', 'years', 'old'], dtype=str)\n",
        "out1 = np.char.isdigit(x)\n",
        "out2 = np.char.islower(x)\n",
        "out3 = np.char.isupper(x)\n",
        "print(\"Digits only =\", out1)\n",
        "print(\"Lower cases only =\", out2)\n",
        "print(\"Upper cases only =\", out3)"
      ]
    },
    {
      "cell_type": "markdown",
      "metadata": {
        "id": "2fguiiJB1J24"
      },
      "source": [
        "Q17. Check if each element of x starts with \"hi\"."
      ]
    },
    {
      "cell_type": "code",
      "execution_count": 23,
      "metadata": {
        "colab": {
          "base_uri": "https://localhost:8080/"
        },
        "id": "So_X9WBs1J3A",
        "outputId": "9fb9d156-a7c4-4a3f-bc07-83933eb0a1a2"
      },
      "outputs": [
        {
          "output_type": "stream",
          "name": "stdout",
          "text": [
            "[False  True  True  True]\n"
          ]
        }
      ],
      "source": [
        "x = np.array(['he', 'his', 'him', 'his'], dtype=str)\n",
        "starts_with_hi = np.char.startswith(x, \"hi\")\n",
        "print(starts_with_hi)"
      ]
    }
  ],
  "metadata": {
    "anaconda-cloud": {},
    "kernelspec": {
      "display_name": "Python 3",
      "name": "python3"
    },
    "language_info": {
      "name": "python"
    },
    "colab": {
      "provenance": [],
      "include_colab_link": true
    }
  },
  "nbformat": 4,
  "nbformat_minor": 0
}