{
  "cells": [
    {
      "cell_type": "markdown",
      "metadata": {
        "id": "view-in-github",
        "colab_type": "text"
      },
      "source": [
        "<a href=\"https://colab.research.google.com/github/ajit-ai/Python/blob/main/numpy/numpy_exercise/8_Logic_functions_Solutions.ipynb\" target=\"_parent\"><img src=\"https://colab.research.google.com/assets/colab-badge.svg\" alt=\"Open In Colab\"/></a>"
      ]
    },
    {
      "cell_type": "markdown",
      "metadata": {
        "id": "-10eWWyxA1bd"
      },
      "source": [
        "# Logic functions"
      ]
    },
    {
      "cell_type": "code",
      "execution_count": 55,
      "metadata": {
        "collapsed": true,
        "id": "C_7_WMfeA1bf"
      },
      "outputs": [],
      "source": [
        "import numpy as np"
      ]
    },
    {
      "cell_type": "code",
      "execution_count": 56,
      "metadata": {
        "colab": {
          "base_uri": "https://localhost:8080/",
          "height": 35
        },
        "id": "BProH8_yA1bg",
        "outputId": "f0b7567f-b592-4a3e-fdef-710463732daf"
      },
      "outputs": [
        {
          "output_type": "execute_result",
          "data": {
            "text/plain": [
              "'2.0.2'"
            ],
            "application/vnd.google.colaboratory.intrinsic+json": {
              "type": "string"
            }
          },
          "metadata": {},
          "execution_count": 56
        }
      ],
      "source": [
        "np.__version__"
      ]
    },
    {
      "cell_type": "markdown",
      "metadata": {
        "id": "7F9_HeOTA1bh"
      },
      "source": [
        "## Truth value testing\n"
      ]
    },
    {
      "cell_type": "markdown",
      "metadata": {
        "id": "Y2oZZG7qA1bi"
      },
      "source": [
        "Q1. Let x be an arbitrary array. Return True if none of the elements of x is zero. Remind that 0 evaluates to False in python.\n"
      ]
    },
    {
      "cell_type": "code",
      "execution_count": 57,
      "metadata": {
        "colab": {
          "base_uri": "https://localhost:8080/"
        },
        "id": "4rk21E5gA1bi",
        "outputId": "0b874357-9459-44b9-e288-1cc430f6ab75"
      },
      "outputs": [
        {
          "output_type": "stream",
          "name": "stdout",
          "text": [
            "True\n",
            "False\n"
          ]
        }
      ],
      "source": [
        "x = np.array([1,2,3])\n",
        "print (np.all(x))\n",
        "\n",
        "x = np.array([1,0,3])\n",
        "print (np.all(x))"
      ]
    },
    {
      "cell_type": "markdown",
      "metadata": {
        "id": "vWEpPOkhA1bj"
      },
      "source": [
        "Q2. Let x be an arbitrary array. Return True if any of the elements of x is non-zero."
      ]
    },
    {
      "cell_type": "code",
      "execution_count": 58,
      "metadata": {
        "colab": {
          "base_uri": "https://localhost:8080/"
        },
        "id": "eYIxa0r7A1bj",
        "outputId": "4eaf0d71-a8ac-4905-c781-b491e193e032"
      },
      "outputs": [
        {
          "output_type": "stream",
          "name": "stdout",
          "text": [
            "True\n",
            "False\n"
          ]
        }
      ],
      "source": [
        "x = np.array([1,0,0])\n",
        "print(np.any(x))\n",
        "\n",
        "x = np.array([0,0,0])\n",
        "print(np.any(x))"
      ]
    },
    {
      "cell_type": "markdown",
      "metadata": {
        "id": "9-hHlgbhA1bk"
      },
      "source": [
        "## Array contents\n"
      ]
    },
    {
      "cell_type": "markdown",
      "metadata": {
        "id": "7-c_kchbA1bl"
      },
      "source": [
        "Q3. Predict the result of the following code."
      ]
    },
    {
      "cell_type": "code",
      "execution_count": 59,
      "metadata": {
        "id": "w01PcLM_A1bl"
      },
      "outputs": [],
      "source": [
        "x = np.array([1, 0, np.nan, np.inf])\n",
        "#print np.isfinite(x)"
      ]
    },
    {
      "cell_type": "markdown",
      "metadata": {
        "id": "88lhmH6LA1bm"
      },
      "source": [
        "Q4. Predict the result of the following code."
      ]
    },
    {
      "cell_type": "code",
      "execution_count": 60,
      "metadata": {
        "id": "ldPy-c50A1bm"
      },
      "outputs": [],
      "source": [
        "x = np.array([1, 0, np.nan, np.inf])\n",
        "#print np.isinf(x)"
      ]
    },
    {
      "cell_type": "markdown",
      "metadata": {
        "id": "wh4lgacGA1bm"
      },
      "source": [
        "Q5. Predict the result of the following code."
      ]
    },
    {
      "cell_type": "code",
      "execution_count": 61,
      "metadata": {
        "collapsed": true,
        "id": "z4QlUj_1A1bm"
      },
      "outputs": [],
      "source": [
        "x = np.array([1, 0, np.nan, np.inf])\n",
        "#print np.isnan(x)"
      ]
    },
    {
      "cell_type": "markdown",
      "metadata": {
        "id": "Rm6ayu_4A1bn"
      },
      "source": [
        "## Array type testing"
      ]
    },
    {
      "cell_type": "markdown",
      "metadata": {
        "id": "sJNRVA1yA1bn"
      },
      "source": [
        "Q6. Predict the result of the following code."
      ]
    },
    {
      "cell_type": "code",
      "execution_count": 62,
      "metadata": {
        "id": "7ANn7nV9A1bo"
      },
      "outputs": [],
      "source": [
        "x = np.array([1+1j, 1+0j, 4.5, 3, 2, 2j])\n",
        "#print np.iscomplex(x)"
      ]
    },
    {
      "cell_type": "markdown",
      "metadata": {
        "id": "8TywH6PhA1bo"
      },
      "source": [
        "Q7. Predict the result of the following code."
      ]
    },
    {
      "cell_type": "code",
      "execution_count": 63,
      "metadata": {
        "id": "7h6FSe6xA1bo"
      },
      "outputs": [],
      "source": [
        "x = np.array([1+1j, 1+0j, 4.5, 3, 2, 2j])\n",
        "#print np.isreal(x)"
      ]
    },
    {
      "cell_type": "markdown",
      "metadata": {
        "id": "Vq_7EDUaA1bp"
      },
      "source": [
        "Q8. Predict the result of the following code."
      ]
    },
    {
      "cell_type": "code",
      "execution_count": 64,
      "metadata": {
        "id": "GEmYYgxQA1bp"
      },
      "outputs": [],
      "source": [
        "#print np.isscalar(3)\n",
        "#print np.isscalar([3])\n",
        "#print np.isscalar(True)"
      ]
    },
    {
      "cell_type": "markdown",
      "metadata": {
        "id": "VCb9CyEgA1bq"
      },
      "source": [
        "## Logical operations"
      ]
    },
    {
      "cell_type": "markdown",
      "metadata": {
        "id": "RQIG6npGA1bq"
      },
      "source": [
        "Q9. Predict the result of the following code."
      ]
    },
    {
      "cell_type": "code",
      "execution_count": 65,
      "metadata": {
        "id": "vWlHI_5xA1bq"
      },
      "outputs": [],
      "source": [
        "#print np.logical_and([True, False], [False, False])\n",
        "#print np.logical_or([True, False, True], [True, False, False])\n",
        "#print np.logical_xor([True, False, True], [True, False, False])\n",
        "#print np.logical_not([True, False, 0, 1])\n"
      ]
    },
    {
      "cell_type": "markdown",
      "metadata": {
        "id": "6-WGWkL1A1bq"
      },
      "source": [
        "## Comparison"
      ]
    },
    {
      "cell_type": "markdown",
      "metadata": {
        "id": "cGB1XOnOA1bq"
      },
      "source": [
        "Q10. Predict the result of the following code."
      ]
    },
    {
      "cell_type": "code",
      "execution_count": 66,
      "metadata": {
        "id": "NfB0-daqA1br"
      },
      "outputs": [],
      "source": [
        "#print np.allclose([3], [2.999999])\n",
        "#print np.array_equal([3], [2.999999])"
      ]
    },
    {
      "cell_type": "markdown",
      "metadata": {
        "id": "pBWoSLcpA1br"
      },
      "source": [
        "Q11. Write numpy comparison functions such that they return the results as you see."
      ]
    },
    {
      "cell_type": "code",
      "execution_count": 67,
      "metadata": {
        "colab": {
          "base_uri": "https://localhost:8080/"
        },
        "id": "ZIFTR3tzA1br",
        "outputId": "5d7b4d41-ab17-41cc-f764-f09253c9a6bb"
      },
      "outputs": [
        {
          "output_type": "stream",
          "name": "stdout",
          "text": [
            "[ True False]\n",
            "[ True  True]\n",
            "[False False]\n",
            "[False  True]\n"
          ]
        }
      ],
      "source": [
        "x = np.array([4, 5])\n",
        "y = np.array([2, 5])\n",
        "print(np.greater(x, y))\n",
        "print(np.greater_equal(x, y))\n",
        "print(np.less(x, y))\n",
        "print(np.less_equal(x, y))"
      ]
    },
    {
      "cell_type": "markdown",
      "metadata": {
        "id": "EPHZ-LSSA1bs"
      },
      "source": [
        "Q12. Predict the result of the following code."
      ]
    },
    {
      "cell_type": "code",
      "execution_count": 68,
      "metadata": {
        "colab": {
          "base_uri": "https://localhost:8080/"
        },
        "id": "G4siNq12A1bs",
        "outputId": "bdda543a-c52e-4090-a1c3-776968a67adc"
      },
      "outputs": [
        {
          "output_type": "stream",
          "name": "stdout",
          "text": [
            "[ True False]\n",
            "[ True  True]\n"
          ]
        }
      ],
      "source": [
        "print(np.equal([1, 2], [1, 2.000001]))\n",
        "print(np.isclose([1, 2], [1, 2.000001]))"
      ]
    },
    {
      "cell_type": "code",
      "execution_count": 68,
      "metadata": {
        "collapsed": true,
        "id": "vXNn9euRA1bt"
      },
      "outputs": [],
      "source": []
    }
  ],
  "metadata": {
    "kernelspec": {
      "display_name": "Python 3",
      "name": "python3"
    },
    "language_info": {
      "name": "python"
    },
    "colab": {
      "provenance": [],
      "include_colab_link": true
    }
  },
  "nbformat": 4,
  "nbformat_minor": 0
}