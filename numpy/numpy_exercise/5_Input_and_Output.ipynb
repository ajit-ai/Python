{
  "cells": [
    {
      "cell_type": "markdown",
      "metadata": {
        "id": "view-in-github",
        "colab_type": "text"
      },
      "source": [
        "<a href=\"https://colab.research.google.com/github/ajit-ai/Python/blob/main/numpy/numpy_exercise/5_Input_and_Output.ipynb\" target=\"_parent\"><img src=\"https://colab.research.google.com/assets/colab-badge.svg\" alt=\"Open In Colab\"/></a>"
      ]
    },
    {
      "cell_type": "markdown",
      "metadata": {
        "id": "HncHmnKl6f2L"
      },
      "source": [
        "# Input and Output"
      ]
    },
    {
      "cell_type": "code",
      "execution_count": 28,
      "metadata": {
        "collapsed": true,
        "id": "dW26RB__6f2N"
      },
      "outputs": [],
      "source": [
        "from __future__ import print_function\n",
        "import numpy as np"
      ]
    },
    {
      "cell_type": "code",
      "execution_count": 29,
      "metadata": {
        "collapsed": true,
        "id": "Vuu3Nut76f2P"
      },
      "outputs": [],
      "source": [
        "author = \"kyubyong. https://github.com/Kyubyong/numpy_exercises\""
      ]
    },
    {
      "cell_type": "code",
      "execution_count": 30,
      "metadata": {
        "colab": {
          "base_uri": "https://localhost:8080/",
          "height": 35
        },
        "id": "T0kfAr1Z6f2Q",
        "outputId": "9c8449fe-343c-42b1-e903-8646b23bf5b9"
      },
      "outputs": [
        {
          "output_type": "execute_result",
          "data": {
            "text/plain": [
              "'2.0.2'"
            ],
            "application/vnd.google.colaboratory.intrinsic+json": {
              "type": "string"
            }
          },
          "metadata": {},
          "execution_count": 30
        }
      ],
      "source": [
        "np.__version__"
      ]
    },
    {
      "cell_type": "code",
      "execution_count": 31,
      "metadata": {
        "colab": {
          "base_uri": "https://localhost:8080/"
        },
        "id": "UC86O77X6f2R",
        "outputId": "c7c58f72-fac3-4463-c8d6-1a93797ea56d"
      },
      "outputs": [
        {
          "output_type": "stream",
          "name": "stdout",
          "text": [
            "2025-07-02\n"
          ]
        }
      ],
      "source": [
        "from datetime import date\n",
        "print(date.today())"
      ]
    },
    {
      "cell_type": "markdown",
      "metadata": {
        "id": "HkcYE9DM6f2R"
      },
      "source": [
        "## NumPy binary files (NPY, NPZ)"
      ]
    },
    {
      "cell_type": "markdown",
      "metadata": {
        "id": "tr3dsPgM6f2S"
      },
      "source": [
        "Q1. Save x into `temp.npy` and load it."
      ]
    },
    {
      "cell_type": "code",
      "execution_count": 32,
      "metadata": {
        "id": "tJed0-4I6f2S"
      },
      "outputs": [],
      "source": [
        "x = np.arange(10)\n",
        "...\n",
        "\n",
        "# Check if there exists the 'temp.npy' file.\n",
        "import os\n",
        "if os.path.exists('temp.npy'):\n",
        "    x2 = ...\n",
        "    print(np.array_equal(x, x2))\n"
      ]
    },
    {
      "cell_type": "markdown",
      "metadata": {
        "id": "ZNAN7HcM6f2T"
      },
      "source": [
        "Q2. Save x and y into a single file 'temp.npz' and load it."
      ]
    },
    {
      "cell_type": "code",
      "execution_count": 33,
      "metadata": {
        "colab": {
          "base_uri": "https://localhost:8080/"
        },
        "id": "htUxPgmg6f2T",
        "outputId": "8c444c86-1ed0-40f2-fe60-718f6f93c4e7"
      },
      "outputs": [
        {
          "output_type": "stream",
          "name": "stdout",
          "text": [
            "True\n",
            "True\n"
          ]
        }
      ],
      "source": [
        "x = np.arange(10)\n",
        "y = np.arange(11, 20)\n",
        "np.savez('temp.npz', x=x, y=y)\n",
        "\n",
        "with np.load('temp.npz') as data:\n",
        "    x2 = data['x']\n",
        "    y2 = data['y']\n",
        "    print(np.array_equal(x, x2))\n",
        "    print(np.array_equal(y, y2))"
      ]
    },
    {
      "cell_type": "markdown",
      "metadata": {
        "id": "9by0TT8y6f2U"
      },
      "source": [
        "## Text files"
      ]
    },
    {
      "cell_type": "markdown",
      "metadata": {
        "id": "FDw6qour6f2U"
      },
      "source": [
        "Q3. Save x to 'temp.txt' in string format and load it."
      ]
    },
    {
      "cell_type": "code",
      "execution_count": 34,
      "metadata": {
        "colab": {
          "base_uri": "https://localhost:8080/"
        },
        "id": "u8JsM0UG6f2U",
        "outputId": "e1c19ad4-e8fb-4b7e-a555-afb8ecf6be06"
      },
      "outputs": [
        {
          "output_type": "execute_result",
          "data": {
            "text/plain": [
              "Ellipsis"
            ]
          },
          "metadata": {},
          "execution_count": 34
        }
      ],
      "source": [
        "x = np.arange(10).reshape(2, 5)\n",
        "header = 'num1 num2 num3 num4 num5'\n",
        "...\n",
        "..."
      ]
    },
    {
      "cell_type": "markdown",
      "metadata": {
        "id": "dApqsTch6f2V"
      },
      "source": [
        "Q4. Save `x`, `y`, and `z` to 'temp.txt' in string format line by line, then load it."
      ]
    },
    {
      "cell_type": "code",
      "execution_count": 35,
      "metadata": {
        "colab": {
          "base_uri": "https://localhost:8080/"
        },
        "id": "RZkoO_Cm6f2V",
        "outputId": "e772de4a-d9a8-4614-e529-b958e2c52d5d"
      },
      "outputs": [
        {
          "output_type": "execute_result",
          "data": {
            "text/plain": [
              "Ellipsis"
            ]
          },
          "metadata": {},
          "execution_count": 35
        }
      ],
      "source": [
        "x = np.arange(10)\n",
        "y = np.arange(11, 21)\n",
        "z = np.arange(22, 32)\n",
        "...\n",
        "..."
      ]
    },
    {
      "cell_type": "markdown",
      "metadata": {
        "id": "yXi41fc06f2W"
      },
      "source": [
        "Q5. Convert `x` into bytes, and load it as array."
      ]
    },
    {
      "cell_type": "code",
      "execution_count": 36,
      "metadata": {
        "colab": {
          "base_uri": "https://localhost:8080/"
        },
        "id": "t0x6C-vC6f2W",
        "outputId": "da04c909-0cd9-4c0c-c373-66b805cb97df"
      },
      "outputs": [
        {
          "output_type": "stream",
          "name": "stdout",
          "text": [
            "False\n"
          ]
        }
      ],
      "source": [
        "x = np.array([1, 2, 3, 4])\n",
        "x_bytes = ...\n",
        "x2 = ...\n",
        "print(np.array_equal(x, x2))\n"
      ]
    },
    {
      "cell_type": "markdown",
      "metadata": {
        "id": "TtkBvrHW6f2W"
      },
      "source": [
        "Q6. Convert `a` into an ndarray and then convert it into a list again."
      ]
    },
    {
      "cell_type": "code",
      "execution_count": 37,
      "metadata": {
        "colab": {
          "base_uri": "https://localhost:8080/"
        },
        "id": "u8-gEkzc6f2W",
        "outputId": "4fee0461-85ad-4cdb-fab8-ac43e3533cef"
      },
      "outputs": [
        {
          "output_type": "stream",
          "name": "stdout",
          "text": [
            "False\n"
          ]
        }
      ],
      "source": [
        "a = [[1, 2], [3, 4]]\n",
        "x = ...\n",
        "a2 = ...\n",
        "print(a == a2)"
      ]
    },
    {
      "cell_type": "markdown",
      "metadata": {
        "id": "B9lAz_Hw6f2X"
      },
      "source": [
        "## String formatting¶"
      ]
    },
    {
      "cell_type": "markdown",
      "metadata": {
        "id": "G_RujoC86f2X"
      },
      "source": [
        "Q7. Convert `x` to a string, and revert it."
      ]
    },
    {
      "cell_type": "code",
      "execution_count": 38,
      "metadata": {
        "colab": {
          "base_uri": "https://localhost:8080/"
        },
        "id": "RhrH4s0n6f2X",
        "outputId": "9e87c8f4-addb-414f-8860-7c22bf374c3e"
      },
      "outputs": [
        {
          "output_type": "stream",
          "name": "stdout",
          "text": [
            "[[0 1 2 3 4]\n",
            " [5 6 7 8 9]] \n",
            " <class 'str'>\n"
          ]
        }
      ],
      "source": [
        "x = np.arange(10).reshape(2,5)\n",
        "x_str = np.array2string(x)\n",
        "print(x_str, \"\\n\", type(x_str))\n",
        "x_str = x_str.replace(\"[\", \"\") # [] must be stripped\n",
        "x_str = x_str.replace(\"]\", \"\")\n",
        "x2 = np.fromstring(x_str, dtype=x.dtype, sep=' ').reshape(x.shape)\n",
        "assert np.array_equal(x, x2)"
      ]
    },
    {
      "cell_type": "markdown",
      "metadata": {
        "id": "MgSrqsMH6f2Y"
      },
      "source": [
        "## Text formatting options"
      ]
    },
    {
      "cell_type": "markdown",
      "metadata": {
        "id": "zl6qVCbL6f2Y"
      },
      "source": [
        "Q8. Print `x` such that all elements are displayed with precision=1, no suppress."
      ]
    },
    {
      "cell_type": "code",
      "execution_count": 39,
      "metadata": {
        "colab": {
          "base_uri": "https://localhost:8080/"
        },
        "id": "3VzxILal6f2Y",
        "outputId": "271be537-0724-46f4-8947-c23c9ecf810e"
      },
      "outputs": [
        {
          "output_type": "stream",
          "name": "stdout",
          "text": [
            "[[0.4 1.  0.8 0.3 0.5 0.9 0.5 0.1 0.4 0.1 0.1 0.8 0.9 0.1 0.8 0.1 0.5 0.\n",
            "  0.  0.2 1.  0.3 0.8 0.1 0.1 0.9 0.1 0.5 0.8 0.4 0.4 0.6 0.6 0.1 0.8 0.7\n",
            "  0.5 0.5 0.9 0.9 0.  0.5 0.7 0.2 0.3 0.5 0.  0.6 0.3 0.9 0.8 0.3 0.8 0.4\n",
            "  0.4 0.9 0.4 0.2 0.2 0.5 0.6 0.8 0.6 0.3 0.6 0.4 0.  0.5 0.4 0.5 0.3 0.3\n",
            "  0.7 0.3 1.  0.8 0.5 0.5 0.1 0.8 0.2 0.9 0.4 0.3 0.3 0.7 0.4 0.6 0.4 0.1\n",
            "  0.9 0.8 0.  0.5 0.4 0.2 0.1 0.7 0.7 0.3]\n",
            " [0.4 0.9 0.5 0.  0.  0.9 0.2 1.  0.1 0.1 0.8 0.5 0.5 0.2 0.4 0.8 0.2 0.5\n",
            "  0.5 0.3 0.7 0.2 0.6 0.7 0.6 0.1 0.9 0.4 0.6 0.3 0.9 0.5 0.9 1.  0.6 0.6\n",
            "  0.7 0.8 0.4 0.3 0.6 0.5 0.1 0.4 0.  0.2 1.  0.3 0.9 0.5 0.4 0.7 0.8 0.6\n",
            "  0.5 0.7 0.3 0.3 0.4 0.9 0.8 1.  0.4 0.4 0.5 0.9 0.2 0.2 0.6 0.8 0.4 0.3\n",
            "  0.7 0.9 0.9 0.4 0.3 0.9 0.1 0.7 0.2 0.2 0.3 0.8 0.5 0.3 0.9 0.2 0.4 0.6\n",
            "  0.6 1.  0.9 0.2 0.2 0.9 0.5 0.2 0.  0.4]\n",
            " [0.3 0.9 0.5 0.6 0.7 0.6 0.1 0.1 0.9 0.8 0.8 0.6 0.1 0.7 0.2 0.7 0.5 0.6\n",
            "  0.9 0.8 0.7 0.7 0.  0.  0.7 0.7 0.3 0.4 1.  0.5 0.9 0.  0.8 0.5 0.7 0.5\n",
            "  1.  0.5 0.7 0.2 0.7 0.4 0.9 0.8 0.9 0.8 0.3 0.  0.4 0.8 0.1 0.5 0.7 0.9\n",
            "  0.1 0.4 0.6 1.  0.6 1.  0.5 0.4 0.3 0.7 0.5 0.2 0.2 0.  0.9 0.  0.9 0.1\n",
            "  0.6 0.7 0.2 0.2 0.2 0.4 0.5 0.9 0.6 0.6 0.1 0.2 0.  0.2 0.8 0.3 0.5 0.6\n",
            "  0.1 0.4 0.6 0.7 0.  0.7 0.1 0.  0.1 0.4]\n",
            " [0.3 0.9 0.5 0.7 0.  0.3 0.7 0.2 0.4 0.3 0.  0.8 0.9 0.3 0.7 0.4 0.8 0.7\n",
            "  0.  0.4 0.5 0.3 0.7 0.5 0.8 0.7 0.7 0.1 0.5 0.8 1.  0.4 0.6 0.2 0.8 0.1\n",
            "  0.3 0.4 0.4 0.3 0.4 0.6 0.6 1.  0.6 0.4 0.1 0.4 0.9 0.7 0.9 0.6 0.2 0.2\n",
            "  0.5 0.1 0.  0.8 0.6 0.4 0.5 0.6 0.9 0.  0.4 0.8 0.1 0.1 0.8 1.  0.9 0.5\n",
            "  0.4 0.2 0.2 1.  0.1 0.9 0.9 1.  0.8 0.1 0.1 0.5 0.3 0.1 0.6 0.2 0.4 0.2\n",
            "  0.1 0.3 0.9 0.7 0.5 0.1 0.1 0.3 0.6 0.3]\n",
            " [0.2 0.1 0.8 0.7 0.8 0.7 0.5 0.9 0.9 1.  0.2 0.6 1.  0.8 0.9 0.2 0.2 0.6\n",
            "  0.3 0.8 0.9 0.3 0.1 0.8 0.5 0.7 0.1 0.4 0.9 0.4 0.3 0.6 0.1 0.8 0.7 0.1\n",
            "  0.5 1.  0.1 0.  0.7 0.4 0.4 0.7 0.5 0.1 0.2 0.9 0.1 0.  0.1 0.6 0.5 1.\n",
            "  0.3 0.  0.5 0.6 0.2 0.4 0.2 0.3 0.3 0.7 0.  0.7 0.4 0.5 0.5 0.5 0.1 0.1\n",
            "  0.6 0.4 0.6 0.5 0.1 0.4 0.4 0.3 0.8 0.2 0.3 0.4 0.6 0.6 0.  0.8 0.4 0.2\n",
            "  0.9 0.9 0.8 0.9 0.1 0.8 0.6 0.8 0.9 0.4]\n",
            " [0.9 0.5 0.2 0.5 0.4 0.1 0.1 0.2 0.8 0.1 0.7 0.2 0.9 0.3 0.4 0.1 0.2 0.6\n",
            "  0.4 1.  0.9 0.2 0.2 0.  0.4 0.  0.  0.8 0.7 0.6 0.7 0.7 0.  1.  0.2 0.6\n",
            "  0.3 0.2 0.6 0.3 0.6 0.2 0.3 0.3 0.9 0.2 0.5 0.3 0.9 0.4 1.  0.1 0.2 0.2\n",
            "  0.2 0.2 0.3 0.4 0.2 0.7 0.3 0.1 0.5 0.4 0.9 0.2 0.  0.7 0.4 0.5 0.6 0.\n",
            "  0.  0.8 0.3 0.2 0.7 0.2 0.5 0.4 0.4 0.1 0.1 0.2 0.4 0.4 0.3 0.8 0.6 0.4\n",
            "  0.3 0.8 0.8 0.3 0.4 0.8 0.7 0.1 0.9 0.2]\n",
            " [0.2 0.4 0.2 0.6 0.7 0.6 0.9 0.6 0.8 0.8 0.1 0.9 0.5 0.7 0.  0.5 0.7 0.3\n",
            "  0.8 0.8 0.8 0.3 0.5 0.4 0.4 0.8 0.8 0.3 0.8 0.9 1.  0.9 0.2 0.1 0.4 0.4\n",
            "  0.2 0.9 0.8 0.7 1.  0.4 0.8 0.3 0.4 0.5 0.9 0.9 0.1 0.6 0.6 0.8 0.7 0.3\n",
            "  0.6 0.3 0.6 0.9 0.1 0.6 0.9 0.5 0.9 0.6 0.6 0.5 0.7 0.8 0.1 0.8 0.5 0.4\n",
            "  0.7 0.7 0.6 0.2 0.8 0.5 0.1 0.9 0.3 0.5 0.4 0.1 0.4 0.2 0.8 1.  0.2 0.7\n",
            "  0.8 0.9 0.8 0.8 0.  0.1 0.5 0.4 0.4 0.6]\n",
            " [0.1 0.4 0.1 0.1 0.3 0.1 0.8 0.1 0.7 0.2 0.7 0.8 1.  0.3 0.8 0.4 0.1 0.3\n",
            "  0.9 0.4 0.1 0.1 0.6 0.8 1.  0.5 0.3 0.3 0.4 0.8 0.2 1.  0.1 0.6 0.6 0.7\n",
            "  0.2 0.4 0.5 0.3 0.8 0.6 1.  1.  0.7 0.1 0.6 0.8 0.1 0.2 0.6 0.7 0.2 0.\n",
            "  0.8 0.7 0.4 0.3 0.2 0.6 0.  0.1 0.  0.6 0.9 0.7 0.7 0.  0.1 0.1 0.3 0.7\n",
            "  0.6 0.9 0.7 0.  0.7 0.4 0.5 0.2 0.9 0.6 0.1 0.7 0.3 0.2 0.1 0.9 0.3 0.8\n",
            "  0.5 0.6 0.6 0.8 0.  0.4 0.2 0.5 0.4 0.8]\n",
            " [0.3 0.8 0.5 0.9 0.4 0.1 0.7 0.9 0.4 0.3 0.7 0.  0.4 0.4 0.5 0.6 0.5 0.2\n",
            "  0.6 1.  0.5 0.3 0.  0.1 0.3 0.  0.3 0.2 0.9 0.3 0.7 0.1 0.7 0.5 0.6 0.6\n",
            "  0.7 0.8 0.4 0.8 0.4 0.8 0.8 0.9 0.8 0.5 0.9 0.9 1.  0.7 0.1 0.5 1.  0.8\n",
            "  0.2 0.3 0.1 0.6 0.6 0.4 0.4 0.1 0.9 1.  1.  0.1 0.1 0.2 0.9 0.9 0.2 0.1\n",
            "  0.8 0.3 0.4 0.2 0.3 0.7 0.4 0.1 1.  0.4 0.9 0.5 0.9 0.9 0.4 0.8 0.2 0.2\n",
            "  0.  0.7 0.3 0.1 0.4 0.2 0.3 0.5 0.5 0.7]\n",
            " [0.1 0.1 0.  0.4 0.9 0.7 0.2 0.6 0.3 0.7 0.5 0.5 0.4 0.7 0.3 0.5 0.3 0.7\n",
            "  0.8 0.3 0.3 0.2 0.9 0.6 1.  0.5 0.1 0.6 0.8 0.3 1.  0.4 0.5 0.2 0.9 0.7\n",
            "  0.6 0.3 1.  0.2 0.4 0.7 1.  0.7 0.7 0.1 0.7 0.1 0.6 0.4 0.8 0.2 0.  0.8\n",
            "  0.5 0.9 0.1 0.6 0.8 0.7 0.5 0.9 0.1 0.6 0.4 0.1 0.9 0.7 0.9 0.2 1.  0.7\n",
            "  0.7 1.  0.9 0.6 0.1 0.4 0.6 0.2 0.4 0.5 0.5 0.2 0.4 0.7 0.1 0.5 0.3 0.1\n",
            "  0.9 0.4 0.7 0.4 0.3 1.  0.6 0.5 0.2 0.4]]\n"
          ]
        }
      ],
      "source": [
        "x = np.random.uniform(size=[10,100])\n",
        "np.set_printoptions(precision=1, suppress=False)\n",
        "print(x)"
      ]
    },
    {
      "cell_type": "markdown",
      "metadata": {
        "id": "Sob5NrA36f2Y"
      },
      "source": [
        "## Base-n representations"
      ]
    },
    {
      "cell_type": "markdown",
      "metadata": {
        "id": "4LSI6m_e6f2Z"
      },
      "source": [
        "Q9. Convert 12 into a binary number in string format."
      ]
    },
    {
      "cell_type": "code",
      "execution_count": 40,
      "metadata": {
        "colab": {
          "base_uri": "https://localhost:8080/",
          "height": 35
        },
        "id": "hl33Xl0t6f2Z",
        "outputId": "b275ea11-f990-4e75-d114-0d85b440ba40"
      },
      "outputs": [
        {
          "output_type": "execute_result",
          "data": {
            "text/plain": [
              "'0b1100'"
            ],
            "application/vnd.google.colaboratory.intrinsic+json": {
              "type": "string"
            }
          },
          "metadata": {},
          "execution_count": 40
        }
      ],
      "source": [
        "# prompt: Convert 12 into a binary number in string format.\n",
        "\n",
        "bin(12)"
      ]
    },
    {
      "cell_type": "markdown",
      "metadata": {
        "id": "PDHLlNUm6f2Z"
      },
      "source": [
        "Q10. Convert 12 into a hexadecimal number in string format."
      ]
    },
    {
      "cell_type": "code",
      "execution_count": 41,
      "metadata": {
        "colab": {
          "base_uri": "https://localhost:8080/",
          "height": 35
        },
        "id": "_YqbyBHH6f2Z",
        "outputId": "22084ce8-0dd3-4691-c6f8-811320c4e225"
      },
      "outputs": [
        {
          "output_type": "execute_result",
          "data": {
            "text/plain": [
              "'0xc'"
            ],
            "application/vnd.google.colaboratory.intrinsic+json": {
              "type": "string"
            }
          },
          "metadata": {},
          "execution_count": 41
        }
      ],
      "source": [
        "# prompt: Convert 12 into a hexadecimal number in string format.\n",
        "\n",
        "hex(12)"
      ]
    }
  ],
  "metadata": {
    "anaconda-cloud": {},
    "kernelspec": {
      "display_name": "Python [conda root]",
      "language": "python",
      "name": "conda-root-py"
    },
    "language_info": {
      "codemirror_mode": {
        "name": "ipython",
        "version": 3
      },
      "file_extension": ".py",
      "mimetype": "text/x-python",
      "name": "python",
      "nbconvert_exporter": "python",
      "pygments_lexer": "ipython3",
      "version": "3.5.2"
    },
    "colab": {
      "provenance": [],
      "include_colab_link": true
    }
  },
  "nbformat": 4,
  "nbformat_minor": 0
}