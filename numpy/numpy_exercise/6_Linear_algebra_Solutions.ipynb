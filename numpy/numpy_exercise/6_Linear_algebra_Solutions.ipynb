{
  "cells": [
    {
      "cell_type": "markdown",
      "metadata": {
        "id": "view-in-github",
        "colab_type": "text"
      },
      "source": [
        "<a href=\"https://colab.research.google.com/github/ajit-ai/Python/blob/main/numpy/numpy_exercise/6_Linear_algebra_Solutions.ipynb\" target=\"_parent\"><img src=\"https://colab.research.google.com/assets/colab-badge.svg\" alt=\"Open In Colab\"/></a>"
      ]
    },
    {
      "cell_type": "markdown",
      "metadata": {
        "id": "mUIIz56A8F9k"
      },
      "source": [
        "# Linear algebra"
      ]
    },
    {
      "cell_type": "code",
      "execution_count": 6,
      "metadata": {
        "collapsed": true,
        "id": "ZHgK2L2e8F9m"
      },
      "outputs": [],
      "source": [
        "import numpy as np"
      ]
    },
    {
      "cell_type": "code",
      "execution_count": 7,
      "metadata": {
        "colab": {
          "base_uri": "https://localhost:8080/",
          "height": 35
        },
        "id": "_koJ0OsN8F9n",
        "outputId": "08ff0334-8d78-497f-8965-61e97e6451a0"
      },
      "outputs": [
        {
          "output_type": "execute_result",
          "data": {
            "text/plain": [
              "'2.0.2'"
            ],
            "application/vnd.google.colaboratory.intrinsic+json": {
              "type": "string"
            }
          },
          "metadata": {},
          "execution_count": 7
        }
      ],
      "source": [
        "np.__version__"
      ]
    },
    {
      "cell_type": "markdown",
      "metadata": {
        "id": "VpA6sRDi8F9o"
      },
      "source": [
        "## Matrix and vector products"
      ]
    },
    {
      "cell_type": "markdown",
      "metadata": {
        "id": "jsL26Et48F9p"
      },
      "source": [
        "Q1. Predict the results of the following code."
      ]
    },
    {
      "cell_type": "code",
      "execution_count": 8,
      "metadata": {
        "colab": {
          "base_uri": "https://localhost:8080/"
        },
        "id": "eJLUYkE68F9p",
        "outputId": "631312e7-1666-4d66-dfe2-91bfbd7f76e0"
      },
      "outputs": [
        {
          "output_type": "stream",
          "name": "stdout",
          "text": [
            "[8 5]\n",
            "[6 6]\n",
            "[8 5]\n",
            "[6 6]\n",
            "[6 6]\n"
          ]
        }
      ],
      "source": [
        "x = [1,2]\n",
        "y = [[4, 1], [2, 2]]\n",
        "print(np.dot(x, y))\n",
        "print(np.dot(y, x))\n",
        "print(np.matmul(x, y))\n",
        "print(np.inner(x, y))\n",
        "print(np.inner(y, x))"
      ]
    },
    {
      "cell_type": "markdown",
      "metadata": {
        "id": "sD7HRXIx8F9q"
      },
      "source": [
        "Q2. Predict the results of the following code."
      ]
    },
    {
      "cell_type": "code",
      "execution_count": 12,
      "metadata": {
        "colab": {
          "base_uri": "https://localhost:8080/"
        },
        "id": "Ztm3J2_A8F9q",
        "outputId": "3e144235-730e-4459-95a9-570cf9f0a383"
      },
      "outputs": [
        {
          "output_type": "stream",
          "name": "stdout",
          "text": [
            "[[4 1]\n",
            " [2 2]\n",
            " [1 1]]\n",
            "[[4 1]\n",
            " [2 2]\n",
            " [1 1]]\n"
          ]
        }
      ],
      "source": [
        "x = [[1, 0], [0, 1]]\n",
        "y = [[4, 1], [2, 2], [1, 1]]\n",
        "print(np.dot(y, x))\n",
        "print(np.matmul(y, x))"
      ]
    },
    {
      "cell_type": "markdown",
      "metadata": {
        "id": "4KALXIlC8F9r"
      },
      "source": [
        "Q3. Predict the results of the following code."
      ]
    },
    {
      "cell_type": "code",
      "execution_count": 13,
      "metadata": {
        "colab": {
          "base_uri": "https://localhost:8080/"
        },
        "id": "LstTIvo68F9r",
        "outputId": "ab9cfd8e-80a4-49b8-be05-ce6015e92f56"
      },
      "outputs": [
        {
          "output_type": "stream",
          "name": "stdout",
          "text": [
            "30\n",
            "30\n",
            "30\n",
            "30\n",
            "30\n"
          ]
        }
      ],
      "source": [
        "x = np.array([[1, 4], [5, 6]])\n",
        "y = np.array([[4, 1], [2, 2]])\n",
        "print(np.vdot(x, y))\n",
        "print(np.vdot(y, x))\n",
        "print(np.dot(x.flatten(), y.flatten()))\n",
        "print(np.inner(x.flatten(), y.flatten()))\n",
        "print((x*y).sum())"
      ]
    },
    {
      "cell_type": "markdown",
      "metadata": {
        "id": "OG9iXQGH8F9s"
      },
      "source": [
        "Q4. Predict the results of the following code."
      ]
    },
    {
      "cell_type": "code",
      "execution_count": 15,
      "metadata": {
        "colab": {
          "base_uri": "https://localhost:8080/"
        },
        "id": "0AXiN0el8F9s",
        "outputId": "8d8d9a11-ae41-4a9d-a932-49dd2f29816d"
      },
      "outputs": [
        {
          "output_type": "stream",
          "name": "stdout",
          "text": [
            "abb\n",
            "abb\n",
            "[['a' 'aa']\n",
            " ['b' 'bb']]\n",
            "[['a' 'b']\n",
            " ['aa' 'bb']]\n"
          ]
        }
      ],
      "source": [
        "x = np.array(['a', 'b'], dtype=object)\n",
        "y = np.array([1, 2])\n",
        "print(np.inner(x, y))\n",
        "print(np.inner(y, x))\n",
        "print(np.outer(x, y))\n",
        "print(np.outer(y, x))"
      ]
    },
    {
      "cell_type": "markdown",
      "metadata": {
        "id": "QUTYJO2_8F9s"
      },
      "source": [
        "## Decompositions"
      ]
    },
    {
      "cell_type": "markdown",
      "metadata": {
        "id": "uY_J31oi8F9t"
      },
      "source": [
        "Q5. Get the lower-trianglular `L` in the Cholesky decomposition of x and verify it."
      ]
    },
    {
      "cell_type": "code",
      "execution_count": 17,
      "metadata": {
        "colab": {
          "base_uri": "https://localhost:8080/"
        },
        "id": "xgpjn3b48F9t",
        "outputId": "9f7b8769-1e50-4d6f-e92e-289809f8464c"
      },
      "outputs": [
        {
          "output_type": "stream",
          "name": "stdout",
          "text": [
            "[[ 2.  0.  0.]\n",
            " [ 6.  1.  0.]\n",
            " [-8.  5.  3.]]\n"
          ]
        }
      ],
      "source": [
        "x = np.array([[4, 12, -16], [12, 37, -43], [-16, -43, 98]], dtype=np.int32)\n",
        "L = np.linalg.cholesky(x)\n",
        "print(L)\n",
        "assert np.array_equal(np.dot(L, L.T.conjugate()), x)"
      ]
    },
    {
      "cell_type": "markdown",
      "metadata": {
        "id": "eOYfWgtx8F9t"
      },
      "source": [
        "Q6. Compute the qr factorization of x and verify it."
      ]
    },
    {
      "cell_type": "code",
      "execution_count": 19,
      "metadata": {
        "colab": {
          "base_uri": "https://localhost:8080/"
        },
        "id": "9uUFQk_68F9t",
        "outputId": "ec227cf3-a6ee-4ddf-af8c-68abb9ed836c"
      },
      "outputs": [
        {
          "output_type": "stream",
          "name": "stdout",
          "text": [
            "q=\n",
            " [[-0.85714287  0.3942857   0.33142856]\n",
            " [-0.42857143 -0.9028571  -0.03428571]\n",
            " [ 0.2857143  -0.17142858  0.94285715]] \n",
            "r=\n",
            " [[ -14.  -21.   14.]\n",
            " [   0. -175.   70.]\n",
            " [   0.    0.  -35.]]\n"
          ]
        }
      ],
      "source": [
        "x = np.array([[12, -51, 4], [6, 167, -68], [-4, 24, -41]], dtype=np.float32)\n",
        "q, r = np.linalg.qr(x)\n",
        "print(\"q=\\n\", q, \"\\nr=\\n\", r)\n",
        "assert np.allclose(np.dot(q, r), x)"
      ]
    },
    {
      "cell_type": "markdown",
      "metadata": {
        "id": "UcvWPaaU8F9u"
      },
      "source": [
        "Q7. Factor x by Singular Value Decomposition and verify it."
      ]
    },
    {
      "cell_type": "code",
      "execution_count": 21,
      "metadata": {
        "colab": {
          "base_uri": "https://localhost:8080/"
        },
        "id": "C6OYQLJK8F9u",
        "outputId": "927d67b4-f221-42f6-ca35-1f96962937bb"
      },
      "outputs": [
        {
          "output_type": "stream",
          "name": "stdout",
          "text": [
            "U=\n",
            " [[ 0.  1.  0.  0.]\n",
            " [ 1.  0.  0.  0.]\n",
            " [ 0.  0.  0.  1.]\n",
            " [ 0.  0. -1.  0.]] \n",
            "s=\n",
            " [3.       2.236068 2.       0.      ] \n",
            "V=\n",
            " [[-0.         0.         1.        -0.         0.       ]\n",
            " [ 0.4472136  0.         0.         0.         0.8944272]\n",
            " [ 0.        -1.         0.         0.         0.       ]\n",
            " [ 0.         0.         0.         1.         0.       ]]\n"
          ]
        }
      ],
      "source": [
        "x = np.array([[1, 0, 0, 0, 2], [0, 0, 3, 0, 0], [0, 0, 0, 0, 0], [0, 2, 0, 0, 0]], dtype=np.float32)\n",
        "U, s, V = np.linalg.svd(x, full_matrices=False)\n",
        "print(\"U=\\n\", U, \"\\ns=\\n\", s, \"\\nV=\\n\", V)\n",
        "assert np.allclose(np.dot(U, np.dot(np.diag(s), V)), x)"
      ]
    },
    {
      "cell_type": "markdown",
      "metadata": {
        "id": "1qJ1cMuc8F9v"
      },
      "source": [
        "## Matrix eigenvalues"
      ]
    },
    {
      "cell_type": "markdown",
      "metadata": {
        "id": "14UvNoD_8F9v"
      },
      "source": [
        "Q8. Compute the eigenvalues and right eigenvectors of x. (Name them eigenvals and eigenvecs, respectively)"
      ]
    },
    {
      "cell_type": "code",
      "execution_count": 23,
      "metadata": {
        "colab": {
          "base_uri": "https://localhost:8080/"
        },
        "id": "lO3RIG-08F9v",
        "outputId": "16643281-eee8-4dd8-bed5-89c3f144b487"
      },
      "outputs": [
        {
          "output_type": "stream",
          "name": "stdout",
          "text": [
            "eigenvalues are\n",
            " [1. 2. 3.]\n",
            "eigenvectors are\n",
            " [[1. 0. 0.]\n",
            " [0. 1. 0.]\n",
            " [0. 0. 1.]]\n"
          ]
        }
      ],
      "source": [
        "x = np.diag((1, 2, 3))\n",
        "eigenvals = np.linalg.eig(x)[0]\n",
        "eigenvals_ = np.linalg.eigvals(x)\n",
        "assert np.array_equal(eigenvals, eigenvals_)\n",
        "print(\"eigenvalues are\\n\", eigenvals)\n",
        "eigenvecs = np.linalg.eig(x)[1]\n",
        "print(\"eigenvectors are\\n\", eigenvecs)"
      ]
    },
    {
      "cell_type": "markdown",
      "metadata": {
        "id": "akPnNTaK8F9w"
      },
      "source": [
        "Q9. Predict the results of the following code."
      ]
    },
    {
      "cell_type": "code",
      "execution_count": 25,
      "metadata": {
        "colab": {
          "base_uri": "https://localhost:8080/"
        },
        "id": "yhdP5WTm8F9w",
        "outputId": "cc566036-ca25-4437-9c95-673de322d1ab"
      },
      "outputs": [
        {
          "output_type": "stream",
          "name": "stdout",
          "text": [
            "True\n"
          ]
        }
      ],
      "source": [
        "print(np.array_equal(np.dot(x, eigenvecs), eigenvals * eigenvecs))"
      ]
    },
    {
      "cell_type": "markdown",
      "metadata": {
        "id": "X5LO1JkL8F9w"
      },
      "source": [
        "## Norms and other numbers"
      ]
    },
    {
      "cell_type": "markdown",
      "metadata": {
        "id": "YMhTiugJ8F9w"
      },
      "source": [
        "Q10. Calculate the Frobenius norm and the condition number of x."
      ]
    },
    {
      "cell_type": "code",
      "execution_count": 27,
      "metadata": {
        "colab": {
          "base_uri": "https://localhost:8080/"
        },
        "id": "ArlplRJc8F9x",
        "outputId": "67cf6b48-2b1e-489f-f352-d6436f6d6b8a"
      },
      "outputs": [
        {
          "output_type": "stream",
          "name": "stdout",
          "text": [
            "16.881943016134134\n",
            "inf\n"
          ]
        }
      ],
      "source": [
        "x = np.arange(1, 10).reshape((3, 3))\n",
        "print(np.linalg.norm(x, 'fro'))\n",
        "print(np.linalg.cond(x, 'fro'))"
      ]
    },
    {
      "cell_type": "markdown",
      "metadata": {
        "id": "8AUxRWFs8F9x"
      },
      "source": [
        "Q11. Calculate the determinant of x."
      ]
    },
    {
      "cell_type": "code",
      "execution_count": 29,
      "metadata": {
        "colab": {
          "base_uri": "https://localhost:8080/"
        },
        "id": "ZREA91Qb8F9x",
        "outputId": "0c45ff8d-f4b3-479b-85ce-53b221304be1"
      },
      "outputs": [
        {
          "output_type": "stream",
          "name": "stdout",
          "text": [
            "-2.0000000000000004\n"
          ]
        }
      ],
      "source": [
        "x = np.arange(1, 5).reshape((2, 2))\n",
        "out1 = np.linalg.det(x)\n",
        "out2 = x[0, 0] * x[1, 1] - x[0, 1] * x[1, 0]\n",
        "assert np.allclose(out1, out2)\n",
        "print(out1)"
      ]
    },
    {
      "cell_type": "markdown",
      "metadata": {
        "id": "B_SbXav38F9x"
      },
      "source": [
        "Q12. Calculate the rank of x."
      ]
    },
    {
      "cell_type": "code",
      "execution_count": 31,
      "metadata": {
        "colab": {
          "base_uri": "https://localhost:8080/"
        },
        "id": "BM_LcLkR8F9x",
        "outputId": "d6ac8c7a-0f3c-4d10-b5ad-2d9cf6693418"
      },
      "outputs": [
        {
          "output_type": "stream",
          "name": "stdout",
          "text": [
            "4\n"
          ]
        }
      ],
      "source": [
        "x = np.eye(4)\n",
        "out1 = np.linalg.matrix_rank(x)\n",
        "out2 = np.linalg.svd(x)[1].size\n",
        "assert out1 == out2\n",
        "print(out1)"
      ]
    },
    {
      "cell_type": "markdown",
      "metadata": {
        "id": "IfYEBeCP8F9y"
      },
      "source": [
        "Q13. Compute the sign and natural logarithm of the determinant of x."
      ]
    },
    {
      "cell_type": "code",
      "execution_count": 33,
      "metadata": {
        "colab": {
          "base_uri": "https://localhost:8080/"
        },
        "id": "uDarYeyg8F9y",
        "outputId": "3e143529-e5e8-4fae-81b9-494f50c2db03"
      },
      "outputs": [
        {
          "output_type": "stream",
          "name": "stdout",
          "text": [
            "-1.0 0.6931471805599455\n"
          ]
        }
      ],
      "source": [
        "x = np.arange(1, 5).reshape((2, 2))\n",
        "sign, logdet = np.linalg.slogdet(x)\n",
        "det = np.linalg.det(x)\n",
        "assert sign == np.sign(det)\n",
        "assert logdet == np.log(np.abs(det))\n",
        "print(sign, logdet)"
      ]
    },
    {
      "cell_type": "markdown",
      "metadata": {
        "id": "u4j-BetT8F9y"
      },
      "source": [
        "Q14. Return the sum along the diagonal of x."
      ]
    },
    {
      "cell_type": "code",
      "execution_count": 34,
      "metadata": {
        "colab": {
          "base_uri": "https://localhost:8080/"
        },
        "id": "4KdPlHRZ8F9y",
        "outputId": "4e489dd2-ceb4-4bd0-ead4-517ccc0fd778"
      },
      "outputs": [
        {
          "output_type": "stream",
          "name": "stdout",
          "text": [
            "4.0\n"
          ]
        }
      ],
      "source": [
        "x = np.eye(4)\n",
        "out1 = np.trace(x)\n",
        "out2 = x.diagonal().sum()\n",
        "assert out1 == out2\n",
        "print(out1)"
      ]
    },
    {
      "cell_type": "markdown",
      "metadata": {
        "id": "1V2R8IMe8F9y"
      },
      "source": [
        "## Solving equations and inverting matrices"
      ]
    },
    {
      "cell_type": "markdown",
      "metadata": {
        "collapsed": false,
        "id": "L5uIbQ4e8F9z"
      },
      "source": [
        "Q15. Compute the inverse of x."
      ]
    },
    {
      "cell_type": "code",
      "execution_count": 36,
      "metadata": {
        "colab": {
          "base_uri": "https://localhost:8080/"
        },
        "id": "j0Dj6TlP8F9z",
        "outputId": "8e40fa2c-11dc-47df-af5c-4251adf2d93a"
      },
      "outputs": [
        {
          "output_type": "stream",
          "name": "stdout",
          "text": [
            "[[-2.   1. ]\n",
            " [ 1.5 -0.5]]\n"
          ]
        }
      ],
      "source": [
        "x = np.array([[1., 2.], [3., 4.]])\n",
        "out1 = np.linalg.inv(x)\n",
        "assert np.allclose(np.dot(x, out1), np.eye(2))\n",
        "print(out1)"
      ]
    }
  ],
  "metadata": {
    "kernelspec": {
      "display_name": "Python 3",
      "name": "python3"
    },
    "language_info": {
      "name": "python"
    },
    "colab": {
      "provenance": [],
      "include_colab_link": true
    }
  },
  "nbformat": 4,
  "nbformat_minor": 0
}