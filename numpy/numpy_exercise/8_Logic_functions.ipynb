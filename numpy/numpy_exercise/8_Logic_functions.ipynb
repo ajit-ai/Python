{
  "cells": [
    {
      "cell_type": "markdown",
      "metadata": {
        "id": "view-in-github",
        "colab_type": "text"
      },
      "source": [
        "<a href=\"https://colab.research.google.com/github/ajit-ai/Python/blob/main/numpy/numpy_exercise/8_Logic_functions.ipynb\" target=\"_parent\"><img src=\"https://colab.research.google.com/assets/colab-badge.svg\" alt=\"Open In Colab\"/></a>"
      ]
    },
    {
      "cell_type": "markdown",
      "metadata": {
        "id": "uMbYzciw-6am"
      },
      "source": [
        "# Logic functions"
      ]
    },
    {
      "cell_type": "code",
      "execution_count": 24,
      "metadata": {
        "collapsed": true,
        "id": "o1mF9t1G-6an"
      },
      "outputs": [],
      "source": [
        "import numpy as np"
      ]
    },
    {
      "cell_type": "code",
      "execution_count": 25,
      "metadata": {
        "colab": {
          "base_uri": "https://localhost:8080/",
          "height": 35
        },
        "id": "FPefm1du-6an",
        "outputId": "5a2d83eb-c3fe-407a-9e28-80706de965a0"
      },
      "outputs": [
        {
          "output_type": "execute_result",
          "data": {
            "text/plain": [
              "'2.0.2'"
            ],
            "application/vnd.google.colaboratory.intrinsic+json": {
              "type": "string"
            }
          },
          "metadata": {},
          "execution_count": 25
        }
      ],
      "source": [
        "np.__version__"
      ]
    },
    {
      "cell_type": "markdown",
      "metadata": {
        "id": "jbZNY_Dd-6ao"
      },
      "source": [
        "## Truth value testing\n"
      ]
    },
    {
      "cell_type": "markdown",
      "metadata": {
        "id": "lv3lBZWk-6ao"
      },
      "source": [
        "Q1. Let x be an arbitrary array. Return True if none of the elements of x is zero. Remind that 0 evaluates to False in python.\n"
      ]
    },
    {
      "cell_type": "code",
      "execution_count": 26,
      "metadata": {
        "colab": {
          "base_uri": "https://localhost:8080/"
        },
        "id": "Kg-u0iq3-6ao",
        "outputId": "891ed7a4-26dd-4e34-dfc5-209f426135b8"
      },
      "outputs": [
        {
          "output_type": "stream",
          "name": "stdout",
          "text": [
            "[1 2 3]\n",
            "[1 0 3]\n"
          ]
        }
      ],
      "source": [
        "x = np.array([1,2,3])\n",
        "print(x)\n",
        "\n",
        "x = np.array([1,0,3])\n",
        "print(x)\n",
        "#"
      ]
    },
    {
      "cell_type": "markdown",
      "metadata": {
        "id": "Nt7BLGHW-6ao"
      },
      "source": [
        "Q2. Let x be an arbitrary array. Return True if any of the elements of x is non-zero."
      ]
    },
    {
      "cell_type": "code",
      "execution_count": 27,
      "metadata": {
        "colab": {
          "base_uri": "https://localhost:8080/"
        },
        "id": "At_EJ5lL-6ap",
        "outputId": "332bc833-dcdc-42f3-8980-b154d7765f78"
      },
      "outputs": [
        {
          "output_type": "stream",
          "name": "stdout",
          "text": [
            "[1 0 0]\n",
            "[0 0 0]\n"
          ]
        }
      ],
      "source": [
        "x = np.array([1,0,0])\n",
        "print(x)\n",
        "\n",
        "x = np.array([0,0,0])\n",
        "print(x)"
      ]
    },
    {
      "cell_type": "markdown",
      "metadata": {
        "id": "NGQnUPnc-6ap"
      },
      "source": [
        "## Array contents\n"
      ]
    },
    {
      "cell_type": "markdown",
      "metadata": {
        "id": "0LhljbO3-6ap"
      },
      "source": [
        "Q3. Predict the result of the following code."
      ]
    },
    {
      "cell_type": "code",
      "execution_count": 28,
      "metadata": {
        "colab": {
          "base_uri": "https://localhost:8080/"
        },
        "id": "E6hydJLB-6ap",
        "outputId": "8df42865-ab67-43ec-c118-e53dd1565b09"
      },
      "outputs": [
        {
          "output_type": "execute_result",
          "data": {
            "text/plain": [
              "array([ True,  True, False, False])"
            ]
          },
          "metadata": {},
          "execution_count": 28
        }
      ],
      "source": [
        "x = np.array([1, 0, np.nan, np.inf])\n",
        "np.isfinite(x)"
      ]
    },
    {
      "cell_type": "markdown",
      "metadata": {
        "id": "b-tie7pe-6aq"
      },
      "source": [
        "Q4. Predict the result of the following code."
      ]
    },
    {
      "cell_type": "code",
      "execution_count": 29,
      "metadata": {
        "colab": {
          "base_uri": "https://localhost:8080/"
        },
        "id": "OxrMAvjP-6aq",
        "outputId": "0728a886-fc0c-4080-aeb5-a0be9d737f47"
      },
      "outputs": [
        {
          "output_type": "execute_result",
          "data": {
            "text/plain": [
              "array([False, False, False,  True])"
            ]
          },
          "metadata": {},
          "execution_count": 29
        }
      ],
      "source": [
        "x = np.array([1, 0, np.nan, np.inf])\n",
        "np.isinf(x)"
      ]
    },
    {
      "cell_type": "markdown",
      "metadata": {
        "id": "8WiAClMk-6aq"
      },
      "source": [
        "Q5. Predict the result of the following code."
      ]
    },
    {
      "cell_type": "code",
      "execution_count": 30,
      "metadata": {
        "collapsed": true,
        "colab": {
          "base_uri": "https://localhost:8080/"
        },
        "id": "I11bDYaj-6aq",
        "outputId": "b19c4468-1f5f-4610-cb72-7227510a8d36"
      },
      "outputs": [
        {
          "output_type": "execute_result",
          "data": {
            "text/plain": [
              "array([False, False,  True, False])"
            ]
          },
          "metadata": {},
          "execution_count": 30
        }
      ],
      "source": [
        "x = np.array([1, 0, np.nan, np.inf])\n",
        "np.isnan(x)"
      ]
    },
    {
      "cell_type": "markdown",
      "metadata": {
        "id": "QV1rgyOB-6aq"
      },
      "source": [
        "## Array type testing"
      ]
    },
    {
      "cell_type": "markdown",
      "metadata": {
        "id": "Sc-69Q-Y-6aq"
      },
      "source": [
        "Q6. Predict the result of the following code."
      ]
    },
    {
      "cell_type": "code",
      "execution_count": 31,
      "metadata": {
        "colab": {
          "base_uri": "https://localhost:8080/"
        },
        "id": "R7ewm8g0-6aq",
        "outputId": "ffdab25e-3e6c-4a8b-997f-e985fde99405"
      },
      "outputs": [
        {
          "output_type": "execute_result",
          "data": {
            "text/plain": [
              "array([ True, False, False, False, False,  True])"
            ]
          },
          "metadata": {},
          "execution_count": 31
        }
      ],
      "source": [
        "x = np.array([1+1j, 1+0j, 4.5, 3, 2, 2j])\n",
        "np.iscomplex(x)"
      ]
    },
    {
      "cell_type": "markdown",
      "metadata": {
        "id": "7PA6kkpX-6aq"
      },
      "source": [
        "Q7. Predict the result of the following code."
      ]
    },
    {
      "cell_type": "code",
      "execution_count": 32,
      "metadata": {
        "colab": {
          "base_uri": "https://localhost:8080/"
        },
        "id": "dPIub66l-6aq",
        "outputId": "b8ea8134-6f96-4ca5-e82e-ab46608c4e2e"
      },
      "outputs": [
        {
          "output_type": "execute_result",
          "data": {
            "text/plain": [
              "array([False,  True,  True,  True,  True, False])"
            ]
          },
          "metadata": {},
          "execution_count": 32
        }
      ],
      "source": [
        "x = np.array([1+1j, 1+0j, 4.5, 3, 2, 2j])\n",
        "np.isreal(x)"
      ]
    },
    {
      "cell_type": "markdown",
      "metadata": {
        "id": "55vz3ZG9-6ar"
      },
      "source": [
        "Q8. Predict the result of the following code."
      ]
    },
    {
      "cell_type": "code",
      "execution_count": 33,
      "metadata": {
        "colab": {
          "base_uri": "https://localhost:8080/"
        },
        "id": "wDgpN04G-6ar",
        "outputId": "3960d13a-774e-4535-8aff-9ea148cb107c"
      },
      "outputs": [
        {
          "output_type": "execute_result",
          "data": {
            "text/plain": [
              "True"
            ]
          },
          "metadata": {},
          "execution_count": 33
        }
      ],
      "source": [
        "np.isscalar(3)\n",
        "np.isscalar([3])\n",
        "np.isscalar(True)"
      ]
    },
    {
      "cell_type": "markdown",
      "metadata": {
        "id": "GxwrQDyZ-6ar"
      },
      "source": [
        "## Logical operations"
      ]
    },
    {
      "cell_type": "markdown",
      "metadata": {
        "id": "W09ZaByd-6ar"
      },
      "source": [
        "Q9. Predict the result of the following code."
      ]
    },
    {
      "cell_type": "code",
      "execution_count": 34,
      "metadata": {
        "id": "GLSCHzig-6ar"
      },
      "outputs": [],
      "source": [
        "#print np.logical_and([True, False], [False, False])\n",
        "#print np.logical_or([True, False, True], [True, False, False])\n",
        "#print np.logical_xor([True, False, True], [True, False, False])\n",
        "#print np.logical_not([True, False, 0, 1])\n"
      ]
    },
    {
      "cell_type": "markdown",
      "metadata": {
        "id": "NppRAS-d-6ar"
      },
      "source": [
        "## Comparison"
      ]
    },
    {
      "cell_type": "markdown",
      "metadata": {
        "id": "gYVMZohf-6ar"
      },
      "source": [
        "Q10. Predict the result of the following code."
      ]
    },
    {
      "cell_type": "code",
      "execution_count": 35,
      "metadata": {
        "id": "uV4L4Mj0-6ar"
      },
      "outputs": [],
      "source": [
        "#print np.allclose([3], [2.999999])\n",
        "#print np.array_equal([3], [2.999999])"
      ]
    },
    {
      "cell_type": "markdown",
      "metadata": {
        "id": "-5NmrA5D-6as"
      },
      "source": [
        "Q11. Write numpy comparison functions such that they return the results as you see."
      ]
    },
    {
      "cell_type": "code",
      "execution_count": 36,
      "metadata": {
        "id": "XjzaSp3o-6as"
      },
      "outputs": [],
      "source": [
        "x = np.array([4, 5])\n",
        "y = np.array([2, 5])\n",
        "#\n",
        "#\n",
        "#\n",
        "#"
      ]
    },
    {
      "cell_type": "markdown",
      "metadata": {
        "id": "oww0_4az-6as"
      },
      "source": [
        "Q12. Predict the result of the following code."
      ]
    },
    {
      "cell_type": "code",
      "execution_count": 37,
      "metadata": {
        "id": "YDMP2OZr-6as"
      },
      "outputs": [],
      "source": [
        "#print np.equal([1, 2], [1, 2.000001])\n",
        "#print np.isclose([1, 2], [1, 2.000001])"
      ]
    },
    {
      "cell_type": "code",
      "execution_count": 37,
      "metadata": {
        "collapsed": true,
        "id": "Z47JHmf2-6at"
      },
      "outputs": [],
      "source": []
    }
  ],
  "metadata": {
    "kernelspec": {
      "display_name": "Python 3",
      "name": "python3"
    },
    "language_info": {
      "name": "python"
    },
    "colab": {
      "provenance": [],
      "include_colab_link": true
    }
  },
  "nbformat": 4,
  "nbformat_minor": 0
}