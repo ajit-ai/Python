{
  "cells": [
    {
      "cell_type": "markdown",
      "metadata": {
        "id": "view-in-github",
        "colab_type": "text"
      },
      "source": [
        "<a href=\"https://colab.research.google.com/github/ajit-ai/Python/blob/main/numpy/numpy_exercise/9_Mathematical_functions.ipynb\" target=\"_parent\"><img src=\"https://colab.research.google.com/assets/colab-badge.svg\" alt=\"Open In Colab\"/></a>"
      ]
    },
    {
      "cell_type": "markdown",
      "metadata": {
        "id": "zXAN7cpJHsrT"
      },
      "source": [
        "# Mathematical functions"
      ]
    },
    {
      "cell_type": "code",
      "execution_count": 23,
      "metadata": {
        "collapsed": true,
        "id": "8npBPGhEHsrZ"
      },
      "outputs": [],
      "source": [
        "import numpy as np"
      ]
    },
    {
      "cell_type": "code",
      "execution_count": 24,
      "metadata": {
        "colab": {
          "base_uri": "https://localhost:8080/",
          "height": 35
        },
        "id": "p7GZwHLtHsrb",
        "outputId": "73afd8bf-d4dd-4335-ece9-1df057c5a593"
      },
      "outputs": [
        {
          "output_type": "execute_result",
          "data": {
            "text/plain": [
              "'2.0.2'"
            ],
            "application/vnd.google.colaboratory.intrinsic+json": {
              "type": "string"
            }
          },
          "metadata": {},
          "execution_count": 24
        }
      ],
      "source": [
        "np.__version__"
      ]
    },
    {
      "cell_type": "code",
      "execution_count": 25,
      "metadata": {
        "id": "DuRvNKaPHsrd"
      },
      "outputs": [],
      "source": [
        "__author__ = \"kyubyong. kbpark.linguist@gmail.com. https://github.com/kyubyong\""
      ]
    },
    {
      "cell_type": "markdown",
      "metadata": {
        "id": "64dQbivGHsre"
      },
      "source": [
        "## Trigonometric functions"
      ]
    },
    {
      "cell_type": "markdown",
      "metadata": {
        "id": "NN5ccKXXHsrf"
      },
      "source": [
        "Q1. Calculate sine, cosine, and tangent of x, element-wise."
      ]
    },
    {
      "cell_type": "code",
      "execution_count": 26,
      "metadata": {
        "id": "XIocClS_Hsrg"
      },
      "outputs": [],
      "source": [
        "x = np.array([0., 1., 30, 90])\n"
      ]
    },
    {
      "cell_type": "markdown",
      "metadata": {
        "id": "TH2gscflHsrh"
      },
      "source": [
        "Q2. Calculate inverse sine, inverse cosine, and inverse tangent of x, element-wise."
      ]
    },
    {
      "cell_type": "code",
      "execution_count": 27,
      "metadata": {
        "id": "X5HPU8IUHsri"
      },
      "outputs": [],
      "source": [
        "x = np.array([-1., 0, 1.])\n"
      ]
    },
    {
      "cell_type": "markdown",
      "metadata": {
        "id": "gi-aA6NcHsri"
      },
      "source": [
        "Q3. Convert angles from radians to degrees."
      ]
    },
    {
      "cell_type": "code",
      "execution_count": 28,
      "metadata": {
        "id": "RAoD9_7uHsrj"
      },
      "outputs": [],
      "source": [
        "x = np.array([-np.pi, -np.pi/2, np.pi/2, np.pi])\n"
      ]
    },
    {
      "cell_type": "markdown",
      "metadata": {
        "id": "WLCWuSGDHsrk"
      },
      "source": [
        "Q4. Convert angles from degrees to radians."
      ]
    },
    {
      "cell_type": "code",
      "execution_count": 29,
      "metadata": {
        "id": "Uqa3RxMMHsrk"
      },
      "outputs": [],
      "source": [
        "x = np.array([-180.,  -90.,   90.,  180.])\n"
      ]
    },
    {
      "cell_type": "markdown",
      "metadata": {
        "id": "8rFKCL2QHsrk"
      },
      "source": [
        "## Hyperbolic functions"
      ]
    },
    {
      "cell_type": "markdown",
      "metadata": {
        "id": "gPnfoQh2Hsrl"
      },
      "source": [
        "Q5. Calculate hyperbolic sine, hyperbolic cosine, and hyperbolic tangent of x, element-wise."
      ]
    },
    {
      "cell_type": "code",
      "execution_count": 30,
      "metadata": {
        "id": "HOBvJO8xHsrm"
      },
      "outputs": [],
      "source": [
        "x = np.array([-1., 0, 1.])\n"
      ]
    },
    {
      "cell_type": "markdown",
      "metadata": {
        "id": "lhJWvgLaHsrm"
      },
      "source": [
        "## Rounding"
      ]
    },
    {
      "cell_type": "markdown",
      "metadata": {
        "id": "74r7FqbqHsrm"
      },
      "source": [
        "Q6. Predict the results of these, paying attention to the difference among the family functions."
      ]
    },
    {
      "cell_type": "code",
      "execution_count": 31,
      "metadata": {
        "id": "b7hkDul7Hsrm"
      },
      "outputs": [],
      "source": [
        "x = np.array([2.1, 1.5, 2.5, 2.9, -2.1, -2.5, -2.9])\n",
        "\n",
        "out1 = np.around(x)\n",
        "out2 = np.floor(x)\n",
        "out3 = np.ceil(x)\n",
        "out4 = np.trunc(x)\n",
        "out5 = [round(elem) for elem in x]\n",
        "\n",
        "#print out1\n",
        "#print out2\n",
        "#print out3\n",
        "#print out4\n",
        "#print out5\n"
      ]
    },
    {
      "cell_type": "markdown",
      "metadata": {
        "id": "1v_kWj2iHsrn"
      },
      "source": [
        "Q7. Implement out5 in the above question using numpy."
      ]
    },
    {
      "cell_type": "code",
      "execution_count": 31,
      "metadata": {
        "id": "ev4IeT-VHsro"
      },
      "outputs": [],
      "source": []
    },
    {
      "cell_type": "markdown",
      "metadata": {
        "id": "W5LUH0uoHsro"
      },
      "source": [
        "## Sums, products, differences"
      ]
    },
    {
      "cell_type": "markdown",
      "metadata": {
        "id": "tGXkBPxjHsro"
      },
      "source": [
        "Q8. Predict the results of these."
      ]
    },
    {
      "cell_type": "code",
      "execution_count": 32,
      "metadata": {
        "id": "eo7tzK0wHsro"
      },
      "outputs": [],
      "source": [
        "x = np.array(\n",
        "    [[1, 2, 3, 4],\n",
        "     [5, 6, 7, 8]])\n",
        "\n",
        "outs = [np.sum(x),\n",
        "        np.sum(x, axis=0),\n",
        "        np.sum(x, axis=1, keepdims=True),\n",
        "        \"\",\n",
        "        np.prod(x),\n",
        "        np.prod(x, axis=0),\n",
        "        np.prod(x, axis=1, keepdims=True),\n",
        "        \"\",\n",
        "        np.cumsum(x),\n",
        "        np.cumsum(x, axis=0),\n",
        "        np.cumsum(x, axis=1),\n",
        "        \"\",\n",
        "        np.cumprod(x),\n",
        "        np.cumprod(x, axis=0),\n",
        "        np.cumprod(x, axis=1),\n",
        "        \"\",\n",
        "        np.min(x),\n",
        "        np.min(x, axis=0),\n",
        "        np.min(x, axis=1, keepdims=True),\n",
        "        \"\",\n",
        "        np.max(x),\n",
        "        np.max(x, axis=0),\n",
        "        np.max(x, axis=1, keepdims=True),\n",
        "        \"\",\n",
        "        np.mean(x),\n",
        "        np.mean(x, axis=0),\n",
        "        np.mean(x, axis=1, keepdims=True)]\n",
        "\n",
        "for out in outs:\n",
        "    if isinstance(out, str) and out == \"\":\n",
        "        pass\n",
        "        #print\n",
        "    else:\n",
        "        pass\n",
        "        #print(\"->\", out)"
      ]
    },
    {
      "cell_type": "markdown",
      "metadata": {
        "id": "jaXjghc4Hsrp"
      },
      "source": [
        "Q9. Calculate the difference between neighboring elements, element-wise."
      ]
    },
    {
      "cell_type": "code",
      "execution_count": 33,
      "metadata": {
        "id": "ovDAg236Hsrp"
      },
      "outputs": [],
      "source": [
        "x = np.array([1, 2, 4, 7, 0])\n"
      ]
    },
    {
      "cell_type": "markdown",
      "metadata": {
        "id": "l3dslUDRHsrq"
      },
      "source": [
        "Q10. Calculate the difference between neighboring elements, element-wise, and\n",
        "prepend [0, 0] and append[100] to it."
      ]
    },
    {
      "cell_type": "code",
      "execution_count": 34,
      "metadata": {
        "id": "B0HYqg_-Hsrq"
      },
      "outputs": [],
      "source": [
        "x = np.array([1, 2, 4, 7, 0])\n"
      ]
    },
    {
      "cell_type": "markdown",
      "metadata": {
        "id": "xgrBpzgmHsrr"
      },
      "source": [
        "Q11. Return the cross product of x and y."
      ]
    },
    {
      "cell_type": "code",
      "execution_count": 35,
      "metadata": {
        "id": "KQPoQsaWHsrr"
      },
      "outputs": [],
      "source": [
        "x = np.array([1, 2, 3])\n",
        "y = np.array([4, 5, 6])\n",
        "\n"
      ]
    },
    {
      "cell_type": "markdown",
      "metadata": {
        "id": "zQDdmKQqHsrr"
      },
      "source": [
        "## Exponents and logarithms"
      ]
    },
    {
      "cell_type": "markdown",
      "metadata": {
        "id": "gMyni7xpHsrr"
      },
      "source": [
        "Q12. Compute $e^x$, element-wise."
      ]
    },
    {
      "cell_type": "code",
      "execution_count": 36,
      "metadata": {
        "id": "w-je6GSuHsrt"
      },
      "outputs": [],
      "source": [
        "x = np.array([1., 2., 3.], np.float32)\n",
        "\n"
      ]
    },
    {
      "cell_type": "markdown",
      "metadata": {
        "id": "t0uhKNZaHsrt"
      },
      "source": [
        "Q13. Calculate exp(x) - 1 for all elements in x."
      ]
    },
    {
      "cell_type": "code",
      "execution_count": 37,
      "metadata": {
        "id": "NUxY4nPJHsrt"
      },
      "outputs": [],
      "source": [
        "x = np.array([1., 2., 3.], np.float32)\n"
      ]
    },
    {
      "cell_type": "markdown",
      "metadata": {
        "id": "kOHBVmMuHsrt"
      },
      "source": [
        "Q14. Calculate $2^p$ for all p in x."
      ]
    },
    {
      "cell_type": "code",
      "execution_count": 38,
      "metadata": {
        "id": "nQHEOWAKHsru"
      },
      "outputs": [],
      "source": [
        "x = np.array([1., 2., 3.], np.float32)\n"
      ]
    },
    {
      "cell_type": "markdown",
      "metadata": {
        "id": "aA2N6UExHsru"
      },
      "source": [
        "Q15. Compute natural, base 10, and base 2 logarithms of x element-wise."
      ]
    },
    {
      "cell_type": "code",
      "execution_count": 39,
      "metadata": {
        "id": "aMeaBuXrHsrv"
      },
      "outputs": [],
      "source": [
        "x = np.array([1, np.e, np.e**2])\n"
      ]
    },
    {
      "cell_type": "markdown",
      "metadata": {
        "id": "kWP_7oG5Hsr3"
      },
      "source": [
        "Q16. Compute the natural logarithm of one plus each element in x in floating-point accuracy."
      ]
    },
    {
      "cell_type": "code",
      "execution_count": 40,
      "metadata": {
        "id": "D1dpMUzwHsr3"
      },
      "outputs": [],
      "source": [
        "x = np.array([1e-99, 1e-100])\n"
      ]
    },
    {
      "cell_type": "markdown",
      "metadata": {
        "id": "XTuFsnyTHsr4"
      },
      "source": [
        "## Floating point routines"
      ]
    },
    {
      "cell_type": "markdown",
      "metadata": {
        "id": "7HibHN0EHsr4"
      },
      "source": [
        "Q17. Return element-wise True where signbit is set."
      ]
    },
    {
      "cell_type": "code",
      "execution_count": 41,
      "metadata": {
        "id": "jURnjDPHHsr4"
      },
      "outputs": [],
      "source": [
        "x = np.array([-3, -2, -1, 0, 1, 2, 3])\n",
        "\n"
      ]
    },
    {
      "cell_type": "markdown",
      "metadata": {
        "id": "VXBkbO9OHsr5"
      },
      "source": [
        "Q18. Change the sign of x to that of y, element-wise."
      ]
    },
    {
      "cell_type": "code",
      "execution_count": 42,
      "metadata": {
        "id": "DnNwuMnwHsr5"
      },
      "outputs": [],
      "source": [
        "x = np.array([-1, 0, 1])\n",
        "y = -1.1\n"
      ]
    },
    {
      "cell_type": "markdown",
      "metadata": {
        "id": "GwrEanNFHsr5"
      },
      "source": [
        "## Arithmetic operations"
      ]
    },
    {
      "cell_type": "markdown",
      "metadata": {
        "id": "PGGTAbgcHsr6"
      },
      "source": [
        "Q19. Add x and y element-wise."
      ]
    },
    {
      "cell_type": "code",
      "execution_count": 43,
      "metadata": {
        "id": "9TBGosAOHsr6"
      },
      "outputs": [],
      "source": [
        "x = np.array([1, 2, 3])\n",
        "y = np.array([-1, -2, -3])\n",
        "\n"
      ]
    },
    {
      "cell_type": "markdown",
      "metadata": {
        "id": "ycYX8yTiHsr9"
      },
      "source": [
        "Q20. Subtract y from x element-wise."
      ]
    },
    {
      "cell_type": "code",
      "execution_count": 44,
      "metadata": {
        "id": "fzjNxr6UHsr-"
      },
      "outputs": [],
      "source": [
        "x = np.array([3, 4, 5])\n",
        "y = np.array(3)\n",
        "\n"
      ]
    },
    {
      "cell_type": "markdown",
      "metadata": {
        "id": "T-k_yEN0Hsr-"
      },
      "source": [
        "Q21. Multiply x by y element-wise."
      ]
    },
    {
      "cell_type": "code",
      "execution_count": 45,
      "metadata": {
        "id": "THDZLynxHsr-"
      },
      "outputs": [],
      "source": [
        "x = np.array([3, 4, 5])\n",
        "y = np.array([1, 0, -1])\n",
        "\n"
      ]
    },
    {
      "cell_type": "markdown",
      "metadata": {
        "id": "aP1iSFv2Hsr_"
      },
      "source": [
        "Q22. Divide x by y element-wise in two different ways."
      ]
    },
    {
      "cell_type": "code",
      "execution_count": 46,
      "metadata": {
        "id": "L6oSBnsbHssA"
      },
      "outputs": [],
      "source": [
        "x = np.array([3., 4., 5.])\n",
        "y = np.array([1., 2., 3.])\n"
      ]
    },
    {
      "cell_type": "markdown",
      "metadata": {
        "id": "rSE-PDZTHssA"
      },
      "source": [
        "Q23. Compute numerical negative value of x, element-wise."
      ]
    },
    {
      "cell_type": "code",
      "execution_count": 47,
      "metadata": {
        "id": "HL7ZZU3HHssB"
      },
      "outputs": [],
      "source": [
        "x = np.array([1, -1])\n"
      ]
    },
    {
      "cell_type": "markdown",
      "metadata": {
        "id": "b52oKL5oHssC"
      },
      "source": [
        "Q24. Compute the reciprocal of x, element-wise."
      ]
    },
    {
      "cell_type": "code",
      "execution_count": 48,
      "metadata": {
        "id": "fNaxathVHssC"
      },
      "outputs": [],
      "source": [
        "x = np.array([1., 2., .2])\n"
      ]
    },
    {
      "cell_type": "markdown",
      "metadata": {
        "id": "MswHEkphHssD"
      },
      "source": [
        "Q25. Compute $x^y$, element-wise."
      ]
    },
    {
      "cell_type": "code",
      "execution_count": 49,
      "metadata": {
        "id": "8ffFbyPhHssD"
      },
      "outputs": [],
      "source": [
        "x = np.array([[1, 2], [3, 4]])\n",
        "y = np.array([[1, 2], [1, 2]])\n"
      ]
    },
    {
      "cell_type": "markdown",
      "metadata": {
        "id": "jiW6bVZ8HssD"
      },
      "source": [
        "Q26. Compute the remainder of x / y element-wise in two different ways."
      ]
    },
    {
      "cell_type": "code",
      "execution_count": 50,
      "metadata": {
        "id": "t8WLke0JHssE"
      },
      "outputs": [],
      "source": [
        "x = np.array([-3, -2, -1, 1, 2, 3])\n",
        "y = 2\n"
      ]
    },
    {
      "cell_type": "markdown",
      "metadata": {
        "id": "7JVQgYRNHssE"
      },
      "source": [
        "## Miscellaneous"
      ]
    },
    {
      "cell_type": "markdown",
      "metadata": {
        "id": "Ahcql6wEHssE"
      },
      "source": [
        "Q27. If an element of x is smaller than 3, replace it with 3.\n",
        "And if an element of x is bigger than 7, replace it with 7."
      ]
    },
    {
      "cell_type": "code",
      "execution_count": 51,
      "metadata": {
        "id": "XLnRPjclHssF"
      },
      "outputs": [],
      "source": [
        "x = np.arange(10)\n"
      ]
    },
    {
      "cell_type": "markdown",
      "metadata": {
        "id": "f-bg00tSHssF"
      },
      "source": [
        "Q28. Compute the square of x, element-wise."
      ]
    },
    {
      "cell_type": "code",
      "execution_count": 52,
      "metadata": {
        "id": "RWL-Or36HssG"
      },
      "outputs": [],
      "source": [
        "x = np.array([1, 2, -1])\n"
      ]
    },
    {
      "cell_type": "markdown",
      "metadata": {
        "id": "-0vXpwD4HssG"
      },
      "source": [
        "Q29. Compute square root of x element-wise.\n"
      ]
    },
    {
      "cell_type": "code",
      "execution_count": 53,
      "metadata": {
        "id": "hUlnee19HssG"
      },
      "outputs": [],
      "source": [
        "x = np.array([1., 4., 9.])\n"
      ]
    },
    {
      "cell_type": "markdown",
      "metadata": {
        "id": "9uTNjboNHssH"
      },
      "source": [
        "Q30. Compute the absolute value of x."
      ]
    },
    {
      "cell_type": "code",
      "execution_count": 54,
      "metadata": {
        "id": "p5sihR4xHssH"
      },
      "outputs": [],
      "source": [
        "x = np.array([[1, -1], [3, -3]])\n",
        "\n"
      ]
    },
    {
      "cell_type": "markdown",
      "metadata": {
        "id": "4elzPMRLHssI"
      },
      "source": [
        "Q31. Compute an element-wise indication of the sign of x, element-wise."
      ]
    },
    {
      "cell_type": "code",
      "execution_count": 55,
      "metadata": {
        "id": "QDKUXs9MHssI"
      },
      "outputs": [],
      "source": [
        "x = np.array([1, 3, 0, -1, -3])\n"
      ]
    },
    {
      "cell_type": "code",
      "execution_count": 55,
      "metadata": {
        "collapsed": true,
        "id": "Ar8NFkwpHssI"
      },
      "outputs": [],
      "source": []
    }
  ],
  "metadata": {
    "kernelspec": {
      "display_name": "Python 3",
      "name": "python3"
    },
    "language_info": {
      "name": "python"
    },
    "colab": {
      "provenance": [],
      "include_colab_link": true
    }
  },
  "nbformat": 4,
  "nbformat_minor": 0
}