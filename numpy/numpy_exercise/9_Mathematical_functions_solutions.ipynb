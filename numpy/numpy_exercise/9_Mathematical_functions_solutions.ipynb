{
  "cells": [
    {
      "cell_type": "markdown",
      "metadata": {
        "id": "view-in-github",
        "colab_type": "text"
      },
      "source": [
        "<a href=\"https://colab.research.google.com/github/ajit-ai/Python/blob/main/numpy/numpy_exercise/9_Mathematical_functions_solutions.ipynb\" target=\"_parent\"><img src=\"https://colab.research.google.com/assets/colab-badge.svg\" alt=\"Open In Colab\"/></a>"
      ]
    },
    {
      "cell_type": "markdown",
      "metadata": {
        "id": "jbDxyfv-IJy4"
      },
      "source": [
        "# Mathematical functions"
      ]
    },
    {
      "cell_type": "code",
      "execution_count": 83,
      "metadata": {
        "collapsed": true,
        "id": "ZhRUASeFIJy6"
      },
      "outputs": [],
      "source": [
        "import numpy as np"
      ]
    },
    {
      "cell_type": "code",
      "execution_count": 84,
      "metadata": {
        "colab": {
          "base_uri": "https://localhost:8080/",
          "height": 35
        },
        "id": "CAhBG36IIJy7",
        "outputId": "df23949a-9fe7-4e55-edd9-37e2e03888f9"
      },
      "outputs": [
        {
          "output_type": "execute_result",
          "data": {
            "text/plain": [
              "'2.0.2'"
            ],
            "application/vnd.google.colaboratory.intrinsic+json": {
              "type": "string"
            }
          },
          "metadata": {},
          "execution_count": 84
        }
      ],
      "source": [
        "np.__version__"
      ]
    },
    {
      "cell_type": "code",
      "execution_count": 85,
      "metadata": {
        "id": "JGhsGvKKIJy8"
      },
      "outputs": [],
      "source": [
        "__author__ = \"kyubyong. kbpark.linguist@gmail.com. https://github.com/kyubyong\""
      ]
    },
    {
      "cell_type": "markdown",
      "metadata": {
        "id": "NtQMWkxqIJy9"
      },
      "source": [
        "## Trigonometric functions"
      ]
    },
    {
      "cell_type": "markdown",
      "metadata": {
        "id": "NsbborUTIJy9"
      },
      "source": [
        "Q1. Calculate sine, cosine, and tangent of x, element-wise."
      ]
    },
    {
      "cell_type": "code",
      "execution_count": 86,
      "metadata": {
        "colab": {
          "base_uri": "https://localhost:8080/"
        },
        "id": "IXZlFUsDIJy9",
        "outputId": "2b5a268d-e763-42a7-a206-8c1890d8b53c"
      },
      "outputs": [
        {
          "output_type": "stream",
          "name": "stdout",
          "text": [
            "sine: [ 0.          0.84147098 -0.98803162  0.89399666]\n",
            "cosine: [ 1.          0.54030231  0.15425145 -0.44807362]\n",
            "tangent: [ 0.          1.55740772 -6.4053312  -1.99520041]\n"
          ]
        }
      ],
      "source": [
        "x = np.array([0., 1., 30, 90])\n",
        "print(\"sine:\", np.sin(x))\n",
        "print(\"cosine:\", np.cos(x))\n",
        "print(\"tangent:\", np.tan(x))"
      ]
    },
    {
      "cell_type": "markdown",
      "metadata": {
        "id": "KOaUr4QtIJy-"
      },
      "source": [
        "Q2. Calculate inverse sine, inverse cosine, and inverse tangent of x, element-wise."
      ]
    },
    {
      "cell_type": "code",
      "execution_count": 87,
      "metadata": {
        "colab": {
          "base_uri": "https://localhost:8080/"
        },
        "id": "V2vac_v4IJy_",
        "outputId": "d22493b9-e11e-42e4-8c1d-21b0f53f2d70"
      },
      "outputs": [
        {
          "output_type": "stream",
          "name": "stdout",
          "text": [
            "inverse sine: [-1.57079633  0.          1.57079633]\n",
            "inverse cosine: [3.14159265 1.57079633 0.        ]\n",
            "inverse tangent: [-0.78539816  0.          0.78539816]\n"
          ]
        }
      ],
      "source": [
        "x = np.array([-1., 0, 1.])\n",
        "print(\"inverse sine:\", np.arcsin(x))\n",
        "print(\"inverse cosine:\", np.arccos(x))\n",
        "print(\"inverse tangent:\", np.arctan(x))"
      ]
    },
    {
      "cell_type": "markdown",
      "metadata": {
        "id": "65vgKu3MIJy_"
      },
      "source": [
        "Q3. Convert angles from radians to degrees."
      ]
    },
    {
      "cell_type": "code",
      "execution_count": 88,
      "metadata": {
        "colab": {
          "base_uri": "https://localhost:8080/"
        },
        "id": "Buuw5tQOIJy_",
        "outputId": "00f6f87a-2e72-45f1-a155-f041a5023e62"
      },
      "outputs": [
        {
          "output_type": "stream",
          "name": "stdout",
          "text": [
            "[-180.  -90.   90.  180.]\n"
          ]
        }
      ],
      "source": [
        "x = np.array([-np.pi, -np.pi/2, np.pi/2, np.pi])\n",
        "\n",
        "out1 = np.degrees(x)\n",
        "out2 = np.rad2deg(x)\n",
        "assert np.array_equiv(out1, out2)\n",
        "print(out1)"
      ]
    },
    {
      "cell_type": "markdown",
      "metadata": {
        "id": "DJ0SoPw8IJzA"
      },
      "source": [
        "Q4. Convert angles from degrees to radians."
      ]
    },
    {
      "cell_type": "code",
      "execution_count": 89,
      "metadata": {
        "colab": {
          "base_uri": "https://localhost:8080/"
        },
        "id": "myiEaXphIJzB",
        "outputId": "c27668e9-509a-4e6f-929c-142e13b57c7e"
      },
      "outputs": [
        {
          "output_type": "stream",
          "name": "stdout",
          "text": [
            "[-3.14159265 -1.57079633  1.57079633  3.14159265]\n"
          ]
        }
      ],
      "source": [
        "x = np.array([-180.,  -90.,   90.,  180.])\n",
        "\n",
        "out1 = np.radians(x)\n",
        "out2 = np.deg2rad(x)\n",
        "assert np.array_equiv(out1, out2)\n",
        "print(out1)"
      ]
    },
    {
      "cell_type": "markdown",
      "metadata": {
        "id": "qHPUujZkIJzB"
      },
      "source": [
        "## Hyperbolic functions"
      ]
    },
    {
      "cell_type": "markdown",
      "metadata": {
        "id": "tfAwZ13kIJzC"
      },
      "source": [
        "Q5. Calculate hyperbolic sine, hyperbolic cosine, and hyperbolic tangent of x, element-wise."
      ]
    },
    {
      "cell_type": "code",
      "execution_count": 90,
      "metadata": {
        "colab": {
          "base_uri": "https://localhost:8080/"
        },
        "id": "QyI3gRyCIJzC",
        "outputId": "d1b67839-6429-49c2-db66-fbbc564951c8"
      },
      "outputs": [
        {
          "output_type": "stream",
          "name": "stdout",
          "text": [
            "[-1.17520119  0.          1.17520119]\n",
            "[1.54308063 1.         1.54308063]\n",
            "[-0.76159416  0.          0.76159416]\n"
          ]
        }
      ],
      "source": [
        "x = np.array([-1., 0, 1.])\n",
        "print(np.sinh(x))\n",
        "print(np.cosh(x))\n",
        "print(np.tanh(x))"
      ]
    },
    {
      "cell_type": "markdown",
      "metadata": {
        "id": "sm4bQkcaIJzD"
      },
      "source": [
        "## Rounding"
      ]
    },
    {
      "cell_type": "markdown",
      "metadata": {
        "id": "nWLVqRWdIJzD"
      },
      "source": [
        "Q6. Predict the results of these, paying attention to the difference among the family functions."
      ]
    },
    {
      "cell_type": "code",
      "execution_count": 91,
      "metadata": {
        "colab": {
          "base_uri": "https://localhost:8080/"
        },
        "id": "14Q5Dm7yIJzD",
        "outputId": "2efe2974-3b9a-40d4-d6cf-2bd6cd31744e"
      },
      "outputs": [
        {
          "output_type": "stream",
          "name": "stdout",
          "text": [
            "[ 2.  2.  2.  3. -2. -2. -3.]\n",
            "[ 2.  1.  2.  2. -3. -3. -3.]\n",
            "[ 3.  2.  3.  3. -2. -2. -2.]\n",
            "[ 2.  1.  2.  2. -2. -2. -2.]\n",
            "[2, 2, 2, 3, -2, -2, -3]\n"
          ]
        }
      ],
      "source": [
        "x = np.array([2.1, 1.5, 2.5, 2.9, -2.1, -2.5, -2.9])\n",
        "\n",
        "out1 = np.around(x)\n",
        "out2 = np.floor(x)\n",
        "out3 = np.ceil(x)\n",
        "out4 = np.trunc(x)\n",
        "out5 = [round(elem) for elem in x]\n",
        "\n",
        "print(out1)\n",
        "print(out2)\n",
        "print(out3)\n",
        "print(out4)\n",
        "print(out5)"
      ]
    },
    {
      "cell_type": "markdown",
      "metadata": {
        "id": "0Xw58vrdIJzE"
      },
      "source": [
        "Q7. Implement out5 in the above question using numpy."
      ]
    },
    {
      "cell_type": "code",
      "execution_count": 92,
      "metadata": {
        "colab": {
          "base_uri": "https://localhost:8080/"
        },
        "id": "J4-2cjL8IJzE",
        "outputId": "086cd8dc-e6b9-483d-b16d-081d4c3bdfb0"
      },
      "outputs": [
        {
          "output_type": "stream",
          "name": "stdout",
          "text": [
            "[ 2.  2.  3.  3. -2. -3. -3.]\n"
          ]
        }
      ],
      "source": [
        "print(np.floor(np.abs(x) + 0.5) * np.sign(x))\n",
        "# Read http://numpy-discussion.10968.n7.nabble.com/why-numpy-round-get-a-different-result-from-python-round-function-td19098.html"
      ]
    },
    {
      "cell_type": "markdown",
      "metadata": {
        "id": "GFuyzNm6IJzF"
      },
      "source": [
        "## Sums, products, differences"
      ]
    },
    {
      "cell_type": "markdown",
      "metadata": {
        "id": "OQGMy3FsIJzF"
      },
      "source": [
        "Q8. Predict the results of these."
      ]
    },
    {
      "cell_type": "code",
      "execution_count": 93,
      "metadata": {
        "colab": {
          "base_uri": "https://localhost:8080/"
        },
        "id": "8DydzhoXIJzF",
        "outputId": "98f17ac3-bd57-4d3b-8597-273d51d34620"
      },
      "outputs": [
        {
          "output_type": "stream",
          "name": "stdout",
          "text": [
            "-> 36\n",
            "-> [ 6  8 10 12]\n",
            "-> [[10]\n",
            " [26]]\n",
            "\n",
            "-> 40320\n",
            "-> [ 5 12 21 32]\n",
            "-> [[  24]\n",
            " [1680]]\n",
            "\n",
            "-> [ 1  3  6 10 15 21 28 36]\n",
            "-> [[ 1  2  3  4]\n",
            " [ 6  8 10 12]]\n",
            "-> [[ 1  3  6 10]\n",
            " [ 5 11 18 26]]\n",
            "\n",
            "-> [    1     2     6    24   120   720  5040 40320]\n",
            "-> [[ 1  2  3  4]\n",
            " [ 5 12 21 32]]\n",
            "-> [[   1    2    6   24]\n",
            " [   5   30  210 1680]]\n",
            "\n",
            "-> 1\n",
            "-> [1 2 3 4]\n",
            "-> [[1]\n",
            " [5]]\n",
            "\n",
            "-> 8\n",
            "-> [5 6 7 8]\n",
            "-> [[4]\n",
            " [8]]\n",
            "\n",
            "-> 4.5\n",
            "-> [3. 4. 5. 6.]\n",
            "-> [[2.5]\n",
            " [6.5]]\n"
          ]
        }
      ],
      "source": [
        "x = np.array(\n",
        "    [[1, 2, 3, 4],\n",
        "     [5, 6, 7, 8]])\n",
        "\n",
        "outs = [np.sum(x),\n",
        "        np.sum(x, axis=0),\n",
        "        np.sum(x, axis=1, keepdims=True),\n",
        "        \"\",\n",
        "        np.prod(x),\n",
        "        np.prod(x, axis=0),\n",
        "        np.prod(x, axis=1, keepdims=True),\n",
        "        \"\",\n",
        "        np.cumsum(x),\n",
        "        np.cumsum(x, axis=0),\n",
        "        np.cumsum(x, axis=1),\n",
        "        \"\",\n",
        "        np.cumprod(x),\n",
        "        np.cumprod(x, axis=0),\n",
        "        np.cumprod(x, axis=1),\n",
        "        \"\",\n",
        "        np.min(x),\n",
        "        np.min(x, axis=0),\n",
        "        np.min(x, axis=1, keepdims=True),\n",
        "        \"\",\n",
        "        np.max(x),\n",
        "        np.max(x, axis=0),\n",
        "        np.max(x, axis=1, keepdims=True),\n",
        "        \"\",\n",
        "        np.mean(x),\n",
        "        np.mean(x, axis=0),\n",
        "        np.mean(x, axis=1, keepdims=True)]\n",
        "\n",
        "for out in outs:\n",
        "    if isinstance(out, str) and out == \"\":\n",
        "        print()\n",
        "    else:\n",
        "        print(\"->\", out)"
      ]
    },
    {
      "cell_type": "markdown",
      "metadata": {
        "id": "OHsVlVbRIJzG"
      },
      "source": [
        "Q9. Calculate the difference between neighboring elements, element-wise."
      ]
    },
    {
      "cell_type": "code",
      "execution_count": 94,
      "metadata": {
        "colab": {
          "base_uri": "https://localhost:8080/"
        },
        "id": "sLjZq57fIJzG",
        "outputId": "b199119f-5a79-479f-8f6f-2ec15bef0bd7"
      },
      "outputs": [
        {
          "output_type": "stream",
          "name": "stdout",
          "text": [
            "[ 1  2  3 -7]\n"
          ]
        }
      ],
      "source": [
        "x = np.array([1, 2, 4, 7, 0])\n",
        "print(np.diff(x))"
      ]
    },
    {
      "cell_type": "markdown",
      "metadata": {
        "id": "5Fnf7qdkIJzG"
      },
      "source": [
        "Q10. Calculate the difference between neighboring elements, element-wise, and\n",
        "prepend [0, 0] and append[100] to it."
      ]
    },
    {
      "cell_type": "code",
      "execution_count": 95,
      "metadata": {
        "colab": {
          "base_uri": "https://localhost:8080/"
        },
        "id": "Kbgf3NIaIJzH",
        "outputId": "28cd3b38-e95c-491e-cb35-521fb6ba52a2"
      },
      "outputs": [
        {
          "output_type": "stream",
          "name": "stdout",
          "text": [
            "[  0   0   1   2   3  -7 100]\n"
          ]
        }
      ],
      "source": [
        "x = np.array([1, 2, 4, 7, 0])\n",
        "\n",
        "out1 = np.ediff1d(x, to_begin=[0, 0], to_end=[100])\n",
        "out2 = np.insert(np.append(np.diff(x), 100), 0, [0, 0])\n",
        "assert np.array_equiv(out1, out2)\n",
        "print(out2)"
      ]
    },
    {
      "cell_type": "markdown",
      "metadata": {
        "id": "1cAmyHlZIJzH"
      },
      "source": [
        "Q11. Return the cross product of x and y."
      ]
    },
    {
      "cell_type": "code",
      "execution_count": 96,
      "metadata": {
        "colab": {
          "base_uri": "https://localhost:8080/"
        },
        "id": "QOruPUYGIJzH",
        "outputId": "c62c41cc-92a5-4aae-a201-6690fd06791a"
      },
      "outputs": [
        {
          "output_type": "stream",
          "name": "stdout",
          "text": [
            "[-3  6 -3]\n"
          ]
        }
      ],
      "source": [
        "x = np.array([1, 2, 3])\n",
        "y = np.array([4, 5, 6])\n",
        "\n",
        "print(np.cross(x, y))"
      ]
    },
    {
      "cell_type": "markdown",
      "metadata": {
        "id": "1d4_PeuoIJzI"
      },
      "source": [
        "## Exponents and logarithms"
      ]
    },
    {
      "cell_type": "markdown",
      "metadata": {
        "id": "dEX9Q_txIJzI"
      },
      "source": [
        "Q12. Compute $e^x$, element-wise."
      ]
    },
    {
      "cell_type": "code",
      "execution_count": 97,
      "metadata": {
        "colab": {
          "base_uri": "https://localhost:8080/"
        },
        "id": "NsMtT-HQIJzI",
        "outputId": "0c713006-8b98-4023-92df-a6ded1ffee35"
      },
      "outputs": [
        {
          "output_type": "stream",
          "name": "stdout",
          "text": [
            "[ 2.718282   7.3890557 20.085537 ]\n"
          ]
        }
      ],
      "source": [
        "x = np.array([1., 2., 3.], np.float32)\n",
        "\n",
        "out = np.exp(x)\n",
        "print(out)"
      ]
    },
    {
      "cell_type": "markdown",
      "metadata": {
        "id": "orqKm5xsIJzJ"
      },
      "source": [
        "Q13. Calculate exp(x) - 1 for all elements in x."
      ]
    },
    {
      "cell_type": "code",
      "execution_count": 98,
      "metadata": {
        "colab": {
          "base_uri": "https://localhost:8080/"
        },
        "id": "AHlKeSU9IJzJ",
        "outputId": "5306472b-5d93-42b2-9d2c-7da1b1cf7722"
      },
      "outputs": [
        {
          "output_type": "stream",
          "name": "stdout",
          "text": [
            "[ 1.7182817  6.389056  19.085537 ]\n"
          ]
        }
      ],
      "source": [
        "x = np.array([1., 2., 3.], np.float32)\n",
        "\n",
        "out1 = np.expm1(x)\n",
        "out2 = np.exp(x) - 1.\n",
        "assert np.allclose(out1, out2)\n",
        "print(out1)"
      ]
    },
    {
      "cell_type": "markdown",
      "metadata": {
        "id": "WSwMGLBaIJzJ"
      },
      "source": [
        "Q14. Calculate $2^p$ for all p in x."
      ]
    },
    {
      "cell_type": "code",
      "execution_count": 99,
      "metadata": {
        "colab": {
          "base_uri": "https://localhost:8080/"
        },
        "id": "e6m7UFHkIJzK",
        "outputId": "04c83ba8-4e97-4fed-e1f6-e05445541104"
      },
      "outputs": [
        {
          "output_type": "stream",
          "name": "stdout",
          "text": [
            "[2. 4. 8.]\n"
          ]
        }
      ],
      "source": [
        "x = np.array([1., 2., 3.], np.float32)\n",
        "\n",
        "out1 = np.exp2(x)\n",
        "out2 = 2 ** x\n",
        "assert np.allclose(out1, out2)\n",
        "print(out1)"
      ]
    },
    {
      "cell_type": "markdown",
      "metadata": {
        "id": "dspWg6cAIJzM"
      },
      "source": [
        "Q15. Compute natural, base 10, and base 2 logarithms of x element-wise."
      ]
    },
    {
      "cell_type": "code",
      "execution_count": 100,
      "metadata": {
        "colab": {
          "base_uri": "https://localhost:8080/"
        },
        "id": "oDvsf0JRIJzM",
        "outputId": "48d0c721-80fc-43d5-b9ba-c71876322824"
      },
      "outputs": [
        {
          "output_type": "stream",
          "name": "stdout",
          "text": [
            "natural log = [0. 1. 2.]\n",
            "common log = [0.         0.43429448 0.86858896]\n",
            "base 2 log = [0.         1.44269504 2.88539008]\n"
          ]
        }
      ],
      "source": [
        "x = np.array([1, np.e, np.e**2])\n",
        "\n",
        "print(\"natural log =\", np.log(x))\n",
        "print(\"common log =\", np.log10(x))\n",
        "print(\"base 2 log =\", np.log2(x))"
      ]
    },
    {
      "cell_type": "markdown",
      "metadata": {
        "id": "42NQWrSSIJzY"
      },
      "source": [
        "Q16. Compute the natural logarithm of one plus each element in x in floating-point accuracy."
      ]
    },
    {
      "cell_type": "code",
      "execution_count": 101,
      "metadata": {
        "colab": {
          "base_uri": "https://localhost:8080/"
        },
        "id": "Ww0aBKVuIJzY",
        "outputId": "940ba19f-74f9-497a-a711-ec8d7e8668ea"
      },
      "outputs": [
        {
          "output_type": "stream",
          "name": "stdout",
          "text": [
            "[1.e-099 1.e-100]\n"
          ]
        }
      ],
      "source": [
        "x = np.array([1e-99, 1e-100])\n",
        "\n",
        "print(np.log1p(x))\n",
        "# Compare it with np.log(1 +x)"
      ]
    },
    {
      "cell_type": "markdown",
      "metadata": {
        "id": "S3FlicSBIJzZ"
      },
      "source": [
        "## Floating point routines"
      ]
    },
    {
      "cell_type": "markdown",
      "metadata": {
        "id": "GPtbldxmIJzZ"
      },
      "source": [
        "Q17. Return element-wise True where signbit is set."
      ]
    },
    {
      "cell_type": "code",
      "execution_count": 102,
      "metadata": {
        "colab": {
          "base_uri": "https://localhost:8080/"
        },
        "id": "dCXNO7-9IJzZ",
        "outputId": "0ed1651d-c330-41a3-992b-62ab96e1f521"
      },
      "outputs": [
        {
          "output_type": "stream",
          "name": "stdout",
          "text": [
            "[ True  True  True False False False False]\n"
          ]
        }
      ],
      "source": [
        "x = np.array([-3, -2, -1, 0, 1, 2, 3])\n",
        "\n",
        "out1 = np.signbit(x)\n",
        "out2 = x < 0\n",
        "assert np.array_equiv(out1, out2)\n",
        "print(out1)"
      ]
    },
    {
      "cell_type": "markdown",
      "metadata": {
        "id": "BLUTZLCsIJza"
      },
      "source": [
        "Q18. Change the sign of x to that of y, element-wise."
      ]
    },
    {
      "cell_type": "code",
      "execution_count": 103,
      "metadata": {
        "colab": {
          "base_uri": "https://localhost:8080/"
        },
        "id": "agdJ00CqIJza",
        "outputId": "157cda7f-b7c3-4b78-e57a-5c786e6a5454"
      },
      "outputs": [
        {
          "output_type": "stream",
          "name": "stdout",
          "text": [
            "[-1. -0. -1.]\n"
          ]
        }
      ],
      "source": [
        "x = np.array([-1, 0, 1])\n",
        "y = -1.1\n",
        "\n",
        "print(np.copysign(x, y))"
      ]
    },
    {
      "cell_type": "markdown",
      "metadata": {
        "id": "okbS6fWbIJza"
      },
      "source": [
        "## Arithmetic operations"
      ]
    },
    {
      "cell_type": "markdown",
      "metadata": {
        "id": "fM3hvSdrIJza"
      },
      "source": [
        "Q19. Add x and y element-wise."
      ]
    },
    {
      "cell_type": "code",
      "execution_count": 104,
      "metadata": {
        "colab": {
          "base_uri": "https://localhost:8080/"
        },
        "id": "vcjaW8kzIJzb",
        "outputId": "8c0e28ee-4e06-4349-e632-3a2f35c785a2"
      },
      "outputs": [
        {
          "output_type": "stream",
          "name": "stdout",
          "text": [
            "[0 0 0]\n"
          ]
        }
      ],
      "source": [
        "x = np.array([1, 2, 3])\n",
        "y = np.array([-1, -2, -3])\n",
        "\n",
        "out1 = np.add(x, y)\n",
        "out2 = x + y\n",
        "assert np.array_equal(out1, out2)\n",
        "print(out1)"
      ]
    },
    {
      "cell_type": "markdown",
      "metadata": {
        "id": "vGKWWJA2IJzb"
      },
      "source": [
        "Q20. Subtract y from x element-wise."
      ]
    },
    {
      "cell_type": "code",
      "execution_count": 105,
      "metadata": {
        "colab": {
          "base_uri": "https://localhost:8080/"
        },
        "id": "-vkwhWSjIJzb",
        "outputId": "e671a012-4367-418e-9413-33a5c5d80b33"
      },
      "outputs": [
        {
          "output_type": "stream",
          "name": "stdout",
          "text": [
            "[0 1 2]\n"
          ]
        }
      ],
      "source": [
        "x = np.array([3, 4, 5])\n",
        "y = np.array(3)\n",
        "\n",
        "out1 = np.subtract(x, y)\n",
        "out2 = x - y\n",
        "assert np.array_equal(out1, out2)\n",
        "print(out1)"
      ]
    },
    {
      "cell_type": "markdown",
      "metadata": {
        "id": "jdyCOvR8IJzc"
      },
      "source": [
        "Q21. Multiply x by y element-wise."
      ]
    },
    {
      "cell_type": "code",
      "execution_count": 106,
      "metadata": {
        "colab": {
          "base_uri": "https://localhost:8080/"
        },
        "id": "ilBhO7KrIJzc",
        "outputId": "72df6861-4b21-4a0b-93ee-55632167f42f"
      },
      "outputs": [
        {
          "output_type": "stream",
          "name": "stdout",
          "text": [
            "[ 3  0 -5]\n"
          ]
        }
      ],
      "source": [
        "x = np.array([3, 4, 5])\n",
        "y = np.array([1, 0, -1])\n",
        "\n",
        "out1 = np.multiply(x, y)\n",
        "out2 = x * y\n",
        "assert np.array_equal(out1, out2)\n",
        "print(out1)"
      ]
    },
    {
      "cell_type": "markdown",
      "metadata": {
        "id": "hJ-ylEqrIJzd"
      },
      "source": [
        "Q22. Divide x by y element-wise in two different ways."
      ]
    },
    {
      "cell_type": "code",
      "execution_count": 107,
      "metadata": {
        "colab": {
          "base_uri": "https://localhost:8080/"
        },
        "id": "h2IrWq0gIJzd",
        "outputId": "c48ec77d-578a-4ed9-8183-d30ec4e5ccfe"
      },
      "outputs": [
        {
          "output_type": "stream",
          "name": "stdout",
          "text": [
            "[3.         2.         1.66666667]\n",
            "[3. 2. 1.]\n"
          ]
        }
      ],
      "source": [
        "x = np.array([3., 4., 5.])\n",
        "y = np.array([1., 2., 3.])\n",
        "\n",
        "out1 = np.true_divide(x, y)\n",
        "out2 = x / y\n",
        "assert np.array_equal(out1, out2)\n",
        "print(out1)\n",
        "\n",
        "out3 = np.floor_divide(x, y)\n",
        "out4 = x // y\n",
        "assert np.array_equal(out3, out4)\n",
        "print(out3)\n",
        "\n",
        "# Note that in Python 2 and 3, the handling of `divide` differs.\n",
        "# See https://docs.scipy.org/doc/numpy/reference/generated/numpy.divide.html#numpy.divide"
      ]
    },
    {
      "cell_type": "markdown",
      "metadata": {
        "id": "St-wxgGhIJze"
      },
      "source": [
        "Q23. Compute numerical negative value of x, element-wise."
      ]
    },
    {
      "cell_type": "code",
      "execution_count": 108,
      "metadata": {
        "colab": {
          "base_uri": "https://localhost:8080/"
        },
        "id": "2EkmeOKXIJze",
        "outputId": "7014f540-4fc9-49c5-de38-e073f07c23ad"
      },
      "outputs": [
        {
          "output_type": "stream",
          "name": "stdout",
          "text": [
            "[-1  1]\n"
          ]
        }
      ],
      "source": [
        "x = np.array([1, -1])\n",
        "\n",
        "out1 = np.negative(x)\n",
        "out2 = -x\n",
        "assert np.array_equal(out1, out2)\n",
        "print(out1)"
      ]
    },
    {
      "cell_type": "markdown",
      "metadata": {
        "id": "k6z7WjEUIJze"
      },
      "source": [
        "Q24. Compute the reciprocal of x, element-wise."
      ]
    },
    {
      "cell_type": "code",
      "execution_count": 109,
      "metadata": {
        "colab": {
          "base_uri": "https://localhost:8080/"
        },
        "id": "gHk8e8QlIJzf",
        "outputId": "9b886a65-426f-4a44-d22b-0269d698fb87"
      },
      "outputs": [
        {
          "output_type": "stream",
          "name": "stdout",
          "text": [
            "[1.  0.5 5. ]\n"
          ]
        }
      ],
      "source": [
        "x = np.array([1., 2., .2])\n",
        "\n",
        "out1 = np.reciprocal(x)\n",
        "out2 = 1/x\n",
        "assert np.array_equal(out1, out2)\n",
        "print(out1)"
      ]
    },
    {
      "cell_type": "markdown",
      "metadata": {
        "id": "lDjYFMn-IJzf"
      },
      "source": [
        "Q25. Compute $x^y$, element-wise."
      ]
    },
    {
      "cell_type": "code",
      "execution_count": 110,
      "metadata": {
        "colab": {
          "base_uri": "https://localhost:8080/"
        },
        "id": "cL5BsOZzIJzf",
        "outputId": "670c83d7-dfa6-439a-a468-61fbece04952"
      },
      "outputs": [
        {
          "output_type": "stream",
          "name": "stdout",
          "text": [
            "[[ 1  4]\n",
            " [ 3 16]]\n"
          ]
        }
      ],
      "source": [
        "x = np.array([[1, 2], [3, 4]])\n",
        "y = np.array([[1, 2], [1, 2]])\n",
        "\n",
        "out = np.power(x, y)\n",
        "print(out)"
      ]
    },
    {
      "cell_type": "markdown",
      "metadata": {
        "id": "neb_21oVIJzg"
      },
      "source": [
        "Q26. Compute the remainder of x / y element-wise in two different ways."
      ]
    },
    {
      "cell_type": "code",
      "execution_count": 111,
      "metadata": {
        "colab": {
          "base_uri": "https://localhost:8080/"
        },
        "id": "uVFOZxWXIJzg",
        "outputId": "b538751f-8300-430b-ac36-c8e4a76ae15e"
      },
      "outputs": [
        {
          "output_type": "stream",
          "name": "stdout",
          "text": [
            "[1 0 1 1 0 1]\n",
            "[-1  0 -1  1  0  1]\n"
          ]
        }
      ],
      "source": [
        "x = np.array([-3, -2, -1, 1, 2, 3])\n",
        "y = 2\n",
        "\n",
        "out1 = np.mod(x, y)\n",
        "out2 = x % y\n",
        "assert np.array_equal(out1, out2)\n",
        "print(out1)\n",
        "\n",
        "out3 = np.fmod(x, y)\n",
        "print(out3)"
      ]
    },
    {
      "cell_type": "markdown",
      "metadata": {
        "id": "JPr56mYhIJzg"
      },
      "source": [
        "## Miscellaneous"
      ]
    },
    {
      "cell_type": "markdown",
      "metadata": {
        "id": "bzO4BSO7IJzh"
      },
      "source": [
        "Q27. If an element of x is smaller than 3, replace it with 3.\n",
        "And if an element of x is bigger than 7, replace it with 7."
      ]
    },
    {
      "cell_type": "code",
      "execution_count": 112,
      "metadata": {
        "colab": {
          "base_uri": "https://localhost:8080/"
        },
        "id": "AhlUI7bCIJzh",
        "outputId": "52bea696-eba6-4650-f582-7c37e45697be"
      },
      "outputs": [
        {
          "output_type": "stream",
          "name": "stdout",
          "text": [
            "[3 3 3 3 4 5 6 7 7 7]\n"
          ]
        }
      ],
      "source": [
        "x = np.arange(10)\n",
        "\n",
        "out1 = np.clip(x, 3, 7)\n",
        "out2 = np.copy(x)\n",
        "out2[out2 < 3] = 3\n",
        "out2[out2 > 7] = 7\n",
        "\n",
        "assert np.array_equiv(out1, out2)\n",
        "print(out1)"
      ]
    },
    {
      "cell_type": "markdown",
      "metadata": {
        "id": "o_ZjMYkzIJzh"
      },
      "source": [
        "Q28. Compute the square of x, element-wise."
      ]
    },
    {
      "cell_type": "code",
      "execution_count": 113,
      "metadata": {
        "colab": {
          "base_uri": "https://localhost:8080/"
        },
        "id": "nHVbb9anIJzi",
        "outputId": "36f7e901-5016-4c3e-edd1-47a5337d5298"
      },
      "outputs": [
        {
          "output_type": "stream",
          "name": "stdout",
          "text": [
            "[1 4 1]\n"
          ]
        }
      ],
      "source": [
        "x = np.array([1, 2, -1])\n",
        "\n",
        "out1 = np.square(x)\n",
        "out2 = x * x\n",
        "assert np.array_equal(out1, out2)\n",
        "print(out1)"
      ]
    },
    {
      "cell_type": "markdown",
      "metadata": {
        "id": "NppoScywIJzi"
      },
      "source": [
        "Q29. Compute square root of x element-wise.\n"
      ]
    },
    {
      "cell_type": "code",
      "execution_count": 114,
      "metadata": {
        "colab": {
          "base_uri": "https://localhost:8080/"
        },
        "id": "HEyONyf1IJzi",
        "outputId": "48631e0a-70cc-4e1f-b717-0688bbbad2d4"
      },
      "outputs": [
        {
          "output_type": "stream",
          "name": "stdout",
          "text": [
            "[1. 2. 3.]\n"
          ]
        }
      ],
      "source": [
        "x = np.array([1., 4., 9.])\n",
        "\n",
        "out = np.sqrt(x)\n",
        "print(out)"
      ]
    },
    {
      "cell_type": "markdown",
      "metadata": {
        "id": "tJEw6jbOIJzj"
      },
      "source": [
        "Q30. Compute the absolute value of x."
      ]
    },
    {
      "cell_type": "code",
      "execution_count": 115,
      "metadata": {
        "colab": {
          "base_uri": "https://localhost:8080/"
        },
        "id": "H6cszWruIJzj",
        "outputId": "b2154d34-2a66-43b0-e21f-3628b1611c23"
      },
      "outputs": [
        {
          "output_type": "stream",
          "name": "stdout",
          "text": [
            "[[1 1]\n",
            " [3 3]]\n"
          ]
        }
      ],
      "source": [
        "x = np.array([[1, -1], [3, -3]])\n",
        "\n",
        "out = np.abs(x)\n",
        "print(out)"
      ]
    },
    {
      "cell_type": "markdown",
      "metadata": {
        "id": "1EnQnIw3IJzj"
      },
      "source": [
        "Q31. Compute an element-wise indication of the sign of x, element-wise."
      ]
    },
    {
      "cell_type": "code",
      "execution_count": 116,
      "metadata": {
        "colab": {
          "base_uri": "https://localhost:8080/"
        },
        "id": "C3o7rT-1IJzk",
        "outputId": "1745fdd9-12fe-432f-a3b2-0a766d5c17dd"
      },
      "outputs": [
        {
          "output_type": "stream",
          "name": "stdout",
          "text": [
            "[ 1  1  0 -1 -1]\n"
          ]
        }
      ],
      "source": [
        "x = np.array([1, 3, 0, -1, -3])\n",
        "\n",
        "out1 = np.sign(x)\n",
        "out2 = np.copy(x)\n",
        "out2[out2 > 0] = 1\n",
        "out2[out2 < 0] = -1\n",
        "assert np.array_equal(out1, out2)\n",
        "print(out1)"
      ]
    },
    {
      "cell_type": "code",
      "execution_count": 116,
      "metadata": {
        "collapsed": true,
        "id": "O1M7_VHiIJzk"
      },
      "outputs": [],
      "source": []
    }
  ],
  "metadata": {
    "kernelspec": {
      "display_name": "Python 2",
      "language": "python",
      "name": "python2"
    },
    "language_info": {
      "codemirror_mode": {
        "name": "ipython",
        "version": 2
      },
      "file_extension": ".py",
      "mimetype": "text/x-python",
      "name": "python",
      "nbconvert_exporter": "python",
      "pygments_lexer": "ipython2",
      "version": "2.7.6"
    },
    "colab": {
      "provenance": [],
      "include_colab_link": true
    }
  },
  "nbformat": 4,
  "nbformat_minor": 0
}