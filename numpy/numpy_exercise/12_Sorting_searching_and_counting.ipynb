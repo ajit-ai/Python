{
  "cells": [
    {
      "cell_type": "markdown",
      "metadata": {
        "id": "view-in-github",
        "colab_type": "text"
      },
      "source": [
        "<a href=\"https://colab.research.google.com/github/ajit-ai/Python/blob/main/numpy/numpy_exercise/12_Sorting_searching_and_counting.ipynb\" target=\"_parent\"><img src=\"https://colab.research.google.com/assets/colab-badge.svg\" alt=\"Open In Colab\"/></a>"
      ]
    },
    {
      "cell_type": "markdown",
      "metadata": {
        "id": "B4ossBD9NMr0"
      },
      "source": [
        "# Soring, searching, and counting"
      ]
    },
    {
      "cell_type": "code",
      "execution_count": 83,
      "metadata": {
        "collapsed": true,
        "id": "4QgF53nnNMr7"
      },
      "outputs": [],
      "source": [
        "import numpy as np"
      ]
    },
    {
      "cell_type": "code",
      "execution_count": 84,
      "metadata": {
        "colab": {
          "base_uri": "https://localhost:8080/",
          "height": 35
        },
        "id": "UiKljvJFNMr-",
        "outputId": "81992a13-8a46-4c0c-e494-6a64ef12d2ab"
      },
      "outputs": [
        {
          "output_type": "execute_result",
          "data": {
            "text/plain": [
              "'2.0.2'"
            ],
            "application/vnd.google.colaboratory.intrinsic+json": {
              "type": "string"
            }
          },
          "metadata": {},
          "execution_count": 84
        }
      ],
      "source": [
        "np.__version__"
      ]
    },
    {
      "cell_type": "code",
      "execution_count": 85,
      "metadata": {
        "collapsed": true,
        "id": "TdRwrFBgNMsA"
      },
      "outputs": [],
      "source": [
        "author = 'ajitjava2@gmail.com'"
      ]
    },
    {
      "cell_type": "markdown",
      "metadata": {
        "id": "BvKJw1TvNMsC"
      },
      "source": [
        "## Sorting"
      ]
    },
    {
      "cell_type": "markdown",
      "metadata": {
        "id": "MVsYecXqNMsD"
      },
      "source": [
        "Q1. Sort x along the second axis."
      ]
    },
    {
      "cell_type": "code",
      "execution_count": 86,
      "metadata": {
        "id": "gx8ig-W2NMsE"
      },
      "outputs": [],
      "source": [
        "x = np.array([[1,4],[3,1]])\n"
      ]
    },
    {
      "cell_type": "markdown",
      "metadata": {
        "id": "Bof6roOwNMsH"
      },
      "source": [
        "Q2. Sort pairs of surnames and first names and return their indices. (first by surname, then by name)."
      ]
    },
    {
      "cell_type": "code",
      "execution_count": 87,
      "metadata": {
        "id": "aSgvaBBNNMsJ"
      },
      "outputs": [],
      "source": [
        "surnames =    ('Hertz',    'Galilei', 'Hertz')\n",
        "first_names = ('Heinrich', 'Galileo', 'Gustav')\n"
      ]
    },
    {
      "cell_type": "markdown",
      "metadata": {
        "id": "JfUQvujkNMsL"
      },
      "source": [
        "Q3. Get the indices that would sort x along the second axis."
      ]
    },
    {
      "cell_type": "code",
      "execution_count": 88,
      "metadata": {
        "id": "7bf-d65ANMsN"
      },
      "outputs": [],
      "source": [
        "x = np.array([[1,4],[3,1]])\n"
      ]
    },
    {
      "cell_type": "markdown",
      "metadata": {
        "id": "jOWAbmZrNMsN"
      },
      "source": [
        "Q4. Create an array such that its fifth element would be the same as the element of sorted x, and it divide other elements by their value."
      ]
    },
    {
      "cell_type": "code",
      "execution_count": 89,
      "metadata": {
        "colab": {
          "base_uri": "https://localhost:8080/"
        },
        "id": "5nMcBDLdNMsO",
        "outputId": "ed710136-62c0-4060-dc4f-ed58b8a31118"
      },
      "outputs": [
        {
          "output_type": "stream",
          "name": "stdout",
          "text": [
            "x = [5 1 0 2 8 4 3 9 6 7]\n"
          ]
        }
      ],
      "source": [
        "x = np.random.permutation(10)\n",
        "print(\"x =\", x)"
      ]
    },
    {
      "cell_type": "markdown",
      "metadata": {
        "id": "O_xVgOKdNMsO"
      },
      "source": [
        "Q5. Create the indices of an array such that its third element would be the same as the element of sorted x, and it divide other elements by their value."
      ]
    },
    {
      "cell_type": "code",
      "execution_count": 90,
      "metadata": {
        "colab": {
          "base_uri": "https://localhost:8080/"
        },
        "id": "mMW0GWwYNMsO",
        "outputId": "e430f999-1b8a-4134-b558-3f55c536140b"
      },
      "outputs": [
        {
          "output_type": "stream",
          "name": "stdout",
          "text": [
            "x = [2 4 3 8 7 6 5 9 1 0]\n"
          ]
        }
      ],
      "source": [
        "x = np.random.permutation(10)\n",
        "print(\"x =\", x)"
      ]
    },
    {
      "cell_type": "markdown",
      "metadata": {
        "id": "gH8FXUxwNMsP"
      },
      "source": [
        "## Searching"
      ]
    },
    {
      "cell_type": "markdown",
      "metadata": {
        "id": "jlmdQefNNMsQ"
      },
      "source": [
        "Q6. Get the maximum and minimum values and their indices of x along the second axis."
      ]
    },
    {
      "cell_type": "code",
      "execution_count": 91,
      "metadata": {
        "colab": {
          "base_uri": "https://localhost:8080/"
        },
        "id": "IcGjfvY3NMsQ",
        "outputId": "fd7946ec-4e82-46a2-9d91-4de42c08df09"
      },
      "outputs": [
        {
          "output_type": "stream",
          "name": "stdout",
          "text": [
            "x = [[3 2 0 6 1]\n",
            " [5 9 8 7 4]]\n"
          ]
        }
      ],
      "source": [
        "x = np.random.permutation(10).reshape(2, 5)\n",
        "print(\"x =\", x)"
      ]
    },
    {
      "cell_type": "markdown",
      "metadata": {
        "id": "09akM4j2NMsR"
      },
      "source": [
        "Q7. Get the maximum and minimum values and their indices of x along the second axis, ignoring NaNs."
      ]
    },
    {
      "cell_type": "code",
      "execution_count": 92,
      "metadata": {
        "id": "_j3bherBNMsR"
      },
      "outputs": [],
      "source": [
        "x = np.array([[np.nan, 4], [3, 2]])\n"
      ]
    },
    {
      "cell_type": "markdown",
      "metadata": {
        "id": "tZ5-Wu8aNMsS"
      },
      "source": [
        "Q8. Get the values and indices of the elements that are bigger than 2 in x.\n"
      ]
    },
    {
      "cell_type": "code",
      "execution_count": 93,
      "metadata": {
        "id": "e0NU6c5WNMsS"
      },
      "outputs": [],
      "source": [
        "x = np.array([[1, 2, 3], [1, 3, 5]])\n"
      ]
    },
    {
      "cell_type": "markdown",
      "metadata": {
        "id": "5Gjm1uxMNMsT"
      },
      "source": [
        "Q9. Get the indices of the elements that are bigger than 2 in the flattend x."
      ]
    },
    {
      "cell_type": "code",
      "execution_count": 94,
      "metadata": {
        "id": "HZeJ0ydUNMsT"
      },
      "outputs": [],
      "source": [
        "x = np.array([[1, 2, 3], [1, 3, 5]])\n"
      ]
    },
    {
      "cell_type": "markdown",
      "metadata": {
        "id": "rWxrZ3q7NMsU"
      },
      "source": [
        "Q10. Check the elements of x and return 0 if it is less than 0, otherwise the element itself."
      ]
    },
    {
      "cell_type": "code",
      "execution_count": 95,
      "metadata": {
        "id": "h_sBxGr-NMsU"
      },
      "outputs": [],
      "source": [
        "x = np.arange(-5, 4).reshape(3, 3)\n"
      ]
    },
    {
      "cell_type": "markdown",
      "metadata": {
        "id": "1bVr7z2uNMsV"
      },
      "source": [
        "Q11. Get the indices where elements of y should be inserted to x to maintain order."
      ]
    },
    {
      "cell_type": "code",
      "execution_count": 96,
      "metadata": {
        "id": "yw3MItuGNMsV"
      },
      "outputs": [],
      "source": [
        "x = [1, 3, 5, 7, 9]\n",
        "y = [0, 4, 2, 6]\n"
      ]
    },
    {
      "cell_type": "markdown",
      "metadata": {
        "id": "Jc-9X8igNMsV"
      },
      "source": [
        "## Counting"
      ]
    },
    {
      "cell_type": "markdown",
      "metadata": {
        "id": "B1SABlWONMsV"
      },
      "source": [
        "Q12. Get the number of nonzero elements in x."
      ]
    },
    {
      "cell_type": "code",
      "execution_count": 97,
      "metadata": {
        "id": "m9w3lJAgNMsW"
      },
      "outputs": [],
      "source": [
        "x = [[0,1,7,0,0],[3,0,0,2,19]]\n"
      ]
    },
    {
      "cell_type": "code",
      "execution_count": 97,
      "metadata": {
        "collapsed": true,
        "id": "HnNRJhHTNMsX"
      },
      "outputs": [],
      "source": []
    },
    {
      "cell_type": "code",
      "metadata": {
        "colab": {
          "base_uri": "https://localhost:8080/"
        },
        "id": "ffe44a3e",
        "outputId": "47c5e384-f976-435c-f823-eb695cb43853"
      },
      "source": [
        "# Q1. Sort x along the second axis.\n",
        "x = np.array([[1,4],[3,1]])\n",
        "sorted_x = np.sort(x, axis=1)\n",
        "print(\"Sorted x along the second axis:\\n\", sorted_x)"
      ],
      "execution_count": 98,
      "outputs": [
        {
          "output_type": "stream",
          "name": "stdout",
          "text": [
            "Sorted x along the second axis:\n",
            " [[1 4]\n",
            " [1 3]]\n"
          ]
        }
      ]
    },
    {
      "cell_type": "code",
      "metadata": {
        "colab": {
          "base_uri": "https://localhost:8080/"
        },
        "id": "a24f9c3d",
        "outputId": "3388d6e1-ed0f-49a7-b48b-8d732a5ba530"
      },
      "source": [
        "# Q3. Get the indices that would sort x along the second axis.\n",
        "x = np.array([[1,4],[3,1]])\n",
        "sorted_indices = np.argsort(x, axis=1)\n",
        "print(\"Indices that would sort x along the second axis:\\n\", sorted_indices)"
      ],
      "execution_count": 99,
      "outputs": [
        {
          "output_type": "stream",
          "name": "stdout",
          "text": [
            "Indices that would sort x along the second axis:\n",
            " [[0 1]\n",
            " [1 0]]\n"
          ]
        }
      ]
    },
    {
      "cell_type": "code",
      "metadata": {
        "colab": {
          "base_uri": "https://localhost:8080/"
        },
        "id": "3a9f2c22",
        "outputId": "70e37502-0fb8-4f3d-a00f-785d88cde099"
      },
      "source": [
        "# Q4. Create an array such that its fifth element would be the same as the element of sorted x, and it divide other elements by their value.\n",
        "x = np.random.permutation(10)\n",
        "print(\"x =\", x)\n",
        "\n",
        "sorted_x = np.sort(x)\n",
        "result_array = np.zeros_like(x, dtype=float)\n",
        "result_array[4] = sorted_x[4] # Fifth element (index 4)\n",
        "\n",
        "is_fifth = np.zeros_like(x, dtype=bool)\n",
        "is_fifth[4] = True\n",
        "is_non_fifth = ~is_fifth\n",
        "is_zero = (sorted_x == 0)\n",
        "\n",
        "non_fifth_and_non_zero = is_non_fifth & ~is_zero\n",
        "non_fifth_and_zero = is_non_fifth & is_zero\n",
        "\n",
        "result_array[non_fifth_and_non_zero] = sorted_x[non_fifth_and_non_zero] / sorted_x[non_fifth_and_non_zero] # Should be 1.0\n",
        "result_array[non_fifth_and_zero] = 0 # Set to 0 where sorted element is 0 and it's not the fifth element\n",
        "\n",
        "print(\"Sorted x =\", sorted_x)\n",
        "print(\"Result array =\", result_array)"
      ],
      "execution_count": 100,
      "outputs": [
        {
          "output_type": "stream",
          "name": "stdout",
          "text": [
            "x = [7 5 8 2 4 1 0 6 9 3]\n",
            "Sorted x = [0 1 2 3 4 5 6 7 8 9]\n",
            "Result array = [0. 1. 1. 1. 4. 1. 1. 1. 1. 1.]\n"
          ]
        }
      ]
    },
    {
      "cell_type": "code",
      "metadata": {
        "colab": {
          "base_uri": "https://localhost:8080/"
        },
        "id": "3b57a9dc",
        "outputId": "b4d36a6a-b193-48fb-903e-bc6f95cd6c11"
      },
      "source": [
        "# Q5. Create the indices of an array such that its third element would be the same as the element of sorted x, and it divide other elements by their value.\n",
        "x = np.random.permutation(10)\n",
        "print(\"x =\", x)\n",
        "\n",
        "sorted_indices = np.argsort(x)\n",
        "print(\"Indices that would sort x:\", sorted_indices)\n",
        "\n",
        "# The third element (index 2) of the sorted array is x[sorted_indices[2]]\n",
        "# The question asks for the indices of an array... such that its third element would be the same as the element of sorted x\n",
        "# This is a bit ambiguous. It could mean:\n",
        "# 1. Create an array of indices where the third index is the index of the element that would be the third element in the sorted array.\n",
        "# 2. Create an array of indices where the element at the third index is the index of the element that would be the third element in the sorted array, and other elements are determined by dividing their original index by their value (which doesn't make much sense).\n",
        "\n",
        "# Let's assume the first interpretation: Create an array of indices.\n",
        "# The index of the third element in the sorted array is sorted_indices[2].\n",
        "# The question then says \"and it divide other elements by their value\". This part is still unclear in the context of indices.\n",
        "# It might be a rephrasing of the Q4 operation but applied to indices.\n",
        "\n",
        "# Let's try to interpret it as creating an array of values based on indices and sorted values, similar to Q4 but focusing on the third element.\n",
        "# Create an array of the same shape as x, but containing indices.\n",
        "indices_array = np.arange(len(x), dtype=float)\n",
        "\n",
        "# The third element (index 2) of this new array of indices should be related to the third element of the sorted x.\n",
        "# Let's assume it means the value at the third index of the new array should be the index of the third element in the sorted array.\n",
        "indices_array[2] = sorted_indices[2]\n",
        "\n",
        "# \"and it divide other elements by their value.\" - This is still very ambiguous for indices.\n",
        "# If we apply the logic from Q4, it would mean for i != 2, indices_array[i] = indices_array[i] / value_of_x_at_indices_array[i]\n",
        "# This interpretation doesn't seem right for an array of indices.\n",
        "\n",
        "# Let's consider another interpretation: Create an array where the element at index i is the index in the original array x such that the element x[index] is the i-th element in the sorted version of x. This is simply argsort.\n",
        "# If the question is asking to modify this argsort array:\n",
        "result_indices_array = np.argsort(x)\n",
        "print(\"Initial argsort:\", result_indices_array)\n",
        "\n",
        "# \"its third element would be the same as the element of sorted x\" - This doesn't fit with an array of indices.\n",
        "\n",
        "# Let's go back to the first interpretation of creating an array of values, but the values are indices.\n",
        "# Create an array initialized with indices 0 to 9.\n",
        "result_array = np.arange(len(x), dtype=float)\n",
        "\n",
        "# The third element (index 2) should be the index of the third element in the sorted x.\n",
        "result_array[2] = sorted_indices[2]\n",
        "\n",
        "# \"and it divide other elements by their value.\" - Let's assume \"value\" here refers to the original index value in the result_array.\n",
        "# For i != 2, result_array[i] = result_array[i] / result_array[i] (if non-zero), which would be 1.\n",
        "\n",
        "is_third = np.zeros_like(x, dtype=bool)\n",
        "is_third[2] = True\n",
        "is_non_third = ~is_third\n",
        "is_zero_indices = (result_array == 0)\n",
        "\n",
        "non_third_and_non_zero_indices = is_non_third & ~is_zero_indices\n",
        "non_third_and_zero_indices = is_non_third & is_zero_indices\n",
        "\n",
        "result_array[non_third_and_non_zero_indices] = result_array[non_third_and_non_zero_indices] / result_array[non_third_and_non_zero_indices] # Should be 1.0\n",
        "# Handle the case where the index itself is 0 (only at index 0) and it's not the third element.\n",
        "# If index 0 is not the third element, and result_array[0] is 0, we need to set it to 0.\n",
        "# This is covered by non_third_and_zero_indices.\n",
        "\n",
        "result_array[non_third_and_zero_indices] = 0\n",
        "\n",
        "print(\"Result array (interpreting 'value' as the index value):\", result_array)\n",
        "\n",
        "# This interpretation still feels a bit forced due to the \"divide other elements by their value\" part in the context of indices.\n",
        "# Let's consider the possibility that the question is malformed or a variation of Q4.\n",
        "\n",
        "# If it's a variation of Q4 but asking for indices:\n",
        "# Create an array of indices from 0 to 9.\n",
        "indices = np.arange(len(x))\n",
        "# Get the indices that sort x.\n",
        "sorted_indices_of_x = np.argsort(x)\n",
        "\n",
        "# Create a result array of indices.\n",
        "result_indices_array_2 = np.copy(indices)\n",
        "\n",
        "# The third element (index 2) of this result_indices_array_2 should be the index of the third element in the sorted x.\n",
        "result_indices_array_2[2] = sorted_indices_of_x[2]\n",
        "\n",
        "# \"and it divide other elements by their value.\" - If \"value\" refers to the original index value (i.e., the value in the indices array before modification).\n",
        "# For i != 2, result_indices_array_2[i] = result_indices_array_2[i] / original_index_value_at_i\n",
        "# This still doesn't make sense as we are dealing with indices.\n",
        "\n",
        "# Let's assume \"value\" refers to the value of x at that index in the original array.\n",
        "# For i != 2, result_indices_array_2[i] = result_indices_array_2[i] / x[result_indices_array_2[i]]\n",
        "# This also seems unlikely.\n",
        "\n",
        "# Given the ambiguity, and the similarity to Q4, the most plausible interpretation is that we are creating an array of values (not indices in the sense of positions in the original array), where the values are derived from the indices and the sorted array, similar to Q4.\n",
        "# Let's stick with the first interpretation where we create an array of float values.\n",
        "\n",
        "print(\"\\nAnother interpretation attempt (closer to Q4 logic but with indices):\")\n",
        "# Create an array based on the sorted indices.\n",
        "result_array_3 = np.copy(sorted_indices).astype(float)\n",
        "print(\"Initial array based on sorted indices:\", result_array_3)\n",
        "\n",
        "# The third element (index 2) should be the same as the element of sorted x. This doesn't fit.\n",
        "\n",
        "# Let's assume the question meant: Create an array where the element at index i is the index in the original array x such that x[index] is the i-th element in the sorted version of x. This is argsort.\n",
        "# Then, modify this argsort array such that its third element is the index of the third element in the sorted x, and other elements are divided by their value (which is still ambiguous).\n",
        "\n",
        "# Let's assume the question is asking to create an array of the same size as x, where the value at the third position is the index that would correspond to the third element in the sorted version of x. For other positions, the value is the original index divided by the value of x at that original index. This is highly speculative.\n",
        "\n",
        "# Given the difficulty in interpreting \"divide other elements by their value\" in the context of creating an array of indices, I will provide the solution based on the most likely interpretation from Q4's logic applied to indices: create an array of float values where the third element is the index of the third element in the sorted array, and other elements are 1.0 if their original index was non-zero, and 0.0 if their original index was zero. This still feels like a stretch.\n",
        "\n",
        "# Let's reconsider the first interpretation: Create an array of indices such that its third element is the index of the third element in the sorted array. For other positions, what should the value be? \"divide other elements by their value\". If \"value\" refers to the index value itself, this leads to the previous interpretation with 1.0s and 0.0s.\n",
        "\n",
        "# Let's try a simpler interpretation: Create an array of indices. The third element is the index of the third element of the sorted array. Other elements are just their original indices.\n",
        "result_indices_simple = np.arange(len(x))\n",
        "result_indices_simple[2] = sorted_indices[2]\n",
        "print(\"\\nSimpler interpretation (third element is sorted index, others are original indices):\", result_indices_simple)\n",
        "\n",
        "# This doesn't include the \"divide other elements by their value\" part.\n",
        "\n",
        "# Let's go back to the interpretation that is closest to Q4's structure. Create a float array.\n",
        "result_array_q5 = np.arange(len(x), dtype=float)\n",
        "result_array_q5[2] = sorted_indices[2] # Third element is the index of the third element in sorted x\n",
        "\n",
        "# \"divide other elements by their value\". Let's assume \"value\" refers to the original index value.\n",
        "is_third_q5 = np.zeros_like(x, dtype=bool)\n",
        "is_third_q5[2] = True\n",
        "is_non_third_q5 = ~is_third_q5\n",
        "is_zero_indices_q5 = (result_array_q5 == 0)\n",
        "\n",
        "non_third_and_non_zero_indices_q5 = is_non_third_q5 & ~is_zero_indices_q5\n",
        "non_third_and_zero_indices_q5 = is_non_third_q5 & is_zero_indices_q5\n",
        "\n",
        "# For non-third, non-zero indices, divide the index by itself (resulting in 1.0).\n",
        "result_array_q5[non_third_and_non_zero_indices_q5] = result_array_q5[non_third_and_non_zero_indices_q5] / result_array_q5[non_third_and_non_zero_indices_q5]\n",
        "\n",
        "# For non-third, zero indices (only index 0), set to 0.\n",
        "result_array_q5[non_third_and_zero_indices_q5] = 0\n",
        "\n",
        "print(\"\\nInterpretation similar to Q4 (float array, third element is sorted index, others are 1.0 or 0.0):\", result_array_q5)\n",
        "\n",
        "# This interpretation seems the most consistent with the structure of Q4, although the phrasing is awkward for indices. I will provide this as the solution.\n",
        "\n",
        "# Final chosen interpretation: Create a float array of size 10. The element at index 2 is the index in the original array `x` that corresponds to the third element in the sorted version of `x`. For all other indices `i`, the element is 1.0 if `i` is non-zero, and 0.0 if `i` is zero.\n",
        "\n",
        "result_array_final = np.zeros(len(x), dtype=float)\n",
        "# Get the index of the third element in the sorted version of x\n",
        "index_of_third_sorted_element = np.argsort(x)[2]\n",
        "\n",
        "# Set the element at index 2 in the result array to this index\n",
        "result_array_final[2] = index_of_third_sorted_element\n",
        "\n",
        "# For all other indices i != 2:\n",
        "# If i is non-zero, the value is 1.0\n",
        "# If i is zero, the value is 0.0\n",
        "other_indices = np.arange(len(x)) != 2\n",
        "non_zero_other_indices = other_indices & (np.arange(len(x)) != 0)\n",
        "zero_other_indices = other_indices & (np.arange(len(x)) == 0) # This will only be true for index 0 if it's not the third element\n",
        "\n",
        "result_array_final[non_zero_other_indices] = 1.0\n",
        "result_array_final[zero_other_indices] = 0.0\n",
        "\n",
        "print(\"\\nFinal Solution based on Q4 similarity:\", result_array_final)"
      ],
      "execution_count": 101,
      "outputs": [
        {
          "output_type": "stream",
          "name": "stdout",
          "text": [
            "x = [2 4 0 7 1 5 8 9 3 6]\n",
            "Indices that would sort x: [2 4 0 8 1 5 9 3 6 7]\n",
            "Initial argsort: [2 4 0 8 1 5 9 3 6 7]\n",
            "Result array (interpreting 'value' as the index value): [0. 1. 0. 1. 1. 1. 1. 1. 1. 1.]\n",
            "\n",
            "Another interpretation attempt (closer to Q4 logic but with indices):\n",
            "Initial array based on sorted indices: [2. 4. 0. 8. 1. 5. 9. 3. 6. 7.]\n",
            "\n",
            "Simpler interpretation (third element is sorted index, others are original indices): [0 1 0 3 4 5 6 7 8 9]\n",
            "\n",
            "Interpretation similar to Q4 (float array, third element is sorted index, others are 1.0 or 0.0): [0. 1. 0. 1. 1. 1. 1. 1. 1. 1.]\n",
            "\n",
            "Final Solution based on Q4 similarity: [0. 1. 0. 1. 1. 1. 1. 1. 1. 1.]\n"
          ]
        }
      ]
    },
    {
      "cell_type": "code",
      "metadata": {
        "colab": {
          "base_uri": "https://localhost:8080/"
        },
        "id": "e27eddd8",
        "outputId": "7f23a670-d1c3-482e-950a-8d5a6e3d4f45"
      },
      "source": [
        "# Q6. Get the maximum and minimum values and their indices of x along the second axis.\n",
        "x = np.random.permutation(10).reshape(2, 5)\n",
        "print(\"x =\", x)\n",
        "\n",
        "max_values = np.max(x, axis=1)\n",
        "min_values = np.min(x, axis=1)\n",
        "max_indices = np.argmax(x, axis=1)\n",
        "min_indices = np.argmin(x, axis=1)\n",
        "\n",
        "print(\"Maximum values along the second axis:\", max_values)\n",
        "print(\"Minimum values along the second axis:\", min_values)\n",
        "print(\"Indices of maximum values along the second axis:\", max_indices)\n",
        "print(\"Indices of minimum values along the second axis:\", min_indices)"
      ],
      "execution_count": 102,
      "outputs": [
        {
          "output_type": "stream",
          "name": "stdout",
          "text": [
            "x = [[7 4 2 6 1]\n",
            " [5 3 9 8 0]]\n",
            "Maximum values along the second axis: [7 9]\n",
            "Minimum values along the second axis: [1 0]\n",
            "Indices of maximum values along the second axis: [0 2]\n",
            "Indices of minimum values along the second axis: [4 4]\n"
          ]
        }
      ]
    },
    {
      "cell_type": "code",
      "metadata": {
        "colab": {
          "base_uri": "https://localhost:8080/"
        },
        "id": "f8f2762e",
        "outputId": "99d32739-77b8-4732-a2b9-e46473f8a7fc"
      },
      "source": [
        "# Q7. Get the maximum and minimum values and their indices of x along the second axis, ignoring NaNs.\n",
        "x = np.array([[np.nan, 4], [3, 2]])\n",
        "print(\"x =\", x)\n",
        "\n",
        "nanmax_values = np.nanmax(x, axis=1)\n",
        "nanmin_values = np.nanmin(x, axis=1)\n",
        "\n",
        "# For indices, argmax/argmin will return the index of the first non-NaN value if all are NaN in a slice.\n",
        "# To get the index of the actual max/min ignoring NaNs, we can replace NaNs with -inf for argmax and +inf for argmin.\n",
        "# However, np.nanargmax and np.nanargmin exist specifically for this purpose.\n",
        "\n",
        "nanmax_indices = np.nanargmax(x, axis=1)\n",
        "nanmin_indices = np.nanargmin(x, axis=1)\n",
        "\n",
        "\n",
        "print(\"Maximum values along the second axis (ignoring NaNs):\", nanmax_values)\n",
        "print(\"Minimum values along the second axis (ignoring NaNs):\", nanmin_values)\n",
        "print(\"Indices of maximum values along the second axis (ignoring NaNs):\", nanmax_indices)\n",
        "print(\"Indices of minimum values along the second axis (ignoring NaNs):\", nanmin_indices)"
      ],
      "execution_count": 103,
      "outputs": [
        {
          "output_type": "stream",
          "name": "stdout",
          "text": [
            "x = [[nan  4.]\n",
            " [ 3.  2.]]\n",
            "Maximum values along the second axis (ignoring NaNs): [4. 3.]\n",
            "Minimum values along the second axis (ignoring NaNs): [4. 2.]\n",
            "Indices of maximum values along the second axis (ignoring NaNs): [1 0]\n",
            "Indices of minimum values along the second axis (ignoring NaNs): [1 1]\n"
          ]
        }
      ]
    },
    {
      "cell_type": "code",
      "metadata": {
        "colab": {
          "base_uri": "https://localhost:8080/"
        },
        "id": "bf6cd484",
        "outputId": "8f6adf97-3f92-47d7-8997-f8d407289f54"
      },
      "source": [
        "# Q8. Get the values and indices of the elements that are bigger than 2 in x.\n",
        "\n",
        "x = np.array([[1, 2, 3], [1, 3, 5]])\n",
        "print(\"x =\", x)\n",
        "\n",
        "# Get a boolean mask for elements greater than 2\n",
        "mask = x > 2\n",
        "\n",
        "# Get the values using the boolean mask\n",
        "values_greater_than_2 = x[mask]\n",
        "\n",
        "# Get the indices of elements greater than 2\n",
        "indices_greater_than_2 = np.argwhere(x > 2)\n",
        "\n",
        "print(\"Values greater than 2:\", values_greater_than_2)\n",
        "print(\"Indices of elements greater than 2:\", indices_greater_than_2)"
      ],
      "execution_count": 104,
      "outputs": [
        {
          "output_type": "stream",
          "name": "stdout",
          "text": [
            "x = [[1 2 3]\n",
            " [1 3 5]]\n",
            "Values greater than 2: [3 3 5]\n",
            "Indices of elements greater than 2: [[0 2]\n",
            " [1 1]\n",
            " [1 2]]\n"
          ]
        }
      ]
    },
    {
      "cell_type": "code",
      "metadata": {
        "colab": {
          "base_uri": "https://localhost:8080/"
        },
        "id": "c1684d84",
        "outputId": "09c4006b-187b-4bf4-b355-d3ef02dba0ed"
      },
      "source": [
        "# Q9. Get the indices of the elements that are bigger than 2 in the flattend x.\n",
        "x = np.array([[1, 2, 3], [1, 3, 5]])\n",
        "print(\"x =\", x)\n",
        "\n",
        "# Flatten the array\n",
        "flattened_x = x.flatten()\n",
        "print(\"Flattened x:\", flattened_x)\n",
        "\n",
        "# Get the indices of elements greater than 2 in the flattened array\n",
        "indices_greater_than_2_flattened = np.where(flattened_x > 2)[0]\n",
        "\n",
        "print(\"Indices of elements greater than 2 in the flattened x:\", indices_greater_than_2_flattened)"
      ],
      "execution_count": 105,
      "outputs": [
        {
          "output_type": "stream",
          "name": "stdout",
          "text": [
            "x = [[1 2 3]\n",
            " [1 3 5]]\n",
            "Flattened x: [1 2 3 1 3 5]\n",
            "Indices of elements greater than 2 in the flattened x: [2 4 5]\n"
          ]
        }
      ]
    },
    {
      "cell_type": "code",
      "metadata": {
        "colab": {
          "base_uri": "https://localhost:8080/"
        },
        "id": "0cf93d8a",
        "outputId": "521600ad-9da6-4b04-982b-0e64a0182544"
      },
      "source": [
        "# Q10. Check the elements of x and return 0 if it is less than 0, otherwise the element itself.\n",
        "x = np.arange(-5, 4).reshape(3, 3)\n",
        "print(\"x =\", x)\n",
        "\n",
        "# Use np.maximum to compare elements with 0\n",
        "result = np.maximum(x, 0)\n",
        "\n",
        "print(\"Result:\", result)"
      ],
      "execution_count": 106,
      "outputs": [
        {
          "output_type": "stream",
          "name": "stdout",
          "text": [
            "x = [[-5 -4 -3]\n",
            " [-2 -1  0]\n",
            " [ 1  2  3]]\n",
            "Result: [[0 0 0]\n",
            " [0 0 0]\n",
            " [1 2 3]]\n"
          ]
        }
      ]
    },
    {
      "cell_type": "code",
      "metadata": {
        "colab": {
          "base_uri": "https://localhost:8080/"
        },
        "id": "ea7b65ba",
        "outputId": "d3a7d5da-faab-405f-d7f4-4186431abd8f"
      },
      "source": [
        "# Q11. Get the indices where elements of y should be inserted to x to maintain order.\n",
        "x = np.array([1, 3, 5, 7, 9]) # x needs to be a numpy array for np.searchsorted\n",
        "y = np.array([0, 4, 2, 6])   # y needs to be a numpy array\n",
        "\n",
        "indices = np.searchsorted(x, y)\n",
        "\n",
        "print(\"x =\", x)\n",
        "print(\"y =\", y)\n",
        "print(\"Indices where elements of y should be inserted into x:\", indices)"
      ],
      "execution_count": 107,
      "outputs": [
        {
          "output_type": "stream",
          "name": "stdout",
          "text": [
            "x = [1 3 5 7 9]\n",
            "y = [0 4 2 6]\n",
            "Indices where elements of y should be inserted into x: [0 2 1 3]\n"
          ]
        }
      ]
    },
    {
      "cell_type": "code",
      "metadata": {
        "colab": {
          "base_uri": "https://localhost:8080/"
        },
        "id": "b0657643",
        "outputId": "5f79d05d-105f-403b-bb0b-3b6d9335d4ea"
      },
      "source": [
        "# Q12. Get the number of nonzero elements in x.\n",
        "x = [[0,1,7,0,0],[3,0,0,2,19]]\n",
        "\n",
        "# Convert the list of lists to a NumPy array\n",
        "x_array = np.array(x)\n",
        "\n",
        "# Get the number of nonzero elements\n",
        "nonzero_count = np.count_nonzero(x_array)\n",
        "\n",
        "print(\"x =\", x)\n",
        "print(\"Number of nonzero elements:\", nonzero_count)"
      ],
      "execution_count": 108,
      "outputs": [
        {
          "output_type": "stream",
          "name": "stdout",
          "text": [
            "x = [[0, 1, 7, 0, 0], [3, 0, 0, 2, 19]]\n",
            "Number of nonzero elements: 5\n"
          ]
        }
      ]
    }
  ],
  "metadata": {
    "kernelspec": {
      "display_name": "Python 3",
      "name": "python3"
    },
    "language_info": {
      "name": "python"
    },
    "colab": {
      "provenance": [],
      "include_colab_link": true
    }
  },
  "nbformat": 4,
  "nbformat_minor": 0
}