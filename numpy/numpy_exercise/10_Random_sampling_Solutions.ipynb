{
  "cells": [
    {
      "cell_type": "markdown",
      "metadata": {
        "id": "view-in-github",
        "colab_type": "text"
      },
      "source": [
        "<a href=\"https://colab.research.google.com/github/ajit-ai/Python/blob/main/numpy/numpy_exercise/10_Random_sampling_Solutions.ipynb\" target=\"_parent\"><img src=\"https://colab.research.google.com/assets/colab-badge.svg\" alt=\"Open In Colab\"/></a>"
      ]
    },
    {
      "cell_type": "markdown",
      "metadata": {
        "id": "Gbj_v6jaJopk"
      },
      "source": [
        "# Random Sampling"
      ]
    },
    {
      "cell_type": "code",
      "execution_count": 30,
      "metadata": {
        "collapsed": true,
        "id": "Nem_CN7LJopo"
      },
      "outputs": [],
      "source": [
        "import numpy as np"
      ]
    },
    {
      "cell_type": "code",
      "execution_count": 31,
      "metadata": {
        "colab": {
          "base_uri": "https://localhost:8080/",
          "height": 35
        },
        "id": "nwK1gVAVJopq",
        "outputId": "bc1e15fc-e5bc-4fd3-d2ee-08d021cd74d0"
      },
      "outputs": [
        {
          "output_type": "execute_result",
          "data": {
            "text/plain": [
              "'2.0.2'"
            ],
            "application/vnd.google.colaboratory.intrinsic+json": {
              "type": "string"
            }
          },
          "metadata": {},
          "execution_count": 31
        }
      ],
      "source": [
        "np.__version__"
      ]
    },
    {
      "cell_type": "code",
      "execution_count": 32,
      "metadata": {
        "id": "HNSo8ATtJopr"
      },
      "outputs": [],
      "source": [
        "__author__ = 'kyubyong. longinglove@nate.com'"
      ]
    },
    {
      "cell_type": "markdown",
      "metadata": {
        "id": "gGkVZWuMJopr"
      },
      "source": [
        "## Simple random data"
      ]
    },
    {
      "cell_type": "markdown",
      "metadata": {
        "id": "_kVpS8LzJops"
      },
      "source": [
        "Q1. Create an array of shape (3, 2) and populate it with random samples from a uniform distribution over [0, 1)."
      ]
    },
    {
      "cell_type": "code",
      "execution_count": 33,
      "metadata": {
        "colab": {
          "base_uri": "https://localhost:8080/"
        },
        "id": "JxJstP1OJopt",
        "outputId": "5813a378-f744-448e-d29c-34654390d7d0"
      },
      "outputs": [
        {
          "output_type": "execute_result",
          "data": {
            "text/plain": [
              "array([[0.77132064, 0.02075195],\n",
              "       [0.63364823, 0.74880388],\n",
              "       [0.49850701, 0.22479665]])"
            ]
          },
          "metadata": {},
          "execution_count": 33
        }
      ],
      "source": [
        "np.random.rand(3, 2)\n",
        "# Or np.random.random((3,2))"
      ]
    },
    {
      "cell_type": "markdown",
      "metadata": {
        "id": "VEOLfUmcJopu"
      },
      "source": [
        "Q2. Create an array of shape (1000, 1000) and populate it with random samples from a standard normal distribution. And verify that the mean and standard deviation is close enough to 0 and 1 repectively."
      ]
    },
    {
      "cell_type": "code",
      "execution_count": 34,
      "metadata": {
        "colab": {
          "base_uri": "https://localhost:8080/"
        },
        "id": "Ta5GrEMBJopu",
        "outputId": "c8034896-94f4-44b5-e87c-eb1597bf8669"
      },
      "outputs": [
        {
          "output_type": "stream",
          "name": "stdout",
          "text": [
            "7.963810095401968e-05\n",
            "0.9997304928209518\n"
          ]
        }
      ],
      "source": [
        "out1 = np.random.randn(1000, 1000)\n",
        "out2 = np.random.standard_normal((1000, 1000))\n",
        "out3 = np.random.normal(loc=0.0, scale=1.0, size=(1000, 1000))\n",
        "assert np.allclose(np.mean(out1), np.mean(out2), atol=0.1)\n",
        "assert np.allclose(np.mean(out1), np.mean(out3), atol=0.1)\n",
        "assert np.allclose(np.std(out1), np.std(out2), atol=0.1)\n",
        "assert np.allclose(np.std(out1), np.std(out3), atol=0.1)\n",
        "print(np.mean(out3))\n",
        "print(np.std(out1))"
      ]
    },
    {
      "cell_type": "markdown",
      "metadata": {
        "id": "RHD85A67Jopv"
      },
      "source": [
        "Q3. Create an array of shape (3, 2) and populate it with random integers ranging from 0 to 3 (inclusive) from a discrete uniform distribution."
      ]
    },
    {
      "cell_type": "code",
      "execution_count": 35,
      "metadata": {
        "colab": {
          "base_uri": "https://localhost:8080/"
        },
        "id": "ACKRKX_1Jopw",
        "outputId": "36d6f1bd-c606-4df4-bd7c-fbb4c5b86b1f"
      },
      "outputs": [
        {
          "output_type": "execute_result",
          "data": {
            "text/plain": [
              "array([[2, 1],\n",
              "       [3, 3],\n",
              "       [0, 0]])"
            ]
          },
          "metadata": {},
          "execution_count": 35
        }
      ],
      "source": [
        "np.random.randint(0, 4, (3, 2))"
      ]
    },
    {
      "cell_type": "markdown",
      "metadata": {
        "id": "JjYgtvVOJopx"
      },
      "source": [
        "Q4. Extract 1 elements from x randomly such that each of them would be associated with probabilities .3, .5, .2. Then print the result 10 times."
      ]
    },
    {
      "cell_type": "code",
      "execution_count": 36,
      "metadata": {
        "collapsed": true,
        "id": "exVcLxG3Jopx"
      },
      "outputs": [],
      "source": [
        "x = [b'3 out of 10', b'5 out of 10', b'2 out of 10']"
      ]
    },
    {
      "cell_type": "code",
      "execution_count": 37,
      "metadata": {
        "colab": {
          "base_uri": "https://localhost:8080/"
        },
        "id": "zWLa16KDJopx",
        "outputId": "6b6cf89f-0f72-46b2-e6f3-ade252bb86d1"
      },
      "outputs": [
        {
          "output_type": "stream",
          "name": "stdout",
          "text": [
            "b'3 out of 10'\n",
            "b'3 out of 10'\n",
            "b'3 out of 10'\n",
            "b'3 out of 10'\n",
            "b'5 out of 10'\n",
            "b'5 out of 10'\n",
            "b'5 out of 10'\n",
            "b'3 out of 10'\n",
            "b'2 out of 10'\n",
            "b'5 out of 10'\n"
          ]
        }
      ],
      "source": [
        "for _ in range(10):\n",
        "    print(np.random.choice(x, p=[.3, .5, .2]))"
      ]
    },
    {
      "cell_type": "markdown",
      "metadata": {
        "id": "-wLkwSEwJopy"
      },
      "source": [
        "Q5. Extract 3 different integers from 0 to 9 randomly with the same probabilities."
      ]
    },
    {
      "cell_type": "code",
      "execution_count": 38,
      "metadata": {
        "colab": {
          "base_uri": "https://localhost:8080/"
        },
        "id": "-E7f-qFpJopy",
        "outputId": "201beb53-268e-43c3-fc35-ef04729965f0"
      },
      "outputs": [
        {
          "output_type": "execute_result",
          "data": {
            "text/plain": [
              "array([2, 3, 7])"
            ]
          },
          "metadata": {},
          "execution_count": 38
        }
      ],
      "source": [
        "np.random.choice(10, 3, replace=False)"
      ]
    },
    {
      "cell_type": "markdown",
      "metadata": {
        "id": "h5GBj6xmJopy"
      },
      "source": [
        "## Permutations"
      ]
    },
    {
      "cell_type": "markdown",
      "metadata": {
        "id": "zjgLiJ8RJopz"
      },
      "source": [
        "Q6. Shuffle numbers between 0 and 9 (inclusive)."
      ]
    },
    {
      "cell_type": "code",
      "execution_count": 39,
      "metadata": {
        "colab": {
          "base_uri": "https://localhost:8080/"
        },
        "id": "coXHefQiJopz",
        "outputId": "c1cd675b-4c00-4ab5-e609-f5c19308e21e"
      },
      "outputs": [
        {
          "output_type": "stream",
          "name": "stdout",
          "text": [
            "[2 4 5 9 0 1 7 6 8 3]\n"
          ]
        }
      ],
      "source": [
        "x = np.arange(10)\n",
        "np.random.shuffle(x)\n",
        "print(x)"
      ]
    },
    {
      "cell_type": "code",
      "execution_count": 40,
      "metadata": {
        "colab": {
          "base_uri": "https://localhost:8080/"
        },
        "id": "d7HzCnXuJopz",
        "outputId": "3b3a1d9a-8d7a-4119-8444-d790f428eccc"
      },
      "outputs": [
        {
          "output_type": "stream",
          "name": "stdout",
          "text": [
            "[5 3 2 1 4 8 9 0 6 7]\n"
          ]
        }
      ],
      "source": [
        "# Or\n",
        "print(np.random.permutation(10))"
      ]
    },
    {
      "cell_type": "markdown",
      "metadata": {
        "id": "n23mLh7AJop0"
      },
      "source": [
        "## Random generator"
      ]
    },
    {
      "cell_type": "markdown",
      "metadata": {
        "id": "0zOFdgTIJop0"
      },
      "source": [
        "Q7. Assign number 10 to the seed of the random generator so that you can get the same value next time."
      ]
    },
    {
      "cell_type": "code",
      "execution_count": 41,
      "metadata": {
        "collapsed": true,
        "id": "AvBfTZXLJop0"
      },
      "outputs": [],
      "source": [
        "np.random.seed(10)"
      ]
    }
  ],
  "metadata": {
    "kernelspec": {
      "display_name": "Python 2",
      "language": "python",
      "name": "python2"
    },
    "language_info": {
      "codemirror_mode": {
        "name": "ipython",
        "version": 2
      },
      "file_extension": ".py",
      "mimetype": "text/x-python",
      "name": "python",
      "nbconvert_exporter": "python",
      "pygments_lexer": "ipython2",
      "version": "2.7.10"
    },
    "colab": {
      "provenance": [],
      "include_colab_link": true
    }
  },
  "nbformat": 4,
  "nbformat_minor": 0
}