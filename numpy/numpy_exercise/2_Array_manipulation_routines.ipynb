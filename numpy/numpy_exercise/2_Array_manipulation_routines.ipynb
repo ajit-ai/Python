{
  "cells": [
    {
      "cell_type": "markdown",
      "metadata": {
        "id": "view-in-github",
        "colab_type": "text"
      },
      "source": [
        "<a href=\"https://colab.research.google.com/github/ajit-ai/Python/blob/main/numpy/numpy_exercise/2_Array_manipulation_routines.ipynb\" target=\"_parent\"><img src=\"https://colab.research.google.com/assets/colab-badge.svg\" alt=\"Open In Colab\"/></a>"
      ]
    },
    {
      "cell_type": "markdown",
      "metadata": {
        "id": "WjNaiTGMxyta"
      },
      "source": [
        "# Array manipulation routines"
      ]
    },
    {
      "cell_type": "code",
      "execution_count": 2,
      "metadata": {
        "collapsed": true,
        "id": "W89sx_eIxytc"
      },
      "outputs": [],
      "source": [
        "import numpy as np"
      ]
    },
    {
      "cell_type": "code",
      "execution_count": 3,
      "metadata": {
        "colab": {
          "base_uri": "https://localhost:8080/",
          "height": 35
        },
        "id": "dJ-t6E7-xytd",
        "outputId": "b8f26fd0-f087-436d-f5bf-5bfcdc053edd"
      },
      "outputs": [
        {
          "output_type": "execute_result",
          "data": {
            "text/plain": [
              "'2.0.2'"
            ],
            "application/vnd.google.colaboratory.intrinsic+json": {
              "type": "string"
            }
          },
          "metadata": {},
          "execution_count": 3
        }
      ],
      "source": [
        "np.__version__"
      ]
    },
    {
      "cell_type": "markdown",
      "metadata": {
        "collapsed": true,
        "id": "Jb9bgWl0xyte"
      },
      "source": [
        "Q1. Let x be a ndarray [10, 10, 3] with all elements set to one. Reshape x so that the size of the second dimension equals 150."
      ]
    },
    {
      "cell_type": "code",
      "execution_count": 6,
      "metadata": {
        "colab": {
          "base_uri": "https://localhost:8080/"
        },
        "id": "ItJkE6dgxytf",
        "outputId": "d1fc1c07-96b3-45d9-8806-788ef0367a5f"
      },
      "outputs": [
        {
          "output_type": "stream",
          "name": "stdout",
          "text": [
            "[[1. 1. 1. 1. 1. 1. 1. 1. 1. 1. 1. 1. 1. 1. 1. 1. 1. 1. 1. 1. 1. 1. 1. 1.\n",
            "  1. 1. 1. 1. 1. 1. 1. 1. 1. 1. 1. 1. 1. 1. 1. 1. 1. 1. 1. 1. 1. 1. 1. 1.\n",
            "  1. 1. 1. 1. 1. 1. 1. 1. 1. 1. 1. 1. 1. 1. 1. 1. 1. 1. 1. 1. 1. 1. 1. 1.\n",
            "  1. 1. 1. 1. 1. 1. 1. 1. 1. 1. 1. 1. 1. 1. 1. 1. 1. 1. 1. 1. 1. 1. 1. 1.\n",
            "  1. 1. 1. 1. 1. 1. 1. 1. 1. 1. 1. 1. 1. 1. 1. 1. 1. 1. 1. 1. 1. 1. 1. 1.\n",
            "  1. 1. 1. 1. 1. 1. 1. 1. 1. 1. 1. 1. 1. 1. 1. 1. 1. 1. 1. 1. 1. 1. 1. 1.\n",
            "  1. 1. 1. 1. 1. 1.]\n",
            " [1. 1. 1. 1. 1. 1. 1. 1. 1. 1. 1. 1. 1. 1. 1. 1. 1. 1. 1. 1. 1. 1. 1. 1.\n",
            "  1. 1. 1. 1. 1. 1. 1. 1. 1. 1. 1. 1. 1. 1. 1. 1. 1. 1. 1. 1. 1. 1. 1. 1.\n",
            "  1. 1. 1. 1. 1. 1. 1. 1. 1. 1. 1. 1. 1. 1. 1. 1. 1. 1. 1. 1. 1. 1. 1. 1.\n",
            "  1. 1. 1. 1. 1. 1. 1. 1. 1. 1. 1. 1. 1. 1. 1. 1. 1. 1. 1. 1. 1. 1. 1. 1.\n",
            "  1. 1. 1. 1. 1. 1. 1. 1. 1. 1. 1. 1. 1. 1. 1. 1. 1. 1. 1. 1. 1. 1. 1. 1.\n",
            "  1. 1. 1. 1. 1. 1. 1. 1. 1. 1. 1. 1. 1. 1. 1. 1. 1. 1. 1. 1. 1. 1. 1. 1.\n",
            "  1. 1. 1. 1. 1. 1.]]\n"
          ]
        }
      ],
      "source": [
        "# prompt: Let x be a ndarray [10, 10, 3] with all elements set to one. Reshape x so that the size of the second dimension equals 150.\n",
        "\n",
        "x = np.ones((10, 10, 3))\n",
        "x_reshaped = x.reshape(2, 150)\n",
        "print(x_reshaped)"
      ]
    },
    {
      "cell_type": "markdown",
      "metadata": {
        "id": "Y7Bt7RbRxytf"
      },
      "source": [
        "Q2. Let x be array [[1, 2, 3], [4, 5, 6]]. Convert it to [1 4 2 5 3 6]."
      ]
    },
    {
      "cell_type": "code",
      "execution_count": 7,
      "metadata": {
        "colab": {
          "base_uri": "https://localhost:8080/"
        },
        "id": "WprHORGjxytg",
        "outputId": "e49728ed-ad6d-4055-dcab-53ae1056c92f"
      },
      "outputs": [
        {
          "output_type": "execute_result",
          "data": {
            "text/plain": [
              "array([1, 4, 2, 5, 3, 6])"
            ]
          },
          "metadata": {},
          "execution_count": 7
        }
      ],
      "source": [
        "# prompt: . Let x be array [[1, 2, 3], [4, 5, 6]]. Convert it to [1 4 2 5 3 6].\n",
        "\n",
        "x = np.array([[1, 2, 3], [4, 5, 6]])\n",
        "x_flattened = x.T.ravel()\n",
        "x_flattened"
      ]
    },
    {
      "cell_type": "markdown",
      "metadata": {
        "id": "ljp051cLxytg"
      },
      "source": [
        "Q3. Let x be array [[1, 2, 3], [4, 5, 6]]. Get the 5th element."
      ]
    },
    {
      "cell_type": "code",
      "execution_count": 9,
      "metadata": {
        "colab": {
          "base_uri": "https://localhost:8080/"
        },
        "id": "4IoWi_L1xyth",
        "outputId": "5f35fc9f-ff6b-4517-eaa5-76cd3a9265d0"
      },
      "outputs": [
        {
          "output_type": "execute_result",
          "data": {
            "text/plain": [
              "np.int64(3)"
            ]
          },
          "metadata": {},
          "execution_count": 9
        }
      ],
      "source": [
        "# prompt: Let x be array [[1, 2, 3], [4, 5, 6]]. Get the 5th element.\n",
        "\n",
        "# Accessing elements after flattening or reshaping\n",
        "# The 5th element will be the 5th element in the flattened array.\n",
        "# The original array is [[1, 2, 3], [4, 5, 6]].\n",
        "# Flattened array is [1, 4, 2, 5, 3, 6].\n",
        "# The 5th element is 3 (using 0-based indexing, it's element at index 4).\n",
        "fifth_element = x.T.ravel()[4]\n",
        "fifth_element"
      ]
    },
    {
      "cell_type": "markdown",
      "metadata": {
        "id": "IaTd7vNzxyth"
      },
      "source": [
        "Q4. Let x be an arbitrary 3-D array of shape (3, 4, 5). Permute the dimensions of x such that the new shape will be (4,3,5).\n"
      ]
    },
    {
      "cell_type": "code",
      "execution_count": 10,
      "metadata": {
        "colab": {
          "base_uri": "https://localhost:8080/"
        },
        "id": "zEN1Gnrwxyti",
        "outputId": "428b9bbd-7b97-4f17-abae-ff9efb107cba"
      },
      "outputs": [
        {
          "output_type": "execute_result",
          "data": {
            "text/plain": [
              "(4, 3, 5)"
            ]
          },
          "metadata": {},
          "execution_count": 10
        }
      ],
      "source": [
        "# prompt: Let x be an arbitrary 3-D array of shape (3, 4, 5). Permute the dimensions of x such that the new shape will be (4,3,5).\n",
        "\n",
        "x = np.random.rand(3, 4, 5)\n",
        "x_permuted = np.transpose(x, (1, 0, 2))\n",
        "x_permuted.shape"
      ]
    },
    {
      "cell_type": "markdown",
      "metadata": {
        "id": "J1QutCWcxyti"
      },
      "source": [
        "Q5. Let x be an arbitrary 2-D array of shape (3, 4). Permute the dimensions of x such that the new shape will be (4,3)."
      ]
    },
    {
      "cell_type": "code",
      "execution_count": 11,
      "metadata": {
        "colab": {
          "base_uri": "https://localhost:8080/"
        },
        "id": "IzJBfPQaxytj",
        "outputId": "a6f806ef-04b7-4704-a3d8-30004566ea39"
      },
      "outputs": [
        {
          "output_type": "execute_result",
          "data": {
            "text/plain": [
              "(4, 3)"
            ]
          },
          "metadata": {},
          "execution_count": 11
        }
      ],
      "source": [
        "# prompt: Let x be an arbitrary 2-D array of shape (3, 4). Permute the dimensions of x such that the new shape will be (4,3).\n",
        "\n",
        "x = np.random.rand(3, 4)\n",
        "x_permuted = np.transpose(x, (1, 0))\n",
        "x_permuted.shape"
      ]
    },
    {
      "cell_type": "markdown",
      "metadata": {
        "id": "cTfvgE5Yxytj"
      },
      "source": [
        "Q5. Let x be an arbitrary 2-D array of shape (3, 4). Insert a nex axis such that the new shape will be (3, 1, 4)."
      ]
    },
    {
      "cell_type": "code",
      "execution_count": 12,
      "metadata": {
        "colab": {
          "base_uri": "https://localhost:8080/"
        },
        "id": "Nk_UbErDxytj",
        "outputId": "e4ee1f03-0704-4a6c-8458-23a6a2b85cb5"
      },
      "outputs": [
        {
          "output_type": "execute_result",
          "data": {
            "text/plain": [
              "(3, 1, 4)"
            ]
          },
          "metadata": {},
          "execution_count": 12
        }
      ],
      "source": [
        "# prompt: Let x be an arbitrary 2-D array of shape (3, 4). Insert a nex axis such that the new shape will be (3, 1, 4).\n",
        "\n",
        "x = np.random.rand(3, 4)\n",
        "x_expanded = x[:, np.newaxis, :]\n",
        "x_expanded.shape"
      ]
    },
    {
      "cell_type": "markdown",
      "metadata": {
        "id": "1r3OpXzUxytk"
      },
      "source": [
        "Q6. Let x be an arbitrary 3-D array of shape (3, 4, 1). Remove a single-dimensional entries such that the new shape will be (3, 4)."
      ]
    },
    {
      "cell_type": "code",
      "execution_count": 13,
      "metadata": {
        "colab": {
          "base_uri": "https://localhost:8080/"
        },
        "id": "4WM6F5MCxytk",
        "outputId": "7c7c5996-1d62-4e52-a771-fa0accd3b559"
      },
      "outputs": [
        {
          "output_type": "execute_result",
          "data": {
            "text/plain": [
              "(3, 4)"
            ]
          },
          "metadata": {},
          "execution_count": 13
        }
      ],
      "source": [
        "# prompt: Q6. Let x be an arbitrary 3-D array of shape (3, 4, 1). Remove a single-dimensional entries such that the new shape will be (3, 4).\n",
        "\n",
        "x = np.random.rand(3, 4, 1)\n",
        "x_squeezed = np.squeeze(x)\n",
        "x_squeezed.shape"
      ]
    },
    {
      "cell_type": "markdown",
      "metadata": {
        "id": "iIt8QtTpxytl"
      },
      "source": [
        "Q7. Lex x be an array <br/>\n",
        "[[ 1 2 3]<br/>\n",
        "[ 4 5 6].<br/><br/>\n",
        "and y be an array <br/>\n",
        "[[ 7 8 9]<br/>\n",
        "[10 11 12]].<br/>\n",
        "Concatenate x and y so that a new array looks like <br/>[[1, 2, 3, 7, 8, 9], <br/>[4, 5, 6, 10, 11, 12]].\n"
      ]
    },
    {
      "cell_type": "code",
      "execution_count": 17,
      "metadata": {
        "colab": {
          "base_uri": "https://localhost:8080/"
        },
        "id": "ke6mK3Egxytl",
        "outputId": "634492cd-2c8c-435f-d69e-36c6efe8e2b3"
      },
      "outputs": [
        {
          "output_type": "stream",
          "name": "stdout",
          "text": [
            "[[ 1  2  3  7  8  9]\n",
            " [ 4  5  6 10 11 12]]\n"
          ]
        }
      ],
      "source": [
        "# prompt: Lex x be an array\n",
        "# [[ 1 2 3]\n",
        "# [ 4 5 6].\n",
        "# and y be an array\n",
        "# [[ 7 8 9]\n",
        "# [10 11 12]].\n",
        "\n",
        "# Concatenate along the second axis (axis=1)\n",
        "x = np.array([[1, 2, 3], [4, 5, 6]])\n",
        "y = np.array([[7, 8, 9], [10, 11, 12]])\n",
        "z = np.concatenate((x, y), axis=1)\n",
        "\n",
        "print(z)"
      ]
    },
    {
      "cell_type": "markdown",
      "metadata": {
        "id": "eaBDNOw4xytm"
      },
      "source": [
        "Q8. Lex x be an array <br/>\n",
        "[[ 1 2 3]<br/>\n",
        "[ 4 5 6].<br/><br/>\n",
        "and y be an array <br/>\n",
        "[[ 7 8 9]<br/>\n",
        "[10 11 12]].<br/>\n",
        "Concatenate x and y so that a new array looks like <br/>[[ 1  2  3]<br/>\n",
        " [ 4  5  6]<br/>\n",
        " [ 7  8  9]<br/>\n",
        " [10 11 12]]\n"
      ]
    },
    {
      "cell_type": "code",
      "execution_count": 18,
      "metadata": {
        "colab": {
          "base_uri": "https://localhost:8080/"
        },
        "id": "fZYlLyGAxytm",
        "outputId": "5b6e9656-2438-4efb-deeb-16d19db0dbd2"
      },
      "outputs": [
        {
          "output_type": "execute_result",
          "data": {
            "text/plain": [
              "array([[ 1,  2,  3],\n",
              "       [ 4,  5,  6],\n",
              "       [ 7,  8,  9],\n",
              "       [10, 11, 12]])"
            ]
          },
          "metadata": {},
          "execution_count": 18
        }
      ],
      "source": [
        "# prompt:  Lex x be an array\n",
        "# [[ 1 2 3]\n",
        "# [ 4 5 6].\n",
        "# and y be an array\n",
        "# [[ 7 8 9]\n",
        "# [10 11 12]].\n",
        "\n",
        "# Concatenate along the first axis (axis=0)\n",
        "z = np.concatenate((x, y), axis=0)\n",
        "\n",
        "z"
      ]
    },
    {
      "cell_type": "markdown",
      "metadata": {
        "id": "oTZZQXbNxytm"
      },
      "source": [
        "Q8. Let x be an array [1 2 3] and y be [4 5 6]. Convert it to [[1, 4], [2, 5], [3, 6]]."
      ]
    },
    {
      "cell_type": "code",
      "execution_count": 20,
      "metadata": {
        "colab": {
          "base_uri": "https://localhost:8080/"
        },
        "id": "QrIQAB7Gxytn",
        "outputId": "4d40c702-916e-490e-ba56-fb2544067335"
      },
      "outputs": [
        {
          "output_type": "execute_result",
          "data": {
            "text/plain": [
              "array([[1, 4],\n",
              "       [2, 5],\n",
              "       [3, 6]])"
            ]
          },
          "metadata": {},
          "execution_count": 20
        }
      ],
      "source": [
        "# prompt: Let x be an array [1 2 3] and y be [4 5 6]. Convert it to [[1, 4], [2, 5], [3, 6]].\n",
        "\n",
        "x = np.array([1, 2, 3])\n",
        "y = np.array([4, 5, 6])\n",
        "\n",
        "result = np.vstack((x, y)).T\n",
        "result"
      ]
    },
    {
      "cell_type": "markdown",
      "metadata": {
        "id": "wqz-H751xytn"
      },
      "source": [
        "Q9. Let x be an array [[1],[2],[3]] and y be [[4], [5], [6]]. Convert x to [[[1, 4]], [[2, 5]], [[3, 6]]]."
      ]
    },
    {
      "cell_type": "code",
      "execution_count": 21,
      "metadata": {
        "colab": {
          "base_uri": "https://localhost:8080/"
        },
        "id": "Js4oktidxytn",
        "outputId": "362342d1-77dc-4e0f-a921-138554366107"
      },
      "outputs": [
        {
          "output_type": "execute_result",
          "data": {
            "text/plain": [
              "array([[[1, 4]],\n",
              "\n",
              "       [[2, 5]],\n",
              "\n",
              "       [[3, 6]]])"
            ]
          },
          "metadata": {},
          "execution_count": 21
        }
      ],
      "source": [
        "# prompt: Let x be an array [[1],[2],[3]] and y be [[4], [5], [6]]. Convert x to [[[1, 4]], [[2, 5]], [[3, 6]]].\n",
        "\n",
        "x = np.array([[1],[2],[3]])\n",
        "y = np.array([[4], [5], [6]])\n",
        "result = np.hstack((x,y))[:, np.newaxis, :]\n",
        "result"
      ]
    },
    {
      "cell_type": "markdown",
      "metadata": {
        "id": "ZcwidRxDxytn"
      },
      "source": [
        "Q10. Let x be an array [1, 2, 3, ..., 9]. Split x into 3 arrays, each of which has 4, 2, and 3 elements in the original order."
      ]
    },
    {
      "cell_type": "code",
      "execution_count": 22,
      "metadata": {
        "colab": {
          "base_uri": "https://localhost:8080/"
        },
        "id": "EdtHyqOzxytn",
        "outputId": "571b042e-c852-435f-85d0-dc2dea709a59"
      },
      "outputs": [
        {
          "output_type": "stream",
          "name": "stdout",
          "text": [
            "[1 2 3 4]\n",
            "[5 6]\n"
          ]
        },
        {
          "output_type": "execute_result",
          "data": {
            "text/plain": [
              "array([7, 8, 9])"
            ]
          },
          "metadata": {},
          "execution_count": 22
        }
      ],
      "source": [
        "# prompt:  Let x be an array [1, 2, 3, ..., 9]. Split x into 3 arrays, each of which has 4, 2, and 3 elements in the original order.\n",
        "\n",
        "x = np.arange(1, 10)\n",
        "split_points = [4, 6]  # Indices after the first two splits (4 and 4+2=6)\n",
        "x1, x2, x3 = np.split(x, split_points)\n",
        "\n",
        "print(x1)\n",
        "print(x2)\n",
        "x3"
      ]
    },
    {
      "cell_type": "markdown",
      "metadata": {
        "id": "QgAbP-2qxyto"
      },
      "source": [
        "Q11. Let x be an array<br/>\n",
        "[[[  0.,   1.,   2.,   3.],<br/>\n",
        "  [  4.,   5.,   6.,   7.]],<br/>\n",
        "\n",
        " [[  8.,   9.,  10.,  11.],<br/>\n",
        "  [ 12.,  13.,  14.,  15.]]].<br/>\n",
        "Split it into two such that the first array looks like<br/>\n",
        "[[[  0.,   1.,   2.],<br/>\n",
        "  [  4.,   5.,   6.]],<br/>\n",
        "\n",
        " [[  8.,   9.,  10.],<br/>\n",
        "  [ 12.,  13.,  14.]]].<br/>\n",
        "  \n",
        "and the second one look like:<br/>\n",
        "  \n",
        "[[[  3.],<br/>\n",
        "  [  7.]],<br/>\n",
        "\n",
        " [[  11.],<br/>\n",
        "  [ 15.]]].<br/>  "
      ]
    },
    {
      "cell_type": "code",
      "execution_count": 23,
      "metadata": {
        "colab": {
          "base_uri": "https://localhost:8080/"
        },
        "id": "veIMElAqxyto",
        "outputId": "9e1d26e1-551c-4c29-c230-7a7c595f26fe"
      },
      "outputs": [
        {
          "output_type": "stream",
          "name": "stdout",
          "text": [
            "[[[ 0.  1.  2.]\n",
            "  [ 4.  5.  6.]]\n",
            "\n",
            " [[ 8.  9. 10.]\n",
            "  [12. 13. 14.]]]\n"
          ]
        },
        {
          "output_type": "execute_result",
          "data": {
            "text/plain": [
              "array([[[ 3.],\n",
              "        [ 7.]],\n",
              "\n",
              "       [[11.],\n",
              "        [15.]]])"
            ]
          },
          "metadata": {},
          "execution_count": 23
        }
      ],
      "source": [
        "# prompt:  Let x be an array\n",
        "# [[[ 0., 1., 2., 3.],\n",
        "# [ 4., 5., 6., 7.]],\n",
        "# [[ 8., 9., 10., 11.],\n",
        "# [ 12., 13., 14., 15.]]].\n",
        "\n",
        "x = np.array([[[ 0.,  1.,  2.,  3.],\n",
        "              [ 4.,  5.,  6.,  7.]],\n",
        "\n",
        "             [[ 8.,  9., 10., 11.],\n",
        "              [12., 13., 14., 15.]]])\n",
        "\n",
        "split_index = 3  # Split before the 4th column (index 3)\n",
        "x1, x2 = np.split(x, [split_index], axis=2)\n",
        "\n",
        "print(x1)\n",
        "x2"
      ]
    },
    {
      "cell_type": "markdown",
      "metadata": {
        "id": "DZDyFDrbxyto"
      },
      "source": [
        "Q12. Let x be an array <br />\n",
        "[[  0.,   1.,   2.,   3.],<br>\n",
        " [  4.,   5.,   6.,   7.],<br>\n",
        " [  8.,   9.,  10.,  11.],<br>\n",
        " [ 12.,  13.,  14.,  15.]].<br>\n",
        "Split it into two arrays along the second axis."
      ]
    },
    {
      "cell_type": "code",
      "execution_count": 24,
      "metadata": {
        "colab": {
          "base_uri": "https://localhost:8080/"
        },
        "id": "2nCgEPfvxyto",
        "outputId": "639fb979-2c7d-42be-ab3a-160a16100988"
      },
      "outputs": [
        {
          "output_type": "stream",
          "name": "stdout",
          "text": [
            "First split array:\n",
            "[[ 0.  1.]\n",
            " [ 4.  5.]\n",
            " [ 8.  9.]\n",
            " [12. 13.]]\n",
            "\n",
            "Second split array:\n"
          ]
        },
        {
          "output_type": "execute_result",
          "data": {
            "text/plain": [
              "array([[ 2.,  3.],\n",
              "       [ 6.,  7.],\n",
              "       [10., 11.],\n",
              "       [14., 15.]])"
            ]
          },
          "metadata": {},
          "execution_count": 24
        }
      ],
      "source": [
        "# prompt: 12. Let x be an array\n",
        "# [[ 0., 1., 2., 3.],\n",
        "# [ 4., 5., 6., 7.],\n",
        "# [ 8., 9., 10., 11.],\n",
        "# [ 12., 13., 14., 15.]].\n",
        "# Split it into two arrays along the second axis.\n",
        "\n",
        "x = np.array([[ 0.,  1.,  2.,  3.],\n",
        "              [ 4.,  5.,  6.,  7.],\n",
        "              [ 8.,  9., 10., 11.],\n",
        "              [12., 13., 14., 15.]])\n",
        "\n",
        "# Split along the second axis (axis=1). By default, np.split divides\n",
        "# the array into equal parts. To split into two, we need to specify\n",
        "# the number of sections or the indices to split after.\n",
        "# Since the second axis has size 4, splitting into two means each part\n",
        "# will have size 2. The split point is after the second column (index 2).\n",
        "x1, x2 = np.split(x, 2, axis=1)\n",
        "\n",
        "print(\"First split array:\")\n",
        "print(x1)\n",
        "print(\"\\nSecond split array:\")\n",
        "x2\n"
      ]
    },
    {
      "cell_type": "markdown",
      "metadata": {
        "id": "UU35LCDgxyto"
      },
      "source": [
        "Q13. Let x be an array <br />\n",
        "[[  0.,   1.,   2.,   3.],<br>\n",
        " [  4.,   5.,   6.,   7.],<br>\n",
        " [  8.,   9.,  10.,  11.],<br>\n",
        " [ 12.,  13.,  14.,  15.]].<br>\n",
        "Split it into two arrays along the first axis."
      ]
    },
    {
      "cell_type": "code",
      "execution_count": 25,
      "metadata": {
        "colab": {
          "base_uri": "https://localhost:8080/"
        },
        "id": "Ua0x_px8xytp",
        "outputId": "9b5f7e8d-2942-4a8c-d72d-d9f2df47186b"
      },
      "outputs": [
        {
          "output_type": "stream",
          "name": "stdout",
          "text": [
            "First split array:\n",
            "[[0. 1. 2. 3.]\n",
            " [4. 5. 6. 7.]]\n",
            "\n",
            "Second split array:\n"
          ]
        },
        {
          "output_type": "execute_result",
          "data": {
            "text/plain": [
              "array([[ 8.,  9., 10., 11.],\n",
              "       [12., 13., 14., 15.]])"
            ]
          },
          "metadata": {},
          "execution_count": 25
        }
      ],
      "source": [
        "# prompt: Let x be an array\n",
        "# [[ 0., 1., 2., 3.],\n",
        "# [ 4., 5., 6., 7.],\n",
        "# [ 8., 9., 10., 11.],\n",
        "# [ 12., 13., 14., 15.]].\n",
        "# Split it into two arrays along the first axis.\n",
        "\n",
        "# Split along the first axis (axis=0). By default, np.split divides\n",
        "# the array into equal parts. To split into two, we need to specify\n",
        "# the number of sections or the indices to split after.\n",
        "# Since the first axis has size 4, splitting into two means each part\n",
        "# will have size 2. The split point is after the second row (index 2).\n",
        "x1, x2 = np.split(x, 2, axis=0)\n",
        "\n",
        "print(\"First split array:\")\n",
        "print(x1)\n",
        "print(\"\\nSecond split array:\")\n",
        "x2"
      ]
    },
    {
      "cell_type": "markdown",
      "metadata": {
        "id": "mQJC_1Imxytp"
      },
      "source": [
        "Q14. Let x be an array [0, 1, 2]. Convert it to <br/>\n",
        "[[0, 1, 2, 0, 1, 2],<br/>\n",
        " [0, 1, 2, 0, 1, 2]]."
      ]
    },
    {
      "cell_type": "code",
      "execution_count": 26,
      "metadata": {
        "colab": {
          "base_uri": "https://localhost:8080/"
        },
        "id": "12_rsNSZxytp",
        "outputId": "e7802cdb-62dc-4160-ee7d-1fcace5bb10b"
      },
      "outputs": [
        {
          "output_type": "execute_result",
          "data": {
            "text/plain": [
              "array([[0, 1, 2, 0, 1, 2],\n",
              "       [0, 1, 2, 0, 1, 2]])"
            ]
          },
          "metadata": {},
          "execution_count": 26
        }
      ],
      "source": [
        "# prompt: Let x be an array [0, 1, 2]. Convert it to\n",
        "# [[0, 1, 2, 0, 1, 2],\n",
        "# [0, 1, 2, 0, 1, 2]].\n",
        "\n",
        "x = np.array([0, 1, 2])\n",
        "\n",
        "# Repeat the array twice horizontally using tile, then repeat the result twice vertically\n",
        "result = np.tile(np.tile(x, 2), (2, 1))\n",
        "\n",
        "result\n"
      ]
    },
    {
      "cell_type": "markdown",
      "metadata": {
        "id": "bh5qL43xxytq"
      },
      "source": [
        "Q15. Let x be an array [0, 1, 2]. Convert it to <br/>\n",
        "[0, 0, 1, 1, 2, 2]."
      ]
    },
    {
      "cell_type": "code",
      "execution_count": 27,
      "metadata": {
        "colab": {
          "base_uri": "https://localhost:8080/"
        },
        "id": "zXusRGg1xytq",
        "outputId": "f81dd917-80d6-456d-ff28-20a6b49db65f"
      },
      "outputs": [
        {
          "output_type": "execute_result",
          "data": {
            "text/plain": [
              "array([0, 0, 1, 1, 2, 2])"
            ]
          },
          "metadata": {},
          "execution_count": 27
        }
      ],
      "source": [
        "# prompt: Let x be an array [0, 1, 2]. Convert it to\n",
        "# [0, 0, 1, 1, 2, 2].\n",
        "\n",
        "x = np.array([0, 1, 2])\n",
        "result = np.repeat(x, 2)\n",
        "result"
      ]
    },
    {
      "cell_type": "markdown",
      "metadata": {
        "id": "na7nWeuoxytq"
      },
      "source": [
        "Q16. Let x be an array [0, 0, 0, 1, 2, 3, 0, 2, 1, 0].<br/>\n",
        "remove the leading the trailing zeros."
      ]
    },
    {
      "cell_type": "code",
      "execution_count": 28,
      "metadata": {
        "colab": {
          "base_uri": "https://localhost:8080/"
        },
        "id": "Kv3lMYl0xytq",
        "outputId": "6cc06de2-d702-4fca-db91-d1ee040867dd"
      },
      "outputs": [
        {
          "output_type": "execute_result",
          "data": {
            "text/plain": [
              "array([1, 2, 3, 0, 2, 1])"
            ]
          },
          "metadata": {},
          "execution_count": 28
        }
      ],
      "source": [
        "# prompt: Let x be an array [0, 0, 0, 1, 2, 3, 0, 2, 1, 0].\n",
        "# remove the leading the trailing zeros.\n",
        "\n",
        "x = np.array([0, 0, 0, 1, 2, 3, 0, 2, 1, 0])\n",
        "\n",
        "# Find the index of the first non-zero element\n",
        "first_nonzero = np.nonzero(x)[0][0]\n",
        "\n",
        "# Find the index of the last non-zero element\n",
        "last_nonzero = np.nonzero(x)[0][-1]\n",
        "\n",
        "# Slice the array from the first non-zero to the last non-zero element\n",
        "result = x[first_nonzero : last_nonzero + 1]\n",
        "\n",
        "result"
      ]
    },
    {
      "cell_type": "markdown",
      "metadata": {
        "id": "ujIEFTYtxytw"
      },
      "source": [
        "Q17. Let x be an array [2, 2, 1, 5, 4, 5, 1, 2, 3]. Get two arrays of unique elements and their counts.\n"
      ]
    },
    {
      "cell_type": "code",
      "execution_count": 29,
      "metadata": {
        "colab": {
          "base_uri": "https://localhost:8080/"
        },
        "id": "9mAOtB6Lxytw",
        "outputId": "703a914e-3f75-40a8-c330-0d4b502243a1"
      },
      "outputs": [
        {
          "output_type": "stream",
          "name": "stdout",
          "text": [
            "Unique Elements: [1 2 3 4 5]\n",
            "Counts: [2 3 1 1 2]\n"
          ]
        }
      ],
      "source": [
        "# prompt: Let x be an array [2, 2, 1, 5, 4, 5, 1, 2, 3]. Get two arrays of unique elements and their counts.\n",
        "\n",
        "x = np.array([2, 2, 1, 5, 4, 5, 1, 2, 3])\n",
        "\n",
        "# Get unique elements and their counts\n",
        "unique_elements, counts = np.unique(x, return_counts=True)\n",
        "\n",
        "print(\"Unique Elements:\", unique_elements)\n",
        "print(\"Counts:\", counts)"
      ]
    },
    {
      "cell_type": "markdown",
      "metadata": {
        "id": "W0nFtX_Lxytw"
      },
      "source": [
        "Q18. Lex x be an array <br/>\n",
        "[[ 1 2]<br/>\n",
        " [ 3 4].<br/>\n",
        "Flip x along the second axis."
      ]
    },
    {
      "cell_type": "code",
      "execution_count": 30,
      "metadata": {
        "colab": {
          "base_uri": "https://localhost:8080/"
        },
        "id": "7g8Xg4Z-xytw",
        "outputId": "e5b7511b-b038-4ac7-e137-99133b0294d7"
      },
      "outputs": [
        {
          "output_type": "execute_result",
          "data": {
            "text/plain": [
              "array([[2, 1],\n",
              "       [4, 3]])"
            ]
          },
          "metadata": {},
          "execution_count": 30
        }
      ],
      "source": [
        "# prompt: . Lex x be an array\n",
        "# [[ 1 2]\n",
        "# [ 3 4].\n",
        "# Flip x along the second axis\n",
        "\n",
        "x = np.array([[1, 2], [3, 4]])\n",
        "x_flipped = np.flip(x, axis=1)\n",
        "x_flipped\n"
      ]
    },
    {
      "cell_type": "markdown",
      "metadata": {
        "id": "WnnjFi_Jxytx"
      },
      "source": [
        "Q19. Lex x be an array <br/>\n",
        "[[ 1 2]<br/>\n",
        " [ 3 4].<br/>\n",
        "Flip x along the first axis."
      ]
    },
    {
      "cell_type": "code",
      "execution_count": 31,
      "metadata": {
        "colab": {
          "base_uri": "https://localhost:8080/"
        },
        "id": "CIUoUGnNxytx",
        "outputId": "d0f12763-d55e-430a-826f-89a72a1648f1"
      },
      "outputs": [
        {
          "output_type": "execute_result",
          "data": {
            "text/plain": [
              "array([[3, 4],\n",
              "       [1, 2]])"
            ]
          },
          "metadata": {},
          "execution_count": 31
        }
      ],
      "source": [
        "# prompt: Lex x be an array\n",
        "# [[ 1 2]\n",
        "# [ 3 4].\n",
        "# Flip x along the first axis.\n",
        "\n",
        "x = np.array([[1, 2], [3, 4]])\n",
        "x_flipped = np.flip(x, axis=0)\n",
        "x_flipped"
      ]
    },
    {
      "cell_type": "markdown",
      "metadata": {
        "id": "Kg99tTXoxytx"
      },
      "source": [
        "Q20. Lex x be an array <br/>\n",
        "[[ 1 2]<br/>\n",
        " [ 3 4].<br/>\n",
        "Rotate x 90 degrees counter-clockwise."
      ]
    },
    {
      "cell_type": "code",
      "execution_count": 32,
      "metadata": {
        "colab": {
          "base_uri": "https://localhost:8080/"
        },
        "id": "YQ6Y7-lFxytx",
        "outputId": "64ed0297-f12a-46ee-e899-7b9c6ac5ddee"
      },
      "outputs": [
        {
          "output_type": "execute_result",
          "data": {
            "text/plain": [
              "array([[2, 4],\n",
              "       [1, 3]])"
            ]
          },
          "metadata": {},
          "execution_count": 32
        }
      ],
      "source": [
        "# prompt: . Lex x be an array\n",
        "# [[ 1 2]\n",
        "# [ 3 4].\n",
        "# Rotate x 90 degrees counter-clockwise.\n",
        "\n",
        "x = np.array([[1, 2], [3, 4]])\n",
        "x_rotated = np.rot90(x, k=1) # k=1 for 90 degrees counter-clockwise\n",
        "x_rotated"
      ]
    },
    {
      "cell_type": "markdown",
      "metadata": {
        "id": "SOy834nhxytx"
      },
      "source": [
        "Q21 Lex x be an array <br/>\n",
        "[[ 1 2 3 4]<br/>\n",
        " [ 5 6 7 8].<br/>\n",
        "Shift elements one step to right along the second axis."
      ]
    },
    {
      "cell_type": "code",
      "execution_count": 33,
      "metadata": {
        "colab": {
          "base_uri": "https://localhost:8080/"
        },
        "id": "JxxwzQTvxytx",
        "outputId": "2ee43a77-1d4f-4dad-b789-b137550aa691"
      },
      "outputs": [
        {
          "output_type": "execute_result",
          "data": {
            "text/plain": [
              "array([[4, 1, 2, 3],\n",
              "       [8, 5, 6, 7]])"
            ]
          },
          "metadata": {},
          "execution_count": 33
        }
      ],
      "source": [
        "# prompt: Lex x be an array\n",
        "# [[ 1 2 3 4]\n",
        "# [ 5 6 7 8].\n",
        "# Shift elements one step to right along the second axis.\n",
        "\n",
        "x = np.array([[1, 2, 3, 4],\n",
        "              [5, 6, 7, 8]])\n",
        "\n",
        "# Create a new array of the same shape, initialized with the elements shifted.\n",
        "# Elements shifted to the right along the second axis (columns).\n",
        "# The last column will \"wrap around\" to the first column.\n",
        "# Use np.roll with shift=1 and axis=1.\n",
        "x_shifted = np.roll(x, shift=1, axis=1)\n",
        "x_shifted"
      ]
    },
    {
      "cell_type": "code",
      "execution_count": null,
      "metadata": {
        "collapsed": true,
        "id": "ScZ4Jd3Vxyty"
      },
      "outputs": [],
      "source": []
    }
  ],
  "metadata": {
    "kernelspec": {
      "display_name": "Python 3",
      "name": "python3"
    },
    "language_info": {
      "name": "python"
    },
    "colab": {
      "provenance": [],
      "include_colab_link": true
    }
  },
  "nbformat": 4,
  "nbformat_minor": 0
}