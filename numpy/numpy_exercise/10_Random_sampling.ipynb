{
  "cells": [
    {
      "cell_type": "markdown",
      "metadata": {
        "id": "view-in-github",
        "colab_type": "text"
      },
      "source": [
        "<a href=\"https://colab.research.google.com/github/ajit-ai/Python/blob/main/numpy/numpy_exercise/10_Random_sampling.ipynb\" target=\"_parent\"><img src=\"https://colab.research.google.com/assets/colab-badge.svg\" alt=\"Open In Colab\"/></a>"
      ]
    },
    {
      "cell_type": "markdown",
      "metadata": {
        "id": "M1Qli-tCidpl"
      },
      "source": [
        "# Random Sampling"
      ]
    },
    {
      "cell_type": "markdown",
      "source": [
        "Random sampling is a statistical technique used to select a subset of data from a larger population in a way that ensures each element has a defined probability of being chosen, enabling unbiased representation. In Python, random sampling is implemented using libraries like random, numpy, pandas, and sklearn, with various types suited for different scenarios.**bold text**"
      ],
      "metadata": {
        "id": "bEv55pFsk4Xy"
      }
    },
    {
      "cell_type": "code",
      "execution_count": 1,
      "metadata": {
        "collapsed": true,
        "id": "vpRKQWMHidpo"
      },
      "outputs": [],
      "source": [
        "import numpy as np"
      ]
    },
    {
      "cell_type": "code",
      "execution_count": 2,
      "metadata": {
        "colab": {
          "base_uri": "https://localhost:8080/",
          "height": 35
        },
        "id": "X7XFFqKGidpq",
        "outputId": "3e828859-8987-481d-f21c-c1af097a9f38"
      },
      "outputs": [
        {
          "output_type": "execute_result",
          "data": {
            "text/plain": [
              "'2.0.2'"
            ],
            "application/vnd.google.colaboratory.intrinsic+json": {
              "type": "string"
            }
          },
          "metadata": {},
          "execution_count": 2
        }
      ],
      "source": [
        "np.__version__"
      ]
    },
    {
      "cell_type": "code",
      "execution_count": null,
      "metadata": {
        "id": "EkX4NunSidpr"
      },
      "outputs": [],
      "source": [
        "__author__ = 'kyubyong. longinglove@nate.com'"
      ]
    },
    {
      "cell_type": "markdown",
      "metadata": {
        "id": "bK7hQrKeidpr"
      },
      "source": [
        "## Simple random data"
      ]
    },
    {
      "cell_type": "markdown",
      "metadata": {
        "id": "IcKggV3Gidps"
      },
      "source": [
        "Q1. Create an array of shape (3, 2) and populate it with random samples from a uniform distribution over [0, 1)."
      ]
    },
    {
      "cell_type": "code",
      "execution_count": 22,
      "metadata": {
        "colab": {
          "base_uri": "https://localhost:8080/"
        },
        "id": "gnQih0h7idps",
        "outputId": "0ae78d66-1a49-4bb7-82fc-d1cc0af2e792"
      },
      "outputs": [
        {
          "output_type": "execute_result",
          "data": {
            "text/plain": [
              "array([[0.62329813, 0.33089802],\n",
              "       [0.06355835, 0.31098232],\n",
              "       [0.32518332, 0.72960618]])"
            ]
          },
          "metadata": {},
          "execution_count": 22
        }
      ],
      "source": [
        "# prompt: Create an array of shape (3, 2) and populate it with random samples from a uniform distribution over [0, 1).\n",
        "\n",
        "np.random.rand(3, 2)"
      ]
    },
    {
      "cell_type": "markdown",
      "metadata": {
        "id": "pbwUnAENidpt"
      },
      "source": [
        "Q2. Create an array of shape (1000, 1000) and populate it with random samples from a standard normal distribution. And verify that the mean and standard deviation is close enough to 0 and 1 repectively."
      ]
    },
    {
      "cell_type": "code",
      "execution_count": 23,
      "metadata": {
        "colab": {
          "base_uri": "https://localhost:8080/"
        },
        "id": "hl8Xv2Y6idpt",
        "outputId": "2d369120-6deb-45f0-aeaa-ccb9c37cf615"
      },
      "outputs": [
        {
          "output_type": "stream",
          "name": "stdout",
          "text": [
            "mean:  -0.0012423217767619558\n",
            "std:  0.9996084877069107\n"
          ]
        }
      ],
      "source": [
        "# prompt: Create an array of shape (1000, 1000) and populate it with random samples from a standard normal distribution. And verify that the mean and standard deviation is close enough to 0 and 1 repectively\n",
        "\n",
        "arr = np.random.randn(1000, 1000)\n",
        "print('mean: ', arr.mean())\n",
        "print('std: ', arr.std())"
      ]
    },
    {
      "cell_type": "markdown",
      "metadata": {
        "id": "xLAVK7seidpt"
      },
      "source": [
        "\n",
        "\n",
        "```\n",
        "# This is formatted as code\n",
        "```\n",
        "\n",
        "Q3. Create an array of shape (3, 2) and populate it with random integers ranging from 0 to 3 (inclusive) from a discrete uniform distribution."
      ]
    },
    {
      "cell_type": "code",
      "execution_count": 6,
      "metadata": {
        "colab": {
          "base_uri": "https://localhost:8080/"
        },
        "id": "NrUxE2Syidpu",
        "outputId": "c1d26dc9-1d35-4814-a458-cfc765640c63"
      },
      "outputs": [
        {
          "output_type": "execute_result",
          "data": {
            "text/plain": [
              "array([[0, 0],\n",
              "       [3, 0],\n",
              "       [1, 2]])"
            ]
          },
          "metadata": {},
          "execution_count": 6
        }
      ],
      "source": [
        "# prompt: Create an array of shape (3, 2) and populate it with random integers ranging from 0 to 3 (inclusive) from a discrete uniform distribution.\n",
        "\n",
        "np.random.randint(0, 4, size=(3, 2))\n"
      ]
    },
    {
      "cell_type": "markdown",
      "metadata": {
        "id": "83E0Hzr1idpu"
      },
      "source": [
        "Q4. Extract 1 elements from x randomly such that each of them would be associated with probabilities .3, .5, .2. Then print the result 10 times."
      ]
    },
    {
      "cell_type": "code",
      "execution_count": 7,
      "metadata": {
        "id": "OVeWQyvXidpu"
      },
      "outputs": [],
      "source": [
        "x = [b'3 out of 10', b'5 out of 10', b'2 out of 10']\n"
      ]
    },
    {
      "cell_type": "markdown",
      "metadata": {
        "id": "cjJRbaOoidpv"
      },
      "source": [
        "Q5. Extract 3 different integers from 0 to 9 randomly with the same probabilities."
      ]
    },
    {
      "cell_type": "code",
      "execution_count": 24,
      "metadata": {
        "colab": {
          "base_uri": "https://localhost:8080/"
        },
        "id": "jXm3zisEidpv",
        "outputId": "4de79fcf-0e5b-416e-cc64-b1e08e384f6f"
      },
      "outputs": [
        {
          "output_type": "execute_result",
          "data": {
            "text/plain": [
              "array([2, 8, 0])"
            ]
          },
          "metadata": {},
          "execution_count": 24
        }
      ],
      "source": [
        "# prompt: Extract 3 different integers from 0 to 9 randomly with the same probabilities.\n",
        "\n",
        "np.random.choice(10, size=3, replace=False)"
      ]
    },
    {
      "cell_type": "markdown",
      "metadata": {
        "id": "kIF3cjLridpw"
      },
      "source": [
        "## Permutations"
      ]
    },
    {
      "cell_type": "markdown",
      "metadata": {
        "id": "Dbcu3j9sidpw"
      },
      "source": [
        "Q6. Shuffle numbers between 0 and 9 (inclusive)."
      ]
    },
    {
      "cell_type": "code",
      "execution_count": 15,
      "metadata": {
        "id": "ose462ANidpw"
      },
      "outputs": [],
      "source": [
        "# prompt: Shuffle numbers between 0 and 9 (inclusive).\n",
        "\n",
        "np.random.shuffle(np.arange(10))"
      ]
    },
    {
      "cell_type": "code",
      "execution_count": 16,
      "metadata": {
        "id": "cKsn3Pl1idpx"
      },
      "outputs": [],
      "source": [
        "# Or\n"
      ]
    },
    {
      "cell_type": "markdown",
      "metadata": {
        "id": "WqHurAKMidpx"
      },
      "source": [
        "## Random generator"
      ]
    },
    {
      "cell_type": "markdown",
      "metadata": {
        "id": "OkY7J10qidpx"
      },
      "source": [
        "Q7. Assign number 10 to the seed of the random generator so that you can get the same value next time."
      ]
    },
    {
      "cell_type": "code",
      "execution_count": 17,
      "metadata": {
        "collapsed": true,
        "id": "gbqEmSMaidpx"
      },
      "outputs": [],
      "source": [
        "# prompt:  Assign number 10 to the seed of the random generator so that you can get the same value next time.\n",
        "\n",
        "np.random.seed(10)"
      ]
    },
    {
      "cell_type": "markdown",
      "source": [
        "Simple Random Sampling (SRS)\n",
        "Definition: Each element in the population has an equal probability of being selected, with or without replacement.\n",
        "Use Case: General-purpose sampling for surveys, data exploration, or creating training/test datasets."
      ],
      "metadata": {
        "id": "dM1RhaqklXTa"
      }
    },
    {
      "cell_type": "code",
      "source": [
        "import random\n",
        "population = list(range(100))\n",
        "sample = random.sample(population, k=10)  # Without replacement\n",
        "sample_with_replacement = random.choices(population, k=10)  # With replacement\n",
        "\n",
        "print(sample)\n",
        "print(sample_with_replacement)"
      ],
      "metadata": {
        "id": "JdR_fAmVlY0J",
        "outputId": "8c127fcd-30fc-4bb4-fad2-50c3b24ec799",
        "colab": {
          "base_uri": "https://localhost:8080/"
        }
      },
      "execution_count": 20,
      "outputs": [
        {
          "output_type": "stream",
          "name": "stdout",
          "text": [
            "[59, 49, 24, 77, 75, 43, 42, 29, 88, 89]\n",
            "[23, 40, 97, 28, 47, 68, 41, 44, 41, 92]\n"
          ]
        }
      ]
    },
    {
      "cell_type": "code",
      "source": [
        "import numpy as np\n",
        "np.random.seed(42)  # For reproducibility\n",
        "population = np.arange(100)\n",
        "sample = np.random.choice(population, size=10, replace=False)  # Without replacement\n",
        "sample_with_replacement = np.random.choice(population, size=10, replace=True)\n",
        "\n",
        "print(sample)\n",
        "print(sample_with_replacement)"
      ],
      "metadata": {
        "id": "A-GgKAlelfXp",
        "outputId": "a2b68446-ea98-429d-c20b-97047fdd1c80",
        "colab": {
          "base_uri": "https://localhost:8080/"
        }
      },
      "execution_count": 21,
      "outputs": [
        {
          "output_type": "stream",
          "name": "stdout",
          "text": [
            "[83 53 70 45 44 39 22 80 10  0]\n",
            "[80  7 34 34 32  4 40 27  6 72]\n"
          ]
        }
      ]
    },
    {
      "cell_type": "code",
      "source": [
        "import pandas as pd\n",
        "df = pd.DataFrame({'data': range(100)})\n",
        "sample = df.sample(n=10, random_state=42)  # Without replacement\n",
        "sample_with_replacement = df.sample(n=10, replace=True, random_state=42)\n",
        "\n",
        "print(sample)\n",
        "print(sample_with_replacement)"
      ],
      "metadata": {
        "id": "AvNaWvjhl8LJ",
        "outputId": "73748090-61a5-4bfa-cca0-b01b7ed3f77c",
        "colab": {
          "base_uri": "https://localhost:8080/"
        }
      },
      "execution_count": 26,
      "outputs": [
        {
          "output_type": "stream",
          "name": "stdout",
          "text": [
            "    data\n",
            "83    83\n",
            "53    53\n",
            "70    70\n",
            "45    45\n",
            "44    44\n",
            "39    39\n",
            "22    22\n",
            "80    80\n",
            "10    10\n",
            "0      0\n",
            "    data\n",
            "51    51\n",
            "92    92\n",
            "14    14\n",
            "71    71\n",
            "60    60\n",
            "20    20\n",
            "82    82\n",
            "86    86\n",
            "74    74\n",
            "74    74\n"
          ]
        }
      ]
    },
    {
      "cell_type": "markdown",
      "source": [
        "Stratified Sampling\n",
        "Definition: The population is divided into subgroups (strata) based on a characteristic (e.g., gender, age), and random samples are drawn from each stratum proportionally or equally.\n",
        "Use Case: Ensures representation of all subgroups, common in machine learning for balanced datasets."
      ],
      "metadata": {
        "id": "WXr7VyGMmJ0x"
      }
    },
    {
      "cell_type": "code",
      "source": [
        "import pandas as pd\n",
        "df = pd.DataFrame({\n",
        "    'value': range(100),\n",
        "    'stratum': ['A']*40 + ['B']*30 + ['C']*30\n",
        "})\n",
        "stratified_sample = df.groupby('stratum').sample(frac=0.1, random_state=42)\n",
        "\n",
        "print(stratified_sample)"
      ],
      "metadata": {
        "id": "ntPHJFgfmLFh",
        "outputId": "59fcd52b-3e2d-4f21-9d62-0bf0b6bf4b87",
        "colab": {
          "base_uri": "https://localhost:8080/"
        }
      },
      "execution_count": 29,
      "outputs": [
        {
          "output_type": "stream",
          "name": "stdout",
          "text": [
            "    value stratum\n",
            "19     19       A\n",
            "16     16       A\n",
            "15     15       A\n",
            "26     26       A\n",
            "65     65       B\n",
            "55     55       B\n",
            "44     44       B\n",
            "99     99       C\n",
            "89     89       C\n",
            "72     72       C\n"
          ]
        }
      ]
    },
    {
      "cell_type": "code",
      "source": [
        "from sklearn.model_selection import train_test_split\n",
        "X, y = df[['value']], df['stratum']\n",
        "X_train, X_test, y_train, y_test = train_test_split(X, y, test_size=0.2, stratify=y, random_state=42)\n",
        "\n",
        "print(X_train)\n",
        "print(y_train)\n",
        "print(X_test)\n",
        "print(y_test)"
      ],
      "metadata": {
        "id": "aR5w3YRwmQNJ",
        "outputId": "91b021a1-4430-489d-c96e-09f47f846961",
        "colab": {
          "base_uri": "https://localhost:8080/"
        }
      },
      "execution_count": 30,
      "outputs": [
        {
          "output_type": "stream",
          "name": "stdout",
          "text": [
            "    value\n",
            "33     33\n",
            "61     61\n",
            "51     51\n",
            "83     83\n",
            "54     54\n",
            "..    ...\n",
            "4       4\n",
            "65     65\n",
            "85     85\n",
            "44     44\n",
            "27     27\n",
            "\n",
            "[80 rows x 1 columns]\n",
            "33    A\n",
            "61    B\n",
            "51    B\n",
            "83    C\n",
            "54    B\n",
            "     ..\n",
            "4     A\n",
            "65    B\n",
            "85    C\n",
            "44    B\n",
            "27    A\n",
            "Name: stratum, Length: 80, dtype: object\n",
            "    value\n",
            "46     46\n",
            "79     79\n",
            "43     43\n",
            "81     81\n",
            "14     14\n",
            "38     38\n",
            "7       7\n",
            "95     95\n",
            "18     18\n",
            "22     22\n",
            "28     28\n",
            "87     87\n",
            "20     20\n",
            "64     64\n",
            "10     10\n",
            "48     48\n",
            "71     71\n",
            "53     53\n",
            "73     73\n",
            "57     57\n",
            "46    B\n",
            "79    C\n",
            "43    B\n",
            "81    C\n",
            "14    A\n",
            "38    A\n",
            "7     A\n",
            "95    C\n",
            "18    A\n",
            "22    A\n",
            "28    A\n",
            "87    C\n",
            "20    A\n",
            "64    B\n",
            "10    A\n",
            "48    B\n",
            "71    C\n",
            "53    B\n",
            "73    C\n",
            "57    B\n",
            "Name: stratum, dtype: object\n"
          ]
        }
      ]
    },
    {
      "cell_type": "markdown",
      "source": [
        "Systematic Sampling\n",
        "Definition: Select every k-th element from a population after a random starting point, where k = population size / sample size.\n",
        "Use Case: Useful for ordered datasets or when simple random sampling is computationally expensive."
      ],
      "metadata": {
        "id": "On32RSeOmf3x"
      }
    },
    {
      "cell_type": "code",
      "source": [
        "import numpy as np\n",
        "population = np.arange(100)\n",
        "sample_size = 10\n",
        "k = len(population) // sample_size\n",
        "start = np.random.randint(0, k)\n",
        "systematic_sample = population[start::k][:sample_size]\n",
        "\n",
        "print(systematic_sample)"
      ],
      "metadata": {
        "id": "KCUNKVvZmjJC",
        "outputId": "5f2db0b2-1a45-4392-99ac-5fc9c462ab36",
        "colab": {
          "base_uri": "https://localhost:8080/"
        }
      },
      "execution_count": 32,
      "outputs": [
        {
          "output_type": "stream",
          "name": "stdout",
          "text": [
            "[ 1 11 21 31 41 51 61 71 81 91]\n"
          ]
        }
      ]
    },
    {
      "cell_type": "code",
      "source": [
        "import pandas as pd\n",
        "df = pd.DataFrame({'data': range(100)})\n",
        "k = len(df) // 10\n",
        "start = np.random.randint(0, k)\n",
        "systematic_sample = df.iloc[start::k].head(10)\n",
        "\n",
        "print(systematic_sample)"
      ],
      "metadata": {
        "id": "bzWhsxCEmkeB",
        "outputId": "0771b2a4-4765-4d3b-eba7-007725f3798f",
        "colab": {
          "base_uri": "https://localhost:8080/"
        }
      },
      "execution_count": 33,
      "outputs": [
        {
          "output_type": "stream",
          "name": "stdout",
          "text": [
            "    data\n",
            "7      7\n",
            "17    17\n",
            "27    27\n",
            "37    37\n",
            "47    47\n",
            "57    57\n",
            "67    67\n",
            "77    77\n",
            "87    87\n",
            "97    97\n"
          ]
        }
      ]
    },
    {
      "cell_type": "markdown",
      "source": [
        "Cluster Sampling\n",
        "Definition: The population is divided into clusters (e.g., geographic regions), and a random subset of clusters is selected, including all elements within chosen clusters.\n",
        "Use Case: Efficient for geographically dispersed data or when sampling entire groups is practical."
      ],
      "metadata": {
        "id": "NxX43duHmx0w"
      }
    },
    {
      "cell_type": "code",
      "source": [
        "import pandas as pd\n",
        "import random\n",
        "df = pd.DataFrame({\n",
        "    'value': range(100),\n",
        "    'cluster': [i // 20 for i in range(100)]  # 5 clusters\n",
        "})\n",
        "clusters = df['cluster'].unique()\n",
        "selected_clusters = random.sample(list(clusters), k=2)  # Select 2 clusters\n",
        "cluster_sample = df[df['cluster'].isin(selected_clusters)]\n",
        "\n",
        "print(clusters)\n",
        "print(selected_clusters)\n",
        "print(cluster_sample)"
      ],
      "metadata": {
        "id": "5pWgs8wgmy_A",
        "outputId": "89377312-66f3-49a4-df99-6b269e79f3c9",
        "colab": {
          "base_uri": "https://localhost:8080/"
        }
      },
      "execution_count": 35,
      "outputs": [
        {
          "output_type": "stream",
          "name": "stdout",
          "text": [
            "[0 1 2 3 4]\n",
            "[np.int64(4), np.int64(0)]\n",
            "    value  cluster\n",
            "0       0        0\n",
            "1       1        0\n",
            "2       2        0\n",
            "3       3        0\n",
            "4       4        0\n",
            "5       5        0\n",
            "6       6        0\n",
            "7       7        0\n",
            "8       8        0\n",
            "9       9        0\n",
            "10     10        0\n",
            "11     11        0\n",
            "12     12        0\n",
            "13     13        0\n",
            "14     14        0\n",
            "15     15        0\n",
            "16     16        0\n",
            "17     17        0\n",
            "18     18        0\n",
            "19     19        0\n",
            "80     80        4\n",
            "81     81        4\n",
            "82     82        4\n",
            "83     83        4\n",
            "84     84        4\n",
            "85     85        4\n",
            "86     86        4\n",
            "87     87        4\n",
            "88     88        4\n",
            "89     89        4\n",
            "90     90        4\n",
            "91     91        4\n",
            "92     92        4\n",
            "93     93        4\n",
            "94     94        4\n",
            "95     95        4\n",
            "96     96        4\n",
            "97     97        4\n",
            "98     98        4\n",
            "99     99        4\n"
          ]
        }
      ]
    },
    {
      "cell_type": "markdown",
      "source": [
        "Bootstrap Sampling\n",
        "Definition: Sampling with replacement to create multiple datasets of the same size as the original, used to estimate variability or build confidence intervals.\n",
        "Use Case: Statistical inference, machine learning (e.g., bagging in random forests)."
      ],
      "metadata": {
        "id": "g4EftZWjnK0S"
      }
    },
    {
      "cell_type": "code",
      "source": [
        "import pandas as pd\n",
        "df = pd.DataFrame({'data': range(100)})\n",
        "bootstrap_sample = df.sample(n=len(df), replace=True, random_state=42)\n",
        "\n",
        "print(bootstrap_sample)"
      ],
      "metadata": {
        "id": "45FyKQxDnOPK",
        "outputId": "adf88f74-d81a-4528-efc8-580f26397d5f",
        "colab": {
          "base_uri": "https://localhost:8080/"
        }
      },
      "execution_count": 38,
      "outputs": [
        {
          "output_type": "stream",
          "name": "stdout",
          "text": [
            "    data\n",
            "51    51\n",
            "92    92\n",
            "14    14\n",
            "71    71\n",
            "60    60\n",
            "..   ...\n",
            "84    84\n",
            "79    79\n",
            "81    81\n",
            "52    52\n",
            "23    23\n",
            "\n",
            "[100 rows x 1 columns]\n"
          ]
        }
      ]
    },
    {
      "cell_type": "code",
      "source": [
        "import pandas as pd\n",
        "df = pd.DataFrame({'data': range(100)})\n",
        "bootstrap_sample = df.sample(n=len(df), replace=True, random_state=42)\n",
        "\n",
        "print(bootstrap_sample)"
      ],
      "metadata": {
        "id": "pjJlUdgnnPuS",
        "outputId": "5b656c03-909e-4834-aec2-50abda03e58d",
        "colab": {
          "base_uri": "https://localhost:8080/"
        }
      },
      "execution_count": 39,
      "outputs": [
        {
          "output_type": "stream",
          "name": "stdout",
          "text": [
            "    data\n",
            "51    51\n",
            "92    92\n",
            "14    14\n",
            "71    71\n",
            "60    60\n",
            "..   ...\n",
            "84    84\n",
            "79    79\n",
            "81    81\n",
            "52    52\n",
            "23    23\n",
            "\n",
            "[100 rows x 1 columns]\n"
          ]
        }
      ]
    },
    {
      "cell_type": "markdown",
      "source": [
        "Weighted Random Sampling\n",
        "Definition: Elements are selected with probabilities proportional to assigned weights, with or without replacement.\n",
        "Use Case: When certain elements are more important (e.g., oversampling rare classes in imbalanced datasets)."
      ],
      "metadata": {
        "id": "d2D0XuCPn2pa"
      }
    },
    {
      "cell_type": "code",
      "source": [
        "import random\n",
        "population = ['A', 'B', 'C']\n",
        "weights = [0.5, 0.3, 0.2]\n",
        "weighted_sample = random.choices(population, weights=weights, k=10)\n",
        "\n",
        "print(weighted_sample)"
      ],
      "metadata": {
        "id": "nT8inhodn3eR",
        "outputId": "09c595eb-8954-4cca-dcf4-e659e8911491",
        "colab": {
          "base_uri": "https://localhost:8080/"
        }
      },
      "execution_count": 42,
      "outputs": [
        {
          "output_type": "stream",
          "name": "stdout",
          "text": [
            "['A', 'B', 'B', 'A', 'B', 'B', 'A', 'C', 'A', 'C']\n"
          ]
        }
      ]
    },
    {
      "cell_type": "code",
      "source": [
        "import numpy as np\n",
        "population = np.array(['A', 'B', 'C'])\n",
        "weights = [0.5, 0.3, 0.2]\n",
        "weighted_sample = np.random.choice(population, size=10, p=weights, replace=True)\n",
        "\n",
        "print(weighted_sample)"
      ],
      "metadata": {
        "id": "T1uEdw02n7XJ",
        "outputId": "a2abf3a5-4a9a-459b-c17a-0a1235afe8a4",
        "colab": {
          "base_uri": "https://localhost:8080/"
        }
      },
      "execution_count": 43,
      "outputs": [
        {
          "output_type": "stream",
          "name": "stdout",
          "text": [
            "['A' 'B' 'C' 'A' 'B' 'A' 'B' 'B' 'A' 'A']\n"
          ]
        }
      ]
    },
    {
      "cell_type": "markdown",
      "source": [
        "**Reservoir Sampling**\n",
        "**Definition:** Selects k items from a stream of unknown size, ensuring each item has an equal probability of being chosen, ideal for streaming data.\n",
        "**Use Case:** Big data or real-time data processing where the full dataset isn’t loaded into memory."
      ],
      "metadata": {
        "id": "PBwxGiD9oMry"
      }
    },
    {
      "cell_type": "code",
      "source": [
        "import random\n",
        "def reservoir_sampling(stream, k):\n",
        "    reservoir = []\n",
        "    for i, item in enumerate(stream):\n",
        "        if i < k:\n",
        "            reservoir.append(item)\n",
        "        else:\n",
        "            if random.random() < k / (i + 1):\n",
        "                reservoir[random.randint(0, k-1)] = item\n",
        "    return reservoir\n",
        "stream = range(100)\n",
        "sample = reservoir_sampling(stream, 10)\n",
        "\n",
        "print(sample)"
      ],
      "metadata": {
        "id": "KJ-g-ezNoVJC",
        "outputId": "de34dbdd-e3ee-4eac-8e2b-83020773c3b4",
        "colab": {
          "base_uri": "https://localhost:8080/"
        }
      },
      "execution_count": 45,
      "outputs": [
        {
          "output_type": "stream",
          "name": "stdout",
          "text": [
            "[18, 96, 44, 40, 23, 19, 82, 47, 52, 94]\n"
          ]
        }
      ]
    },
    {
      "cell_type": "markdown",
      "source": [
        "**Latin Hypercube Sampling (LHS)**\n",
        "**Definition:** Divides each dimension of the population into equally spaced intervals and samples randomly within each interval, ensuring even coverage in multi-dimensional spaces.\n",
        "**Use Case:** Monte Carlo simulations, uncertainty analysis, and optimization."
      ],
      "metadata": {
        "id": "4WPWl5bSohfj"
      }
    },
    {
      "cell_type": "code",
      "source": [
        "from scipy.stats import qmc\n",
        "sampler = qmc.LatinHypercube(d=2)  # 2 dimensions\n",
        "sample = sampler.random(n=10)  # 10 samples\n",
        "\n",
        "print(sampler)\n",
        "print(sample)"
      ],
      "metadata": {
        "id": "06ILhFS6omaC",
        "outputId": "8fb43613-8d6d-44dc-d7ed-356fdff75e67",
        "colab": {
          "base_uri": "https://localhost:8080/"
        }
      },
      "execution_count": 46,
      "outputs": [
        {
          "output_type": "stream",
          "name": "stdout",
          "text": [
            "<scipy.stats._qmc.LatinHypercube object at 0x7c147982d610>\n",
            "[[0.63332609 0.97049494]\n",
            " [0.73717601 0.80428945]\n",
            " [0.31372041 0.25030501]\n",
            " [0.53918073 0.79371996]\n",
            " [0.06392733 0.39725619]\n",
            " [0.42686584 0.492613  ]\n",
            " [0.82382591 0.14732378]\n",
            " [0.25528303 0.66340152]\n",
            " [0.99245174 0.04619092]\n",
            " [0.19703863 0.51052791]]\n"
          ]
        }
      ]
    },
    {
      "cell_type": "code",
      "source": [
        "import pandas as pd\n",
        "import numpy as np\n",
        "import matplotlib.pyplot as plt\n",
        "\n",
        "# Create a sample dataset\n",
        "df = pd.DataFrame({'value': np.random.normal(0, 1, 1000)})  # Normal distribution\n",
        "sample = df.sample(n=100, random_state=42)  # Simple random sample\n",
        "\n",
        "# Visualize\n",
        "plt.hist(df['value'], bins=30, alpha=0.5, label='Population')\n",
        "plt.hist(sample['value'], bins=30, alpha=0.8, label='Sample')\n",
        "plt.legend()\n",
        "plt.show()"
      ],
      "metadata": {
        "id": "YRQOEpaTo5d6",
        "outputId": "797849e9-84ed-45c8-a07f-5e154177b2f5",
        "colab": {
          "base_uri": "https://localhost:8080/",
          "height": 430
        }
      },
      "execution_count": 47,
      "outputs": [
        {
          "output_type": "display_data",
          "data": {
            "text/plain": [
              "<Figure size 640x480 with 1 Axes>"
            ],
            "image/png": "[encoded data removed]"
          },
          "metadata": {}
        }
      ]
    }
  ],
  "metadata": {
    "kernelspec": {
      "display_name": "Python 2",
      "language": "python",
      "name": "python2"
    },
    "language_info": {
      "codemirror_mode": {
        "name": "ipython",
        "version": 2
      },
      "file_extension": ".py",
      "mimetype": "text/x-python",
      "name": "python",
      "nbconvert_exporter": "python",
      "pygments_lexer": "ipython2",
      "version": "2.7.10"
    },
    "colab": {
      "provenance": [],
      "include_colab_link": true
    }
  },
  "nbformat": 4,
  "nbformat_minor": 0
}