{
  "cells": [
    {
      "cell_type": "markdown",
      "metadata": {
        "id": "view-in-github",
        "colab_type": "text"
      },
      "source": [
        "<a href=\"https://colab.research.google.com/github/ajit-ai/Python/blob/main/numpy/numpy_exercise/10_Random_sampling.ipynb\" target=\"_parent\"><img src=\"https://colab.research.google.com/assets/colab-badge.svg\" alt=\"Open In Colab\"/></a>"
      ]
    },
    {
      "cell_type": "markdown",
      "metadata": {
        "id": "M1Qli-tCidpl"
      },
      "source": [
        "# Random Sampling"
      ]
    },
    {
      "cell_type": "markdown",
      "source": [
        "Random sampling is a statistical technique used to select a subset of data from a larger population in a way that ensures each element has a defined probability of being chosen, enabling unbiased representation. In Python, random sampling is implemented using libraries like random, numpy, pandas, and sklearn, with various types suited for different scenarios.**bold text**"
      ],
      "metadata": {
        "id": "bEv55pFsk4Xy"
      }
    },
    {
      "cell_type": "code",
      "execution_count": 27,
      "metadata": {
        "collapsed": true,
        "id": "vpRKQWMHidpo"
      },
      "outputs": [],
      "source": [
        "import numpy as np"
      ]
    },
    {
      "cell_type": "code",
      "execution_count": 28,
      "metadata": {
        "colab": {
          "base_uri": "https://localhost:8080/",
          "height": 35
        },
        "id": "X7XFFqKGidpq",
        "outputId": "acbf73b8-8f4c-4d48-f59a-705bfa296b40"
      },
      "outputs": [
        {
          "output_type": "execute_result",
          "data": {
            "text/plain": [
              "'2.0.2'"
            ],
            "application/vnd.google.colaboratory.intrinsic+json": {
              "type": "string"
            }
          },
          "metadata": {},
          "execution_count": 28
        }
      ],
      "source": [
        "np.__version__"
      ]
    },
    {
      "cell_type": "code",
      "execution_count": 29,
      "metadata": {
        "id": "EkX4NunSidpr"
      },
      "outputs": [],
      "source": [
        "__author__ = 'kyubyong. longinglove@nate.com'"
      ]
    },
    {
      "cell_type": "markdown",
      "metadata": {
        "id": "bK7hQrKeidpr"
      },
      "source": [
        "## Simple random data"
      ]
    },
    {
      "cell_type": "markdown",
      "metadata": {
        "id": "IcKggV3Gidps"
      },
      "source": [
        "Q1. Create an array of shape (3, 2) and populate it with random samples from a uniform distribution over [0, 1)."
      ]
    },
    {
      "cell_type": "code",
      "execution_count": 30,
      "metadata": {
        "colab": {
          "base_uri": "https://localhost:8080/"
        },
        "id": "gnQih0h7idps",
        "outputId": "a308af29-1788-4fe0-fba3-1fef76b89e40"
      },
      "outputs": [
        {
          "output_type": "execute_result",
          "data": {
            "text/plain": [
              "array([[0.09739339, 0.4050208 ],\n",
              "       [0.5929184 , 0.5794149 ],\n",
              "       [0.66262128, 0.09526151]])"
            ]
          },
          "metadata": {},
          "execution_count": 30
        }
      ],
      "source": [
        "# prompt: Create an array of shape (3, 2) and populate it with random samples from a uniform distribution over [0, 1).\n",
        "\n",
        "np.random.rand(3, 2)"
      ]
    },
    {
      "cell_type": "markdown",
      "metadata": {
        "id": "pbwUnAENidpt"
      },
      "source": [
        "Q2. Create an array of shape (1000, 1000) and populate it with random samples from a standard normal distribution. And verify that the mean and standard deviation is close enough to 0 and 1 repectively."
      ]
    },
    {
      "cell_type": "code",
      "execution_count": 31,
      "metadata": {
        "colab": {
          "base_uri": "https://localhost:8080/"
        },
        "id": "hl8Xv2Y6idpt",
        "outputId": "a9692061-121a-4740-f921-43194ab08e2c"
      },
      "outputs": [
        {
          "output_type": "stream",
          "name": "stdout",
          "text": [
            "mean:  0.0006598984218994883\n",
            "std:  1.0009610337691304\n"
          ]
        }
      ],
      "source": [
        "# prompt: Create an array of shape (1000, 1000) and populate it with random samples from a standard normal distribution. And verify that the mean and standard deviation is close enough to 0 and 1 repectively\n",
        "\n",
        "arr = np.random.randn(1000, 1000)\n",
        "print('mean: ', arr.mean())\n",
        "print('std: ', arr.std())"
      ]
    },
    {
      "cell_type": "markdown",
      "metadata": {
        "id": "xLAVK7seidpt"
      },
      "source": [
        "\n",
        "\n",
        "```\n",
        "# This is formatted as code\n",
        "```\n",
        "\n",
        "Q3. Create an array of shape (3, 2) and populate it with random integers ranging from 0 to 3 (inclusive) from a discrete uniform distribution."
      ]
    },
    {
      "cell_type": "code",
      "execution_count": 32,
      "metadata": {
        "colab": {
          "base_uri": "https://localhost:8080/"
        },
        "id": "NrUxE2Syidpu",
        "outputId": "90becde9-6188-4e96-cdad-65a4af350a6d"
      },
      "outputs": [
        {
          "output_type": "execute_result",
          "data": {
            "text/plain": [
              "array([[3, 2],\n",
              "       [1, 2],\n",
              "       [0, 3]])"
            ]
          },
          "metadata": {},
          "execution_count": 32
        }
      ],
      "source": [
        "# prompt: Create an array of shape (3, 2) and populate it with random integers ranging from 0 to 3 (inclusive) from a discrete uniform distribution.\n",
        "\n",
        "np.random.randint(0, 4, size=(3, 2))\n"
      ]
    },
    {
      "cell_type": "markdown",
      "metadata": {
        "id": "83E0Hzr1idpu"
      },
      "source": [
        "Q4. Extract 1 elements from x randomly such that each of them would be associated with probabilities .3, .5, .2. Then print the result 10 times."
      ]
    },
    {
      "cell_type": "code",
      "execution_count": 33,
      "metadata": {
        "id": "OVeWQyvXidpu"
      },
      "outputs": [],
      "source": [
        "x = [b'3 out of 10', b'5 out of 10', b'2 out of 10']\n"
      ]
    },
    {
      "cell_type": "markdown",
      "metadata": {
        "id": "cjJRbaOoidpv"
      },
      "source": [
        "Q5. Extract 3 different integers from 0 to 9 randomly with the same probabilities."
      ]
    },
    {
      "cell_type": "code",
      "execution_count": 34,
      "metadata": {
        "colab": {
          "base_uri": "https://localhost:8080/"
        },
        "id": "jXm3zisEidpv",
        "outputId": "06017263-ad80-4a82-a5d3-d803da72815f"
      },
      "outputs": [
        {
          "output_type": "execute_result",
          "data": {
            "text/plain": [
              "array([7, 2, 5])"
            ]
          },
          "metadata": {},
          "execution_count": 34
        }
      ],
      "source": [
        "# prompt: Extract 3 different integers from 0 to 9 randomly with the same probabilities.\n",
        "\n",
        "np.random.choice(10, size=3, replace=False)"
      ]
    },
    {
      "cell_type": "markdown",
      "metadata": {
        "id": "kIF3cjLridpw"
      },
      "source": [
        "## Permutations"
      ]
    },
    {
      "cell_type": "markdown",
      "metadata": {
        "id": "Dbcu3j9sidpw"
      },
      "source": [
        "Q6. Shuffle numbers between 0 and 9 (inclusive)."
      ]
    },
    {
      "cell_type": "code",
      "execution_count": 35,
      "metadata": {
        "id": "ose462ANidpw"
      },
      "outputs": [],
      "source": [
        "# prompt: Shuffle numbers between 0 and 9 (inclusive).\n",
        "\n",
        "np.random.shuffle(np.arange(10))"
      ]
    },
    {
      "cell_type": "code",
      "execution_count": 36,
      "metadata": {
        "id": "cKsn3Pl1idpx"
      },
      "outputs": [],
      "source": [
        "# Or\n"
      ]
    },
    {
      "cell_type": "markdown",
      "metadata": {
        "id": "WqHurAKMidpx"
      },
      "source": [
        "## Random generator"
      ]
    },
    {
      "cell_type": "markdown",
      "metadata": {
        "id": "OkY7J10qidpx"
      },
      "source": [
        "Q7. Assign number 10 to the seed of the random generator so that you can get the same value next time."
      ]
    },
    {
      "cell_type": "code",
      "execution_count": 37,
      "metadata": {
        "collapsed": true,
        "id": "gbqEmSMaidpx"
      },
      "outputs": [],
      "source": [
        "# prompt:  Assign number 10 to the seed of the random generator so that you can get the same value next time.\n",
        "\n",
        "np.random.seed(10)"
      ]
    },
    {
      "cell_type": "markdown",
      "source": [
        "Simple Random Sampling (SRS)\n",
        "Definition: Each element in the population has an equal probability of being selected, with or without replacement.\n",
        "Use Case: General-purpose sampling for surveys, data exploration, or creating training/test datasets."
      ],
      "metadata": {
        "id": "dM1RhaqklXTa"
      }
    },
    {
      "cell_type": "code",
      "source": [
        "import random\n",
        "population = list(range(100))\n",
        "sample = random.sample(population, k=10)  # Without replacement\n",
        "sample_with_replacement = random.choices(population, k=10)  # With replacement\n",
        "\n",
        "print(sample)\n",
        "print(sample_with_replacement)"
      ],
      "metadata": {
        "id": "JdR_fAmVlY0J",
        "outputId": "5c925c6a-3eca-4412-80ed-4fbfeaf95637",
        "colab": {
          "base_uri": "https://localhost:8080/"
        }
      },
      "execution_count": 38,
      "outputs": [
        {
          "output_type": "stream",
          "name": "stdout",
          "text": [
            "[10, 91, 75, 0, 83, 6, 62, 90, 56, 36]\n",
            "[76, 9, 66, 65, 23, 77, 42, 90, 67, 92]\n"
          ]
        }
      ]
    },
    {
      "cell_type": "code",
      "source": [
        "import numpy as np\n",
        "np.random.seed(42)  # For reproducibility\n",
        "population = np.arange(100)\n",
        "sample = np.random.choice(population, size=10, replace=False)  # Without replacement\n",
        "sample_with_replacement = np.random.choice(population, size=10, replace=True)\n",
        "\n",
        "print(sample)\n",
        "print(sample_with_replacement)"
      ],
      "metadata": {
        "id": "A-GgKAlelfXp",
        "outputId": "9ca6704f-6a62-46c3-b300-28bb5c38b315",
        "colab": {
          "base_uri": "https://localhost:8080/"
        }
      },
      "execution_count": 39,
      "outputs": [
        {
          "output_type": "stream",
          "name": "stdout",
          "text": [
            "[83 53 70 45 44 39 22 80 10  0]\n",
            "[80  7 34 34 32  4 40 27  6 72]\n"
          ]
        }
      ]
    },
    {
      "cell_type": "code",
      "source": [
        "import pandas as pd\n",
        "df = pd.DataFrame({'data': range(100)})\n",
        "sample = df.sample(n=10, random_state=42)  # Without replacement\n",
        "sample_with_replacement = df.sample(n=10, replace=True, random_state=42)\n",
        "\n",
        "print(sample)\n",
        "print(sample_with_replacement)"
      ],
      "metadata": {
        "id": "AvNaWvjhl8LJ",
        "outputId": "40bc60ec-44d8-4050-b319-c0d3ac80364d",
        "colab": {
          "base_uri": "https://localhost:8080/"
        }
      },
      "execution_count": 40,
      "outputs": [
        {
          "output_type": "stream",
          "name": "stdout",
          "text": [
            "    data\n",
            "83    83\n",
            "53    53\n",
            "70    70\n",
            "45    45\n",
            "44    44\n",
            "39    39\n",
            "22    22\n",
            "80    80\n",
            "10    10\n",
            "0      0\n",
            "    data\n",
            "51    51\n",
            "92    92\n",
            "14    14\n",
            "71    71\n",
            "60    60\n",
            "20    20\n",
            "82    82\n",
            "86    86\n",
            "74    74\n",
            "74    74\n"
          ]
        }
      ]
    },
    {
      "cell_type": "markdown",
      "source": [
        "Stratified Sampling\n",
        "Definition: The population is divided into subgroups (strata) based on a characteristic (e.g., gender, age), and random samples are drawn from each stratum proportionally or equally.\n",
        "Use Case: Ensures representation of all subgroups, common in machine learning for balanced datasets."
      ],
      "metadata": {
        "id": "WXr7VyGMmJ0x"
      }
    },
    {
      "cell_type": "code",
      "source": [
        "import pandas as pd\n",
        "df = pd.DataFrame({\n",
        "    'value': range(100),\n",
        "    'stratum': ['A']*40 + ['B']*30 + ['C']*30\n",
        "})\n",
        "stratified_sample = df.groupby('stratum').sample(frac=0.1, random_state=42)\n",
        "\n",
        "print(stratified_sample)"
      ],
      "metadata": {
        "id": "ntPHJFgfmLFh",
        "outputId": "7e71bd51-9095-44ed-c756-158d77f6fb4d",
        "colab": {
          "base_uri": "https://localhost:8080/"
        }
      },
      "execution_count": 41,
      "outputs": [
        {
          "output_type": "stream",
          "name": "stdout",
          "text": [
            "    value stratum\n",
            "19     19       A\n",
            "16     16       A\n",
            "15     15       A\n",
            "26     26       A\n",
            "65     65       B\n",
            "55     55       B\n",
            "44     44       B\n",
            "99     99       C\n",
            "89     89       C\n",
            "72     72       C\n"
          ]
        }
      ]
    },
    {
      "cell_type": "code",
      "source": [
        "from sklearn.model_selection import train_test_split\n",
        "X, y = df[['value']], df['stratum']\n",
        "X_train, X_test, y_train, y_test = train_test_split(X, y, test_size=0.2, stratify=y, random_state=42)\n",
        "\n",
        "print(X_train)\n",
        "print(y_train)\n",
        "print(X_test)\n",
        "print(y_test)"
      ],
      "metadata": {
        "id": "aR5w3YRwmQNJ",
        "outputId": "2a314c59-4e9a-40f2-9ce4-507e590a41fa",
        "colab": {
          "base_uri": "https://localhost:8080/"
        }
      },
      "execution_count": 42,
      "outputs": [
        {
          "output_type": "stream",
          "name": "stdout",
          "text": [
            "    value\n",
            "33     33\n",
            "61     61\n",
            "51     51\n",
            "83     83\n",
            "54     54\n",
            "..    ...\n",
            "4       4\n",
            "65     65\n",
            "85     85\n",
            "44     44\n",
            "27     27\n",
            "\n",
            "[80 rows x 1 columns]\n",
            "33    A\n",
            "61    B\n",
            "51    B\n",
            "83    C\n",
            "54    B\n",
            "     ..\n",
            "4     A\n",
            "65    B\n",
            "85    C\n",
            "44    B\n",
            "27    A\n",
            "Name: stratum, Length: 80, dtype: object\n",
            "    value\n",
            "46     46\n",
            "79     79\n",
            "43     43\n",
            "81     81\n",
            "14     14\n",
            "38     38\n",
            "7       7\n",
            "95     95\n",
            "18     18\n",
            "22     22\n",
            "28     28\n",
            "87     87\n",
            "20     20\n",
            "64     64\n",
            "10     10\n",
            "48     48\n",
            "71     71\n",
            "53     53\n",
            "73     73\n",
            "57     57\n",
            "46    B\n",
            "79    C\n",
            "43    B\n",
            "81    C\n",
            "14    A\n",
            "38    A\n",
            "7     A\n",
            "95    C\n",
            "18    A\n",
            "22    A\n",
            "28    A\n",
            "87    C\n",
            "20    A\n",
            "64    B\n",
            "10    A\n",
            "48    B\n",
            "71    C\n",
            "53    B\n",
            "73    C\n",
            "57    B\n",
            "Name: stratum, dtype: object\n"
          ]
        }
      ]
    },
    {
      "cell_type": "markdown",
      "source": [
        "Systematic Sampling\n",
        "Definition: Select every k-th element from a population after a random starting point, where k = population size / sample size.\n",
        "Use Case: Useful for ordered datasets or when simple random sampling is computationally expensive."
      ],
      "metadata": {
        "id": "On32RSeOmf3x"
      }
    },
    {
      "cell_type": "code",
      "source": [
        "import numpy as np\n",
        "population = np.arange(100)\n",
        "sample_size = 10\n",
        "k = len(population) // sample_size\n",
        "start = np.random.randint(0, k)\n",
        "systematic_sample = population[start::k][:sample_size]\n",
        "\n",
        "print(systematic_sample)"
      ],
      "metadata": {
        "id": "KCUNKVvZmjJC",
        "outputId": "0c548eb4-fad8-4de2-888a-5c71f5566c7b",
        "colab": {
          "base_uri": "https://localhost:8080/"
        }
      },
      "execution_count": 43,
      "outputs": [
        {
          "output_type": "stream",
          "name": "stdout",
          "text": [
            "[ 7 17 27 37 47 57 67 77 87 97]\n"
          ]
        }
      ]
    },
    {
      "cell_type": "code",
      "source": [
        "import pandas as pd\n",
        "df = pd.DataFrame({'data': range(100)})\n",
        "k = len(df) // 10\n",
        "start = np.random.randint(0, k)\n",
        "systematic_sample = df.iloc[start::k].head(10)\n",
        "\n",
        "print(systematic_sample)"
      ],
      "metadata": {
        "id": "bzWhsxCEmkeB",
        "outputId": "514193b3-2cc7-4dfe-b019-bf47b5895416",
        "colab": {
          "base_uri": "https://localhost:8080/"
        }
      },
      "execution_count": 44,
      "outputs": [
        {
          "output_type": "stream",
          "name": "stdout",
          "text": [
            "    data\n",
            "1      1\n",
            "11    11\n",
            "21    21\n",
            "31    31\n",
            "41    41\n",
            "51    51\n",
            "61    61\n",
            "71    71\n",
            "81    81\n",
            "91    91\n"
          ]
        }
      ]
    },
    {
      "cell_type": "markdown",
      "source": [
        "Cluster Sampling\n",
        "Definition: The population is divided into clusters (e.g., geographic regions), and a random subset of clusters is selected, including all elements within chosen clusters.\n",
        "Use Case: Efficient for geographically dispersed data or when sampling entire groups is practical."
      ],
      "metadata": {
        "id": "NxX43duHmx0w"
      }
    },
    {
      "cell_type": "code",
      "source": [
        "import pandas as pd\n",
        "import random\n",
        "df = pd.DataFrame({\n",
        "    'value': range(100),\n",
        "    'cluster': [i // 20 for i in range(100)]  # 5 clusters\n",
        "})\n",
        "clusters = df['cluster'].unique()\n",
        "selected_clusters = random.sample(list(clusters), k=2)  # Select 2 clusters\n",
        "cluster_sample = df[df['cluster'].isin(selected_clusters)]\n",
        "\n",
        "print(clusters)\n",
        "print(selected_clusters)\n",
        "print(cluster_sample)"
      ],
      "metadata": {
        "id": "5pWgs8wgmy_A",
        "outputId": "fb529d40-f11e-4d75-94bb-a84ab50bc14a",
        "colab": {
          "base_uri": "https://localhost:8080/"
        }
      },
      "execution_count": 45,
      "outputs": [
        {
          "output_type": "stream",
          "name": "stdout",
          "text": [
            "[0 1 2 3 4]\n",
            "[np.int64(1), np.int64(0)]\n",
            "    value  cluster\n",
            "0       0        0\n",
            "1       1        0\n",
            "2       2        0\n",
            "3       3        0\n",
            "4       4        0\n",
            "5       5        0\n",
            "6       6        0\n",
            "7       7        0\n",
            "8       8        0\n",
            "9       9        0\n",
            "10     10        0\n",
            "11     11        0\n",
            "12     12        0\n",
            "13     13        0\n",
            "14     14        0\n",
            "15     15        0\n",
            "16     16        0\n",
            "17     17        0\n",
            "18     18        0\n",
            "19     19        0\n",
            "20     20        1\n",
            "21     21        1\n",
            "22     22        1\n",
            "23     23        1\n",
            "24     24        1\n",
            "25     25        1\n",
            "26     26        1\n",
            "27     27        1\n",
            "28     28        1\n",
            "29     29        1\n",
            "30     30        1\n",
            "31     31        1\n",
            "32     32        1\n",
            "33     33        1\n",
            "34     34        1\n",
            "35     35        1\n",
            "36     36        1\n",
            "37     37        1\n",
            "38     38        1\n",
            "39     39        1\n"
          ]
        }
      ]
    },
    {
      "cell_type": "markdown",
      "source": [
        "Bootstrap Sampling\n",
        "Definition: Sampling with replacement to create multiple datasets of the same size as the original, used to estimate variability or build confidence intervals.\n",
        "Use Case: Statistical inference, machine learning (e.g., bagging in random forests)."
      ],
      "metadata": {
        "id": "g4EftZWjnK0S"
      }
    },
    {
      "cell_type": "code",
      "source": [
        "import pandas as pd\n",
        "df = pd.DataFrame({'data': range(100)})\n",
        "bootstrap_sample = df.sample(n=len(df), replace=True, random_state=42)\n",
        "\n",
        "print(bootstrap_sample)"
      ],
      "metadata": {
        "id": "45FyKQxDnOPK",
        "outputId": "8e39bcb4-67a8-4308-87ae-2b8ab50b7bee",
        "colab": {
          "base_uri": "https://localhost:8080/"
        }
      },
      "execution_count": 46,
      "outputs": [
        {
          "output_type": "stream",
          "name": "stdout",
          "text": [
            "    data\n",
            "51    51\n",
            "92    92\n",
            "14    14\n",
            "71    71\n",
            "60    60\n",
            "..   ...\n",
            "84    84\n",
            "79    79\n",
            "81    81\n",
            "52    52\n",
            "23    23\n",
            "\n",
            "[100 rows x 1 columns]\n"
          ]
        }
      ]
    },
    {
      "cell_type": "code",
      "source": [
        "import pandas as pd\n",
        "df = pd.DataFrame({'data': range(100)})\n",
        "bootstrap_sample = df.sample(n=len(df), replace=True, random_state=42)\n",
        "\n",
        "print(bootstrap_sample)"
      ],
      "metadata": {
        "id": "pjJlUdgnnPuS",
        "outputId": "43568d2d-08f1-4e4e-ab8a-2682f3b354db",
        "colab": {
          "base_uri": "https://localhost:8080/"
        }
      },
      "execution_count": 47,
      "outputs": [
        {
          "output_type": "stream",
          "name": "stdout",
          "text": [
            "    data\n",
            "51    51\n",
            "92    92\n",
            "14    14\n",
            "71    71\n",
            "60    60\n",
            "..   ...\n",
            "84    84\n",
            "79    79\n",
            "81    81\n",
            "52    52\n",
            "23    23\n",
            "\n",
            "[100 rows x 1 columns]\n"
          ]
        }
      ]
    },
    {
      "cell_type": "markdown",
      "source": [
        "Weighted Random Sampling\n",
        "Definition: Elements are selected with probabilities proportional to assigned weights, with or without replacement.\n",
        "Use Case: When certain elements are more important (e.g., oversampling rare classes in imbalanced datasets)."
      ],
      "metadata": {
        "id": "d2D0XuCPn2pa"
      }
    },
    {
      "cell_type": "code",
      "source": [
        "import random\n",
        "population = ['A', 'B', 'C']\n",
        "weights = [0.5, 0.3, 0.2]\n",
        "weighted_sample = random.choices(population, weights=weights, k=10)\n",
        "\n",
        "print(weighted_sample)"
      ],
      "metadata": {
        "id": "nT8inhodn3eR",
        "outputId": "ece9eacb-3975-45c4-afb3-6fc7b28160dc",
        "colab": {
          "base_uri": "https://localhost:8080/"
        }
      },
      "execution_count": 48,
      "outputs": [
        {
          "output_type": "stream",
          "name": "stdout",
          "text": [
            "['A', 'A', 'A', 'A', 'A', 'A', 'C', 'A', 'A', 'C']\n"
          ]
        }
      ]
    },
    {
      "cell_type": "code",
      "source": [
        "import numpy as np\n",
        "population = np.array(['A', 'B', 'C'])\n",
        "weights = [0.5, 0.3, 0.2]\n",
        "weighted_sample = np.random.choice(population, size=10, p=weights, replace=True)\n",
        "\n",
        "print(weighted_sample)"
      ],
      "metadata": {
        "id": "T1uEdw02n7XJ",
        "outputId": "eb7d1304-7d4f-4c41-caf0-000a9888a121",
        "colab": {
          "base_uri": "https://localhost:8080/"
        }
      },
      "execution_count": 49,
      "outputs": [
        {
          "output_type": "stream",
          "name": "stdout",
          "text": [
            "['A' 'A' 'B' 'B' 'B' 'A' 'B' 'A' 'C' 'C']\n"
          ]
        }
      ]
    },
    {
      "cell_type": "markdown",
      "source": [
        "**Reservoir Sampling**\n",
        "**Definition:** Selects k items from a stream of unknown size, ensuring each item has an equal probability of being chosen, ideal for streaming data.\n",
        "**Use Case:** Big data or real-time data processing where the full dataset isn’t loaded into memory."
      ],
      "metadata": {
        "id": "PBwxGiD9oMry"
      }
    },
    {
      "cell_type": "code",
      "source": [
        "import random\n",
        "def reservoir_sampling(stream, k):\n",
        "    reservoir = []\n",
        "    for i, item in enumerate(stream):\n",
        "        if i < k:\n",
        "            reservoir.append(item)\n",
        "        else:\n",
        "            if random.random() < k / (i + 1):\n",
        "                reservoir[random.randint(0, k-1)] = item\n",
        "    return reservoir\n",
        "stream = range(100)\n",
        "sample = reservoir_sampling(stream, 10)\n",
        "\n",
        "print(sample)"
      ],
      "metadata": {
        "id": "KJ-g-ezNoVJC",
        "outputId": "ad3dec10-e498-485e-ae2b-67a6181eed0a",
        "colab": {
          "base_uri": "https://localhost:8080/"
        }
      },
      "execution_count": 50,
      "outputs": [
        {
          "output_type": "stream",
          "name": "stdout",
          "text": [
            "[41, 1, 55, 57, 69, 80, 35, 47, 59, 62]\n"
          ]
        }
      ]
    },
    {
      "cell_type": "markdown",
      "source": [
        "**Latin Hypercube Sampling (LHS)**\n",
        "**Definition:** Divides each dimension of the population into equally spaced intervals and samples randomly within each interval, ensuring even coverage in multi-dimensional spaces.\n",
        "**Use Case:** Monte Carlo simulations, uncertainty analysis, and optimization."
      ],
      "metadata": {
        "id": "4WPWl5bSohfj"
      }
    },
    {
      "cell_type": "code",
      "source": [
        "from scipy.stats import qmc\n",
        "sampler = qmc.LatinHypercube(d=2)  # 2 dimensions\n",
        "sample = sampler.random(n=10)  # 10 samples\n",
        "\n",
        "print(sampler)\n",
        "print(sample)"
      ],
      "metadata": {
        "id": "06ILhFS6omaC",
        "outputId": "89b8dbc6-f233-4cda-feb8-2adad21b07f8",
        "colab": {
          "base_uri": "https://localhost:8080/"
        }
      },
      "execution_count": 51,
      "outputs": [
        {
          "output_type": "stream",
          "name": "stdout",
          "text": [
            "<scipy.stats._qmc.LatinHypercube object at 0x7fd7133388d0>\n",
            "[[0.12544427 0.43465123]\n",
            " [0.0952338  0.15973933]\n",
            " [0.67477913 0.3672472 ]\n",
            " [0.35149293 0.99133564]\n",
            " [0.75422381 0.81640597]\n",
            " [0.81667753 0.56127203]\n",
            " [0.5736344  0.24645976]\n",
            " [0.47904414 0.72454301]\n",
            " [0.20342983 0.66004172]\n",
            " [0.93540027 0.0326102 ]]\n"
          ]
        }
      ]
    },
    {
      "cell_type": "code",
      "source": [
        "import pandas as pd\n",
        "import numpy as np\n",
        "import matplotlib.pyplot as plt\n",
        "\n",
        "# Create a sample dataset\n",
        "df = pd.DataFrame({'value': np.random.normal(0, 1, 1000)})  # Normal distribution\n",
        "sample = df.sample(n=100, random_state=42)  # Simple random sample\n",
        "\n",
        "# Visualize\n",
        "plt.hist(df['value'], bins=30, alpha=0.5, label='Population')\n",
        "plt.hist(sample['value'], bins=30, alpha=0.8, label='Sample')\n",
        "plt.legend()\n",
        "plt.show()"
      ],
      "metadata": {
        "id": "YRQOEpaTo5d6",
        "outputId": "f59cf7f5-144e-4607-e309-48f5537b6c94",
        "colab": {
          "base_uri": "https://localhost:8080/",
          "height": 430
        }
      },
      "execution_count": 52,
      "outputs": [
        {
          "output_type": "display_data",
          "data": {
            "text/plain": [
              "<Figure size 640x480 with 1 Axes>"
            ],
            "image/png": "[encoded data removed]"
          },
          "metadata": {}
        }
      ]
    }
  ],
  "metadata": {
    "kernelspec": {
      "display_name": "Python 3",
      "name": "python3"
    },
    "language_info": {
      "name": "python"
    },
    "colab": {
      "provenance": [],
      "include_colab_link": true
    }
  },
  "nbformat": 4,
  "nbformat_minor": 0
}