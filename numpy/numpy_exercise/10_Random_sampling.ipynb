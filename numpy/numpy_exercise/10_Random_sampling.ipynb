{
  "cells": [
    {
      "cell_type": "markdown",
      "metadata": {
        "id": "view-in-github",
        "colab_type": "text"
      },
      "source": [
        "<a href=\"https://colab.research.google.com/github/ajit-ai/Python/blob/main/numpy/numpy_exercise/10_Random_sampling.ipynb\" target=\"_parent\"><img src=\"https://colab.research.google.com/assets/colab-badge.svg\" alt=\"Open In Colab\"/></a>"
      ]
    },
    {
      "cell_type": "markdown",
      "metadata": {
        "id": "M1Qli-tCidpl"
      },
      "source": [
        "# Random Sampling"
      ]
    },
    {
      "cell_type": "code",
      "execution_count": 1,
      "metadata": {
        "collapsed": true,
        "id": "vpRKQWMHidpo"
      },
      "outputs": [],
      "source": [
        "import numpy as np"
      ]
    },
    {
      "cell_type": "code",
      "execution_count": 2,
      "metadata": {
        "id": "X7XFFqKGidpq",
        "outputId": "3e828859-8987-481d-f21c-c1af097a9f38",
        "colab": {
          "base_uri": "https://localhost:8080/",
          "height": 35
        }
      },
      "outputs": [
        {
          "output_type": "execute_result",
          "data": {
            "text/plain": [
              "'2.0.2'"
            ],
            "application/vnd.google.colaboratory.intrinsic+json": {
              "type": "string"
            }
          },
          "metadata": {},
          "execution_count": 2
        }
      ],
      "source": [
        "np.__version__"
      ]
    },
    {
      "cell_type": "code",
      "execution_count": null,
      "metadata": {
        "id": "EkX4NunSidpr"
      },
      "outputs": [],
      "source": [
        "__author__ = 'kyubyong. longinglove@nate.com'"
      ]
    },
    {
      "cell_type": "markdown",
      "metadata": {
        "id": "bK7hQrKeidpr"
      },
      "source": [
        "## Simple random data"
      ]
    },
    {
      "cell_type": "markdown",
      "metadata": {
        "id": "IcKggV3Gidps"
      },
      "source": [
        "Q1. Create an array of shape (3, 2) and populate it with random samples from a uniform distribution over [0, 1)."
      ]
    },
    {
      "cell_type": "code",
      "execution_count": 3,
      "metadata": {
        "id": "gnQih0h7idps",
        "outputId": "f77e8244-c0d1-46e3-87bd-f6dbe6105178",
        "colab": {
          "base_uri": "https://localhost:8080/"
        }
      },
      "outputs": [
        {
          "output_type": "execute_result",
          "data": {
            "text/plain": [
              "array([[0.15981355, 0.11007443],\n",
              "       [0.1753865 , 0.65179834],\n",
              "       [0.385789  , 0.59210432]])"
            ]
          },
          "metadata": {},
          "execution_count": 3
        }
      ],
      "source": [
        "# prompt: Create an array of shape (3, 2) and populate it with random samples from a uniform distribution over [0, 1).\n",
        "\n",
        "np.random.rand(3, 2)"
      ]
    },
    {
      "cell_type": "markdown",
      "metadata": {
        "id": "pbwUnAENidpt"
      },
      "source": [
        "Q2. Create an array of shape (1000, 1000) and populate it with random samples from a standard normal distribution. And verify that the mean and standard deviation is close enough to 0 and 1 repectively."
      ]
    },
    {
      "cell_type": "code",
      "execution_count": 5,
      "metadata": {
        "id": "hl8Xv2Y6idpt",
        "outputId": "14f0abd7-96f7-4fab-86fc-6ee21f1258ee",
        "colab": {
          "base_uri": "https://localhost:8080/"
        }
      },
      "outputs": [
        {
          "output_type": "stream",
          "name": "stdout",
          "text": [
            "mean:  -0.000942535937984372\n",
            "std:  0.9993654487958947\n"
          ]
        }
      ],
      "source": [
        "# prompt: Create an array of shape (1000, 1000) and populate it with random samples from a standard normal distribution. And verify that the mean and standard deviation is close enough to 0 and 1 repectively\n",
        "\n",
        "arr = np.random.randn(1000, 1000)\n",
        "print('mean: ', arr.mean())\n",
        "print('std: ', arr.std())"
      ]
    },
    {
      "cell_type": "markdown",
      "metadata": {
        "id": "xLAVK7seidpt"
      },
      "source": [
        "\n",
        "\n",
        "```\n",
        "# This is formatted as code\n",
        "```\n",
        "\n",
        "Q3. Create an array of shape (3, 2) and populate it with random integers ranging from 0 to 3 (inclusive) from a discrete uniform distribution."
      ]
    },
    {
      "cell_type": "code",
      "execution_count": 6,
      "metadata": {
        "id": "NrUxE2Syidpu",
        "outputId": "c1d26dc9-1d35-4814-a458-cfc765640c63",
        "colab": {
          "base_uri": "https://localhost:8080/"
        }
      },
      "outputs": [
        {
          "output_type": "execute_result",
          "data": {
            "text/plain": [
              "array([[0, 0],\n",
              "       [3, 0],\n",
              "       [1, 2]])"
            ]
          },
          "metadata": {},
          "execution_count": 6
        }
      ],
      "source": [
        "# prompt: Create an array of shape (3, 2) and populate it with random integers ranging from 0 to 3 (inclusive) from a discrete uniform distribution.\n",
        "\n",
        "np.random.randint(0, 4, size=(3, 2))\n"
      ]
    },
    {
      "cell_type": "markdown",
      "metadata": {
        "id": "83E0Hzr1idpu"
      },
      "source": [
        "Q4. Extract 1 elements from x randomly such that each of them would be associated with probabilities .3, .5, .2. Then print the result 10 times."
      ]
    },
    {
      "cell_type": "code",
      "execution_count": 7,
      "metadata": {
        "id": "OVeWQyvXidpu"
      },
      "outputs": [],
      "source": [
        "x = [b'3 out of 10', b'5 out of 10', b'2 out of 10']\n"
      ]
    },
    {
      "cell_type": "markdown",
      "metadata": {
        "id": "cjJRbaOoidpv"
      },
      "source": [
        "Q5. Extract 3 different integers from 0 to 9 randomly with the same probabilities."
      ]
    },
    {
      "cell_type": "code",
      "execution_count": 8,
      "metadata": {
        "id": "jXm3zisEidpv",
        "outputId": "35b56674-8419-45d3-89e0-85ce96c1680f",
        "colab": {
          "base_uri": "https://localhost:8080/"
        }
      },
      "outputs": [
        {
          "output_type": "execute_result",
          "data": {
            "text/plain": [
              "array([1, 2, 4])"
            ]
          },
          "metadata": {},
          "execution_count": 8
        }
      ],
      "source": [
        "# prompt: Extract 3 different integers from 0 to 9 randomly with the same probabilities.\n",
        "\n",
        "np.random.choice(10, size=3, replace=False)"
      ]
    },
    {
      "cell_type": "markdown",
      "metadata": {
        "id": "kIF3cjLridpw"
      },
      "source": [
        "## Permutations"
      ]
    },
    {
      "cell_type": "markdown",
      "metadata": {
        "id": "Dbcu3j9sidpw"
      },
      "source": [
        "Q6. Shuffle numbers between 0 and 9 (inclusive)."
      ]
    },
    {
      "cell_type": "code",
      "execution_count": 9,
      "metadata": {
        "id": "ose462ANidpw"
      },
      "outputs": [],
      "source": [
        "# prompt: Shuffle numbers between 0 and 9 (inclusive).\n",
        "\n",
        "np.random.shuffle(np.arange(10))"
      ]
    },
    {
      "cell_type": "code",
      "execution_count": null,
      "metadata": {
        "id": "cKsn3Pl1idpx",
        "outputId": "b3771210-f9a1-4d9e-a886-7fa1d66f3592"
      },
      "outputs": [
        {
          "name": "stdout",
          "output_type": "stream",
          "text": [
            "[5 2 7 4 1 0 6 8 9 3]\n"
          ]
        }
      ],
      "source": [
        "# Or\n"
      ]
    },
    {
      "cell_type": "markdown",
      "metadata": {
        "id": "WqHurAKMidpx"
      },
      "source": [
        "## Random generator"
      ]
    },
    {
      "cell_type": "markdown",
      "metadata": {
        "id": "OkY7J10qidpx"
      },
      "source": [
        "Q7. Assign number 10 to the seed of the random generator so that you can get the same value next time."
      ]
    },
    {
      "cell_type": "code",
      "execution_count": 10,
      "metadata": {
        "collapsed": true,
        "id": "gbqEmSMaidpx"
      },
      "outputs": [],
      "source": [
        "# prompt:  Assign number 10 to the seed of the random generator so that you can get the same value next time.\n",
        "\n",
        "np.random.seed(10)"
      ]
    },
    {
      "cell_type": "code",
      "source": [],
      "metadata": {
        "id": "rwTVjssYkHWx"
      },
      "execution_count": null,
      "outputs": []
    }
  ],
  "metadata": {
    "kernelspec": {
      "display_name": "Python 2",
      "language": "python",
      "name": "python2"
    },
    "language_info": {
      "codemirror_mode": {
        "name": "ipython",
        "version": 2
      },
      "file_extension": ".py",
      "mimetype": "text/x-python",
      "name": "python",
      "nbconvert_exporter": "python",
      "pygments_lexer": "ipython2",
      "version": "2.7.10"
    },
    "colab": {
      "provenance": [],
      "include_colab_link": true
    }
  },
  "nbformat": 4,
  "nbformat_minor": 0
}