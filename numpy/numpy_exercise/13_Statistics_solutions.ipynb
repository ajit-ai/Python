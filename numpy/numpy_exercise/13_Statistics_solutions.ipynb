{
  "cells": [
    {
      "cell_type": "markdown",
      "metadata": {
        "id": "view-in-github",
        "colab_type": "text"
      },
      "source": [
        "<a href=\"https://colab.research.google.com/github/ajit-ai/Python/blob/main/numpy/numpy_exercise/13_Statistics_solutions.ipynb\" target=\"_parent\"><img src=\"https://colab.research.google.com/assets/colab-badge.svg\" alt=\"Open In Colab\"/></a>"
      ]
    },
    {
      "cell_type": "markdown",
      "metadata": {
        "id": "OPVRLJc4SCtA"
      },
      "source": [
        "# Statistics"
      ]
    },
    {
      "cell_type": "code",
      "execution_count": 18,
      "metadata": {
        "collapsed": true,
        "id": "vWEajrTESCtE"
      },
      "outputs": [],
      "source": [
        "__author__ = \"ajitjava2@gmail.com\""
      ]
    },
    {
      "cell_type": "code",
      "execution_count": 19,
      "metadata": {
        "collapsed": true,
        "id": "q0UjIVwBSCtG"
      },
      "outputs": [],
      "source": [
        "import numpy as np"
      ]
    },
    {
      "cell_type": "code",
      "execution_count": 20,
      "metadata": {
        "id": "hTa8ocHCSCtI",
        "outputId": "3405a421-8d58-4523-d6cb-0aa68742b8df",
        "colab": {
          "base_uri": "https://localhost:8080/",
          "height": 35
        }
      },
      "outputs": [
        {
          "output_type": "execute_result",
          "data": {
            "text/plain": [
              "'2.0.2'"
            ],
            "application/vnd.google.colaboratory.intrinsic+json": {
              "type": "string"
            }
          },
          "metadata": {},
          "execution_count": 20
        }
      ],
      "source": [
        "np.__version__"
      ]
    },
    {
      "cell_type": "markdown",
      "metadata": {
        "id": "Nz9XeUIqSCtJ"
      },
      "source": [
        "## Order statistics"
      ]
    },
    {
      "cell_type": "markdown",
      "metadata": {
        "id": "PQ7uxz1JSCtK"
      },
      "source": [
        "Q1. Return the minimum value of x along the second axis."
      ]
    },
    {
      "cell_type": "code",
      "execution_count": 21,
      "metadata": {
        "id": "IzMgf_P6SCtM",
        "outputId": "ff2a1aad-3541-4690-bc94-56a2663a22d2",
        "colab": {
          "base_uri": "https://localhost:8080/"
        }
      },
      "outputs": [
        {
          "output_type": "stream",
          "name": "stdout",
          "text": [
            "x=\n",
            " [[0 1]\n",
            " [2 3]]\n",
            "ans=\n",
            " [0 2]\n"
          ]
        }
      ],
      "source": [
        "x = np.arange(4).reshape((2, 2))\n",
        "print(\"x=\\n\", x)\n",
        "print(\"ans=\\n\", np.amin(x, 1))"
      ]
    },
    {
      "cell_type": "markdown",
      "metadata": {
        "id": "hUiiEWKvSCtO"
      },
      "source": [
        "Q2. Return the maximum value of x along the second axis. Reduce the second axis to the dimension with size one."
      ]
    },
    {
      "cell_type": "code",
      "execution_count": 22,
      "metadata": {
        "id": "9awcS4iwSCtQ",
        "outputId": "7be2c58e-a45b-4e7a-a1c8-82645942061d",
        "colab": {
          "base_uri": "https://localhost:8080/"
        }
      },
      "outputs": [
        {
          "output_type": "stream",
          "name": "stdout",
          "text": [
            "x=\n",
            " [[0 1]\n",
            " [2 3]]\n",
            "ans=\n",
            " [[1]\n",
            " [3]]\n"
          ]
        }
      ],
      "source": [
        "x = np.arange(4).reshape((2, 2))\n",
        "print(\"x=\\n\", x)\n",
        "print(\"ans=\\n\", np.amax(x, 1, keepdims=True))"
      ]
    },
    {
      "cell_type": "markdown",
      "metadata": {
        "id": "2iuvNQLUSCtS"
      },
      "source": [
        "Q3. Calcuate the difference between the maximum and the minimum of x along the second axis."
      ]
    },
    {
      "cell_type": "code",
      "execution_count": 23,
      "metadata": {
        "id": "PLVKUhTKSCtT",
        "outputId": "26484155-23c7-40cc-aae0-b1a49b687d5a",
        "colab": {
          "base_uri": "https://localhost:8080/"
        }
      },
      "outputs": [
        {
          "output_type": "stream",
          "name": "stdout",
          "text": [
            "x=\n",
            " [[0 1 2 3 4]\n",
            " [5 6 7 8 9]]\n",
            "ans=\n",
            " [4 4]\n"
          ]
        }
      ],
      "source": [
        "x = np.arange(10).reshape((2, 5))\n",
        "print(\"x=\\n\", x)\n",
        "\n",
        "out1 = np.ptp(x, 1)\n",
        "out2 = np.amax(x, 1) - np.amin(x, 1)\n",
        "assert np.allclose(out1, out2)\n",
        "print(\"ans=\\n\", out1)\n"
      ]
    },
    {
      "cell_type": "markdown",
      "metadata": {
        "id": "oQsBVuiJSCtU"
      },
      "source": [
        "Q4. Compute the 75th percentile of x along the second axis."
      ]
    },
    {
      "cell_type": "code",
      "execution_count": 24,
      "metadata": {
        "id": "GO1OikegSCtV",
        "outputId": "b919478e-e9ff-444f-ed5b-13c04def49b8",
        "colab": {
          "base_uri": "https://localhost:8080/"
        }
      },
      "outputs": [
        {
          "output_type": "stream",
          "name": "stdout",
          "text": [
            "x=\n",
            " [[ 1  2  3  4  5]\n",
            " [ 6  7  8  9 10]]\n",
            "ans=\n",
            " [4. 9.]\n"
          ]
        }
      ],
      "source": [
        "x = np.arange(1, 11).reshape((2, 5))\n",
        "print(\"x=\\n\", x)\n",
        "\n",
        "print(\"ans=\\n\", np.percentile(x, 75, 1))"
      ]
    },
    {
      "cell_type": "markdown",
      "metadata": {
        "id": "-8N6idcwSCtV"
      },
      "source": [
        "## Averages and variances"
      ]
    },
    {
      "cell_type": "markdown",
      "metadata": {
        "id": "hN33lgfmSCtW"
      },
      "source": [
        "Q5. Compute the median of flattened x."
      ]
    },
    {
      "cell_type": "code",
      "execution_count": 25,
      "metadata": {
        "id": "_85UX7zJSCtX",
        "outputId": "d3155d00-34a7-4e1d-8501-666da52b17f0",
        "colab": {
          "base_uri": "https://localhost:8080/"
        }
      },
      "outputs": [
        {
          "output_type": "stream",
          "name": "stdout",
          "text": [
            "x=\n",
            " [[1 2 3]\n",
            " [4 5 6]\n",
            " [7 8 9]]\n",
            "ans=\n",
            " 5.0\n"
          ]
        }
      ],
      "source": [
        "x = np.arange(1, 10).reshape((3, 3))\n",
        "print(\"x=\\n\", x)\n",
        "\n",
        "print(\"ans=\\n\", np.median(x))"
      ]
    },
    {
      "cell_type": "markdown",
      "metadata": {
        "id": "SINEhLlsSCtX"
      },
      "source": [
        "Q6. Compute the weighted average of x."
      ]
    },
    {
      "cell_type": "code",
      "execution_count": 26,
      "metadata": {
        "id": "lKYhPEHdSCtY",
        "outputId": "88c6ad7a-7771-4bea-881d-938aa7f6b1ea",
        "colab": {
          "base_uri": "https://localhost:8080/"
        }
      },
      "outputs": [
        {
          "output_type": "stream",
          "name": "stdout",
          "text": [
            "2.6666666666666665\n"
          ]
        }
      ],
      "source": [
        "x = np.arange(5)\n",
        "weights = np.arange(1, 6)\n",
        "\n",
        "out1 = np.average(x, weights=weights)\n",
        "out2 = (x*(weights/weights.sum())).sum()\n",
        "assert np.allclose(out1, out2)\n",
        "print(out1)"
      ]
    },
    {
      "cell_type": "markdown",
      "metadata": {
        "id": "ln7AOJB7SCtY"
      },
      "source": [
        "Q7. Compute the mean, standard deviation, and variance of x along the second axis."
      ]
    },
    {
      "cell_type": "code",
      "execution_count": 27,
      "metadata": {
        "id": "AzdUiJ_bSCtY",
        "outputId": "62368f96-82e4-4d83-86d8-3bc5383f2647",
        "colab": {
          "base_uri": "https://localhost:8080/"
        }
      },
      "outputs": [
        {
          "output_type": "stream",
          "name": "stdout",
          "text": [
            "x=\n",
            " [0 1 2 3 4]\n",
            "mean=\n",
            " 2.0\n",
            "std=\n",
            " 1.4142135623730951\n",
            "variance=\n",
            " 2.0\n"
          ]
        }
      ],
      "source": [
        "x = np.arange(5)\n",
        "print(\"x=\\n\",x)\n",
        "\n",
        "out1 = np.mean(x)\n",
        "out2 = np.average(x)\n",
        "assert np.allclose(out1, out2)\n",
        "print(\"mean=\\n\", out1)\n",
        "\n",
        "out3 = np.std(x)\n",
        "out4 = np.sqrt(np.mean((x - np.mean(x)) ** 2 ))\n",
        "assert np.allclose(out3, out4)\n",
        "print(\"std=\\n\", out3)\n",
        "\n",
        "out5 = np.var(x)\n",
        "out6 = np.mean((x - np.mean(x)) ** 2 )\n",
        "assert np.allclose(out5, out6)\n",
        "print(\"variance=\\n\", out5)\n"
      ]
    },
    {
      "cell_type": "markdown",
      "metadata": {
        "id": "wOH8O5XgSCtZ"
      },
      "source": [
        "## Correlating"
      ]
    },
    {
      "cell_type": "markdown",
      "metadata": {
        "id": "dFc0-Ay0SCtZ"
      },
      "source": [
        "Q8. Compute the covariance matrix of x and y."
      ]
    },
    {
      "cell_type": "code",
      "execution_count": 28,
      "metadata": {
        "id": "Hsx9e8ZoSCta",
        "outputId": "f1d23836-c8da-4f02-f169-b2717365453a",
        "colab": {
          "base_uri": "https://localhost:8080/"
        }
      },
      "outputs": [
        {
          "output_type": "stream",
          "name": "stdout",
          "text": [
            "ans=\n",
            " [[ 1. -1.]\n",
            " [-1.  1.]]\n"
          ]
        }
      ],
      "source": [
        "x = np.array([0, 1, 2])\n",
        "y = np.array([2, 1, 0])\n",
        "\n",
        "print(\"ans=\\n\", np.cov(x, y))"
      ]
    },
    {
      "cell_type": "markdown",
      "metadata": {
        "id": "U_koBAWHSCta"
      },
      "source": [
        "Q9. In the above covariance matrix, what does the -1 mean?"
      ]
    },
    {
      "cell_type": "markdown",
      "metadata": {
        "id": "rSkSlmdMSCta"
      },
      "source": [
        "It means `x` and `y` correlate perfectly in opposite directions."
      ]
    },
    {
      "cell_type": "markdown",
      "metadata": {
        "id": "Fse4OxVwSCtb"
      },
      "source": [
        "Q10. Compute Pearson product-moment correlation coefficients of x and y."
      ]
    },
    {
      "cell_type": "code",
      "execution_count": 29,
      "metadata": {
        "id": "6qK2b8pJSCtb",
        "outputId": "d6b56b0d-220d-4ed9-de6d-6949bd193008",
        "colab": {
          "base_uri": "https://localhost:8080/"
        }
      },
      "outputs": [
        {
          "output_type": "stream",
          "name": "stdout",
          "text": [
            "ans=\n",
            " [[1.         0.92857143]\n",
            " [0.92857143 1.        ]]\n"
          ]
        }
      ],
      "source": [
        "x = np.array([0, 1, 3])\n",
        "y = np.array([2, 4, 5])\n",
        "\n",
        "print(\"ans=\\n\", np.corrcoef(x, y))"
      ]
    },
    {
      "cell_type": "markdown",
      "metadata": {
        "id": "FBXECld1SCtb"
      },
      "source": [
        "Q11. Compute cross-correlation of x and y."
      ]
    },
    {
      "cell_type": "code",
      "execution_count": 30,
      "metadata": {
        "id": "4P8Q7N_1SCtb",
        "outputId": "48c5301d-2887-46f1-a2af-7f214eb5ad47",
        "colab": {
          "base_uri": "https://localhost:8080/"
        }
      },
      "outputs": [
        {
          "output_type": "stream",
          "name": "stdout",
          "text": [
            "ans=\n",
            " [19]\n"
          ]
        }
      ],
      "source": [
        "x = np.array([0, 1, 3])\n",
        "y = np.array([2, 4, 5])\n",
        "\n",
        "print(\"ans=\\n\", np.correlate(x, y))"
      ]
    },
    {
      "cell_type": "markdown",
      "metadata": {
        "id": "GIoynw6MSCtc"
      },
      "source": [
        "## Histograms"
      ]
    },
    {
      "cell_type": "markdown",
      "metadata": {
        "id": "d7dSHhwJSCtc"
      },
      "source": [
        "Q12. Compute the histogram of x against the bins."
      ]
    },
    {
      "cell_type": "code",
      "execution_count": 31,
      "metadata": {
        "id": "uIU4RLVrSCtd",
        "outputId": "e9dd6981-507a-4bff-8c4b-dd92a8c9a276",
        "colab": {
          "base_uri": "https://localhost:8080/",
          "height": 465
        }
      },
      "outputs": [
        {
          "output_type": "stream",
          "name": "stdout",
          "text": [
            "ans=\n",
            " (array([2, 3, 1]), array([0, 1, 2, 3]))\n"
          ]
        },
        {
          "output_type": "display_data",
          "data": {
            "text/plain": [
              "<Figure size 640x480 with 1 Axes>"
            ],
            "image/png": "[encoded data removed]"
          },
          "metadata": {}
        }
      ],
      "source": [
        "x = np.array([0.5, 0.7, 1.0, 1.2, 1.3, 2.1])\n",
        "bins = np.array([0, 1, 2, 3])\n",
        "print(\"ans=\\n\", np.histogram(x, bins))\n",
        "\n",
        "import matplotlib.pyplot as plt\n",
        "%matplotlib inline\n",
        "plt.hist(x, bins=bins)\n",
        "plt.show()"
      ]
    },
    {
      "cell_type": "markdown",
      "metadata": {
        "id": "Rx0_aS1SSCte"
      },
      "source": [
        "Q13. Compute the 2d histogram of x and y."
      ]
    },
    {
      "cell_type": "code",
      "execution_count": 32,
      "metadata": {
        "id": "OJdI9AYWSCtf",
        "outputId": "36a00c54-1f29-4d64-fc9f-e5acb5788b82",
        "colab": {
          "base_uri": "https://localhost:8080/",
          "height": 499
        }
      },
      "outputs": [
        {
          "output_type": "stream",
          "name": "stdout",
          "text": [
            "ans=\n",
            " [[3. 0. 0. 0.]\n",
            " [0. 2. 0. 0.]\n",
            " [0. 0. 1. 1.]]\n"
          ]
        },
        {
          "output_type": "display_data",
          "data": {
            "text/plain": [
              "<Figure size 640x480 with 1 Axes>"
            ],
            "image/png": "[encoded data removed]"
          },
          "metadata": {}
        }
      ],
      "source": [
        "xedges = [0, 1, 2, 3]\n",
        "yedges = [0, 1, 2, 3, 4]\n",
        "x = np.array([0, 0.1, 0.2, 1., 1.1, 2., 2.1])\n",
        "y = np.array([0, 0.1, 0.2, 1., 1.1, 2., 3.3])\n",
        "H, xedges, yedges = np.histogram2d(x, y, bins=(xedges, yedges))\n",
        "print(\"ans=\\n\", H)\n",
        "\n",
        "plt.scatter(x, y)\n",
        "plt.grid()"
      ]
    },
    {
      "cell_type": "markdown",
      "metadata": {
        "id": "RAh0ZxMISCtf"
      },
      "source": [
        "Q14. Count number of occurrences of 0 through 7 in x."
      ]
    },
    {
      "cell_type": "code",
      "execution_count": 33,
      "metadata": {
        "id": "lLiUBiw8SCtf",
        "outputId": "b755f9b0-79a6-4e2c-bb28-17e90f31629d",
        "colab": {
          "base_uri": "https://localhost:8080/"
        }
      },
      "outputs": [
        {
          "output_type": "stream",
          "name": "stdout",
          "text": [
            "ans=\n",
            " [1 3 1 1 0 0 0 1]\n"
          ]
        }
      ],
      "source": [
        "x = np.array([0, 1, 1, 3, 2, 1, 7])\n",
        "print(\"ans=\\n\", np.bincount(x))"
      ]
    },
    {
      "cell_type": "markdown",
      "metadata": {
        "id": "0Qzuqtb-SCtg"
      },
      "source": [
        "Q15. Return the indices of the bins to which each value in x belongs."
      ]
    },
    {
      "cell_type": "code",
      "execution_count": 34,
      "metadata": {
        "id": "3yl4mv6BSCtg",
        "outputId": "071e9db1-38d8-414f-8bdc-c1110e10586b",
        "colab": {
          "base_uri": "https://localhost:8080/"
        }
      },
      "outputs": [
        {
          "output_type": "stream",
          "name": "stdout",
          "text": [
            "ans=\n",
            " [1 4 3 2]\n"
          ]
        }
      ],
      "source": [
        "x = np.array([0.2, 6.4, 3.0, 1.6])\n",
        "bins = np.array([0.0, 1.0, 2.5, 4.0, 10.0])\n",
        "\n",
        "print(\"ans=\\n\", np.digitize(x, bins))"
      ]
    },
    {
      "cell_type": "code",
      "execution_count": 34,
      "metadata": {
        "collapsed": true,
        "id": "jYYJzTi7SCtg"
      },
      "outputs": [],
      "source": []
    }
  ],
  "metadata": {
    "anaconda-cloud": {},
    "kernelspec": {
      "display_name": "Python [conda root]",
      "language": "python",
      "name": "conda-root-py"
    },
    "language_info": {
      "codemirror_mode": {
        "name": "ipython",
        "version": 3
      },
      "file_extension": ".py",
      "mimetype": "text/x-python",
      "name": "python",
      "nbconvert_exporter": "python",
      "pygments_lexer": "ipython3",
      "version": "3.5.2"
    },
    "colab": {
      "provenance": [],
      "include_colab_link": true
    }
  },
  "nbformat": 4,
  "nbformat_minor": 0
}