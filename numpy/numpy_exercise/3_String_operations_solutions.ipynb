{
  "cells": [
    {
      "cell_type": "markdown",
      "metadata": {
        "id": "view-in-github",
        "colab_type": "text"
      },
      "source": [
        "<a href=\"https://colab.research.google.com/github/ajit-ai/Python/blob/main/numpy/numpy_exercise/3_String_operations_solutions.ipynb\" target=\"_parent\"><img src=\"https://colab.research.google.com/assets/colab-badge.svg\" alt=\"Open In Colab\"/></a>"
      ]
    },
    {
      "cell_type": "markdown",
      "metadata": {
        "id": "N62vSP4B2dHs"
      },
      "source": [
        "## String operations"
      ]
    },
    {
      "cell_type": "code",
      "execution_count": 7,
      "metadata": {
        "collapsed": true,
        "id": "RPgCjeO82dHt"
      },
      "outputs": [],
      "source": [
        "from __future__ import print_function\n",
        "import numpy as np"
      ]
    },
    {
      "cell_type": "code",
      "execution_count": 8,
      "metadata": {
        "collapsed": true,
        "id": "bXGEe57r2dHt"
      },
      "outputs": [],
      "source": [
        "author = \"kyubyong. https://github.com/Kyubyong/numpy_exercises\""
      ]
    },
    {
      "cell_type": "code",
      "execution_count": 9,
      "metadata": {
        "colab": {
          "base_uri": "https://localhost:8080/",
          "height": 35
        },
        "id": "7zRbRgsq2dHu",
        "outputId": "046a4e39-ef9e-4e10-d805-222ec74da0ca"
      },
      "outputs": [
        {
          "output_type": "execute_result",
          "data": {
            "text/plain": [
              "'2.0.2'"
            ],
            "application/vnd.google.colaboratory.intrinsic+json": {
              "type": "string"
            }
          },
          "metadata": {},
          "execution_count": 9
        }
      ],
      "source": [
        "np.__version__"
      ]
    },
    {
      "cell_type": "markdown",
      "metadata": {
        "id": "4xRSyXQT2dHu"
      },
      "source": [
        "Q1. Concatenate x1 and x2."
      ]
    },
    {
      "cell_type": "code",
      "execution_count": 10,
      "metadata": {
        "colab": {
          "base_uri": "https://localhost:8080/"
        },
        "id": "tK6ysN_k2dHu",
        "outputId": "82262d34-dd9a-478f-80d9-954eca8c6283"
      },
      "outputs": [
        {
          "output_type": "stream",
          "name": "stdout",
          "text": [
            "['Hello world' 'Say something']\n"
          ]
        }
      ],
      "source": [
        "x1 = np.array(['Hello', 'Say'], dtype=str)\n",
        "x2 = np.array([' world', ' something'], dtype=str)\n",
        "out = np.char.add(x1, x2)\n",
        "print(out)"
      ]
    },
    {
      "cell_type": "markdown",
      "metadata": {
        "id": "Yfcz-VXq2dHv"
      },
      "source": [
        "Q2. Repeat x three time element-wise."
      ]
    },
    {
      "cell_type": "code",
      "execution_count": 14,
      "metadata": {
        "colab": {
          "base_uri": "https://localhost:8080/"
        },
        "id": "2Sccns2i2dHv",
        "outputId": "f8d2fdd9-abd7-4a3b-85af-4aaee83f45bc"
      },
      "outputs": [
        {
          "output_type": "stream",
          "name": "stdout",
          "text": [
            "['Hello Hello Hello ' 'Say Say Say ']\n"
          ]
        }
      ],
      "source": [
        "x = np.array(['Hello ', 'Say '], dtype=str)\n",
        "out = np.char.multiply(x, 3)\n",
        "print(out)"
      ]
    },
    {
      "cell_type": "markdown",
      "metadata": {
        "id": "eYUWBi5T2dHv"
      },
      "source": [
        "Q3-1. Capitalize the first letter of x element-wise.<br/>\n",
        "Q3-2. Lowercase x element-wise.<br/>\n",
        "Q3-3. Uppercase x element-wise.<br/>\n",
        "Q3-4. Swapcase x element-wise.<br/>\n",
        "Q3-5. Title-case x element-wise.<br/>"
      ]
    },
    {
      "cell_type": "code",
      "execution_count": 16,
      "metadata": {
        "colab": {
          "base_uri": "https://localhost:8080/"
        },
        "id": "GdFLKPsv2dHv",
        "outputId": "31ac71d0-cd4b-43fe-d83f-cea2eadaf813"
      },
      "outputs": [
        {
          "output_type": "stream",
          "name": "stdout",
          "text": [
            "capitalized = ['Hello world' 'Say something']\n",
            "lowered = ['hello world' 'say something']\n",
            "uppered = ['HELLO WORLD' 'SAY SOMETHING']\n",
            "swapcased = ['HEllO WOrlD' 'sAY SoMETHING']\n",
            "titlecased = ['Hello World' 'Say Something']\n"
          ]
        }
      ],
      "source": [
        "x = np.array(['heLLo woRLd', 'Say sOmething'], dtype=str)\n",
        "capitalized = np.char.capitalize(x)\n",
        "lowered = np.char.lower(x)\n",
        "uppered = np.char.upper(x)\n",
        "swapcased = np.char.swapcase(x)\n",
        "titlecased = np.char.title(x)\n",
        "print(\"capitalized =\", capitalized)\n",
        "print(\"lowered =\", lowered)\n",
        "print(\"uppered =\", uppered)\n",
        "print(\"swapcased =\", swapcased)\n",
        "print(\"titlecased =\", titlecased)"
      ]
    },
    {
      "cell_type": "markdown",
      "metadata": {
        "id": "xljkhAtY2dHw"
      },
      "source": [
        "Q4. Make the length of each element 20 and the string centered / left-justified / right-justified with paddings of `_`."
      ]
    },
    {
      "cell_type": "code",
      "execution_count": 18,
      "metadata": {
        "colab": {
          "base_uri": "https://localhost:8080/"
        },
        "id": "LODVBJK12dHw",
        "outputId": "8de4bc77-1378-4c63-ad34-aac9377a2f3f"
      },
      "outputs": [
        {
          "output_type": "stream",
          "name": "stdout",
          "text": [
            "centered = ['____hello world_____' '___say something____']\n",
            "left = ['hello world_________' 'say something_______']\n",
            "right = ['_________hello world' '_______say something']\n"
          ]
        }
      ],
      "source": [
        "x = np.array(['hello world', 'say something'], dtype=str)\n",
        "centered = np.char.center(x, 20, fillchar='_')\n",
        "left = np.char.ljust(x, 20, fillchar='_')\n",
        "right = np.char.rjust(x, 20, fillchar='_')\n",
        "\n",
        "print(\"centered =\", centered)\n",
        "print(\"left =\", left)\n",
        "print(\"right =\", right)"
      ]
    },
    {
      "cell_type": "markdown",
      "metadata": {
        "id": "-h3ooaJt2dHw"
      },
      "source": [
        "Q5. Encode x in cp500 and decode it again."
      ]
    },
    {
      "cell_type": "code",
      "execution_count": 20,
      "metadata": {
        "colab": {
          "base_uri": "https://localhost:8080/"
        },
        "id": "kSxiNJsE2dHw",
        "outputId": "da1e25fe-b932-4dc1-f8aa-4596361e2f6f"
      },
      "outputs": [
        {
          "output_type": "stream",
          "name": "stdout",
          "text": [
            "encoded = [b'\\x88\\x85\\x93\\x93\\x96@\\xa6\\x96\\x99\\x93\\x84'\n",
            " b'\\xa2\\x81\\xa8@\\xa2\\x96\\x94\\x85\\xa3\\x88\\x89\\x95\\x87']\n",
            "decoded = ['hello world' 'say something']\n"
          ]
        }
      ],
      "source": [
        "x = np.array(['hello world', 'say something'], dtype=str)\n",
        "encoded = np.char.encode(x, 'cp500')\n",
        "decoded = np.char.decode(encoded,'cp500')\n",
        "print(\"encoded =\", encoded)\n",
        "print(\"decoded =\", decoded)"
      ]
    },
    {
      "cell_type": "markdown",
      "metadata": {
        "id": "0eWbUv__2dHx"
      },
      "source": [
        "Q6. Insert a space between characters of x."
      ]
    },
    {
      "cell_type": "code",
      "execution_count": 22,
      "metadata": {
        "colab": {
          "base_uri": "https://localhost:8080/"
        },
        "id": "W0ajB4_H2dHx",
        "outputId": "e744acae-c612-4550-8096-59cb35cdf9e1"
      },
      "outputs": [
        {
          "output_type": "stream",
          "name": "stdout",
          "text": [
            "['h e l l o   w o r l d' 's a y   s o m e t h i n g']\n"
          ]
        }
      ],
      "source": [
        "x = np.array(['hello world', 'say something'], dtype=str)\n",
        "out = np.char.join(\" \", x)\n",
        "print(out)"
      ]
    },
    {
      "cell_type": "markdown",
      "metadata": {
        "id": "D3Cqa6hO2dHx"
      },
      "source": [
        "Q7-1. Remove the leading and trailing whitespaces of x element-wise.<br/>\n",
        "Q7-2. Remove the leading whitespaces of x element-wise.<br/>\n",
        "Q7-3. Remove the trailing whitespaces of x element-wise."
      ]
    },
    {
      "cell_type": "code",
      "execution_count": 24,
      "metadata": {
        "colab": {
          "base_uri": "https://localhost:8080/"
        },
        "id": "XpoOSzey2dHx",
        "outputId": "d84902fb-6fe6-4f45-b4c1-2d7b48deba90"
      },
      "outputs": [
        {
          "output_type": "stream",
          "name": "stdout",
          "text": [
            "stripped = ['hello world' 'say something']\n",
            "lstripped = ['hello world   ' 'say something\\n']\n",
            "rstripped = ['   hello world' '\\tsay something']\n"
          ]
        }
      ],
      "source": [
        "x = np.array(['   hello world   ', '\\tsay something\\n'], dtype=str)\n",
        "stripped = np.char.strip(x)\n",
        "lstripped = np.char.lstrip(x)\n",
        "rstripped = np.char.rstrip(x)\n",
        "print(\"stripped =\", stripped)\n",
        "print(\"lstripped =\", lstripped)\n",
        "print(\"rstripped =\", rstripped)"
      ]
    },
    {
      "cell_type": "markdown",
      "metadata": {
        "id": "xfRBpVlA2dHx"
      },
      "source": [
        "Q8. Split the element of x with spaces."
      ]
    },
    {
      "cell_type": "code",
      "execution_count": 26,
      "metadata": {
        "colab": {
          "base_uri": "https://localhost:8080/"
        },
        "id": "xjKTBMr52dHx",
        "outputId": "aeb867b8-4600-4ef8-b0bb-2898249ec146"
      },
      "outputs": [
        {
          "output_type": "stream",
          "name": "stdout",
          "text": [
            "[list(['Hello', 'my', 'name', 'is', 'John'])]\n"
          ]
        }
      ],
      "source": [
        "x = np.array(['Hello my name is John'], dtype=str)\n",
        "out = np.char.split(x)\n",
        "print(out)"
      ]
    },
    {
      "cell_type": "markdown",
      "metadata": {
        "id": "70TFSDj22dHy"
      },
      "source": [
        "Q9. Split the element of x to multiple lines."
      ]
    },
    {
      "cell_type": "code",
      "execution_count": 28,
      "metadata": {
        "colab": {
          "base_uri": "https://localhost:8080/"
        },
        "id": "Jd7_gmIf2dHy",
        "outputId": "60799c05-a9ce-4f51-b284-3a1aea56241e"
      },
      "outputs": [
        {
          "output_type": "stream",
          "name": "stdout",
          "text": [
            "[list(['Hello', 'my name is John'])]\n"
          ]
        }
      ],
      "source": [
        "x = np.array(['Hello\\nmy name is John'], dtype=str)\n",
        "out = np.char.splitlines(x)\n",
        "print(out)"
      ]
    },
    {
      "cell_type": "markdown",
      "metadata": {
        "id": "p4QDRwlA2dHy"
      },
      "source": [
        "Q10. Make x a numeric string of 4 digits with zeros on its left."
      ]
    },
    {
      "cell_type": "code",
      "execution_count": 30,
      "metadata": {
        "colab": {
          "base_uri": "https://localhost:8080/"
        },
        "id": "3Yvgshnu2dHy",
        "outputId": "b0ca86d1-4c48-40cc-d37d-3305b9073514"
      },
      "outputs": [
        {
          "output_type": "stream",
          "name": "stdout",
          "text": [
            "['0034']\n"
          ]
        }
      ],
      "source": [
        "x = np.array(['34'], dtype=str)\n",
        "out = np.char.zfill(x, 4)\n",
        "print(out)"
      ]
    },
    {
      "cell_type": "markdown",
      "metadata": {
        "id": "_Czsq2Fo2dHy"
      },
      "source": [
        "Q11. Replace \"John\" with \"Jim\" in x."
      ]
    },
    {
      "cell_type": "code",
      "execution_count": 32,
      "metadata": {
        "colab": {
          "base_uri": "https://localhost:8080/"
        },
        "id": "WC5T_7j72dHy",
        "outputId": "b70c754b-e029-4871-a3df-b8cd30633671"
      },
      "outputs": [
        {
          "output_type": "stream",
          "name": "stdout",
          "text": [
            "['Hello nmy name is Jim']\n"
          ]
        }
      ],
      "source": [
        "x = np.array(['Hello nmy name is John'], dtype=str)\n",
        "out = np.char.replace(x, \"John\", \"Jim\")\n",
        "print(out)"
      ]
    },
    {
      "cell_type": "markdown",
      "metadata": {
        "id": "G8Vpays02dHy"
      },
      "source": [
        "## Comparison"
      ]
    },
    {
      "cell_type": "markdown",
      "metadata": {
        "id": "oM9zcI-Z2dHz"
      },
      "source": [
        "Q12. Return x1 == x2, element-wise."
      ]
    },
    {
      "cell_type": "code",
      "execution_count": 34,
      "metadata": {
        "colab": {
          "base_uri": "https://localhost:8080/"
        },
        "id": "0w9eACXf2dHz",
        "outputId": "49a56d0b-0b1d-4741-a1fc-3ad903079b7e"
      },
      "outputs": [
        {
          "output_type": "stream",
          "name": "stdout",
          "text": [
            "[ True  True  True  True False]\n"
          ]
        }
      ],
      "source": [
        "x1 = np.array(['Hello', 'my', 'name', 'is', 'John'], dtype=str)\n",
        "x2 = np.array(['Hello', 'my', 'name', 'is', 'Jim'], dtype=str)\n",
        "out = np.char.equal(x1, x2)\n",
        "print(out)"
      ]
    },
    {
      "cell_type": "markdown",
      "metadata": {
        "id": "FWUkPMlC2dHz"
      },
      "source": [
        "Q13. Return x1 != x2, element-wise."
      ]
    },
    {
      "cell_type": "code",
      "execution_count": 36,
      "metadata": {
        "colab": {
          "base_uri": "https://localhost:8080/"
        },
        "id": "gWVKvVV52dHz",
        "outputId": "b12c84b5-9c0f-4b1a-c412-87e29e130cfb"
      },
      "outputs": [
        {
          "output_type": "stream",
          "name": "stdout",
          "text": [
            "[False False False False  True]\n"
          ]
        }
      ],
      "source": [
        "x1 = np.array(['Hello', 'my', 'name', 'is', 'John'], dtype=str)\n",
        "x2 = np.array(['Hello', 'my', 'name', 'is', 'Jim'], dtype=str)\n",
        "out = np.char.not_equal(x1, x2)\n",
        "print(out)"
      ]
    },
    {
      "cell_type": "markdown",
      "metadata": {
        "id": "5Xret4xy2dHz"
      },
      "source": [
        "## String information"
      ]
    },
    {
      "cell_type": "markdown",
      "metadata": {
        "id": "CFn2k6-L2dHz"
      },
      "source": [
        "Q14. Count the number of \"l\" in x, element-wise."
      ]
    },
    {
      "cell_type": "code",
      "execution_count": 38,
      "metadata": {
        "colab": {
          "base_uri": "https://localhost:8080/"
        },
        "id": "5yGrOi8t2dHz",
        "outputId": "7c86e9d0-5b2f-42b2-93d8-bfe600f6339b"
      },
      "outputs": [
        {
          "output_type": "stream",
          "name": "stdout",
          "text": [
            "[2 0 0 0 1]\n"
          ]
        }
      ],
      "source": [
        "x = np.array(['Hello', 'my', 'name', 'is', 'Lily'], dtype=str)\n",
        "out = np.char.count(x, \"l\")\n",
        "print(out)"
      ]
    },
    {
      "cell_type": "markdown",
      "metadata": {
        "id": "yQeqNUJP2dHz"
      },
      "source": [
        "Q15. Count the lowest index of \"l\" in x, element-wise."
      ]
    },
    {
      "cell_type": "code",
      "execution_count": 40,
      "metadata": {
        "colab": {
          "base_uri": "https://localhost:8080/"
        },
        "id": "W5tmvZQ02dH0",
        "outputId": "c33aff2b-b2c3-45f0-cc06-6fb9f4783400"
      },
      "outputs": [
        {
          "output_type": "stream",
          "name": "stdout",
          "text": [
            "[ 2 -1 -1 -1  2]\n"
          ]
        }
      ],
      "source": [
        "x = np.array(['Hello', 'my', 'name', 'is', 'Lily'], dtype=str)\n",
        "out = np.char.find(x, \"l\")\n",
        "print(out)\n",
        "\n",
        "# compare\n",
        "# print(np.char.index(x, \"l\"))\n",
        "# => This raises an error!"
      ]
    },
    {
      "cell_type": "markdown",
      "metadata": {
        "id": "klkvQ1Id2dH0"
      },
      "source": [
        "Q16-1. Check if each element of x is composed of digits only.<br/>\n",
        "Q16-2. Check if each element of x is composed of lower case letters only.<br/>\n",
        "Q16-3. Check if each element of x is composed of upper case letters only."
      ]
    },
    {
      "cell_type": "code",
      "execution_count": 42,
      "metadata": {
        "colab": {
          "base_uri": "https://localhost:8080/"
        },
        "id": "LaMUmXaF2dH0",
        "outputId": "7ad131a1-c56f-43dd-8996-be7d5b790d76"
      },
      "outputs": [
        {
          "output_type": "stream",
          "name": "stdout",
          "text": [
            "Digits only = [False False False  True False False]\n",
            "Lower cases only = [False False  True False  True  True]\n",
            "Upper cases only = [False  True False False False False]\n"
          ]
        }
      ],
      "source": [
        "x = np.array(['Hello', 'I', 'am', '20', 'years', 'old'], dtype=str)\n",
        "out1 = np.char.isdigit(x)\n",
        "out2 = np.char.islower(x)\n",
        "out3 = np.char.isupper(x)\n",
        "print(\"Digits only =\", out1)\n",
        "print(\"Lower cases only =\", out2)\n",
        "print(\"Upper cases only =\", out3)"
      ]
    },
    {
      "cell_type": "markdown",
      "metadata": {
        "id": "DUvWIeys2dH0"
      },
      "source": [
        "Q17. Check if each element of x starts with \"hi\"."
      ]
    },
    {
      "cell_type": "code",
      "execution_count": 44,
      "metadata": {
        "colab": {
          "base_uri": "https://localhost:8080/"
        },
        "id": "NUHEkpN82dH0",
        "outputId": "232481ff-b698-4c70-9c06-98685ed5741a"
      },
      "outputs": [
        {
          "output_type": "stream",
          "name": "stdout",
          "text": [
            "[False  True  True  True]\n"
          ]
        }
      ],
      "source": [
        "x = np.array(['he', 'his', 'him', 'his'], dtype=str)\n",
        "out = np.char.startswith(x, \"hi\")\n",
        "print(out)"
      ]
    }
  ],
  "metadata": {
    "anaconda-cloud": {},
    "kernelspec": {
      "display_name": "Python 3",
      "name": "python3"
    },
    "language_info": {
      "name": "python"
    },
    "colab": {
      "provenance": [],
      "include_colab_link": true
    }
  },
  "nbformat": 4,
  "nbformat_minor": 0
}