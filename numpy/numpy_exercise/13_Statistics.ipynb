{
  "cells": [
    {
      "cell_type": "markdown",
      "metadata": {
        "id": "view-in-github",
        "colab_type": "text"
      },
      "source": [
        "<a href=\"https://colab.research.google.com/github/ajit-ai/Python/blob/main/numpy/numpy_exercise/13_Statistics.ipynb\" target=\"_parent\"><img src=\"https://colab.research.google.com/assets/colab-badge.svg\" alt=\"Open In Colab\"/></a>"
      ]
    },
    {
      "cell_type": "markdown",
      "metadata": {
        "id": "TauHChFQRF5V"
      },
      "source": [
        "# Statistics"
      ]
    },
    {
      "cell_type": "code",
      "execution_count": 1,
      "metadata": {
        "collapsed": true,
        "id": "s9oTxS9DRF5Y"
      },
      "outputs": [],
      "source": [
        "__author__ = \"ajitjava2@gmail.com\""
      ]
    },
    {
      "cell_type": "code",
      "execution_count": 2,
      "metadata": {
        "collapsed": true,
        "id": "iNr-x2ovRF5a"
      },
      "outputs": [],
      "source": [
        "import numpy as np"
      ]
    },
    {
      "cell_type": "code",
      "execution_count": 3,
      "metadata": {
        "id": "YLLng03QRF5c",
        "outputId": "ea4ce3ee-bed2-4f42-ce8c-da71db3860fe",
        "colab": {
          "base_uri": "https://localhost:8080/",
          "height": 35
        }
      },
      "outputs": [
        {
          "output_type": "execute_result",
          "data": {
            "text/plain": [
              "'2.0.2'"
            ],
            "application/vnd.google.colaboratory.intrinsic+json": {
              "type": "string"
            }
          },
          "metadata": {},
          "execution_count": 3
        }
      ],
      "source": [
        "np.__version__"
      ]
    },
    {
      "cell_type": "markdown",
      "metadata": {
        "id": "hZ7EDttKRF5d"
      },
      "source": [
        "## Order statistics"
      ]
    },
    {
      "cell_type": "markdown",
      "metadata": {
        "id": "ZlvBLSUIRF5e"
      },
      "source": [
        "Q1. Return the minimum value of x along the second axis."
      ]
    },
    {
      "cell_type": "code",
      "execution_count": 4,
      "metadata": {
        "id": "y093HirvRF5f",
        "outputId": "d365354a-6442-416c-8fd6-480a8ab6d032",
        "colab": {
          "base_uri": "https://localhost:8080/"
        }
      },
      "outputs": [
        {
          "output_type": "stream",
          "name": "stdout",
          "text": [
            "x=\n",
            " [[0 1]\n",
            " [2 3]]\n"
          ]
        }
      ],
      "source": [
        "x = np.arange(4).reshape((2, 2))\n",
        "print(\"x=\\n\", x)\n"
      ]
    },
    {
      "cell_type": "markdown",
      "metadata": {
        "id": "DlQ7dCg-RF5g"
      },
      "source": [
        "Q2. Return the maximum value of x along the second axis. Reduce the second axis to the dimension with size one."
      ]
    },
    {
      "cell_type": "code",
      "execution_count": 5,
      "metadata": {
        "id": "X5ro5OFiRF5h",
        "outputId": "a05e0461-6810-4489-a2af-7781e03bf8b0",
        "colab": {
          "base_uri": "https://localhost:8080/"
        }
      },
      "outputs": [
        {
          "output_type": "stream",
          "name": "stdout",
          "text": [
            "x=\n",
            " [[0 1]\n",
            " [2 3]]\n"
          ]
        }
      ],
      "source": [
        "x = np.arange(4).reshape((2, 2))\n",
        "print(\"x=\\n\", x)\n"
      ]
    },
    {
      "cell_type": "markdown",
      "metadata": {
        "id": "Ff9h6YJ2RF5j"
      },
      "source": [
        "Q3. Calcuate the difference between the maximum and the minimum of x along the second axis."
      ]
    },
    {
      "cell_type": "code",
      "execution_count": 6,
      "metadata": {
        "id": "rxL9PPg4RF5k",
        "outputId": "555c32eb-bc3e-43d1-8dc0-32410e7e6486",
        "colab": {
          "base_uri": "https://localhost:8080/"
        }
      },
      "outputs": [
        {
          "output_type": "stream",
          "name": "stdout",
          "text": [
            "x=\n",
            " [[0 1 2 3 4]\n",
            " [5 6 7 8 9]]\n"
          ]
        }
      ],
      "source": [
        "x = np.arange(10).reshape((2, 5))\n",
        "print(\"x=\\n\", x)\n",
        "\n"
      ]
    },
    {
      "cell_type": "markdown",
      "metadata": {
        "id": "qo8HZH9ERF5k"
      },
      "source": [
        "Q4. Compute the 75th percentile of x along the second axis."
      ]
    },
    {
      "cell_type": "code",
      "execution_count": 7,
      "metadata": {
        "id": "gakQpoR3RF5l",
        "outputId": "f15f0c87-08bd-413b-9a75-dbb17f2ed514",
        "colab": {
          "base_uri": "https://localhost:8080/"
        }
      },
      "outputs": [
        {
          "output_type": "stream",
          "name": "stdout",
          "text": [
            "x=\n",
            " [[ 1  2  3  4  5]\n",
            " [ 6  7  8  9 10]]\n"
          ]
        }
      ],
      "source": [
        "x = np.arange(1, 11).reshape((2, 5))\n",
        "print(\"x=\\n\", x)\n"
      ]
    },
    {
      "cell_type": "markdown",
      "metadata": {
        "id": "k2nxsoNxRF5m"
      },
      "source": [
        "## Averages and variances"
      ]
    },
    {
      "cell_type": "markdown",
      "metadata": {
        "id": "W7dKOXgWRF5m"
      },
      "source": [
        "Q5. Compute the median of flattened x."
      ]
    },
    {
      "cell_type": "code",
      "execution_count": 8,
      "metadata": {
        "id": "66u5hiu2RF5n",
        "outputId": "afb8360d-c9d1-48e4-c880-c9d70ac59910",
        "colab": {
          "base_uri": "https://localhost:8080/"
        }
      },
      "outputs": [
        {
          "output_type": "stream",
          "name": "stdout",
          "text": [
            "x=\n",
            " [[1 2 3]\n",
            " [4 5 6]\n",
            " [7 8 9]]\n"
          ]
        }
      ],
      "source": [
        "x = np.arange(1, 10).reshape((3, 3))\n",
        "print(\"x=\\n\", x)\n"
      ]
    },
    {
      "cell_type": "markdown",
      "metadata": {
        "id": "80g_Zi6vRF5n"
      },
      "source": [
        "Q6. Compute the weighted average of x."
      ]
    },
    {
      "cell_type": "code",
      "execution_count": 9,
      "metadata": {
        "id": "ICz01uzIRF5o"
      },
      "outputs": [],
      "source": [
        "x = np.arange(5)\n",
        "weights = np.arange(1, 6)\n"
      ]
    },
    {
      "cell_type": "markdown",
      "metadata": {
        "id": "rTc_SCZgRF5o"
      },
      "source": [
        "Q7. Compute the mean, standard deviation, and variance of x along the second axis."
      ]
    },
    {
      "cell_type": "code",
      "execution_count": 10,
      "metadata": {
        "id": "NbZulmjsRF5p",
        "outputId": "a461be51-3ba9-49a2-fafa-3523535319ca",
        "colab": {
          "base_uri": "https://localhost:8080/"
        }
      },
      "outputs": [
        {
          "output_type": "stream",
          "name": "stdout",
          "text": [
            "x=\n",
            " [0 1 2 3 4]\n"
          ]
        }
      ],
      "source": [
        "x = np.arange(5)\n",
        "print(\"x=\\n\",x)\n",
        "\n"
      ]
    },
    {
      "cell_type": "markdown",
      "metadata": {
        "id": "kZY4HM3TRF5q"
      },
      "source": [
        "## Correlating"
      ]
    },
    {
      "cell_type": "markdown",
      "metadata": {
        "id": "v-HVhN_ZRF5r"
      },
      "source": [
        "Q8. Compute the covariance matrix of x and y."
      ]
    },
    {
      "cell_type": "code",
      "execution_count": 11,
      "metadata": {
        "id": "SsFwMXUuRF5r"
      },
      "outputs": [],
      "source": [
        "x = np.array([0, 1, 2])\n",
        "y = np.array([2, 1, 0])\n"
      ]
    },
    {
      "cell_type": "markdown",
      "metadata": {
        "id": "OfAWtS1jRF5s"
      },
      "source": [
        "Q9. In the above covariance matrix, what does the -1 mean?"
      ]
    },
    {
      "cell_type": "markdown",
      "metadata": {
        "id": "uyzfwJwuRF5s"
      },
      "source": []
    },
    {
      "cell_type": "markdown",
      "metadata": {
        "id": "Y6GM4aWiRF5s"
      },
      "source": [
        "Q10. Compute Pearson product-moment correlation coefficients of x and y."
      ]
    },
    {
      "cell_type": "code",
      "execution_count": 12,
      "metadata": {
        "id": "Y4ytXO-ORF5t"
      },
      "outputs": [],
      "source": [
        "x = np.array([0, 1, 3])\n",
        "y = np.array([2, 4, 5])\n"
      ]
    },
    {
      "cell_type": "markdown",
      "metadata": {
        "id": "KHXkrzXnRF5t"
      },
      "source": [
        "Q11. Compute cross-correlation of x and y."
      ]
    },
    {
      "cell_type": "code",
      "execution_count": 13,
      "metadata": {
        "id": "qOZnOzDgRF5u"
      },
      "outputs": [],
      "source": [
        "x = np.array([0, 1, 3])\n",
        "y = np.array([2, 4, 5])\n",
        "\n"
      ]
    },
    {
      "cell_type": "markdown",
      "metadata": {
        "id": "nFPaL7i1RF5u"
      },
      "source": [
        "## Histograms"
      ]
    },
    {
      "cell_type": "markdown",
      "metadata": {
        "id": "qW0Bnq97RF5v"
      },
      "source": [
        "Q12. Compute the histogram of x against the bins."
      ]
    },
    {
      "cell_type": "code",
      "execution_count": 14,
      "metadata": {
        "id": "_WX8whDkRF5v",
        "outputId": "228742be-f066-4de2-efc7-02fad9705170",
        "colab": {
          "base_uri": "https://localhost:8080/",
          "height": 465
        }
      },
      "outputs": [
        {
          "output_type": "stream",
          "name": "stdout",
          "text": [
            "ans=\n",
            " Ellipsis\n"
          ]
        },
        {
          "output_type": "display_data",
          "data": {
            "text/plain": [
              "<Figure size 640x480 with 1 Axes>"
            ],
            "image/png": "[encoded data removed]"
          },
          "metadata": {}
        }
      ],
      "source": [
        "x = np.array([0.5, 0.7, 1.0, 1.2, 1.3, 2.1])\n",
        "bins = np.array([0, 1, 2, 3])\n",
        "print(\"ans=\\n\", ...)\n",
        "\n",
        "import matplotlib.pyplot as plt\n",
        "%matplotlib inline\n",
        "plt.hist(x, bins=bins)\n",
        "plt.show()"
      ]
    },
    {
      "cell_type": "markdown",
      "metadata": {
        "id": "zdrNldBVRF5x"
      },
      "source": [
        "Q13. Compute the 2d histogram of x and y."
      ]
    },
    {
      "cell_type": "code",
      "execution_count": 15,
      "metadata": {
        "id": "Jupl7QwaRF5y",
        "outputId": "242191ad-237d-43b8-9f4b-18fa2b47c574",
        "colab": {
          "base_uri": "https://localhost:8080/",
          "height": 430
        }
      },
      "outputs": [
        {
          "output_type": "display_data",
          "data": {
            "text/plain": [
              "<Figure size 640x480 with 1 Axes>"
            ],
            "image/png": "[encoded data removed]"
          },
          "metadata": {}
        }
      ],
      "source": [
        "xedges = [0, 1, 2, 3]\n",
        "yedges = [0, 1, 2, 3, 4]\n",
        "x = np.array([0, 0.1, 0.2, 1., 1.1, 2., 2.1])\n",
        "y = np.array([0, 0.1, 0.2, 1., 1.1, 2., 3.3])\n",
        "...\n",
        "\n",
        "plt.scatter(x, y)\n",
        "plt.grid()"
      ]
    },
    {
      "cell_type": "markdown",
      "metadata": {
        "id": "yy9cgj-mRF5z"
      },
      "source": [
        "Q14. Count number of occurrences of 0 through 7 in x."
      ]
    },
    {
      "cell_type": "code",
      "execution_count": 16,
      "metadata": {
        "id": "U6PE5hFSRF5z"
      },
      "outputs": [],
      "source": [
        "x = np.array([0, 1, 1, 3, 2, 1, 7])\n"
      ]
    },
    {
      "cell_type": "markdown",
      "metadata": {
        "id": "kacHk5EORF50"
      },
      "source": [
        "Q15. Return the indices of the bins to which each value in x belongs."
      ]
    },
    {
      "cell_type": "code",
      "execution_count": 17,
      "metadata": {
        "id": "p9r5cW0zRF50"
      },
      "outputs": [],
      "source": [
        "x = np.array([0.2, 6.4, 3.0, 1.6])\n",
        "bins = np.array([0.0, 1.0, 2.5, 4.0, 10.0])\n",
        "\n"
      ]
    },
    {
      "cell_type": "code",
      "execution_count": 17,
      "metadata": {
        "collapsed": true,
        "id": "oUXFvn0qRF50"
      },
      "outputs": [],
      "source": []
    }
  ],
  "metadata": {
    "anaconda-cloud": {},
    "kernelspec": {
      "display_name": "Python 3",
      "name": "python3"
    },
    "language_info": {
      "name": "python"
    },
    "colab": {
      "provenance": [],
      "include_colab_link": true
    }
  },
  "nbformat": 4,
  "nbformat_minor": 0
}