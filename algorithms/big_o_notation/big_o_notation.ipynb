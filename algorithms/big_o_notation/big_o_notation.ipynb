{
 "cells": [
  {
   "cell_type": "markdown",
   "id": "40ab8527",
   "metadata": {},
   "source": [
    "### 1. Brute Force Simulation\n",
    "\n",
    "Description: Simulate the toggling process for each person and locker.\n",
    "\n",
    "Time Complexity: $ O(n \\log n) $. The sum of iterations is the harmonic series: $ \\sum_{k=1}^n \\lfloor n/k \\rfloor \\approx n (1 + 1/2 + 1/3 + \\dots + 1/n) \\approx n \\ln n $.\n",
    "Space Complexity: $ O(n) $ for the lockers array."
   ]
  },
  {
   "cell_type": "code",
   "execution_count": 2,
   "id": "4fc593b4",
   "metadata": {},
   "outputs": [
    {
     "name": "stdout",
     "output_type": "stream",
     "text": [
      "[1, 4, 9, 16, 25, 36, 49, 64, 81, 100]\n"
     ]
    }
   ],
   "source": [
    "# brute force python code example Simulate the toggling process for each person and locker.\n",
    "def lockers_brute_force(n):\n",
    "    lockers = [False] * (n + 1)  # False = closed, True = open\n",
    "    for person in range(1, n + 1):\n",
    "        for locker in range(person, n + 1, person):\n",
    "            lockers[locker] = not lockers[locker]\n",
    "    return [i for i in range(1, n + 1) if lockers[i]]\n",
    "\n",
    "# Example\n",
    "print(lockers_brute_force(100))  # Output: [1, 4, 9, 16, 25, 36, 49, 64, 81, 100]"
   ]
  },
  {
   "cell_type": "markdown",
   "id": "a6928181",
   "metadata": {},
   "source": [
    "### 2. Count Divisors for Each Locker\n",
    "Description: For each locker $ n $, compute the number of divisors and check if it’s odd.\n",
    "\n",
    "Time Complexity: $ O(n \\sqrt{n}) $. For each of $ n $ lockers, computing divisors takes $ O(\\sqrt{n}) $.\n",
    "Space Complexity: $ O(1) $ excluding output, as we only store a few variables."
   ]
  },
  {
   "cell_type": "code",
   "execution_count": null,
   "id": "e7f8d5bf",
   "metadata": {},
   "outputs": [
    {
     "name": "stdout",
     "output_type": "stream",
     "text": [
      "[1, 4, 9, 16, 25, 36, 49, 64, 81, 100]\n"
     ]
    }
   ],
   "source": [
    "# divide and conquer python code example\n",
    "def count_divisors(n):\n",
    "    count = 0\n",
    "    for i in range(1, int(n**0.5) + 1):\n",
    "        if n % i == 0:\n",
    "            count += 1 if i * i == n else 2  # Square root counts once, others in pairs\n",
    "    return count\n",
    "\n",
    "def lockers_divisors(n):\n",
    "    return [i for i in range(1, n + 1) if count_divisors(i) % 2 == 1]\n",
    "\n",
    "# Example\n",
    "print(lockers_divisors(100))"
   ]
  },
  {
   "cell_type": "markdown",
   "id": "194e8cfd",
   "metadata": {},
   "source": [
    "### 3. Perfect Square Recognition (Mathematical)\n",
    "\n",
    "Description: Use the insight that only perfect squares have an odd number of divisors.\n",
    "\n",
    "Time Complexity: $ O(\\sqrt{n}) $. Compute squares up to $ \\sqrt{n} $.\n",
    "Space Complexity: $ O(1) $ excluding output."
   ]
  },
  {
   "cell_type": "code",
   "execution_count": 4,
   "id": "7ae576f1",
   "metadata": {},
   "outputs": [
    {
     "name": "stdout",
     "output_type": "stream",
     "text": [
      "[1, 4, 9, 16, 25, 36, 49, 64, 81, 100]\n"
     ]
    }
   ],
   "source": [
    "def lockers_perfect_squares(n):\n",
    "    return [i * i for i in range(1, int(n**0.5) + 1)]\n",
    "\n",
    "# Example\n",
    "print(lockers_perfect_squares(100))"
   ]
  },
  {
   "cell_type": "markdown",
   "id": "dd57ba2c",
   "metadata": {},
   "source": [
    "### 4. Bit Manipulation for Square Check\n",
    "\n",
    "Description: Check if a number is a perfect square using bit manipulation to optimize square root checks (e.g., approximate square root via bit shifts).\n",
    "\n",
    "Time Complexity: $ O(n \\log \\log n) $. Newton’s method for square root converges quickly (roughly $ O(\\log \\log n) $) per number.\n",
    "Space Complexity: $ O(1) $ excluding output."
   ]
  },
  {
   "cell_type": "code",
   "execution_count": null,
   "id": "5e3988cf",
   "metadata": {},
   "outputs": [
    {
     "name": "stdout",
     "output_type": "stream",
     "text": [
      "[1, 4, 9, 16, 25, 36, 49, 64, 81, 100]\n"
     ]
    }
   ],
   "source": [
    "# bit manipulation python code example\n",
    "def is_square(n):\n",
    "    # Approximate square root using bit manipulation\n",
    "    x = n\n",
    "    while x * x > n:\n",
    "        x = (x + (n // x)) >> 1  # Newton's method with bit shift\n",
    "    return x * x == n\n",
    "\n",
    "def lockers_bit_square(n):\n",
    "    return [i for i in range(1, n + 1) if is_square(i)]\n",
    "\n",
    "# Example\n",
    "print(lockers_bit_square(100))"
   ]
  },
  {
   "cell_type": "markdown",
   "id": "d2cb0e14",
   "metadata": {},
   "source": [
    "### 5. Sieve-Like Divisor Count\n",
    "\n",
    "Description: Use a sieve-like approach to count toggles for each locker.\n",
    "\n",
    "Time Complexity: $ O(n \\log n) $, same as brute force, due to harmonic series.\n",
    "Space Complexity: $ O(n) $ for the toggles array."
   ]
  },
  {
   "cell_type": "code",
   "execution_count": null,
   "id": "a8f0b43e",
   "metadata": {},
   "outputs": [
    {
     "name": "stdout",
     "output_type": "stream",
     "text": [
      "[1, 4, 9, 16, 25, 36, 49, 64, 81, 100]\n"
     ]
    }
   ],
   "source": [
    "# sieve python code example\n",
    "def lockers_sieve(n):\n",
    "    toggles = [0] * (n + 1)\n",
    "    for person in range(1, n + 1):\n",
    "        for locker in range(person, n + 1, person):\n",
    "            toggles[locker] += 1\n",
    "    return [i for i in range(1, n + 1) if toggles[i] % 2 == 1]\n",
    "\n",
    "# Example\n",
    "print(lockers_sieve(100))"
   ]
  },
  {
   "cell_type": "markdown",
   "id": "8a9d4d38",
   "metadata": {},
   "source": [
    "### 6. Bit Array for Lockers\n",
    "Description: Use a bit array (via integers) to represent locker states, leveraging bit manipulation.\n",
    "\n",
    "Time Complexity: $ O(n \\log n) $, same as brute force.\n",
    "Space Complexity: $ O(1) $ since a single integer holds the bit array (though limited by integer size in practice; for large $ n $, use a proper bit array)."
   ]
  },
  {
   "cell_type": "code",
   "execution_count": 7,
   "id": "fc2b2fcc",
   "metadata": {},
   "outputs": [
    {
     "name": "stdout",
     "output_type": "stream",
     "text": [
      "[1, 4, 9, 16, 25, 36, 49, 64, 81, 100]\n"
     ]
    }
   ],
   "source": [
    "def lockers_bit_array(n):\n",
    "    lockers = 0  # Use integer as bit array\n",
    "    for person in range(1, n + 1):\n",
    "        for locker in range(person, n + 1, person):\n",
    "            lockers ^= (1 << locker)  # Toggle bit\n",
    "    return [i for i in range(1, n + 1) if (lockers >> i) & 1]\n",
    "\n",
    "# Example\n",
    "print(lockers_bit_array(100))"
   ]
  },
  {
   "cell_type": "markdown",
   "id": "1f9ddfaa",
   "metadata": {},
   "source": [
    "### 7. Optimized Divisor Count with Bit Tricks\n",
    "Description: Use bit manipulation to optimize divisor counting (e.g., check divisibility via bit operations for powers of 2).\n",
    "\n",
    "Time Complexity: $ O(n \\sqrt{n}) $, same as divisor count approach.\n",
    "Space Complexity: $ O(1) $ excluding output."
   ]
  },
  {
   "cell_type": "code",
   "execution_count": 8,
   "id": "cdafbe27",
   "metadata": {},
   "outputs": [
    {
     "name": "stdout",
     "output_type": "stream",
     "text": [
      "[1, 4, 9, 16, 25, 36, 49, 64, 81, 100]\n"
     ]
    }
   ],
   "source": [
    "def count_divisors_bit(n):\n",
    "    count = 0\n",
    "    for i in range(1, int(n**0.5) + 1):\n",
    "        if n % i == 0:\n",
    "            count += 1 if i * i == n else 2\n",
    "    return count\n",
    "\n",
    "def lockers_divisors_bit(n):\n",
    "    return [i for i in range(1, n + 1) if count_divisors_bit(i) % 2 == 1]\n",
    "\n",
    "# Example\n",
    "print(lockers_divisors_bit(100))"
   ]
  },
  {
   "cell_type": "markdown",
   "id": "fc3343b2",
   "metadata": {},
   "source": [
    "### 8. Precompute Squares with Bit Check\n",
    "Description: Precompute perfect squares using bit manipulation to verify squares.\n",
    "\n",
    "Time Complexity: $ O(n \\log \\log n) $, due to Newton’s method per number.\n",
    "Space Complexity: $ O(1) $ excluding output."
   ]
  },
  {
   "cell_type": "code",
   "execution_count": 9,
   "id": "7d3f84e7",
   "metadata": {},
   "outputs": [
    {
     "name": "stdout",
     "output_type": "stream",
     "text": [
      "[1, 4, 9, 16, 25, 36, 49, 64, 81, 100]\n"
     ]
    }
   ],
   "source": [
    "def lockers_precompute_squares(n):\n",
    "    result = []\n",
    "    for i in range(1, n + 1):\n",
    "        sqrt = i\n",
    "        while sqrt * sqrt > i:\n",
    "            sqrt = (sqrt + (i // sqrt)) >> 1\n",
    "        if sqrt * sqrt == i:\n",
    "            result.append(i)\n",
    "    return result\n",
    "\n",
    "# Example\n",
    "print(lockers_precompute_squares(100))"
   ]
  },
  {
   "cell_type": "markdown",
   "id": "deacec91",
   "metadata": {},
   "source": [
    "### 9. Bitwise Sieve for Divisors\n",
    "Description: Use a bit array to track toggles, optimizing with bitwise operations.\n",
    "\n",
    "Time Complexity: $ O(n \\log n) $, similar to sieve approach.\n",
    "Space Complexity: $ O(n/32) \\approx O(n) $, but reduced by a factor of 32."
   ]
  },
  {
   "cell_type": "code",
   "execution_count": 10,
   "id": "c6be8e4d",
   "metadata": {},
   "outputs": [
    {
     "name": "stdout",
     "output_type": "stream",
     "text": [
      "[1, 4, 9, 16, 25, 36, 49, 64, 81, 100]\n"
     ]
    }
   ],
   "source": [
    "def lockers_bitwise_sieve(n):\n",
    "    lockers = [0] * ((n + 31) // 32)  # Bit array, 32 bits per integer\n",
    "    for person in range(1, n + 1):\n",
    "        for locker in range(person, n + 1, person):\n",
    "            idx, bit = divmod(locker, 32)\n",
    "            lockers[idx] ^= (1 << bit)\n",
    "    return [i for i in range(1, n + 1) if lockers[i // 32] & (1 << (i % 32))]\n",
    "\n",
    "# Example\n",
    "print(lockers_bitwise_sieve(100))"
   ]
  },
  {
   "cell_type": "markdown",
   "id": "d3774f8c",
   "metadata": {},
   "source": [
    "### 10. Mathematical with Bitwise Square Check\n",
    "Description: Combine perfect square insight with a bitwise square check for optimization.\n",
    "\n",
    "Time Complexity: $ O(n \\log \\log n) $.\n",
    "Space Complexity: $ O(1) $ excluding output."
   ]
  },
  {
   "cell_type": "code",
   "execution_count": 11,
   "id": "21f5109d",
   "metadata": {},
   "outputs": [
    {
     "name": "stdout",
     "output_type": "stream",
     "text": [
      "[1, 4, 9, 16, 25, 36, 49, 64, 81, 100]\n"
     ]
    }
   ],
   "source": [
    "def is_square_bit(n):\n",
    "    x = n\n",
    "    while x * x > n:\n",
    "        x = (x + (n // x)) >> 1\n",
    "    return x * x == n\n",
    "\n",
    "def lockers_math_bit(n):\n",
    "    return [i for i in range(1, n + 1) if is_square_bit(i)]\n",
    "\n",
    "# Example\n",
    "print(lockers_math_bit(100))"
   ]
  },
  {
   "cell_type": "code",
   "execution_count": null,
   "id": "bdf881fb",
   "metadata": {},
   "outputs": [],
   "source": []
  }
 ],
 "metadata": {
  "kernelspec": {
   "display_name": "Python 3",
   "language": "python",
   "name": "python3"
  },
  "language_info": {
   "codemirror_mode": {
    "name": "ipython",
    "version": 3
   },
   "file_extension": ".py",
   "mimetype": "text/x-python",
   "name": "python",
   "nbconvert_exporter": "python",
   "pygments_lexer": "ipython3",
   "version": "3.12.4"
  }
 },
 "nbformat": 4,
 "nbformat_minor": 5
}
