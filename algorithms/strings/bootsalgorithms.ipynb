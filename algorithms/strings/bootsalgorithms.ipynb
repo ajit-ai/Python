{
 "cells": [
  {
   "cell_type": "code",
   "execution_count": 1,
   "id": "f24ddc19",
   "metadata": {},
   "outputs": [
    {
     "name": "stdout",
     "output_type": "stream",
     "text": [
      "1\n"
     ]
    }
   ],
   "source": [
    "# Method 1: Using Python's built-in min function\n",
    "def find_minimum(numbers):\n",
    "    if not numbers:\n",
    "        return None\n",
    "    return min(numbers)\n",
    "\n",
    "# Method 2: Using a loop to find the minimum\n",
    "def find_minimum(numbers):\n",
    "    if not numbers:\n",
    "        return None\n",
    "    minimum = numbers[0]\n",
    "    for number in numbers:\n",
    "        if number < minimum:\n",
    "            minimum = number\n",
    "    return minimum\n",
    "\n",
    "# Method 3: Using a loop to find the minimum\n",
    "def find_minimum(numbers):\n",
    "    if not numbers:\n",
    "        return None\n",
    "    minimum = float('inf')\n",
    "    for number in numbers:\n",
    "        if number < minimum:\n",
    "            minimum = number\n",
    "    return minimum\n",
    "# Method 4: Using recursion to find the minimum\n",
    "def find_minimum(numbers):\n",
    "    if not numbers:\n",
    "        return None\n",
    "    if len(numbers) == 1:\n",
    "        return numbers[0]\n",
    "    else:\n",
    "        sub_min = find_minimum(numbers[1:])\n",
    "        return numbers[0] if numbers[0] < sub_min else sub_min\n",
    "# Method 5: Using the reduce function from functools\n",
    "from functools import reduce\n",
    "def find_minimum(numbers):\n",
    "    if not numbers:\n",
    "        return None\n",
    "    return reduce(lambda x, y: x if x < y else y, numbers)\n",
    "# Method 6: Using NumPy to find the minimum\n",
    "import numpy as np\n",
    "def find_minimum(numbers):\n",
    "    if not numbers:\n",
    "        return None\n",
    "    return np.min(numbers) if isinstance(numbers, (list, np.ndarray)) else None\n",
    "\n",
    "# use all methods to find the minimum of a list of numbers\n",
    "def main():\n",
    "    numbers = [1, 2, 3, 4, 5]\n",
    "    print(find_minimum(numbers))\n",
    "\n",
    "if __name__ == '__main__':\n",
    "    main()\n"
   ]
  },
  {
   "cell_type": "code",
   "execution_count": 2,
   "id": "8e78b3f9",
   "metadata": {},
   "outputs": [
    {
     "name": "stdout",
     "output_type": "stream",
     "text": [
      "The earliest index of the lexicographically smallest rotation of 'bcaabc' is: 2\n"
     ]
    }
   ],
   "source": [
    "\"\"\" Performs Booths algorithm returning the earliest index of the\n",
    "  lexicographically smallest string rotation. Note that comparisons\n",
    "  are done using ASCII values, so mixing lowercase and uppercase\n",
    "  letters may give you unexpected results, O(n) \"\"\"\n",
    "def booth(s):\n",
    "    s = s + s  # Concatenate string to itself\n",
    "    n = len(s)\n",
    "    f = [-1] * n  # Failure function\n",
    "    k = 0  # Least rotation of string found so far\n",
    "\n",
    "    for j in range(1, n):\n",
    "        sj = s[j]\n",
    "        i = f[j - k - 1]\n",
    "        while i != -1 and sj != s[k + i + 1]:\n",
    "            if sj < s[k + i + 1]:\n",
    "                k = j - i - 1\n",
    "            i = f[i]\n",
    "\n",
    "        if sj != s[k + i + 1]:  # Mismatch after i matches\n",
    "            if sj < s[k]:  # Found a smaller rotation\n",
    "                k = j\n",
    "            f[j - k] = -1\n",
    "        else:\n",
    "            f[j - k] = i + 1\n",
    "\n",
    "    return k\n",
    "\n",
    "def main_booth():\n",
    "    s = \"bcaabc\"\n",
    "    index = booth(s)\n",
    "    print(f\"The earliest index of the lexicographically smallest rotation of '{s}' is: {index}\")\n",
    "\n",
    "if __name__ == '__main__':\n",
    "    main_booth()"
   ]
  },
  {
   "cell_type": "code",
   "execution_count": 4,
   "id": "05456a4c",
   "metadata": {},
   "outputs": [
    {
     "name": "stdout",
     "output_type": "stream",
     "text": [
      "The earliest index of the lexicographically smallest rotation of 'bcaabc' is: 2\n"
     ]
    }
   ],
   "source": [
    "# Method 1: Using Python's built-in min function\n",
    "\n",
    "def booth_algorithms(s):\n",
    "    \"\"\"\n",
    "    Performs Booth's algorithm returning the earliest index of the\n",
    "    lexicographically smallest string rotation.\n",
    "\n",
    "    Args:\n",
    "        s (str): The input string.\n",
    "\n",
    "    Returns:\n",
    "        int: The index of the lexicographically smallest string rotation.\n",
    "    \"\"\"\n",
    "    return min(range(len(s)), key=lambda i: s[i:] + s[:i])\n",
    "\n",
    "def main_booth_algorithm():\n",
    "    s = \"bcaabc\"\n",
    "    index = booth_algorithms(s)\n",
    "    print(f\"The earliest index of the lexicographically smallest rotation of '{s}' is: {index}\")\n",
    "    \n",
    "if __name__ == '__main__':\n",
    "    main_booth_algorithm()"
   ]
  },
  {
   "cell_type": "code",
   "execution_count": 4,
   "id": "a2145f82",
   "metadata": {},
   "outputs": [
    {
     "name": "stdout",
     "output_type": "stream",
     "text": [
      "The earliest index of the lexicographically smallest rotation of 'bccabdaabcdd' is: 6\n"
     ]
    }
   ],
   "source": [
    "#Method 2: Using a simple loop\n",
    "\n",
    "def booth_algorithm(s):\n",
    "    \"\"\"\n",
    "    Performs Booth's algorithm returning the earliest index of the\n",
    "    lexicographically smallest string rotation.\n",
    "\n",
    "    Args:\n",
    "        s (str): The input string.\n",
    "\n",
    "    Returns:\n",
    "        int: The index of the lexicographically smallest string rotation.\n",
    "    \"\"\"\n",
    "    min_idx = 0\n",
    "    for i in range(1, len(s)):\n",
    "        if s[i:] + s[:i] < s[min_idx:] + s[:min_idx]:\n",
    "            min_idx = i\n",
    "    return min_idx\n",
    "\n",
    "def main_booth_algorithm():\n",
    "    s = \"bccabdaabcdd\"\n",
    "    index = booth_algorithm(s)\n",
    "    print(f\"The earliest index of the lexicographically smallest rotation of '{s}' is: {index}\")\n",
    "\n",
    "if __name__ == '__main__':\n",
    "    main_booth_algorithm()\n",
    "\n",
    "\n",
    "\n",
    "\n"
   ]
  },
  {
   "cell_type": "code",
   "execution_count": null,
   "id": "1f99ee68",
   "metadata": {},
   "outputs": [],
   "source": [
    "# Method 3: Using Python's itertools module\n",
    "\n",
    "import itertools\n",
    "\n",
    "def booth_algorithm(s):\n",
    "    \"\"\"\n",
    "    Performs Booth's algorithm returning the earliest index of the\n",
    "    lexicographically smallest string rotation.\n",
    "\n",
    "    Args:\n",
    "        s (str): The input string.\n",
    "\n",
    "    Returns:\n",
    "        int: The index of the lexicographically smallest string rotation.\n",
    "    \"\"\"\n",
    "    rotations = [''.join(x) for x in itertools.permutations(s)]\n",
    "    return rotations.index(min(rotations))\n",
    "\n",
    "def main_booth_algorithm():\n",
    "    s = \"bccabdaabcdd\"\n",
    "    index = booth_algorithm(s)\n",
    "    print(f\"The earliest index of the lexicographically smallest rotation of '{s}' is: {index}\")\n",
    "if __name__ == '__main__':\n",
    "    main_booth_algorithm()"
   ]
  },
  {
   "cell_type": "code",
   "execution_count": 6,
   "id": "0de73866",
   "metadata": {},
   "outputs": [],
   "source": [
    "#Method 4: Using a recursive approach\n",
    "\n",
    "def booth_algorithm(s):\n",
    "    \"\"\"\n",
    "    Performs Booth's algorithm returning the earliest index of the\n",
    "    lexicographically smallest string rotation.\n",
    "\n",
    "    Args:\n",
    "        s (str): The input string.\n",
    "\n",
    "    Returns:\n",
    "        int: The index of the lexicographically smallest string rotation.\n",
    "    \"\"\"\n",
    "    def recursive_booth(s, i):\n",
    "        if i == len(s):\n",
    "            return 0\n",
    "        elif s[i:] + s[:i] < s[recursive_booth(s, i+1):] + s[:recursive_booth(s, i+1)]:\n",
    "            return i\n",
    "        else:\n",
    "            return recursive_booth(s, i+1)\n",
    "    return recursive_booth(s, 0)\n",
    "\n",
    "def booth_algorithms(s):\n",
    "    \"\"\"\n",
    "    Performs Booth's algorithm returning the earliest index of the\n",
    "    lexicographically smallest string rotation.\n",
    "\n",
    "    Args:\n",
    "        s (str): The input string.\n",
    "\n",
    "    Returns:\n",
    "        int: The index of the lexicographically smallest string rotation.\n",
    "    \"\"\"\n",
    "    return min(range(len(s)), key=lambda i: s[i:] + s[:i])"
   ]
  },
  {
   "cell_type": "code",
   "execution_count": 9,
   "id": "d35d093f",
   "metadata": {},
   "outputs": [
    {
     "name": "stdout",
     "output_type": "stream",
     "text": [
      "The earliest index of the lexicographically smallest rotation of 'bccabdaabcdd' is: 6\n"
     ]
    }
   ],
   "source": [
    "#Method 5: Using a dynamic programming approach\n",
    "\n",
    "def booth_algorithm(s):\n",
    "    \"\"\"\n",
    "    Performs Booth's algorithm returning the earliest index of the\n",
    "    lexicographically smallest string rotation.\n",
    "\n",
    "    Args:\n",
    "        s (str): The input string.\n",
    "\n",
    "    Returns:\n",
    "        int: The index of the lexicographically smallest string rotation.\n",
    "    \"\"\"\n",
    "    n = len(s)\n",
    "    dp = [0] * n\n",
    "    dp[0] = 0\n",
    "    for i in range(1, n):\n",
    "        dp[i] = i if s[i:] + s[:i] < s[dp[i-1]:] + s[:dp[i-1]] else dp[i-1]\n",
    "    return dp[-1]\n",
    "\n",
    "def main_booth_algorithm():\n",
    "    s = \"bccabdaabcdd\"\n",
    "    index = booth_algorithm(s)\n",
    "    print(f\"The earliest index of the lexicographically smallest rotation of '{s}' is: {index}\")\n",
    "    \n",
    "if __name__ == '__main__':\n",
    "    main_booth_algorithm()"
   ]
  }
 ],
 "metadata": {
  "kernelspec": {
   "display_name": "Python 3",
   "language": "python",
   "name": "python3"
  },
  "language_info": {
   "codemirror_mode": {
    "name": "ipython",
    "version": 3
   },
   "file_extension": ".py",
   "mimetype": "text/x-python",
   "name": "python",
   "nbconvert_exporter": "python",
   "pygments_lexer": "ipython3",
   "version": "3.12.4"
  }
 },
 "nbformat": 4,
 "nbformat_minor": 5
}
