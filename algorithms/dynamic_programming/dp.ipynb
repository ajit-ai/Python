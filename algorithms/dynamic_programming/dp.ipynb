{
 "cells": [
  {
   "cell_type": "code",
   "execution_count": 1,
   "id": "9ef85c0d",
   "metadata": {},
   "outputs": [
    {
     "name": "stdout",
     "output_type": "stream",
     "text": [
      "Input: [1, 2, 3, 1], Maximum money: 4\n",
      "Input: [2, 7, 9, 3, 1], Maximum money: 12\n",
      "Input: [], Maximum money: 0\n",
      "Input: [5], Maximum money: 5\n"
     ]
    }
   ],
   "source": [
    "def rob(nums):\n",
    "    \"\"\"\n",
    "    Determine the maximum amount of money that can be robbed without robbing adjacent houses.\n",
    "    \n",
    "    Args:\n",
    "        nums: List of non-negative integers representing money in each house.\n",
    "    \n",
    "    Returns:\n",
    "        Integer representing the maximum amount of money that can be robbed.\n",
    "    \"\"\"\n",
    "    if not nums:\n",
    "        return 0\n",
    "    if len(nums) == 1:\n",
    "        return nums[0]\n",
    "    \n",
    "    # Variables to track max money for previous two houses\n",
    "    prev2, prev1 = 0, nums[0]\n",
    "    \n",
    "    # Iterate through houses starting from the second one\n",
    "    for i in range(1, len(nums)):\n",
    "        # Max of: skipping current house (prev1) or robbing current house (prev2 + nums[i])\n",
    "        curr = max(prev1, prev2 + nums[i])\n",
    "        prev2 = prev1\n",
    "        prev1 = curr\n",
    "    \n",
    "    return prev1\n",
    "\n",
    "# Example usage\n",
    "if __name__ == \"__main__\":\n",
    "    # Test cases\n",
    "    test_cases = [\n",
    "        [1, 2, 3, 1],       # Expected: 4 (rob houses 1 and 3: 1 + 3)\n",
    "        [2, 7, 9, 3, 1],    # Expected: 12 (rob houses 1, 3, 5: 2 + 9 + 1)\n",
    "        [],                  # Expected: 0\n",
    "        [5],                 # Expected: 5\n",
    "    ]\n",
    "    \n",
    "    for nums in test_cases:\n",
    "        result = rob(nums)\n",
    "        print(f\"Input: {nums}, Maximum money: {result}\")"
   ]
  }
 ],
 "metadata": {
  "kernelspec": {
   "display_name": "Python 3",
   "language": "python",
   "name": "python3"
  },
  "language_info": {
   "codemirror_mode": {
    "name": "ipython",
    "version": 3
   },
   "file_extension": ".py",
   "mimetype": "text/x-python",
   "name": "python",
   "nbconvert_exporter": "python",
   "pygments_lexer": "ipython3",
   "version": "3.12.4"
  }
 },
 "nbformat": 4,
 "nbformat_minor": 5
}
