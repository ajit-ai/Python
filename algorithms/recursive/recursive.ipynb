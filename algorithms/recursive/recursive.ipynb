{
 "cells": [
  {
   "cell_type": "code",
   "execution_count": 1,
   "id": "3bbd55c6",
   "metadata": {},
   "outputs": [
    {
     "name": "stdout",
     "output_type": "stream",
     "text": [
      "Factorial of 5 is 120\n"
     ]
    }
   ],
   "source": [
    "# A Python 3 program to\n",
    "# demonstrate working of\n",
    "# recursion\n",
    "\n",
    "# Recursive function\n",
    "def fact(n):\n",
    "\n",
    "    if (n==0):\n",
    "        # comment:\n",
    "        return 1\n",
    "    else:\n",
    "        # comment:\n",
    "        return n*fact(n-1)\n",
    "\n",
    "# Driver Code\n",
    "num = 5;\n",
    "print(\"Factorial of\",num,\"is\",fact(num))"
   ]
  },
  {
   "cell_type": "code",
   "execution_count": 4,
   "id": "2ea71a92",
   "metadata": {},
   "outputs": [
    {
     "name": "stdout",
     "output_type": "stream",
     "text": [
      "120\n"
     ]
    }
   ],
   "source": [
    "def factorial(n):\n",
    "    if n == 0:\n",
    "        return 1\n",
    "    else:\n",
    "        return n * factorial(n-1)\n",
    "    \n",
    "print(factorial(5))"
   ]
  },
  {
   "cell_type": "code",
   "execution_count": 5,
   "id": "d9e941f8",
   "metadata": {},
   "outputs": [
    {
     "name": "stdout",
     "output_type": "stream",
     "text": [
      "55\n"
     ]
    }
   ],
   "source": [
    "def fibonacci(n):\n",
    "    if n <= 1:\n",
    "        return n\n",
    "    else:\n",
    "        return fibonacci(n-1) + fibonacci(n-2)\n",
    "\n",
    "print(fibonacci(10))"
   ]
  },
  {
   "cell_type": "code",
   "execution_count": 6,
   "id": "9c4e0fbc",
   "metadata": {},
   "outputs": [
    {
     "name": "stdout",
     "output_type": "stream",
     "text": [
      "True\n",
      "False\n"
     ]
    }
   ],
   "source": [
    "def binary_search(arr, target):\n",
    "    if len(arr) == 0:\n",
    "        return False\n",
    "    mid = len(arr) // 2\n",
    "    if arr[mid] == target:\n",
    "        return True\n",
    "    elif arr[mid] < target:\n",
    "        return binary_search(arr[mid+1:], target)\n",
    "    else:\n",
    "        return binary_search(arr[:mid], target)\n",
    "    \n",
    "print(binary_search([1, 2, 3, 4, 5], 3))\n",
    "print(binary_search([1, 2, 3, 4, 5], 6))"
   ]
  },
  {
   "cell_type": "code",
   "execution_count": 9,
   "id": "34577b32",
   "metadata": {},
   "outputs": [
    {
     "name": "stdout",
     "output_type": "stream",
     "text": [
      "Move disk 1 from rod A to rod C\n",
      "Move disk 2 from rod A to rod B\n",
      "Move disk 1 from rod C to rod B\n",
      "Move disk 3 from rod A to rod C\n",
      "Move disk 1 from rod B to rod A\n",
      "Move disk 2 from rod B to rod C\n",
      "Move disk 1 from rod A to rod C\n"
     ]
    }
   ],
   "source": [
    "def tower_of_hanoi(n, from_rod, to_rod, aux_rod):\n",
    "    if n == 1:\n",
    "        print(f\"Move disk 1 from rod {from_rod} to rod {to_rod}\")\n",
    "        return\n",
    "    tower_of_hanoi(n-1, from_rod, aux_rod, to_rod)\n",
    "    print(f\"Move disk {n} from rod {from_rod} to rod {to_rod}\")\n",
    "    tower_of_hanoi(n-1, aux_rod, to_rod, from_rod)\n",
    "    \n",
    "tower_of_hanoi(3, 'A', 'C', 'B')"
   ]
  },
  {
   "cell_type": "code",
   "execution_count": 11,
   "id": "0bb9dffe",
   "metadata": {},
   "outputs": [
    {
     "name": "stdout",
     "output_type": "stream",
     "text": [
      "[11, 12, 22, 25, 34, 64, 90]\n"
     ]
    }
   ],
   "source": [
    "def merge_sort(arr):\n",
    "    if len(arr) <= 1:\n",
    "        return arr\n",
    "    mid = len(arr) // 2\n",
    "    left = merge_sort(arr[:mid])\n",
    "    right = merge_sort(arr[mid:])\n",
    "    return merge(left, right)\n",
    "\n",
    "def merge(left, right):\n",
    "    result = []\n",
    "    while len(left) > 0 and len(right) > 0:\n",
    "        if left[0] <= right[0]:\n",
    "            result.append(left.pop(0))\n",
    "        else:\n",
    "            result.append(right.pop(0))\n",
    "    result.extend(left)\n",
    "    result.extend(right)\n",
    "    return result\n",
    "\n",
    "# Example usage\n",
    "arr = [64, 34, 25, 12, 22, 11, 90]\n",
    "sorted_arr = merge_sort(arr)\n",
    "print(sorted_arr)"
   ]
  },
  {
   "cell_type": "code",
   "execution_count": 12,
   "id": "8646cfe6",
   "metadata": {},
   "outputs": [
    {
     "name": "stdout",
     "output_type": "stream",
     "text": [
      "[11, 12, 22, 25, 34, 64, 90]\n"
     ]
    }
   ],
   "source": [
    "def quick_sort(arr):\n",
    "    if len(arr) <= 1:\n",
    "        return arr\n",
    "    pivot = arr[0]\n",
    "    less = [x for x in arr[1:] if x <= pivot]\n",
    "    greater = [x for x in arr[1:] if x > pivot]\n",
    "    return quick_sort(less) + [pivot] + quick_sort(greater)\n",
    "\n",
    "# Example usage\n",
    "arr = [64, 34, 25, 12, 22, 11, 90]\n",
    "sorted_arr = quick_sort(arr)\n",
    "print(sorted_arr)"
   ]
  },
  {
   "cell_type": "code",
   "execution_count": 14,
   "id": "cdbbba7f",
   "metadata": {},
   "outputs": [
    {
     "name": "stdout",
     "output_type": "stream",
     "text": [
      "4\n",
      "2\n",
      "5\n",
      "1\n",
      "6\n",
      "3\n",
      "7\n"
     ]
    }
   ],
   "source": [
    "# Tree Traversal (In-Order)\n",
    "class Node:\n",
    "    def __init__(self, value):\n",
    "        self.value = value\n",
    "        self.left = None\n",
    "        self.right = None\n",
    "\n",
    "def in_order_traversal(node):\n",
    "    if node is None:\n",
    "        return\n",
    "    in_order_traversal(node.left)\n",
    "    print(node.value)\n",
    "    in_order_traversal(node.right)\n",
    "    \n",
    "root = Node(1)\n",
    "root.left = Node(2)\n",
    "root.right = Node(3)\n",
    "root.left.left = Node(4)\n",
    "root.left.right = Node(5)\n",
    "root.right.left = Node(6)\n",
    "root.right.right = Node(7)\n",
    "\n",
    "in_order_traversal(root)\n",
    "\n",
    "\n",
    "# Output:\n",
    "# 4\n",
    "# 2\n",
    "# 5\n",
    "# 1\n",
    "# 6\n",
    "# 3\n",
    "# 7"
   ]
  },
  {
   "cell_type": "markdown",
   "id": "06f7a4a1",
   "metadata": {},
   "source": [
    "Given an 8x8 chessboard, the task is to place 8 queens on the board such that no 2 queens threaten each other. Return a matrix of size 8x8, where 1 represents queen and 0 represents an empty position."
   ]
  },
  {
   "cell_type": "code",
   "execution_count": 1,
   "id": "14a8f948",
   "metadata": {},
   "outputs": [
    {
     "name": "stdout",
     "output_type": "stream",
     "text": [
      "1 0 0 0 0 0 0 0\n",
      "0 0 0 0 1 0 0 0\n",
      "0 0 0 0 0 0 0 1\n",
      "0 0 0 0 0 1 0 0\n",
      "0 0 1 0 0 0 0 0\n",
      "0 0 0 0 0 0 1 0\n",
      "0 1 0 0 0 0 0 0\n",
      "0 0 0 1 0 0 0 0\n"
     ]
    }
   ],
   "source": [
    "# Python program to implement 8 queen problem\n",
    "\n",
    "# Function to check if it is safe to place\n",
    "# the queen at board[row][col]\n",
    "def isSafe(mat, row, col):\n",
    "    n = len(mat)\n",
    "\n",
    "    # Check this col on upper side\n",
    "    for i in range(row):\n",
    "        if mat[i][col]:\n",
    "            return False\n",
    "\n",
    "    # Check upper diagonal on left side\n",
    "    i, j = row - 1, col - 1\n",
    "    while i >= 0 and j >= 0:\n",
    "        if mat[i][j]:\n",
    "            return False\n",
    "        i -= 1\n",
    "        j -= 1\n",
    "\n",
    "    # Check lower diagonal on left side\n",
    "    i, j = row - 1, col + 1\n",
    "    while i >= 0 and j < n:\n",
    "        if mat[i][j]:\n",
    "            return False\n",
    "        i -= 1\n",
    "        j += 1\n",
    "\n",
    "    return True\n",
    "\n",
    "def placeQueens(row, mat):\n",
    "    n = len(mat)\n",
    "\n",
    "    # base case: If all queens are placed\n",
    "    # then return true \n",
    "    if row == n:\n",
    "        return True\n",
    "\n",
    "    # Consider the row and try placing\n",
    "    # queen in all columns one by one\n",
    "    for i in range(n):\n",
    "\n",
    "        # Check if the queen can be placed\n",
    "        if isSafe(mat, row, i):\n",
    "            mat[row][i] = 1\n",
    "            if placeQueens(row + 1, mat):\n",
    "                return True\n",
    "            mat[row][i] = 0\n",
    "    return False\n",
    "\n",
    "# Function to find the solution\n",
    "# to the 8-Queens problem\n",
    "def queens():\n",
    "    n = 8\n",
    "\n",
    "    # Initialize the board\n",
    "    mat = [[0] * n for _ in range(n)]\n",
    "\n",
    "    placeQueens(0, mat)\n",
    "\n",
    "    return mat\n",
    "\n",
    "if __name__ == \"__main__\":\n",
    "    res = queens()\n",
    "    for v in res:\n",
    "        print(\" \".join(map(str, v)))"
   ]
  },
  {
   "cell_type": "code",
   "execution_count": 2,
   "id": "1d950a01",
   "metadata": {},
   "outputs": [
    {
     "name": "stdout",
     "output_type": "stream",
     "text": [
      "5\n",
      "\n",
      "Layout: \n",
      "Q X X X X X X X \n",
      "X X Q X X X X X \n",
      "X X X X Q X X X \n",
      "X Q X X X X X X \n",
      "X X X Q X X X X \n",
      "X X X X X X X X \n",
      "X X X X X X X X \n",
      "X X X X X X X X \n",
      "\n"
     ]
    }
   ],
   "source": [
    "# The chessboard is represented by a 2D array.\n",
    "board = [[False] * 8 for _ in range(8)]\n",
    "# N x M is the dimension of the chess board.\n",
    "N, M = 8, 8\n",
    "# The minimum number of queens required.\n",
    "# Initially, set to MAX_VALUE.\n",
    "minCount = float('inf')\n",
    "layout = \"\"  # Stores the best layout.\n",
    "\n",
    "\n",
    "# Stores the current layout in 'layout'\n",
    "# variable as String.\n",
    "def storeLayout():\n",
    "    global layout\n",
    "    str_layout = \"\"\n",
    "    for i in range(N):\n",
    "        for j in range(M):\n",
    "            if board[i][j]:\n",
    "                str_layout += \"Q \"\n",
    "            else:\n",
    "                str_layout += \"X \"\n",
    "        str_layout += \"\\n\"\n",
    "    layout = str_layout\n",
    "\n",
    "\n",
    "# Returns 'True' if the square (row, col) is\n",
    "# being attacked by at least one queen.\n",
    "def isAttacked(row, col):\n",
    "    # Check the 'col'th column for any queen.\n",
    "    for i in range(N):\n",
    "        if board[i][col]:\n",
    "            return True\n",
    "\n",
    "    # Check the 'row'th row for any queen.\n",
    "    for j in range(M):\n",
    "        if board[row][j]:\n",
    "            return True\n",
    "\n",
    "    # Check the diagonals for any queen.\n",
    "    for i in range(min(N, M)):\n",
    "        if row - i >= 0 and col - i >= 0 and board[row - i][col - i]:\n",
    "            return True\n",
    "        elif row - i >= 0 and col + i < M and board[row - i][col + i]:\n",
    "            return True\n",
    "        elif row + i < N and col - i >= 0 and board[row + i][col - i]:\n",
    "            return True\n",
    "        elif row + i < N and col + i < M and board[row + i][col + i]:\n",
    "            return True\n",
    "    return False\n",
    "\n",
    "\n",
    "# Finds minimum count of queens needed and places them.\n",
    "def placeQueen(countSoFar):\n",
    "    global minCount\n",
    "    if countSoFar >= minCount:\n",
    "        # We've already obtained a solution with lesser or\n",
    "        # same number of queens. Hence, no need to proceed.\n",
    "        return\n",
    "\n",
    "    flag = False\n",
    "    while not flag:\n",
    "        for i in range(N):\n",
    "            for j in range(M):\n",
    "                if not isAttacked(i, j):\n",
    "                    i = N\n",
    "                    flag = True\n",
    "                    break\n",
    "            if flag:\n",
    "                break\n",
    "        if flag:\n",
    "            break\n",
    "\n",
    "        # All squares are covered. Hence, this\n",
    "        # is the best solution till now.\n",
    "        minCount = countSoFar\n",
    "        storeLayout()\n",
    "        break\n",
    "\n",
    "    # Checks if there exists any unattacked cells.\n",
    "    for i in range(N):\n",
    "        for j in range(M):\n",
    "            if not isAttacked(i, j):\n",
    "                # Square (i, j) is unattacked.\n",
    "                # Therefore, place a queen here.\n",
    "                board[i][j] = True\n",
    "\n",
    "                # Increment 'count' and proceed\n",
    "                # recursively.\n",
    "                placeQueen(countSoFar + 1)\n",
    "\n",
    "                # Remove this queen and attempt to\n",
    "                # find a better solution.\n",
    "                board[i][j] = False\n",
    "\n",
    "\n",
    "# Driver code\n",
    "placeQueen(0)\n",
    "\n",
    "print(minCount)\n",
    "print(\"\\nLayout: \\n\" + layout)"
   ]
  }
 ],
 "metadata": {
  "kernelspec": {
   "display_name": "Python 3",
   "language": "python",
   "name": "python3"
  },
  "language_info": {
   "codemirror_mode": {
    "name": "ipython",
    "version": 3
   },
   "file_extension": ".py",
   "mimetype": "text/x-python",
   "name": "python",
   "nbconvert_exporter": "python",
   "pygments_lexer": "ipython3",
   "version": "3.12.4"
  }
 },
 "nbformat": 4,
 "nbformat_minor": 5
}
