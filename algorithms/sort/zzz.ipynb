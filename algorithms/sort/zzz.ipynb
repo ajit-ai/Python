{
 "cells": [
  {
   "cell_type": "code",
   "execution_count": 3,
   "id": "34998986",
   "metadata": {},
   "outputs": [
    {
     "name": "stdout",
     "output_type": "stream",
     "text": [
      "Hello, world!\n"
     ]
    }
   ],
   "source": [
    "print ('Hello, world!')"
   ]
  },
  {
   "cell_type": "code",
   "execution_count": 4,
   "id": "f6d70a86",
   "metadata": {},
   "outputs": [
    {
     "name": "stdout",
     "output_type": "stream",
     "text": [
      "Hi, g.\n"
     ]
    }
   ],
   "source": [
    "name = input('What is your name?\\n')\n",
    "print (f'Hi, {name}.')"
   ]
  },
  {
   "cell_type": "code",
   "execution_count": 5,
   "id": "c6c292a6",
   "metadata": {},
   "outputs": [
    {
     "name": "stdout",
     "output_type": "stream",
     "text": [
      "iteration 0 is john\n",
      "iteration 1 is pat\n",
      "iteration 2 is gary\n",
      "iteration 3 is michael\n"
     ]
    }
   ],
   "source": [
    "friends = ['john', 'pat', 'gary', 'michael']\n",
    "for i, name in enumerate(friends):\n",
    "    print (f\"iteration {i} is {name}\")"
   ]
  },
  {
   "cell_type": "code",
   "execution_count": 6,
   "id": "6ec05acb",
   "metadata": {},
   "outputs": [
    {
     "name": "stdout",
     "output_type": "stream",
     "text": [
      "This generation has 1 babies\n",
      "This generation has 2 babies\n",
      "This generation has 3 babies\n",
      "This generation has 5 babies\n",
      "This generation has 8 babies\n",
      "This generation has 13 babies\n",
      "This generation has 21 babies\n",
      "This generation has 34 babies\n",
      "This generation has 55 babies\n",
      "This generation has 89 babies\n"
     ]
    }
   ],
   "source": [
    "parents, babies = (1, 1)\n",
    "while babies < 100:\n",
    "    print (f'This generation has {babies} babies')\n",
    "    parents, babies = (babies, parents + babies)"
   ]
  },
  {
   "cell_type": "code",
   "execution_count": null,
   "id": "283f780b",
   "metadata": {},
   "outputs": [
    {
     "name": "stdout",
     "output_type": "stream",
     "text": [
      "Hello Jack\n",
      "Hello Jill\n",
      "Hello Bob\n"
     ]
    }
   ],
   "source": [
    "def greet(name):\n",
    "    print ('Hello', name)\n",
    "\n",
    "greet('Jack')\n",
    "greet('Jill')\n",
    "greet('Bob')\n",
    "greet(\"\")"
   ]
  }
 ],
 "metadata": {
  "kernelspec": {
   "display_name": "Python 3",
   "language": "python",
   "name": "python3"
  },
  "language_info": {
   "codemirror_mode": {
    "name": "ipython",
    "version": 3
   },
   "file_extension": ".py",
   "mimetype": "text/x-python",
   "name": "python",
   "nbconvert_exporter": "python",
   "pygments_lexer": "ipython3",
   "version": "3.12.4"
  }
 },
 "nbformat": 4,
 "nbformat_minor": 5
}
