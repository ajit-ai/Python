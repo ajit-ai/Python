{
 "cells": [
  {
   "cell_type": "markdown",
   "id": "1b24c06e",
   "metadata": {},
   "source": [
    "### Backtracking\n",
    "\n",
    "Backtracking is a problem-solving algorithmic technique that involves finding a solution incrementally by trying different options and undoing them if they lead to a dead end. The backtracking algorithm is a recursive algorithm that is used to solve problems by making a series of choices, and if a choice leads to a dead end, it backtracks to the last valid choice made and tries a different path. It is often used to solve problems such as the N-Queens puzzle, Sudoku, and the Knight's Tour.\n",
    "\n",
    "Backtracking algorithms are like problem-solving strategies that help explore different options to find the best solution. They work by trying out different paths and if one doesn't work, they backtrack and try another until they find the right one. It's like solving a puzzle by testing different pieces until they fit together perfectly."
   ]
  },
  {
   "cell_type": "code",
   "execution_count": 1,
   "id": "87365c9c",
   "metadata": {},
   "outputs": [
    {
     "name": "stdout",
     "output_type": "stream",
     "text": [
      "Solving 4-Queens:\n",
      "['.', 'Q', '.', '.']\n",
      "['.', '.', '.', 'Q']\n",
      "['Q', '.', '.', '.']\n",
      "['.', '.', 'Q', '.']\n"
     ]
    }
   ],
   "source": [
    "#N-Queens Puzzle\n",
    "#The N-Queens puzzle involves placing N queens on an NxN chessboard such that no two queens threaten each other (i.e., no two queens share the same row, column, or diagona\n",
    "\n",
    "def solve_n_queens(n):\n",
    "    board = [[0] * n for _ in range(n)]\n",
    "    def is_safe(row, col):\n",
    "        for i in range(row):\n",
    "            if board[i][col] == 1:\n",
    "                return False\n",
    "            if col - (row - i) >= 0 and board[i][col - (row - i)] == 1:\n",
    "                return False\n",
    "            if col + (row - i) < n and board[i][col + (row - i)] == 1:\n",
    "                return False\n",
    "        return True\n",
    "    \n",
    "    def solve(row):\n",
    "        if row == n:\n",
    "            return True\n",
    "        for col in range(n):\n",
    "            if is_safe(row, col):\n",
    "                board[row][col] = 1\n",
    "                if solve(row + 1):\n",
    "                    return True\n",
    "                board[row][col] = 0\n",
    "        return False\n",
    "    \n",
    "    if solve(0):\n",
    "        for row in board:\n",
    "            print([\"Q\" if cell == 1 else \".\" for cell in row])\n",
    "    else:\n",
    "        print(\"No solution exists\")\n",
    "\n",
    "if __name__ == \"__main__\":\n",
    "    n = 4\n",
    "    print(f\"Solving {n}-Queens:\")\n",
    "    solve_n_queens(n)"
   ]
  },
  {
   "cell_type": "code",
   "execution_count": 2,
   "id": "c9503fbf",
   "metadata": {},
   "outputs": [
    {
     "name": "stdout",
     "output_type": "stream",
     "text": [
      "Found 2 solutions for 4-Queens:\n",
      "\n",
      "Solution 1:\n",
      "['.', 'Q', '.', '.']\n",
      "['.', '.', '.', 'Q']\n",
      "['Q', '.', '.', '.']\n",
      "['.', '.', 'Q', '.']\n",
      "\n",
      "Solution 2:\n",
      "['.', '.', 'Q', '.']\n",
      "['Q', '.', '.', '.']\n",
      "['.', '.', '.', 'Q']\n",
      "['.', 'Q', '.', '.']\n"
     ]
    }
   ],
   "source": [
    "def solve_n_queens_all(n):\n",
    "    board = [[0] * n for _ in range(n)]\n",
    "    solutions = []\n",
    "    \n",
    "    def is_safe(row, col):\n",
    "        for i in range(row):\n",
    "            if board[i][col] == 1:\n",
    "                return False\n",
    "            if col - (row - i) >= 0 and board[i][col - (row - i)] == 1:\n",
    "                return False\n",
    "            if col + (row - i) < n and board[i][col + (row - i)] == 1:\n",
    "                return False\n",
    "        return True\n",
    "    \n",
    "    def solve(row):\n",
    "        if row == n:\n",
    "            solutions.append([[\"Q\" if cell == 1 else \".\" for cell in row] for row in board])\n",
    "            return\n",
    "        for col in range(n):\n",
    "            if is_safe(row, col):\n",
    "                board[row][col] = 1\n",
    "                solve(row + 1)\n",
    "                board[row][col] = 0\n",
    "    \n",
    "    solve(0)\n",
    "    print(f\"Found {len(solutions)} solutions for {n}-Queens:\")\n",
    "    for i, solution in enumerate(solutions, 1):\n",
    "        print(f\"\\nSolution {i}:\")\n",
    "        for row in solution:\n",
    "            print(row)\n",
    "    return len(solutions)\n",
    "\n",
    "if __name__ == \"__main__\":\n",
    "    n = 4\n",
    "    solve_n_queens_all(n)"
   ]
  },
  {
   "cell_type": "code",
   "execution_count": 3,
   "id": "704dff3f",
   "metadata": {},
   "outputs": [
    {
     "name": "stdout",
     "output_type": "stream",
     "text": [
      "Found 2 solutions for 4-Queens:\n",
      "\n",
      "Solution 1:\n",
      "['.', 'Q', '.', '.']\n",
      "['.', '.', '.', 'Q']\n",
      "['Q', '.', '.', '.']\n",
      "['.', '.', 'Q', '.']\n",
      "\n",
      "Solution 2:\n",
      "['.', '.', 'Q', '.']\n",
      "['Q', '.', '.', '.']\n",
      "['.', '.', '.', 'Q']\n",
      "['.', 'Q', '.', '.']\n"
     ]
    }
   ],
   "source": [
    "def solve_n_queens_bit(n):\n",
    "    solutions = []\n",
    "    def solve(row, ld, rd, all_ones=(1 << n) - 1):\n",
    "        if row == all_ones:\n",
    "            solutions.append(board[:])\n",
    "            return\n",
    "        pos = all_ones & (~(row | ld | rd))\n",
    "        while pos:\n",
    "            bit = pos & -pos\n",
    "            pos -= bit\n",
    "            col = bit.bit_length() - 1\n",
    "            board.append(col)\n",
    "            solve(row | bit, (ld | bit) << 1, (rd | bit) >> 1)\n",
    "            board.pop()\n",
    "    \n",
    "    board = []\n",
    "    solve(0, 0, 0)\n",
    "    print(f\"Found {len(solutions)} solutions for {n}-Queens:\")\n",
    "    for i, solution in enumerate(solutions, 1):\n",
    "        print(f\"\\nSolution {i}:\")\n",
    "        for row in range(n):\n",
    "            print([\"Q\" if solution[row] == col else \".\" for col in range(n)])\n",
    "    return len(solutions)\n",
    "\n",
    "if __name__ == \"__main__\":\n",
    "    n = 4\n",
    "    solve_n_queens_bit(n)"
   ]
  },
  {
   "cell_type": "code",
   "execution_count": null,
   "id": "bcb9a569",
   "metadata": {},
   "outputs": [
    {
     "name": "stdout",
     "output_type": "stream",
     "text": [
      "Solving Sudoku:\n",
      "[5, 3, 4, 6, 7, 8, 9, 1, 2]\n",
      "[6, 7, 2, 1, 9, 5, 3, 4, 8]\n",
      "[1, 9, 8, 3, 4, 2, 5, 6, 7]\n",
      "[8, 5, 9, 7, 6, 1, 4, 2, 3]\n",
      "[4, 2, 6, 8, 5, 3, 7, 9, 1]\n",
      "[7, 1, 3, 9, 2, 4, 8, 5, 6]\n",
      "[9, 6, 1, 5, 3, 7, 2, 8, 4]\n",
      "[2, 8, 7, 4, 1, 9, 6, 3, 5]\n",
      "[3, 4, 5, 2, 8, 6, 1, 7, 9]\n"
     ]
    }
   ],
   "source": [
    "# Sudoku Solver\n",
    "# The Sudoku solver fills a 9x9 grid such that each row, column, and 3x3 subgrid contains all digits from 1 to 9 exactly once.\n",
    "\n",
    "def solve_sudoku(board):\n",
    "    def is_valid(row, col, num):\n",
    "        for i in range(9):\n",
    "            if board[row][i] == num or board[i][col] == num:\n",
    "                return False\n",
    "        start_row, start_col = 3 * (row // 3), 3 * (col // 3)\n",
    "        for i in range(3):\n",
    "            for j in range(3):\n",
    "                if board[start_row + i][start_col + j] == num:\n",
    "                    return False\n",
    "        return True\n",
    "    \n",
    "    def solve():\n",
    "        for row in range(9):\n",
    "            for col in range(9):\n",
    "                if board[row][col] == 0:\n",
    "                    for num in range(1, 10):\n",
    "                        if is_valid(row, col, num):\n",
    "                            board[row][col] = num\n",
    "                            if solve():\n",
    "                                return True\n",
    "                            board[row][col] = 0\n",
    "                    return False\n",
    "        return True\n",
    "    \n",
    "    if solve():\n",
    "        for row in board:\n",
    "            print(row)\n",
    "    else:\n",
    "        print(\"No solution exists\")\n",
    "\n",
    "if __name__ == \"__main__\":\n",
    "    board = [\n",
    "        [5,3,0,0,7,0,0,0,0],\n",
    "        [6,0,0,1,9,5,0,0,0],\n",
    "        [0,9,8,0,0,0,0,6,0],\n",
    "        [8,0,0,0,6,0,0,0,3],\n",
    "        [4,0,0,8,0,3,0,0,1],\n",
    "        [7,0,0,0,2,0,0,0,6],\n",
    "        [0,6,0,0,0,0,2,8,0],\n",
    "        [0,0,0,4,1,9,0,0,5],\n",
    "        [0,0,0,0,8,0,0,7,9]\n",
    "    ]\n",
    "    print(\"Solving Sudoku:\")\n",
    "    solve_sudoku(board)"
   ]
  }
 ],
 "metadata": {
  "kernelspec": {
   "display_name": "Python 3",
   "language": "python",
   "name": "python3"
  },
  "language_info": {
   "codemirror_mode": {
    "name": "ipython",
    "version": 3
   },
   "file_extension": ".py",
   "mimetype": "text/x-python",
   "name": "python",
   "nbconvert_exporter": "python",
   "pygments_lexer": "ipython3",
   "version": "3.12.4"
  }
 },
 "nbformat": 4,
 "nbformat_minor": 5
}
