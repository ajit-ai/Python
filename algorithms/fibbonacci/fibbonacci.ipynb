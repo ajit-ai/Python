{
 "cells": [
  {
   "cell_type": "markdown",
   "id": "ce7bbc46",
   "metadata": {},
   "source": [
    "1. Recursive Fibonacci\n",
    "Description: Recursively computes the nth Fibonacci number by summing the previous two numbers.\n",
    "Pros: Simple, mirrors mathematical definition.\n",
    "Cons: Exponential time complexity (O(2^n)), inefficient for large n.\n",
    "Output: Recursive Fibonacci(10) = 55"
   ]
  },
  {
   "cell_type": "code",
   "execution_count": 1,
   "id": "c06bd6d0",
   "metadata": {},
   "outputs": [
    {
     "name": "stdout",
     "output_type": "stream",
     "text": [
      "Recursive Fibonacci(10) = 55\n"
     ]
    }
   ],
   "source": [
    "def recursive_fibonacci(n):\n",
    "    if n < 0:\n",
    "        return 0\n",
    "    if n <= 1:\n",
    "        return n\n",
    "    return recursive_fibonacci(n-1) + recursive_fibonacci(n-2)\n",
    "\n",
    "# Test\n",
    "print(f\"Recursive Fibonacci(10) = {recursive_fibonacci(10)}\")"
   ]
  },
  {
   "cell_type": "markdown",
   "id": "7218d358",
   "metadata": {},
   "source": [
    "2. Iterative Fibonacci\n",
    "Description: Uses a loop to compute the nth Fibonacci number, tracking only the last two numbers.\n",
    "Pros: Linear time (O(n)), constant space (O(1)), efficient.\n",
    "Cons: Less elegant than recursive.\n",
    "Output: Iterative Fibonacci(10) = 55"
   ]
  },
  {
   "cell_type": "code",
   "execution_count": 2,
   "id": "608aa29c",
   "metadata": {},
   "outputs": [
    {
     "name": "stdout",
     "output_type": "stream",
     "text": [
      "Iterative Fibonacci(10) = 55\n"
     ]
    }
   ],
   "source": [
    "def iterative_fibonacci(n):\n",
    "    if n < 0:\n",
    "        return 0\n",
    "    if n <= 1:\n",
    "        return n\n",
    "    a, b = 0, 1\n",
    "    for _ in range(2, n + 1):\n",
    "        a, b = b, a + b\n",
    "    return b\n",
    "\n",
    "# Test\n",
    "print(f\"Iterative Fibonacci(10) = {iterative_fibonacci(10)}\")"
   ]
  },
  {
   "cell_type": "markdown",
   "id": "14636a1a",
   "metadata": {},
   "source": [
    "3. Dynamic Programming (Memoization)\n",
    "Description: Caches results in a dictionary to optimize recursive calls.\n",
    "Pros: Linear time (O(n)) with caching, avoids redundant computations.\n",
    "Cons: O(n) space for cache.\n",
    "Output: Memoized Fibonacci(10) = 55"
   ]
  },
  {
   "cell_type": "code",
   "execution_count": 3,
   "id": "4e73a574",
   "metadata": {},
   "outputs": [
    {
     "name": "stdout",
     "output_type": "stream",
     "text": [
      "Memoized Fibonacci(10) = 55\n"
     ]
    }
   ],
   "source": [
    "def memoized_fibonacci(n, memo=None):\n",
    "    if memo is None:\n",
    "        memo = {}\n",
    "    if n < 0:\n",
    "        return 0\n",
    "    if n <= 1:\n",
    "        return n\n",
    "    if n in memo:\n",
    "        return memo[n]\n",
    "    memo[n] = memoized_fibonacci(n-1, memo) + memoized_fibonacci(n-2, memo)\n",
    "    return memo[n]\n",
    "\n",
    "# Test\n",
    "print(f\"Memoized Fibonacci(10) = {memoized_fibonacci(10)}\")"
   ]
  },
  {
   "cell_type": "markdown",
   "id": "68ad2361",
   "metadata": {},
   "source": [
    "4. Dynamic Programming (Tabulation)\n",
    "Description: Builds an array bottom-up to store Fibonacci numbers up to n.\n",
    "Pros: Linear time (O(n)), straightforward iteration.\n",
    "Cons: O(n) space for array.\n",
    "Output: Tabulated Fibonacci(10) = 55"
   ]
  },
  {
   "cell_type": "code",
   "execution_count": 4,
   "id": "c62c1018",
   "metadata": {},
   "outputs": [
    {
     "name": "stdout",
     "output_type": "stream",
     "text": [
      "Tabulated Fibonacci(10) = 55\n"
     ]
    }
   ],
   "source": [
    "def tabulated_fibonacci(n):\n",
    "    if n < 0:\n",
    "        return 0\n",
    "    if n <= 1:\n",
    "        return n\n",
    "    dp = [0] * (n + 1)\n",
    "    dp[1] = 1\n",
    "    for i in range(2, n + 1):\n",
    "        dp[i] = dp[i-1] + dp[i-2]\n",
    "    return dp[n]\n",
    "\n",
    "# Test\n",
    "print(f\"Tabulated Fibonacci(10) = {tabulated_fibonacci(10)}\")"
   ]
  },
  {
   "cell_type": "markdown",
   "id": "29da202d",
   "metadata": {},
   "source": [
    "5. Matrix Exponentiation\n",
    "Description: Uses the matrix identity [[1,1],[1,0]]^(n-1) * [F(1),F(0)] = [F(n),F(n-1)] with fast exponentiation.\n",
    "Pros: Logarithmic time (O(log n)), ideal for large n.\n",
    "Cons: Complex, requires matrix operations.\n",
    "Output: Matrix Fibonacci(10) = 55"
   ]
  },
  {
   "cell_type": "code",
   "execution_count": 5,
   "id": "5dd0dfff",
   "metadata": {},
   "outputs": [
    {
     "name": "stdout",
     "output_type": "stream",
     "text": [
      "Matrix Fibonacci(10) = 55\n"
     ]
    }
   ],
   "source": [
    "def matrix_multiply(a, b):\n",
    "    return [[a[0][0]*b[0][0] + a[0][1]*b[1][0], a[0][0]*b[0][1] + a[0][1]*b[1][1]],\n",
    "            [a[1][0]*b[0][0] + a[1][1]*b[1][0], a[1][0]*b[0][1] + a[1][1]*b[1][1]]]\n",
    "\n",
    "def matrix_power(matrix, n):\n",
    "    if n == 1:\n",
    "        return matrix\n",
    "    half = matrix_power(matrix, n // 2)\n",
    "    if n % 2 == 0:\n",
    "        return matrix_multiply(half, half)\n",
    "    return matrix_multiply(matrix_multiply(half, half), matrix)\n",
    "\n",
    "def matrix_fibonacci(n):\n",
    "    if n < 0:\n",
    "        return 0\n",
    "    if n <= 1:\n",
    "        return n\n",
    "    matrix = [[1, 1], [1, 0]]\n",
    "    result = matrix_power(matrix, n - 1)\n",
    "    return result[0][0]\n",
    "\n",
    "# Test\n",
    "print(f\"Matrix Fibonacci(10) = {matrix_fibonacci(10)}\")"
   ]
  },
  {
   "cell_type": "markdown",
   "id": "b1c764c9",
   "metadata": {},
   "source": [
    "6. Generator Function\n",
    "Description: Yields the Fibonacci sequence up to n terms using a generator.\n",
    "Pros: Memory-efficient, suitable for streaming.\n",
    "Cons: Requires iteration to access specific numbers.\n",
    "Output: Generator Fibonacci sequence up to 10: [0, 1, 1, 2, 3, 5, 8, 13, 21, 34, 55]"
   ]
  },
  {
   "cell_type": "code",
   "execution_count": 6,
   "id": "be05056b",
   "metadata": {},
   "outputs": [
    {
     "name": "stdout",
     "output_type": "stream",
     "text": [
      "Generator Fibonacci sequence up to 10: [0, 1, 1, 2, 3, 5, 8, 13, 21, 34, 55]\n"
     ]
    }
   ],
   "source": [
    "def generator_fibonacci(n):\n",
    "    if n < 0:\n",
    "        return\n",
    "    a, b = 0, 1\n",
    "    for _ in range(n + 1):\n",
    "        yield a\n",
    "        a, b = b, a + b\n",
    "\n",
    "# Test\n",
    "print(f\"Generator Fibonacci sequence up to 10: {list(generator_fibonacci(10))}\")"
   ]
  },
  {
   "cell_type": "markdown",
   "id": "508bfeb3",
   "metadata": {},
   "source": [
    "7. List Comprehension\n",
    "Description: Generates the Fibonacci sequence using list comprehension for initialization and appending.\n",
    "Pros: Compact, Pythonic.\n",
    "Cons: O(n) space, less readable for complex logic.\n",
    "Output: List Comprehension Fibonacci sequence up to 10: [0, 1, 1, 2, 3, 5, 8, 13, 21, 34, 55]"
   ]
  },
  {
   "cell_type": "code",
   "execution_count": 7,
   "id": "2ae78469",
   "metadata": {},
   "outputs": [
    {
     "name": "stdout",
     "output_type": "stream",
     "text": [
      "List Comprehension Fibonacci sequence up to 10: [0, 1, 1, 2, 3, 5, 8, 13, 21, 34, 55]\n"
     ]
    }
   ],
   "source": [
    "def listcomp_fibonacci(n):\n",
    "    if n < 0:\n",
    "        return []\n",
    "    fib = [0, 1] if n > 0 else [0]\n",
    "    [fib.append(fib[-1] + fib[-2]) for _ in range(2, n + 1)]\n",
    "    return fib[:n + 1]\n",
    "\n",
    "# Test\n",
    "print(f\"List Comprehension Fibonacci sequence up to 10: {listcomp_fibonacci(10)}\")"
   ]
  },
  {
   "cell_type": "markdown",
   "id": "7c0b03e9",
   "metadata": {},
   "source": [
    "8. Lambda Function\n",
    "Description: Uses a lambda function for recursive Fibonacci computation.\n",
    "Pros: Compact, functional style.\n",
    "Cons: O(2^n) complexity, less readable.\n",
    "Output: Lambda Fibonacci(10) = 55\n"
   ]
  },
  {
   "cell_type": "code",
   "execution_count": 8,
   "id": "5a024911",
   "metadata": {},
   "outputs": [
    {
     "name": "stdout",
     "output_type": "stream",
     "text": [
      "Lambda Fibonacci(10) = 55\n"
     ]
    }
   ],
   "source": [
    "lambda_fibonacci = lambda n: 0 if n < 0 else (n if n <= 1 else lambda_fibonacci(n-1) + lambda_fibonacci(n-2))\n",
    "\n",
    "# Test\n",
    "print(f\"Lambda Fibonacci(10) = {lambda_fibonacci(10)}\")"
   ]
  },
  {
   "cell_type": "markdown",
   "id": "0ae03203",
   "metadata": {},
   "source": [
    "9. Binet’s Formula\n",
    "Description: Uses the closed-form expression F(n) = (φ^n - ψ^n) / √5, where φ is the golden ratio.\n",
    "Pros: Constant time (O(1)), mathematically elegant.\n",
    "Cons: Floating-point precision issues for large n (>70).\n",
    "Output: Binet Fibonacci(10) = 55"
   ]
  },
  {
   "cell_type": "code",
   "execution_count": 9,
   "id": "23c41771",
   "metadata": {},
   "outputs": [
    {
     "name": "stdout",
     "output_type": "stream",
     "text": [
      "Binet Fibonacci(10) = 55\n"
     ]
    }
   ],
   "source": [
    "import math\n",
    "\n",
    "def binet_fibonacci(n):\n",
    "    if n < 0:\n",
    "        return 0\n",
    "    phi = (1 + math.sqrt(5)) / 2\n",
    "    psi = (1 - math.sqrt(5)) / 2\n",
    "    return int((math.pow(phi, n) - math.pow(psi, n)) / math.sqrt(5))\n",
    "\n",
    "# Test\n",
    "print(f\"Binet Fibonacci(10) = {binet_fibonacci(10)}\")"
   ]
  },
  {
   "cell_type": "markdown",
   "id": "57461d60",
   "metadata": {},
   "source": [
    "10. PySpark UDF (Distributed Computing)\n",
    "Description: Implements Fibonacci as a PySpark UDF to compute numbers in a distributed DataFrame, leveraging your PySpark 3.5.0 setup on Windows 11.\n",
    "Pros: Scales to large datasets, integrates with MySQL/Snowflake.\n",
    "Cons: Overhead for small computations, requires PySpark setup."
   ]
  },
  {
   "cell_type": "code",
   "execution_count": 5,
   "id": "b4ea0c0a",
   "metadata": {},
   "outputs": [
    {
     "name": "stdout",
     "output_type": "stream",
     "text": [
      "Error: Authentication plugin 'caching_sha2_password' is not supported\n"
     ]
    }
   ],
   "source": [
    "import mysql.connector\n",
    "from mysql.connector import Error\n",
    "\n",
    "# Define iterative Fibonacci function\n",
    "def iterative_fibonacci(n):\n",
    "    if n < 0:\n",
    "        return 0\n",
    "    if n <= 1:\n",
    "        return n\n",
    "    a, b = 0, 1\n",
    "    for _ in range(2, n + 1):\n",
    "        a, b = b, a + b\n",
    "    return b\n",
    "\n",
    "db_config = {\n",
    "    \"host\": \"127.0.0.1\",\n",
    "    \"port\": \"3306\",\n",
    "    \"user\": \"root\",\n",
    "    \"password\": \"mysql\",\n",
    "    \"auth_plugin\": 'caching_sha2_password',\n",
    "    \"database\": \"emp\"\n",
    "}\n",
    "\n",
    "mydb = None  # Initialize mydb to None\n",
    "mycursor = None # Initialize mycursor to None\n",
    "\n",
    "try:\n",
    "    mydb = mysql.connector.connect(**db_config)\n",
    "    mycursor = mydb.cursor()\n",
    "    mycursor.execute(\"CREATE TABLE IF NOT EXISTS fibonacci (n INT, fib INT)\")\n",
    "    for i in range(11):\n",
    "        fib = iterative_fibonacci(i)\n",
    "        mycursor.execute(\"INSERT INTO fibonacci (n, fib) VALUES (%s, %s)\", (i, fib))\n",
    "    mydb.commit()\n",
    "    mycursor.execute(\"SELECT * FROM fibonacci\")\n",
    "    for row in mycursor.fetchall():\n",
    "        print(row)\n",
    "except Error as e:\n",
    "    print(f\"Error: {e}\")\n",
    "finally:\n",
    "    if mycursor:\n",
    "        mycursor.close()\n",
    "    if mydb and mydb.is_connected(): # Check if mydb is not None before calling is_connected()\n",
    "        mydb.close()"
   ]
  }
 ],
 "metadata": {
  "kernelspec": {
   "display_name": "Python 3",
   "language": "python",
   "name": "python3"
  },
  "language_info": {
   "codemirror_mode": {
    "name": "ipython",
    "version": 3
   },
   "file_extension": ".py",
   "mimetype": "text/x-python",
   "name": "python",
   "nbconvert_exporter": "python",
   "pygments_lexer": "ipython3",
   "version": "3.12.4"
  }
 },
 "nbformat": 4,
 "nbformat_minor": 5
}
