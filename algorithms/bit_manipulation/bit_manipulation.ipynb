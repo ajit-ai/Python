{
 "cells": [
  {
   "cell_type": "code",
   "execution_count": 1,
   "id": "00381bc8",
   "metadata": {},
   "outputs": [
    {
     "name": "stdout",
     "output_type": "stream",
     "text": [
      "1\n"
     ]
    }
   ],
   "source": [
    "# 1. **Bitwise AND**: Perform a bitwise AND operation on two numbers.\n",
    "\n",
    "a = 5   # 101\n",
    "b = 3   # 011\n",
    "result = a & b  # 001\n",
    "print(result)  # 1\n"
   ]
  },
  {
   "cell_type": "code",
   "execution_count": 2,
   "id": "cea86aa5",
   "metadata": {},
   "outputs": [
    {
     "name": "stdout",
     "output_type": "stream",
     "text": [
      "7\n"
     ]
    }
   ],
   "source": [
    "# 2. **Bitwise OR**: Perform a bitwise OR operation on two numbers.\n",
    "\n",
    "a = 5   # 101\n",
    "b = 3   # 011\n",
    "result = a | b  # 111\n",
    "print(result)  # 7\n"
   ]
  },
  {
   "cell_type": "code",
   "execution_count": 3,
   "id": "b3ac162c",
   "metadata": {},
   "outputs": [
    {
     "name": "stdout",
     "output_type": "stream",
     "text": [
      "6\n"
     ]
    }
   ],
   "source": [
    "#3. **Bitwise XOR**: Perform a bitwise XOR operation on two numbers.\n",
    "\n",
    "a = 5   # 101\n",
    "b = 3   # 011\n",
    "result = a ^ b  # 110\n",
    "print(result)  # 6\n"
   ]
  },
  {
   "cell_type": "code",
   "execution_count": 4,
   "id": "119d0370",
   "metadata": {},
   "outputs": [
    {
     "name": "stdout",
     "output_type": "stream",
     "text": [
      "10\n"
     ]
    }
   ],
   "source": [
    "#4. **Left Shift**: Shift the bits of a number to the left by a specified number of places.\n",
    "\n",
    "a = 5   # 101\n",
    "result = a << 1  # 1010\n",
    "print(result)  # 10"
   ]
  },
  {
   "cell_type": "code",
   "execution_count": 5,
   "id": "8c3c0a53",
   "metadata": {},
   "outputs": [
    {
     "name": "stdout",
     "output_type": "stream",
     "text": [
      "5\n"
     ]
    }
   ],
   "source": [
    "#5. **Right Shift**: Shift the bits of a number to the right by a specified number of places.\n",
    "\n",
    "a = 10  # 1010\n",
    "result = a >> 1  # 101\n",
    "print(result)  # 5\n"
   ]
  },
  {
   "cell_type": "code",
   "execution_count": 6,
   "id": "b17a5e50",
   "metadata": {},
   "outputs": [
    {
     "name": "stdout",
     "output_type": "stream",
     "text": [
      "True\n",
      "False\n"
     ]
    }
   ],
   "source": [
    "#6. **Check if a number is a power of 2**: Use bit manipulation to check if a number is a power of 2.\n",
    "\n",
    "def is_power_of_two(n):\n",
    "    return n > 0 and (n & (n - 1)) == 0\n",
    "\n",
    "print(is_power_of_two(8))  # True\n",
    "print(is_power_of_two(10))  # False\n"
   ]
  },
  {
   "cell_type": "code",
   "execution_count": 7,
   "id": "b67dd8c2",
   "metadata": {},
   "outputs": [
    {
     "name": "stdout",
     "output_type": "stream",
     "text": [
      "4\n"
     ]
    }
   ],
   "source": [
    "#7. **Count the number of set bits**: Use bit manipulation to count the number of set bits in a number.\n",
    "\n",
    "def count_set_bits(n):\n",
    "    count = 0\n",
    "    while n:\n",
    "        count += n & 1\n",
    "        n >>= 1\n",
    "    return count\n",
    "\n",
    "print(count_set_bits(15))  # 4\n"
   ]
  },
  {
   "cell_type": "code",
   "execution_count": 8,
   "id": "27290057",
   "metadata": {},
   "outputs": [
    {
     "name": "stdout",
     "output_type": "stream",
     "text": [
      "True\n",
      "False\n"
     ]
    }
   ],
   "source": [
    "#8. **Check if a number is even or odd**: Use bit manipulation to check if a number is even or odd.\n",
    "\n",
    "def is_even(n):\n",
    "    return (n & 1) == 0\n",
    "\n",
    "print(is_even(10))  # True\n",
    "print(is_even(11))  # False\n"
   ]
  },
  {
   "cell_type": "code",
   "execution_count": null,
   "id": "e30e0ea4",
   "metadata": {},
   "outputs": [
    {
     "name": "stdout",
     "output_type": "stream",
     "text": [
      "(10, 5)\n"
     ]
    }
   ],
   "source": [
    "# 9. **Swap two numbers without using a temporary variable**: Use bit manipulation to swap two numbers without using a temporary variable.\n",
    "\n",
    "def swap(a, b):\n",
    "    a = a ^ b\n",
    "    b = a ^ b\n",
    "    a = a ^ b\n",
    "    return a, b\n",
    "\n",
    "print(swap(5, 10))  # (10, 5)"
   ]
  },
  {
   "cell_type": "code",
   "execution_count": 10,
   "id": "480d893e",
   "metadata": {},
   "outputs": [
    {
     "name": "stdout",
     "output_type": "stream",
     "text": [
      "False\n",
      "False\n"
     ]
    }
   ],
   "source": [
    "# 10. **Check if a number is a palindrome**: Use bit manipulation to check if a number is a palindrome.\n",
    "\n",
    "def is_palindrome(n):\n",
    "    bin_str = bin(n)[2:]\n",
    "    return bin_str == bin_str[::-1]\n",
    "\n",
    "print(is_palindrome(12321))  # True\n",
    "print(is_palindrome(123456))  # False\n"
   ]
  },
  {
   "cell_type": "code",
   "execution_count": 11,
   "id": "440aac58",
   "metadata": {},
   "outputs": [
    {
     "name": "stdout",
     "output_type": "stream",
     "text": [
      "1\n"
     ]
    }
   ],
   "source": [
    "#11. **Find the first set bit**: Use bit manipulation to find the first set bit in a number.\n",
    "\n",
    "def first_set_bit(n):\n",
    "    pos = 0\n",
    "    while n:\n",
    "        if n & 1:\n",
    "            return pos\n",
    "        n >>= 1\n",
    "        pos += 1\n",
    "    return -1\n",
    "\n",
    "print(first_set_bit(18))  # 1"
   ]
  },
  {
   "cell_type": "code",
   "execution_count": 12,
   "id": "d6ba449a",
   "metadata": {},
   "outputs": [
    {
     "name": "stdout",
     "output_type": "stream",
     "text": [
      "2\n"
     ]
    }
   ],
   "source": [
    "#12. **Find the last set bit**: Use bit manipulation to find the last set bit in a number.\n",
    "\n",
    "def last_set_bit(n):\n",
    "    pos = 0\n",
    "    while n:\n",
    "        if n & 1:\n",
    "            pos += 1\n",
    "        n >>= 1\n",
    "    return pos\n",
    "\n",
    "print(last_set_bit(18))  # 2\n"
   ]
  },
  {
   "cell_type": "code",
   "execution_count": 13,
   "id": "93dd8e72",
   "metadata": {},
   "outputs": [
    {
     "name": "stdout",
     "output_type": "stream",
     "text": [
      "True\n",
      "False\n"
     ]
    }
   ],
   "source": [
    "#13. **Check if a number is a perfect square**: Use bit manipulation to check if a number is a perfect square.\n",
    "\n",
    "def is_perfect_square(n):\n",
    "    if n < 0:\n",
    "        return False\n",
    "    sqrt = int(n ** 0.5)\n",
    "    return sqrt * sqrt == n\n",
    "\n",
    "print(is_perfect_square(16))  # True\n",
    "print(is_perfect_square(20))  # False"
   ]
  },
  {
   "cell_type": "code",
   "execution_count": 14,
   "id": "e8e76e3c",
   "metadata": {},
   "outputs": [
    {
     "name": "stdout",
     "output_type": "stream",
     "text": [
      "8\n"
     ]
    }
   ],
   "source": [
    "# 14. **Find the next power of 2**: Use bit manipulation to find the next power of 2.\n",
    "\n",
    "def next_power_of_two(n):\n",
    "    n -= 1\n",
    "    n |= n >> 1\n",
    "    n |= n >> 2\n",
    "    n |= n >> 4\n",
    "    n |= n >> 8\n",
    "    n |= n >> 16\n",
    "    n += 1\n",
    "    return n\n",
    "\n",
    "print(next_power_of_two(7))  # 8"
   ]
  },
  {
   "cell_type": "code",
   "execution_count": null,
   "id": "0daedc5c",
   "metadata": {},
   "outputs": [
    {
     "name": "stdout",
     "output_type": "stream",
     "text": [
      "4\n"
     ]
    }
   ],
   "source": [
    "# 15. **Count the number of set bits**: Use bit manipulation to count the number of set bits in a number.\n",
    "def count_set_bits(n):\n",
    "    count = 0\n",
    "    while n:\n",
    "        n &= (n - 1)  # Clear the least significant set bit\n",
    "        count += 1\n",
    "    return count\n",
    "\n",
    "# Example\n",
    "print(count_set_bits(29))  # Binary: 11101, Output: 4"
   ]
  },
  {
   "cell_type": "code",
   "execution_count": null,
   "id": "79669161",
   "metadata": {},
   "outputs": [
    {
     "name": "stdout",
     "output_type": "stream",
     "text": [
      "4\n"
     ]
    }
   ],
   "source": [
    "# 16. **Find the single number in a sequence**: Use bit manipulation to find the single number in a sequence.\n",
    "def single_number(nums):\n",
    "    result = 0\n",
    "    for num in nums:\n",
    "        result ^= num\n",
    "    return result\n",
    "\n",
    "# Example\n",
    "print(single_number([4, 1, 2, 1, 2]))  # Output: 4"
   ]
  },
  {
   "cell_type": "code",
   "execution_count": null,
   "id": "1dbd1c37",
   "metadata": {},
   "outputs": [
    {
     "name": "stdout",
     "output_type": "stream",
     "text": [
      "964176192\n"
     ]
    }
   ],
   "source": [
    "# 17. **Reverse the bits of a number**: Use bit manipulation to reverse the bits of a number.\n",
    "def reverse_bits(n):\n",
    "    result = 0\n",
    "    for _ in range(32):\n",
    "        result = (result << 1) | (n & 1)  # Shift result left, add n's least significant bit\n",
    "        n >>= 1  # Shift n right to process next bit\n",
    "    return result\n",
    "\n",
    "# Example\n",
    "print(reverse_bits(43261596))  # Binary: 00000010100101000001111010011100\n",
    "                              # Output: 964176192 (reversed binary)"
   ]
  },
  {
   "cell_type": "code",
   "execution_count": null,
   "id": "95c83d0d",
   "metadata": {},
   "outputs": [
    {
     "name": "stdout",
     "output_type": "stream",
     "text": [
      "2\n"
     ]
    }
   ],
   "source": [
    "# 19. **Find the missing number in a sequence**: Use bit manipulation to find the missing number in a sequence.\n",
    "def missing_number(nums):\n",
    "    result = len(nums)\n",
    "    for i, num in enumerate(nums):\n",
    "        result ^= i ^ num\n",
    "    return result\n",
    "\n",
    "# Example\n",
    "print(missing_number([3, 0, 1]))  # Output: 2"
   ]
  },
  {
   "cell_type": "code",
   "execution_count": 22,
   "id": "e0d9721c",
   "metadata": {},
   "outputs": [
    {
     "name": "stdout",
     "output_type": "stream",
     "text": [
      "True\n",
      "False\n"
     ]
    }
   ],
   "source": [
    "# 20. **Check if a number is a power of two**: Use bit manipulation to check if a number is a power of two.\n",
    "def is_power_of_two(n):\n",
    "    return n > 0 and (n & (n - 1)) == 0\n",
    "\n",
    "# Example\n",
    "print(is_power_of_two(16))  # Output: True (16 = 10000)\n",
    "print(is_power_of_two(18))  # Output: False (18 = 10010)"
   ]
  },
  {
   "cell_type": "code",
   "execution_count": 21,
   "id": "a2d2fa84",
   "metadata": {},
   "outputs": [
    {
     "name": "stdout",
     "output_type": "stream",
     "text": [
      "4\n"
     ]
    }
   ],
   "source": [
    "# 21. **Find the range of numbers that have only one set bit**: Use bit manipulation to find the range of numbers that have only one set bit.\n",
    "def range_bitwise_and(left, right):\n",
    "    shift = 0\n",
    "    while left != right:\n",
    "        left >>= 1\n",
    "        right >>= 1\n",
    "        shift += 1\n",
    "    return left << shift\n",
    "\n",
    "# Example\n",
    "print(range_bitwise_and(5, 7))  # Output: 4"
   ]
  },
  {
   "cell_type": "code",
   "execution_count": 2,
   "id": "5af3a1ef",
   "metadata": {},
   "outputs": [
    {
     "name": "stdout",
     "output_type": "stream",
     "text": [
      "[1, 4, 9, 16, 25, 36, 49, 64, 81, 100]\n",
      "\n",
      "\n",
      "[2, 3, 5, 6, 7, 8, 10, 11, 12, 13, 14, 15, 17, 18, 19, 20, 21, 22, 23, 24, 26, 27, 28, 29, 30, 31, 32, 33, 34, 35, 37, 38, 39, 40, 41, 42, 43, 44, 45, 46, 47, 48, 50, 51, 52, 53, 54, 55, 56, 57, 58, 59, 60, 61, 62, 63, 65, 66, 67, 68, 69, 70, 71, 72, 73, 74, 75, 76, 77, 78, 79, 80, 82, 83, 84, 85, 86, 87, 88, 89, 90, 91, 92, 93, 94, 95, 96, 97, 98, 99]\n"
     ]
    }
   ],
   "source": [
    "# 22. **Find the lockers that are open**: Use bit manipulation to find the lockers that are open.\n",
    "def find_open_lockers(n):\n",
    "    lockers = [False] * (n + 1)  # False = closed, True = open\n",
    "    for person in range(1, n + 1):\n",
    "        for locker in range(person, n + 1, person):\n",
    "            lockers[locker] = not lockers[locker]  # Toggle\n",
    "    return [i for i in range(1, n + 1) if lockers[i]]\n",
    "\n",
    "# Find closed locker with bit manipulation \n",
    "def find_closed_lockers(n):\n",
    "    lockers = [False] * (n + 1)  # False = closed, True = open\n",
    "    for person in range(1, n + 1):\n",
    "        for locker in range(person, n + 1, person):\n",
    "            lockers[locker] = not lockers[locker]  # Toggle\n",
    "    return [i for i in range(1, n + 1) if not lockers[i]]\n",
    "\n",
    "# Example\n",
    "print(find_open_lockers(100))  # Output: [1, 4, 9, 16, 25, 36, 49, 64, 81, 100]\n",
    "print(\"\\n\")\n",
    "print(find_closed_lockers(100))  "
   ]
  }
 ],
 "metadata": {
  "kernelspec": {
   "display_name": "Python 3",
   "language": "python",
   "name": "python3"
  },
  "language_info": {
   "codemirror_mode": {
    "name": "ipython",
    "version": 3
   },
   "file_extension": ".py",
   "mimetype": "text/x-python",
   "name": "python",
   "nbconvert_exporter": "python",
   "pygments_lexer": "ipython3",
   "version": "3.12.4"
  }
 },
 "nbformat": 4,
 "nbformat_minor": 5
}
