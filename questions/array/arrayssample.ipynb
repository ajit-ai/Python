{
 "cells": [
  {
   "cell_type": "markdown",
   "id": "19aa592d",
   "metadata": {},
   "source": [
    "Given an array of positive integers arr[] of size n, the task is to find second largest distinct element in the array.\n",
    "\n",
    "Note: If the second largest element does not exist, return -1.\n",
    "\n",
    "Examples:\n",
    "\n",
    "Input: arr[] = [12, 35, 1, 10, 34, 1]\n",
    "Output: 34\n",
    "Explanation: The largest element of the array is 35 and the second largest element is 34.\n",
    "\n",
    "Input: arr[] = [10, 5, 10]\n",
    "Output: 5\n",
    "Explanation: The largest element of the array is 10 and the second largest element is 5."
   ]
  },
  {
   "cell_type": "code",
   "execution_count": 1,
   "id": "448c65e1",
   "metadata": {},
   "outputs": [
    {
     "name": "stdout",
     "output_type": "stream",
     "text": [
      "34\n"
     ]
    }
   ],
   "source": [
    "# Python program to find second largest element in an array\n",
    "# using Sorting\n",
    "\n",
    "def getSecondLargest(arr):\n",
    "    n = len(arr)\n",
    "    \n",
    "    # Sort the array in non-decreasing order\n",
    "    arr.sort()\n",
    "  \n",
    "    # start from second last element as last element is the largest\n",
    "    for i in range(n - 2, -1, -1):\n",
    "      \n",
    "        # return the first element which is not equal to the \n",
    "        # largest element\n",
    "        if arr[i] != arr[n - 1]:\n",
    "            return arr[i]\n",
    "    \n",
    "    # If no second largest element was found, return -1\n",
    "    return -1\n",
    "\n",
    "if __name__ == \"__main__\":\n",
    "    arr = [12, 35, 1, 10, 34, 1]\n",
    "    print(getSecondLargest(arr))"
   ]
  },
  {
   "cell_type": "markdown",
   "id": "dbe97737",
   "metadata": {},
   "source": [
    "Explanation: Find the maximum value in the array using max(). Then use a list comprehension to create a new list with all elements except the maximum value. Return the maximum value of this new list.\n",
    "\n",
    "Method 5: Using numpy"
   ]
  },
  {
   "cell_type": "code",
   "execution_count": 2,
   "id": "de188b24",
   "metadata": {},
   "outputs": [
    {
     "name": "stdout",
     "output_type": "stream",
     "text": [
      "40\n"
     ]
    }
   ],
   "source": [
    "def second_largest(arr):\n",
    "    arr.sort()\n",
    "    return arr[-2]\n",
    "\n",
    "# Example usage:\n",
    "arr = [10, 20, 30, 40, 50]\n",
    "print(second_largest(arr))  # Output: 40"
   ]
  },
  {
   "cell_type": "code",
   "execution_count": 7,
   "id": "2f236673",
   "metadata": {},
   "outputs": [
    {
     "name": "stdout",
     "output_type": "stream",
     "text": [
      "4\n",
      "4\n",
      "40\n"
     ]
    }
   ],
   "source": [
    "def secondNumber(arr):\n",
    "    arr.sort()\n",
    "    return arr[-2] if len(arr) > 1 else None\n",
    "print(secondNumber([1, 2, 3, 4, 5]))  # Output: 4\n",
    "\n",
    "def second_largest(arr):\n",
    "    if len(arr) < 2:\n",
    "        return None\n",
    "    arr = list(set(arr))  # Remove duplicates\n",
    "    arr.sort()\n",
    "    return arr[-2] if len(arr) > 1 else None\n",
    "print(second_largest([1, 2, 3, 4, 5]))  # Output: 4\n",
    "\n",
    "def second_largest(arr):\n",
    "    if len(arr) < 2:\n",
    "        return None\n",
    "    arr = list(set(arr))  # Remove duplicates\n",
    "    arr.sort()\n",
    "    return arr[-2] if len(arr) > 1 else None\n",
    "\n",
    "print(second_largest([10, 20, 30, 40, 50]))  # Output: 40\n"
   ]
  },
  {
   "cell_type": "markdown",
   "id": "724baf33",
   "metadata": {},
   "source": [
    "\n",
    "\n",
    "Method 3: Using Loop"
   ]
  },
  {
   "cell_type": "code",
   "execution_count": 8,
   "id": "f39c94a4",
   "metadata": {},
   "outputs": [
    {
     "name": "stdout",
     "output_type": "stream",
     "text": [
      "40\n"
     ]
    }
   ],
   "source": [
    "def second_largest(arr):\n",
    "    max_val = second_max = float('-inf')\n",
    "    for num in arr:\n",
    "        if num > max_val:\n",
    "            second_max = max_val\n",
    "            max_val = num\n",
    "        elif num > second_max and num != max_val:\n",
    "            second_max = num\n",
    "    return second_max\n",
    "\n",
    "# Example usage:\n",
    "arr = [10, 20, 30, 40, 50]\n",
    "print(second_largest(arr))  # Output: 40"
   ]
  },
  {
   "cell_type": "code",
   "execution_count": 9,
   "id": "fb920292",
   "metadata": {},
   "outputs": [
    {
     "name": "stdout",
     "output_type": "stream",
     "text": [
      "40\n"
     ]
    }
   ],
   "source": [
    "def second_largest(arr):\n",
    "    return sorted(set(arr))[-2]\n",
    "\n",
    "# Example usage:\n",
    "arr = [10, 20, 30, 40, 50]\n",
    "print(second_largest(arr))  # Output: 40"
   ]
  },
  {
   "cell_type": "code",
   "execution_count": 10,
   "id": "850836a3",
   "metadata": {},
   "outputs": [
    {
     "name": "stdout",
     "output_type": "stream",
     "text": [
      "40\n"
     ]
    }
   ],
   "source": [
    "import heapq\n",
    "\n",
    "def second_largest(arr):\n",
    "    return heapq.nlargest(2, arr)[1]\n",
    "\n",
    "# Example usage:\n",
    "arr = [10, 20, 30, 40, 50]\n",
    "print(second_largest(arr))  # Output: 40"
   ]
  },
  {
   "cell_type": "code",
   "execution_count": 11,
   "id": "b43d631d",
   "metadata": {},
   "outputs": [
    {
     "name": "stdout",
     "output_type": "stream",
     "text": [
      "40\n"
     ]
    }
   ],
   "source": [
    "def second_largest(arr):\n",
    "    arr.sort(reverse=True)\n",
    "    return arr[1]\n",
    "\n",
    "# Example usage:\n",
    "arr = [10, 20, 30, 40, 50]\n",
    "print(second_largest(arr))  # Output: 40"
   ]
  },
  {
   "cell_type": "code",
   "execution_count": 12,
   "id": "fb75723d",
   "metadata": {},
   "outputs": [
    {
     "name": "stdout",
     "output_type": "stream",
     "text": [
      "40\n"
     ]
    }
   ],
   "source": [
    "def second_largest(arr):\n",
    "    unique_nums = set(arr)\n",
    "    unique_nums.remove(max(unique_nums))\n",
    "    return max(unique_nums)\n",
    "\n",
    "# Example usage:\n",
    "arr = [10, 20, 30, 40, 50]\n",
    "print(second_largest(arr))  # Output: 40"
   ]
  },
  {
   "cell_type": "code",
   "execution_count": 14,
   "id": "665ce178",
   "metadata": {},
   "outputs": [
    {
     "name": "stdout",
     "output_type": "stream",
     "text": [
      "40\n"
     ]
    }
   ],
   "source": [
    "def second_largest(arr):\n",
    "    return max([x for x in arr if x != max(arr)])\n",
    "\n",
    "print(second_largest([10, 20, 30, 40, 50]))  # Output: 40\n"
   ]
  },
  {
   "cell_type": "code",
   "execution_count": 8,
   "id": "3b66956a",
   "metadata": {},
   "outputs": [
    {
     "name": "stdout",
     "output_type": "stream",
     "text": [
      "(7+5j)\n"
     ]
    }
   ],
   "source": [
    "def methods(): \n",
    "    a = 2\n",
    "    b = 5\n",
    "    x = a+b\n",
    "    return x + 5j\n",
    "print(methods())  # Output: 10"
   ]
  },
  {
   "cell_type": "code",
   "execution_count": 14,
   "id": "c3a1458e",
   "metadata": {},
   "outputs": [
    {
     "name": "stdout",
     "output_type": "stream",
     "text": [
      "4\n",
      "4\n",
      "Error: Array must have at least two elements to find second largest\n"
     ]
    }
   ],
   "source": [
    "def second_largest(arr):\n",
    "    if len(arr) < 2:\n",
    "        raise ValueError(\"Array must have at least two elements to find second largest\")\n",
    "    \n",
    "    # Remove duplicates and sort in descending order\n",
    "    unique_nums = sorted(set(arr), reverse=True)\n",
    "    \n",
    "    if len(unique_nums) < 2:\n",
    "        raise ValueError(\"Array must have at least two distinct elements\")\n",
    "    \n",
    "    return unique_nums[1]  # Second largest number\n",
    "\n",
    "# Test cases\n",
    "try:\n",
    "    print(second_largest([1, 2, 3, 4, 5]))  # Output: 4\n",
    "    print(second_largest([5, 5, 4, 4, 3]))  # Output: 4\n",
    "    print(second_largest([1]))              # Raises ValueError\n",
    "    print(second_largest([]))               # Raises ValueError\n",
    "    print(second_largest([2, 2, 2]))       # Raises ValueError\n",
    "except ValueError as e:\n",
    "    print(f\"Error: {e}\")"
   ]
  },
  {
   "cell_type": "code",
   "execution_count": null,
   "id": "c352d1ca",
   "metadata": {},
   "outputs": [
    {
     "ename": "ValueError",
     "evalue": "max() iterable argument is empty",
     "output_type": "error",
     "traceback": [
      "\u001b[1;31m---------------------------------------------------------------------------\u001b[0m",
      "\u001b[1;31mValueError\u001b[0m                                Traceback (most recent call last)",
      "Cell \u001b[1;32mIn[8], line 8\u001b[0m\n\u001b[0;32m      6\u001b[0m     second_max \u001b[38;5;241m=\u001b[39m \u001b[38;5;28mmax\u001b[39m(freq \u001b[38;5;28;01mfor\u001b[39;00m freq \u001b[38;5;129;01min\u001b[39;00m num_freq\u001b[38;5;241m.\u001b[39mvalues() \u001b[38;5;28;01mif\u001b[39;00m freq \u001b[38;5;241m!=\u001b[39m max_freq)\n\u001b[0;32m      7\u001b[0m     \u001b[38;5;28;01mreturn\u001b[39;00m second_max\n\u001b[1;32m----> 8\u001b[0m \u001b[38;5;28mprint\u001b[39m(\u001b[43msecond_largest\u001b[49m\u001b[43m(\u001b[49m\u001b[43m[\u001b[49m\u001b[38;5;241;43m1\u001b[39;49m\u001b[43m,\u001b[49m\u001b[43m \u001b[49m\u001b[38;5;241;43m2\u001b[39;49m\u001b[43m,\u001b[49m\u001b[43m \u001b[49m\u001b[38;5;241;43m3\u001b[39;49m\u001b[43m,\u001b[49m\u001b[43m \u001b[49m\u001b[38;5;241;43m4\u001b[39;49m\u001b[43m,\u001b[49m\u001b[43m \u001b[49m\u001b[38;5;241;43m5\u001b[39;49m\u001b[43m]\u001b[49m\u001b[43m)\u001b[49m)  \u001b[38;5;66;03m# Output: 4\u001b[39;00m\n",
      "Cell \u001b[1;32mIn[8], line 6\u001b[0m, in \u001b[0;36msecond_largest\u001b[1;34m(arr)\u001b[0m\n\u001b[0;32m      4\u001b[0m     num_freq[num] \u001b[38;5;241m=\u001b[39m num_freq\u001b[38;5;241m.\u001b[39mget(num, \u001b[38;5;241m0\u001b[39m)\n\u001b[0;32m      5\u001b[0m max_freq \u001b[38;5;241m=\u001b[39m \u001b[38;5;28mmax\u001b[39m(num_freq\u001b[38;5;241m.\u001b[39mvalues())\n\u001b[1;32m----> 6\u001b[0m second_max \u001b[38;5;241m=\u001b[39m \u001b[38;5;28;43mmax\u001b[39;49m\u001b[43m(\u001b[49m\u001b[43mfreq\u001b[49m\u001b[43m \u001b[49m\u001b[38;5;28;43;01mfor\u001b[39;49;00m\u001b[43m \u001b[49m\u001b[43mfreq\u001b[49m\u001b[43m \u001b[49m\u001b[38;5;129;43;01min\u001b[39;49;00m\u001b[43m \u001b[49m\u001b[43mnum_freq\u001b[49m\u001b[38;5;241;43m.\u001b[39;49m\u001b[43mvalues\u001b[49m\u001b[43m(\u001b[49m\u001b[43m)\u001b[49m\u001b[43m \u001b[49m\u001b[38;5;28;43;01mif\u001b[39;49;00m\u001b[43m \u001b[49m\u001b[43mfreq\u001b[49m\u001b[43m \u001b[49m\u001b[38;5;241;43m!=\u001b[39;49m\u001b[43m \u001b[49m\u001b[43mmax_freq\u001b[49m\u001b[43m)\u001b[49m\n\u001b[0;32m      7\u001b[0m \u001b[38;5;28;01mreturn\u001b[39;00m second_max\n",
      "\u001b[1;31mValueError\u001b[0m: max() iterable argument is empty"
     ]
    }
   ],
   "source": [
    "def second_largest(arr):\n",
    "    num_freq = {}\n",
    "    for num in arr:\n",
    "        num_freq[num] = num_freq.get(num, 0) + 1\n",
    "    max_freq = max(num_freq.values())\n",
    "    second_max = max(freq for freq in num_freq.values() if freq != max_freq)\n",
    "    return second_max\n",
    "print(second_largest([1, 2, 3, 4, 5]))  # Output: 4"
   ]
  },
  {
   "cell_type": "code",
   "execution_count": 29,
   "id": "533a7cef",
   "metadata": {},
   "outputs": [
    {
     "name": "stdout",
     "output_type": "stream",
     "text": [
      "40\n"
     ]
    }
   ],
   "source": [
    "def second_largest(arr):\n",
    "    max_num = second_max = float('-inf')\n",
    "    for num in arr:\n",
    "        if num > max_num:\n",
    "            second_max = max_num\n",
    "            max_num = num\n",
    "        elif num > second_max and num != max_num:\n",
    "            second_max = num\n",
    "    return second_max\n",
    "print(second_largest([10, 20, 30, 40, 50]))  # Output: 40"
   ]
  },
  {
   "cell_type": "code",
   "execution_count": 31,
   "id": "61c9c421",
   "metadata": {},
   "outputs": [
    {
     "name": "stdout",
     "output_type": "stream",
     "text": [
      "40\n"
     ]
    }
   ],
   "source": [
    "import numpy as np\n",
    "def second_largest(arr):\n",
    "    return np.sort(np.unique(arr))[-2]\n",
    "# Example usage:\n",
    "arr = [10, 20, 30, 40, 50]\n",
    "print(second_largest(arr))  # Output: 40"
   ]
  },
  {
   "cell_type": "code",
   "execution_count": 1,
   "id": "40e6c2f6",
   "metadata": {},
   "outputs": [
    {
     "name": "stdout",
     "output_type": "stream",
     "text": [
      "40\n"
     ]
    }
   ],
   "source": [
    "import pandas as pd\n",
    "def second_largest(arr):\n",
    "    return pd.Series(arr).drop_duplicates().sort_values(ascending=False).iloc[1]\n",
    "# Example usage:\n",
    "arr = [10, 20, 30, 40, 50]\n",
    "print(second_largest(arr))  # Output: 40"
   ]
  }
 ],
 "metadata": {
  "kernelspec": {
   "display_name": "Python 3",
   "language": "python",
   "name": "python3"
  },
  "language_info": {
   "codemirror_mode": {
    "name": "ipython",
    "version": 3
   },
   "file_extension": ".py",
   "mimetype": "text/x-python",
   "name": "python",
   "nbconvert_exporter": "python",
   "pygments_lexer": "ipython3",
   "version": "3.12.4"
  }
 },
 "nbformat": 4,
 "nbformat_minor": 5
}
