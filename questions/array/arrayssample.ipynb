{
 "cells": [
  {
   "cell_type": "markdown",
   "id": "19aa592d",
   "metadata": {},
   "source": [
    "Given an array of positive integers arr[] of size n, the task is to find second largest distinct element in the array.\n",
    "\n",
    "Note: If the second largest element does not exist, return -1.\n",
    "\n",
    "Examples:\n",
    "\n",
    "Input: arr[] = [12, 35, 1, 10, 34, 1]\n",
    "Output: 34\n",
    "Explanation: The largest element of the array is 35 and the second largest element is 34.\n",
    "\n",
    "Input: arr[] = [10, 5, 10]\n",
    "Output: 5\n",
    "Explanation: The largest element of the array is 10 and the second largest element is 5."
   ]
  },
  {
   "cell_type": "code",
   "execution_count": 1,
   "id": "448c65e1",
   "metadata": {},
   "outputs": [
    {
     "name": "stdout",
     "output_type": "stream",
     "text": [
      "34\n"
     ]
    }
   ],
   "source": [
    "# Python program to find second largest element in an array\n",
    "# using Sorting\n",
    "\n",
    "def getSecondLargest(arr):\n",
    "    n = len(arr)\n",
    "    \n",
    "    # Sort the array in non-decreasing order\n",
    "    arr.sort()\n",
    "  \n",
    "    # start from second last element as last element is the largest\n",
    "    for i in range(n - 2, -1, -1):\n",
    "      \n",
    "        # return the first element which is not equal to the \n",
    "        # largest element\n",
    "        if arr[i] != arr[n - 1]:\n",
    "            return arr[i]\n",
    "    \n",
    "    # If no second largest element was found, return -1\n",
    "    return -1\n",
    "\n",
    "if __name__ == \"__main__\":\n",
    "    arr = [12, 35, 1, 10, 34, 1]\n",
    "    print(getSecondLargest(arr))"
   ]
  },
  {
   "cell_type": "markdown",
   "id": "dbe97737",
   "metadata": {},
   "source": [
    "Explanation: Find the maximum value in the array using max(). Then use a list comprehension to create a new list with all elements except the maximum value. Return the maximum value of this new list.\n",
    "\n",
    "Method 5: Using numpy"
   ]
  },
  {
   "cell_type": "code",
   "execution_count": 20,
   "id": "de188b24",
   "metadata": {},
   "outputs": [
    {
     "name": "stdout",
     "output_type": "stream",
     "text": [
      "40\n"
     ]
    }
   ],
   "source": [
    "def second_largest(arr):\n",
    "    arr.sort()\n",
    "    return arr[-2]\n",
    "\n",
    "# Example usage:\n",
    "arr = [10, 20, 30, 40, 50]\n",
    "print(second_largest(arr))  # Output: 40"
   ]
  },
  {
   "cell_type": "code",
   "execution_count": 7,
   "id": "2f236673",
   "metadata": {},
   "outputs": [
    {
     "name": "stdout",
     "output_type": "stream",
     "text": [
      "4\n",
      "4\n",
      "40\n"
     ]
    }
   ],
   "source": [
    "def secondNumber(arr):\n",
    "    arr.sort()\n",
    "    return arr[-2] if len(arr) > 1 else None\n",
    "print(secondNumber([1, 2, 3, 4, 5]))  # Output: 4\n",
    "\n",
    "def second_largest(arr):\n",
    "    if len(arr) < 2:\n",
    "        return None\n",
    "    arr = list(set(arr))  # Remove duplicates\n",
    "    arr.sort()\n",
    "    return arr[-2] if len(arr) > 1 else None\n",
    "print(second_largest([1, 2, 3, 4, 5]))  # Output: 4\n",
    "\n",
    "def second_largest(arr):\n",
    "    if len(arr) < 2:\n",
    "        return None\n",
    "    arr = list(set(arr))  # Remove duplicates\n",
    "    arr.sort()\n",
    "    return arr[-2] if len(arr) > 1 else None\n",
    "\n",
    "print(second_largest([10, 20, 30, 40, 50]))  # Output: 40\n"
   ]
  },
  {
   "cell_type": "markdown",
   "id": "724baf33",
   "metadata": {},
   "source": [
    "\n",
    "\n",
    "Method 3: Using Loop"
   ]
  },
  {
   "cell_type": "code",
   "execution_count": 8,
   "id": "f39c94a4",
   "metadata": {},
   "outputs": [
    {
     "name": "stdout",
     "output_type": "stream",
     "text": [
      "40\n"
     ]
    }
   ],
   "source": [
    "def second_largest(arr):\n",
    "    max_val = second_max = float('-inf')\n",
    "    for num in arr:\n",
    "        if num > max_val:\n",
    "            second_max = max_val\n",
    "            max_val = num\n",
    "        elif num > second_max and num != max_val:\n",
    "            second_max = num\n",
    "    return second_max\n",
    "\n",
    "# Example usage:\n",
    "arr = [10, 20, 30, 40, 50]\n",
    "print(second_largest(arr))  # Output: 40"
   ]
  },
  {
   "cell_type": "code",
   "execution_count": 9,
   "id": "fb920292",
   "metadata": {},
   "outputs": [
    {
     "name": "stdout",
     "output_type": "stream",
     "text": [
      "40\n"
     ]
    }
   ],
   "source": [
    "def second_largest(arr):\n",
    "    return sorted(set(arr))[-2]\n",
    "\n",
    "# Example usage:\n",
    "arr = [10, 20, 30, 40, 50]\n",
    "print(second_largest(arr))  # Output: 40"
   ]
  },
  {
   "cell_type": "code",
   "execution_count": 10,
   "id": "850836a3",
   "metadata": {},
   "outputs": [
    {
     "name": "stdout",
     "output_type": "stream",
     "text": [
      "40\n"
     ]
    }
   ],
   "source": [
    "import heapq\n",
    "\n",
    "def second_largest(arr):\n",
    "    return heapq.nlargest(2, arr)[1]\n",
    "\n",
    "# Example usage:\n",
    "arr = [10, 20, 30, 40, 50]\n",
    "print(second_largest(arr))  # Output: 40"
   ]
  },
  {
   "cell_type": "code",
   "execution_count": 11,
   "id": "b43d631d",
   "metadata": {},
   "outputs": [
    {
     "name": "stdout",
     "output_type": "stream",
     "text": [
      "40\n"
     ]
    }
   ],
   "source": [
    "def second_largest(arr):\n",
    "    arr.sort(reverse=True)\n",
    "    return arr[1]\n",
    "\n",
    "# Example usage:\n",
    "arr = [10, 20, 30, 40, 50]\n",
    "print(second_largest(arr))  # Output: 40"
   ]
  },
  {
   "cell_type": "code",
   "execution_count": 12,
   "id": "fb75723d",
   "metadata": {},
   "outputs": [
    {
     "name": "stdout",
     "output_type": "stream",
     "text": [
      "40\n"
     ]
    }
   ],
   "source": [
    "def second_largest(arr):\n",
    "    unique_nums = set(arr)\n",
    "    unique_nums.remove(max(unique_nums))\n",
    "    return max(unique_nums)\n",
    "\n",
    "# Example usage:\n",
    "arr = [10, 20, 30, 40, 50]\n",
    "print(second_largest(arr))  # Output: 40"
   ]
  },
  {
   "cell_type": "code",
   "execution_count": 14,
   "id": "665ce178",
   "metadata": {},
   "outputs": [
    {
     "name": "stdout",
     "output_type": "stream",
     "text": [
      "40\n"
     ]
    }
   ],
   "source": [
    "def second_largest(arr):\n",
    "    return max([x for x in arr if x != max(arr)])\n",
    "\n",
    "print(second_largest([10, 20, 30, 40, 50]))  # Output: 40\n"
   ]
  },
  {
   "cell_type": "code",
   "execution_count": 8,
   "id": "3b66956a",
   "metadata": {},
   "outputs": [
    {
     "name": "stdout",
     "output_type": "stream",
     "text": [
      "(7+5j)\n"
     ]
    }
   ],
   "source": [
    "def methods(): \n",
    "    a = 2\n",
    "    b = 5\n",
    "    x = a+b\n",
    "    return x + 5j\n",
    "print(methods())  # Output: 10"
   ]
  },
  {
   "cell_type": "code",
   "execution_count": 14,
   "id": "c3a1458e",
   "metadata": {},
   "outputs": [
    {
     "name": "stdout",
     "output_type": "stream",
     "text": [
      "4\n",
      "4\n",
      "Error: Array must have at least two elements to find second largest\n"
     ]
    }
   ],
   "source": [
    "def second_largest(arr):\n",
    "    if len(arr) < 2:\n",
    "        raise ValueError(\"Array must have at least two elements to find second largest\")\n",
    "    \n",
    "    # Remove duplicates and sort in descending order\n",
    "    unique_nums = sorted(set(arr), reverse=True)\n",
    "    \n",
    "    if len(unique_nums) < 2:\n",
    "        raise ValueError(\"Array must have at least two distinct elements\")\n",
    "    \n",
    "    return unique_nums[1]  # Second largest number\n",
    "\n",
    "# Test cases\n",
    "try:\n",
    "    print(second_largest([1, 2, 3, 4, 5]))  # Output: 4\n",
    "    print(second_largest([5, 5, 4, 4, 3]))  # Output: 4\n",
    "    print(second_largest([1]))              # Raises ValueError\n",
    "    print(second_largest([]))               # Raises ValueError\n",
    "    print(second_largest([2, 2, 2]))       # Raises ValueError\n",
    "except ValueError as e:\n",
    "    print(f\"Error: {e}\")"
   ]
  },
  {
   "cell_type": "code",
   "execution_count": 29,
   "id": "533a7cef",
   "metadata": {},
   "outputs": [
    {
     "name": "stdout",
     "output_type": "stream",
     "text": [
      "40\n"
     ]
    }
   ],
   "source": [
    "def second_largest(arr):\n",
    "    max_num = second_max = float('-inf')\n",
    "    for num in arr:\n",
    "        if num > max_num:\n",
    "            second_max = max_num\n",
    "            max_num = num\n",
    "        elif num > second_max and num != max_num:\n",
    "            second_max = num\n",
    "    return second_max\n",
    "print(second_largest([10, 20, 30, 40, 50]))  # Output: 40"
   ]
  },
  {
   "cell_type": "code",
   "execution_count": 31,
   "id": "61c9c421",
   "metadata": {},
   "outputs": [
    {
     "name": "stdout",
     "output_type": "stream",
     "text": [
      "40\n"
     ]
    }
   ],
   "source": [
    "import numpy as np\n",
    "def second_largest(arr):\n",
    "    return np.sort(np.unique(arr))[-2]\n",
    "# Example usage:\n",
    "arr = [10, 20, 30, 40, 50]\n",
    "print(second_largest(arr))  # Output: 40"
   ]
  },
  {
   "cell_type": "code",
   "execution_count": 1,
   "id": "40e6c2f6",
   "metadata": {},
   "outputs": [
    {
     "name": "stdout",
     "output_type": "stream",
     "text": [
      "40\n"
     ]
    }
   ],
   "source": [
    "import pandas as pd\n",
    "def second_largest(arr):\n",
    "    return pd.Series(arr).drop_duplicates().sort_values(ascending=False).iloc[1]\n",
    "# Example usage:\n",
    "arr = [10, 20, 30, 40, 50]\n",
    "print(second_largest(arr))  # Output: 40"
   ]
  },
  {
   "cell_type": "code",
   "execution_count": 10,
   "id": "f95656e2",
   "metadata": {},
   "outputs": [
    {
     "name": "stdout",
     "output_type": "stream",
     "text": [
      "Fibonacci sequence:\n",
      "0\n",
      "1\n",
      "1\n"
     ]
    }
   ],
   "source": [
    "# Program to display the Fibonacci sequence up to n-th term\n",
    "\n",
    "nterms = int(input(\"How many terms? \"))\n",
    "\n",
    "# first two terms\n",
    "n1, n2 = 0, 1\n",
    "count = 0\n",
    "\n",
    "# check if the number of terms is valid\n",
    "if nterms <= 0:\n",
    "   print(\"Please enter a positive integer\")\n",
    "elif nterms == 1:\n",
    "   print(\"Fibonacci sequence upto\",nterms,\":\")\n",
    "   print(n1)\n",
    "else:\n",
    "   print(\"Fibonacci sequence:\")\n",
    "   while count < nterms:\n",
    "       print(n1)\n",
    "       nth = n1 + n2\n",
    "       # update values\n",
    "       n1 = n2\n",
    "       n2 = nth\n",
    "       count += 1"
   ]
  },
  {
   "cell_type": "code",
   "execution_count": 11,
   "id": "3fe0293a",
   "metadata": {},
   "outputs": [
    {
     "name": "stdout",
     "output_type": "stream",
     "text": [
      "1\n",
      "2\n",
      "Fizz\n",
      "4\n",
      "Buzz\n",
      "Fizz\n",
      "7\n",
      "8\n",
      "Fizz\n",
      "Buzz\n",
      "11\n",
      "Fizz\n",
      "13\n",
      "14\n",
      "FizzBuzz\n",
      "16\n",
      "17\n",
      "Fizz\n",
      "19\n",
      "Buzz\n"
     ]
    }
   ],
   "source": [
    "# FizzBuzz\n",
    "# A program that prints the numbers from 1 to num (User given number)!\n",
    "# For multiples of ‘3’ print “Fizz” instead of the number.\n",
    "# For the multiples of ‘5’ print “Buzz”.\n",
    "# If the number is divisible by both 3 and 5 then print \"FizzBuzz\".\n",
    "# If none of the given conditions are true then just print the number!\n",
    "\n",
    "\n",
    "def FizzBuzz(num):\n",
    "    for i in range(1, num + 1):\n",
    "        if i % 3 == 0 and i % 5 == 0:\n",
    "            print(\"FizzBuzz\")\n",
    "        elif i % 3 == 0:\n",
    "            print(\"Fizz\")\n",
    "        elif i % 5 == 0:\n",
    "            print(\"Buzz\")\n",
    "        else:\n",
    "            print(i)\n",
    "\n",
    "\n",
    "\n",
    "FizzBuzz(20)  # prints FizzBuzz up to 20"
   ]
  },
  {
   "cell_type": "code",
   "execution_count": 12,
   "id": "a24268aa",
   "metadata": {},
   "outputs": [
    {
     "name": "stdout",
     "output_type": "stream",
     "text": [
      "1\n",
      "1\n",
      "2\n",
      "3\n",
      "5\n",
      "8\n",
      "13\n"
     ]
    }
   ],
   "source": [
    "def fibonacci_generator(n = None):\n",
    "    \"\"\"\n",
    "        Generating function up to n fibonacci numbers iteratively\n",
    "        Params:\n",
    "            n: int\n",
    "        Return:\n",
    "            int\n",
    "    \"\"\"\n",
    "    f0, f1 = 0, 1\n",
    "    yield f1\n",
    "    while n == None or n > 1:\n",
    "        fn = f0 + f1\n",
    "        yield fn\n",
    "        f0, f1 = f1, fn\n",
    "        n -= 1\n",
    "\n",
    "for n_fibo in fibonacci_generator(7):\n",
    "    print(n_fibo)"
   ]
  },
  {
   "cell_type": "code",
   "execution_count": 19,
   "id": "5493d035",
   "metadata": {},
   "outputs": [
    {
     "name": "stdout",
     "output_type": "stream",
     "text": [
      "This is a method\n",
      "10\n",
      "This is another method\n"
     ]
    }
   ],
   "source": [
    "def methohs():\n",
    "    print(\"This is a method\")\n",
    "    \n",
    "    x = 10\n",
    "    return x\n",
    "print(methohs())  # Output: 10\n",
    "print(\"This is another method\")"
   ]
  },
  {
   "cell_type": "code",
   "execution_count": 30,
   "id": "96c4f3f0",
   "metadata": {},
   "outputs": [
    {
     "name": "stdout",
     "output_type": "stream",
     "text": [
      "50\n"
     ]
    }
   ],
   "source": [
    "def second_largest(arr):\n",
    "    arr.sort()\n",
    "    return arr[-2] if len(arr) > 1 else None\n",
    "\n",
    "# Example usage:\n",
    "arr = [50, 20, 30, 90, 10]\n",
    "print(second_largest(arr))  # Output: 40"
   ]
  }
 ],
 "metadata": {
  "kernelspec": {
   "display_name": "Python 3",
   "language": "python",
   "name": "python3"
  },
  "language_info": {
   "codemirror_mode": {
    "name": "ipython",
    "version": 3
   },
   "file_extension": ".py",
   "mimetype": "text/x-python",
   "name": "python",
   "nbconvert_exporter": "python",
   "pygments_lexer": "ipython3",
   "version": "3.12.4"
  }
 },
 "nbformat": 4,
 "nbformat_minor": 5
}
