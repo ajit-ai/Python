{
 "cells": [
  {
   "cell_type": "code",
   "execution_count": null,
   "id": "dc4cc0ce",
   "metadata": {},
   "outputs": [
    {
     "name": "stdout",
     "output_type": "stream",
     "text": [
      "Ajit\n",
      "Kumar\n",
      "Ajit Kumar\n"
     ]
    }
   ],
   "source": [
    "value = input(\"Your Name please\")\n",
    "print(value, \"\", end=\"\")"
   ]
  }
 ],
 "metadata": {
  "kernelspec": {
   "display_name": "anaconda-toolbox",
   "language": "python",
   "name": "python3"
  },
  "language_info": {
   "codemirror_mode": {
    "name": "ipython",
    "version": 3
   },
   "file_extension": ".py",
   "mimetype": "text/x-python",
   "name": "python",
   "nbconvert_exporter": "python",
   "pygments_lexer": "ipython3",
   "version": "3.12.8"
  }
 },
 "nbformat": 4,
 "nbformat_minor": 5
}
