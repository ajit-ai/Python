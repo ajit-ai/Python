{
 "cells": [
  {
   "cell_type": "code",
   "execution_count": 1,
   "id": "9415580b",
   "metadata": {},
   "outputs": [
    {
     "name": "stdout",
     "output_type": "stream",
     "text": [
      "True\n",
      "False\n",
      "False\n"
     ]
    }
   ],
   "source": [
    "print(10 > 6)\n",
    "print(10 == 3)\n",
    "print(10 < 2)"
   ]
  },
  {
   "cell_type": "code",
   "execution_count": 2,
   "id": "83af16e1",
   "metadata": {},
   "outputs": [
    {
     "name": "stdout",
     "output_type": "stream",
     "text": [
      "b is not greater than a\n"
     ]
    }
   ],
   "source": [
    "a = 100\n",
    "b = 20\n",
    "\n",
    "if b > a:\n",
    "  print(\"b is greater than a\")\n",
    "else:\n",
    "  print(\"b is not greater than a\")"
   ]
  },
  {
   "cell_type": "code",
   "execution_count": 3,
   "id": "03ed907f",
   "metadata": {},
   "outputs": [
    {
     "name": "stdout",
     "output_type": "stream",
     "text": [
      "True\n",
      "True\n"
     ]
    }
   ],
   "source": [
    "print(bool(\"Hello\"))\n",
    "print(bool(15))"
   ]
  },
  {
   "cell_type": "code",
   "execution_count": 4,
   "id": "63f41020",
   "metadata": {},
   "outputs": [
    {
     "name": "stdout",
     "output_type": "stream",
     "text": [
      "True\n",
      "True\n"
     ]
    }
   ],
   "source": [
    "x = \"Hello\"\n",
    "y = 15\n",
    "\n",
    "print(bool(x))\n",
    "print(bool(y))"
   ]
  },
  {
   "cell_type": "code",
   "execution_count": 7,
   "id": "916bc5d2",
   "metadata": {},
   "outputs": [
    {
     "data": {
      "text/plain": [
       "True"
      ]
     },
     "execution_count": 7,
     "metadata": {},
     "output_type": "execute_result"
    }
   ],
   "source": [
    "bool(\"abc\")\n",
    "bool(123)\n",
    "bool([\"apple\", \"cherry\", \"banana\"])"
   ]
  },
  {
   "cell_type": "code",
   "execution_count": 6,
   "id": "222bcd1c",
   "metadata": {},
   "outputs": [
    {
     "data": {
      "text/plain": [
       "False"
      ]
     },
     "execution_count": 6,
     "metadata": {},
     "output_type": "execute_result"
    }
   ],
   "source": [
    "bool(False)\n",
    "bool(None)\n",
    "bool(0)\n",
    "bool(\"\")\n",
    "bool(())\n",
    "bool([])\n",
    "bool({})\n",
    "bool('')"
   ]
  },
  {
   "cell_type": "code",
   "execution_count": 5,
   "id": "25abafd7",
   "metadata": {},
   "outputs": [
    {
     "name": "stdout",
     "output_type": "stream",
     "text": [
      "False\n"
     ]
    }
   ],
   "source": [
    "class myclass():\n",
    "  def __len__(self):\n",
    "    return 0\n",
    "\n",
    "myobj = myclass()\n",
    "print(bool(myobj))"
   ]
  },
  {
   "cell_type": "code",
   "execution_count": 4,
   "id": "615b81ae",
   "metadata": {},
   "outputs": [
    {
     "name": "stdout",
     "output_type": "stream",
     "text": [
      "True\n"
     ]
    }
   ],
   "source": [
    "def myFunction() :\n",
    "  return True\n",
    "\n",
    "print(myFunction())"
   ]
  },
  {
   "cell_type": "code",
   "execution_count": 3,
   "id": "98055d7e",
   "metadata": {},
   "outputs": [
    {
     "name": "stdout",
     "output_type": "stream",
     "text": [
      "YES!\n"
     ]
    }
   ],
   "source": [
    "def myFunction() :\n",
    "  return True\n",
    "\n",
    "if myFunction():\n",
    "  print(\"YES!\")\n",
    "else:\n",
    "  print(\"NO!\")"
   ]
  },
  {
   "cell_type": "code",
   "execution_count": 1,
   "id": "edc95a55",
   "metadata": {},
   "outputs": [
    {
     "name": "stdout",
     "output_type": "stream",
     "text": [
      "True\n"
     ]
    }
   ],
   "source": [
    "x = 200\n",
    "print(isinstance(x, int))"
   ]
  },
  {
   "cell_type": "code",
   "execution_count": 2,
   "id": "78f4a1e4",
   "metadata": {},
   "outputs": [
    {
     "name": "stdout",
     "output_type": "stream",
     "text": [
      "15\n"
     ]
    }
   ],
   "source": [
    "print(10 + 5)"
   ]
  },
  {
   "cell_type": "code",
   "execution_count": 14,
   "id": "b5834547",
   "metadata": {},
   "outputs": [
    {
     "name": "stdout",
     "output_type": "stream",
     "text": [
      "======== Basic Boolean Operations ========\n",
      "True\n",
      "True\n",
      "False\n",
      "True\n",
      "False\n",
      "======== Boolean Functions ========\n",
      "True\n",
      "False\n",
      "True\n",
      "False\n",
      "True\n",
      "======== Boolean Comparisons ========\n",
      "Hello\n",
      "Lesser\n",
      "Equal\n",
      "======== Boolean Expressions ========\n",
      "True\n",
      "True\n",
      "True\n",
      "True\n",
      "True\n",
      "======== List Comprehensions ========\n",
      "[3]\n",
      "[1]\n",
      "[2]\n",
      "[1, 3]\n",
      "[1, 3]\n",
      "======== Dictionary Lookups ========\n",
      "False\n",
      "True\n",
      "True\n",
      "False\n",
      "False\n",
      "======== Set Operations ========\n",
      "True\n",
      "False\n",
      "True\n",
      "True\n",
      "{2, 3}\n",
      "======== String Methods ========\n",
      "True\n",
      "True\n",
      "True\n",
      "True\n",
      "False\n",
      "======== Boolean Operators ========\n",
      "True\n",
      "False\n",
      "True\n",
      "False\n",
      "True\n",
      "======== Miscellaneous ========\n",
      "False\n",
      "False\n",
      "False\n",
      "False\n",
      "True\n"
     ]
    }
   ],
   "source": [
    "#Here is the Python code for all 50 boolean handling ways:\n",
    "\n",
    "#1-5: Basic Boolean Operations\n",
    "\n",
    "print(\"======== Basic Boolean Operations ========\")\n",
    "print(True and True)  # True\n",
    "print(True or False)  # True\n",
    "print(not True)  # False\n",
    "print(True and not False)  # True\n",
    "print(False or not True)  # False\n",
    "\n",
    "#6-10: Boolean Functions\n",
    "print(\"======== Boolean Functions ========\")\n",
    "print(bool(5))  # True\n",
    "print(bool(0))  # False\n",
    "print(bool(\"hello\"))  # True\n",
    "print(bool(\"\"))  # False\n",
    "print(bool([1, 2, 3]))  # True\n",
    "\n",
    "print(\"======== Boolean Comparisons ========\")\n",
    "\n",
    "#11-15: Conditional Statements\n",
    "if True:\n",
    "    print(\"Hello\")  # Hello\n",
    "if False:\n",
    "    print(\"World\")  # (no output)\n",
    "x = 5\n",
    "if x > 10:\n",
    "    print(\"Greater\")  # (no output)\n",
    "if x < 10:\n",
    "    print(\"Lesser\")  # Lesser\n",
    "if x == 5:\n",
    "    print(\"Equal\")  # Equal\n",
    "\n",
    "print(\"======== Boolean Expressions ========\") \n",
    "#16-20: Boolean Expressions\n",
    "print(5 > 3 and 2 < 4)  # True\n",
    "print(5 > 3 or 2 < 1)  # True\n",
    "print(not (5 > 3 and 2 < 1))  # False\n",
    "print((5 > 3) and (2 < 4))  # True\n",
    "print((5 > 3) or (2 < 1))  # True\n",
    "\n",
    "print(\"======== List Comprehensions ========\")\n",
    "#21-25: List Comprehensions\n",
    "numbers = [1, 2, 3]\n",
    "print([x for x in numbers if x > 2])  # [3]\n",
    "print([x for x in numbers if x < 2])  # [1]\n",
    "print([x for x in numbers if x == 2])  # [2]\n",
    "print([x for x in numbers if x != 2])  # [1, 3]\n",
    "print([x for x in numbers if x in [1, 3]])  # [1, 3]\n",
    "\n",
    "print(\"======== Dictionary Lookups ========\")\n",
    "#26-30: Dictionary Lookups\n",
    "d = {\"a\": 1, \"b\": 2}\n",
    "print(d[\"a\"] > 1)  # False\n",
    "print(d[\"b\"] < 3)  # True\n",
    "print(\"a\" in d)  # True\n",
    "print(\"c\" in d)  # False\n",
    "print(d.get(\"a\") > 1)  # False\n",
    "\n",
    "print(\"======== Set Operations ========\")\n",
    "#31-35: Set Operations\n",
    "s = {1, 2, 3}\n",
    "print(2 in s)  # True\n",
    "print(4 in s)  # False\n",
    "print(s.issubset({1, 2, 3, 4}))  # True\n",
    "print(s.issuperset({1, 2}))  # True\n",
    "print(s.intersection({2, 3, 4}))  # {2, 3}\n",
    "\n",
    "print(\"======== String Methods ========\")\n",
    "#36-40: Boolean Methods\n",
    "str = \"hello\"\n",
    "print(str.startswith(\"h\"))  # True\n",
    "print(str.endswith(\"o\"))  # True\n",
    "#print(str.contains(\"a\"))  # True\n",
    "print(str.isalnum())  # True\n",
    "print(str.isalpha())  # True\n",
    "print(str.isdigit())  # False\n",
    "\n",
    "print(\"======== Boolean Operators ========\")\n",
    "#41-45: Boolean Operators\n",
    "print(5 == 5)  # True\n",
    "print(5 != 5)  # False\n",
    "print(5 > 3)  # True\n",
    "print(5 < 3)  # False\n",
    "print(5 >= 5)  # True\n",
    "\n",
    "print(\"======== Miscellaneous ========\")\n",
    "#46-50: Miscellaneous\n",
    "print(bool(None))  # False\n",
    "print(bool([]))  # False\n",
    "print(bool({}))  # False\n",
    "print(bool(0.0))  # False\n",
    "print(bool(\"False\"))  # True\n"
   ]
  }
 ],
 "metadata": {
  "kernelspec": {
   "display_name": "Python 3",
   "language": "python",
   "name": "python3"
  },
  "language_info": {
   "codemirror_mode": {
    "name": "ipython",
    "version": 3
   },
   "file_extension": ".py",
   "mimetype": "text/x-python",
   "name": "python",
   "nbconvert_exporter": "python",
   "pygments_lexer": "ipython3",
   "version": "3.12.4"
  }
 },
 "nbformat": 4,
 "nbformat_minor": 5
}
