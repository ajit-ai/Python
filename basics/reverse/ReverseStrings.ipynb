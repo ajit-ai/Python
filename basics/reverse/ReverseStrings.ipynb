{
 "cells": [
  {
   "cell_type": "code",
   "execution_count": 2,
   "id": "18487bc5",
   "metadata": {},
   "outputs": [
    {
     "name": "stdout",
     "output_type": "stream",
     "text": [
      "tija\n",
      "tija\n",
      "tija\n",
      "tija\n",
      "tija\n",
      "tija\n",
      "tija\n",
      "tija\n",
      "tija\n",
      "tija\n"
     ]
    }
   ],
   "source": [
    "# 1. Using slicing\n",
    "def reverse_slice(s):\n",
    "    return s[::-1]\n",
    "\n",
    "# 2. Using reversed() and join()\n",
    "def reverse_reversed(s):\n",
    "    return ''.join(reversed(s))\n",
    "\n",
    "# 3. Using a for loop\n",
    "def reverse_for(s):\n",
    "    result = ''\n",
    "    for char in s:\n",
    "        result = char + result\n",
    "    return result\n",
    "\n",
    "# 4. Using recursion\n",
    "def reverse_recursive(s):\n",
    "    if len(s) == 0:\n",
    "        return s\n",
    "    return reverse_recursive(s[1:]) + s[0]\n",
    "\n",
    "# 5. Using list reverse()\n",
    "def reverse_list(s):\n",
    "    l = list(s)\n",
    "    l.reverse()\n",
    "    return ''.join(l)\n",
    "\n",
    "# 6. Using reduce()\n",
    "from functools import reduce\n",
    "def reverse_reduce(s):\n",
    "    return reduce(lambda x, y: y + x, s)\n",
    "\n",
    "# 7. Using stack (list)\n",
    "def reverse_stack(s):\n",
    "    stack = list(s)\n",
    "    result = ''\n",
    "    while stack:\n",
    "        result += stack.pop()\n",
    "    return result\n",
    "\n",
    "# 8. Using list comprehension\n",
    "def reverse_listcomp(s):\n",
    "    return ''.join([s[i] for i in range(len(s)-1, -1, -1)])\n",
    "\n",
    "# 9. Using enumerate and join\n",
    "def reverse_enumerate(s):\n",
    "    return ''.join([s[-i-1] for i, _ in enumerate(s)])\n",
    "\n",
    "# 10. Using a generator\n",
    "def reverse_generator(s):\n",
    "    return ''.join(c for c in reversed(s))\n",
    "\n",
    "# Example usage:\n",
    "s = \"ajit\"\n",
    "print(reverse_slice(s))\n",
    "print(reverse_reversed(s))\n",
    "print(reverse_for(s))\n",
    "print(reverse_recursive(s))\n",
    "print(reverse_list(s))\n",
    "print(reverse_reduce(s))\n",
    "print(reverse_stack(s))\n",
    "print(reverse_listcomp(s))\n",
    "print(reverse_enumerate(s))\n",
    "print(reverse_generator(s))"
   ]
  }
 ],
 "metadata": {
  "kernelspec": {
   "display_name": "Python 3",
   "language": "python",
   "name": "python3"
  },
  "language_info": {
   "codemirror_mode": {
    "name": "ipython",
    "version": 3
   },
   "file_extension": ".py",
   "mimetype": "text/x-python",
   "name": "python",
   "nbconvert_exporter": "python",
   "pygments_lexer": "ipython3",
   "version": "3.12.4"
  }
 },
 "nbformat": 4,
 "nbformat_minor": 5
}
