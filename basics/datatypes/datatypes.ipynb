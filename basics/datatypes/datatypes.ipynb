{
 "cells": [
  {
   "cell_type": "markdown",
   "id": "fdb4031a",
   "metadata": {},
   "source": [
    "Built-in Data Types\n",
    "In programming, data type is an important concept.\n",
    "\n",
    "Variables can store data of different types, and different types can do different things.\n",
    "\n",
    " has the following data types built-in by default, in these categories:\n",
    "\n",
    "Text Type:\tstr\n",
    "Numeric Types:\tint, float, complex\n",
    "Sequence Types:\tlist, tuple, range\n",
    "Mapping Type:\tdict\n",
    "Set Types:\tset, frozenset\n",
    "Boolean Type:\tbool\n",
    "Binary Types:\tbytes, bytearray, memoryview\n",
    "None Type:\tNoneType\n",
    "\n",
    "\n",
    "\n",
    "Setting the Data Type\n",
    "In , the data type is set when you assign a value to a variable:\n",
    "\n",
    "Example\tData Type\t\n",
    "x = \"Hello World\"\tstr\t\n",
    "x = 20\tint\t\n",
    "x = 20.5\tfloat\t\n",
    "x = 1j\tcomplex\t\n",
    "x = [\"apple\", \"banana\", \"cherry\"]\tlist\t\n",
    "x = (\"apple\", \"banana\", \"cherry\")\ttuple\t\n",
    "x = range(6)\trange\t\n",
    "x = {\"name\" : \"John\", \"age\" : 36}\tdict\t\n",
    "x = {\"apple\", \"banana\", \"cherry\"}\tset\t\n",
    "x = frozenset({\"apple\", \"banana\", \"cherry\"})\tfrozenset\t\n",
    "x = True\tbool\t\n",
    "x = b\"Hello\"\tbytes\t\n",
    "x = bytearray(5)\tbytearray\t\n",
    "x = memoryview(bytes(5))\tmemoryview\t\n",
    "x = None\tNoneType\t\n",
    "ADVERTISEMENT"
   ]
  },
  {
   "cell_type": "code",
   "execution_count": 2,
   "id": "4ac41aa7",
   "metadata": {},
   "outputs": [
    {
     "name": "stdout",
     "output_type": "stream",
     "text": [
      "<class 'int'>\n"
     ]
    }
   ],
   "source": [
    "x = 5\n",
    "print(type(x))"
   ]
  },
  {
   "cell_type": "code",
   "execution_count": 3,
   "id": "37bb8f81",
   "metadata": {},
   "outputs": [
    {
     "name": "stdout",
     "output_type": "stream",
     "text": [
      "<class 'int'>\n",
      "<class 'float'>\n",
      "<class 'complex'>\n"
     ]
    }
   ],
   "source": [
    "x = 1    # int\n",
    "y = 2.8  # float\n",
    "z = 1j   # complex\n",
    "\n",
    "print(type(x))\n",
    "print(type(y))\n",
    "print(type(z))"
   ]
  },
  {
   "cell_type": "code",
   "execution_count": 4,
   "id": "f6b4c88e",
   "metadata": {},
   "outputs": [
    {
     "name": "stdout",
     "output_type": "stream",
     "text": [
      "<class 'int'>\n",
      "<class 'int'>\n",
      "<class 'int'>\n"
     ]
    }
   ],
   "source": [
    "x = 1\n",
    "y = 35656222554887711\n",
    "z = -3255522\n",
    "\n",
    "print(type(x))\n",
    "print(type(y))\n",
    "print(type(z))"
   ]
  },
  {
   "cell_type": "code",
   "execution_count": 5,
   "id": "880e52fc",
   "metadata": {},
   "outputs": [
    {
     "name": "stdout",
     "output_type": "stream",
     "text": [
      "<class 'float'>\n",
      "<class 'float'>\n",
      "<class 'float'>\n"
     ]
    }
   ],
   "source": [
    "x = 1.10\n",
    "y = 1.0\n",
    "z = -35.59\n",
    "\n",
    "print(type(x))\n",
    "print(type(y))\n",
    "print(type(z))"
   ]
  },
  {
   "cell_type": "code",
   "execution_count": 6,
   "id": "f795229c",
   "metadata": {},
   "outputs": [
    {
     "name": "stdout",
     "output_type": "stream",
     "text": [
      "<class 'float'>\n",
      "<class 'float'>\n",
      "<class 'float'>\n"
     ]
    }
   ],
   "source": [
    "x = 35e3\n",
    "y = 12E4\n",
    "z = -87.7e100\n",
    "\n",
    "print(type(x))\n",
    "print(type(y))\n",
    "print(type(z))"
   ]
  },
  {
   "cell_type": "code",
   "execution_count": 7,
   "id": "b442bf2d",
   "metadata": {},
   "outputs": [
    {
     "name": "stdout",
     "output_type": "stream",
     "text": [
      "<class 'complex'>\n",
      "<class 'complex'>\n",
      "<class 'complex'>\n"
     ]
    }
   ],
   "source": [
    "x = 3+5j\n",
    "y = 5j\n",
    "z = -5j\n",
    "\n",
    "print(type(x))\n",
    "print(type(y))\n",
    "print(type(z))"
   ]
  },
  {
   "cell_type": "code",
   "execution_count": 8,
   "id": "b6b6ca7a",
   "metadata": {},
   "outputs": [
    {
     "name": "stdout",
     "output_type": "stream",
     "text": [
      "1.0\n",
      "2\n",
      "(1+0j)\n",
      "<class 'float'>\n",
      "<class 'int'>\n",
      "<class 'complex'>\n"
     ]
    }
   ],
   "source": [
    "x = 1    # int\n",
    "y = 2.8  # float\n",
    "z = 1j   # complex\n",
    "\n",
    "#convert from int to float:\n",
    "a = float(x)\n",
    "\n",
    "#convert from float to int:\n",
    "b = int(y)\n",
    "\n",
    "#convert from int to complex:\n",
    "c = complex(x)\n",
    "\n",
    "print(a)\n",
    "print(b)\n",
    "print(c)\n",
    "\n",
    "print(type(a))\n",
    "print(type(b))\n",
    "print(type(c))"
   ]
  },
  {
   "cell_type": "code",
   "execution_count": 9,
   "id": "eec44785",
   "metadata": {},
   "outputs": [
    {
     "name": "stdout",
     "output_type": "stream",
     "text": [
      "7\n"
     ]
    }
   ],
   "source": [
    "import random\n",
    "\n",
    "print(random.randrange(1, 10))"
   ]
  },
  {
   "cell_type": "code",
   "execution_count": 10,
   "id": "d59b5432",
   "metadata": {},
   "outputs": [
    {
     "name": "stdout",
     "output_type": "stream",
     "text": [
      "1\n",
      "2\n",
      "3\n",
      "1.0\n",
      "2.8\n",
      "3.0\n",
      "4.2\n"
     ]
    }
   ],
   "source": [
    "x = int(1)   # x will be 1\n",
    "y = int(2.8) # y will be 2\n",
    "z = int(\"3\") # z will be 3\n",
    "\n",
    "print(x)\n",
    "print(y)\n",
    "print(z)\n",
    "\n",
    "x = float(1)     # x will be 1.0\n",
    "y = float(2.8)   # y will be 2.8\n",
    "z = float(\"3\")   # z will be 3.0\n",
    "w = float(\"4.2\") # w will be 4.2\n",
    "\n",
    "\n",
    "print(x)\n",
    "print(y)\n",
    "print(z)\n",
    "print(w)"
   ]
  },
  {
   "cell_type": "code",
   "execution_count": 14,
   "id": "c2b3fe42",
   "metadata": {},
   "outputs": [],
   "source": [
    "x = str(\"s1\") # x will be 's1'\n",
    "y = str(2)    # y will be '2'\n",
    "z = str(3.0)  # z will be '3.0'"
   ]
  },
  {
   "cell_type": "code",
   "execution_count": null,
   "id": "9b1207af",
   "metadata": {},
   "outputs": [],
   "source": []
  },
  {
   "cell_type": "code",
   "execution_count": 11,
   "id": "773f0498",
   "metadata": {},
   "outputs": [
    {
     "name": "stdout",
     "output_type": "stream",
     "text": [
      "<class 'int'>\n",
      "<class 'int'>\n",
      "8\n",
      "8\n",
      "15\n",
      "15\n",
      "1.6666666666666667\n",
      "1.6666666666666667\n",
      "2\n",
      "2\n",
      "<class 'float'>\n",
      "<class 'float'>\n",
      "8.8\n",
      "8.8\n",
      "18.15\n",
      "18.15\n",
      "1.6666666666666667\n",
      "1.6666666666666667\n",
      "2.2\n",
      "2.2\n",
      "<class 'str'>\n",
      "<class 'str'>\n",
      "hello world\n",
      "hello world\n",
      "hellohellohello\n",
      "hellohellohello\n",
      "h\n",
      "h\n",
      "el\n",
      "el\n",
      "<class 'list'>\n",
      "<class 'list'>\n",
      "[1, 2, 3, 4, 5, 6]\n",
      "[1, 2, 3, 4, 5, 6]\n",
      "[1, 2, 3, 1, 2, 3, 1, 2, 3]\n",
      "[1, 2, 3, 1, 2, 3, 1, 2, 3]\n",
      "1\n",
      "1\n",
      "[2, 3]\n",
      "[2, 3]\n",
      "<class 'tuple'>\n",
      "<class 'tuple'>\n",
      "(1, 2, 3, 4, 5, 6)\n",
      " (1, 2, 3)\n",
      "(1, 2, 3, 1, 2, 3, 1, 2, 3)\n"
     ]
    }
   ],
   "source": [
    "#Here are 50 ways of handling data types in Python:\n",
    "\n",
    "#1-5: Integers\n",
    "\n",
    "x = 5; print(type(x)) #=> <class 'int'>\n",
    "\n",
    "x = 5\n",
    "print(type(x))\n",
    "x = 5; print(x + 3) #=> 8\n",
    "\n",
    "x = 5\n",
    "print(x + 3)\n",
    "x = 5; print(x * 3) #=> 15\n",
    "\n",
    "x = 5\n",
    "print(x * 3)\n",
    "x = 5; print(x / 3) #=> 1.6666666666666667\n",
    "\n",
    "x = 5\n",
    "print(x / 3)\n",
    "x = 5; print(x % 3) #=> 2\n",
    "\n",
    "x = 5\n",
    "print(x % 3)\n",
    "\n",
    "#6-10: Floats\n",
    "\n",
    "x = 5.5; print(type(x)) #=> <class 'float'>\n",
    "\n",
    "x = 5.5\n",
    "print(type(x))\n",
    "x = 5.5; print(x + 3.3) #=> 8.8\n",
    "\n",
    "x = 5.5\n",
    "print(x + 3.3)\n",
    "x = 5.5; print(x * 3.3) #=> 18.15\n",
    "\n",
    "x = 5.5\n",
    "print(x * 3.3)\n",
    "x = 5.5; print(x / 3.3) #=> 1.6666666666666667\n",
    "\n",
    "x = 5.5\n",
    "print(x / 3.3)\n",
    "x = 5.5; print(x % 3.3) #=> 2.2\n",
    "\n",
    "x = 5.5\n",
    "print(x % 3.3)\n",
    "\n",
    "#11-15: Strings\n",
    "\n",
    "x = \"hello\"; print(type(x)) #=> <class 'str'>\n",
    "\n",
    "x = \"hello\"\n",
    "print(type(x))\n",
    "x = \"hello\"; print(x + \" world\") #=> \"hello world\"\n",
    "\n",
    "x = \"hello\"\n",
    "print(x + \" world\")\n",
    "x = \"hello\"; print(x * 3) #=> \"hellohellohello\"\n",
    "\n",
    "x = \"hello\"\n",
    "print(x * 3)\n",
    "x = \"hello\"; print(x[0]) #=> \"h\"\n",
    "\n",
    "x = \"hello\"\n",
    "print(x[0])\n",
    "x = \"hello\"; print(x[1:3]) #=> \"el\"\n",
    "\n",
    "x = \"hello\"\n",
    "print(x[1:3])\n",
    "\n",
    "#16-20: Lists\n",
    "\n",
    "x = [1, 2, 3]; print(type(x)) #=> <class 'list'>\n",
    "\n",
    "x = [1, 2, 3]\n",
    "print(type(x))\n",
    "x = [1, 2, 3]; print(x + [4, 5, 6]) #=> [1, 2, 3, 4, 5, 6]\n",
    "\n",
    "x = [1, 2, 3]\n",
    "print(x + [4, 5, 6])\n",
    "x = [1, 2, 3]; print(x * 3) #=> [1, 2, 3, 1, 2, 3, 1, 2, 3]\n",
    "\n",
    "x = [1, 2, 3]\n",
    "print(x * 3)\n",
    "x = [1, 2, 3]; print(x[0]) #=> 1\n",
    "\n",
    "x = [1, 2, 3]\n",
    "print(x[0])\n",
    "x = [1, 2, 3]; print(x[1:3]) #=> [2, 3]\n",
    "\n",
    "x = [1, 2, 3]\n",
    "print(x[1:3])\n",
    "\n",
    "#21-25: Tuples\n",
    "\n",
    "x = (1, 2, 3); print(type(x)) #=> <class 'tuple'>\n",
    "\n",
    "x = (1, 2, 3)\n",
    "print(type(x))\n",
    "x = (1, 2, 3); print(x + (4, 5, 6)) #=> (1, 2, 3, 4, 5, 6)\n",
    "\n",
    "x = (1, 2, 3)\n",
    "print(\"\" , x)\n",
    "\n",
    "x = (1, 2, 3); print(x * 3) #=> (1, 2, 3, 1, 2, 3, 1, 2, 3)"
   ]
  },
  {
   "cell_type": "code",
   "execution_count": 1,
   "id": "437d0e26",
   "metadata": {},
   "outputs": [
    {
     "name": "stdout",
     "output_type": "stream",
     "text": [
      "True\n",
      "False\n",
      "True\n",
      "False\n",
      "2\n",
      "999\n",
      "10000.0\n",
      "1000000\n",
      "-42\n",
      "10\n",
      "24\n",
      "6\n",
      "3.14159\n",
      "0.3333333333333333\n",
      "6.0\n",
      "6.5\n",
      "2\n",
      "3\n",
      "python\n",
      "abcd1234\n",
      "1234\n"
     ]
    }
   ],
   "source": [
    "# Boolean (True/False) values\n",
    "print(True)\n",
    "\n",
    "print(False)\n",
    "\n",
    "is_hungry = True\n",
    "\n",
    "print(is_hungry)\n",
    "\n",
    "# Toggle between True/False using 'not'\n",
    "is_hungry = not is_hungry\n",
    "\n",
    "print(is_hungry)\n",
    "\n",
    "\n",
    "# Integers\n",
    "\n",
    "print(1 + 1)  # Addition\n",
    "\n",
    "print(999)  # Other numbers\n",
    "\n",
    "print(1e4)  # Scientific notation 1e4 is 1000\n",
    "\n",
    "print(1_000_000)  # Python ignores _ in numbers\n",
    "\n",
    "print(-42)  # Negative Numbers\n",
    "\n",
    "print(12 - 2)  # Subtraction\n",
    "\n",
    "print(12 * 2)  # Multiplication\n",
    "\n",
    "print(12 // 2)  # Integer division, converts result to int\n",
    "\n",
    "\n",
    "# Floats aka Floating Point Numbers\n",
    "\n",
    "print(3.14159)  # Approximation of pi\n",
    "\n",
    "print(1/3)  # Converts a rational number into imprecise \"float\" value\n",
    "\n",
    "print(12 / 2)  # Regular division, converts to float\n",
    "\n",
    "print(13 / 2)  # Regular division\n",
    "\n",
    "print(round(2.3))  # Round a number from float to int\n",
    "\n",
    "print(round(2.7))  # Round another number from float to int\n",
    "\n",
    "\n",
    "# Strings\n",
    "\n",
    "language = \"python\"\n",
    "\n",
    "print(language)\n",
    "\n",
    "letters = \"abcd1234\"\n",
    "\n",
    "print(letters)\n",
    "\n",
    "number_string = \"1234\"\n",
    "\n",
    "print(number_string)"
   ]
  }
 ],
 "metadata": {
  "kernelspec": {
   "display_name": "Python 3",
   "language": "python",
   "name": "python3"
  },
  "language_info": {
   "codemirror_mode": {
    "name": "ipython",
    "version": 3
   },
   "file_extension": ".py",
   "mimetype": "text/x-python",
   "name": "python",
   "nbconvert_exporter": "python",
   "pygments_lexer": "ipython3",
   "version": "3.12.4"
  }
 },
 "nbformat": 4,
 "nbformat_minor": 5
}
