{
 "cells": [
  {
   "cell_type": "code",
   "execution_count": 3,
   "id": "9d4b359c",
   "metadata": {},
   "outputs": [],
   "source": [
    "# Create a dictionary to store employee record\n",
    "D = {'name': 'Bob',\n",
    "     'age': 25,\n",
    "     'job': 'Dev',\n",
    "     'city': 'New York',\n",
    "     'email': 'bob@web.com'}"
   ]
  },
  {
   "cell_type": "code",
   "execution_count": 4,
   "id": "e765f5c7",
   "metadata": {},
   "outputs": [
    {
     "name": "stdout",
     "output_type": "stream",
     "text": [
      "{'name': 'Bob', 'age': 25, 'job': 'Dev'}\n"
     ]
    }
   ],
   "source": [
    "# Create a dictionary with a list of two-item tuples\n",
    "L = [('name', 'Bob'),\n",
    "     ('age', 25),\n",
    "     ('job', 'Dev')]\n",
    "\n",
    "D = dict(L)\n",
    "print(D)\n",
    "# Prints {'name': 'Bob', 'age': 25, 'job': 'Dev'}"
   ]
  },
  {
   "cell_type": "code",
   "execution_count": 5,
   "id": "ac20d182",
   "metadata": {},
   "outputs": [
    {
     "name": "stdout",
     "output_type": "stream",
     "text": [
      "{'name': 'Bob', 'age': 25, 'job': 'Dev'}\n"
     ]
    }
   ],
   "source": [
    "# Create a dictionary with a tuple of two-item lists\n",
    "T = (['name', 'Bob'],\n",
    "     ['age', 25],\n",
    "     ['job', 'Dev'])\n",
    "\n",
    "D = dict(T)\n",
    "print(D)\n",
    "# Prints {'name': 'Bob', 'age': 25, 'job': 'Dev'}"
   ]
  },
  {
   "cell_type": "code",
   "execution_count": 6,
   "id": "6357b578",
   "metadata": {},
   "outputs": [
    {
     "name": "stdout",
     "output_type": "stream",
     "text": [
      "{'name': 'Bob', 'age': 25, 'job': 'Dev'}\n"
     ]
    }
   ],
   "source": [
    "D = dict(name = 'Bob',\n",
    "         age = 25,\n",
    "         job = 'Dev')\n",
    "\n",
    "print(D)\n",
    "# Prints {'name': 'Bob', 'age': 25, 'job': 'Dev'}"
   ]
  },
  {
   "cell_type": "code",
   "execution_count": 7,
   "id": "ec77b37d",
   "metadata": {},
   "outputs": [
    {
     "name": "stdout",
     "output_type": "stream",
     "text": [
      "{'name': 'Bob', 'age': 25, 'job': 'Dev'}\n"
     ]
    }
   ],
   "source": [
    "# Create a dictionary with list of zipped keys/values\n",
    "keys = ['name', 'age', 'job']\n",
    "values = ['Bob', 25, 'Dev']\n",
    "\n",
    "D = dict(zip(keys, values))\n",
    "\n",
    "print(D)\n",
    "# Prints {'name': 'Bob', 'age': 25, 'job': 'Dev'}"
   ]
  },
  {
   "cell_type": "code",
   "execution_count": 8,
   "id": "5aa7ea55",
   "metadata": {},
   "outputs": [
    {
     "name": "stdout",
     "output_type": "stream",
     "text": [
      "{'a': 0, 'b': 0, 'c': 0}\n"
     ]
    }
   ],
   "source": [
    "# Initialize dictionary with default value '0' for each key\n",
    "keys = ['a', 'b', 'c']\n",
    "defaultValue = 0\n",
    "\n",
    "D = dict.fromkeys(keys,defaultValue)\n",
    "\n",
    "print(D)\n",
    "# Prints {'a': 0, 'b': 0, 'c': 0}"
   ]
  },
  {
   "cell_type": "code",
   "execution_count": 9,
   "id": "afaf9635",
   "metadata": {},
   "outputs": [
    {
     "name": "stdout",
     "output_type": "stream",
     "text": [
      "{'name': 'Jane', 'age': 25}\n"
     ]
    }
   ],
   "source": [
    "D = {'name': 'Bob',\n",
    "     'age': 25,\n",
    "     'name': 'Jane'}\n",
    "print(D)\n",
    "# Prints {'name': 'Jane', 'age': 25}"
   ]
  },
  {
   "cell_type": "code",
   "execution_count": 14,
   "id": "8f501436",
   "metadata": {},
   "outputs": [
    {
     "name": "stdout",
     "output_type": "stream",
     "text": [
      "{(2, 2): 25, True: 'a', 'name': 'Bob'}\n"
     ]
    }
   ],
   "source": [
    "D = {(2,2): 25,\n",
    "     True: 'a',\n",
    "     'name': 'Bob'}\n",
    "\n",
    "print(D)\n",
    "# Prints {(2, 2): 25, True: 'a', 'name': 'Bob'}"
   ]
  },
  {
   "cell_type": "code",
   "execution_count": 15,
   "id": "4ca95458",
   "metadata": {},
   "outputs": [
    {
     "name": "stdout",
     "output_type": "stream",
     "text": [
      "{'a': [1, 2], 'b': [1, 2], 'c': [1, 2]}\n"
     ]
    }
   ],
   "source": [
    "# values of different datatypes\n",
    "D = {'a':[1,2,3],\n",
    "     'b':{1,2,3}}\n",
    "\n",
    "# duplicate values\n",
    "D = {'a':[1,2],\n",
    "     'b':[1,2],\n",
    "     'c':[1,2]}\n",
    "\n",
    "print(D)\n",
    "# Prints {'a': [1, 2], 'b': [1, 2], 'c': [1, 2]}"
   ]
  },
  {
   "cell_type": "code",
   "execution_count": 16,
   "id": "447cceb9",
   "metadata": {},
   "outputs": [
    {
     "name": "stdout",
     "output_type": "stream",
     "text": [
      "None\n",
      "None\n"
     ]
    }
   ],
   "source": [
    "# When key is present\n",
    "print(D.get('name'))\n",
    "# Prints Bob\n",
    "\n",
    "# When key is absent\n",
    "print(D.get('salary'))\n",
    "# Prints None"
   ]
  },
  {
   "cell_type": "code",
   "execution_count": 17,
   "id": "5e2ed69b",
   "metadata": {},
   "outputs": [
    {
     "name": "stdout",
     "output_type": "stream",
     "text": [
      "{'name': 'Sam', 'age': 25, 'job': 'Dev'}\n"
     ]
    }
   ],
   "source": [
    "D = {'name': 'Bob',\n",
    "     'age': 25,\n",
    "     'job': 'Dev'}\n",
    "\n",
    "D['name'] = 'Sam'\n",
    "print(D)\n",
    "# Prints {'name': 'Sam', 'age': 25, 'job': 'Dev'}"
   ]
  },
  {
   "cell_type": "code",
   "execution_count": 18,
   "id": "689e6e56",
   "metadata": {},
   "outputs": [
    {
     "name": "stdout",
     "output_type": "stream",
     "text": [
      "{'name': 'Bob', 'age': 25, 'job': 'Dev', 'city': 'New York'}\n"
     ]
    }
   ],
   "source": [
    "D = {'name': 'Bob',\n",
    "     'age': 25,\n",
    "     'job': 'Dev'}\n",
    "\n",
    "D['city'] = 'New York'\n",
    "print(D)\n",
    "# Prints {'name': 'Bob', 'age': 25, 'job': 'Dev', 'city': 'New York'}"
   ]
  },
  {
   "cell_type": "code",
   "execution_count": 19,
   "id": "89d1cf8f",
   "metadata": {},
   "outputs": [
    {
     "name": "stdout",
     "output_type": "stream",
     "text": [
      "{'name': 'Bob', 'age': 30, 'job': 'Dev', 'city': 'New York', 'email': 'bob@web.com'}\n"
     ]
    }
   ],
   "source": [
    "D1 = {'name': 'Bob',\n",
    "      'age': 25,\n",
    "      'job': 'Dev'}\n",
    "\n",
    "D2 = {'age': 30,\n",
    "      'city': 'New York',\n",
    "      'email': 'bob@web.com'}\n",
    "\n",
    "D1.update(D2)\n",
    "print(D1)\n",
    "# Prints {'name': 'Bob', 'age': 30, 'job': 'Dev',\n",
    "#         'city': 'New York', 'email': 'bob@web.com'}"
   ]
  },
  {
   "cell_type": "code",
   "execution_count": 20,
   "id": "bbd80002",
   "metadata": {},
   "outputs": [
    {
     "name": "stdout",
     "output_type": "stream",
     "text": [
      "{'name': 'Bob', 'job': 'Dev'}\n",
      "25\n"
     ]
    }
   ],
   "source": [
    "D = {'name': 'Bob',\n",
    "     'age': 25,\n",
    "     'job': 'Dev'}\n",
    "\n",
    "x = D.pop('age')\n",
    "print(D)\n",
    "# Prints {'name': 'Bob', 'job': 'Dev'}\n",
    "\n",
    "# get removed value\n",
    "print(x)\n",
    "# Prints 25"
   ]
  },
  {
   "cell_type": "code",
   "execution_count": 21,
   "id": "9d393e87",
   "metadata": {},
   "outputs": [
    {
     "name": "stdout",
     "output_type": "stream",
     "text": [
      "{'name': 'Bob', 'job': 'Dev'}\n"
     ]
    }
   ],
   "source": [
    "D = {'name': 'Bob',\n",
    "     'age': 25,\n",
    "     'job': 'Dev'}\n",
    "\n",
    "del D['age']\n",
    "print(D)\n",
    "# Prints {'name': 'Bob', 'job': 'Dev'}"
   ]
  },
  {
   "cell_type": "code",
   "execution_count": 22,
   "id": "a8a21ebe",
   "metadata": {},
   "outputs": [
    {
     "name": "stdout",
     "output_type": "stream",
     "text": [
      "{'name': 'Bob', 'age': 25}\n",
      "('job', 'Dev')\n"
     ]
    }
   ],
   "source": [
    "D = {'name': 'Bob',\n",
    "     'age': 25,\n",
    "     'job': 'Dev'}\n",
    "\n",
    "x = D.popitem()\n",
    "print(D)\n",
    "# Prints {'name': 'Bob', 'age': 25}\n",
    "\n",
    "# get removed pair\n",
    "print(x)\n",
    "# Prints ('job', 'Dev')"
   ]
  },
  {
   "cell_type": "code",
   "execution_count": 23,
   "id": "34dc1d0f",
   "metadata": {},
   "outputs": [
    {
     "name": "stdout",
     "output_type": "stream",
     "text": [
      "{}\n"
     ]
    }
   ],
   "source": [
    "D = {'name': 'Bob',\n",
    "     'age': 25,\n",
    "     'job': 'Dev'}\n",
    "\n",
    "D.clear()\n",
    "print(D)\n",
    "# Prints {}"
   ]
  },
  {
   "cell_type": "code",
   "execution_count": 4,
   "id": "70896cf4",
   "metadata": {},
   "outputs": [
    {
     "name": "stdout",
     "output_type": "stream",
     "text": [
      "['name', 'age', 'job']\n",
      "['Bob', 25, 'Dev']\n",
      "[('name', 'Bob'), ('age', 25), ('job', 'Dev')]\n"
     ]
    }
   ],
   "source": [
    "D = {'name': 'Bob',\n",
    "     'age': 25,\n",
    "     'job': 'Dev'}\n",
    "\n",
    "# get all keys\n",
    "print(list(D.keys()))\n",
    "# Prints ['name', 'age', 'job']\n",
    "\n",
    "# get all values\n",
    "print(list(D.values()))\n",
    "# Prints ['Bob', 25, 'Dev']\n",
    "\n",
    "# get all pairs\n",
    "print(list(D.items()))\n",
    "# Prints [('name', 'Bob'), ('age', 25), ('job', 'Dev')]"
   ]
  },
  {
   "cell_type": "code",
   "execution_count": 25,
   "id": "9df30042",
   "metadata": {},
   "outputs": [
    {
     "name": "stdout",
     "output_type": "stream",
     "text": [
      "Bob\n",
      "25\n",
      "Dev\n"
     ]
    }
   ],
   "source": [
    "D = {'name': 'Bob',\n",
    "     'age': 25,\n",
    "     'job': 'Dev'}\n",
    "\n",
    "for x in D:\n",
    "    print(D[x])\n",
    "# Prints Bob 25 Dev"
   ]
  },
  {
   "cell_type": "code",
   "execution_count": 26,
   "id": "f2194065",
   "metadata": {},
   "outputs": [
    {
     "name": "stdout",
     "output_type": "stream",
     "text": [
      "True\n",
      "False\n"
     ]
    }
   ],
   "source": [
    "D = {'name': 'Bob',\n",
    "     'age': 25,\n",
    "     'job': 'Dev'}\n",
    "\n",
    "print('Bob' in D.values())\n",
    "# Prints True\n",
    "print('Sam' in D.values())\n",
    "# Prints False"
   ]
  },
  {
   "cell_type": "code",
   "execution_count": 27,
   "id": "77a11b92",
   "metadata": {},
   "outputs": [
    {
     "name": "stdout",
     "output_type": "stream",
     "text": [
      "3\n"
     ]
    }
   ],
   "source": [
    "D = {'name': 'Bob',\n",
    "     'age': 25,\n",
    "     'job': 'Dev'}\n",
    "\n",
    "print(len(D))\n",
    "# Prints 3"
   ]
  }
 ],
 "metadata": {
  "kernelspec": {
   "display_name": "Python 3",
   "language": "python",
   "name": "python3"
  },
  "language_info": {
   "codemirror_mode": {
    "name": "ipython",
    "version": 3
   },
   "file_extension": ".py",
   "mimetype": "text/x-python",
   "name": "python",
   "nbconvert_exporter": "python",
   "pygments_lexer": "ipython3",
   "version": "3.12.4"
  }
 },
 "nbformat": 4,
 "nbformat_minor": 5
}
