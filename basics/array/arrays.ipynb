{
  "cells": [
    {
      "cell_type": "code",
      "execution_count": 1,
      "id": "660dc055",
      "metadata": {},
      "outputs": [
        {
          "name": "stdout",
          "output_type": "stream",
          "text": [
            "3\n"
          ]
        }
      ],
      "source": [
        "n = int(input())\n",
        "\n",
        "arr = list(map(int, input().split()))\n",
        "\n",
        "print(*reversed(arr))\n"
      ]
    },
    {
      "cell_type": "code",
      "execution_count": 2,
      "id": "20b68418",
      "metadata": {},
      "outputs": [
        {
          "name": "stdout",
          "output_type": "stream",
          "text": [
            "4\n"
          ]
        }
      ],
      "source": [
        "(lambda x: print(*reversed(list(map(int,input().split())))))(input())"
      ]
    },
    {
      "cell_type": "code",
      "execution_count": null,
      "id": "3c7fafc5",
      "metadata": {
        "colab": {
          "base_uri": "https://localhost:8080/"
        },
        "id": "3c7fafc5",
        "outputId": "d4309c79-145b-478b-d3b7-d0c21cd4e4eb"
      },
      "outputs": [
        {
          "name": "stdout",
          "output_type": "stream",
          "text": [
            "[1 2 3]\n",
            "[[1 2 3]\n",
            " [4 5 6]]\n",
            "[1 3 2]\n",
            "[[[[[1 2 3 4 5]]]]]\n"
          ]
        }
      ],
      "source": [
        "import numpy as np\n",
        "\n",
        "# Creating a rank 1 Array\n",
        "arr = np.array([1, 2, 3])\n",
        "print(arr)\n",
        "\n",
        "# Creating a rank 2 Array\n",
        "arr = np.array([[1, 2, 3],\n",
        "                [4, 5, 6]])\n",
        "print(arr)\n",
        "\n",
        "# Creating an array from tuple\n",
        "arr = np.array((1, 3, 2))\n",
        "print(arr)\n",
        "\n",
        "#creating a rank 5 array\n",
        "arr = np.array([1, 2, 3, 4, 5], ndmin = 5)\n",
        "print(arr)\n",
        "\n"
      ]
    },
    {
      "cell_type": "code",
      "execution_count": 1,
      "id": "3cd5a0e5",
      "metadata": {},
      "outputs": [
        {
          "name": "stdout",
          "output_type": "stream",
          "text": [
            "[[0.11260894 0.70597227 0.0251086 ]\n",
            " [0.2287427  0.32352788 0.42516848]]\n",
            "[[0.5844326  0.17037514]\n",
            " [1.26422531 0.4271048 ]]\n",
            "[[9 6 5]\n",
            " [4 1 6]]\n"
          ]
        }
      ],
      "source": [
        "import numpy as np\n",
        "\n",
        "random_array = np.random.rand(2, 3)\n",
        "normal_array = np.random.randn(2, 2)\n",
        "randint_array = np.random.randint(1, 10, size=(2, 3))  \n",
        "\n",
        "print(random_array)\n",
        "print(normal_array)\n",
        "print(randint_array)"
      ]
    },
    {
      "cell_type": "code",
      "execution_count": null,
      "id": "f116c16f",
      "metadata": {},
      "outputs": [],
      "source": []
    }
  ],
  "metadata": {
    "colab": {
      "provenance": []
    },
    "kernelspec": {
      "display_name": "Python 3",
      "language": "python",
      "name": "python3"
    },
    "language_info": {
      "codemirror_mode": {
        "name": "ipython",
        "version": 3
      },
      "file_extension": ".py",
      "mimetype": "text/x-python",
      "name": "python",
      "nbconvert_exporter": "python",
      "pygments_lexer": "ipython3",
      "version": "3.12.4"
    }
  },
  "nbformat": 4,
  "nbformat_minor": 5
}
