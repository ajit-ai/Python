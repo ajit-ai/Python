{
 "cells": [
  {
   "cell_type": "markdown",
   "id": "6538d91f",
   "metadata": {},
   "source": [
    "Python Operators\n",
    "Operators are used to perform operations on variables and values.\n",
    "\n",
    "In the example below, we use the + operator to add together two values:\n",
    "\n",
    "\n",
    "\n",
    "Python divides the operators in the following groups:\n",
    "\n",
    "Arithmetic operators\n",
    "Assignment operators\n",
    "Comparison operators\n",
    "Logical operators\n",
    "Identity operators\n",
    "Membership operators\n",
    "Bitwise operators"
   ]
  },
  {
   "cell_type": "code",
   "execution_count": 1,
   "id": "39bb112c",
   "metadata": {},
   "outputs": [
    {
     "name": "stdout",
     "output_type": "stream",
     "text": [
      "15\n",
      "8\n",
      "5\n"
     ]
    }
   ],
   "source": [
    "x = 5\n",
    "print(10 + 5)\n",
    "\n",
    "x += 3\n",
    "print(x)\n",
    "\n",
    "x -= 3\n",
    "print(x)\n",
    "\n",
    "\n"
   ]
  },
  {
   "cell_type": "code",
   "execution_count": 1,
   "id": "ff334f6c",
   "metadata": {},
   "outputs": [
    {
     "name": "stdout",
     "output_type": "stream",
     "text": [
      "4\n"
     ]
    }
   ],
   "source": [
    "def solve(meal_cost, tip_percent, tax_percent):\n",
    "\n",
    "    tip_cost = meal_cost * tip_percent / 100\n",
    "    tax_cost = meal_cost * tax_percent / 100\n",
    "    total_cost = meal_cost + tip_cost + tax_cost\n",
    "    \n",
    "    print(\"%d\" % round(total_cost, 0))\n",
    "\n",
    "\n",
    "meal_cost = float(input())\n",
    "tip_percent = int(input())\n",
    "tax_percent = int(input())\n",
    "\n",
    "solve(meal_cost, tip_percent, tax_percent)"
   ]
  }
 ],
 "metadata": {
  "kernelspec": {
   "display_name": "Python 3",
   "language": "python",
   "name": "python3"
  },
  "language_info": {
   "codemirror_mode": {
    "name": "ipython",
    "version": 3
   },
   "file_extension": ".py",
   "mimetype": "text/x-python",
   "name": "python",
   "nbconvert_exporter": "python",
   "pygments_lexer": "ipython3",
   "version": "3.12.4"
  }
 },
 "nbformat": 4,
 "nbformat_minor": 5
}
