{
 "cells": [
  {
   "cell_type": "code",
   "execution_count": 1,
   "id": "14373e18",
   "metadata": {},
   "outputs": [
    {
     "name": "stdout",
     "output_type": "stream",
     "text": [
      "True\n",
      "False\n"
     ]
    }
   ],
   "source": [
    "def is_even(num):\n",
    "    return num % 2 == 0\n",
    "\n",
    "print(is_even(4))  # True\n",
    "print(is_even(5))  # False"
   ]
  },
  {
   "cell_type": "code",
   "execution_count": 2,
   "id": "48b8f340",
   "metadata": {},
   "outputs": [
    {
     "name": "stdout",
     "output_type": "stream",
     "text": [
      "Ajit Kumar\n"
     ]
    }
   ],
   "source": [
    "str1 = \"Ajit\"\n",
    "str2 = \"Kumar\"\n",
    "result = str1 + \" \" + str2\n",
    "print(result) # Ajit Kumar"
   ]
  },
  {
   "cell_type": "code",
   "execution_count": 3,
   "id": "20bc2c9c",
   "metadata": {},
   "outputs": [
    {
     "name": "stdout",
     "output_type": "stream",
     "text": [
      "3\n"
     ]
    }
   ],
   "source": [
    "def max_of_three(a, b, c):\n",
    "    return max(a, b, c)\n",
    "\n",
    "print(max_of_three(1, 2, 3))  # 3"
   ]
  },
  {
   "cell_type": "code",
   "execution_count": 4,
   "id": "c2fd2d7c",
   "metadata": {},
   "outputs": [
    {
     "name": "stdout",
     "output_type": "stream",
     "text": [
      "3\n"
     ]
    }
   ],
   "source": [
    "def count_vowels(s):\n",
    "    return sum(1 for char in s if char.lower() in 'aeiou')\n",
    "\n",
    "print(count_vowels(\"Hello World\"))  # 3"
   ]
  },
  {
   "cell_type": "code",
   "execution_count": 5,
   "id": "3a5acbba",
   "metadata": {},
   "outputs": [
    {
     "name": "stdout",
     "output_type": "stream",
     "text": [
      "[(1, 1), (1, 2), (2, 1), (2, 2)]\n"
     ]
    }
   ],
   "source": [
    "import itertools\n",
    "\n",
    "# Example: product of [1, 2] repeated 2 times\n",
    "result = list(itertools.product([1, 2], repeat=2))\n",
    "print(result)\n",
    "# Output: [(1, 1), (1, 2), (2, 1), (2, 2)]"
   ]
  },
  {
   "cell_type": "code",
   "execution_count": 7,
   "id": "ff0a2b2f",
   "metadata": {},
   "outputs": [
    {
     "name": "stdout",
     "output_type": "stream",
     "text": [
      "Error: not enough values to unpack (expected 2, got 1)\n"
     ]
    }
   ],
   "source": [
    "# Enter your code here. Read input from STDIN. Print output to STDOUT\n",
    "def combinations_with_replacement(iterable, r):\n",
    "    # Convert iterable to sorted list to ensure lexicographic order\n",
    "    elements = sorted(list(iterable))\n",
    "    n = len(elements)\n",
    "    \n",
    "    # Handle edge cases: r == 0 or empty iterable\n",
    "    if r == 0:\n",
    "        yield ()\n",
    "        return\n",
    "    if n == 0:\n",
    "        return\n",
    "    \n",
    "    def generate_combination(current_combination, start_pos, remaining_length):\n",
    "        if remaining_length == 0:\n",
    "            yield tuple(current_combination)\n",
    "            return\n",
    "        for i in range(start_pos, n):\n",
    "            # Include current element and allow repetition\n",
    "            current_combination.append(elements[i])\n",
    "            yield from generate_combination(current_combination, i, remaining_length - 1)\n",
    "            current_combination.pop()\n",
    "    \n",
    "    yield from generate_combination([], 0, r)\n",
    "\n",
    "if __name__ == '__main__':\n",
    "    try:\n",
    "        # Read input: string S and integer k\n",
    "        S, k = input().strip().split()\n",
    "        k = int(k)\n",
    "        \n",
    "        # Validate constraints\n",
    "        if k < 0 or k > len(S):\n",
    "            raise ValueError(\"k must be between 0 and length of string\")\n",
    "        if not S.isupper():\n",
    "            raise ValueError(\"String must contain only uppercase letters\")\n",
    "        \n",
    "        # Generate and print combinations in lexicographic order\n",
    "        for combo in combinations_with_replacement(S, k):\n",
    "            print(''.join(combo))\n",
    "    \n",
    "    except ValueError as e:\n",
    "        print(f\"Error: {e}\")\n",
    "    except Exception:\n",
    "        print(\"Error: Invalid input\")"
   ]
  }
 ],
 "metadata": {
  "kernelspec": {
   "display_name": "Python 3",
   "language": "python",
   "name": "python3"
  },
  "language_info": {
   "codemirror_mode": {
    "name": "ipython",
    "version": 3
   },
   "file_extension": ".py",
   "mimetype": "text/x-python",
   "name": "python",
   "nbconvert_exporter": "python",
   "pygments_lexer": "ipython3",
   "version": "3.12.4"
  }
 },
 "nbformat": 4,
 "nbformat_minor": 5
}
