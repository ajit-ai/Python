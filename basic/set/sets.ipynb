{
 "cells": [
  {
   "cell_type": "code",
   "execution_count": 1,
   "id": "c4e5bb2b",
   "metadata": {},
   "outputs": [
    {
     "name": "stdout",
     "output_type": "stream",
     "text": [
      "{'apple', 'banana', 'cherry'}\n"
     ]
    }
   ],
   "source": [
    "thisset = {\"apple\", \"banana\", \"cherry\"}\n",
    "print(thisset)"
   ]
  },
  {
   "cell_type": "code",
   "execution_count": 1,
   "id": "10c39782",
   "metadata": {},
   "outputs": [
    {
     "name": "stdout",
     "output_type": "stream",
     "text": [
      "{1, 2, 3, 4, 5}\n",
      "{1, 2, 3, 4, 5, 6}\n",
      "{1, 2, 3, 5, 6}\n"
     ]
    }
   ],
   "source": [
    "# Create a basic set\n",
    "my_set = {1, 2, 3, 4, 5}\n",
    "print(my_set)  # Output: {1, 2, 3, 4, 5}\n",
    "\n",
    "# Add an element to the set\n",
    "my_set.add(6)\n",
    "print(my_set)  # Output: {1, 2, 3, 4, 5, 6}\n",
    "\n",
    "# Remove an element from the set\n",
    "my_set.remove(4)\n",
    "print(my_set)  # Output: {1, 2, 3, 5, 6}"
   ]
  },
  {
   "cell_type": "code",
   "execution_count": 9,
   "id": "6d002808",
   "metadata": {},
   "outputs": [
    {
     "name": "stdout",
     "output_type": "stream",
     "text": [
      "frozenset({1, 2, 3, 4, 5})\n",
      "Frozen sets are immutable!\n"
     ]
    }
   ],
   "source": [
    "# Create a frozen set\n",
    "my_frozen_set = frozenset({1, 2, 3, 4, 5})\n",
    "print(my_frozen_set)  # Output: frozenset({1, 2, 3, 4, 5})\n",
    "\n",
    "# Attempt to add an element to the frozen set\n",
    "try:\n",
    "    my_frozen_set.add(6)\n",
    "except AttributeError:\n",
    "    print(\"Frozen sets are immutable!\")"
   ]
  },
  {
   "cell_type": "code",
   "execution_count": 10,
   "id": "c32f8642",
   "metadata": {},
   "outputs": [
    {
     "name": "stdout",
     "output_type": "stream",
     "text": [
      "{1, 2, 3, 4, 5, 6}\n",
      "{3, 4}\n",
      "{1, 2}\n"
     ]
    }
   ],
   "source": [
    "# Create two sets\n",
    "set_a = {1, 2, 3, 4}\n",
    "set_b = {3, 4, 5, 6}\n",
    "\n",
    "# Union of two sets\n",
    "union_set = set_a.union(set_b)\n",
    "print(union_set)  # Output: {1, 2, 3, 4, 5, 6}\n",
    "\n",
    "# Intersection of two sets\n",
    "intersection_set = set_a.intersection(set_b)\n",
    "print(intersection_set)  # Output: {3, 4}\n",
    "\n",
    "# Difference of two sets\n",
    "difference_set = set_a.difference(set_b)\n",
    "print(difference_set)  # Output: {1, 2}"
   ]
  },
  {
   "cell_type": "code",
   "execution_count": 11,
   "id": "a5fb27bb",
   "metadata": {},
   "outputs": [
    {
     "name": "stdout",
     "output_type": "stream",
     "text": [
      "{1, 4, 9, 16, 25}\n"
     ]
    }
   ],
   "source": [
    "# Create a set using set comprehension\n",
    "my_set = {x**2 for x in range(1, 6)}\n",
    "print(my_set)  # Output: {1, 4, 9, 16, 25}"
   ]
  },
  {
   "cell_type": "markdown",
   "id": "00ea8e2b",
   "metadata": {},
   "source": [
    "1. Set Intersection with Multiple Sets\n",
    "You can use the intersection method to find the common elements among multiple sets."
   ]
  },
  {
   "cell_type": "code",
   "execution_count": 12,
   "id": "e5be9724",
   "metadata": {},
   "outputs": [
    {
     "name": "stdout",
     "output_type": "stream",
     "text": [
      "{3, 4}\n"
     ]
    }
   ],
   "source": [
    "# Create three sets\n",
    "set_a = {1, 2, 3, 4}\n",
    "set_b = {3, 4, 5, 6}\n",
    "set_c = {3, 4, 7, 8}\n",
    "\n",
    "# Intersection of three sets\n",
    "intersection_set = set_a.intersection(set_b, set_c)\n",
    "print(intersection_set)  # Output: {3, 4}"
   ]
  },
  {
   "cell_type": "markdown",
   "id": "6aaeb222",
   "metadata": {},
   "source": [
    "2. Set Union with Multiple Sets\n",
    "You can use the union method to find the combined elements among multiple sets."
   ]
  },
  {
   "cell_type": "code",
   "execution_count": 13,
   "id": "86333fd4",
   "metadata": {},
   "outputs": [
    {
     "name": "stdout",
     "output_type": "stream",
     "text": [
      "{1, 2, 3, 4, 5, 6, 7, 8}\n"
     ]
    }
   ],
   "source": [
    "# Create three sets\n",
    "set_a = {1, 2, 3, 4}\n",
    "set_b = {3, 4, 5, 6}\n",
    "set_c = {3, 4, 7, 8}\n",
    "\n",
    "# Union of three sets\n",
    "union_set = set_a.union(set_b, set_c)\n",
    "print(union_set)  # Output: {1, 2, 3, 4, 5, 6, 7, 8}"
   ]
  },
  {
   "cell_type": "markdown",
   "id": "eee3245b",
   "metadata": {},
   "source": [
    "3. Set Difference with Multiple Sets\n",
    "You can use the difference method to find the elements that are in one set but not in multiple other sets."
   ]
  },
  {
   "cell_type": "code",
   "execution_count": 14,
   "id": "713a7929",
   "metadata": {},
   "outputs": [
    {
     "name": "stdout",
     "output_type": "stream",
     "text": [
      "{1, 2}\n"
     ]
    }
   ],
   "source": [
    "# Create three sets\n",
    "set_a = {1, 2, 3, 4}\n",
    "set_b = {3, 4, 5, 6}\n",
    "set_c = {3, 4, 7, 8}\n",
    "\n",
    "# Difference of set_a and set_b, set_c\n",
    "difference_set = set_a.difference(set_b, set_c)\n",
    "print(difference_set)  # Output: {1, 2}"
   ]
  },
  {
   "cell_type": "markdown",
   "id": "5c554c53",
   "metadata": {},
   "source": [
    "4. Symmetric Difference of Sets\n",
    "You can use the symmetric_difference method to find the elements that are in either of two sets, but not in their intersection."
   ]
  },
  {
   "cell_type": "code",
   "execution_count": 15,
   "id": "23004383",
   "metadata": {},
   "outputs": [
    {
     "name": "stdout",
     "output_type": "stream",
     "text": [
      "{1, 2, 5, 6}\n"
     ]
    }
   ],
   "source": [
    "# Create two sets\n",
    "set_a = {1, 2, 3, 4}\n",
    "set_b = {3, 4, 5, 6}\n",
    "\n",
    "# Symmetric difference of set_a and set_b\n",
    "symmetric_difference_set = set_a.symmetric_difference(set_b)\n",
    "print(symmetric_difference_set)  # Output: {1, 2, 5, 6}"
   ]
  },
  {
   "cell_type": "markdown",
   "id": "07e6fc46",
   "metadata": {},
   "source": [
    "5. Set Operations with Other Data Structures\n",
    "You can use sets with other data structures, such as lists and tuples."
   ]
  },
  {
   "cell_type": "code",
   "execution_count": 16,
   "id": "6ff031c2",
   "metadata": {},
   "outputs": [
    {
     "name": "stdout",
     "output_type": "stream",
     "text": [
      "{1, 2, 3, 4}\n",
      "{3, 4}\n"
     ]
    }
   ],
   "source": [
    "# Create a list and a set\n",
    "my_list = [1, 2, 2, 3, 4]\n",
    "my_set = {3, 4, 5, 6}\n",
    "\n",
    "# Convert the list to a set\n",
    "my_list_set = set(my_list)\n",
    "print(my_list_set)  # Output: {1, 2, 3, 4}\n",
    "\n",
    "# Intersection of the set and the list-set\n",
    "intersection_set = my_set.intersection(my_list_set)\n",
    "print(intersection_set)  # Output: {3, 4}"
   ]
  },
  {
   "cell_type": "markdown",
   "id": "93898011",
   "metadata": {},
   "source": [
    "6. Set Comprehension with Conditions\n",
    "You can use set comprehensions with conditions to create sets based on certain criteria."
   ]
  },
  {
   "cell_type": "code",
   "execution_count": 17,
   "id": "16c97cff",
   "metadata": {},
   "outputs": [
    {
     "name": "stdout",
     "output_type": "stream",
     "text": [
      "{2, 4, 6, 8, 10}\n"
     ]
    }
   ],
   "source": [
    "# Create a set using set comprehension with conditions\n",
    "my_set = {x for x in range(1, 11) if x % 2 == 0}\n",
    "print(my_set)  # Output: {2, 4, 6, 8, 10}"
   ]
  },
  {
   "cell_type": "markdown",
   "id": "71790951",
   "metadata": {},
   "source": [
    "7. Set Comprehension with Nested Loops\n",
    "You can use set comprehensions with nested loops to create sets based on multiple iterables."
   ]
  },
  {
   "cell_type": "code",
   "execution_count": 18,
   "id": "79c61c0c",
   "metadata": {},
   "outputs": [
    {
     "name": "stdout",
     "output_type": "stream",
     "text": [
      "{(1, 1), (1, 2), (2, 1), (2, 2)}\n"
     ]
    }
   ],
   "source": [
    "# Create a set using set comprehension with nested loops\n",
    "my_set = {(x, y) for x in range(1, 3) for y in range(1, 3)}\n",
    "print(my_set)  # Output: {(1, 1), (1, 2), (2, 1), (2, 2)}"
   ]
  }
 ],
 "metadata": {
  "kernelspec": {
   "display_name": "Python 3",
   "language": "python",
   "name": "python3"
  },
  "language_info": {
   "codemirror_mode": {
    "name": "ipython",
    "version": 3
   },
   "file_extension": ".py",
   "mimetype": "text/x-python",
   "name": "python",
   "nbconvert_exporter": "python",
   "pygments_lexer": "ipython3",
   "version": "3.12.4"
  }
 },
 "nbformat": 4,
 "nbformat_minor": 5
}
