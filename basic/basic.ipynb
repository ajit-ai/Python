{
 "cells": [
  {
   "cell_type": "code",
   "execution_count": 73,
   "id": "e1f5650a",
   "metadata": {},
   "outputs": [
    {
     "name": "stdout",
     "output_type": "stream",
     "text": [
      "Hello, World!\n"
     ]
    }
   ],
   "source": [
    "print(\"Hello, World!\")"
   ]
  },
  {
   "cell_type": "code",
   "execution_count": 74,
   "id": "12781b81",
   "metadata": {},
   "outputs": [
    {
     "name": "stdout",
     "output_type": "stream",
     "text": [
      "3.12.4 (tags/v3.12.4:8e8a4ba, Jun  6 2024, 19:30:16) [MSC v.1940 64 bit (AMD64)]\n"
     ]
    }
   ],
   "source": [
    "import sys\n",
    "\n",
    "print(sys.version)"
   ]
  },
  {
   "cell_type": "code",
   "execution_count": 75,
   "id": "1c0df051",
   "metadata": {},
   "outputs": [
    {
     "name": "stdout",
     "output_type": "stream",
     "text": [
      "Five is greater than two!\n"
     ]
    }
   ],
   "source": [
    "if 5 > 2:\n",
    "  print(\"Five is greater than two!\")\n",
    "else:\n",
    "    # comment: This is an else block\n",
    "    print(\"Five is not greater than two!\")"
   ]
  },
  {
   "cell_type": "code",
   "execution_count": 76,
   "id": "1ff1363b",
   "metadata": {},
   "outputs": [
    {
     "name": "stdout",
     "output_type": "stream",
     "text": [
      "Five is greater than two!\n",
      "Five is greater than two again!\n"
     ]
    }
   ],
   "source": [
    "if 5 > 2:\n",
    " print(\"Five is greater than two!\") \n",
    "if 5 > 2:\n",
    "        print(\"Five is greater than two again!\") "
   ]
  },
  {
   "cell_type": "code",
   "execution_count": 77,
   "id": "2d9570c6",
   "metadata": {},
   "outputs": [
    {
     "name": "stdout",
     "output_type": "stream",
     "text": [
      "Five is greater than two!\n",
      "Five is greater than two again!\n"
     ]
    }
   ],
   "source": [
    "if 5 > 2:\n",
    " print(\"Five is greater than two!\")\n",
    " print(\"Five is greater than two again!\")"
   ]
  },
  {
   "cell_type": "code",
   "execution_count": 1,
   "id": "2a7d43da",
   "metadata": {},
   "outputs": [
    {
     "name": "stdout",
     "output_type": "stream",
     "text": [
      "5\n",
      "Hello, World!\n"
     ]
    }
   ],
   "source": [
    "x = 5\n",
    "y = \"Hello, World!\"\n",
    "print(x)\n",
    "print(y)"
   ]
  },
  {
   "cell_type": "code",
   "execution_count": 79,
   "id": "d87a2479",
   "metadata": {},
   "outputs": [
    {
     "name": "stdout",
     "output_type": "stream",
     "text": [
      "3 3 3.0 (3+0j)\n"
     ]
    }
   ],
   "source": [
    "x = str(3)    # x will be '3'\n",
    "y = int(3)    # y will be 3\n",
    "z = float(3)  # z will be 3.0\n",
    "a = complex(3)  # a will be 3+0j\n",
    "print(x, y, z, a)"
   ]
  },
  {
   "cell_type": "code",
   "execution_count": 2,
   "id": "ea3ec279",
   "metadata": {},
   "outputs": [],
   "source": [
    "myvar = \"John\"\n",
    "my_var = \"John\"\n",
    "_my_var = \"John\"\n",
    "myVar = \"John\"\n",
    "MYVAR = \"John\"\n",
    "myvar2 = \"John\""
   ]
  },
  {
   "cell_type": "code",
   "execution_count": 3,
   "id": "a364fd44",
   "metadata": {},
   "outputs": [
    {
     "name": "stdout",
     "output_type": "stream",
     "text": [
      "Orange\n",
      "Banana\n",
      "Mango\n"
     ]
    }
   ],
   "source": [
    "x, y, z = \"Orange\", \"Banana\", \"Mango\"\n",
    "print(x)\n",
    "print(y)\n",
    "print(z)"
   ]
  },
  {
   "cell_type": "code",
   "execution_count": 4,
   "id": "a590891f",
   "metadata": {},
   "outputs": [
    {
     "name": "stdout",
     "output_type": "stream",
     "text": [
      "Orange\n",
      "Orange\n",
      "Orange\n"
     ]
    }
   ],
   "source": [
    "x = y = z = \"Orange\"\n",
    "print(x)\n",
    "print(y)\n",
    "print(z)"
   ]
  },
  {
   "cell_type": "code",
   "execution_count": 5,
   "id": "b4121396",
   "metadata": {},
   "outputs": [
    {
     "name": "stdout",
     "output_type": "stream",
     "text": [
      "apple\n",
      "banana\n",
      "mango\n"
     ]
    }
   ],
   "source": [
    "fruits = [\"apple\", \"banana\", \"mango\"]\n",
    "x, y, z = fruits\n",
    "print(x)\n",
    "print(y)\n",
    "print(z)"
   ]
  },
  {
   "cell_type": "code",
   "execution_count": 6,
   "id": "416b7158",
   "metadata": {},
   "outputs": [
    {
     "name": "stdout",
     "output_type": "stream",
     "text": [
      "Ajit is good\n"
     ]
    }
   ],
   "source": [
    "x = \"Ajit is good\"\n",
    "print(x)"
   ]
  },
  {
   "cell_type": "code",
   "execution_count": 7,
   "id": "31e69968",
   "metadata": {},
   "outputs": [
    {
     "name": "stdout",
     "output_type": "stream",
     "text": [
      "ajit is good\n",
      "ajit is good\n",
      "ajit is good\n",
      "ajit is good!\n"
     ]
    }
   ],
   "source": [
    "x = \"ajit\"\n",
    "y = \"is\"\n",
    "z = \"good\"\n",
    "print(x, y, z)\n",
    "print(x + \" \" + y + \" \" + z)\n",
    "print(\"\" + x + \" \" + y + \" \" + z)\n",
    "print(x + \" \" + y + \" \" + z + \"!\")"
   ]
  },
  {
   "cell_type": "code",
   "execution_count": 8,
   "id": "0d06764f",
   "metadata": {},
   "outputs": [
    {
     "name": "stdout",
     "output_type": "stream",
     "text": [
      "Python is good\n",
      "Python isgood\n"
     ]
    }
   ],
   "source": [
    "x = \"Python \"\n",
    "y = \"is \"\n",
    "z = \"good\"\n",
    "print(x + y + z)\n",
    "print(x + \"is\" + z)"
   ]
  },
  {
   "cell_type": "code",
   "execution_count": null,
   "id": "cff31817",
   "metadata": {},
   "outputs": [
    {
     "name": "stdout",
     "output_type": "stream",
     "text": [
      "1, Addition:  15\n",
      "-5\n",
      "50\n",
      "0.5\n",
      "9765625\n",
      "0\n",
      "5\n",
      "0\n",
      "15\n",
      "15\n",
      "10\n",
      "2\n",
      "-6\n",
      "False\n",
      "True\n",
      "False\n",
      "True\n",
      "False\n",
      "True\n",
      "10\n",
      "5\n",
      "False\n",
      "False\n",
      "True\n"
     ]
    }
   ],
   "source": [
    "x = 5\n",
    "y = 10\n",
    "print(\"1. Addition: \", x + y)\n",
    "print(x - y)\n",
    "print(x * y)\n",
    "print(x / y) \n",
    "print(x ** y)  # x raised to the power of y\n",
    "print(x // y)  # floor division\n",
    "print(x % y)   # modulus\n",
    "print(x & y)   # bitwise AND\n",
    "print(x | y)   # bitwise OR\n",
    "print(x ^ y)   # bitwise XOR\n",
    "print(x << 1)  # left shift\n",
    "print(x >> 1)  # right shift\n",
    "print(~x)      # bitwise NOT\n",
    "print(x == y)  # equal to\n",
    "print(x != y)  # not equal to\n",
    "print(x > y)   # greater than\n",
    "print(x < y)   # less than\n",
    "print(x >= y)  # greater than or equal to\n",
    "print(x <= y)  # less than or equal to\n",
    "print(x and y)  # logical AND\n",
    "print(x or y)   # logical OR\n",
    "print(not x)     # logical NOT\n",
    "print(x is y)   # identity operator\n",
    "print(x is not y)  # identity operator\n",
    "#print(x in y)   # membership operator\n",
    "#print(x not in y)  # membership operator\n"
   ]
  },
  {
   "cell_type": "code",
   "execution_count": 10,
   "id": "360255d9",
   "metadata": {},
   "outputs": [
    {
     "name": "stdout",
     "output_type": "stream",
     "text": [
      "Arithmetic Operations for a=10, b=3:\n",
      "Addition (a + b): 13\n",
      "Subtraction (a - b): 7\n",
      "Multiplication (a * b): 30\n",
      "Division (a / b): 3.3333333333333335\n",
      "Floor Division (a // b): 3\n",
      "Modulus (a % b): 1\n",
      "Exponentiation (a ** b): 1000\n",
      "------------------------------\n",
      "Comparison Operations for a=15, b=7:\n",
      "Equal (a == b): False\n",
      "Not Equal (a != b): True\n",
      "Greater Than (a > b): True\n",
      "Less Than (a < b): False\n",
      "Greater Than or Equal (a >= b): True\n",
      "Less Than or Equal (a <= b): False\n",
      "------------------------------\n",
      "Logical Operations for x=True, y=False:\n",
      "AND (x and y): False\n",
      "OR (x or y): True\n",
      "NOT (not x): False\n",
      "------------------------------\n",
      "Assignment Operations:\n",
      "Initial x: 10\n",
      "x += 5: 15\n",
      "x -= 3: 12\n",
      "x *= 2: 24\n",
      "x /= 4: 6.0\n",
      "x //= 1: 6.0\n",
      "x %= 3: 0.0\n",
      "x **= 2: 0.0\n",
      "------------------------------\n",
      "Identity Operations:\n",
      "list1 is list2: False\n",
      "list1 is list3: True\n",
      "list1 is not list2: True\n",
      "------------------------------\n"
     ]
    }
   ],
   "source": [
    "\n",
    "\n",
    "# --- Arithmetic Operations ---\n",
    "def arithmetic_operations(a, b):\n",
    "    print(f\"Arithmetic Operations for a={a}, b={b}:\")\n",
    "    print(f\"Addition (a + b): {a + b}\")\n",
    "    print(f\"Subtraction (a - b): {a - b}\")\n",
    "    print(f\"Multiplication (a * b): {a * b}\")\n",
    "    print(f\"Division (a / b): {a / b}\")\n",
    "    print(f\"Floor Division (a // b): {a // b}\")\n",
    "    print(f\"Modulus (a % b): {a % b}\")\n",
    "    print(f\"Exponentiation (a ** b): {a ** b}\")\n",
    "    print(\"-\" * 30)\n",
    "\n",
    "# --- Comparison Operations ---\n",
    "def comparison_operations(a, b):\n",
    "    print(f\"Comparison Operations for a={a}, b={b}:\")\n",
    "    print(f\"Equal (a == b): {a == b}\")\n",
    "    print(f\"Not Equal (a != b): {a != b}\")\n",
    "    print(f\"Greater Than (a > b): {a > b}\")\n",
    "    print(f\"Less Than (a < b): {a < b}\")\n",
    "    print(f\"Greater Than or Equal (a >= b): {a >= b}\")\n",
    "    print(f\"Less Than or Equal (a <= b): {a <= b}\")\n",
    "    print(\"-\" * 30)\n",
    "\n",
    "# --- Logical Operations ---\n",
    "def logical_operations(x, y):\n",
    "    print(f\"Logical Operations for x={x}, y={y}:\")\n",
    "    print(f\"AND (x and y): {x and y}\")\n",
    "    print(f\"OR (x or y): {x or y}\")\n",
    "    print(f\"NOT (not x): {not x}\")\n",
    "    print(\"-\" * 30)\n",
    "\n",
    "# --- Assignment Operations ---\n",
    "def assignment_operations():\n",
    "    print(\"Assignment Operations:\")\n",
    "    x = 10\n",
    "    print(f\"Initial x: {x}\")\n",
    "    x += 5\n",
    "    print(f\"x += 5: {x}\")\n",
    "    x -= 3\n",
    "    print(f\"x -= 3: {x}\")\n",
    "    x *= 2\n",
    "    print(f\"x *= 2: {x}\")\n",
    "    x /= 4\n",
    "    print(f\"x /= 4: {x}\")\n",
    "    x //= 1\n",
    "    print(f\"x //= 1: {x}\")\n",
    "    x %= 3\n",
    "    print(f\"x %= 3: {x}\")\n",
    "    x **= 2\n",
    "    print(f\"x **= 2: {x}\")\n",
    "    print(\"-\" * 30)\n",
    "\n",
    "# --- Identity Operations ---\n",
    "def identity_operations():\n",
    "    print(\"Identity Operations:\")\n",
    "    list1 = [1, 2, 3]\n",
    "    list2 = [1, 2, 3]\n",
    "    list3 = list1\n",
    "    print(f\"list1 is list2: {list1 is list2}\")\n",
    "    print(f\"list1 is list3: {list1 is list3}\")\n",
    "    print(f\"list1 is not list2: {list1 is not list2}\")\n",
    "    print(\"-\" * 30)\n",
    "\n",
    "# Main execution block\n",
    "if __name__ == \"__main__\":\n",
    "    arithmetic_operations(10, 3)\n",
    "    comparison_operations(15, 7)\n",
    "    logical_operations(True, False)\n",
    "    assignment_operations()\n",
    "    identity_operations()"
   ]
  },
  {
   "cell_type": "code",
   "execution_count": 89,
   "id": "61c64330",
   "metadata": {},
   "outputs": [
    {
     "name": "stdout",
     "output_type": "stream",
     "text": [
      "5 India\n"
     ]
    }
   ],
   "source": [
    "x = 5\n",
    "y = \"India\"\n",
    "print(x, y)"
   ]
  },
  {
   "cell_type": "code",
   "execution_count": 90,
   "id": "5fdd4325",
   "metadata": {},
   "outputs": [
    {
     "name": "stdout",
     "output_type": "stream",
     "text": [
      "Python is awesome\n",
      "Ajit is Ajit\n"
     ]
    }
   ],
   "source": [
    "x = \"awesome\"\n",
    "y = \"Ajit\"\n",
    "\n",
    "def myfunc():\n",
    "  print(\"Python is \" + x)\n",
    "def ajit():\n",
    "  print(\"Ajit is \" + y)\n",
    "\n",
    "myfunc()\n",
    "ajit()"
   ]
  },
  {
   "cell_type": "code",
   "execution_count": 91,
   "id": "ee0d0e6e",
   "metadata": {},
   "outputs": [
    {
     "name": "stdout",
     "output_type": "stream",
     "text": [
      "Python is kumar\n",
      "Python is ajit\n"
     ]
    }
   ],
   "source": [
    "x = \"ajit\"\n",
    "\n",
    "def ajit():\n",
    "  x = \"kumar\"\n",
    "  print(\"Python is \" + x)\n",
    "\n",
    "ajit()\n",
    "\n",
    "print(\"Python is \" + x)"
   ]
  },
  {
   "cell_type": "code",
   "execution_count": 92,
   "id": "36bb3789",
   "metadata": {},
   "outputs": [
    {
     "name": "stdout",
     "output_type": "stream",
     "text": [
      "India is a Great Country\n",
      "India is a Powerfull Country\n"
     ]
    }
   ],
   "source": [
    "x = \"Great Country\"\n",
    "print(\"India is a \" + x)\n",
    "\n",
    "def myfunc():\n",
    "  global x\n",
    "  x = \"Powerfull Country\"\n",
    "\n",
    "myfunc()\n",
    "\n",
    "print(\"India is a \" + x)"
   ]
  },
  {
   "cell_type": "code",
   "execution_count": 93,
   "id": "a57e7b7a",
   "metadata": {},
   "outputs": [
    {
     "name": "stdout",
     "output_type": "stream",
     "text": [
      "Not Weird\n"
     ]
    }
   ],
   "source": [
    "import sys\n",
    "\n",
    "def main():\n",
    "    number_of_inputs = int(input().strip())\n",
    "\n",
    "    if number_of_inputs % 2 != 0:\n",
    "        print(\"Weird\")\n",
    "    else:\n",
    "        if 2 <= number_of_inputs <= 5:\n",
    "            print(\"Not Weird\")\n",
    "        elif 6 <= number_of_inputs <= 20:\n",
    "            print(\"Weird\")\n",
    "        else:\n",
    "            print(\"Not Weird\")\n",
    "            \n",
    "\n",
    "if __name__ == \"__main__\":\n",
    "    main()"
   ]
  },
  {
   "cell_type": "code",
   "execution_count": 94,
   "id": "93e34b96",
   "metadata": {},
   "outputs": [
    {
     "name": "stdout",
     "output_type": "stream",
     "text": [
      "Not Weird\n"
     ]
    }
   ],
   "source": [
    "import sys\n",
    "\n",
    "def main():\n",
    "    number_of_inputs = int(input())\n",
    "    \n",
    "    if number_of_inputs % 2 != 0:\n",
    "        print(\"Weird\")\n",
    "    else:\n",
    "        if 2 <= number_of_inputs <= 5:\n",
    "            print(\"Not Weird\")\n",
    "        elif 6 <= number_of_inputs <= 20:\n",
    "            print(\"Weird\")\n",
    "        else:\n",
    "            print(\"Not Weird\")\n",
    "\n",
    "if __name__ == \"__main__\":\n",
    "    main()"
   ]
  },
  {
   "cell_type": "markdown",
   "id": "cfef9e8b",
   "metadata": {},
   "source": [
    "Built-in Data Types\n",
    "In programming, data type is an important concept.\n",
    "\n",
    "Variables can store data of different types, and different types can do different things.\n",
    "\n",
    "Python has the following data types built-in by default, in these categories:\n",
    "\n",
    "Text Type:\tstr\n",
    "Numeric Types:\tint, float, complex\n",
    "Sequence Types:\tlist, tuple, range\n",
    "Mapping Type:\tdict\n",
    "Set Types:\tset, frozenset\n",
    "Boolean Type:\tbool\n",
    "Binary Types:\tbytes, bytearray, memoryview\n",
    "None Type:\tNoneType"
   ]
  },
  {
   "cell_type": "code",
   "execution_count": 6,
   "id": "d101042c",
   "metadata": {},
   "outputs": [
    {
     "name": "stdout",
     "output_type": "stream",
     "text": [
      "<class 'int'>\n",
      "True\n",
      "Hello World\n",
      "20\n",
      "20.5\n",
      "1j\n",
      "['apple', 'banana', 'cherry']\n",
      "('apple', 'banana', 'cherry')\n",
      "range(0, 6)\n",
      "{'name': 'John', 'age': 36}\n",
      "{'cherry', 'apple', 'banana'}\n",
      "frozenset({'cherry', 'apple', 'banana'})\n",
      "True\n",
      "b'Hello'\n",
      "bytearray(b'\\x00\\x00\\x00\\x00\\x00')\n",
      "<memory at 0x00000252B73E2140>\n",
      "None\n",
      "<class 'NoneType'>\n"
     ]
    }
   ],
   "source": [
    "x = 5\n",
    "print(type(x))\n",
    "print(isinstance(x, int))\n",
    "\n",
    "x = \"Hello World\"\t\n",
    "print(x)\n",
    "\n",
    "x = 20\t\n",
    "print(x)\n",
    "\n",
    "x = 20.5\n",
    "print(x)\t\n",
    "\t\n",
    "x = 1j\t\n",
    "print(x)\n",
    "\t\n",
    "x = [\"apple\", \"banana\", \"cherry\"]\t\n",
    "print(x)\t\n",
    "\n",
    "x = (\"apple\", \"banana\", \"cherry\")\t\n",
    "print(x)\n",
    "\t\n",
    "x = range(6)\t\t\n",
    "print(x)\n",
    "\n",
    "x = {\"name\" : \"John\", \"age\" : 36}\t\n",
    "print(x)\n",
    "\t\n",
    "x = {\"apple\", \"banana\", \"cherry\"}\t\n",
    "print(x)\n",
    "\t\n",
    "x = frozenset({\"apple\", \"banana\", \"cherry\"})\n",
    "print(x)\t\n",
    "\t\n",
    "x = True\t\n",
    "print(x)\n",
    "\n",
    "x = b\"Hello\"\n",
    "print(x)\t\n",
    "\t\n",
    "x = bytearray(5)\t\n",
    "print(x)\t\n",
    "\n",
    "x = memoryview(bytes(5))\n",
    "print(x)\n",
    "\t\t\n",
    "x = None\n",
    "print(x)\n",
    "print(type(x))"
   ]
  },
  {
   "cell_type": "code",
   "execution_count": 100,
   "id": "c219cedf",
   "metadata": {},
   "outputs": [
    {
     "name": "stdout",
     "output_type": "stream",
     "text": [
      "Hello World\n",
      "20\n",
      "20.5\n",
      "1j\n",
      "['apple', 'banana', 'cherry']\n",
      "('apple', 'banana', 'cherry')\n",
      "range(0, 6)\n",
      "{'name': 'John', 'age': 36}\n",
      "{'banana', 'cherry', 'apple'}\n",
      "frozenset({'banana', 'cherry', 'apple'})\n",
      "True\n",
      "b'\\x00\\x00\\x00\\x00\\x00'\n",
      "bytearray(b'\\x00\\x00\\x00\\x00\\x00')\n",
      "<memory at 0x0000022C3F3B0040>\n"
     ]
    }
   ],
   "source": [
    "x = str(\"Hello World\")\t\n",
    "print(x)\n",
    "\n",
    "x = int(20)\n",
    "print(x)\n",
    "\t\n",
    "x = float(20.5)\t\n",
    "print(x)\t\n",
    "\n",
    "x = complex(1j)\t\n",
    "print(x)\n",
    "\n",
    "x = list((\"apple\", \"banana\", \"cherry\"))\t\n",
    "print(x)\t\n",
    "\n",
    "x = tuple((\"apple\", \"banana\", \"cherry\"))\n",
    "print(x)\n",
    "\n",
    "x = range(6)\t\n",
    "print(x)\t\n",
    "\n",
    "x = dict(name=\"John\", age=36)\t\n",
    "print(x)\t\n",
    "\n",
    "x = set((\"apple\", \"banana\", \"cherry\"))\t\n",
    "print(x)\n",
    "\n",
    "x = frozenset((\"apple\", \"banana\", \"cherry\"))\n",
    "print(x)\n",
    "\t\n",
    "x = bool(5)\t\n",
    "print(x)\n",
    "\n",
    "x = bytes(5)\n",
    "print(x)\t\n",
    "\n",
    "x = bytearray(5)\t\n",
    "print(x)\t\n",
    "\n",
    "x = memoryview(bytes(5))\t\n",
    "print(x)"
   ]
  },
  {
   "cell_type": "code",
   "execution_count": 4,
   "id": "28280701",
   "metadata": {},
   "outputs": [
    {
     "name": "stdout",
     "output_type": "stream",
     "text": [
      "<class 'int'>\n",
      "<class 'int'>\n",
      "<class 'int'>\n",
      "instance(x, int)\n",
      "<class 'float'>\n",
      "<class 'float'>\n",
      "<class 'float'>\n",
      "<class 'float'>\n",
      "<class 'float'>\n",
      "<class 'float'>\n",
      "<class 'complex'>\n",
      "<class 'complex'>\n",
      "<class 'complex'>\n"
     ]
    }
   ],
   "source": [
    "x = 1\n",
    "y = 35656222554887711\n",
    "z = -3255522\n",
    "\n",
    "print(type(x))\n",
    "print(type(y))\n",
    "print(type(z))\n",
    "\n",
    "print('instance(x, int)')\n",
    "\n",
    "x = 1.10\n",
    "y = 1.0\n",
    "z = -35.59\n",
    "\n",
    "print(type(x))\n",
    "print(type(y))\n",
    "print(type(z))\n",
    "\n",
    "x = 35e3\n",
    "y = 12E4\n",
    "z = -87.7e100\n",
    "\n",
    "print(type(x))\n",
    "print(type(y))\n",
    "print(type(z))\n",
    "\n",
    "x = 3+5j\n",
    "y = 5j\n",
    "z = -5j\n",
    "\n",
    "print(type(x))\n",
    "print(type(y))\n",
    "print(type(z))"
   ]
  },
  {
   "cell_type": "code",
   "execution_count": 105,
   "id": "544d06ac",
   "metadata": {},
   "outputs": [
    {
     "name": "stdout",
     "output_type": "stream",
     "text": [
      "1.0\n",
      "2\n",
      "(1+0j)\n",
      "<class 'float'>\n",
      "<class 'int'>\n",
      "<class 'complex'>\n"
     ]
    }
   ],
   "source": [
    "x = 1    # int\n",
    "y = 2.8  # float\n",
    "z = 1j   # complex\n",
    "\n",
    "#convert from int to float:\n",
    "a = float(x)\n",
    "\n",
    "#convert from float to int:\n",
    "b = int(y)\n",
    "\n",
    "#convert from int to complex:\n",
    "c = complex(x)\n",
    "\n",
    "print(a)\n",
    "print(b)\n",
    "print(c)\n",
    "\n",
    "print(type(a))\n",
    "print(type(b))\n",
    "print(type(c))"
   ]
  },
  {
   "cell_type": "code",
   "execution_count": 5,
   "id": "d9afe444",
   "metadata": {},
   "outputs": [
    {
     "name": "stdout",
     "output_type": "stream",
     "text": [
      "3\n"
     ]
    }
   ],
   "source": [
    "import random\n",
    "\n",
    "print(random.randrange(1, 10))"
   ]
  },
  {
   "cell_type": "code",
   "execution_count": 10,
   "id": "7bf797a0",
   "metadata": {},
   "outputs": [
    {
     "name": "stdout",
     "output_type": "stream",
     "text": [
      "1\n",
      "2.8\n",
      "1j\n",
      "1.0\n",
      "2\n",
      "(1+0j)\n"
     ]
    }
   ],
   "source": [
    "x = 1    # int\n",
    "y = 2.8  # float\n",
    "z = 1j   # complex\n",
    "\n",
    "\n",
    "print(x)\n",
    "print(y)\n",
    "print(z)\n",
    "\n",
    "#convert from int to float:\n",
    "a = float(x)\n",
    "print(a)\n",
    "\n",
    "#convert from float to int:\n",
    "b = int(y)\n",
    "print(b)\n",
    "\n",
    "#convert from int to complex:\n",
    "c = complex(x)\n",
    "print(c)"
   ]
  },
  {
   "cell_type": "code",
   "execution_count": 11,
   "id": "2b6304a1",
   "metadata": {},
   "outputs": [
    {
     "name": "stdout",
     "output_type": "stream",
     "text": [
      "24\n"
     ]
    }
   ],
   "source": [
    "def factorial(n):\n",
    "    # Base cases: factorial of 0 and 1 is 1\n",
    "    if n == 0 or n == 1:\n",
    "        return 1\n",
    "    # Calculate factorial by multiplying numbers from 1 to n\n",
    "    result = 1\n",
    "    for i in range(1, n + 1):\n",
    "        result *= i\n",
    "    return result\n",
    "\n",
    "# Read input\n",
    "n = int(input())\n",
    "\n",
    "# Calculate and print factorial\n",
    "print(factorial(n))"
   ]
  }
 ],
 "metadata": {
  "kernelspec": {
   "display_name": "Python 3",
   "language": "python",
   "name": "python3"
  },
  "language_info": {
   "codemirror_mode": {
    "name": "ipython",
    "version": 3
   },
   "file_extension": ".py",
   "mimetype": "text/x-python",
   "name": "python",
   "nbconvert_exporter": "python",
   "pygments_lexer": "ipython3",
   "version": "3.12.4"
  }
 },
 "nbformat": 4,
 "nbformat_minor": 5
}
