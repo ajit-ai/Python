{
 "cells": [
  {
   "cell_type": "code",
   "execution_count": 1,
   "id": "c0ca5b87",
   "metadata": {},
   "outputs": [
    {
     "data": {
      "text/plain": [
       "dict_items([('banana', '$10.00'), ('cheese', False), ('optimus', 'Truck')])"
      ]
     },
     "execution_count": 1,
     "metadata": {},
     "output_type": "execute_result"
    }
   ],
   "source": [
    "# Dictionaries are a key-value object in Python.\n",
    "# Like sets, you create them using { and }, but unlike sets, they must be\n",
    "# created as key-value pairs using the : symbol.\n",
    "# The values used can be any object.\n",
    "my_dictionary = {'banana': '$10.00', 'cheese': True}\n",
    "\n",
    "# Access items like with lists, except keys are usually strings.\n",
    "my_dictionary['banana']  # returns the string '$10.00'\n",
    "my_dictionary['cheese']  # returns True\n",
    "\n",
    "# If accessing a key that doesn't exist using [ ], Python raises a KeyError.\n",
    "# e.g. my_dictionary['optimus'] will raise a KeyError.\n",
    "\n",
    "# Adding new items.\n",
    "my_dictionary['optimus'] = 'Truck'\n",
    "\n",
    "# Changing existing items.\n",
    "my_dictionary['cheese'] = False\n",
    "\n",
    "# Get all the keys. (used for looping/iterating later on)\n",
    "my_dictionary.keys()\n",
    "\n",
    "# Get all the values.\n",
    "my_dictionary.values()\n",
    "\n",
    "# Get all the items (key-value pairs)\n",
    "my_dictionary.items()\n",
    "\n",
    "# See help(dict) for other methods."
   ]
  }
 ],
 "metadata": {
  "kernelspec": {
   "display_name": "Python 3",
   "language": "python",
   "name": "python3"
  },
  "language_info": {
   "codemirror_mode": {
    "name": "ipython",
    "version": 3
   },
   "file_extension": ".py",
   "mimetype": "text/x-python",
   "name": "python",
   "nbconvert_exporter": "python",
   "pygments_lexer": "ipython3",
   "version": "3.12.4"
  }
 },
 "nbformat": 4,
 "nbformat_minor": 5
}
