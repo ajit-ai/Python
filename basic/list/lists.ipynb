{
 "cells": [
  {
   "cell_type": "code",
   "execution_count": 1,
   "id": "26e3bc4b",
   "metadata": {},
   "outputs": [
    {
     "name": "stdout",
     "output_type": "stream",
     "text": [
      "['apple', 'banana', 'cherry']\n"
     ]
    }
   ],
   "source": [
    "thislist = [\"apple\", \"banana\", \"cherry\"]\n",
    "print(thislist)"
   ]
  },
  {
   "cell_type": "code",
   "execution_count": 2,
   "id": "6bdf1ff1",
   "metadata": {},
   "outputs": [
    {
     "name": "stdout",
     "output_type": "stream",
     "text": [
      "['apple', 'banana', 'cherry']\n",
      "[1, 5, 7, 9, 3]\n",
      "[True, False, False]\n"
     ]
    }
   ],
   "source": [
    "list1 = [\"apple\", \"banana\", \"cherry\"]\n",
    "list2 = [1, 5, 7, 9, 3]\n",
    "list3 = [True, False, False]\n",
    "\n",
    "print(list1)\n",
    "print(list2)\n",
    "print(list3)"
   ]
  },
  {
   "cell_type": "code",
   "execution_count": 3,
   "id": "3a1deb8d",
   "metadata": {},
   "outputs": [
    {
     "name": "stdout",
     "output_type": "stream",
     "text": [
      "['abc', 34, True, 40, 'male']\n"
     ]
    }
   ],
   "source": [
    "list1 = [\"abc\", 34, True, 40, \"male\"]\n",
    "print(list1)"
   ]
  },
  {
   "cell_type": "code",
   "execution_count": 4,
   "id": "cbf98edc",
   "metadata": {},
   "outputs": [
    {
     "name": "stdout",
     "output_type": "stream",
     "text": [
      "<class 'list'>\n"
     ]
    }
   ],
   "source": [
    "mylist = [\"apple\", \"banana\", \"cherry\"]\n",
    "print(type(mylist))"
   ]
  },
  {
   "cell_type": "code",
   "execution_count": 5,
   "id": "1c2c2c3c",
   "metadata": {},
   "outputs": [
    {
     "name": "stdout",
     "output_type": "stream",
     "text": [
      "['apple', 'banana', 'cherry']\n"
     ]
    }
   ],
   "source": [
    "thislist = list((\"apple\", \"banana\", \"cherry\")) # note the double round-brackets\n",
    "print(thislist)"
   ]
  },
  {
   "cell_type": "code",
   "execution_count": 6,
   "id": "da657b24",
   "metadata": {},
   "outputs": [
    {
     "name": "stdout",
     "output_type": "stream",
     "text": [
      "banana\n"
     ]
    }
   ],
   "source": [
    "thislist = [\"apple\", \"banana\", \"cherry\"]\n",
    "print(thislist[1])"
   ]
  },
  {
   "cell_type": "code",
   "execution_count": 7,
   "id": "6a9699fe",
   "metadata": {},
   "outputs": [
    {
     "name": "stdout",
     "output_type": "stream",
     "text": [
      "cherry\n"
     ]
    }
   ],
   "source": [
    "thislist = [\"apple\", \"banana\", \"cherry\"]\n",
    "print(thislist[-1])"
   ]
  },
  {
   "cell_type": "code",
   "execution_count": 9,
   "id": "5bc57dcb",
   "metadata": {},
   "outputs": [
    {
     "name": "stdout",
     "output_type": "stream",
     "text": [
      "['cherry', 'orange', 'kiwi']\n"
     ]
    }
   ],
   "source": [
    "thislist = [\"apple\", \"banana\", \"cherry\", \"orange\", \"kiwi\", \"melon\", \"mango\"]\n",
    "print(thislist[2:5])"
   ]
  },
  {
   "cell_type": "code",
   "execution_count": 10,
   "id": "5838aead",
   "metadata": {},
   "outputs": [
    {
     "name": "stdout",
     "output_type": "stream",
     "text": [
      "['apple', 'banana', 'cherry', 'orange']\n"
     ]
    }
   ],
   "source": [
    "thislist = [\"apple\", \"banana\", \"cherry\", \"orange\", \"kiwi\", \"melon\", \"mango\"]\n",
    "print(thislist[:4])"
   ]
  },
  {
   "cell_type": "code",
   "execution_count": 11,
   "id": "7459cd61",
   "metadata": {},
   "outputs": [
    {
     "name": "stdout",
     "output_type": "stream",
     "text": [
      "['cherry', 'orange', 'kiwi', 'melon', 'mango']\n"
     ]
    }
   ],
   "source": [
    "thislist = [\"apple\", \"banana\", \"cherry\", \"orange\", \"kiwi\", \"melon\", \"mango\"]\n",
    "print(thislist[2:])"
   ]
  },
  {
   "cell_type": "code",
   "execution_count": 12,
   "id": "4a65b4f6",
   "metadata": {},
   "outputs": [
    {
     "name": "stdout",
     "output_type": "stream",
     "text": [
      "More\n"
     ]
    }
   ],
   "source": [
    "x = int(input(\"Please enter an integer: \"))\n",
    "\n",
    "if x < 0:\n",
    "    x = 0\n",
    "    print('Negative changed to zero')\n",
    "elif x == 0:\n",
    "    print('Zero')\n",
    "elif x == 1:\n",
    "    print('Single')\n",
    "else:\n",
    "    print('More')"
   ]
  },
  {
   "cell_type": "code",
   "execution_count": 5,
   "id": "3cff31d0",
   "metadata": {},
   "outputs": [],
   "source": [
    "\n",
    "# Unlike arrays in most other languages, Python lists can store data of any type.\n",
    "\n",
    "# Create a list with [ and ]\n",
    "my_list = [1, 2, \"this is a list\", 4.56, True]\n",
    "\n",
    "# Lists have the following methods:\n",
    "# append, clear, copy, count, extend, index, insert, pop, remove, reverse, sort\n",
    "\n",
    "# Accessing an item in a list using index, same as tuples.\n",
    "my_list[2]  # displays \"this is a list\"\n",
    "\n",
    "# Appending an item (only 1 item can be appended at a time).\n",
    "my_list.append(123)  # Appends 123 on to the end of the list.\n",
    "\n",
    "# Insert an item at a particular index.\n",
    "my_list.insert(0, 'hello')  # inserts 'hello' at the beginning (index 0) of list.\n",
    "my_list.insert(2, 'blahblah')  # inserts 'blahblah' at index 2.\n",
    "\n",
    "# \"pop\" an item from a list, which accesses an item and removes it.\n",
    "# defaults to end of list if no index is given as an argument.\n",
    "my_list.pop()  # removes last item from the list\n",
    "my_list.pop(2)  # gets and removes item at index 2\n",
    "\n",
    "# \"remove\" differs from pop. pop uses an index. remove searches for the value and removes the first instance of it.\n",
    "my_list.remove(\"hello\")  # searches for \"hello\" and removes 1st instance if found.\n",
    "\n",
    "# Reverse the list (changes the actual list \"in place\").\n",
    "my_list.reverse()\n",
    "\n",
    "# Sort the list in ascending orde r. Advanced sorting can control how it'ssorted.\n",
    "# my_list.sort()\n",
    "\n",
    "# Copy the list. Returns a \"shallow copy\". Read more about what this means later.\n",
    "my_list2 = my_list.copy()\n",
    "\n",
    "# Count the number of occurrences of a value.\n",
    "my_list.count(\"hello\")\n",
    "\n",
    "# Extend the list, aka add multiple items at a time.\n",
    "my_list.extend([\"x\", 102, False])\n",
    "\n",
    "# Return the first index of a value. (without changing the list)\n",
    "# my_list.index(\"hello\")  # You can also tell it where to start/stop searching.\n",
    "\n",
    "# Clear the list.\n",
    "my_list.clear()"
   ]
  }
 ],
 "metadata": {
  "kernelspec": {
   "display_name": "Python 3",
   "language": "python",
   "name": "python3"
  },
  "language_info": {
   "codemirror_mode": {
    "name": "ipython",
    "version": 3
   },
   "file_extension": ".py",
   "mimetype": "text/x-python",
   "name": "python",
   "nbconvert_exporter": "python",
   "pygments_lexer": "ipython3",
   "version": "3.12.4"
  }
 },
 "nbformat": 4,
 "nbformat_minor": 5
}
