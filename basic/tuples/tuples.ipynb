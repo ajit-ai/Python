{
 "cells": [
  {
   "cell_type": "code",
   "execution_count": 6,
   "id": "6745ed56",
   "metadata": {},
   "outputs": [
    {
     "name": "stdout",
     "output_type": "stream",
     "text": [
      "('A', 'B', 'C')\n"
     ]
    }
   ],
   "source": [
    "tuples = (\"A\", \"B\", \"C\")\n",
    "print(tuples)"
   ]
  },
  {
   "cell_type": "code",
   "execution_count": 7,
   "id": "cbcf5886",
   "metadata": {},
   "outputs": [
    {
     "name": "stdout",
     "output_type": "stream",
     "text": [
      "('A', 'B', 'C', 'D', 'E', 'B')\n"
     ]
    }
   ],
   "source": [
    "tuples = (\"A\", \"B\", \"C\",\"D\", \"E\",\"B\")\n",
    "print(tuples)"
   ]
  },
  {
   "cell_type": "code",
   "execution_count": 8,
   "id": "375dda3c",
   "metadata": {},
   "outputs": [
    {
     "name": "stdout",
     "output_type": "stream",
     "text": [
      "6\n"
     ]
    }
   ],
   "source": [
    "tuples = (\"A\", \"B\", \"C\",\"D\", \"E\",\"B\")\n",
    "print(len(tuples))"
   ]
  },
  {
   "cell_type": "code",
   "execution_count": 11,
   "id": "3425e368",
   "metadata": {},
   "outputs": [
    {
     "name": "stdout",
     "output_type": "stream",
     "text": [
      "('A', 'B', 'C', 'D', 'E', 'B')\n"
     ]
    }
   ],
   "source": [
    "tuples = (\"A\", \"B\", \"C\",\"D\", \"E\",\"B\",)\n",
    "print(tuples)"
   ]
  },
  {
   "cell_type": "code",
   "execution_count": 12,
   "id": "14021845",
   "metadata": {},
   "outputs": [
    {
     "name": "stdout",
     "output_type": "stream",
     "text": [
      "A\n"
     ]
    }
   ],
   "source": [
    "tuples = (\"A\")\n",
    "print(tuples)"
   ]
  },
  {
   "cell_type": "code",
   "execution_count": 3,
   "id": "ff42609f",
   "metadata": {},
   "outputs": [
    {
     "name": "stdout",
     "output_type": "stream",
     "text": [
      "D\n"
     ]
    }
   ],
   "source": [
    "tuples = (\"A\", \"B\", \"C\",\"D\", \"E\",\"B\",)\n",
    "print(tuples[-3])"
   ]
  }
 ],
 "metadata": {
  "kernelspec": {
   "display_name": "Python 3",
   "language": "python",
   "name": "python3"
  },
  "language_info": {
   "codemirror_mode": {
    "name": "ipython",
    "version": 3
   },
   "file_extension": ".py",
   "mimetype": "text/x-python",
   "name": "python",
   "nbconvert_exporter": "python",
   "pygments_lexer": "ipython3",
   "version": "3.12.4"
  }
 },
 "nbformat": 4,
 "nbformat_minor": 5
}
