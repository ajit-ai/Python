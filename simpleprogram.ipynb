{
 "cells": [
  {
   "cell_type": "code",
   "execution_count": 1,
   "id": "5c068429",
   "metadata": {},
   "outputs": [
    {
     "name": "stdout",
     "output_type": "stream",
     "text": [
      "5 is an odd number.\n"
     ]
    }
   ],
   "source": [
    "n = int(input(\"Enter a number: \"))\n",
    " \n",
    "if n % 2 == 0:\n",
    "    print(n, \"is an even number.\")\n",
    "else:\n",
    "    print(n, \"is an odd number.\")"
   ]
  },
  {
   "cell_type": "code",
   "execution_count": 1,
   "id": "6a2dd532",
   "metadata": {},
   "outputs": [
    {
     "name": "stdout",
     "output_type": "stream",
     "text": [
      "30\n"
     ]
    }
   ],
   "source": [
    "def sum_of_squares(arr):\n",
    "    result = 0\n",
    "    for num in arr:\n",
    "        result += num * num\n",
    "    return result\n",
    "\n",
    "# Example usage\n",
    "arr = [1, 2, 3, 4]\n",
    "print(sum_of_squares(arr))  # Output: 30 (1^2 + 2^2 + 3^2 + 4^2 = 1 + 4 + 9 + 16 = 30)"
   ]
  },
  {
   "cell_type": "code",
   "execution_count": 2,
   "id": "a7f13a3c",
   "metadata": {},
   "outputs": [
    {
     "name": "stdout",
     "output_type": "stream",
     "text": [
      "[(4, 3), (2, 5)]\n"
     ]
    }
   ],
   "source": [
    "def find_pairs_with_sum(arr, target):\n",
    "    pairs = []\n",
    "    n = len(arr)\n",
    "    for i in range(n):\n",
    "        for j in range(i + 1, n):\n",
    "            if arr[i] + arr[j] == target:\n",
    "                pairs.append((arr[i], arr[j]))\n",
    "    return pairs\n",
    "\n",
    "# Example usage\n",
    "arr = [1, 4, 2, 3, 5]\n",
    "target = 7\n",
    "print(find_pairs_with_sum(arr, target))  # Output: [(4, 3), (2, 5)]"
   ]
  },
  {
   "cell_type": "code",
   "execution_count": 6,
   "id": "7db42f6e",
   "metadata": {},
   "outputs": [
    {
     "name": "stdout",
     "output_type": "stream",
     "text": [
      "0\n"
     ]
    }
   ],
   "source": [
    "def min_steps_to_equal(n, A, B):\n",
    "    # Initialize result to store minimum steps\n",
    "    steps = 0\n",
    "    \n",
    "    # Continue until we can't make any more changes\n",
    "    while True:\n",
    "        # Flag to check if any changes were made in this iteration\n",
    "        changed = False\n",
    "        \n",
    "        # Check each position\n",
    "        for i in range(1, n):\n",
    "            # If current element is greater than previous element\n",
    "            # and B allows this operation (B[i] = 0)\n",
    "            if A[i] > A[i-1] and B[i] == 0:\n",
    "                # Set current element equal to previous element\n",
    "                A[i] = A[i-1]\n",
    "                changed = True\n",
    "                steps += 1\n",
    "        \n",
    "        # If no changes were made in this iteration, we're done\n",
    "        if not changed:\n",
    "            break\n",
    "    \n",
    "    # Check if all elements are equal\n",
    "    if all(x == A[0] for x in A):\n",
    "        return steps\n",
    "    else:\n",
    "        return -1  # Impossible to make all elements equal\n",
    "\n",
    "# Read input\n",
    "n = int(input())\n",
    "A = list(map(int, input().split()))\n",
    "B = list(map(int, input().split()))\n",
    "\n",
    "# Print result\n",
    "print(min_steps_to_equal(n, A, B))"
   ]
  },
  {
   "cell_type": "code",
   "execution_count": 5,
   "id": "62034f95",
   "metadata": {},
   "outputs": [
    {
     "name": "stdout",
     "output_type": "stream",
     "text": [
      "120\n"
     ]
    }
   ],
   "source": [
    "def factorial(n):\n",
    "    # Base cases: factorial of 0 and 1 is 1\n",
    "    if n == 0 or n == 1:\n",
    "        return 1\n",
    "    # Calculate factorial by multiplying numbers from 1 to n\n",
    "    result = 1\n",
    "    for i in range(1, n + 1):\n",
    "        result *= i\n",
    "    return result\n",
    "\n",
    "# Read input\n",
    "n = int(input())\n",
    "\n",
    "# Calculate and print factorial\n",
    "print(factorial(n))"
   ]
  },
  {
   "cell_type": "code",
   "execution_count": 4,
   "id": "92f13db2",
   "metadata": {},
   "outputs": [
    {
     "name": "stdout",
     "output_type": "stream",
     "text": [
      "No\n"
     ]
    }
   ],
   "source": [
    "# Read input\n",
    "n = int(input())\n",
    "arr = list(map(int, input().split()))\n",
    "\n",
    "# Get last digit of each number\n",
    "last_digits = [num % 10 for num in arr]\n",
    "\n",
    "# Form the number by concatenating last digits\n",
    "num_str = ''.join(map(str, last_digits))\n",
    "number = int(num_str)\n",
    "\n",
    "# Check if the number is divisible by 10\n",
    "if number % 10 == 0:\n",
    "    print(\"Yes\")\n",
    "else:\n",
    "    print(\"No\")"
   ]
  }
 ],
 "metadata": {
  "kernelspec": {
   "display_name": "Python 3",
   "language": "python",
   "name": "python3"
  },
  "language_info": {
   "codemirror_mode": {
    "name": "ipython",
    "version": 3
   },
   "file_extension": ".py",
   "mimetype": "text/x-python",
   "name": "python",
   "nbconvert_exporter": "python",
   "pygments_lexer": "ipython3",
   "version": "3.12.4"
  }
 },
 "nbformat": 4,
 "nbformat_minor": 5
}
