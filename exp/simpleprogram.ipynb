{
 "cells": [
  {
   "cell_type": "code",
   "execution_count": 1,
   "id": "5c068429",
   "metadata": {},
   "outputs": [
    {
     "name": "stdout",
     "output_type": "stream",
     "text": [
      "5 is an odd number.\n"
     ]
    }
   ],
   "source": [
    "n = int(input(\"Enter a number: \"))\n",
    " \n",
    "if n % 2 == 0:\n",
    "    print(n, \"is an even number.\")\n",
    "else:\n",
    "    print(n, \"is an odd number.\")"
   ]
  },
  {
   "cell_type": "code",
   "execution_count": 1,
   "id": "6a2dd532",
   "metadata": {},
   "outputs": [
    {
     "name": "stdout",
     "output_type": "stream",
     "text": [
      "30\n"
     ]
    }
   ],
   "source": [
    "def sum_of_squares(arr):\n",
    "    result = 0\n",
    "    for num in arr:\n",
    "        result += num * num\n",
    "    return result\n",
    "\n",
    "# Example usage\n",
    "arr = [1, 2, 3, 4]\n",
    "print(sum_of_squares(arr))  # Output: 30 (1^2 + 2^2 + 3^2 + 4^2 = 1 + 4 + 9 + 16 = 30)"
   ]
  },
  {
   "cell_type": "code",
   "execution_count": 2,
   "id": "a7f13a3c",
   "metadata": {},
   "outputs": [
    {
     "name": "stdout",
     "output_type": "stream",
     "text": [
      "[(4, 3), (2, 5)]\n"
     ]
    }
   ],
   "source": [
    "def find_pairs_with_sum(arr, target):\n",
    "    pairs = []\n",
    "    n = len(arr)\n",
    "    for i in range(n):\n",
    "        for j in range(i + 1, n):\n",
    "            if arr[i] + arr[j] == target:\n",
    "                pairs.append((arr[i], arr[j]))\n",
    "    return pairs\n",
    "\n",
    "# Example usage\n",
    "arr = [1, 4, 2, 3, 5]\n",
    "target = 7\n",
    "print(find_pairs_with_sum(arr, target))  # Output: [(4, 3), (2, 5)]"
   ]
  },
  {
   "cell_type": "code",
   "execution_count": 6,
   "id": "7db42f6e",
   "metadata": {},
   "outputs": [
    {
     "name": "stdout",
     "output_type": "stream",
     "text": [
      "0\n"
     ]
    }
   ],
   "source": [
    "def min_steps_to_equal(n, A, B):\n",
    "    # Initialize result to store minimum steps\n",
    "    steps = 0\n",
    "    \n",
    "    # Continue until we can't make any more changes\n",
    "    while True:\n",
    "        # Flag to check if any changes were made in this iteration\n",
    "        changed = False\n",
    "        \n",
    "        # Check each position\n",
    "        for i in range(1, n):\n",
    "            # If current element is greater than previous element\n",
    "            # and B allows this operation (B[i] = 0)\n",
    "            if A[i] > A[i-1] and B[i] == 0:\n",
    "                # Set current element equal to previous element\n",
    "                A[i] = A[i-1]\n",
    "                changed = True\n",
    "                steps += 1\n",
    "        \n",
    "        # If no changes were made in this iteration, we're done\n",
    "        if not changed:\n",
    "            break\n",
    "    \n",
    "    # Check if all elements are equal\n",
    "    if all(x == A[0] for x in A):\n",
    "        return steps\n",
    "    else:\n",
    "        return -1  # Impossible to make all elements equal\n",
    "\n",
    "# Read input\n",
    "n = int(input())\n",
    "A = list(map(int, input().split()))\n",
    "B = list(map(int, input().split()))\n",
    "\n",
    "# Print result\n",
    "print(min_steps_to_equal(n, A, B))"
   ]
  },
  {
   "cell_type": "code",
   "execution_count": 5,
   "id": "62034f95",
   "metadata": {},
   "outputs": [
    {
     "name": "stdout",
     "output_type": "stream",
     "text": [
      "120\n"
     ]
    }
   ],
   "source": [
    "def factorial(n):\n",
    "    # Base cases: factorial of 0 and 1 is 1\n",
    "    if n == 0 or n == 1:\n",
    "        return 1\n",
    "    # Calculate factorial by multiplying numbers from 1 to n\n",
    "    result = 1\n",
    "    for i in range(1, n + 1):\n",
    "        result *= i\n",
    "    return result\n",
    "\n",
    "# Read input\n",
    "n = int(input())\n",
    "\n",
    "# Calculate and print factorial\n",
    "print(factorial(n))"
   ]
  },
  {
   "cell_type": "code",
   "execution_count": 4,
   "id": "92f13db2",
   "metadata": {},
   "outputs": [
    {
     "name": "stdout",
     "output_type": "stream",
     "text": [
      "No\n"
     ]
    }
   ],
   "source": [
    "# Read input\n",
    "n = int(input())\n",
    "arr = list(map(int, input().split()))\n",
    "\n",
    "# Get last digit of each number\n",
    "last_digits = [num % 10 for num in arr]\n",
    "\n",
    "# Form the number by concatenating last digits\n",
    "num_str = ''.join(map(str, last_digits))\n",
    "number = int(num_str)\n",
    "\n",
    "# Check if the number is divisible by 10\n",
    "if number % 10 == 0:\n",
    "    print(\"Yes\")\n",
    "else:\n",
    "    print(\"No\")"
   ]
  },
  {
   "cell_type": "code",
   "execution_count": 5,
   "id": "e06a324a",
   "metadata": {},
   "outputs": [
    {
     "ename": "SyntaxError",
     "evalue": "invalid syntax. Perhaps you forgot a comma? (565200944.py, line 8)",
     "output_type": "error",
     "traceback": [
      "\u001b[1;36m  Cell \u001b[1;32mIn[5], line 8\u001b[1;36m\u001b[0m\n\u001b[1;33m    host=\"127.0.0.1\", port = \"3306\" user=\"root\", passwd=\"mysql\", database=\"emp\"\u001b[0m\n\u001b[1;37m                             ^\u001b[0m\n\u001b[1;31mSyntaxError\u001b[0m\u001b[1;31m:\u001b[0m invalid syntax. Perhaps you forgot a comma?\n"
     ]
    }
   ],
   "source": [
    "%pip install mysql-connector-python\n",
    "\n",
    "import mysql.connector\n",
    "\n",
    "# MySQl databses details\n",
    "\n",
    "mydb = mysql.connector.connect(\n",
    "    host=\"127.0.0.1\", port = \"3306\" user=\"root\", passwd=\"mysql\", database=\"emp\"\n",
    ")\n",
    "mycursor = mydb.cursor()\n",
    "\n",
    "# Execute SQL Query =>>>> mycursor.execute(\"SQL Query\")\n",
    "mycursor.execute(\"SELECT column FROM authers\")\n",
    "\n",
    "myresult = mycursor.fetchall()\n",
    "\n",
    "for x in myresult:\n",
    "    print(x)\n"
   ]
  },
  {
   "cell_type": "code",
   "execution_count": 6,
   "id": "26d1a512",
   "metadata": {},
   "outputs": [
    {
     "name": "stdout",
     "output_type": "stream",
     "text": [
      "Error connecting to MySQL: Authentication plugin 'caching_sha2_password' is not supported\n"
     ]
    },
    {
     "ename": "NameError",
     "evalue": "name 'mycursor' is not defined",
     "output_type": "error",
     "traceback": [
      "\u001b[1;31m---------------------------------------------------------------------------\u001b[0m",
      "\u001b[1;31mNameError\u001b[0m                                 Traceback (most recent call last)",
      "Cell \u001b[1;32mIn[6], line 31\u001b[0m\n\u001b[0;32m     27\u001b[0m     \u001b[38;5;28mprint\u001b[39m(\u001b[38;5;124mf\u001b[39m\u001b[38;5;124m\"\u001b[39m\u001b[38;5;124mError connecting to MySQL: \u001b[39m\u001b[38;5;132;01m{\u001b[39;00me\u001b[38;5;132;01m}\u001b[39;00m\u001b[38;5;124m\"\u001b[39m)\n\u001b[0;32m     29\u001b[0m \u001b[38;5;28;01mfinally\u001b[39;00m:\n\u001b[0;32m     30\u001b[0m     \u001b[38;5;66;03m# Close cursor and connection\u001b[39;00m\n\u001b[1;32m---> 31\u001b[0m     \u001b[38;5;28;01mif\u001b[39;00m \u001b[43mmycursor\u001b[49m:\n\u001b[0;32m     32\u001b[0m         mycursor\u001b[38;5;241m.\u001b[39mclose()\n\u001b[0;32m     33\u001b[0m     \u001b[38;5;28;01mif\u001b[39;00m mydb\u001b[38;5;241m.\u001b[39mis_connected():\n",
      "\u001b[1;31mNameError\u001b[0m: name 'mycursor' is not defined"
     ]
    }
   ],
   "source": [
    "import mysql.connector\n",
    "from mysql.connector import Error\n",
    "\n",
    "# MySQL database connection details (use environment variables for security)\n",
    "db_config = {\n",
    "    \"host\": \"127.0.0.1\",\n",
    "    \"port\": \"3306\",\n",
    "    \"user\": \"root\",\n",
    "    \"password\": \"mysql\",  # Replace with your actual password or use os.environ\n",
    "    \"database\": \"emp\"\n",
    "}\n",
    "\n",
    "try:\n",
    "    # Connect to MySQL\n",
    "    mydb = mysql.connector.connect(**db_config)\n",
    "    mycursor = mydb.cursor()\n",
    "\n",
    "    # Execute SQL query (assuming the table is 'authors', not 'authers')\n",
    "    mycursor.execute(\"SELECT * FROM authors\")  # Replace '*' with specific columns if needed\n",
    "\n",
    "    # Fetch and print results\n",
    "    myresult = mycursor.fetchall()\n",
    "    for row in myresult:\n",
    "        print(row)\n",
    "\n",
    "except Error as e:\n",
    "    print(f\"Error connecting to MySQL: {e}\")\n",
    "\n",
    "finally:\n",
    "    # Close cursor and connection\n",
    "    if mycursor:\n",
    "        mycursor.close()\n",
    "    if mydb.is_connected():\n",
    "        mydb.close()\n",
    "        print(\"MySQL connection closed.\")"
   ]
  }
 ],
 "metadata": {
  "kernelspec": {
   "display_name": "Python 3",
   "language": "python",
   "name": "python3"
  },
  "language_info": {
   "codemirror_mode": {
    "name": "ipython",
    "version": 3
   },
   "file_extension": ".py",
   "mimetype": "text/x-python",
   "name": "python",
   "nbconvert_exporter": "python",
   "pygments_lexer": "ipython3",
   "version": "3.12.4"
  }
 },
 "nbformat": 4,
 "nbformat_minor": 5
}
