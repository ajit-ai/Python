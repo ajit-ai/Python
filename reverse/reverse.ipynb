{
 "cells": [
  {
   "cell_type": "code",
   "execution_count": 1,
   "id": "3a3029e4",
   "metadata": {},
   "outputs": [
    {
     "name": "stdout",
     "output_type": "stream",
     "text": [
      "[5, 4, 3, 2, 1]\n"
     ]
    }
   ],
   "source": [
    "my_list = [1, 2, 3, 4, 5]\n",
    "my_list.reverse()  # In-place reversal\n",
    "print(my_list)  # Output: [5, 4, 3, 2, 1]\n"
   ]
  },
  {
   "cell_type": "code",
   "execution_count": 2,
   "id": "bb1b17d3",
   "metadata": {},
   "outputs": [
    {
     "name": "stdout",
     "output_type": "stream",
     "text": [
      "[50, 40, 30, 20, 10]\n"
     ]
    }
   ],
   "source": [
    "my_list = [10, 20, 30, 40, 50]\n",
    "reversed_list = my_list[::-1]  # Reversing using slicing\n",
    "print(reversed_list)  # Output: [50, 40, 30, 20, 10]\n"
   ]
  },
  {
   "cell_type": "code",
   "execution_count": 3,
   "id": "c7554df2",
   "metadata": {},
   "outputs": [
    {
     "name": "stdout",
     "output_type": "stream",
     "text": [
      "[5, 4, 3, 2, 1]\n"
     ]
    }
   ],
   "source": [
    "my_list = [1, 2, 3, 4, 5]\n",
    "reversed_list = list(reversed(my_list))  # reversed() returns an iterator\n",
    "print(reversed_list)  \n"
   ]
  },
  {
   "cell_type": "code",
   "execution_count": 4,
   "id": "d6c5f209",
   "metadata": {},
   "outputs": [
    {
     "name": "stdout",
     "output_type": "stream",
     "text": [
      "[5, 4, 3, 2, 1]\n"
     ]
    }
   ],
   "source": [
    "my_list = [1, 2, 3, 4, 5]\n",
    "reversed_list = []\n",
    "for item in my_list:\n",
    "    reversed_list.insert(0, item)  # Inserts items at the beginning\n",
    "print(reversed_list)  \n"
   ]
  },
  {
   "cell_type": "code",
   "execution_count": 5,
   "id": "a102697e",
   "metadata": {},
   "outputs": [
    {
     "name": "stdout",
     "output_type": "stream",
     "text": [
      "[60, 45, 30, 15]\n"
     ]
    }
   ],
   "source": [
    "my_list = [15, 30, 45, 60]\n",
    "reversed_list = []\n",
    "index = len(my_list) - 1\n",
    "while index >= 0:\n",
    "    reversed_list .append(my_list[index])  # Append elements from the end\n",
    "    index -= 1\n",
    "print(reversed_list)  \n"
   ]
  },
  {
   "cell_type": "code",
   "execution_count": 6,
   "id": "ba97888d",
   "metadata": {},
   "outputs": [
    {
     "name": "stdout",
     "output_type": "stream",
     "text": [
      "[5, 4, 3, 2, 1]\n"
     ]
    }
   ],
   "source": [
    "my_list = [1, 2, 3, 4, 5]\n",
    "reversed_list = []\n",
    "while my_list :\n",
    "    reversed_list.append(my_list.pop())  # Remove the last item and append to new list\n",
    "print(reversed_list )\n"
   ]
  }
 ],
 "metadata": {
  "kernelspec": {
   "display_name": "Python 3",
   "language": "python",
   "name": "python3"
  },
  "language_info": {
   "codemirror_mode": {
    "name": "ipython",
    "version": 3
   },
   "file_extension": ".py",
   "mimetype": "text/x-python",
   "name": "python",
   "nbconvert_exporter": "python",
   "pygments_lexer": "ipython3",
   "version": "3.12.4"
  }
 },
 "nbformat": 4,
 "nbformat_minor": 5
}
