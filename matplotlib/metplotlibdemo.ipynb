# In Databricks Notebook or Jupyter
import pandas as pd
import matplotlib.pyplot as plt

# Sample telemetry data analysis
data = pd.DataFrame({'time': [1, 2, 3, 4], 'velocity': [100, 150, 200, 180]})
data.plot(x='time', y='velocity', title='Rocket Velocity')
plt.show()

# Export notebook as .ipynb or .py for GitHub
# In Databricks: File > Export > Source File (.py) or IPython Notebook (.ipynb)
# Commit to GitHub for open-source collaboration